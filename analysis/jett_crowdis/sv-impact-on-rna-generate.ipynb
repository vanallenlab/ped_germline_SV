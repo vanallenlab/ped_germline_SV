{
 "cells": [
  {
   "cell_type": "code",
   "execution_count": 2,
   "id": "f653cbc1-3ece-4e0d-8bfd-eaff2126d885",
   "metadata": {},
   "outputs": [],
   "source": [
    "import pandas as pd\n",
    "import numpy as np\n",
    "import scipy.stats as stats\n",
    "import glob\n",
    "\n",
    "from sklearn import decomposition\n",
    "from sklearn import preprocessing\n",
    "\n",
    "import warnings\n",
    "warnings.filterwarnings('ignore')"
   ]
  },
  {
   "cell_type": "markdown",
   "id": "12249b0a-d5b6-45b7-b8f1-e21c7579386a",
   "metadata": {},
   "source": [
    "# RNA SV Impact\n",
    "\n",
    "In this notebook, we explore the effect of SVs on expression. Rather than examine specifics right now, this notebook is dedicated to assessing the effect of _every_ SV on expression. Other notebooks will parse and examine specific questions."
   ]
  },
  {
   "cell_type": "markdown",
   "id": "05ab3a35-0f2c-48bb-af42-bcbe30e09da0",
   "metadata": {},
   "source": [
    "# Read in data"
   ]
  },
  {
   "cell_type": "code",
   "execution_count": 3,
   "id": "8f0dfff5-0eca-49b2-b2bb-c0a88ceabf3d",
   "metadata": {},
   "outputs": [],
   "source": [
    "# define SVs and dosages for discovery and validation\n",
    "sv_path = \"gs://vanallen-pedsv-analysis/beds/PedSV.v2.5.4.full_cohort.analysis_samples.sites.bed.gz\"\n",
    "dosages_path = \"gs://vanallen-pedsv-analysis/beds/PedSV.v2.5.4.full_cohort.analysis_samples.allele_dosages.bed.gz\"\n",
    "\n",
    "# define metadata\n",
    "metadata_path = \"gs://vanallen-pedsv-analysis/sample_info/PedSV.v2.5.4.cohort_metadata.w_control_assignments.tsv.gz\""
   ]
  },
  {
   "cell_type": "code",
   "execution_count": 4,
   "id": "2a049698-9917-4520-ad06-51ea7c39b4e3",
   "metadata": {},
   "outputs": [],
   "source": [
    "# list of genes that are annotated - drop ensembl IDs\n",
    "gene_ref_path = \"data/gencode_hg38_protein_coding_genes_for_annotation.txt\"\n",
    "gene_ref = pd.read_csv(gene_ref_path)\n",
    "gene_ref = gene_ref[~gene_ref['value'].str.startswith('ENSG00')]\n",
    "gene_ref = gene_ref['value'].tolist()"
   ]
  },
  {
   "cell_type": "markdown",
   "id": "8bfad1ed-0377-4af7-9624-1584bee9a350",
   "metadata": {},
   "source": [
    "Load metadata and SVs"
   ]
  },
  {
   "cell_type": "code",
   "execution_count": 5,
   "id": "706c7c8c-50ba-4fd0-a392-2aa7133562c1",
   "metadata": {},
   "outputs": [],
   "source": [
    "metadata = pd.read_csv(\n",
    "    metadata_path,\n",
    "    sep=\"\\t\",\n",
    ")\n",
    "\n",
    "# add a sex label to metadata\n",
    "metadata[\"sex\"] = (metadata[\"chrX_CopyNumber\"].round() < 2).astype(int)"
   ]
  },
  {
   "cell_type": "markdown",
   "id": "5e546527-062d-425a-b7f6-d699c1bbf687",
   "metadata": {},
   "source": [
    "First, we define the samples for GMKF neuroblastoma"
   ]
  },
  {
   "cell_type": "code",
   "execution_count": 6,
   "id": "6dffe222-97cd-4b5e-a946-f35c2280d15c",
   "metadata": {},
   "outputs": [],
   "source": [
    "cohort_samples = metadata.query('study == \"GMKF\" & neuroblastoma_case == 1')\n",
    "\n",
    "# get cases\n",
    "cohort_samples = cohort_samples['entity:sample_id'].tolist()"
   ]
  },
  {
   "cell_type": "code",
   "execution_count": 7,
   "id": "6eecbd03-6298-4fde-9776-cd591e51c024",
   "metadata": {},
   "outputs": [
    {
     "data": {
      "text/plain": [
       "276"
      ]
     },
     "execution_count": 7,
     "metadata": {},
     "output_type": "execute_result"
    }
   ],
   "source": [
    "len(cohort_samples)"
   ]
  },
  {
   "cell_type": "markdown",
   "id": "712f495b-c514-451d-980f-a339306c0768",
   "metadata": {},
   "source": [
    "Next we load the RNA data"
   ]
  },
  {
   "cell_type": "code",
   "execution_count": 8,
   "id": "51637ca9-a3d6-4162-9c24-f9c6480912ad",
   "metadata": {},
   "outputs": [],
   "source": [
    "rna_data = pd.read_csv('data/rna/gmkf_neuroblastoma_tpms.csv', index_col = 0)"
   ]
  },
  {
   "cell_type": "markdown",
   "id": "d08937fa-3d0f-4250-b134-366693d39b55",
   "metadata": {},
   "source": [
    "First, we determine how many samples overlap our SV dataset and the expression dataset"
   ]
  },
  {
   "cell_type": "code",
   "execution_count": 9,
   "id": "645cfe2d-bc72-4c3a-9a22-6d55b8848c54",
   "metadata": {},
   "outputs": [
    {
     "data": {
      "text/plain": [
       "89"
      ]
     },
     "execution_count": 9,
     "metadata": {},
     "output_type": "execute_result"
    }
   ],
   "source": [
    "samples = set(rna_data.columns)\n",
    "\n",
    "rna_samples = list(set(samples) & set(cohort_samples))\n",
    "len(rna_samples)\n",
    "# included_samples = metadata[(metadata['entity:sample_id'].isin(samples)) &\n",
    "#                             (metadata[f'{disease}_case'] == True)]['entity:sample_id'].tolist()\n",
    "\n",
    "# print(l, len(included_samples), len(data.columns))"
   ]
  },
  {
   "cell_type": "markdown",
   "id": "60bf3c97-df16-4aa3-838a-b5901a1309d5",
   "metadata": {},
   "source": [
    "So 89/688 cases have RNA (or 89 out of 276 GMKF samples)"
   ]
  },
  {
   "cell_type": "markdown",
   "id": "866f8de4-ff6c-4971-8a44-717508db7641",
   "metadata": {},
   "source": [
    "Now we load the SVs. We only keep SVs and dosages for samples in our 89 samples."
   ]
  },
  {
   "cell_type": "code",
   "execution_count": 10,
   "id": "51a5ae5b-27b3-497f-8025-19a7f5620e7b",
   "metadata": {},
   "outputs": [],
   "source": [
    "###############\n",
    "### Dosages ###\n",
    "###############\n",
    "\n",
    "# get the dosage columns first\n",
    "dosage_cols = pd.read_csv(\n",
    "    dosages_path,\n",
    "    sep=\"\\t\",\n",
    "    index_col=False,\n",
    "    nrows = 0\n",
    ")\n",
    "\n",
    "# read in the full data but only for the columns that we care about\n",
    "usecols = ['#chr', 'start', 'end', 'ID'] + [s for s in rna_samples if s in dosage_cols.columns]\n",
    "cohort_dosages = pd.read_csv(\n",
    "                    dosages_path,\n",
    "                    sep=\"\\t\",\n",
    "                    index_col=False,\n",
    "                    usecols = usecols\n",
    "                )\n",
    "\n",
    "# export\n",
    "cohort_dosages.to_csv(f'data/rna/dosages-for-sv-rna-analysis.csv', index = False)"
   ]
  },
  {
   "cell_type": "code",
   "execution_count": 11,
   "id": "cc8e9302-020c-47d7-b3ed-942ebec6b231",
   "metadata": {},
   "outputs": [
    {
     "data": {
      "text/html": [
       "<div>\n",
       "<style scoped>\n",
       "    .dataframe tbody tr th:only-of-type {\n",
       "        vertical-align: middle;\n",
       "    }\n",
       "\n",
       "    .dataframe tbody tr th {\n",
       "        vertical-align: top;\n",
       "    }\n",
       "\n",
       "    .dataframe thead th {\n",
       "        text-align: right;\n",
       "    }\n",
       "</style>\n",
       "<table border=\"1\" class=\"dataframe\">\n",
       "  <thead>\n",
       "    <tr style=\"text-align: right;\">\n",
       "      <th></th>\n",
       "      <th>#chr</th>\n",
       "      <th>start</th>\n",
       "      <th>end</th>\n",
       "      <th>ID</th>\n",
       "      <th>PT_1X6CJ589</th>\n",
       "      <th>PT_2QB9MP9J</th>\n",
       "      <th>PT_2RZN4HR2</th>\n",
       "      <th>PT_4Y3P2N1P</th>\n",
       "      <th>PT_5E269C8Z</th>\n",
       "      <th>PT_7APMD0HG</th>\n",
       "      <th>...</th>\n",
       "      <th>PT_D5BYDHZ9</th>\n",
       "      <th>PT_6DHGCDRP</th>\n",
       "      <th>PT_70BK6DFW</th>\n",
       "      <th>PT_7BAFX5PZ</th>\n",
       "      <th>PT_HZ4VWQP5</th>\n",
       "      <th>PT_SDPQ63J1</th>\n",
       "      <th>PT_K0BJPWY9</th>\n",
       "      <th>PT_9A9Q2YB3</th>\n",
       "      <th>PT_AGYJR7PZ</th>\n",
       "      <th>PT_26E4RFYV</th>\n",
       "    </tr>\n",
       "  </thead>\n",
       "  <tbody>\n",
       "    <tr>\n",
       "      <th>0</th>\n",
       "      <td>chr1</td>\n",
       "      <td>12001</td>\n",
       "      <td>30001</td>\n",
       "      <td>PedSV.2.5.2_CNV_chr1_1</td>\n",
       "      <td>0.0</td>\n",
       "      <td>0.0</td>\n",
       "      <td>1.0</td>\n",
       "      <td>1.0</td>\n",
       "      <td>0.0</td>\n",
       "      <td>0.0</td>\n",
       "      <td>...</td>\n",
       "      <td>2.0</td>\n",
       "      <td>2.0</td>\n",
       "      <td>1.0</td>\n",
       "      <td>0.0</td>\n",
       "      <td>1.0</td>\n",
       "      <td>0.0</td>\n",
       "      <td>1.0</td>\n",
       "      <td>3.0</td>\n",
       "      <td>1.0</td>\n",
       "      <td>2.0</td>\n",
       "    </tr>\n",
       "    <tr>\n",
       "      <th>1</th>\n",
       "      <td>chr1</td>\n",
       "      <td>12001</td>\n",
       "      <td>40001</td>\n",
       "      <td>PedSV.2.5.2_DUP_chr1_1</td>\n",
       "      <td>0.0</td>\n",
       "      <td>0.0</td>\n",
       "      <td>0.0</td>\n",
       "      <td>0.0</td>\n",
       "      <td>0.0</td>\n",
       "      <td>0.0</td>\n",
       "      <td>...</td>\n",
       "      <td>0.0</td>\n",
       "      <td>0.0</td>\n",
       "      <td>0.0</td>\n",
       "      <td>NaN</td>\n",
       "      <td>0.0</td>\n",
       "      <td>0.0</td>\n",
       "      <td>NaN</td>\n",
       "      <td>NaN</td>\n",
       "      <td>0.0</td>\n",
       "      <td>NaN</td>\n",
       "    </tr>\n",
       "  </tbody>\n",
       "</table>\n",
       "<p>2 rows × 93 columns</p>\n",
       "</div>"
      ],
      "text/plain": [
       "   #chr  start    end                      ID  PT_1X6CJ589  PT_2QB9MP9J  \\\n",
       "0  chr1  12001  30001  PedSV.2.5.2_CNV_chr1_1          0.0          0.0   \n",
       "1  chr1  12001  40001  PedSV.2.5.2_DUP_chr1_1          0.0          0.0   \n",
       "\n",
       "   PT_2RZN4HR2  PT_4Y3P2N1P  PT_5E269C8Z  PT_7APMD0HG  ...  PT_D5BYDHZ9  \\\n",
       "0          1.0          1.0          0.0          0.0  ...          2.0   \n",
       "1          0.0          0.0          0.0          0.0  ...          0.0   \n",
       "\n",
       "   PT_6DHGCDRP  PT_70BK6DFW  PT_7BAFX5PZ  PT_HZ4VWQP5  PT_SDPQ63J1  \\\n",
       "0          2.0          1.0          0.0          1.0          0.0   \n",
       "1          0.0          0.0          NaN          0.0          0.0   \n",
       "\n",
       "   PT_K0BJPWY9  PT_9A9Q2YB3  PT_AGYJR7PZ  PT_26E4RFYV  \n",
       "0          1.0          3.0          1.0          2.0  \n",
       "1          NaN          NaN          0.0          NaN  \n",
       "\n",
       "[2 rows x 93 columns]"
      ]
     },
     "execution_count": 11,
     "metadata": {},
     "output_type": "execute_result"
    }
   ],
   "source": [
    "cohort_dosages.head(2)"
   ]
  },
  {
   "cell_type": "markdown",
   "id": "5a6ca4d5-7056-4757-8be7-0d1b2ab3558e",
   "metadata": {},
   "source": [
    "Now we do some filtering on the dosage matrix, removing SVs that are poorly genotyped.\n",
    "\n",
    "In particular, SVs that are not genotyped in more than 20% of samples and ones that have no counts in cases (obviously) are removed."
   ]
  },
  {
   "cell_type": "code",
   "execution_count": 12,
   "id": "ac0f9a15-c3c9-4daa-a897-52f35b80c95a",
   "metadata": {},
   "outputs": [
    {
     "name": "stdout",
     "output_type": "stream",
     "text": [
      "228858 SVs before dropping... 31610 after\n"
     ]
    }
   ],
   "source": [
    "# SVs that are poorly genotyped in more than 20% of samples will be excluded\n",
    "print(f'{len(cohort_dosages)} SVs before dropping...', end = ' ')\n",
    "\n",
    "temp = cohort_dosages.iloc[:, 4:]\n",
    "\n",
    "nan_svs = np.isnan(temp).mean(axis = 1) > 0.20\n",
    "\n",
    "# SVs that have no counts will be excluded\n",
    "nocount_svs = (temp.fillna(0) != 0).sum(axis = 1) == 0\n",
    "\n",
    "# only keep others\n",
    "kept_svs = ~(nan_svs | nocount_svs)\n",
    "\n",
    "cohort_dosages = cohort_dosages[kept_svs]\n",
    "\n",
    "svs_to_analyze = cohort_dosages['ID'].tolist()\n",
    "\n",
    "print(len(svs_to_analyze), 'after')"
   ]
  },
  {
   "cell_type": "markdown",
   "id": "b4e80750-af12-44cc-9946-b1129f7b6df9",
   "metadata": {},
   "source": [
    "Now we get ALL the data for these SVs."
   ]
  },
  {
   "cell_type": "code",
   "execution_count": 13,
   "id": "40c60881-f88b-490e-9693-d80ce674b47a",
   "metadata": {},
   "outputs": [],
   "source": [
    "###############\n",
    "##### SVs #####\n",
    "###############\n",
    "svs = pd.read_csv(\n",
    "    sv_path,\n",
    "    sep=\"\\t\",\n",
    ")\n",
    "\n",
    "# subset down to all SVs in our cohort\n",
    "svs = svs[svs['name'].isin(svs_to_analyze)].reset_index(drop = True)\n",
    "svs.to_csv('data/rna/svs-for-sv-rna-analysis.csv', index=False)"
   ]
  },
  {
   "cell_type": "markdown",
   "id": "7090b047-f11f-4230-84f6-de2bcab7e936",
   "metadata": {},
   "source": [
    "With that, let's get into it!"
   ]
  },
  {
   "cell_type": "markdown",
   "id": "e4364cc2-051b-4963-9236-1da0fd4ad0c4",
   "metadata": {},
   "source": [
    "# Identify SVs that affect genes\n",
    "\n",
    "Here, we'll identify SVs that nominally affect genes. At the end of this process, we will end up with a SV x gene flate dataframe, where each row contains information abotu the SV and its relationship to the gene."
   ]
  },
  {
   "cell_type": "code",
   "execution_count": 14,
   "id": "e0ae7102-27ad-471f-a9ef-a75e533ddeca",
   "metadata": {},
   "outputs": [
    {
     "data": {
      "text/plain": [
       "'coding'"
      ]
     },
     "execution_count": 14,
     "metadata": {},
     "output_type": "execute_result"
    }
   ],
   "source": [
    "# the genic relationships that we'll examine--these are the ones that are defined in the CWAS (other gene-SV relationships are ignored)\n",
    "coding_cols = ['PREDICTED_COPY_GAIN', 'PREDICTED_INTRAGENIC_EXON_DUP', 'PREDICTED_LOF', 'PREDICTED_PARTIAL_EXON_DUP']\n",
    "noncoding_cols = ['PREDICTED_NEAREST_TSS', 'PREDICTED_INTRONIC', 'PREDICTED_PROMOTER', 'PREDICTED_UTR']\n",
    "\n",
    "# some coding columns are not included in the CWAS, but should be included here to fully assess \"all coding SVs\"\n",
    "unimportant_coding_cols = ['PREDICTED_DUP_PARTIAL', 'PREDICTED_MSV_EXON_OVERLAP', 'PREDICTED_TSS_DUP', 'PREDICTED_INV_SPAN', 'PREDICTED_BREAKEND_EXONIC']\n",
    "\n",
    "# transform this into a lookup\n",
    "gene_rel_lookup_dict = {}\n",
    "for label, assignments in zip(['coding', 'noncoding', 'unimportant_coding'], \n",
    "                              [coding_cols, noncoding_cols, unimportant_coding_cols]):\n",
    "    for a in assignments:\n",
    "        gene_rel_lookup_dict[a] = label\n",
    "        \n",
    "gene_rel_lookup_dict['PREDICTED_COPY_GAIN']"
   ]
  },
  {
   "cell_type": "markdown",
   "id": "53a0057a-f92b-47cc-a5c1-ab8b840a6eaf",
   "metadata": {},
   "source": [
    "Identify all the SVs that have an entry in at least one of these columns"
   ]
  },
  {
   "cell_type": "code",
   "execution_count": 15,
   "id": "8a964498-db00-4074-8bca-5f579fa5521c",
   "metadata": {},
   "outputs": [],
   "source": [
    "svs_that_affect_genes = (~pd.isnull(svs[coding_cols + noncoding_cols + unimportant_coding_cols])).sum(axis = 1) > 0"
   ]
  },
  {
   "cell_type": "code",
   "execution_count": 16,
   "id": "bf9a397a-d128-45fc-9fa1-c6fc3e2645c3",
   "metadata": {},
   "outputs": [
    {
     "data": {
      "text/html": [
       "<div>\n",
       "<style scoped>\n",
       "    .dataframe tbody tr th:only-of-type {\n",
       "        vertical-align: middle;\n",
       "    }\n",
       "\n",
       "    .dataframe tbody tr th {\n",
       "        vertical-align: top;\n",
       "    }\n",
       "\n",
       "    .dataframe thead th {\n",
       "        text-align: right;\n",
       "    }\n",
       "</style>\n",
       "<table border=\"1\" class=\"dataframe\">\n",
       "  <thead>\n",
       "    <tr style=\"text-align: right;\">\n",
       "      <th></th>\n",
       "      <th>PREDICTED_COPY_GAIN</th>\n",
       "      <th>PREDICTED_INTRAGENIC_EXON_DUP</th>\n",
       "      <th>PREDICTED_LOF</th>\n",
       "      <th>PREDICTED_PARTIAL_EXON_DUP</th>\n",
       "      <th>PREDICTED_NEAREST_TSS</th>\n",
       "      <th>PREDICTED_INTRONIC</th>\n",
       "      <th>PREDICTED_PROMOTER</th>\n",
       "      <th>PREDICTED_UTR</th>\n",
       "      <th>PREDICTED_DUP_PARTIAL</th>\n",
       "      <th>PREDICTED_MSV_EXON_OVERLAP</th>\n",
       "      <th>PREDICTED_TSS_DUP</th>\n",
       "      <th>PREDICTED_INV_SPAN</th>\n",
       "      <th>PREDICTED_BREAKEND_EXONIC</th>\n",
       "    </tr>\n",
       "  </thead>\n",
       "  <tbody>\n",
       "    <tr>\n",
       "      <th>0</th>\n",
       "      <td>NaN</td>\n",
       "      <td>NaN</td>\n",
       "      <td>NaN</td>\n",
       "      <td>NaN</td>\n",
       "      <td>OR4F5</td>\n",
       "      <td>NaN</td>\n",
       "      <td>NaN</td>\n",
       "      <td>NaN</td>\n",
       "      <td>NaN</td>\n",
       "      <td>NaN</td>\n",
       "      <td>NaN</td>\n",
       "      <td>NaN</td>\n",
       "      <td>NaN</td>\n",
       "    </tr>\n",
       "    <tr>\n",
       "      <th>1</th>\n",
       "      <td>NaN</td>\n",
       "      <td>NaN</td>\n",
       "      <td>NaN</td>\n",
       "      <td>NaN</td>\n",
       "      <td>OR4F5</td>\n",
       "      <td>NaN</td>\n",
       "      <td>NaN</td>\n",
       "      <td>NaN</td>\n",
       "      <td>NaN</td>\n",
       "      <td>NaN</td>\n",
       "      <td>NaN</td>\n",
       "      <td>NaN</td>\n",
       "      <td>NaN</td>\n",
       "    </tr>\n",
       "  </tbody>\n",
       "</table>\n",
       "</div>"
      ],
      "text/plain": [
       "  PREDICTED_COPY_GAIN PREDICTED_INTRAGENIC_EXON_DUP PREDICTED_LOF  \\\n",
       "0                 NaN                           NaN           NaN   \n",
       "1                 NaN                           NaN           NaN   \n",
       "\n",
       "  PREDICTED_PARTIAL_EXON_DUP PREDICTED_NEAREST_TSS PREDICTED_INTRONIC  \\\n",
       "0                        NaN                 OR4F5                NaN   \n",
       "1                        NaN                 OR4F5                NaN   \n",
       "\n",
       "  PREDICTED_PROMOTER PREDICTED_UTR PREDICTED_DUP_PARTIAL  \\\n",
       "0                NaN           NaN                   NaN   \n",
       "1                NaN           NaN                   NaN   \n",
       "\n",
       "  PREDICTED_MSV_EXON_OVERLAP PREDICTED_TSS_DUP PREDICTED_INV_SPAN  \\\n",
       "0                        NaN               NaN                NaN   \n",
       "1                        NaN               NaN                NaN   \n",
       "\n",
       "   PREDICTED_BREAKEND_EXONIC  \n",
       "0                        NaN  \n",
       "1                        NaN  "
      ]
     },
     "execution_count": 16,
     "metadata": {},
     "output_type": "execute_result"
    }
   ],
   "source": [
    "# an example\n",
    "svs[svs_that_affect_genes][coding_cols + noncoding_cols + unimportant_coding_cols].head(2)"
   ]
  },
  {
   "cell_type": "markdown",
   "id": "85c4fe9b-9515-4ea0-afb9-9931721590dc",
   "metadata": {},
   "source": [
    "The first two SVs \"affect\" ORF45 (these are noncoding SVs where the nearest TSS is for ORF45)"
   ]
  },
  {
   "cell_type": "code",
   "execution_count": 17,
   "id": "ad0a1a69-4698-4538-ad90-75e4b56e8beb",
   "metadata": {},
   "outputs": [
    {
     "data": {
      "text/plain": [
       "(31610, 1.0)"
      ]
     },
     "execution_count": 17,
     "metadata": {},
     "output_type": "execute_result"
    }
   ],
   "source": [
    "gene_svs = svs[svs_that_affect_genes]\n",
    "gene_svs.shape[0], gene_svs.shape[0] / svs.shape[0] "
   ]
  },
  {
   "cell_type": "markdown",
   "id": "235d3eb0-4b1e-42f7-8fa2-37a143872e03",
   "metadata": {},
   "source": [
    "By this approach all SVs are associated with a gene. This is primarily due to noncoding effects. What about coding effects alone?"
   ]
  },
  {
   "cell_type": "code",
   "execution_count": 18,
   "id": "c2356842-af3d-4215-af7a-6b07336b85a2",
   "metadata": {},
   "outputs": [
    {
     "name": "stdout",
     "output_type": "stream",
     "text": [
      "594\n",
      "272\n"
     ]
    }
   ],
   "source": [
    "coding_svs = (~pd.isnull(svs[coding_cols])).sum(axis = 1) > 0\n",
    "print(coding_svs.sum())\n",
    "\n",
    "print(((~pd.isnull(svs[unimportant_coding_cols])).sum(axis = 1) > 0).sum())"
   ]
  },
  {
   "cell_type": "markdown",
   "id": "8d055236-d4df-4e94-8f50-c439378344d6",
   "metadata": {},
   "source": [
    "We now convert this to a flat dataframe, and further break out SVs that affect more than one gene into their own rows"
   ]
  },
  {
   "cell_type": "code",
   "execution_count": 19,
   "id": "95969be4-be43-44cf-9a78-eba5d6c3a981",
   "metadata": {},
   "outputs": [],
   "source": [
    "sv_gene_df = []\n",
    "\n",
    "# extract out just the SVs and their predicted effect on genes\n",
    "gene_effect_df = gene_svs[['name'] + list(gene_rel_lookup_dict.keys())].set_index('name').copy()\n",
    "\n",
    "# loop through this dataframe\n",
    "for sv_name, row in gene_effect_df.iterrows():\n",
    "    row = row[~pd.isnull(row)]\n",
    "    \n",
    "    # look through all the possible genic interactions\n",
    "    for genic_rel, gene_list in row.iteritems():\n",
    "        genic_cat = gene_rel_lookup_dict[genic_rel]\n",
    "        \n",
    "        # if multiple genes are present, sequentially append them\n",
    "        for gene in gene_list.split(','):\n",
    "            sv_gene_df.append([sv_name, genic_cat, genic_rel, gene])\n",
    "\n",
    "# combine this data all together\n",
    "sv_gene_df = pd.DataFrame(sv_gene_df, columns = ['name', 'sv_effect', 'genic_relationship', 'gene'])"
   ]
  },
  {
   "cell_type": "code",
   "execution_count": 20,
   "id": "e41f4369-8048-4180-b731-e9ccb4e31a71",
   "metadata": {},
   "outputs": [
    {
     "data": {
      "text/html": [
       "<div>\n",
       "<style scoped>\n",
       "    .dataframe tbody tr th:only-of-type {\n",
       "        vertical-align: middle;\n",
       "    }\n",
       "\n",
       "    .dataframe tbody tr th {\n",
       "        vertical-align: top;\n",
       "    }\n",
       "\n",
       "    .dataframe thead th {\n",
       "        text-align: right;\n",
       "    }\n",
       "</style>\n",
       "<table border=\"1\" class=\"dataframe\">\n",
       "  <thead>\n",
       "    <tr style=\"text-align: right;\">\n",
       "      <th></th>\n",
       "      <th>name</th>\n",
       "      <th>sv_effect</th>\n",
       "      <th>genic_relationship</th>\n",
       "      <th>gene</th>\n",
       "    </tr>\n",
       "  </thead>\n",
       "  <tbody>\n",
       "    <tr>\n",
       "      <th>0</th>\n",
       "      <td>PedSV.2.5.2_CNV_chr1_1</td>\n",
       "      <td>noncoding</td>\n",
       "      <td>PREDICTED_NEAREST_TSS</td>\n",
       "      <td>OR4F5</td>\n",
       "    </tr>\n",
       "    <tr>\n",
       "      <th>1</th>\n",
       "      <td>PedSV.2.5.2_DUP_chr1_1</td>\n",
       "      <td>noncoding</td>\n",
       "      <td>PREDICTED_NEAREST_TSS</td>\n",
       "      <td>OR4F5</td>\n",
       "    </tr>\n",
       "  </tbody>\n",
       "</table>\n",
       "</div>"
      ],
      "text/plain": [
       "                     name  sv_effect     genic_relationship   gene\n",
       "0  PedSV.2.5.2_CNV_chr1_1  noncoding  PREDICTED_NEAREST_TSS  OR4F5\n",
       "1  PedSV.2.5.2_DUP_chr1_1  noncoding  PREDICTED_NEAREST_TSS  OR4F5"
      ]
     },
     "execution_count": 20,
     "metadata": {},
     "output_type": "execute_result"
    }
   ],
   "source": [
    "sv_gene_df.head(2)"
   ]
  },
  {
   "cell_type": "code",
   "execution_count": 21,
   "id": "16d76c8b-04f4-436c-bbd0-160c9ffe670f",
   "metadata": {},
   "outputs": [
    {
     "data": {
      "text/html": [
       "<div>\n",
       "<style scoped>\n",
       "    .dataframe tbody tr th:only-of-type {\n",
       "        vertical-align: middle;\n",
       "    }\n",
       "\n",
       "    .dataframe tbody tr th {\n",
       "        vertical-align: top;\n",
       "    }\n",
       "\n",
       "    .dataframe thead th {\n",
       "        text-align: right;\n",
       "    }\n",
       "</style>\n",
       "<table border=\"1\" class=\"dataframe\">\n",
       "  <thead>\n",
       "    <tr style=\"text-align: right;\">\n",
       "      <th></th>\n",
       "      <th>name</th>\n",
       "      <th>sv_effect</th>\n",
       "      <th>genic_relationship</th>\n",
       "      <th>gene</th>\n",
       "    </tr>\n",
       "  </thead>\n",
       "  <tbody>\n",
       "    <tr>\n",
       "      <th>0</th>\n",
       "      <td>PedSV.2.5.2_CNV_chr1_1</td>\n",
       "      <td>noncoding</td>\n",
       "      <td>PREDICTED_NEAREST_TSS</td>\n",
       "      <td>OR4F5</td>\n",
       "    </tr>\n",
       "    <tr>\n",
       "      <th>1</th>\n",
       "      <td>PedSV.2.5.2_DUP_chr1_1</td>\n",
       "      <td>noncoding</td>\n",
       "      <td>PREDICTED_NEAREST_TSS</td>\n",
       "      <td>OR4F5</td>\n",
       "    </tr>\n",
       "    <tr>\n",
       "      <th>2</th>\n",
       "      <td>PedSV.2.5.2_DUP_chr1_4</td>\n",
       "      <td>coding</td>\n",
       "      <td>PREDICTED_COPY_GAIN</td>\n",
       "      <td>OR4F5</td>\n",
       "    </tr>\n",
       "    <tr>\n",
       "      <th>3</th>\n",
       "      <td>PedSV.2.5.2_CNV_chr1_2</td>\n",
       "      <td>unimportant_coding</td>\n",
       "      <td>PREDICTED_MSV_EXON_OVERLAP</td>\n",
       "      <td>OR4F5</td>\n",
       "    </tr>\n",
       "  </tbody>\n",
       "</table>\n",
       "</div>"
      ],
      "text/plain": [
       "                     name           sv_effect          genic_relationship  \\\n",
       "0  PedSV.2.5.2_CNV_chr1_1           noncoding       PREDICTED_NEAREST_TSS   \n",
       "1  PedSV.2.5.2_DUP_chr1_1           noncoding       PREDICTED_NEAREST_TSS   \n",
       "2  PedSV.2.5.2_DUP_chr1_4              coding         PREDICTED_COPY_GAIN   \n",
       "3  PedSV.2.5.2_CNV_chr1_2  unimportant_coding  PREDICTED_MSV_EXON_OVERLAP   \n",
       "\n",
       "    gene  \n",
       "0  OR4F5  \n",
       "1  OR4F5  \n",
       "2  OR4F5  \n",
       "3  OR4F5  "
      ]
     },
     "execution_count": 21,
     "metadata": {},
     "output_type": "execute_result"
    }
   ],
   "source": [
    "sv_gene_df.head(4)"
   ]
  },
  {
   "cell_type": "markdown",
   "id": "c12c6c59-833c-4ab2-973a-01967a0356d1",
   "metadata": {},
   "source": [
    "Now we add some features that help us filter SVs in the future:"
   ]
  },
  {
   "cell_type": "code",
   "execution_count": 24,
   "id": "2b010093-331b-4b1a-8cca-f683bff94b6f",
   "metadata": {},
   "outputs": [],
   "source": [
    "# for the classes of SV effects\n",
    "for sv_effect in ['coding', 'noncoding', 'unimportant_coding']:\n",
    "    \n",
    "    # count how many times each SV affects a gene with an effect of that class (a little confusing)\n",
    "    counts = pd.DataFrame(sv_gene_df.query(f'sv_effect == \"{sv_effect}\"').groupby('name').size().astype(int), \n",
    "                          columns = [f'sv_{sv_effect}_counts']).reset_index()\n",
    "    sv_gene_df = sv_gene_df.merge(counts, how = 'left')\n",
    "    sv_gene_df[f'sv_{sv_effect}_counts'] = sv_gene_df[f'sv_{sv_effect}_counts'].fillna(0)\n",
    "\n",
    "# add some info about the SVs themselves\n",
    "sv_gene_df = sv_gene_df.merge(gene_svs[['#chrom', 'start', 'end', 'name', 'svtype']], on = ['name'], how = 'left')"
   ]
  },
  {
   "cell_type": "code",
   "execution_count": 25,
   "id": "45f2cdc5-fce4-40ad-ac8d-409b5cbb14e4",
   "metadata": {},
   "outputs": [
    {
     "data": {
      "text/html": [
       "<div>\n",
       "<style scoped>\n",
       "    .dataframe tbody tr th:only-of-type {\n",
       "        vertical-align: middle;\n",
       "    }\n",
       "\n",
       "    .dataframe tbody tr th {\n",
       "        vertical-align: top;\n",
       "    }\n",
       "\n",
       "    .dataframe thead th {\n",
       "        text-align: right;\n",
       "    }\n",
       "</style>\n",
       "<table border=\"1\" class=\"dataframe\">\n",
       "  <thead>\n",
       "    <tr style=\"text-align: right;\">\n",
       "      <th></th>\n",
       "      <th>name</th>\n",
       "      <th>sv_effect</th>\n",
       "      <th>genic_relationship</th>\n",
       "      <th>gene</th>\n",
       "      <th>sv_coding_counts</th>\n",
       "      <th>sv_noncoding_counts</th>\n",
       "      <th>sv_unimportant_coding_counts</th>\n",
       "      <th>#chrom_x</th>\n",
       "      <th>start_x</th>\n",
       "      <th>end_x</th>\n",
       "      <th>svtype_x</th>\n",
       "      <th>#chrom_y</th>\n",
       "      <th>start_y</th>\n",
       "      <th>end_y</th>\n",
       "      <th>svtype_y</th>\n",
       "    </tr>\n",
       "  </thead>\n",
       "  <tbody>\n",
       "    <tr>\n",
       "      <th>0</th>\n",
       "      <td>PedSV.2.5.2_CNV_chr1_1</td>\n",
       "      <td>noncoding</td>\n",
       "      <td>PREDICTED_NEAREST_TSS</td>\n",
       "      <td>OR4F5</td>\n",
       "      <td>0.0</td>\n",
       "      <td>1.0</td>\n",
       "      <td>0.0</td>\n",
       "      <td>chr1</td>\n",
       "      <td>12000</td>\n",
       "      <td>30001</td>\n",
       "      <td>CNV</td>\n",
       "      <td>chr1</td>\n",
       "      <td>12000</td>\n",
       "      <td>30001</td>\n",
       "      <td>CNV</td>\n",
       "    </tr>\n",
       "    <tr>\n",
       "      <th>1</th>\n",
       "      <td>PedSV.2.5.2_DUP_chr1_1</td>\n",
       "      <td>noncoding</td>\n",
       "      <td>PREDICTED_NEAREST_TSS</td>\n",
       "      <td>OR4F5</td>\n",
       "      <td>0.0</td>\n",
       "      <td>1.0</td>\n",
       "      <td>0.0</td>\n",
       "      <td>chr1</td>\n",
       "      <td>12000</td>\n",
       "      <td>40001</td>\n",
       "      <td>DUP</td>\n",
       "      <td>chr1</td>\n",
       "      <td>12000</td>\n",
       "      <td>40001</td>\n",
       "      <td>DUP</td>\n",
       "    </tr>\n",
       "  </tbody>\n",
       "</table>\n",
       "</div>"
      ],
      "text/plain": [
       "                     name  sv_effect     genic_relationship   gene  \\\n",
       "0  PedSV.2.5.2_CNV_chr1_1  noncoding  PREDICTED_NEAREST_TSS  OR4F5   \n",
       "1  PedSV.2.5.2_DUP_chr1_1  noncoding  PREDICTED_NEAREST_TSS  OR4F5   \n",
       "\n",
       "   sv_coding_counts  sv_noncoding_counts  sv_unimportant_coding_counts  \\\n",
       "0               0.0                  1.0                           0.0   \n",
       "1               0.0                  1.0                           0.0   \n",
       "\n",
       "  #chrom_x  start_x  end_x svtype_x #chrom_y  start_y  end_y svtype_y  \n",
       "0     chr1    12000  30001      CNV     chr1    12000  30001      CNV  \n",
       "1     chr1    12000  40001      DUP     chr1    12000  40001      DUP  "
      ]
     },
     "execution_count": 25,
     "metadata": {},
     "output_type": "execute_result"
    }
   ],
   "source": [
    "sv_gene_df.head(2)"
   ]
  },
  {
   "cell_type": "markdown",
   "id": "959b583b-2e01-4f5e-a451-66019635fefa",
   "metadata": {},
   "source": [
    "The point is that now we have a way to remove SVs that affect too many genes."
   ]
  },
  {
   "cell_type": "markdown",
   "id": "4f9185c4-5766-4bdc-8b87-06fd3051cda2",
   "metadata": {},
   "source": [
    "## Remove SVs too far from their genes\n",
    "\n",
    "Some noncoding SVs are too far from their genes to reasonably have an impact on expression. We remove those here."
   ]
  },
  {
   "cell_type": "code",
   "execution_count": 26,
   "id": "f2b6b1cf-f273-42f4-aca9-071fed3b11fe",
   "metadata": {},
   "outputs": [],
   "source": [
    "intergenic_sv_distances = pd.read_csv('data/cwas/intergenic-sv-to-gene-distances.csv').rename(columns = {'gene_name': 'gene'})"
   ]
  },
  {
   "cell_type": "code",
   "execution_count": 27,
   "id": "98e14d19-7527-4470-8eb4-898632a1569c",
   "metadata": {},
   "outputs": [],
   "source": [
    "sv_gene_df = sv_gene_df.merge(intergenic_sv_distances[['name', 'gene', 'distance']], on = ['name', 'gene'], how = 'left')"
   ]
  },
  {
   "cell_type": "code",
   "execution_count": 28,
   "id": "ecb94416-eb95-4cda-bd35-fe0ef9a05d7f",
   "metadata": {},
   "outputs": [
    {
     "data": {
      "text/html": [
       "<div>\n",
       "<style scoped>\n",
       "    .dataframe tbody tr th:only-of-type {\n",
       "        vertical-align: middle;\n",
       "    }\n",
       "\n",
       "    .dataframe tbody tr th {\n",
       "        vertical-align: top;\n",
       "    }\n",
       "\n",
       "    .dataframe thead th {\n",
       "        text-align: right;\n",
       "    }\n",
       "</style>\n",
       "<table border=\"1\" class=\"dataframe\">\n",
       "  <thead>\n",
       "    <tr style=\"text-align: right;\">\n",
       "      <th></th>\n",
       "      <th>name</th>\n",
       "      <th>sv_effect</th>\n",
       "      <th>genic_relationship</th>\n",
       "      <th>gene</th>\n",
       "      <th>sv_coding_counts</th>\n",
       "      <th>sv_noncoding_counts</th>\n",
       "      <th>sv_unimportant_coding_counts</th>\n",
       "      <th>#chrom_x</th>\n",
       "      <th>start_x</th>\n",
       "      <th>end_x</th>\n",
       "      <th>svtype_x</th>\n",
       "      <th>#chrom_y</th>\n",
       "      <th>start_y</th>\n",
       "      <th>end_y</th>\n",
       "      <th>svtype_y</th>\n",
       "      <th>distance</th>\n",
       "    </tr>\n",
       "  </thead>\n",
       "  <tbody>\n",
       "    <tr>\n",
       "      <th>281</th>\n",
       "      <td>PedSV.2.5.2_CPX_chr1_37</td>\n",
       "      <td>noncoding</td>\n",
       "      <td>PREDICTED_NEAREST_TSS</td>\n",
       "      <td>C10orf95</td>\n",
       "      <td>0.0</td>\n",
       "      <td>2.0</td>\n",
       "      <td>0.0</td>\n",
       "      <td>chr1</td>\n",
       "      <td>13427116</td>\n",
       "      <td>13427117</td>\n",
       "      <td>CPX</td>\n",
       "      <td>chr1</td>\n",
       "      <td>13427116</td>\n",
       "      <td>13427117</td>\n",
       "      <td>CPX</td>\n",
       "      <td>NaN</td>\n",
       "    </tr>\n",
       "    <tr>\n",
       "      <th>282</th>\n",
       "      <td>PedSV.2.5.2_CPX_chr1_37</td>\n",
       "      <td>noncoding</td>\n",
       "      <td>PREDICTED_NEAREST_TSS</td>\n",
       "      <td>PRAMEF20</td>\n",
       "      <td>0.0</td>\n",
       "      <td>2.0</td>\n",
       "      <td>0.0</td>\n",
       "      <td>chr1</td>\n",
       "      <td>13427116</td>\n",
       "      <td>13427117</td>\n",
       "      <td>CPX</td>\n",
       "      <td>chr1</td>\n",
       "      <td>13427116</td>\n",
       "      <td>13427117</td>\n",
       "      <td>CPX</td>\n",
       "      <td>NaN</td>\n",
       "    </tr>\n",
       "  </tbody>\n",
       "</table>\n",
       "</div>"
      ],
      "text/plain": [
       "                        name  sv_effect     genic_relationship      gene  \\\n",
       "281  PedSV.2.5.2_CPX_chr1_37  noncoding  PREDICTED_NEAREST_TSS  C10orf95   \n",
       "282  PedSV.2.5.2_CPX_chr1_37  noncoding  PREDICTED_NEAREST_TSS  PRAMEF20   \n",
       "\n",
       "     sv_coding_counts  sv_noncoding_counts  sv_unimportant_coding_counts  \\\n",
       "281               0.0                  2.0                           0.0   \n",
       "282               0.0                  2.0                           0.0   \n",
       "\n",
       "    #chrom_x   start_x     end_x svtype_x #chrom_y   start_y     end_y  \\\n",
       "281     chr1  13427116  13427117      CPX     chr1  13427116  13427117   \n",
       "282     chr1  13427116  13427117      CPX     chr1  13427116  13427117   \n",
       "\n",
       "    svtype_y  distance  \n",
       "281      CPX       NaN  \n",
       "282      CPX       NaN  "
      ]
     },
     "execution_count": 28,
     "metadata": {},
     "output_type": "execute_result"
    }
   ],
   "source": [
    "rows_to_drop = sv_gene_df[(sv_gene_df['genic_relationship'] == \"PREDICTED_NEAREST_TSS\") &\n",
    "                          (sv_gene_df['distance'].fillna(1e6) > 5e5)]\n",
    "rows_to_drop.head(2)"
   ]
  },
  {
   "cell_type": "code",
   "execution_count": 29,
   "id": "b873f1f4-b50d-4b23-b19a-7a6c65b99580",
   "metadata": {},
   "outputs": [],
   "source": [
    "sv_gene_df = sv_gene_df.drop(index = rows_to_drop.index).reset_index(drop = True)"
   ]
  },
  {
   "cell_type": "markdown",
   "id": "77f85384-d07b-43ce-997e-d828600cc954",
   "metadata": {},
   "source": [
    "# Synthesizing with the RNA\n",
    "\n",
    "We'll be analyzing only singletons later, but we'll crunch all the data now. For each gene-SV pair, I want to calculate the average expression rank of samples that have the SV."
   ]
  },
  {
   "cell_type": "markdown",
   "id": "ccba530b-cfeb-49b6-8ccf-e6745ce6f9e9",
   "metadata": {},
   "source": [
    "## An example\n",
    "\n",
    "A simple example first, using a singleton SV."
   ]
  },
  {
   "cell_type": "code",
   "execution_count": 30,
   "id": "2c40192a-2739-400b-80c5-047d02dc457a",
   "metadata": {},
   "outputs": [
    {
     "data": {
      "text/html": [
       "<div>\n",
       "<style scoped>\n",
       "    .dataframe tbody tr th:only-of-type {\n",
       "        vertical-align: middle;\n",
       "    }\n",
       "\n",
       "    .dataframe tbody tr th {\n",
       "        vertical-align: top;\n",
       "    }\n",
       "\n",
       "    .dataframe thead th {\n",
       "        text-align: right;\n",
       "    }\n",
       "</style>\n",
       "<table border=\"1\" class=\"dataframe\">\n",
       "  <thead>\n",
       "    <tr style=\"text-align: right;\">\n",
       "      <th></th>\n",
       "      <th>name</th>\n",
       "      <th>sv_effect</th>\n",
       "      <th>genic_relationship</th>\n",
       "      <th>gene</th>\n",
       "      <th>sv_coding_counts</th>\n",
       "      <th>sv_noncoding_counts</th>\n",
       "      <th>sv_unimportant_coding_counts</th>\n",
       "      <th>#chrom_x</th>\n",
       "      <th>start_x</th>\n",
       "      <th>end_x</th>\n",
       "      <th>svtype_x</th>\n",
       "      <th>#chrom_y</th>\n",
       "      <th>start_y</th>\n",
       "      <th>end_y</th>\n",
       "      <th>svtype_y</th>\n",
       "      <th>distance</th>\n",
       "    </tr>\n",
       "  </thead>\n",
       "  <tbody>\n",
       "    <tr>\n",
       "      <th>63</th>\n",
       "      <td>PedSV.2.5.2_DEL_chr1_315</td>\n",
       "      <td>coding</td>\n",
       "      <td>PREDICTED_LOF</td>\n",
       "      <td>ATAD3B</td>\n",
       "      <td>1.0</td>\n",
       "      <td>0.0</td>\n",
       "      <td>0.0</td>\n",
       "      <td>chr1</td>\n",
       "      <td>1493988</td>\n",
       "      <td>1509995</td>\n",
       "      <td>DEL</td>\n",
       "      <td>chr1</td>\n",
       "      <td>1493988</td>\n",
       "      <td>1509995</td>\n",
       "      <td>DEL</td>\n",
       "      <td>NaN</td>\n",
       "    </tr>\n",
       "  </tbody>\n",
       "</table>\n",
       "</div>"
      ],
      "text/plain": [
       "                        name sv_effect genic_relationship    gene  \\\n",
       "63  PedSV.2.5.2_DEL_chr1_315    coding      PREDICTED_LOF  ATAD3B   \n",
       "\n",
       "    sv_coding_counts  sv_noncoding_counts  sv_unimportant_coding_counts  \\\n",
       "63               1.0                  0.0                           0.0   \n",
       "\n",
       "   #chrom_x  start_x    end_x svtype_x #chrom_y  start_y    end_y svtype_y  \\\n",
       "63     chr1  1493988  1509995      DEL     chr1  1493988  1509995      DEL   \n",
       "\n",
       "    distance  \n",
       "63       NaN  "
      ]
     },
     "execution_count": 30,
     "metadata": {},
     "output_type": "execute_result"
    }
   ],
   "source": [
    "# examine a deletion\n",
    "test_sv = \"PedSV.2.5.2_DEL_chr1_315\"\n",
    "sv_gene_df.query(f'name == \"{test_sv}\"')"
   ]
  },
  {
   "cell_type": "markdown",
   "id": "b0c33617-a297-493b-8ba8-3eaa6d75d837",
   "metadata": {},
   "source": [
    "We extract the expression of this gene, the samples that are affected by the SV, and then calculate their average rank"
   ]
  },
  {
   "cell_type": "code",
   "execution_count": 31,
   "id": "a95f0b2d-25f9-403d-bf91-cad6779db44b",
   "metadata": {},
   "outputs": [
    {
     "data": {
      "text/plain": [
       "PT_1X6CJ589    0.0\n",
       "PT_2QB9MP9J    0.0\n",
       "PT_2RZN4HR2    0.0\n",
       "PT_4Y3P2N1P    0.0\n",
       "PT_5E269C8Z    0.0\n",
       "              ... \n",
       "PT_SDPQ63J1    0.0\n",
       "PT_K0BJPWY9    NaN\n",
       "PT_9A9Q2YB3    NaN\n",
       "PT_AGYJR7PZ    0.0\n",
       "PT_26E4RFYV    NaN\n",
       "Name: 222, Length: 89, dtype: object"
      ]
     },
     "execution_count": 31,
     "metadata": {},
     "output_type": "execute_result"
    }
   ],
   "source": [
    "# first extract the dosage of this SV in our 89 samples\n",
    "sv_dosages = cohort_dosages.query(f'ID == \"{test_sv}\"').iloc[0, 4:]\n",
    "sv_dosages"
   ]
  },
  {
   "cell_type": "code",
   "execution_count": 32,
   "id": "10d9f3ec-b24a-4d44-b728-0779135e28e8",
   "metadata": {},
   "outputs": [
    {
     "data": {
      "text/plain": [
       "(1, 80)"
      ]
     },
     "execution_count": 32,
     "metadata": {},
     "output_type": "execute_result"
    }
   ],
   "source": [
    "affected_samples = sv_dosages[sv_dosages > 0].index\n",
    "unaffected_samples = sv_dosages[sv_dosages <= 0].index\n",
    "\n",
    "len(affected_samples), len(unaffected_samples)"
   ]
  },
  {
   "cell_type": "markdown",
   "id": "77956035-c9ff-4519-ad76-59e5deeb361a",
   "metadata": {},
   "source": [
    "So this is a singleton SV - only one sample is affected (80 are not, and 8 are not genotyped)"
   ]
  },
  {
   "cell_type": "markdown",
   "id": "10c85f08-ed72-4487-b7b7-96b70678e7f1",
   "metadata": {},
   "source": [
    "Now get the gene expression of this gene:"
   ]
  },
  {
   "cell_type": "code",
   "execution_count": 33,
   "id": "0e36232c-ecd8-4315-8850-a492127c4200",
   "metadata": {},
   "outputs": [
    {
     "data": {
      "text/plain": [
       "PT_1X6CJ589    15.08\n",
       "PT_2QB9MP9J     1.65\n",
       "PT_2RZN4HR2     8.09\n",
       "PT_4Y3P2N1P     9.82\n",
       "PT_5E269C8Z    15.19\n",
       "               ...  \n",
       "PT_SDPQ63J1    17.69\n",
       "PT_K0BJPWY9     9.92\n",
       "PT_9A9Q2YB3     8.81\n",
       "PT_AGYJR7PZ    18.54\n",
       "PT_26E4RFYV    10.69\n",
       "Name: ATAD3B, Length: 89, dtype: float64"
      ]
     },
     "execution_count": 33,
     "metadata": {},
     "output_type": "execute_result"
    }
   ],
   "source": [
    "gene_expression = rna_data.loc[\"ATAD3B\", sv_dosages.index]\n",
    "gene_expression"
   ]
  },
  {
   "cell_type": "code",
   "execution_count": 34,
   "id": "63e3e54f-6084-47f6-942f-aaec4280656c",
   "metadata": {},
   "outputs": [
    {
     "data": {
      "text/plain": [
       "0.09090909090909091"
      ]
     },
     "execution_count": 34,
     "metadata": {},
     "output_type": "execute_result"
    }
   ],
   "source": [
    " # rank the expression\n",
    "expression_ranks = (gene_expression.rank() - 1)\n",
    "norm_expression_ranks =  expression_ranks / (len(gene_expression) - 1)\n",
    "\n",
    "avg_affected_rank = norm_expression_ranks.loc[affected_samples].mean()\n",
    "\n",
    "# ascending = False results in highest to lowest, so \n",
    "avg_affected_rank"
   ]
  },
  {
   "cell_type": "markdown",
   "id": "73572fea-a65a-47ef-8f84-09ef06b63864",
   "metadata": {},
   "source": [
    "So the sample affected by this SV has a lower level of expression (it is in the 10th percentile for expression of this gene)"
   ]
  },
  {
   "cell_type": "markdown",
   "id": "3a462c2a-1e90-4c00-a818-7611d5a3a6be",
   "metadata": {},
   "source": [
    "## Generalize to all SVs\n",
    "\n",
    "We simply apply this process systematically"
   ]
  },
  {
   "cell_type": "code",
   "execution_count": 35,
   "id": "f6f8efa9-91cd-4181-a475-37e69e8f2b80",
   "metadata": {},
   "outputs": [
    {
     "name": "stdout",
     "output_type": "stream",
     "text": [
      "0, 500, 1000, 1500, 2000, 2500, 3000, 3500, 4000, 4500, 5000, 5500, 6000, 6500, 7000, 7500, 8000, 8500, 9000, 9500, 10000, 10500, 11000, 11500, 12000, 12500, 13000, 13500, 14000, 14500, 15000, 15500, 16000, 16500, 17000, 17500, 18000, 18500, 19000, 19500, 20000, 20500, 21000, 21500, 22000, 22500, 23000, "
     ]
    }
   ],
   "source": [
    "results = []\n",
    "    \n",
    "analysis_dosages = cohort_dosages.iloc[:, 3:].set_index('ID')\n",
    "\n",
    "# drop genes not present in our counts\n",
    "sv_gene_df = sv_gene_df[sv_gene_df['gene'].isin(rna_data.index)]\n",
    "\n",
    "for i, (index, row) in enumerate(sv_gene_df.iterrows()):\n",
    "    if i % 500 == 0:\n",
    "        print(i, end = ', ')\n",
    "\n",
    "    gene = row['gene']\n",
    "    sv = row['name']\n",
    "    gr = row['genic_relationship']\n",
    "\n",
    "    storage_row = [sv, gene, gr]\n",
    "\n",
    "    # get the dosages for this sv\n",
    "    sv_dosages = analysis_dosages.loc[sv].dropna()\n",
    "\n",
    "    # get the expression for this gene\n",
    "    gene_expression = rna_data.loc[gene, sv_dosages.index]\n",
    "    mean_expression = gene_expression.mean()\n",
    "\n",
    "    storage_row.append(mean_expression)\n",
    "\n",
    "    ###########################\n",
    "    ### RANK-BASED APPROACH ###\n",
    "    ###########################\n",
    "    affected_samples = sv_dosages[sv_dosages > 0].index\n",
    "    unaffected_samples = sv_dosages[sv_dosages <= 0].index\n",
    "\n",
    "    # rank the expression\n",
    "    expression_ranks = (gene_expression.rank() - 1)\n",
    "    norm_expression_ranks =  expression_ranks / (len(gene_expression) - 1)\n",
    "\n",
    "    avg_affected_rank = norm_expression_ranks.loc[affected_samples].mean()\n",
    "\n",
    "    # store this data\n",
    "    storage_row += [len(sv_dosages), len(affected_samples), avg_affected_rank]\n",
    "\n",
    "    # store the expression of affected and unaffected\n",
    "    gene_exp_affected = gene_expression.loc[affected_samples]\n",
    "    gene_exp_unaffected = gene_expression.loc[unaffected_samples]\n",
    "    storage_row += [gene_exp_affected.mean(), gene_exp_unaffected.mean()]\n",
    "\n",
    "    ##################\n",
    "    ### EXIT CHECK ###\n",
    "    ##################\n",
    "\n",
    "    # If there are fewer than 3 affected samples, a MWU\n",
    "    # doesn't make sense. We exit then.\n",
    "    if len(affected_samples) == 1:\n",
    "        storage_row += [np.nan]\n",
    "        results.append(storage_row)\n",
    "        continue\n",
    "\n",
    "    ################\n",
    "    ### MWU TEST ###\n",
    "    ################ \n",
    "    \n",
    "    # although the paper does not examine SVs with more than one sample, I initially tried\n",
    "    # a MWU test for this purpose (which I suspect was not statistically sound)\n",
    "    try:\n",
    "        p = stats.mannwhitneyu(gene_exp_affected, gene_exp_unaffected)[1]\n",
    "    except:\n",
    "        p = np.nan\n",
    "\n",
    "    storage_row += [p]\n",
    "    results.append(storage_row)\n",
    "\n",
    "columns = ['name', 'gene', 'genic_relationship', 'mean_exp', 'num_rna_genotyped', 'num_greater_0_dosage', 'mean_greater_0_dosage_rank', 'mean_greater_0_exp', 'mean_leq_0_exp', \n",
    "           'mwu_p']\n",
    "\n",
    "results = pd.DataFrame(results, columns = columns)"
   ]
  },
  {
   "cell_type": "code",
   "execution_count": 36,
   "id": "3b36b338-8273-4616-8ceb-38484f20ee31",
   "metadata": {},
   "outputs": [
    {
     "data": {
      "text/html": [
       "<div>\n",
       "<style scoped>\n",
       "    .dataframe tbody tr th:only-of-type {\n",
       "        vertical-align: middle;\n",
       "    }\n",
       "\n",
       "    .dataframe tbody tr th {\n",
       "        vertical-align: top;\n",
       "    }\n",
       "\n",
       "    .dataframe thead th {\n",
       "        text-align: right;\n",
       "    }\n",
       "</style>\n",
       "<table border=\"1\" class=\"dataframe\">\n",
       "  <thead>\n",
       "    <tr style=\"text-align: right;\">\n",
       "      <th></th>\n",
       "      <th>name</th>\n",
       "      <th>gene</th>\n",
       "      <th>genic_relationship</th>\n",
       "      <th>mean_exp</th>\n",
       "      <th>num_rna_genotyped</th>\n",
       "      <th>num_greater_0_dosage</th>\n",
       "      <th>mean_greater_0_dosage_rank</th>\n",
       "      <th>mean_greater_0_exp</th>\n",
       "      <th>mean_leq_0_exp</th>\n",
       "      <th>mwu_p</th>\n",
       "    </tr>\n",
       "  </thead>\n",
       "  <tbody>\n",
       "    <tr>\n",
       "      <th>0</th>\n",
       "      <td>PedSV.2.5.2_CNV_chr1_6</td>\n",
       "      <td>OR4F29</td>\n",
       "      <td>PREDICTED_NEAREST_TSS</td>\n",
       "      <td>0.266629</td>\n",
       "      <td>89</td>\n",
       "      <td>15</td>\n",
       "      <td>0.492045</td>\n",
       "      <td>0.247333</td>\n",
       "      <td>0.270541</td>\n",
       "      <td>0.912668</td>\n",
       "    </tr>\n",
       "    <tr>\n",
       "      <th>1</th>\n",
       "      <td>PedSV.2.5.2_CNV_chr1_7</td>\n",
       "      <td>OR4F29</td>\n",
       "      <td>PREDICTED_NEAREST_TSS</td>\n",
       "      <td>0.266629</td>\n",
       "      <td>89</td>\n",
       "      <td>62</td>\n",
       "      <td>0.489736</td>\n",
       "      <td>0.255484</td>\n",
       "      <td>0.292222</td>\n",
       "      <td>0.620135</td>\n",
       "    </tr>\n",
       "  </tbody>\n",
       "</table>\n",
       "</div>"
      ],
      "text/plain": [
       "                     name    gene     genic_relationship  mean_exp  \\\n",
       "0  PedSV.2.5.2_CNV_chr1_6  OR4F29  PREDICTED_NEAREST_TSS  0.266629   \n",
       "1  PedSV.2.5.2_CNV_chr1_7  OR4F29  PREDICTED_NEAREST_TSS  0.266629   \n",
       "\n",
       "   num_rna_genotyped  num_greater_0_dosage  mean_greater_0_dosage_rank  \\\n",
       "0                 89                    15                    0.492045   \n",
       "1                 89                    62                    0.489736   \n",
       "\n",
       "   mean_greater_0_exp  mean_leq_0_exp     mwu_p  \n",
       "0            0.247333        0.270541  0.912668  \n",
       "1            0.255484        0.292222  0.620135  "
      ]
     },
     "execution_count": 36,
     "metadata": {},
     "output_type": "execute_result"
    }
   ],
   "source": [
    "results.head(2)"
   ]
  },
  {
   "cell_type": "code",
   "execution_count": 37,
   "id": "85dc387d-bc6a-493b-845f-7604ddf6dfe0",
   "metadata": {},
   "outputs": [],
   "source": [
    "# merge with the cohort's sv information\n",
    "sv_gene_df = sv_gene_df.merge(results, on = ['name', 'gene', 'genic_relationship'], how = 'left')"
   ]
  },
  {
   "cell_type": "code",
   "execution_count": 38,
   "id": "c01c1e6e-e169-43e9-a02f-d93274b43077",
   "metadata": {},
   "outputs": [
    {
     "data": {
      "text/html": [
       "<div>\n",
       "<style scoped>\n",
       "    .dataframe tbody tr th:only-of-type {\n",
       "        vertical-align: middle;\n",
       "    }\n",
       "\n",
       "    .dataframe tbody tr th {\n",
       "        vertical-align: top;\n",
       "    }\n",
       "\n",
       "    .dataframe thead th {\n",
       "        text-align: right;\n",
       "    }\n",
       "</style>\n",
       "<table border=\"1\" class=\"dataframe\">\n",
       "  <thead>\n",
       "    <tr style=\"text-align: right;\">\n",
       "      <th></th>\n",
       "      <th>name</th>\n",
       "      <th>sv_effect</th>\n",
       "      <th>genic_relationship</th>\n",
       "      <th>gene</th>\n",
       "      <th>sv_coding_counts</th>\n",
       "      <th>sv_noncoding_counts</th>\n",
       "      <th>sv_unimportant_coding_counts</th>\n",
       "      <th>#chrom_x</th>\n",
       "      <th>start_x</th>\n",
       "      <th>end_x</th>\n",
       "      <th>...</th>\n",
       "      <th>end_y</th>\n",
       "      <th>svtype_y</th>\n",
       "      <th>distance</th>\n",
       "      <th>mean_exp</th>\n",
       "      <th>num_rna_genotyped</th>\n",
       "      <th>num_greater_0_dosage</th>\n",
       "      <th>mean_greater_0_dosage_rank</th>\n",
       "      <th>mean_greater_0_exp</th>\n",
       "      <th>mean_leq_0_exp</th>\n",
       "      <th>mwu_p</th>\n",
       "    </tr>\n",
       "  </thead>\n",
       "  <tbody>\n",
       "    <tr>\n",
       "      <th>0</th>\n",
       "      <td>PedSV.2.5.2_CNV_chr1_6</td>\n",
       "      <td>noncoding</td>\n",
       "      <td>PREDICTED_NEAREST_TSS</td>\n",
       "      <td>OR4F29</td>\n",
       "      <td>0.0</td>\n",
       "      <td>1.0</td>\n",
       "      <td>0.0</td>\n",
       "      <td>chr1</td>\n",
       "      <td>257666</td>\n",
       "      <td>262901</td>\n",
       "      <td>...</td>\n",
       "      <td>262901</td>\n",
       "      <td>CNV</td>\n",
       "      <td>187839.0</td>\n",
       "      <td>0.266629</td>\n",
       "      <td>89</td>\n",
       "      <td>15</td>\n",
       "      <td>0.492045</td>\n",
       "      <td>0.247333</td>\n",
       "      <td>0.270541</td>\n",
       "      <td>0.912668</td>\n",
       "    </tr>\n",
       "    <tr>\n",
       "      <th>1</th>\n",
       "      <td>PedSV.2.5.2_CNV_chr1_7</td>\n",
       "      <td>noncoding</td>\n",
       "      <td>PREDICTED_NEAREST_TSS</td>\n",
       "      <td>OR4F29</td>\n",
       "      <td>0.0</td>\n",
       "      <td>1.0</td>\n",
       "      <td>0.0</td>\n",
       "      <td>chr1</td>\n",
       "      <td>262333</td>\n",
       "      <td>288667</td>\n",
       "      <td>...</td>\n",
       "      <td>288667</td>\n",
       "      <td>CNV</td>\n",
       "      <td>162073.0</td>\n",
       "      <td>0.266629</td>\n",
       "      <td>89</td>\n",
       "      <td>62</td>\n",
       "      <td>0.489736</td>\n",
       "      <td>0.255484</td>\n",
       "      <td>0.292222</td>\n",
       "      <td>0.620135</td>\n",
       "    </tr>\n",
       "    <tr>\n",
       "      <th>2</th>\n",
       "      <td>PedSV.2.5.2_CNV_chr1_8</td>\n",
       "      <td>noncoding</td>\n",
       "      <td>PREDICTED_NEAREST_TSS</td>\n",
       "      <td>OR4F29</td>\n",
       "      <td>0.0</td>\n",
       "      <td>1.0</td>\n",
       "      <td>0.0</td>\n",
       "      <td>chr1</td>\n",
       "      <td>431000</td>\n",
       "      <td>436001</td>\n",
       "      <td>...</td>\n",
       "      <td>436001</td>\n",
       "      <td>CNV</td>\n",
       "      <td>14739.0</td>\n",
       "      <td>0.266629</td>\n",
       "      <td>89</td>\n",
       "      <td>7</td>\n",
       "      <td>0.330357</td>\n",
       "      <td>0.128571</td>\n",
       "      <td>0.278415</td>\n",
       "      <td>0.112705</td>\n",
       "    </tr>\n",
       "    <tr>\n",
       "      <th>3</th>\n",
       "      <td>PedSV.2.5.2_CNV_chr1_9</td>\n",
       "      <td>noncoding</td>\n",
       "      <td>PREDICTED_NEAREST_TSS</td>\n",
       "      <td>OR4F16</td>\n",
       "      <td>0.0</td>\n",
       "      <td>1.0</td>\n",
       "      <td>0.0</td>\n",
       "      <td>chr1</td>\n",
       "      <td>585988</td>\n",
       "      <td>596501</td>\n",
       "      <td>...</td>\n",
       "      <td>596501</td>\n",
       "      <td>CNV</td>\n",
       "      <td>89215.0</td>\n",
       "      <td>0.266629</td>\n",
       "      <td>89</td>\n",
       "      <td>6</td>\n",
       "      <td>0.532197</td>\n",
       "      <td>0.275000</td>\n",
       "      <td>0.266024</td>\n",
       "      <td>0.787030</td>\n",
       "    </tr>\n",
       "  </tbody>\n",
       "</table>\n",
       "<p>4 rows × 23 columns</p>\n",
       "</div>"
      ],
      "text/plain": [
       "                     name  sv_effect     genic_relationship    gene  \\\n",
       "0  PedSV.2.5.2_CNV_chr1_6  noncoding  PREDICTED_NEAREST_TSS  OR4F29   \n",
       "1  PedSV.2.5.2_CNV_chr1_7  noncoding  PREDICTED_NEAREST_TSS  OR4F29   \n",
       "2  PedSV.2.5.2_CNV_chr1_8  noncoding  PREDICTED_NEAREST_TSS  OR4F29   \n",
       "3  PedSV.2.5.2_CNV_chr1_9  noncoding  PREDICTED_NEAREST_TSS  OR4F16   \n",
       "\n",
       "   sv_coding_counts  sv_noncoding_counts  sv_unimportant_coding_counts  \\\n",
       "0               0.0                  1.0                           0.0   \n",
       "1               0.0                  1.0                           0.0   \n",
       "2               0.0                  1.0                           0.0   \n",
       "3               0.0                  1.0                           0.0   \n",
       "\n",
       "  #chrom_x  start_x   end_x  ...   end_y svtype_y  distance  mean_exp  \\\n",
       "0     chr1   257666  262901  ...  262901      CNV  187839.0  0.266629   \n",
       "1     chr1   262333  288667  ...  288667      CNV  162073.0  0.266629   \n",
       "2     chr1   431000  436001  ...  436001      CNV   14739.0  0.266629   \n",
       "3     chr1   585988  596501  ...  596501      CNV   89215.0  0.266629   \n",
       "\n",
       "  num_rna_genotyped  num_greater_0_dosage  mean_greater_0_dosage_rank  \\\n",
       "0                89                    15                    0.492045   \n",
       "1                89                    62                    0.489736   \n",
       "2                89                     7                    0.330357   \n",
       "3                89                     6                    0.532197   \n",
       "\n",
       "   mean_greater_0_exp  mean_leq_0_exp     mwu_p  \n",
       "0            0.247333        0.270541  0.912668  \n",
       "1            0.255484        0.292222  0.620135  \n",
       "2            0.128571        0.278415  0.112705  \n",
       "3            0.275000        0.266024  0.787030  \n",
       "\n",
       "[4 rows x 23 columns]"
      ]
     },
     "execution_count": 38,
     "metadata": {},
     "output_type": "execute_result"
    }
   ],
   "source": [
    "sv_gene_df.head(4)"
   ]
  },
  {
   "cell_type": "code",
   "execution_count": 39,
   "id": "f07eebe0-758d-404c-b489-b5ae461e8463",
   "metadata": {},
   "outputs": [],
   "source": [
    "sv_gene_df.to_csv('data/rna/sv-gene-rna-results.csv', index=False)"
   ]
  }
 ],
 "metadata": {
  "kernelspec": {
   "display_name": "pedsv-test-conda",
   "language": "python",
   "name": "pedsv-test-conda"
  },
  "language_info": {
   "codemirror_mode": {
    "name": "ipython",
    "version": 3
   },
   "file_extension": ".py",
   "mimetype": "text/x-python",
   "name": "python",
   "nbconvert_exporter": "python",
   "pygments_lexer": "ipython3",
   "version": "3.7.13"
  }
 },
 "nbformat": 4,
 "nbformat_minor": 5
}
