{
 "cells": [
  {
   "cell_type": "code",
   "execution_count": 3,
   "id": "4804254d-b6e3-4eaf-bd90-0d2a1951d547",
   "metadata": {},
   "outputs": [],
   "source": [
    "import pandas as pd\n",
    "import numpy as np\n",
    "import scipy.stats as stats\n",
    "import glob\n",
    "import matplotlib.pyplot as plt\n",
    "import matplotlib as mpl\n",
    "import seaborn as sns\n",
    "import os\n",
    "from collections import defaultdict\n",
    "\n",
    "from sklearn import decomposition\n",
    "from sklearn import preprocessing\n",
    "\n",
    "from scripts import aesthetics\n",
    "\n",
    "aesthetics.activate_paper_rcParams('illustrator')\n",
    "\n",
    "from scripts import manuscript_colors as mc"
   ]
  },
  {
   "cell_type": "markdown",
   "id": "00d907e6-14f3-428e-9bb1-1d5351bb7951",
   "metadata": {},
   "source": [
    "# RNA Analysis\n",
    "\n",
    "In this notebook, we analyze the outputs of `sv-impact-on-rna-generate.ipynb` to make figures.\n",
    "\n",
    "__Note:__ This notebook makes use of the nice statistical properties of the null uniform distribution of ranks to do calculations. See the methods of the paper for further details."
   ]
  },
  {
   "cell_type": "markdown",
   "id": "0693f449-a65c-47f4-ae12-d2f980c1fd76",
   "metadata": {},
   "source": [
    "# Read in data"
   ]
  },
  {
   "cell_type": "code",
   "execution_count": 4,
   "id": "13b1dad0-09e0-4170-9fd6-5ace4eaf1685",
   "metadata": {},
   "outputs": [],
   "source": [
    "rna_data = pd.read_csv('data/rna/gmkf_neuroblastoma_tpms.csv', index_col = 0)\n",
    "dosages = pd.read_csv('data/rna/dosages-for-sv-rna-analysis.csv').iloc[:, 3:].set_index(\"ID\")"
   ]
  },
  {
   "cell_type": "code",
   "execution_count": 5,
   "id": "416aa9b2-820c-4092-836f-1b5479640c09",
   "metadata": {},
   "outputs": [
    {
     "name": "stderr",
     "output_type": "stream",
     "text": [
      "/Users/jettcrowdis/opt/anaconda3/envs/pedsv-test-conda/lib/python3.7/site-packages/IPython/core/interactiveshell.py:3457: DtypeWarning: Columns (34,35,37,39,41,45,46,47) have mixed types.Specify dtype option on import or set low_memory=False.\n",
      "  exec(code_obj, self.user_global_ns, self.user_ns)\n"
     ]
    }
   ],
   "source": [
    "# read in the SVs used in the RNA analysis\n",
    "analysis_svs = pd.read_csv('data/rna/svs-for-sv-rna-analysis.csv')\n",
    "\n",
    "# and our actual results\n",
    "sv_rna_results = pd.read_csv('data/rna/sv-gene-rna-results.csv')"
   ]
  },
  {
   "cell_type": "code",
   "execution_count": 6,
   "id": "ef14653b-98cc-4360-8e2e-0e33e711fcdf",
   "metadata": {},
   "outputs": [
    {
     "data": {
      "text/html": [
       "<div>\n",
       "<style scoped>\n",
       "    .dataframe tbody tr th:only-of-type {\n",
       "        vertical-align: middle;\n",
       "    }\n",
       "\n",
       "    .dataframe tbody tr th {\n",
       "        vertical-align: top;\n",
       "    }\n",
       "\n",
       "    .dataframe thead th {\n",
       "        text-align: right;\n",
       "    }\n",
       "</style>\n",
       "<table border=\"1\" class=\"dataframe\">\n",
       "  <thead>\n",
       "    <tr style=\"text-align: right;\">\n",
       "      <th></th>\n",
       "      <th>name</th>\n",
       "      <th>sv_effect</th>\n",
       "      <th>genic_relationship</th>\n",
       "      <th>gene</th>\n",
       "      <th>sv_coding_counts</th>\n",
       "      <th>sv_noncoding_counts</th>\n",
       "      <th>sv_unimportant_coding_counts</th>\n",
       "      <th>#chrom_x</th>\n",
       "      <th>start_x</th>\n",
       "      <th>end_x</th>\n",
       "      <th>...</th>\n",
       "      <th>end_y</th>\n",
       "      <th>svtype_y</th>\n",
       "      <th>distance</th>\n",
       "      <th>mean_exp</th>\n",
       "      <th>num_rna_genotyped</th>\n",
       "      <th>num_greater_0_dosage</th>\n",
       "      <th>mean_greater_0_dosage_rank</th>\n",
       "      <th>mean_greater_0_exp</th>\n",
       "      <th>mean_leq_0_exp</th>\n",
       "      <th>mwu_p</th>\n",
       "    </tr>\n",
       "  </thead>\n",
       "  <tbody>\n",
       "    <tr>\n",
       "      <th>0</th>\n",
       "      <td>PedSV.2.5.2_CNV_chr1_6</td>\n",
       "      <td>noncoding</td>\n",
       "      <td>PREDICTED_NEAREST_TSS</td>\n",
       "      <td>OR4F29</td>\n",
       "      <td>0.0</td>\n",
       "      <td>1.0</td>\n",
       "      <td>0.0</td>\n",
       "      <td>chr1</td>\n",
       "      <td>257666</td>\n",
       "      <td>262901</td>\n",
       "      <td>...</td>\n",
       "      <td>262901</td>\n",
       "      <td>CNV</td>\n",
       "      <td>187839.0</td>\n",
       "      <td>0.266629</td>\n",
       "      <td>89</td>\n",
       "      <td>15</td>\n",
       "      <td>0.492045</td>\n",
       "      <td>0.247333</td>\n",
       "      <td>0.270541</td>\n",
       "      <td>0.912668</td>\n",
       "    </tr>\n",
       "    <tr>\n",
       "      <th>1</th>\n",
       "      <td>PedSV.2.5.2_CNV_chr1_7</td>\n",
       "      <td>noncoding</td>\n",
       "      <td>PREDICTED_NEAREST_TSS</td>\n",
       "      <td>OR4F29</td>\n",
       "      <td>0.0</td>\n",
       "      <td>1.0</td>\n",
       "      <td>0.0</td>\n",
       "      <td>chr1</td>\n",
       "      <td>262333</td>\n",
       "      <td>288667</td>\n",
       "      <td>...</td>\n",
       "      <td>288667</td>\n",
       "      <td>CNV</td>\n",
       "      <td>162073.0</td>\n",
       "      <td>0.266629</td>\n",
       "      <td>89</td>\n",
       "      <td>62</td>\n",
       "      <td>0.489736</td>\n",
       "      <td>0.255484</td>\n",
       "      <td>0.292222</td>\n",
       "      <td>0.620135</td>\n",
       "    </tr>\n",
       "  </tbody>\n",
       "</table>\n",
       "<p>2 rows × 23 columns</p>\n",
       "</div>"
      ],
      "text/plain": [
       "                     name  sv_effect     genic_relationship    gene  \\\n",
       "0  PedSV.2.5.2_CNV_chr1_6  noncoding  PREDICTED_NEAREST_TSS  OR4F29   \n",
       "1  PedSV.2.5.2_CNV_chr1_7  noncoding  PREDICTED_NEAREST_TSS  OR4F29   \n",
       "\n",
       "   sv_coding_counts  sv_noncoding_counts  sv_unimportant_coding_counts  \\\n",
       "0               0.0                  1.0                           0.0   \n",
       "1               0.0                  1.0                           0.0   \n",
       "\n",
       "  #chrom_x  start_x   end_x  ...   end_y svtype_y  distance  mean_exp  \\\n",
       "0     chr1   257666  262901  ...  262901      CNV  187839.0  0.266629   \n",
       "1     chr1   262333  288667  ...  288667      CNV  162073.0  0.266629   \n",
       "\n",
       "  num_rna_genotyped  num_greater_0_dosage  mean_greater_0_dosage_rank  \\\n",
       "0                89                    15                    0.492045   \n",
       "1                89                    62                    0.489736   \n",
       "\n",
       "   mean_greater_0_exp  mean_leq_0_exp     mwu_p  \n",
       "0            0.247333        0.270541  0.912668  \n",
       "1            0.255484        0.292222  0.620135  \n",
       "\n",
       "[2 rows x 23 columns]"
      ]
     },
     "execution_count": 6,
     "metadata": {},
     "output_type": "execute_result"
    }
   ],
   "source": [
    "sv_rna_results.head(2)"
   ]
  },
  {
   "cell_type": "markdown",
   "id": "6dd1a4a4-bd28-4d62-826d-dec95383ec65",
   "metadata": {},
   "source": [
    "Now we load the categories"
   ]
  },
  {
   "cell_type": "code",
   "execution_count": 7,
   "id": "9c739e6c-1e25-46a5-9835-c4454c891de0",
   "metadata": {
    "tags": []
   },
   "outputs": [
    {
     "data": {
      "text/html": [
       "<div>\n",
       "<style scoped>\n",
       "    .dataframe tbody tr th:only-of-type {\n",
       "        vertical-align: middle;\n",
       "    }\n",
       "\n",
       "    .dataframe tbody tr th {\n",
       "        vertical-align: top;\n",
       "    }\n",
       "\n",
       "    .dataframe thead th {\n",
       "        text-align: right;\n",
       "    }\n",
       "</style>\n",
       "<table border=\"1\" class=\"dataframe\">\n",
       "  <thead>\n",
       "    <tr style=\"text-align: right;\">\n",
       "      <th></th>\n",
       "      <th>SV</th>\n",
       "      <th>chrom</th>\n",
       "      <th>start</th>\n",
       "      <th>end</th>\n",
       "      <th>category</th>\n",
       "      <th>disease</th>\n",
       "      <th>sv_category</th>\n",
       "    </tr>\n",
       "  </thead>\n",
       "  <tbody>\n",
       "    <tr>\n",
       "      <th>0</th>\n",
       "      <td>PedSV.2.5.2_DUP_chr1_794</td>\n",
       "      <td>chr1</td>\n",
       "      <td>19221626</td>\n",
       "      <td>19301822</td>\n",
       "      <td>DUP.RARE.PREDICTED_COPY_GAIN.lof_constrained.e...</td>\n",
       "      <td>neuroblastoma</td>\n",
       "      <td>coding</td>\n",
       "    </tr>\n",
       "    <tr>\n",
       "      <th>1</th>\n",
       "      <td>PedSV.2.5.2_DUP_chr1_1379</td>\n",
       "      <td>chr1</td>\n",
       "      <td>44731601</td>\n",
       "      <td>44792024</td>\n",
       "      <td>DUP.RARE.PREDICTED_COPY_GAIN.lof_constrained.e...</td>\n",
       "      <td>neuroblastoma</td>\n",
       "      <td>coding</td>\n",
       "    </tr>\n",
       "  </tbody>\n",
       "</table>\n",
       "</div>"
      ],
      "text/plain": [
       "                          SV chrom     start       end  \\\n",
       "0   PedSV.2.5.2_DUP_chr1_794  chr1  19221626  19301822   \n",
       "1  PedSV.2.5.2_DUP_chr1_1379  chr1  44731601  44792024   \n",
       "\n",
       "                                            category        disease  \\\n",
       "0  DUP.RARE.PREDICTED_COPY_GAIN.lof_constrained.e...  neuroblastoma   \n",
       "1  DUP.RARE.PREDICTED_COPY_GAIN.lof_constrained.e...  neuroblastoma   \n",
       "\n",
       "  sv_category  \n",
       "0      coding  \n",
       "1      coding  "
      ]
     },
     "execution_count": 7,
     "metadata": {},
     "output_type": "execute_result"
    }
   ],
   "source": [
    "###########\n",
    "### SVs ###\n",
    "###########\n",
    "category_svs = []\n",
    "for file in glob.glob(\"data/cwas/svs-in-categories/*.txt\"):\n",
    "    disease = file.split(\"/\")[-1].split(\"_\")[0]\n",
    "\n",
    "    sv_category = \"noncoding\" if \"noncoding\" in file else \"coding\"\n",
    "\n",
    "    cat_svs = pd.read_csv(file, sep=\"\\t\")\n",
    "    cat_svs[[\"disease\", \"sv_category\"]] = [disease, sv_category]\n",
    "    category_svs.append(cat_svs)\n",
    "\n",
    "category_svs = pd.concat(category_svs)\n",
    "category_svs.head(2)"
   ]
  },
  {
   "cell_type": "code",
   "execution_count": 8,
   "id": "4e68c913-98e8-41f5-a33a-5540b551c2ca",
   "metadata": {},
   "outputs": [],
   "source": [
    "#########################\n",
    "### FRAMEWORK RESULTS ###\n",
    "#########################\n",
    "columns = ['category_name', 'point_estimate', 'std_error', 'z_score', 'p_value']\n",
    "framework_results = []\n",
    "for file in glob.glob(\"data/cwas/summary-stats/*.txt\"):\n",
    "\n",
    "    disease = file.split(\"/\")[-1].split(\"_\")[0]\n",
    "\n",
    "    sv_category = \"noncoding\" if \"noncoding\" in file else \"coding\"\n",
    "\n",
    "    data = pd.read_csv(file, sep=\"\\t\", usecols = columns)\n",
    "    data[[\"disease\", \"sv_category\"]] = [\n",
    "        disease,\n",
    "        sv_category,\n",
    "    ]\n",
    "    framework_results.append(data)\n",
    "\n",
    "framework_results = pd.concat(framework_results)\n",
    "framework_results['negative_log10_p_value'] = -np.log10(framework_results['p_value'])"
   ]
  },
  {
   "cell_type": "code",
   "execution_count": 9,
   "id": "b791ae6e-2bb9-4e49-b978-6e774ddc0cb9",
   "metadata": {},
   "outputs": [],
   "source": [
    "num_tests = {\n",
    "    \"neuroblastoma-coding\": 324,\n",
    "    \"neuroblastoma-noncoding\": 940,\n",
    "    \"ewing-coding\": 324,\n",
    "    \"ewing-noncoding\": 918,\n",
    "}\n",
    "\n",
    "bonf_nlp_thresholds = {d: -np.log10(0.05 / n_test) for d, n_test in num_tests.items()}\n",
    "\n",
    "framework_results[\"bonferroni_p\"] = framework_results.apply(\n",
    "    lambda row: row[\"p_value\"] * num_tests[row[\"disease\"] + \"-\" + row[\"sv_category\"]],\n",
    "    axis=1,\n",
    ")\n",
    "\n",
    "framework_results[\"bonferroni_significant\"] = framework_results[\"bonferroni_p\"] < 0.05"
   ]
  },
  {
   "cell_type": "code",
   "execution_count": 10,
   "id": "a5921e81-aa6f-4129-b43f-b5b085386702",
   "metadata": {},
   "outputs": [
    {
     "data": {
      "text/html": [
       "<div>\n",
       "<style scoped>\n",
       "    .dataframe tbody tr th:only-of-type {\n",
       "        vertical-align: middle;\n",
       "    }\n",
       "\n",
       "    .dataframe tbody tr th {\n",
       "        vertical-align: top;\n",
       "    }\n",
       "\n",
       "    .dataframe thead th {\n",
       "        text-align: right;\n",
       "    }\n",
       "</style>\n",
       "<table border=\"1\" class=\"dataframe\">\n",
       "  <thead>\n",
       "    <tr style=\"text-align: right;\">\n",
       "      <th></th>\n",
       "      <th>point_estimate</th>\n",
       "      <th>std_error</th>\n",
       "      <th>z_score</th>\n",
       "      <th>p_value</th>\n",
       "      <th>category_name</th>\n",
       "      <th>disease</th>\n",
       "      <th>sv_category</th>\n",
       "      <th>negative_log10_p_value</th>\n",
       "      <th>bonferroni_p</th>\n",
       "      <th>bonferroni_significant</th>\n",
       "    </tr>\n",
       "  </thead>\n",
       "  <tbody>\n",
       "    <tr>\n",
       "      <th>0</th>\n",
       "      <td>0.086070</td>\n",
       "      <td>0.317723</td>\n",
       "      <td>0.270895</td>\n",
       "      <td>0.786472</td>\n",
       "      <td>DUP.RARE.PREDICTED_COPY_GAIN.lof_constrained.e...</td>\n",
       "      <td>ewing</td>\n",
       "      <td>coding</td>\n",
       "      <td>0.104317</td>\n",
       "      <td>254.816767</td>\n",
       "      <td>False</td>\n",
       "    </tr>\n",
       "    <tr>\n",
       "      <th>1</th>\n",
       "      <td>-0.403845</td>\n",
       "      <td>0.430204</td>\n",
       "      <td>-0.938729</td>\n",
       "      <td>0.347870</td>\n",
       "      <td>DUP.RARE.PREDICTED_COPY_GAIN.ANY.ANY.signaling...</td>\n",
       "      <td>ewing</td>\n",
       "      <td>coding</td>\n",
       "      <td>0.458583</td>\n",
       "      <td>112.709843</td>\n",
       "      <td>False</td>\n",
       "    </tr>\n",
       "  </tbody>\n",
       "</table>\n",
       "</div>"
      ],
      "text/plain": [
       "   point_estimate  std_error   z_score   p_value  \\\n",
       "0        0.086070   0.317723  0.270895  0.786472   \n",
       "1       -0.403845   0.430204 -0.938729  0.347870   \n",
       "\n",
       "                                       category_name disease sv_category  \\\n",
       "0  DUP.RARE.PREDICTED_COPY_GAIN.lof_constrained.e...   ewing      coding   \n",
       "1  DUP.RARE.PREDICTED_COPY_GAIN.ANY.ANY.signaling...   ewing      coding   \n",
       "\n",
       "   negative_log10_p_value  bonferroni_p  bonferroni_significant  \n",
       "0                0.104317    254.816767                   False  \n",
       "1                0.458583    112.709843                   False  "
      ]
     },
     "execution_count": 10,
     "metadata": {},
     "output_type": "execute_result"
    }
   ],
   "source": [
    "framework_results.head(2)"
   ]
  },
  {
   "cell_type": "code",
   "execution_count": 11,
   "id": "3374ff59-51d8-460a-a20e-28f856a3738b",
   "metadata": {},
   "outputs": [
    {
     "data": {
      "text/plain": [
       "disease        sv_category\n",
       "neuroblastoma  coding         29\n",
       "               noncoding       6\n",
       "dtype: int64"
      ]
     },
     "execution_count": 11,
     "metadata": {},
     "output_type": "execute_result"
    }
   ],
   "source": [
    "framework_results.query('bonferroni_significant == True').groupby(['disease', 'sv_category']).size()"
   ]
  },
  {
   "cell_type": "markdown",
   "id": "591d7908-35ec-4cea-b034-352dbd986752",
   "metadata": {},
   "source": [
    "# Examine all coding/non-coding SVs\n",
    "\n",
    "Before determining if individual categories have an \"effect\" on expression, we'll do it for all coding or noncoding SVs"
   ]
  },
  {
   "cell_type": "code",
   "execution_count": 12,
   "id": "9c844b10-b5d1-419c-93e6-729ddbf7d239",
   "metadata": {},
   "outputs": [
    {
     "name": "stdout",
     "output_type": "stream",
     "text": [
      "sv_effect         \n",
      "noncoding             7940\n",
      "coding                 196\n",
      "unimportant_coding      37\n",
      "dtype: int64\n"
     ]
    }
   ],
   "source": [
    "# First identify single-sample, single-gene SVs\n",
    "noncoding_ss_sg_svs = sv_rna_results.query('sv_noncoding_counts == 1 & num_greater_0_dosage == 1 & sv_coding_counts == 0 & sv_unimportant_coding_counts == 0')\n",
    "coding_ss_sg_svs = sv_rna_results[((sv_rna_results['sv_coding_counts'] == 1) | (sv_rna_results['sv_unimportant_coding_counts'] == 1)) &\n",
    "                                  (sv_rna_results['sv_noncoding_counts'] == 0) &\n",
    "                                  (sv_rna_results['num_greater_0_dosage'] == 1)]\n",
    "\n",
    "# in cases where an SV has both an important and unimportant coding effect, keep the important\n",
    "coding_ss_sg_svs = coding_ss_sg_svs.sort_values(by = 'sv_effect').drop_duplicates(subset = ['name'])\n",
    "\n",
    "single_gene_sample_svs = pd.concat([coding_ss_sg_svs, noncoding_ss_sg_svs])\n",
    "\n",
    "print(single_gene_sample_svs[['sv_effect']].value_counts())"
   ]
  },
  {
   "cell_type": "code",
   "execution_count": 13,
   "id": "b216978e-13f6-440b-b026-33b87f00db4d",
   "metadata": {},
   "outputs": [
    {
     "name": "stdout",
     "output_type": "stream",
     "text": [
      "196 coding p = 0.028457869182546447 mean = 0.44837902972600807\n",
      "7940 noncoding p = 0.9998765039234522 mean = 0.502915461888094\n",
      "37 unimportant_coding p = 0.5558200082237269 mean = 0.5669891977877831\n"
     ]
    },
    {
     "data": {
      "image/png": "[encoded data removed]",
      "text/plain": [
       "<Figure size 300x100 with 2 Axes>"
      ]
     },
     "metadata": {},
     "output_type": "display_data"
    },
    {
     "data": {
      "image/png": "[encoded data removed]",
      "text/plain": [
       "<Figure size 300x100 with 2 Axes>"
      ]
     },
     "metadata": {},
     "output_type": "display_data"
    },
    {
     "data": {
      "image/png": "[encoded data removed]",
      "text/plain": [
       "<Figure size 300x100 with 2 Axes>"
      ]
     },
     "metadata": {},
     "output_type": "display_data"
    }
   ],
   "source": [
    "for sv_effect in ['coding', 'noncoding', 'unimportant_coding']:\n",
    "\n",
    "    # get the data\n",
    "    ss_sg_svs = single_gene_sample_svs.query(f'sv_effect == \"{sv_effect}\"')\n",
    "    \n",
    "    # calculate the rank deviation from 0.5\n",
    "    rank_deviation = np.abs(0.5 - ss_sg_svs['mean_greater_0_dosage_rank'])\n",
    "\n",
    "    # plot the rank deviation\n",
    "    fig, axes = plt.subplots(1, 2, figsize = (3, 1))\n",
    "    axes[0].hist(ss_sg_svs['mean_greater_0_dosage_rank'], \n",
    "                 bins = np.arange(0, 1.1, 0.1), density = True)\n",
    "    axes[0].axvline(x = ss_sg_svs['mean_greater_0_dosage_rank'].mean(), linestyle = 'dashed', color = 'black')\n",
    "    axes[1].hist(rank_deviation, bins = np.arange(0, 0.55, 0.05),\n",
    "                 density = True)\n",
    "\n",
    "    for ax in axes:\n",
    "        sns.despine(ax = ax, bottom = True)\n",
    "        ax.tick_params(axis = 'x', length = 0)\n",
    "\n",
    "    axes[0].set_xlim([-0.04, 1.04])\n",
    "    axes[1].set_xlim([-0.02, 0.52])\n",
    "    axes[1].set_xticks([0, 0.125, 0.25, 0.375, 0.5])\n",
    "\n",
    "    axes[0].set_xlabel('Normalized rank')\n",
    "    axes[1].set_xlabel('Normalized rank deviation')\n",
    "    axes[0].set_ylabel('Density')\n",
    "\n",
    "    # calculate a p value - see methods of the paper\n",
    "    num_genes = len(ss_sg_svs)\n",
    "    ref_dist = stats.norm(loc = 0.25, scale = np.sqrt(1/(48 * num_genes)))\n",
    "    p = 1 - ref_dist.cdf(rank_deviation.mean())\n",
    "    print(num_genes, sv_effect, 'p =', p, 'mean =', ss_sg_svs['mean_greater_0_dosage_rank'].mean())\n",
    "\n",
    "    fig.suptitle(f'All single-gene, single-sample {sv_effect} SVs', y = 1.1)\n",
    "\n",
    "    # fig.savefig(f'images/single-sample-single-gene-{sv_effect}-effect-on-expression.png', bbox_inches = 'tight')"
   ]
  },
  {
   "cell_type": "markdown",
   "id": "857765c6-ff9e-4a61-abe6-5de57f5a3357",
   "metadata": {},
   "source": [
    "So we can see that the 196 coding SVs--on average--tend to result in lower expression ranks for the samples they affect. The effect is not significant for noncoding SVs or \"unimportant\" coding SVs (ie SVs not included in the CWAS)"
   ]
  },
  {
   "cell_type": "markdown",
   "id": "e11d797a-5422-42dd-adf8-44453fc3040a",
   "metadata": {},
   "source": [
    "# Calculate for all coding SVs and all noncoding SVs\n",
    "\n",
    "We do the same as above but actually formalize it, as well as break down deletions, etc"
   ]
  },
  {
   "cell_type": "code",
   "execution_count": 14,
   "id": "57dfbd60-9e6b-423c-b114-bcc056c68ee8",
   "metadata": {},
   "outputs": [
    {
     "name": "stdout",
     "output_type": "stream",
     "text": [
      "all_coding 0.09096811007128158 0.4672141207916118 233\n",
      "noncoding 1 0.502915461888094 7940\n",
      "deletions 0.18228448515782913 0.4298061453556176 155\n"
     ]
    }
   ],
   "source": [
    "all_singleton_svs = {}\n",
    "all_results = []\n",
    "for sv_effect in ['all_coding', 'noncoding', 'deletions']:\n",
    "    \n",
    "    if sv_effect in ['coding', 'noncoding']:\n",
    "        all_svs = single_gene_sample_svs.query(f'sv_effect == \"{sv_effect}\"')\n",
    "    elif sv_effect == \"all_coding\":\n",
    "        all_svs = single_gene_sample_svs[single_gene_sample_svs['sv_effect'].isin(['coding', 'unimportant_coding'])]\n",
    "    elif sv_effect == \"deletions\":\n",
    "        all_svs = single_gene_sample_svs.query('genic_relationship == \"PREDICTED_LOF\"')\n",
    "    elif sv_effect == \"utr\":\n",
    "        all_svs = single_gene_sample_svs.query('genic_relationship == \"PREDICTED_UTR\"')\n",
    "\n",
    "    rank_deviation = np.mean(np.abs(0.5 - all_svs['mean_greater_0_dosage_rank']))\n",
    "\n",
    "    num_genes = len(all_svs)\n",
    "    ref_dist = stats.norm(loc = 0.25, scale = np.sqrt(1/(48 * num_genes)))\n",
    "    p_mean = 1 - ref_dist.cdf(rank_deviation)\n",
    "    p_mean = 2 * p_mean if p_mean < 0.5 else 1\n",
    "    rank_mean = np.mean(all_svs['mean_greater_0_dosage_rank'])\n",
    "\n",
    "    print(sv_effect, p_mean, rank_mean, num_genes)\n",
    "    \n",
    "    all_singleton_svs[sv_effect] = all_svs['mean_greater_0_dosage_rank'].values\n",
    "    \n",
    "    all_results.append([sv_effect, rank_deviation, num_genes, p_mean, rank_mean])\n",
    "    \n",
    "all_results = pd.DataFrame(all_results, columns = ['sv_effect', 'rank_deviation', 'num_genes', 'p_mean', 'rank_mean'])\n",
    "all_results['-log10(p_mean)'] = -np.log10(all_results['p_mean'])"
   ]
  },
  {
   "cell_type": "code",
   "execution_count": 15,
   "id": "9830ad44-7a63-4e31-a91b-f45f1c036e5b",
   "metadata": {},
   "outputs": [
    {
     "data": {
      "text/html": [
       "<div>\n",
       "<style scoped>\n",
       "    .dataframe tbody tr th:only-of-type {\n",
       "        vertical-align: middle;\n",
       "    }\n",
       "\n",
       "    .dataframe tbody tr th {\n",
       "        vertical-align: top;\n",
       "    }\n",
       "\n",
       "    .dataframe thead th {\n",
       "        text-align: right;\n",
       "    }\n",
       "</style>\n",
       "<table border=\"1\" class=\"dataframe\">\n",
       "  <thead>\n",
       "    <tr style=\"text-align: right;\">\n",
       "      <th></th>\n",
       "      <th>sv_effect</th>\n",
       "      <th>rank_deviation</th>\n",
       "      <th>num_genes</th>\n",
       "      <th>p_mean</th>\n",
       "      <th>rank_mean</th>\n",
       "      <th>-log10(p_mean)</th>\n",
       "    </tr>\n",
       "  </thead>\n",
       "  <tbody>\n",
       "    <tr>\n",
       "      <th>0</th>\n",
       "      <td>all_coding</td>\n",
       "      <td>0.265983</td>\n",
       "      <td>233</td>\n",
       "      <td>0.090968</td>\n",
       "      <td>0.467214</td>\n",
       "      <td>1.041111</td>\n",
       "    </tr>\n",
       "    <tr>\n",
       "      <th>1</th>\n",
       "      <td>noncoding</td>\n",
       "      <td>0.244063</td>\n",
       "      <td>7940</td>\n",
       "      <td>1.000000</td>\n",
       "      <td>0.502915</td>\n",
       "      <td>-0.000000</td>\n",
       "    </tr>\n",
       "    <tr>\n",
       "      <th>2</th>\n",
       "      <td>deletions</td>\n",
       "      <td>0.265463</td>\n",
       "      <td>155</td>\n",
       "      <td>0.182284</td>\n",
       "      <td>0.429806</td>\n",
       "      <td>0.739250</td>\n",
       "    </tr>\n",
       "  </tbody>\n",
       "</table>\n",
       "</div>"
      ],
      "text/plain": [
       "    sv_effect  rank_deviation  num_genes    p_mean  rank_mean  -log10(p_mean)\n",
       "0  all_coding        0.265983        233  0.090968   0.467214        1.041111\n",
       "1   noncoding        0.244063       7940  1.000000   0.502915       -0.000000\n",
       "2   deletions        0.265463        155  0.182284   0.429806        0.739250"
      ]
     },
     "execution_count": 15,
     "metadata": {},
     "output_type": "execute_result"
    }
   ],
   "source": [
    "all_results"
   ]
  },
  {
   "cell_type": "markdown",
   "id": "44f52bf3-bed9-48e1-a0a7-67cceb919256",
   "metadata": {},
   "source": [
    "We can see that deletions do lead to a lower rank of expression (0.42), but the effect is not significant because samples are lost."
   ]
  },
  {
   "cell_type": "markdown",
   "id": "661df057-e9f2-4e8c-94b7-7515a9d6344c",
   "metadata": {},
   "source": [
    "# Examine categories\n",
    "\n",
    "Now that we have the \"high level\" SV classes (coding, noncoding, deletions), we take a look at categories specifically."
   ]
  },
  {
   "cell_type": "code",
   "execution_count": 16,
   "id": "730883ec-199a-4e07-9492-4d605b4c405a",
   "metadata": {},
   "outputs": [],
   "source": [
    "nbl_categories = framework_results.query('disease == \"neuroblastoma\"')"
   ]
  },
  {
   "cell_type": "markdown",
   "id": "f52d0597-e415-40ca-82d6-51a1a67c0b5d",
   "metadata": {},
   "source": [
    "We now need to calculate significance for ALL these categories."
   ]
  },
  {
   "cell_type": "code",
   "execution_count": 17,
   "id": "8a8c6a1b-7096-43e0-b0ad-88b223504fca",
   "metadata": {},
   "outputs": [],
   "source": [
    "nbl_coding_category_svs = category_svs.query('disease == \"neuroblastoma\"')\n",
    "\n",
    "# make a dictionary that can look up the SVs for a given category\n",
    "cat_to_svs = defaultdict(list)\n",
    "for cat, sv in zip(nbl_coding_category_svs['category'], nbl_coding_category_svs['SV']):\n",
    "    cat_to_svs[cat].append(sv)"
   ]
  },
  {
   "cell_type": "code",
   "execution_count": 18,
   "id": "2246453d-26b7-4299-9a17-5b706728354b",
   "metadata": {},
   "outputs": [],
   "source": [
    "p_vals = []\n",
    "for index, row in nbl_categories.iterrows():\n",
    "    cat = row['category_name']\n",
    "    sv_effect = row['sv_category']\n",
    "    \n",
    "    # get the SVs in the category\n",
    "    svs_in_category = cat_to_svs[cat]\n",
    "    \n",
    "    # get the RNA results for these SVs\n",
    "    category_rna_results = single_gene_sample_svs[(single_gene_sample_svs['name'].isin(svs_in_category))]\n",
    "    \n",
    "    # attempt to calculate a p value\n",
    "    try:\n",
    "        rank_deviation = np.mean(np.abs(0.5 - category_rna_results['mean_greater_0_dosage_rank']))\n",
    "\n",
    "        num_genes = len(category_rna_results)\n",
    "        ref_dist = stats.norm(loc = 0.25, scale = np.sqrt(1/(48 * num_genes)))\n",
    "        p_mean = 1 - ref_dist.cdf(rank_deviation)\n",
    "        \n",
    "        # two sided P value\n",
    "        p_mean = 2 * p_mean if p_mean < 0.5 else 1\n",
    "        rank_mean = np.mean(category_rna_results['mean_greater_0_dosage_rank'])\n",
    "\n",
    "    # will fail in a few instances (e.g. no RNA present)\n",
    "    except:\n",
    "        p_mean = np.nan\n",
    "        rank_mean = np.nan\n",
    "        num_genes = 0\n",
    "        \n",
    "    # if the category is significant, we bootstrap against the background of all SVs\n",
    "    if row['bonferroni_significant'] and sv_effect == 'coding':\n",
    "        \n",
    "        reference = all_singleton_svs['all_coding']\n",
    "        \n",
    "        bs = np.random.choice(reference, size = (num_genes, 1000000))\n",
    "        \n",
    "        bs_mean_ranks = np.mean(bs, axis = 0)\n",
    "        \n",
    "        p_bs = (bs_mean_ranks < rank_mean).mean()\n",
    "        \n",
    "    else:\n",
    "        p_bs = np.nan\n",
    "        \n",
    "    p_vals.append([sv_effect, cat, num_genes, p_mean, rank_mean, p_bs])\n",
    "    \n",
    "p_vals = pd.DataFrame(p_vals, columns = ['sv_category', 'category_name', 'num_genes_rna', 'p_mean', 'rank_mean', 'p_bs'])"
   ]
  },
  {
   "cell_type": "code",
   "execution_count": 19,
   "id": "71828fda-03ba-4c86-8d3a-ceeb37a680c5",
   "metadata": {},
   "outputs": [
    {
     "data": {
      "text/html": [
       "<div>\n",
       "<style scoped>\n",
       "    .dataframe tbody tr th:only-of-type {\n",
       "        vertical-align: middle;\n",
       "    }\n",
       "\n",
       "    .dataframe tbody tr th {\n",
       "        vertical-align: top;\n",
       "    }\n",
       "\n",
       "    .dataframe thead th {\n",
       "        text-align: right;\n",
       "    }\n",
       "</style>\n",
       "<table border=\"1\" class=\"dataframe\">\n",
       "  <thead>\n",
       "    <tr style=\"text-align: right;\">\n",
       "      <th></th>\n",
       "      <th>sv_category</th>\n",
       "      <th>category_name</th>\n",
       "      <th>num_genes_rna</th>\n",
       "      <th>p_mean</th>\n",
       "      <th>rank_mean</th>\n",
       "      <th>p_bs</th>\n",
       "    </tr>\n",
       "  </thead>\n",
       "  <tbody>\n",
       "    <tr>\n",
       "      <th>0</th>\n",
       "      <td>noncoding</td>\n",
       "      <td>ANY.SINGLETON.PREDICTED_NONCODING_BREAKPOINT.n...</td>\n",
       "      <td>46</td>\n",
       "      <td>1.000000</td>\n",
       "      <td>0.447290</td>\n",
       "      <td>NaN</td>\n",
       "    </tr>\n",
       "    <tr>\n",
       "      <th>1</th>\n",
       "      <td>noncoding</td>\n",
       "      <td>ANY.SINGLETON.PREDICTED_NONCODING_BREAKPOINT.n...</td>\n",
       "      <td>21</td>\n",
       "      <td>0.549807</td>\n",
       "      <td>0.371856</td>\n",
       "      <td>NaN</td>\n",
       "    </tr>\n",
       "  </tbody>\n",
       "</table>\n",
       "</div>"
      ],
      "text/plain": [
       "  sv_category                                      category_name  \\\n",
       "0   noncoding  ANY.SINGLETON.PREDICTED_NONCODING_BREAKPOINT.n...   \n",
       "1   noncoding  ANY.SINGLETON.PREDICTED_NONCODING_BREAKPOINT.n...   \n",
       "\n",
       "   num_genes_rna    p_mean  rank_mean  p_bs  \n",
       "0             46  1.000000   0.447290   NaN  \n",
       "1             21  0.549807   0.371856   NaN  "
      ]
     },
     "execution_count": 19,
     "metadata": {},
     "output_type": "execute_result"
    }
   ],
   "source": [
    "p_vals.head(2)"
   ]
  },
  {
   "cell_type": "code",
   "execution_count": 20,
   "id": "1e002db3-dcab-44aa-8646-dea7cb07cd65",
   "metadata": {},
   "outputs": [
    {
     "data": {
      "text/html": [
       "<div>\n",
       "<style scoped>\n",
       "    .dataframe tbody tr th:only-of-type {\n",
       "        vertical-align: middle;\n",
       "    }\n",
       "\n",
       "    .dataframe tbody tr th {\n",
       "        vertical-align: top;\n",
       "    }\n",
       "\n",
       "    .dataframe thead th {\n",
       "        text-align: right;\n",
       "    }\n",
       "</style>\n",
       "<table border=\"1\" class=\"dataframe\">\n",
       "  <thead>\n",
       "    <tr style=\"text-align: right;\">\n",
       "      <th></th>\n",
       "      <th>sv_category</th>\n",
       "      <th>category_name</th>\n",
       "      <th>num_genes_rna</th>\n",
       "      <th>p_mean</th>\n",
       "      <th>rank_mean</th>\n",
       "      <th>p_bs</th>\n",
       "    </tr>\n",
       "  </thead>\n",
       "  <tbody>\n",
       "    <tr>\n",
       "      <th>7907</th>\n",
       "      <td>coding</td>\n",
       "      <td>DEL.SINGLETON.ANY.unconstrained.expressed_in_a...</td>\n",
       "      <td>5</td>\n",
       "      <td>0.005411</td>\n",
       "      <td>0.188636</td>\n",
       "      <td>NaN</td>\n",
       "    </tr>\n",
       "    <tr>\n",
       "      <th>8018</th>\n",
       "      <td>coding</td>\n",
       "      <td>ANY.RARE.PREDICTED_COPY_GAIN.ANY.ANY.protein_c...</td>\n",
       "      <td>15</td>\n",
       "      <td>0.031985</td>\n",
       "      <td>0.529924</td>\n",
       "      <td>NaN</td>\n",
       "    </tr>\n",
       "    <tr>\n",
       "      <th>8065</th>\n",
       "      <td>coding</td>\n",
       "      <td>ANY.RARE.PREDICTED_LOF_or_PREDICTED_PARTIAL_EX...</td>\n",
       "      <td>13</td>\n",
       "      <td>0.002337</td>\n",
       "      <td>0.243541</td>\n",
       "      <td>NaN</td>\n",
       "    </tr>\n",
       "    <tr>\n",
       "      <th>8134</th>\n",
       "      <td>coding</td>\n",
       "      <td>ANY.RARE.ANY.unconstrained.expressed_in_adrena...</td>\n",
       "      <td>16</td>\n",
       "      <td>0.006848</td>\n",
       "      <td>0.247593</td>\n",
       "      <td>NaN</td>\n",
       "    </tr>\n",
       "    <tr>\n",
       "      <th>8145</th>\n",
       "      <td>coding</td>\n",
       "      <td>ANY.RARE.ANY.ANY.expressed_in_adrenal_gland.pr...</td>\n",
       "      <td>50</td>\n",
       "      <td>0.023534</td>\n",
       "      <td>0.383688</td>\n",
       "      <td>0.024400</td>\n",
       "    </tr>\n",
       "    <tr>\n",
       "      <th>8163</th>\n",
       "      <td>coding</td>\n",
       "      <td>ANY.RARE.ANY.ANY.ANY.chromatin_organization_genes</td>\n",
       "      <td>2</td>\n",
       "      <td>0.034390</td>\n",
       "      <td>0.534091</td>\n",
       "      <td>NaN</td>\n",
       "    </tr>\n",
       "    <tr>\n",
       "      <th>8182</th>\n",
       "      <td>coding</td>\n",
       "      <td>ANY.SINGLETON.PREDICTED_COPY_GAIN.ANY.expresse...</td>\n",
       "      <td>3</td>\n",
       "      <td>0.018097</td>\n",
       "      <td>0.386364</td>\n",
       "      <td>NaN</td>\n",
       "    </tr>\n",
       "    <tr>\n",
       "      <th>8228</th>\n",
       "      <td>coding</td>\n",
       "      <td>ANY.SINGLETON.PREDICTED_LOF_or_PREDICTED_PARTI...</td>\n",
       "      <td>6</td>\n",
       "      <td>0.001823</td>\n",
       "      <td>0.316288</td>\n",
       "      <td>NaN</td>\n",
       "    </tr>\n",
       "    <tr>\n",
       "      <th>8288</th>\n",
       "      <td>coding</td>\n",
       "      <td>ANY.SINGLETON.ANY.unconstrained.expressed_in_a...</td>\n",
       "      <td>8</td>\n",
       "      <td>0.001243</td>\n",
       "      <td>0.272727</td>\n",
       "      <td>NaN</td>\n",
       "    </tr>\n",
       "    <tr>\n",
       "      <th>8300</th>\n",
       "      <td>coding</td>\n",
       "      <td>ANY.SINGLETON.ANY.ANY.expressed_in_adrenal_gla...</td>\n",
       "      <td>25</td>\n",
       "      <td>0.030078</td>\n",
       "      <td>0.358211</td>\n",
       "      <td>0.034477</td>\n",
       "    </tr>\n",
       "    <tr>\n",
       "      <th>8313</th>\n",
       "      <td>coding</td>\n",
       "      <td>ANY.SINGLETON.ANY.ANY.ANY.protein_coding</td>\n",
       "      <td>67</td>\n",
       "      <td>0.026743</td>\n",
       "      <td>0.390452</td>\n",
       "      <td>0.018074</td>\n",
       "    </tr>\n",
       "    <tr>\n",
       "      <th>8317</th>\n",
       "      <td>coding</td>\n",
       "      <td>ANY.SINGLETON.ANY.ANY.ANY.chromatin_organizati...</td>\n",
       "      <td>2</td>\n",
       "      <td>0.034390</td>\n",
       "      <td>0.534091</td>\n",
       "      <td>NaN</td>\n",
       "    </tr>\n",
       "    <tr>\n",
       "      <th>8369</th>\n",
       "      <td>coding</td>\n",
       "      <td>DUP.SINGLETON.PREDICTED_COPY_GAIN.ANY.expresse...</td>\n",
       "      <td>3</td>\n",
       "      <td>0.018097</td>\n",
       "      <td>0.386364</td>\n",
       "      <td>NaN</td>\n",
       "    </tr>\n",
       "    <tr>\n",
       "      <th>8412</th>\n",
       "      <td>coding</td>\n",
       "      <td>DUP.SINGLETON.ANY.ANY.expressed_in_adrenal_gla...</td>\n",
       "      <td>4</td>\n",
       "      <td>0.020205</td>\n",
       "      <td>0.332386</td>\n",
       "      <td>NaN</td>\n",
       "    </tr>\n",
       "    <tr>\n",
       "      <th>8452</th>\n",
       "      <td>coding</td>\n",
       "      <td>DEL.RARE.PREDICTED_LOF_or_PREDICTED_PARTIAL_EX...</td>\n",
       "      <td>11</td>\n",
       "      <td>0.002849</td>\n",
       "      <td>0.173876</td>\n",
       "      <td>NaN</td>\n",
       "    </tr>\n",
       "    <tr>\n",
       "      <th>8509</th>\n",
       "      <td>coding</td>\n",
       "      <td>DEL.RARE.ANY.unconstrained.expressed_in_adrena...</td>\n",
       "      <td>11</td>\n",
       "      <td>0.002849</td>\n",
       "      <td>0.173876</td>\n",
       "      <td>NaN</td>\n",
       "    </tr>\n",
       "    <tr>\n",
       "      <th>8518</th>\n",
       "      <td>coding</td>\n",
       "      <td>DUP.RARE.PREDICTED_COPY_GAIN.ANY.ANY.protein_c...</td>\n",
       "      <td>15</td>\n",
       "      <td>0.031985</td>\n",
       "      <td>0.529924</td>\n",
       "      <td>NaN</td>\n",
       "    </tr>\n",
       "    <tr>\n",
       "      <th>8565</th>\n",
       "      <td>coding</td>\n",
       "      <td>DEL.SINGLETON.PREDICTED_LOF_or_PREDICTED_PARTI...</td>\n",
       "      <td>5</td>\n",
       "      <td>0.005411</td>\n",
       "      <td>0.188636</td>\n",
       "      <td>NaN</td>\n",
       "    </tr>\n",
       "  </tbody>\n",
       "</table>\n",
       "</div>"
      ],
      "text/plain": [
       "     sv_category                                      category_name  \\\n",
       "7907      coding  DEL.SINGLETON.ANY.unconstrained.expressed_in_a...   \n",
       "8018      coding  ANY.RARE.PREDICTED_COPY_GAIN.ANY.ANY.protein_c...   \n",
       "8065      coding  ANY.RARE.PREDICTED_LOF_or_PREDICTED_PARTIAL_EX...   \n",
       "8134      coding  ANY.RARE.ANY.unconstrained.expressed_in_adrena...   \n",
       "8145      coding  ANY.RARE.ANY.ANY.expressed_in_adrenal_gland.pr...   \n",
       "8163      coding  ANY.RARE.ANY.ANY.ANY.chromatin_organization_genes   \n",
       "8182      coding  ANY.SINGLETON.PREDICTED_COPY_GAIN.ANY.expresse...   \n",
       "8228      coding  ANY.SINGLETON.PREDICTED_LOF_or_PREDICTED_PARTI...   \n",
       "8288      coding  ANY.SINGLETON.ANY.unconstrained.expressed_in_a...   \n",
       "8300      coding  ANY.SINGLETON.ANY.ANY.expressed_in_adrenal_gla...   \n",
       "8313      coding           ANY.SINGLETON.ANY.ANY.ANY.protein_coding   \n",
       "8317      coding  ANY.SINGLETON.ANY.ANY.ANY.chromatin_organizati...   \n",
       "8369      coding  DUP.SINGLETON.PREDICTED_COPY_GAIN.ANY.expresse...   \n",
       "8412      coding  DUP.SINGLETON.ANY.ANY.expressed_in_adrenal_gla...   \n",
       "8452      coding  DEL.RARE.PREDICTED_LOF_or_PREDICTED_PARTIAL_EX...   \n",
       "8509      coding  DEL.RARE.ANY.unconstrained.expressed_in_adrena...   \n",
       "8518      coding  DUP.RARE.PREDICTED_COPY_GAIN.ANY.ANY.protein_c...   \n",
       "8565      coding  DEL.SINGLETON.PREDICTED_LOF_or_PREDICTED_PARTI...   \n",
       "\n",
       "      num_genes_rna    p_mean  rank_mean      p_bs  \n",
       "7907              5  0.005411   0.188636       NaN  \n",
       "8018             15  0.031985   0.529924       NaN  \n",
       "8065             13  0.002337   0.243541       NaN  \n",
       "8134             16  0.006848   0.247593       NaN  \n",
       "8145             50  0.023534   0.383688  0.024400  \n",
       "8163              2  0.034390   0.534091       NaN  \n",
       "8182              3  0.018097   0.386364       NaN  \n",
       "8228              6  0.001823   0.316288       NaN  \n",
       "8288              8  0.001243   0.272727       NaN  \n",
       "8300             25  0.030078   0.358211  0.034477  \n",
       "8313             67  0.026743   0.390452  0.018074  \n",
       "8317              2  0.034390   0.534091       NaN  \n",
       "8369              3  0.018097   0.386364       NaN  \n",
       "8412              4  0.020205   0.332386       NaN  \n",
       "8452             11  0.002849   0.173876       NaN  \n",
       "8509             11  0.002849   0.173876       NaN  \n",
       "8518             15  0.031985   0.529924       NaN  \n",
       "8565              5  0.005411   0.188636       NaN  "
      ]
     },
     "execution_count": 20,
     "metadata": {},
     "output_type": "execute_result"
    }
   ],
   "source": [
    "p_vals.query('p_mean < 0.05 & sv_category == \"coding\"')"
   ]
  },
  {
   "cell_type": "markdown",
   "id": "b184d570-9b30-43e9-8a62-dba3a0fb8d50",
   "metadata": {},
   "source": [
    "## Plot figure 4f (coding results)"
   ]
  },
  {
   "cell_type": "markdown",
   "id": "b8d3d140-b4c2-4625-9011-8743830efc14",
   "metadata": {},
   "source": [
    "From this, we make figure 4f"
   ]
  },
  {
   "cell_type": "code",
   "execution_count": 21,
   "id": "5e3a8ec9-de35-427e-8858-742c309d1715",
   "metadata": {},
   "outputs": [],
   "source": [
    "nbl_categories = nbl_categories.merge(p_vals, on = ['category_name', 'sv_category'])\n",
    "nbl_categories['-log10(p_mean)'] = -np.log10(nbl_categories['p_mean'])"
   ]
  },
  {
   "cell_type": "code",
   "execution_count": 22,
   "id": "e9bcb482-5454-4e6a-80dd-457d80689729",
   "metadata": {},
   "outputs": [],
   "source": [
    "palette = {'noncoding': mc.palette['neuroblastoma']['light2'],\n",
    "           'coding': mc.palette['neuroblastoma']['main'],\n",
    "           'all_coding': mc.palette['neuroblastoma']['main'],\n",
    "           'deletions': mc.palette['neuroblastoma']['main']}"
   ]
  },
  {
   "cell_type": "markdown",
   "id": "e219bde7-f477-4212-889e-69f2a4603bfc",
   "metadata": {},
   "source": [
    "We only plot points for categories that are significant and singleton"
   ]
  },
  {
   "cell_type": "code",
   "execution_count": 23,
   "id": "8dbcc5b9-f1fb-442e-9d2a-5e77cb0653f6",
   "metadata": {},
   "outputs": [
    {
     "data": {
      "image/png": "[encoded data removed]",
      "text/plain": [
       "<Figure size 100x140 with 1 Axes>"
      ]
     },
     "metadata": {},
     "output_type": "display_data"
    }
   ],
   "source": [
    "plotted_categories = nbl_categories.query('bonferroni_significant')\n",
    "plotted_categories = plotted_categories[plotted_categories['category_name'].str.contains('SINGLETON')]\n",
    "\n",
    "fig, ax = plt.subplots(1, figsize = (1, 1.4))\n",
    "sns.scatterplot(x = 'rank_mean', y = '-log10(p_mean)', data = plotted_categories.query('sv_category == \"coding\"'), \n",
    "                hue = 'sv_category', ec = None, s = 8, palette = palette)\n",
    "ax.set_xlabel('Rank mean\\n(null = 0.50*)')\n",
    "ax.set_ylabel('-log10(expression-p)')\n",
    "sns.despine(ax = ax)\n",
    "ax.set_xlim([0, 1])\n",
    "# ax.axvline(x = 0.5, linewidth = 0.50, linestyle = 'dashed', color = 'darkgrey', zorder = -2)\n",
    "ax.axhline(y = -np.log10(0.05), linestyle = 'dashed', color = 'darkgrey', linewidth = 0.5)\n",
    "\n",
    "ax.set_xlim([0.25, 0.75])\n",
    "ax.set_xticks([0.25, 0.50, 0.75])\n",
    "ax.set_xticklabels(['0.25', '0.50*', '0.75'])\n",
    "ax.legend(bbox_to_anchor = (1, 0.5))\n",
    "ax.set_ylim([-0.1, 2])\n",
    "ax.spines['left'].set_bounds([0, 2])\n",
    "\n",
    "# plot the ALL \"categories\"\n",
    "sns.scatterplot(x = 'rank_mean', y = '-log10(p_mean)', data = all_results, \n",
    "                hue = 'sv_effect', ec = 'black', linewidths = 10, palette = palette)\n",
    "\n",
    "\n",
    "ax.set_yticks([0, 1, -np.log10(0.05), 2])\n",
    "ax.set_yticklabels(['1', '0.1', '0.05', '0.01'])\n",
    "\n",
    "# draw the grey line\n",
    "top = plotted_categories.query('category_name == \"ANY.SINGLETON.ANY.ANY.expressed_in_adrenal_gland.protein_coding\"').iloc[0]\n",
    "end = all_results.query('sv_effect == \"all_coding\"').iloc[0]\n",
    "\n",
    "x_path = [top['rank_mean'], top['rank_mean'], end['rank_mean'], end['rank_mean']]\n",
    "y_path = [top['-log10(p_mean)'] + 0.10, top['-log10(p_mean)'] + 0.2, top['-log10(p_mean)'] + 0.2, end['-log10(p_mean)'] + 0.15]\n",
    "\n",
    "ax.plot(x_path, y_path, color = 'darkgrey', linewidth = 0.5)\n",
    "\n",
    "labels = ['Coding', 'Noncoding', 'Coding deletions']\n",
    "for index, row in all_results.iterrows():\n",
    "    x = row['rank_mean']\n",
    "    y = row['-log10(p_mean)']\n",
    "    if index == 1:\n",
    "        y += 0.15\n",
    "        x -= 0.02\n",
    "    ax.text(s = labels[index], x = x + 0.06, y = y, ha = 'left', va = 'center')\n",
    "\n",
    "ax.legend().remove()\n",
    "\n",
    "fig.savefig('figures/fig4f.pdf', bbox_inches = 'tight')"
   ]
  },
  {
   "cell_type": "markdown",
   "id": "281ff26d-d48f-45b5-bf38-e287586acf27",
   "metadata": {},
   "source": [
    "## Try noncoding\n",
    "\n",
    "There are no noncoding categories that are significant between cases and controls. If we relax our thresholds and simply require p < 0.10 (ie non bonferroni-corrected), we see three categories:"
   ]
  },
  {
   "cell_type": "code",
   "execution_count": 24,
   "id": "d135d5bd-f086-424f-9eeb-f89fc423b0f9",
   "metadata": {},
   "outputs": [
    {
     "data": {
      "text/html": [
       "<div>\n",
       "<style scoped>\n",
       "    .dataframe tbody tr th:only-of-type {\n",
       "        vertical-align: middle;\n",
       "    }\n",
       "\n",
       "    .dataframe tbody tr th {\n",
       "        vertical-align: top;\n",
       "    }\n",
       "\n",
       "    .dataframe thead th {\n",
       "        text-align: right;\n",
       "    }\n",
       "</style>\n",
       "<table border=\"1\" class=\"dataframe\">\n",
       "  <thead>\n",
       "    <tr style=\"text-align: right;\">\n",
       "      <th></th>\n",
       "      <th>point_estimate</th>\n",
       "      <th>std_error</th>\n",
       "      <th>z_score</th>\n",
       "      <th>p_value</th>\n",
       "      <th>category_name</th>\n",
       "      <th>disease</th>\n",
       "      <th>sv_category</th>\n",
       "      <th>negative_log10_p_value</th>\n",
       "      <th>bonferroni_p</th>\n",
       "      <th>bonferroni_significant</th>\n",
       "      <th>num_genes_rna</th>\n",
       "      <th>p_mean</th>\n",
       "      <th>rank_mean</th>\n",
       "      <th>p_bs</th>\n",
       "      <th>-log10(p_mean)</th>\n",
       "    </tr>\n",
       "  </thead>\n",
       "  <tbody>\n",
       "    <tr>\n",
       "      <th>608</th>\n",
       "      <td>0.186366</td>\n",
       "      <td>0.098241</td>\n",
       "      <td>1.897024</td>\n",
       "      <td>0.057825</td>\n",
       "      <td>DEL.SINGLETON.ANY.recombination_hotspot.ANY.AN...</td>\n",
       "      <td>neuroblastoma</td>\n",
       "      <td>noncoding</td>\n",
       "      <td>1.237886</td>\n",
       "      <td>54.355257</td>\n",
       "      <td>False</td>\n",
       "      <td>12</td>\n",
       "      <td>0.002278</td>\n",
       "      <td>0.526006</td>\n",
       "      <td>NaN</td>\n",
       "      <td>2.642506</td>\n",
       "    </tr>\n",
       "    <tr>\n",
       "      <th>711</th>\n",
       "      <td>0.668998</td>\n",
       "      <td>0.367315</td>\n",
       "      <td>1.821320</td>\n",
       "      <td>0.068558</td>\n",
       "      <td>DEL.SINGLETON.ANY.neuroblastoma_encode_consens...</td>\n",
       "      <td>neuroblastoma</td>\n",
       "      <td>noncoding</td>\n",
       "      <td>1.163941</td>\n",
       "      <td>64.444711</td>\n",
       "      <td>False</td>\n",
       "      <td>2</td>\n",
       "      <td>0.016674</td>\n",
       "      <td>0.505682</td>\n",
       "      <td>NaN</td>\n",
       "      <td>1.777961</td>\n",
       "    </tr>\n",
       "    <tr>\n",
       "      <th>829</th>\n",
       "      <td>0.475822</td>\n",
       "      <td>0.273287</td>\n",
       "      <td>1.741109</td>\n",
       "      <td>0.081665</td>\n",
       "      <td>ANY.SINGLETON.PREDICTED_NONCODING_SPAN.recombi...</td>\n",
       "      <td>neuroblastoma</td>\n",
       "      <td>noncoding</td>\n",
       "      <td>1.087967</td>\n",
       "      <td>76.764642</td>\n",
       "      <td>False</td>\n",
       "      <td>2</td>\n",
       "      <td>0.019380</td>\n",
       "      <td>0.511364</td>\n",
       "      <td>NaN</td>\n",
       "      <td>1.712657</td>\n",
       "    </tr>\n",
       "  </tbody>\n",
       "</table>\n",
       "</div>"
      ],
      "text/plain": [
       "     point_estimate  std_error   z_score   p_value  \\\n",
       "608        0.186366   0.098241  1.897024  0.057825   \n",
       "711        0.668998   0.367315  1.821320  0.068558   \n",
       "829        0.475822   0.273287  1.741109  0.081665   \n",
       "\n",
       "                                         category_name        disease  \\\n",
       "608  DEL.SINGLETON.ANY.recombination_hotspot.ANY.AN...  neuroblastoma   \n",
       "711  DEL.SINGLETON.ANY.neuroblastoma_encode_consens...  neuroblastoma   \n",
       "829  ANY.SINGLETON.PREDICTED_NONCODING_SPAN.recombi...  neuroblastoma   \n",
       "\n",
       "    sv_category  negative_log10_p_value  bonferroni_p  bonferroni_significant  \\\n",
       "608   noncoding                1.237886     54.355257                   False   \n",
       "711   noncoding                1.163941     64.444711                   False   \n",
       "829   noncoding                1.087967     76.764642                   False   \n",
       "\n",
       "     num_genes_rna    p_mean  rank_mean  p_bs  -log10(p_mean)  \n",
       "608             12  0.002278   0.526006   NaN        2.642506  \n",
       "711              2  0.016674   0.505682   NaN        1.777961  \n",
       "829              2  0.019380   0.511364   NaN        1.712657  "
      ]
     },
     "execution_count": 24,
     "metadata": {},
     "output_type": "execute_result"
    }
   ],
   "source": [
    "nbl_categories[lambda row: row['category_name'].str.contains('SINGLETON')].query('sv_category == \"noncoding\" & p_mean < 0.05 & p_value < 0.10')"
   ]
  },
  {
   "cell_type": "markdown",
   "id": "97723221-abd3-4aea-adda-bd6b17a3bb47",
   "metadata": {},
   "source": [
    "Two of these have only 2 genes, and the other ostensibly leads to an increase in expression (rank_mean = 0.53). This is inconsistent with known biology and n = 1, so we do not report it."
   ]
  },
  {
   "cell_type": "markdown",
   "id": "98a4dd0f-a514-4bf5-bccc-0b599a438259",
   "metadata": {},
   "source": [
    "# Make a heatmap\n",
    "\n",
    "We create a heatmap to visually demonstrate how germline SVs affect tumor expression."
   ]
  },
  {
   "cell_type": "code",
   "execution_count": 25,
   "id": "c3de44d5-9647-41c0-ab5d-8cf6d59999da",
   "metadata": {},
   "outputs": [],
   "source": [
    "# heatmap_cat = 'DEL.SINGLETON.PREDICTED_LOF_or_PREDICTED_PARTIAL_EXON_DUP.ANY.ANY.protein_coding'\n",
    "heatmap_cat = 'ANY.SINGLETON.ANY.ANY.expressed_in_adrenal_gland.protein_coding'\n",
    "cat_svs = cat_to_svs[heatmap_cat]"
   ]
  },
  {
   "cell_type": "code",
   "execution_count": 26,
   "id": "c8117006-102c-486f-a234-6f91958eb9bc",
   "metadata": {},
   "outputs": [],
   "source": [
    "# get the results for this category\n",
    "heatmap_rna_results = single_gene_sample_svs[single_gene_sample_svs['name'].isin(cat_svs)].sort_values(by = 'mean_greater_0_dosage_rank').reset_index()\n",
    "\n",
    "genes = heatmap_rna_results['gene'].tolist()\n",
    "samples = list(dosages.columns)"
   ]
  },
  {
   "cell_type": "code",
   "execution_count": 27,
   "id": "49af1ebf-1629-4aaf-9b44-5fc7b256c2b5",
   "metadata": {},
   "outputs": [],
   "source": [
    "# we reorder genes such that the rank of the sample that is affected by the SV is monotonically increasing\n",
    "sample_ordering_results = []\n",
    "for i, row in heatmap_rna_results.iterrows():\n",
    "    sv = row['name']\n",
    "    gene = row['gene']\n",
    "    sv_dosages = dosages.loc[sv]\n",
    "    samples_with_sv = list(sv_dosages[sv_dosages > 0].index)\n",
    "\n",
    "    # only singleton SVs here\n",
    "    assert len(samples_with_sv) == 1\n",
    "    \n",
    "    # identify the sample with the SV\n",
    "    samp_with_sv = samples_with_sv[0]\n",
    "    \n",
    "    # get its rank\n",
    "    expression = rna_data.loc[gene, samples].sort_values()\n",
    "    s_idx = expression.index.tolist().index(samp_with_sv)\n",
    "    \n",
    "    sample_ordering_results.append([samp_with_sv, gene, s_idx])\n",
    "\n",
    "# order by rank and get the gene order\n",
    "sample_ordering_results = pd.DataFrame(sample_ordering_results, columns = ['sample', 'gene', 'rank']).sort_values(by = 'rank').reset_index(drop = True)\n",
    "gene_order = sample_ordering_results['gene'].tolist()"
   ]
  },
  {
   "cell_type": "markdown",
   "id": "d9f7b657-c5e5-4c07-8ff7-2d48619930ff",
   "metadata": {},
   "source": [
    "Now we plot"
   ]
  },
  {
   "cell_type": "code",
   "execution_count": 28,
   "id": "ccaceae7-a1c7-47e1-9c76-42dd6b0fa891",
   "metadata": {},
   "outputs": [],
   "source": [
    "# create a color map using our neuroblastoma color palette\n",
    "cmap = mpl.colors.LinearSegmentedColormap.from_list('custom', ['white', mc.palette['neuroblastoma']['light2'], mc.palette['neuroblastoma']['dark1']], N = 256)"
   ]
  },
  {
   "cell_type": "code",
   "execution_count": 29,
   "id": "2acc9401-3be5-4902-80e3-83712c899ec1",
   "metadata": {},
   "outputs": [
    {
     "data": {
      "image/png": "[encoded data removed]",
      "text/plain": [
       "<Figure size 200x230 with 2 Axes>"
      ]
     },
     "metadata": {},
     "output_type": "display_data"
    }
   ],
   "source": [
    "# make the figure, add a gridspec\n",
    "fig = plt.figure(figsize=(2, 2.3))\n",
    "gs = fig.add_gridspec(1)\n",
    "\n",
    "# get the heatmap data\n",
    "heatmap_exp = rna_data.loc[gene_order, samples]\n",
    "heatmap_cols = heatmap_exp.columns\n",
    "\n",
    "heatmap_exp_values = heatmap_exp.values\n",
    "\n",
    "# we now need to scramble the rows by sorting by expression\n",
    "ordered_indices = np.argsort(heatmap_exp_values, axis = 1)\n",
    "heatmap_exp_values = np.sort(heatmap_exp_values, axis = 1)\n",
    "\n",
    "# create a mask for 0 expression\n",
    "mask = (heatmap_exp_values == 0)\n",
    "masked_data = np.where(mask, heatmap_exp_values, np.nan)\n",
    "\n",
    "# convert heatmap data to zscore\n",
    "heatmap_exp_values = stats.zscore(heatmap_exp_values, axis = 1)\n",
    "\n",
    "# plot the heatmap\n",
    "heatmap_ax = fig.add_subplot(gs[0])\n",
    "\n",
    "norm = mpl.colors.Normalize(vmin=-1, vmax=2.5)\n",
    "sns.heatmap(heatmap_exp_values, cmap=cmap, norm = norm, \n",
    "            ax = heatmap_ax, cbar_kws={\"orientation\": \"horizontal\", \"pad\":0.02, 'shrink': 0.2})\n",
    "\n",
    "# label the colorbar\n",
    "cbar = heatmap_ax.collections[0].colorbar\n",
    "cbar.set_label('expression z-score')\n",
    "\n",
    "# ignore the y axis\n",
    "aesthetics.strip_axis(ax = heatmap_ax)\n",
    "heatmap_ax.tick_params(axis = 'y', length = 0)\n",
    "\n",
    "# label the samples with SVs\n",
    "sv_plot = []\n",
    "for i, row in sample_ordering_results.iterrows():\n",
    "    rank = row['rank']\n",
    "    sv_plot.append([rank + 0.5, i + 0.5])\n",
    "    \n",
    "    \n",
    "sv_plot = np.array(sv_plot)\n",
    "heatmap_ax.plot(sv_plot[:, 0], sv_plot[:, 1], color = mc.palette['neuroblastoma'][\"main\"], zorder = 2)\n",
    "\n",
    "heatmap_ax.plot([0.5, 88.5], [0.5, len(heatmap_exp) - 0.5], \n",
    "                color = 'darkgrey', linewidth = 1, zorder = 1)\n",
    "\n",
    "fig.savefig('figures/fig4e.pdf', bbox_inches = 'tight')"
   ]
  },
  {
   "cell_type": "code",
   "execution_count": 30,
   "id": "5a920147-bd72-4ec1-81ea-bb2860adb7a0",
   "metadata": {},
   "outputs": [
    {
     "data": {
      "image/png": "[encoded data removed]",
      "text/plain": [
       "<Figure size 50x50 with 1 Axes>"
      ]
     },
     "metadata": {},
     "output_type": "display_data"
    }
   ],
   "source": [
    "# make a little legend\n",
    "fig, ax = plt.subplots(1, figsize = (0.5, 0.5))\n",
    "ax.set_ylim([0, len(heatmap_exp)])\n",
    "ax.set_xlim([0, 89])\n",
    "aesthetics.strip_axis(ax)\n",
    "\n",
    "ax.plot(sv_plot[:, 0], sv_plot[:, 1], color = mc.palette['neuroblastoma'][\"main\"], zorder = 2)\n",
    "\n",
    "ax.plot([0.5, 88.5], [0.5, len(heatmap_exp) - 0.5], \n",
    "         color = 'darkgrey', linewidth = 1, zorder = 1)\n",
    "fig.savefig('figures/expression-heatmap-legend.pdf', bbox_inches = 'tight')"
   ]
  },
  {
   "cell_type": "markdown",
   "id": "786f2df4-a331-42d3-9ed7-fefffd72c1d9",
   "metadata": {},
   "source": [
    "# Supplements\n",
    "\n",
    "Make some supplemental figures - just another large heatmap for all coding SVs. Repeated code from above."
   ]
  },
  {
   "cell_type": "code",
   "execution_count": 31,
   "id": "6ac74063-c421-4e4c-94c2-e7ad949eb805",
   "metadata": {},
   "outputs": [],
   "source": [
    "heatmap_rna_results = single_gene_sample_svs.query('sv_effect == \"coding\"').sort_values(by = 'mean_greater_0_dosage_rank').reset_index()\n",
    "\n",
    "genes = heatmap_rna_results['gene'].tolist()\n",
    "samples = list(dosages.columns)"
   ]
  },
  {
   "cell_type": "code",
   "execution_count": 32,
   "id": "0ea0d065-2b8f-4472-817b-1208a1170d37",
   "metadata": {},
   "outputs": [],
   "source": [
    "# unfortunately, we actually need to reorder these results. We do this such that the RANK is controlled and monotonically increasing\n",
    "sample_ordering_results = []\n",
    "for i, row in heatmap_rna_results.iterrows():\n",
    "    sv = row['name']\n",
    "    gene = row['gene']\n",
    "    sv_dosages = dosages.loc[sv]\n",
    "    samples_with_sv = list(sv_dosages[sv_dosages > 0].index)\n",
    "\n",
    "    # only singleton SVs here\n",
    "    assert len(samples_with_sv) == 1\n",
    "    \n",
    "    samp_with_sv = samples_with_sv[0]\n",
    "    \n",
    "    expression = rna_data.loc[gene, samples].sort_values()\n",
    "    s_idx = expression.index.tolist().index(samp_with_sv)\n",
    "    \n",
    "    sample_ordering_results.append([samp_with_sv, gene, s_idx])\n",
    "\n",
    "sample_ordering_results = pd.DataFrame(sample_ordering_results, columns = ['sample', 'gene', 'rank']).sort_values(by = 'rank').reset_index(drop = True)\n",
    "gene_order = sample_ordering_results['gene'].tolist()"
   ]
  },
  {
   "cell_type": "markdown",
   "id": "29188ce5-23d9-42a9-a5c1-37cbf47f5d95",
   "metadata": {},
   "source": [
    "Make the plot"
   ]
  },
  {
   "cell_type": "code",
   "execution_count": 33,
   "id": "47b1ea4b-5aa5-4153-a17b-f595994908c3",
   "metadata": {},
   "outputs": [],
   "source": [
    "cmap = mpl.colors.LinearSegmentedColormap.from_list('custom', ['white', mc.palette['neuroblastoma']['light2'], mc.palette['neuroblastoma']['dark1']], N = 256)"
   ]
  },
  {
   "cell_type": "code",
   "execution_count": 34,
   "id": "217bd517-e519-4d0f-b904-2af2639ba25b",
   "metadata": {},
   "outputs": [
    {
     "data": {
      "image/png": "[encoded data removed]",
      "text/plain": [
       "<Figure size 200x250 with 2 Axes>"
      ]
     },
     "metadata": {},
     "output_type": "display_data"
    }
   ],
   "source": [
    "heatmap_exp = rna_data.loc[gene_order, samples]\n",
    "heatmap_cols = heatmap_exp.columns\n",
    "\n",
    "heatmap_exp_values = heatmap_exp.values\n",
    "\n",
    "# we now need to scramble the rows by sorting by expression\n",
    "ordered_indices = np.argsort(heatmap_exp_values, axis = 1)\n",
    "heatmap_exp_values = np.sort(heatmap_exp_values, axis = 1)\n",
    "\n",
    "# create a mask for 0 expression\n",
    "mask = (heatmap_exp_values == 0)\n",
    "masked_data = np.where(mask, heatmap_exp_values, np.nan)\n",
    "\n",
    "# convert heatmap data to zscore\n",
    "heatmap_exp_values = stats.zscore(heatmap_exp_values, axis = 1)\n",
    "\n",
    "fig = plt.figure(figsize=(2, 2.5))# 2.8))\n",
    "gs = fig.add_gridspec(1)\n",
    "\n",
    "# plot the heatmap\n",
    "heatmap_ax = fig.add_subplot(gs[0])\n",
    "\n",
    "norm = mpl.colors.Normalize(vmin=-1, vmax=2.5)\n",
    "sns.heatmap(heatmap_exp_values, cmap=cmap, norm = norm, \n",
    "            ax = heatmap_ax, cbar_kws={\"orientation\": \"horizontal\", \"pad\":0.02, 'shrink': 0.2})\n",
    "\n",
    "# label the colorbar\n",
    "cbar = heatmap_ax.collections[0].colorbar\n",
    "cbar.set_label('expression z-score')\n",
    "\n",
    "example_genes = [0, 3, 5, 7, 9, 13, 15, 20, 24, 26, 31, 35]\n",
    "heatmap_ax.set_yticks(np.array(example_genes) + 0.6)\n",
    "heatmap_ax.set_yticklabels(np.array(gene_order)[example_genes], rotation = 0, ha = 'right', va = 'center',\n",
    "                           fontstyle = 'italic', fontsize = 6);\n",
    "\n",
    "# actually going to ignore the y axis for now\n",
    "aesthetics.strip_axis(ax = heatmap_ax)\n",
    "heatmap_ax.tick_params(axis = 'y', length = 0)\n",
    "\n",
    "# label the samples with SVs\n",
    "sv_plot = []\n",
    "for i, row in sample_ordering_results.iterrows():\n",
    "    rank = row['rank']\n",
    "    # heatmap_ax.scatter(x = rank + 0.5, y = i + 0.5, color = 'black', s = 1, label = label_s)\n",
    "    sv_plot.append([rank + 0.5, i + 0.5])\n",
    "    \n",
    "    \n",
    "sv_plot = np.array(sv_plot)\n",
    "heatmap_ax.plot(sv_plot[:, 0], sv_plot[:, 1], color = mc.palette['neuroblastoma'][\"main\"], zorder = 2)\n",
    "\n",
    "heatmap_ax.plot([0.5, 88.5], [0.5, len(heatmap_rna_results) - 0.5], \n",
    "                color = 'darkgrey', linewidth = 1, zorder = 1)\n",
    "\n",
    "fig.savefig('figures/all-coding-SVs-expression-heatmap.pdf', bbox_inches = 'tight')"
   ]
  },
  {
   "cell_type": "markdown",
   "id": "37fa6ee9-4cbf-4f05-b503-85299b2be8a2",
   "metadata": {},
   "source": [
    "We also make a supplemental figure that shows the effect broken up by genic relationship"
   ]
  },
  {
   "cell_type": "code",
   "execution_count": 35,
   "id": "c0dbfe17-664d-4954-a5ab-0afd0a7664fc",
   "metadata": {},
   "outputs": [
    {
     "data": {
      "text/plain": [
       "PREDICTED_LOF                    155\n",
       "PREDICTED_COPY_GAIN               18\n",
       "PREDICTED_INTRAGENIC_EXON_DUP     14\n",
       "PREDICTED_PARTIAL_EXON_DUP         9\n",
       "Name: genic_relationship, dtype: int64"
      ]
     },
     "execution_count": 35,
     "metadata": {},
     "output_type": "execute_result"
    }
   ],
   "source": [
    "heatmap_rna_results['genic_relationship'].value_counts()"
   ]
  },
  {
   "cell_type": "code",
   "execution_count": 36,
   "id": "6f7c591b-27e1-4d10-a9b9-35605397225b",
   "metadata": {},
   "outputs": [
    {
     "data": {
      "image/png": "[encoded data removed]",
      "text/plain": [
       "<Figure size 400x200 with 4 Axes>"
      ]
     },
     "metadata": {},
     "output_type": "display_data"
    }
   ],
   "source": [
    "fig, axes = plt.subplots(2, 2, figsize = (4, 2), gridspec_kw = {'hspace': 1.2, 'wspace': 0.4})\n",
    "\n",
    "labels = ['Loss-of-function', 'Copy gain', 'Intragenic exon duplication', 'Partial exon duplication']\n",
    "for i, sv_effect in enumerate(['PREDICTED_LOF', 'PREDICTED_COPY_GAIN', 'PREDICTED_INTRAGENIC_EXON_DUP', 'PREDICTED_PARTIAL_EXON_DUP']):\n",
    "    \n",
    "    ax = axes.flat[i]\n",
    "    \n",
    "    sv_subset = heatmap_rna_results.query(f'genic_relationship == \"{sv_effect}\"')\n",
    "    num_genes = len(sv_subset)\n",
    "    \n",
    "    ax.hist(sv_subset['mean_greater_0_dosage_rank'],\n",
    "            bins = np.arange(0, 1.1, 0.1), color = mc.palette['neuroblastoma']['main'], density = True)\n",
    "    \n",
    "    sns.despine(ax = ax, bottom = True)\n",
    "    ax.tick_params(axis = 'x', length = 0)\n",
    "    ax.set_title(labels[i] + f' (n = {num_genes})', fontsize = 6, y = 1.05)\n",
    "    \n",
    "    rank_deviation = np.abs(0.5 - sv_subset['mean_greater_0_dosage_rank'])\n",
    "    ref_dist = stats.norm(loc = 0.25, scale = np.sqrt(1/(48 * num_genes)))\n",
    "    p = 1 - ref_dist.cdf(rank_deviation.mean())\n",
    "    ax.text(s = \" p = {:.2g}\".format(p), x = 0.5, y = 1.15, fontsize = 6,\n",
    "            ha = 'center', va = 'top', transform = ax.transAxes)\n",
    "    ax.set_xlabel('Normalized rank')\n",
    "\n",
    "    mean = np.mean(sv_subset['mean_greater_0_dosage_rank'])\n",
    "    ax.axvline(x = mean, color = 'black', linestyle = 'dashed', linewidth = 0.5)\n",
    "    ax.set_ylabel('Density')\n",
    "    \n",
    "fig.savefig('figures/effect-on-expression-by-sv-effect.pdf', bbox_inches = 'tight')"
   ]
  }
 ],
 "metadata": {
  "kernelspec": {
   "display_name": "pedsv-test-conda",
   "language": "python",
   "name": "pedsv-test-conda"
  },
  "language_info": {
   "codemirror_mode": {
    "name": "ipython",
    "version": 3
   },
   "file_extension": ".py",
   "mimetype": "text/x-python",
   "name": "python",
   "nbconvert_exporter": "python",
   "pygments_lexer": "ipython3",
   "version": "3.7.13"
  }
 },
 "nbformat": 4,
 "nbformat_minor": 5
}
