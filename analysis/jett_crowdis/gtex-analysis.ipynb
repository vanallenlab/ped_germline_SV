{
 "cells": [
  {
   "cell_type": "code",
   "execution_count": 2,
   "id": "349d43a9-0dec-4b26-b36e-caee76d03673",
   "metadata": {},
   "outputs": [],
   "source": [
    "from collections import defaultdict\n",
    "\n",
    "import pybedtools\n",
    "import numpy as np\n",
    "import pandas as pd\n",
    "import scipy.stats as stats\n",
    "import statsmodels.stats\n",
    "\n",
    "import glob\n",
    "\n",
    "import matplotlib as mpl\n",
    "import matplotlib.pyplot as plt\n",
    "import seaborn as sns\n",
    "from scripts import aesthetics\n",
    "from scripts import manuscript_colors as mc\n",
    "\n",
    "aesthetics.activate_paper_rcParams('illustrator')"
   ]
  },
  {
   "cell_type": "markdown",
   "id": "cba2661e-b075-480a-9c29-33dce1f0371b",
   "metadata": {},
   "source": [
    "# GTEX analysis"
   ]
  },
  {
   "cell_type": "markdown",
   "id": "e3693f93-7064-4cd9-9ef1-e1b79f056650",
   "metadata": {},
   "source": [
    "This notebook is dedicated to exploring the expression of genes affected by SVs in our samples."
   ]
  },
  {
   "cell_type": "markdown",
   "id": "afe006dc-8bb9-4f8d-b709-3414f27e6fec",
   "metadata": {},
   "source": [
    "# Load SV-related data\n",
    "\n",
    "We need to load all the SVs and the genes they affect."
   ]
  },
  {
   "cell_type": "code",
   "execution_count": 3,
   "id": "abc33d3f-6af3-4a92-9c29-7cf2c4ed3dca",
   "metadata": {},
   "outputs": [],
   "source": [
    "# define metadata\n",
    "metadata_path = \"gs://vanallen-pedsv-analysis/sample_info/PedSV.v2.5.4.cohort_metadata.w_control_assignments.tsv.gz\"\n",
    "gene_ref_path = \"data/gencode_hg38_protein_coding_genes_for_annotation.txt\""
   ]
  },
  {
   "cell_type": "code",
   "execution_count": 4,
   "id": "1ed27c92-ee10-48a8-9082-d9811ac4cfe1",
   "metadata": {},
   "outputs": [
    {
     "data": {
      "text/plain": [
       "19201"
      ]
     },
     "execution_count": 4,
     "metadata": {},
     "output_type": "execute_result"
    }
   ],
   "source": [
    "gene_ref = pd.read_csv(gene_ref_path)\n",
    "gene_ref = gene_ref[~gene_ref[\"value\"].str.startswith(\"ENSG00\")]\n",
    "gene_ref = sorted(set(gene_ref[\"value\"].tolist()))\n",
    "len(gene_ref)"
   ]
  },
  {
   "cell_type": "markdown",
   "id": "e3167800-1ea0-4a62-adf5-786fa993e81d",
   "metadata": {},
   "source": [
    "## Metadata and reference counts"
   ]
  },
  {
   "cell_type": "markdown",
   "id": "dd8d93df-27ae-4971-80e2-2f2b3aa9813a",
   "metadata": {},
   "source": [
    "Load metadata and SVs"
   ]
  },
  {
   "cell_type": "code",
   "execution_count": 5,
   "id": "332112bc-d353-472e-85e2-5de2bd884a70",
   "metadata": {},
   "outputs": [
    {
     "name": "stdout",
     "output_type": "stream",
     "text": [
      "neuroblastoma case 688\n",
      "neuroblastoma control 4830\n",
      "ewing case 772\n",
      "ewing control 4575\n"
     ]
    }
   ],
   "source": [
    "metadata = pd.read_csv(\n",
    "    metadata_path,\n",
    "    sep=\"\\t\",\n",
    ")\n",
    "\n",
    "# add a sex label to metadata\n",
    "metadata[\"sex\"] = (metadata[\"chrX_CopyNumber\"].round() < 2).astype(int)\n",
    "\n",
    "###############\n",
    "### Samples ###\n",
    "###############\n",
    "samples = defaultdict(dict)\n",
    "\n",
    "total_samples = []\n",
    "for disease in [\"neuroblastoma\", \"ewing\"]:\n",
    "    for cohort in [\"case\", \"control\"]:\n",
    "        disease_cohort_samples = metadata[(metadata[f\"{disease}_{cohort}\"] == True)][\n",
    "            \"entity:sample_id\"\n",
    "        ].tolist()\n",
    "\n",
    "        samples[disease][cohort] = disease_cohort_samples\n",
    "        total_samples += disease_cohort_samples\n",
    "\n",
    "        print(disease, cohort, len(disease_cohort_samples))\n",
    "\n",
    "total_samples = sorted(set(total_samples))"
   ]
  },
  {
   "cell_type": "code",
   "execution_count": 6,
   "id": "54715d37-69a9-404c-ac0f-c03a5fcd8002",
   "metadata": {},
   "outputs": [
    {
     "data": {
      "text/plain": [
       "6431"
      ]
     },
     "execution_count": 6,
     "metadata": {},
     "output_type": "execute_result"
    }
   ],
   "source": [
    "len(total_samples)"
   ]
  },
  {
   "cell_type": "markdown",
   "id": "99225185-d831-462d-831a-88386defb80f",
   "metadata": {},
   "source": [
    "Now we load the SVs. These are reference counts generated in `cwas-gene-set-enrichment`"
   ]
  },
  {
   "cell_type": "code",
   "execution_count": 7,
   "id": "f9cefc7a-8f79-44c9-a60b-ed2ea724c5cb",
   "metadata": {},
   "outputs": [],
   "source": [
    "ref_counts = pd.read_csv(\"data/cwas/reference-counts.csv\")\n",
    "ref_counts = ref_counts[ref_counts['gene'].isin(gene_ref)]"
   ]
  },
  {
   "cell_type": "code",
   "execution_count": 8,
   "id": "2ba4cf3e-e54f-4d5b-a689-d4dd111613e4",
   "metadata": {},
   "outputs": [
    {
     "data": {
      "text/html": [
       "<div>\n",
       "<style scoped>\n",
       "    .dataframe tbody tr th:only-of-type {\n",
       "        vertical-align: middle;\n",
       "    }\n",
       "\n",
       "    .dataframe tbody tr th {\n",
       "        vertical-align: top;\n",
       "    }\n",
       "\n",
       "    .dataframe thead th {\n",
       "        text-align: right;\n",
       "    }\n",
       "</style>\n",
       "<table border=\"1\" class=\"dataframe\">\n",
       "  <thead>\n",
       "    <tr style=\"text-align: right;\">\n",
       "      <th></th>\n",
       "      <th>name</th>\n",
       "      <th>dose</th>\n",
       "      <th>gene</th>\n",
       "      <th>disease</th>\n",
       "      <th>sv_category</th>\n",
       "      <th>cohort</th>\n",
       "    </tr>\n",
       "  </thead>\n",
       "  <tbody>\n",
       "    <tr>\n",
       "      <th>0</th>\n",
       "      <td>PedSV.2.5.2_DEL_chr1_80</td>\n",
       "      <td>0</td>\n",
       "      <td>SAMD11</td>\n",
       "      <td>neuroblastoma</td>\n",
       "      <td>coding</td>\n",
       "      <td>case</td>\n",
       "    </tr>\n",
       "    <tr>\n",
       "      <th>1</th>\n",
       "      <td>PedSV.2.5.2_DEL_chr1_100</td>\n",
       "      <td>1</td>\n",
       "      <td>KLHL17</td>\n",
       "      <td>neuroblastoma</td>\n",
       "      <td>coding</td>\n",
       "      <td>case</td>\n",
       "    </tr>\n",
       "  </tbody>\n",
       "</table>\n",
       "</div>"
      ],
      "text/plain": [
       "                       name  dose    gene        disease sv_category cohort\n",
       "0   PedSV.2.5.2_DEL_chr1_80     0  SAMD11  neuroblastoma      coding   case\n",
       "1  PedSV.2.5.2_DEL_chr1_100     1  KLHL17  neuroblastoma      coding   case"
      ]
     },
     "execution_count": 8,
     "metadata": {},
     "output_type": "execute_result"
    }
   ],
   "source": [
    "ref_counts.head(2)"
   ]
  },
  {
   "cell_type": "markdown",
   "id": "b9f5c295-de73-4e7d-9c9c-8fc8d631c4ac",
   "metadata": {},
   "source": [
    "## Add a label for various SV traits\n",
    "\n",
    "We add some traits to the SVs defined in these files based on the original vcf"
   ]
  },
  {
   "cell_type": "code",
   "execution_count": 9,
   "id": "8b8777dd-c696-4b07-b3c2-c4b8e7d135c4",
   "metadata": {},
   "outputs": [],
   "source": [
    "sv_path = \"gs://vanallen-pedsv-analysis/beds/PedSV.v2.5.4.full_cohort.analysis_samples.sites.bed.gz\"\n",
    "sv_cols = pd.read_csv(sv_path, sep = '\\t', nrows = 0)\n",
    "\n",
    "# in particular, we want whether the SVs are singletons in this analysis\n",
    "cols_to_include = ['name', 'AC', 'gnomad_v3.1_sv_POPMAX_AF']\n",
    "cols_to_include_idx = [i for i, c in enumerate(sv_cols.columns) if c in cols_to_include]\n",
    "\n",
    "svs = pd.read_csv(sv_path, sep = '\\t', usecols = cols_to_include_idx)"
   ]
  },
  {
   "cell_type": "code",
   "execution_count": 10,
   "id": "8af6ceeb-4c8f-4e8d-a1df-7251510a36a9",
   "metadata": {},
   "outputs": [
    {
     "data": {
      "text/html": [
       "<div>\n",
       "<style scoped>\n",
       "    .dataframe tbody tr th:only-of-type {\n",
       "        vertical-align: middle;\n",
       "    }\n",
       "\n",
       "    .dataframe tbody tr th {\n",
       "        vertical-align: top;\n",
       "    }\n",
       "\n",
       "    .dataframe thead th {\n",
       "        text-align: right;\n",
       "    }\n",
       "</style>\n",
       "<table border=\"1\" class=\"dataframe\">\n",
       "  <thead>\n",
       "    <tr style=\"text-align: right;\">\n",
       "      <th></th>\n",
       "      <th>name</th>\n",
       "      <th>AC</th>\n",
       "      <th>gnomad_v3.1_sv_POPMAX_AF</th>\n",
       "    </tr>\n",
       "  </thead>\n",
       "  <tbody>\n",
       "    <tr>\n",
       "      <th>0</th>\n",
       "      <td>PedSV.2.5.2_CNV_chr1_1</td>\n",
       "      <td>0</td>\n",
       "      <td>NaN</td>\n",
       "    </tr>\n",
       "    <tr>\n",
       "      <th>1</th>\n",
       "      <td>PedSV.2.5.2_DUP_chr1_1</td>\n",
       "      <td>356</td>\n",
       "      <td>0.222174</td>\n",
       "    </tr>\n",
       "  </tbody>\n",
       "</table>\n",
       "</div>"
      ],
      "text/plain": [
       "                     name   AC  gnomad_v3.1_sv_POPMAX_AF\n",
       "0  PedSV.2.5.2_CNV_chr1_1    0                       NaN\n",
       "1  PedSV.2.5.2_DUP_chr1_1  356                  0.222174"
      ]
     },
     "execution_count": 10,
     "metadata": {},
     "output_type": "execute_result"
    }
   ],
   "source": [
    "svs.head(2)"
   ]
  },
  {
   "cell_type": "markdown",
   "id": "1cb94a95-d68f-4aae-81c3-40e06fdef2be",
   "metadata": {},
   "source": [
    "An SV is a true singleton if it's allele count is 1 across all the samples (cases and controls) and its AF in gnomad is < 0.01"
   ]
  },
  {
   "cell_type": "code",
   "execution_count": 11,
   "id": "43ce123c-74fb-42e3-9683-3d928fc5d11a",
   "metadata": {},
   "outputs": [],
   "source": [
    "singleton_svs = svs[(svs['AC'] == 1) & (svs['gnomad_v3.1_sv_POPMAX_AF'].fillna(0) < 0.01)]['name']"
   ]
  },
  {
   "cell_type": "code",
   "execution_count": 12,
   "id": "b064c708-2eeb-4597-a878-00009e7e082b",
   "metadata": {},
   "outputs": [],
   "source": [
    "ref_counts['global_singleton'] = ref_counts['name'].isin(singleton_svs)"
   ]
  },
  {
   "cell_type": "markdown",
   "id": "557cb4b5-c018-47c4-bf14-299d00c3f3d5",
   "metadata": {},
   "source": [
    "## Read in the category results\n",
    "\n",
    "I'm going to concatenate all this data so that I'm only dealing with a few files."
   ]
  },
  {
   "cell_type": "code",
   "execution_count": 13,
   "id": "8d5a4d3e-cde0-49ad-bbd9-f6d668a22cbd",
   "metadata": {},
   "outputs": [
    {
     "data": {
      "text/html": [
       "<div>\n",
       "<style scoped>\n",
       "    .dataframe tbody tr th:only-of-type {\n",
       "        vertical-align: middle;\n",
       "    }\n",
       "\n",
       "    .dataframe tbody tr th {\n",
       "        vertical-align: top;\n",
       "    }\n",
       "\n",
       "    .dataframe thead th {\n",
       "        text-align: right;\n",
       "    }\n",
       "</style>\n",
       "<table border=\"1\" class=\"dataframe\">\n",
       "  <thead>\n",
       "    <tr style=\"text-align: right;\">\n",
       "      <th></th>\n",
       "      <th>SV</th>\n",
       "      <th>chrom</th>\n",
       "      <th>start</th>\n",
       "      <th>end</th>\n",
       "      <th>category</th>\n",
       "      <th>disease</th>\n",
       "      <th>sv_category</th>\n",
       "    </tr>\n",
       "  </thead>\n",
       "  <tbody>\n",
       "    <tr>\n",
       "      <th>0</th>\n",
       "      <td>PedSV.2.5.2_DUP_chr1_794</td>\n",
       "      <td>chr1</td>\n",
       "      <td>19221626</td>\n",
       "      <td>19301822</td>\n",
       "      <td>DUP.RARE.PREDICTED_COPY_GAIN.lof_constrained.e...</td>\n",
       "      <td>neuroblastoma</td>\n",
       "      <td>coding</td>\n",
       "    </tr>\n",
       "    <tr>\n",
       "      <th>1</th>\n",
       "      <td>PedSV.2.5.2_DUP_chr1_1379</td>\n",
       "      <td>chr1</td>\n",
       "      <td>44731601</td>\n",
       "      <td>44792024</td>\n",
       "      <td>DUP.RARE.PREDICTED_COPY_GAIN.lof_constrained.e...</td>\n",
       "      <td>neuroblastoma</td>\n",
       "      <td>coding</td>\n",
       "    </tr>\n",
       "  </tbody>\n",
       "</table>\n",
       "</div>"
      ],
      "text/plain": [
       "                          SV chrom     start       end  \\\n",
       "0   PedSV.2.5.2_DUP_chr1_794  chr1  19221626  19301822   \n",
       "1  PedSV.2.5.2_DUP_chr1_1379  chr1  44731601  44792024   \n",
       "\n",
       "                                            category        disease  \\\n",
       "0  DUP.RARE.PREDICTED_COPY_GAIN.lof_constrained.e...  neuroblastoma   \n",
       "1  DUP.RARE.PREDICTED_COPY_GAIN.lof_constrained.e...  neuroblastoma   \n",
       "\n",
       "  sv_category  \n",
       "0      coding  \n",
       "1      coding  "
      ]
     },
     "execution_count": 13,
     "metadata": {},
     "output_type": "execute_result"
    }
   ],
   "source": [
    "###########\n",
    "### SVs ###\n",
    "###########\n",
    "category_svs = []\n",
    "for file in glob.glob(\"data/cwas/svs-in-categories/*.txt\"):\n",
    "    disease = file.split(\"/\")[-1].split(\"_\")[0]\n",
    "\n",
    "    sv_category = \"noncoding\" if \"noncoding\" in file else \"coding\"\n",
    "\n",
    "    cat_svs = pd.read_csv(file, sep=\"\\t\")\n",
    "    cat_svs[[\"disease\", \"sv_category\"]] = [disease, sv_category]\n",
    "    category_svs.append(cat_svs)\n",
    "\n",
    "category_svs = pd.concat(category_svs)\n",
    "category_svs.head(2)"
   ]
  },
  {
   "cell_type": "code",
   "execution_count": 14,
   "id": "401f854f-6749-4333-9acb-36da395e9d93",
   "metadata": {},
   "outputs": [],
   "source": [
    "#########################\n",
    "### FRAMEWORK RESULTS ###\n",
    "#########################\n",
    "columns = ['category_name', 'point_estimate', 'std_error', 'z_score', 'p_value']\n",
    "framework_results = []\n",
    "for file in glob.glob(\"data/cwas/summary-stats/*.txt\"):\n",
    "\n",
    "    disease = file.split(\"/\")[-1].split(\"_\")[0]\n",
    "\n",
    "    sv_category = \"noncoding\" if \"noncoding\" in file else \"coding\"\n",
    "\n",
    "    data = pd.read_csv(file, sep=\"\\t\", usecols = columns)\n",
    "    data[[\"disease\", \"sv_category\"]] = [\n",
    "        disease,\n",
    "        sv_category,\n",
    "    ]\n",
    "    framework_results.append(data)\n",
    "\n",
    "framework_results = pd.concat(framework_results)\n",
    "framework_results['negative_log10_p_value'] = -np.log10(framework_results['p_value'])"
   ]
  },
  {
   "cell_type": "code",
   "execution_count": 15,
   "id": "ab6d937b-f522-419b-b24d-20647f00ba8f",
   "metadata": {},
   "outputs": [],
   "source": [
    "framework_schema = defaultdict(dict)\n",
    "for file in glob.glob(\"data/cwas/schema/*.txt\"):\n",
    "\n",
    "    sv_category = \"noncoding\" if \"noncoding\" in file else \"coding\"\n",
    "    suffix = file.split(\"/\")[-1]\n",
    "    if sv_category == \"coding\":\n",
    "        disease = suffix.split('_')[2]\n",
    "    else:\n",
    "        disease = suffix.split('_')[3]\n",
    "\n",
    "    data = pd.read_csv(file, sep=\"\\t\")\n",
    "    framework_schema[disease][sv_category] = data"
   ]
  },
  {
   "cell_type": "code",
   "execution_count": 16,
   "id": "ce700ab9-de05-45c3-bb97-4e49143a3437",
   "metadata": {},
   "outputs": [
    {
     "data": {
      "text/html": [
       "<div>\n",
       "<style scoped>\n",
       "    .dataframe tbody tr th:only-of-type {\n",
       "        vertical-align: middle;\n",
       "    }\n",
       "\n",
       "    .dataframe tbody tr th {\n",
       "        vertical-align: top;\n",
       "    }\n",
       "\n",
       "    .dataframe thead th {\n",
       "        text-align: right;\n",
       "    }\n",
       "</style>\n",
       "<table border=\"1\" class=\"dataframe\">\n",
       "  <thead>\n",
       "    <tr style=\"text-align: right;\">\n",
       "      <th></th>\n",
       "      <th>sv_type</th>\n",
       "      <th>frequency</th>\n",
       "      <th>functional_intersection</th>\n",
       "      <th>functional_category</th>\n",
       "      <th>genic_relationship</th>\n",
       "      <th>constraint</th>\n",
       "      <th>expression</th>\n",
       "      <th>gene_group</th>\n",
       "    </tr>\n",
       "  </thead>\n",
       "  <tbody>\n",
       "    <tr>\n",
       "      <th>0</th>\n",
       "      <td>DUP</td>\n",
       "      <td>RARE</td>\n",
       "      <td>PREDICTED_NONCODING_BREAKPOINT</td>\n",
       "      <td>ewing_and_osteosarcoma_atac_peaks</td>\n",
       "      <td>PREDICTED_INTERGENIC</td>\n",
       "      <td>lof_constrained</td>\n",
       "      <td>expressed_in_muscle_skeletal</td>\n",
       "      <td>protein_coding</td>\n",
       "    </tr>\n",
       "    <tr>\n",
       "      <th>1</th>\n",
       "      <td>DEL</td>\n",
       "      <td>SINGLETON</td>\n",
       "      <td>PREDICTED_NONCODING_SPAN</td>\n",
       "      <td>ewing_chromHMM15_EnhBiv</td>\n",
       "      <td>PREDICTED_INTRONIC</td>\n",
       "      <td>ANY</td>\n",
       "      <td>ANY</td>\n",
       "      <td>cosmic_and_germline_CPGs</td>\n",
       "    </tr>\n",
       "  </tbody>\n",
       "</table>\n",
       "</div>"
      ],
      "text/plain": [
       "  sv_type  frequency         functional_intersection  \\\n",
       "0     DUP       RARE  PREDICTED_NONCODING_BREAKPOINT   \n",
       "1     DEL  SINGLETON        PREDICTED_NONCODING_SPAN   \n",
       "\n",
       "                 functional_category    genic_relationship       constraint  \\\n",
       "0  ewing_and_osteosarcoma_atac_peaks  PREDICTED_INTERGENIC  lof_constrained   \n",
       "1            ewing_chromHMM15_EnhBiv    PREDICTED_INTRONIC              ANY   \n",
       "\n",
       "                     expression                gene_group  \n",
       "0  expressed_in_muscle_skeletal            protein_coding  \n",
       "1                           ANY  cosmic_and_germline_CPGs  "
      ]
     },
     "execution_count": 16,
     "metadata": {},
     "output_type": "execute_result"
    }
   ],
   "source": [
    "framework_schema[\"ewing\"][\"noncoding\"].head(2)"
   ]
  },
  {
   "cell_type": "markdown",
   "id": "1ee6ec97-7f79-448d-88f1-52ff034f2f01",
   "metadata": {},
   "source": [
    "# Define GTEX data\n",
    "\n",
    "Taken from https://www.gtexportal.org/home/downloads/adult-gtex/bulk_tissue_expression"
   ]
  },
  {
   "cell_type": "code",
   "execution_count": 17,
   "id": "b14fa900-6c8f-4dca-a9f9-c187ae425e98",
   "metadata": {},
   "outputs": [
    {
     "data": {
      "text/html": [
       "<div>\n",
       "<style scoped>\n",
       "    .dataframe tbody tr th:only-of-type {\n",
       "        vertical-align: middle;\n",
       "    }\n",
       "\n",
       "    .dataframe tbody tr th {\n",
       "        vertical-align: top;\n",
       "    }\n",
       "\n",
       "    .dataframe thead th {\n",
       "        text-align: right;\n",
       "    }\n",
       "</style>\n",
       "<table border=\"1\" class=\"dataframe\">\n",
       "  <thead>\n",
       "    <tr style=\"text-align: right;\">\n",
       "      <th></th>\n",
       "      <th>Name</th>\n",
       "      <th>gene</th>\n",
       "      <th>Adipose - Subcutaneous</th>\n",
       "      <th>Adipose - Visceral (Omentum)</th>\n",
       "      <th>Adrenal Gland</th>\n",
       "      <th>Artery - Aorta</th>\n",
       "      <th>Artery - Coronary</th>\n",
       "      <th>Artery - Tibial</th>\n",
       "      <th>Bladder</th>\n",
       "      <th>Brain - Amygdala</th>\n",
       "      <th>...</th>\n",
       "      <th>Skin - Not Sun Exposed (Suprapubic)</th>\n",
       "      <th>Skin - Sun Exposed (Lower leg)</th>\n",
       "      <th>Small Intestine - Terminal Ileum</th>\n",
       "      <th>Spleen</th>\n",
       "      <th>Stomach</th>\n",
       "      <th>Testis</th>\n",
       "      <th>Thyroid</th>\n",
       "      <th>Uterus</th>\n",
       "      <th>Vagina</th>\n",
       "      <th>Whole Blood</th>\n",
       "    </tr>\n",
       "  </thead>\n",
       "  <tbody>\n",
       "    <tr>\n",
       "      <th>0</th>\n",
       "      <td>ENSG00000223972.5</td>\n",
       "      <td>DDX11L1</td>\n",
       "      <td>0.00000</td>\n",
       "      <td>0.00000</td>\n",
       "      <td>0.00000</td>\n",
       "      <td>0.00000</td>\n",
       "      <td>0.00000</td>\n",
       "      <td>0.00000</td>\n",
       "      <td>0.00000</td>\n",
       "      <td>0.00000</td>\n",
       "      <td>...</td>\n",
       "      <td>0.00000</td>\n",
       "      <td>0.00000</td>\n",
       "      <td>0.00000</td>\n",
       "      <td>0.00000</td>\n",
       "      <td>0.00000</td>\n",
       "      <td>0.166403</td>\n",
       "      <td>0.00000</td>\n",
       "      <td>0.00000</td>\n",
       "      <td>0.00000</td>\n",
       "      <td>0.00000</td>\n",
       "    </tr>\n",
       "    <tr>\n",
       "      <th>1</th>\n",
       "      <td>ENSG00000227232.5</td>\n",
       "      <td>WASH7P</td>\n",
       "      <td>4.06403</td>\n",
       "      <td>3.37111</td>\n",
       "      <td>2.68549</td>\n",
       "      <td>4.04762</td>\n",
       "      <td>3.90076</td>\n",
       "      <td>3.63963</td>\n",
       "      <td>5.16375</td>\n",
       "      <td>1.43859</td>\n",
       "      <td>...</td>\n",
       "      <td>5.93298</td>\n",
       "      <td>6.13265</td>\n",
       "      <td>4.19378</td>\n",
       "      <td>5.92631</td>\n",
       "      <td>3.06248</td>\n",
       "      <td>4.702530</td>\n",
       "      <td>6.27255</td>\n",
       "      <td>7.19001</td>\n",
       "      <td>5.74554</td>\n",
       "      <td>2.64743</td>\n",
       "    </tr>\n",
       "  </tbody>\n",
       "</table>\n",
       "<p>2 rows × 56 columns</p>\n",
       "</div>"
      ],
      "text/plain": [
       "                Name     gene  Adipose - Subcutaneous  \\\n",
       "0  ENSG00000223972.5  DDX11L1                 0.00000   \n",
       "1  ENSG00000227232.5   WASH7P                 4.06403   \n",
       "\n",
       "   Adipose - Visceral (Omentum)  Adrenal Gland  Artery - Aorta  \\\n",
       "0                       0.00000        0.00000         0.00000   \n",
       "1                       3.37111        2.68549         4.04762   \n",
       "\n",
       "   Artery - Coronary  Artery - Tibial  Bladder  Brain - Amygdala  ...  \\\n",
       "0            0.00000          0.00000  0.00000           0.00000  ...   \n",
       "1            3.90076          3.63963  5.16375           1.43859  ...   \n",
       "\n",
       "   Skin - Not Sun Exposed (Suprapubic)  Skin - Sun Exposed (Lower leg)  \\\n",
       "0                              0.00000                         0.00000   \n",
       "1                              5.93298                         6.13265   \n",
       "\n",
       "   Small Intestine - Terminal Ileum   Spleen  Stomach    Testis  Thyroid  \\\n",
       "0                           0.00000  0.00000  0.00000  0.166403  0.00000   \n",
       "1                           4.19378  5.92631  3.06248  4.702530  6.27255   \n",
       "\n",
       "    Uterus   Vagina  Whole Blood  \n",
       "0  0.00000  0.00000      0.00000  \n",
       "1  7.19001  5.74554      2.64743  \n",
       "\n",
       "[2 rows x 56 columns]"
      ]
     },
     "execution_count": 17,
     "metadata": {},
     "output_type": "execute_result"
    }
   ],
   "source": [
    "gtex = pd.read_csv('data/GTEx_Analysis_2017-06-05_v8_RNASeQCv1.1.9_gene_median_tpm.gct.gz', comment = '#', sep = '\\t', skiprows = 2).rename(columns = {'Description': 'gene'})\n",
    "gtex.head(2)"
   ]
  },
  {
   "cell_type": "markdown",
   "id": "0cf97b74-9b4e-406e-9b69-b9f85badc13c",
   "metadata": {},
   "source": [
    "Because we dropped genes with ENGS ids in our cohort, we repeat the same here, only keeping genes present in our GTF."
   ]
  },
  {
   "cell_type": "code",
   "execution_count": 18,
   "id": "a39603c3-67ae-4d68-8afd-66fb9344aaf7",
   "metadata": {},
   "outputs": [],
   "source": [
    "# drop ENGS ids\n",
    "gtex = gtex.iloc[:, 1:]\n",
    "\n",
    "gtex = gtex[gtex['gene'].isin(gene_ref)]\n",
    "\n",
    "gtex = gtex.set_index('gene')\n",
    "\n",
    "# genes need expression in at least 10% of histologies\n",
    "gtex = gtex[(gtex != 0).mean(axis = 1) > 0.10]"
   ]
  },
  {
   "cell_type": "code",
   "execution_count": 19,
   "id": "1df7a3be-5b2b-4549-a19b-b881df868752",
   "metadata": {},
   "outputs": [
    {
     "data": {
      "text/plain": [
       "(17162, 54)"
      ]
     },
     "execution_count": 19,
     "metadata": {},
     "output_type": "execute_result"
    }
   ],
   "source": [
    "gtex.shape"
   ]
  },
  {
   "cell_type": "markdown",
   "id": "ecba4314-33fb-427e-bc32-9142db560f76",
   "metadata": {},
   "source": [
    "## Examine absolute expression\n",
    "\n",
    "We examine the GTEX expression of genes affected by SVs in our dataset. We start by identifying the true singletons."
   ]
  },
  {
   "cell_type": "code",
   "execution_count": 20,
   "id": "5218b27d-9f3e-4b5f-997e-77c8034d4831",
   "metadata": {},
   "outputs": [],
   "source": [
    "singleton_coding_ref_exp = ref_counts.query('dose == 1 & sv_category == \"coding\" & global_singleton == True')\n",
    "singleton_coding_ref_exp = singleton_coding_ref_exp.merge(gtex.reset_index(), on = 'gene')"
   ]
  },
  {
   "cell_type": "markdown",
   "id": "2d29c0ad-0176-4437-b79a-4e3c400a9f13",
   "metadata": {},
   "source": [
    "We next identify the genes that are affected by cases, controls, unique to cases, and unique to controls. For each, store the expression."
   ]
  },
  {
   "cell_type": "code",
   "execution_count": 21,
   "id": "134a1c43-741c-4540-8b16-4741628ea644",
   "metadata": {},
   "outputs": [],
   "source": [
    "tpm_violin_data = []\n",
    "\n",
    "# use Adrenal Gland for neuroblastoma and Skeletal Muscle for ewing\n",
    "for disease, tissue in zip(['neuroblastoma', 'ewing'], \n",
    "                           ['Adrenal Gland', 'Muscle - Skeletal']):\n",
    "    \n",
    "    # get the disease SVs - nbl or ewing\n",
    "    disease_data = singleton_coding_ref_exp.query(f'disease == \"{disease}\"').copy()\n",
    "    \n",
    "    # identify the genes unique to cases or controls\n",
    "    for cohort in ['control', 'case']:\n",
    "        cohort_data = disease_data.query(f'cohort == \"{cohort}\"')[['gene', tissue, 'disease', 'cohort', 'name']]\n",
    "        cohort_data = cohort_data.rename(columns = {tissue: 'tissue'})\n",
    "        tpm_violin_data.append(cohort_data)\n",
    "        \n",
    "        # next, subtract out the \"other\" cohort to get the genes uniquely affected by SVs in this cohort\n",
    "        other = 'control' if cohort == 'case' else 'case'\n",
    "        other_data = disease_data.query(f'cohort == \"{other}\"')\n",
    "        other_unique = cohort_data[~cohort_data['gene'].isin(other_data['gene'].tolist())].copy()\n",
    "        other_unique['cohort'] = f'{cohort}_unique'\n",
    "        tpm_violin_data.append(other_unique)\n",
    "        \n",
    "tpm_violin_data = pd.concat(tpm_violin_data)\n",
    "tpm_violin_data['logTPM'] = np.log10(tpm_violin_data['tissue'] + 1)"
   ]
  },
  {
   "cell_type": "code",
   "execution_count": 22,
   "id": "40ad69b0-5272-47cf-9660-0bb3f571bc6e",
   "metadata": {},
   "outputs": [
    {
     "data": {
      "text/html": [
       "<div>\n",
       "<style scoped>\n",
       "    .dataframe tbody tr th:only-of-type {\n",
       "        vertical-align: middle;\n",
       "    }\n",
       "\n",
       "    .dataframe tbody tr th {\n",
       "        vertical-align: top;\n",
       "    }\n",
       "\n",
       "    .dataframe thead th {\n",
       "        text-align: right;\n",
       "    }\n",
       "</style>\n",
       "<table border=\"1\" class=\"dataframe\">\n",
       "  <thead>\n",
       "    <tr style=\"text-align: right;\">\n",
       "      <th></th>\n",
       "      <th>gene</th>\n",
       "      <th>tissue</th>\n",
       "      <th>disease</th>\n",
       "      <th>cohort</th>\n",
       "      <th>name</th>\n",
       "      <th>logTPM</th>\n",
       "    </tr>\n",
       "  </thead>\n",
       "  <tbody>\n",
       "    <tr>\n",
       "      <th>3</th>\n",
       "      <td>DVL1</td>\n",
       "      <td>64.19010</td>\n",
       "      <td>neuroblastoma</td>\n",
       "      <td>control</td>\n",
       "      <td>PedSV.2.5.2_DEL_chr1_258</td>\n",
       "      <td>1.814182</td>\n",
       "    </tr>\n",
       "    <tr>\n",
       "      <th>11</th>\n",
       "      <td>NPHP4</td>\n",
       "      <td>4.73534</td>\n",
       "      <td>neuroblastoma</td>\n",
       "      <td>control</td>\n",
       "      <td>PedSV.2.5.2_DEL_chr1_1128</td>\n",
       "      <td>0.758559</td>\n",
       "    </tr>\n",
       "  </tbody>\n",
       "</table>\n",
       "</div>"
      ],
      "text/plain": [
       "     gene    tissue        disease   cohort                       name  \\\n",
       "3    DVL1  64.19010  neuroblastoma  control   PedSV.2.5.2_DEL_chr1_258   \n",
       "11  NPHP4   4.73534  neuroblastoma  control  PedSV.2.5.2_DEL_chr1_1128   \n",
       "\n",
       "      logTPM  \n",
       "3   1.814182  \n",
       "11  0.758559  "
      ]
     },
     "execution_count": 22,
     "metadata": {},
     "output_type": "execute_result"
    }
   ],
   "source": [
    "tpm_violin_data.head(2)"
   ]
  },
  {
   "cell_type": "markdown",
   "id": "783eab2a-4eb5-4663-985f-8acde7c1d57f",
   "metadata": {},
   "source": [
    "Now we make Figure 4d. We define a color palette:"
   ]
  },
  {
   "cell_type": "code",
   "execution_count": 23,
   "id": "3d91d5ab-541e-45ba-b99a-58de1bbae1d0",
   "metadata": {},
   "outputs": [],
   "source": [
    "palette = {'neuroblastoma': {'control': 'lightgrey', \n",
    "                             'case': mc.palette['neuroblastoma']['light2'],\n",
    "                             'case_unique': mc.palette['neuroblastoma']['main'],\n",
    "                             'control_unique': 'darkgrey'},\n",
    "           'ewing': {'control': 'lightgrey', \n",
    "                     'control_unique': 'darkgrey',\n",
    "                     'case': mc.palette['ewing']['light2'],\n",
    "                     'case_unique': mc.palette['ewing']['main']}\n",
    "          }"
   ]
  },
  {
   "cell_type": "markdown",
   "id": "06d94286-4db2-4455-99e9-ceeba49a6f00",
   "metadata": {},
   "source": [
    "And make the figure"
   ]
  },
  {
   "cell_type": "code",
   "execution_count": 24,
   "id": "8774bca6-5f3e-4cf7-9f9e-9c2fa72b767f",
   "metadata": {},
   "outputs": [
    {
     "name": "stdout",
     "output_type": "stream",
     "text": [
      "neuroblastoma control 3.73612 0.6754226976586122 4.73612\n",
      "neuroblastoma control_unique 3.938185 0.6935673363061667 4.938184999999999\n",
      "neuroblastoma case 4.52763 0.7425365695483572 5.527629999999999\n",
      "neuroblastoma case_unique 5.83523 0.8347531328102417 6.83523\n",
      "MannwhitneyuResult(statistic=796982.0, pvalue=0.000560110190651271)\n",
      "ewing control 1.60004 0.41498002937299044 2.60004\n",
      "ewing control_unique 1.6704 0.4265763193351715 2.6704\n",
      "ewing case 1.8452 0.454112800025813 2.8452\n",
      "ewing case_unique 2.303925 0.5190147448340754 3.303925\n",
      "MannwhitneyuResult(statistic=907522.0, pvalue=0.04118804864459514)\n"
     ]
    },
    {
     "data": {
      "image/png": "[encoded data removed]",
      "text/plain": [
       "<Figure size 200x180 with 2 Axes>"
      ]
     },
     "metadata": {},
     "output_type": "display_data"
    }
   ],
   "source": [
    "fig, axes = plt.subplots(1, 2, figsize = (2.0, 1.8), gridspec_kw = {'wspace': 0}, sharey = True)\n",
    "\n",
    "for i, disease in enumerate(['neuroblastoma', 'ewing']):\n",
    "    ax = axes[i]\n",
    "\n",
    "    # look up the disease data\n",
    "    disease_data = tpm_violin_data.query(f'disease == \"{disease}\"')\n",
    "    \n",
    "    pal = palette[disease]\n",
    "\n",
    "    # make the violin plot\n",
    "    violin = sns.violinplot(x = 'cohort', y = 'logTPM', data = tpm_violin_data, ax = ax,\n",
    "                            order = ['control', 'control_unique', 'case', 'case_unique'], width = 0.9, linewidth=0, \n",
    "                            cut = 0, palette = pal)\n",
    "    \n",
    "    # add median expression\n",
    "    tpms = []\n",
    "    for j, cohort in enumerate(['control', 'control_unique', 'case', 'case_unique']):\n",
    "        cohort_data = disease_data.query(f'cohort == \"{cohort}\"')\n",
    "        \n",
    "        median = cohort_data['logTPM'].median()\n",
    "        ax.scatter([j], [median], s = 5, color = 'black')\n",
    "        \n",
    "        tpms.append(cohort_data['logTPM'])\n",
    "        \n",
    "        print(disease, cohort, cohort_data['tissue'].median(), median, (10**cohort_data['logTPM']).median())\n",
    "\n",
    "    p = stats.mannwhitneyu(tpms[1], tpms[3])\n",
    "    print(p)\n",
    "    \n",
    "    ax.set_ylim([0, 2.2])\n",
    "    ax.set_xlim([-1, 4])\n",
    "    ax.set_ylabel('log10(TPM + 1)')\n",
    "    ax.set_xlabel('')\n",
    "    ax.set_xticklabels([])\n",
    "    \n",
    "    if i == 0:\n",
    "        aesthetics.strip_axis(ax = ax, y = 'ignore', x = 'label')\n",
    "        \n",
    "    else:\n",
    "        aesthetics.strip_axis(ax = ax, x = 'label')\n",
    "        \n",
    "fig.savefig('figures/fig4d.pdf', bbox_inches = 'tight')"
   ]
  },
  {
   "cell_type": "code",
   "execution_count": 25,
   "id": "df8ae1e6-0913-4c16-ac54-76b4838ce3c3",
   "metadata": {},
   "outputs": [
    {
     "data": {
      "text/html": [
       "<div>\n",
       "<style scoped>\n",
       "    .dataframe tbody tr th:only-of-type {\n",
       "        vertical-align: middle;\n",
       "    }\n",
       "\n",
       "    .dataframe tbody tr th {\n",
       "        vertical-align: top;\n",
       "    }\n",
       "\n",
       "    .dataframe thead th {\n",
       "        text-align: right;\n",
       "    }\n",
       "</style>\n",
       "<table border=\"1\" class=\"dataframe\">\n",
       "  <thead>\n",
       "    <tr style=\"text-align: right;\">\n",
       "      <th></th>\n",
       "      <th>gene</th>\n",
       "      <th>tissue</th>\n",
       "      <th>disease</th>\n",
       "      <th>cohort</th>\n",
       "      <th>name</th>\n",
       "      <th>logTPM</th>\n",
       "    </tr>\n",
       "  </thead>\n",
       "  <tbody>\n",
       "    <tr>\n",
       "      <th>74</th>\n",
       "      <td>SLC39A1</td>\n",
       "      <td>22.895600</td>\n",
       "      <td>ewing</td>\n",
       "      <td>case_unique</td>\n",
       "      <td>PedSV.2.5.2_DUP_chr1_2813</td>\n",
       "      <td>1.378318</td>\n",
       "    </tr>\n",
       "    <tr>\n",
       "      <th>232</th>\n",
       "      <td>MROH2A</td>\n",
       "      <td>0.000000</td>\n",
       "      <td>ewing</td>\n",
       "      <td>case_unique</td>\n",
       "      <td>PedSV.2.5.2_DEL_chr2_15309</td>\n",
       "      <td>0.000000</td>\n",
       "    </tr>\n",
       "    <tr>\n",
       "      <th>271</th>\n",
       "      <td>SLC12A8</td>\n",
       "      <td>0.060232</td>\n",
       "      <td>ewing</td>\n",
       "      <td>case_unique</td>\n",
       "      <td>PedSV.2.5.2_DEL_chr3_7661</td>\n",
       "      <td>0.025401</td>\n",
       "    </tr>\n",
       "    <tr>\n",
       "      <th>273</th>\n",
       "      <td>OSBPL11</td>\n",
       "      <td>42.897400</td>\n",
       "      <td>ewing</td>\n",
       "      <td>case_unique</td>\n",
       "      <td>PedSV.2.5.2_DEL_chr3_7695</td>\n",
       "      <td>1.642439</td>\n",
       "    </tr>\n",
       "    <tr>\n",
       "      <th>275</th>\n",
       "      <td>ACAD11</td>\n",
       "      <td>7.267370</td>\n",
       "      <td>ewing</td>\n",
       "      <td>case_unique</td>\n",
       "      <td>PedSV.2.5.2_DUP_chr3_2075</td>\n",
       "      <td>0.917367</td>\n",
       "    </tr>\n",
       "    <tr>\n",
       "      <th>...</th>\n",
       "      <td>...</td>\n",
       "      <td>...</td>\n",
       "      <td>...</td>\n",
       "      <td>...</td>\n",
       "      <td>...</td>\n",
       "      <td>...</td>\n",
       "    </tr>\n",
       "    <tr>\n",
       "      <th>9501</th>\n",
       "      <td>RHOXF1</td>\n",
       "      <td>0.121025</td>\n",
       "      <td>ewing</td>\n",
       "      <td>case_unique</td>\n",
       "      <td>PedSV.2.5.2_DUP_chrX_2387</td>\n",
       "      <td>0.049615</td>\n",
       "    </tr>\n",
       "    <tr>\n",
       "      <th>9502</th>\n",
       "      <td>TMEM255A</td>\n",
       "      <td>0.271272</td>\n",
       "      <td>ewing</td>\n",
       "      <td>case_unique</td>\n",
       "      <td>PedSV.2.5.2_DUP_chrX_2387</td>\n",
       "      <td>0.104238</td>\n",
       "    </tr>\n",
       "    <tr>\n",
       "      <th>9503</th>\n",
       "      <td>TREX2</td>\n",
       "      <td>0.177207</td>\n",
       "      <td>ewing</td>\n",
       "      <td>case_unique</td>\n",
       "      <td>PedSV.2.5.2_DUP_chrX_2864</td>\n",
       "      <td>0.070853</td>\n",
       "    </tr>\n",
       "    <tr>\n",
       "      <th>9504</th>\n",
       "      <td>HAUS7</td>\n",
       "      <td>0.312079</td>\n",
       "      <td>ewing</td>\n",
       "      <td>case_unique</td>\n",
       "      <td>PedSV.2.5.2_DUP_chrX_2864</td>\n",
       "      <td>0.117960</td>\n",
       "    </tr>\n",
       "    <tr>\n",
       "      <th>9505</th>\n",
       "      <td>ZFP92</td>\n",
       "      <td>0.265476</td>\n",
       "      <td>ewing</td>\n",
       "      <td>case_unique</td>\n",
       "      <td>PedSV.2.5.2_DUP_chrX_2864</td>\n",
       "      <td>0.102254</td>\n",
       "    </tr>\n",
       "  </tbody>\n",
       "</table>\n",
       "<p>544 rows × 6 columns</p>\n",
       "</div>"
      ],
      "text/plain": [
       "          gene     tissue disease       cohort                        name  \\\n",
       "74     SLC39A1  22.895600   ewing  case_unique   PedSV.2.5.2_DUP_chr1_2813   \n",
       "232     MROH2A   0.000000   ewing  case_unique  PedSV.2.5.2_DEL_chr2_15309   \n",
       "271    SLC12A8   0.060232   ewing  case_unique   PedSV.2.5.2_DEL_chr3_7661   \n",
       "273    OSBPL11  42.897400   ewing  case_unique   PedSV.2.5.2_DEL_chr3_7695   \n",
       "275     ACAD11   7.267370   ewing  case_unique   PedSV.2.5.2_DUP_chr3_2075   \n",
       "...        ...        ...     ...          ...                         ...   \n",
       "9501    RHOXF1   0.121025   ewing  case_unique   PedSV.2.5.2_DUP_chrX_2387   \n",
       "9502  TMEM255A   0.271272   ewing  case_unique   PedSV.2.5.2_DUP_chrX_2387   \n",
       "9503     TREX2   0.177207   ewing  case_unique   PedSV.2.5.2_DUP_chrX_2864   \n",
       "9504     HAUS7   0.312079   ewing  case_unique   PedSV.2.5.2_DUP_chrX_2864   \n",
       "9505     ZFP92   0.265476   ewing  case_unique   PedSV.2.5.2_DUP_chrX_2864   \n",
       "\n",
       "        logTPM  \n",
       "74    1.378318  \n",
       "232   0.000000  \n",
       "271   0.025401  \n",
       "273   1.642439  \n",
       "275   0.917367  \n",
       "...        ...  \n",
       "9501  0.049615  \n",
       "9502  0.104238  \n",
       "9503  0.070853  \n",
       "9504  0.117960  \n",
       "9505  0.102254  \n",
       "\n",
       "[544 rows x 6 columns]"
      ]
     },
     "execution_count": 25,
     "metadata": {},
     "output_type": "execute_result"
    }
   ],
   "source": [
    "cohort_data"
   ]
  },
  {
   "cell_type": "markdown",
   "id": "c0a72324-9635-48d9-a57c-2effe847a2a5",
   "metadata": {},
   "source": [
    "For the supplementa, we repeat for other tissues, focusing on control and case unique"
   ]
  },
  {
   "cell_type": "code",
   "execution_count": 26,
   "id": "28adffae-dd9c-45f3-b700-8a95f6311961",
   "metadata": {},
   "outputs": [],
   "source": [
    "tissues = ['Adrenal Gland', 'Brain - Cortex', 'Breast - Mammary Tissue', 'Colon - Transverse', 'Heart - Left Ventricle', \n",
    "           'Kidney - Cortex', 'Liver', 'Lung', 'Muscle - Skeletal', 'Pancreas', 'Prostate', 'Skin - Sun Exposed (Lower leg)', 'Whole Blood']\n",
    "tissue_names = ['Adrenal\\ngland', 'Brain', 'Breast', 'Colon', 'Heart', 'Kidney', 'Liver', 'Lung', 'Skeletal\\nmuscle', 'Pancreas', 'Prostate', 'Skin', 'Blood']"
   ]
  },
  {
   "cell_type": "code",
   "execution_count": 27,
   "id": "7c5ea2df-62f3-4b60-bd01-5da436bd7e29",
   "metadata": {},
   "outputs": [],
   "source": [
    "tpm_violin_data_all_tissues = []\n",
    "\n",
    "for disease in ['neuroblastoma', 'ewing']:\n",
    "    disease_data = singleton_coding_ref_exp.query(f'disease == \"{disease}\"').copy()\n",
    "    \n",
    "    for t in tissues:\n",
    "\n",
    "        for cohort in ['control', 'case']:\n",
    "            cohort_data = disease_data.query(f'cohort == \"{cohort}\"')[['gene', t, 'disease', 'cohort', 'name']]\n",
    "            cohort_data = cohort_data.rename(columns = {t: 'value'})\n",
    "            cohort_data['tissue'] = t\n",
    "            tpm_violin_data_all_tissues.append(cohort_data)\n",
    "\n",
    "            # next, subtract out the \"other\" cohort to get the genes uniquely affected by SVs in this cohort\n",
    "            other = 'control' if cohort == 'case' else 'case'\n",
    "            other_data = disease_data.query(f'cohort == \"{other}\"')\n",
    "            other_unique = cohort_data[~cohort_data['gene'].isin(other_data['gene'].tolist())].copy()\n",
    "            other_unique['cohort'] = f'{cohort}_unique'\n",
    "            tpm_violin_data_all_tissues.append(other_unique)\n",
    "                \n",
    "tpm_violin_data_all_tissues = pd.concat(tpm_violin_data_all_tissues)\n",
    "tpm_violin_data_all_tissues['logTPM'] = np.log10(tpm_violin_data_all_tissues['value'] + 1)\n",
    "\n",
    "tpm_violin_data_all_tissues = tpm_violin_data_all_tissues[tpm_violin_data_all_tissues['cohort'].isin(['control_unique', 'case_unique'])]"
   ]
  },
  {
   "cell_type": "code",
   "execution_count": 28,
   "id": "06f561f8-0dc1-44b2-926a-1ed17640c78d",
   "metadata": {},
   "outputs": [
    {
     "data": {
      "text/html": [
       "<div>\n",
       "<style scoped>\n",
       "    .dataframe tbody tr th:only-of-type {\n",
       "        vertical-align: middle;\n",
       "    }\n",
       "\n",
       "    .dataframe tbody tr th {\n",
       "        vertical-align: top;\n",
       "    }\n",
       "\n",
       "    .dataframe thead th {\n",
       "        text-align: right;\n",
       "    }\n",
       "</style>\n",
       "<table border=\"1\" class=\"dataframe\">\n",
       "  <thead>\n",
       "    <tr style=\"text-align: right;\">\n",
       "      <th></th>\n",
       "      <th>gene</th>\n",
       "      <th>value</th>\n",
       "      <th>disease</th>\n",
       "      <th>cohort</th>\n",
       "      <th>name</th>\n",
       "      <th>tissue</th>\n",
       "      <th>logTPM</th>\n",
       "    </tr>\n",
       "  </thead>\n",
       "  <tbody>\n",
       "    <tr>\n",
       "      <th>1583</th>\n",
       "      <td>C1QTNF12</td>\n",
       "      <td>0.643373</td>\n",
       "      <td>neuroblastoma</td>\n",
       "      <td>control_unique</td>\n",
       "      <td>PedSV.2.5.2_DEL_chr1_210</td>\n",
       "      <td>Adrenal Gland</td>\n",
       "      <td>0.215736</td>\n",
       "    </tr>\n",
       "    <tr>\n",
       "      <th>1585</th>\n",
       "      <td>CPTP</td>\n",
       "      <td>23.840300</td>\n",
       "      <td>neuroblastoma</td>\n",
       "      <td>control_unique</td>\n",
       "      <td>PedSV.2.5.2_DEL_chr1_248</td>\n",
       "      <td>Adrenal Gland</td>\n",
       "      <td>1.395157</td>\n",
       "    </tr>\n",
       "  </tbody>\n",
       "</table>\n",
       "</div>"
      ],
      "text/plain": [
       "          gene      value        disease          cohort  \\\n",
       "1583  C1QTNF12   0.643373  neuroblastoma  control_unique   \n",
       "1585      CPTP  23.840300  neuroblastoma  control_unique   \n",
       "\n",
       "                          name         tissue    logTPM  \n",
       "1583  PedSV.2.5.2_DEL_chr1_210  Adrenal Gland  0.215736  \n",
       "1585  PedSV.2.5.2_DEL_chr1_248  Adrenal Gland  1.395157  "
      ]
     },
     "execution_count": 28,
     "metadata": {},
     "output_type": "execute_result"
    }
   ],
   "source": [
    "tpm_violin_data_all_tissues.head(2)"
   ]
  },
  {
   "cell_type": "code",
   "execution_count": 29,
   "id": "7975a5c2-c611-49f8-9bda-905d199ed769",
   "metadata": {},
   "outputs": [
    {
     "data": {
      "image/png": "[encoded data removed]",
      "text/plain": [
       "<Figure size 700x200 with 2 Axes>"
      ]
     },
     "metadata": {},
     "output_type": "display_data"
    }
   ],
   "source": [
    "fig, axes = plt.subplots(2, 1, figsize = (7, 2), gridspec_kw = {'hspace': 0.5}, sharey = True)\n",
    "\n",
    "for i, disease in enumerate(['neuroblastoma', 'ewing']):\n",
    "    ax = axes[i]\n",
    "\n",
    "    disease_data = tpm_violin_data_all_tissues.query(f'disease == \"{disease}\"')\n",
    "    \n",
    "    pal = palette[disease]\n",
    "\n",
    "    violin = sns.violinplot(x = 'tissue', y = 'logTPM', data = disease_data, ax = ax, hue = 'cohort', dodge = True,\n",
    "                            order = tissues, width = 0.9, linewidth=0, \n",
    "                            cut = 0, palette = pal)\n",
    "    \n",
    "    ax.legend().remove()\n",
    "    \n",
    "    tpms = []\n",
    "    for j, tissue in enumerate(tissues):\n",
    "        for k, cohort in enumerate(['control_unique', 'case_unique']):\n",
    "            cohort_data = disease_data.query(f'cohort == \"{cohort}\"')\n",
    "\n",
    "            median = cohort_data['logTPM'].median()\n",
    "            ax.scatter([j - 0.225 + 0.45 * k], [median], s = 3, color = 'black')\n",
    "    \n",
    "    ax.set_ylim([0, 2.2])\n",
    "    ax.set_xlim([-0.7, len(tissues)])\n",
    "    ax.set_ylabel('log10(TPM + 1)')\n",
    "    \n",
    "    if i == 0:\n",
    "        aesthetics.strip_axis(ax = ax, y = 'ignore')\n",
    "    else:\n",
    "        sns.despine(ax = ax, bottom = True)\n",
    "        ax.tick_params(axis = 'x', length = 0)\n",
    "        text = ax.set_xticklabels(tissue_names)\n",
    "        ax.set_xlabel('')\n",
    "        \n",
    "        for t in text:\n",
    "            if t.get_text() == 'Adrenal\\ngland':\n",
    "                t.set_color(mc.palette['neuroblastoma']['main'])\n",
    "            elif t.get_text() == 'Skeletal\\nmuscle':\n",
    "                t.set_color(mc.palette['ewing']['main'])\n",
    "        \n",
    "    ax.text(s = 'Singleton SVs in ' + disease.capitalize(), color = mc.palette[disease]['main'], weight = 'bold', x = 0.01, y = 1.1, transform = ax.transAxes)\n",
    "            \n",
    "fig.savefig('figures/overall-gtex-expression-s8.pdf', bbox_inches = 'tight')"
   ]
  },
  {
   "cell_type": "markdown",
   "id": "436ec133-7133-40a5-b4e8-ed940f7c6c71",
   "metadata": {},
   "source": [
    "# Revision\n",
    "\n",
    "For the revision, we're going to compare expression of genes in adrenal TADs vs outside adrenal TADs across various tissues. Let's see what this looks like."
   ]
  },
  {
   "cell_type": "code",
   "execution_count": 30,
   "id": "f0a9133a-a42b-4c1a-b6e9-c3a99c3d7b08",
   "metadata": {},
   "outputs": [],
   "source": [
    "tad_locations = pd.read_csv('data/Gene_TAD_table_7_4_24.tsv', sep = '\\t')\n",
    "tad_locations['gene_mean'] = tad_locations[['gene_start', 'gene_end']].mean(axis = 1)\n",
    "\n",
    "# add in a metric for how far the gene is from the tad boundaries\n",
    "distance_to_bp1 = np.abs(tad_locations['gene_mean'] - tad_locations['TAD_bp1'])\n",
    "distance_to_bp2 = np.abs(tad_locations['gene_mean'] - tad_locations['TAD_bp2'])\n",
    "\n",
    "tad_locations['distance_to_tad_bp'] = np.min([distance_to_bp1, distance_to_bp2], axis = 0)\n",
    "\n",
    "# convert this metric to a rank\n",
    "tad_locations['rank_dist_to_tad_bp'] = 1 - stats.rankdata(tad_locations['distance_to_tad_bp']) / len(tad_locations)\n",
    "\n",
    "adrenal_tad_genes = list(tad_locations['gene'])\n",
    "adrenal_tad_genes = [g for g in adrenal_tad_genes if g in gtex.index]"
   ]
  },
  {
   "cell_type": "code",
   "execution_count": 31,
   "id": "f17cfb17-3812-40a3-b290-8e9ffc7152eb",
   "metadata": {},
   "outputs": [
    {
     "data": {
      "text/html": [
       "<div>\n",
       "<style scoped>\n",
       "    .dataframe tbody tr th:only-of-type {\n",
       "        vertical-align: middle;\n",
       "    }\n",
       "\n",
       "    .dataframe tbody tr th {\n",
       "        vertical-align: top;\n",
       "    }\n",
       "\n",
       "    .dataframe thead th {\n",
       "        text-align: right;\n",
       "    }\n",
       "</style>\n",
       "<table border=\"1\" class=\"dataframe\">\n",
       "  <thead>\n",
       "    <tr style=\"text-align: right;\">\n",
       "      <th></th>\n",
       "      <th>gene_chrom</th>\n",
       "      <th>gene_start</th>\n",
       "      <th>gene_end</th>\n",
       "      <th>gene</th>\n",
       "      <th>TAD_chrom</th>\n",
       "      <th>TAD_bp1</th>\n",
       "      <th>TAD_bp2</th>\n",
       "      <th>TAD_ID</th>\n",
       "      <th>gene_mean</th>\n",
       "      <th>distance_to_tad_bp</th>\n",
       "      <th>rank_dist_to_tad_bp</th>\n",
       "    </tr>\n",
       "  </thead>\n",
       "  <tbody>\n",
       "    <tr>\n",
       "      <th>0</th>\n",
       "      <td>chr1</td>\n",
       "      <td>3069168</td>\n",
       "      <td>3438621</td>\n",
       "      <td>PRDM16</td>\n",
       "      <td>chr1</td>\n",
       "      <td>3000000</td>\n",
       "      <td>3420000</td>\n",
       "      <td>TAD_1334</td>\n",
       "      <td>3253894.5</td>\n",
       "      <td>166105.5</td>\n",
       "      <td>0.124799</td>\n",
       "    </tr>\n",
       "    <tr>\n",
       "      <th>1</th>\n",
       "      <td>chr1</td>\n",
       "      <td>3069168</td>\n",
       "      <td>3438621</td>\n",
       "      <td>PRDM16</td>\n",
       "      <td>chr1</td>\n",
       "      <td>3060000</td>\n",
       "      <td>3260000</td>\n",
       "      <td>TAD_1628</td>\n",
       "      <td>3253894.5</td>\n",
       "      <td>6105.5</td>\n",
       "      <td>0.939212</td>\n",
       "    </tr>\n",
       "  </tbody>\n",
       "</table>\n",
       "</div>"
      ],
      "text/plain": [
       "  gene_chrom  gene_start  gene_end    gene TAD_chrom  TAD_bp1  TAD_bp2  \\\n",
       "0       chr1     3069168   3438621  PRDM16      chr1  3000000  3420000   \n",
       "1       chr1     3069168   3438621  PRDM16      chr1  3060000  3260000   \n",
       "\n",
       "     TAD_ID  gene_mean  distance_to_tad_bp  rank_dist_to_tad_bp  \n",
       "0  TAD_1334  3253894.5            166105.5             0.124799  \n",
       "1  TAD_1628  3253894.5              6105.5             0.939212  "
      ]
     },
     "execution_count": 31,
     "metadata": {},
     "output_type": "execute_result"
    }
   ],
   "source": [
    "tad_locations.head(2)"
   ]
  },
  {
   "cell_type": "markdown",
   "id": "59ec8589-670c-4d49-9c82-14827eff6c29",
   "metadata": {},
   "source": [
    "This only uses GTEX data, nothing to do with our SVs"
   ]
  },
  {
   "cell_type": "markdown",
   "id": "ae46d64d-f96b-4807-8577-72d4bc802089",
   "metadata": {},
   "source": [
    "## Examine expresion of genes in TADs vs. not"
   ]
  },
  {
   "cell_type": "code",
   "execution_count": 32,
   "id": "11ca027b-3f9f-455c-85d8-79944eb95a45",
   "metadata": {},
   "outputs": [],
   "source": [
    "# subset to adrenal tad genes\n",
    "tad_expression = gtex.loc[adrenal_tad_genes].reset_index().melt(id_vars = 'gene')\n",
    "tad_expression['type'] = 'tad'\n",
    "\n",
    "# subset to non-adrenal tad genes\n",
    "non_tad_genes = [g for g in gtex.index if g not in adrenal_tad_genes]\n",
    "nontad_expression = gtex.loc[non_tad_genes].reset_index().melt(id_vars = 'gene')\n",
    "nontad_expression['type'] = 'non_tad'\n",
    "\n",
    "# subset to top 10% of genes that are close to their tad boundaries\n",
    "genes_close_to_tads = list(set(tad_locations.query('rank_dist_to_tad_bp > 0.9')['gene']))\n",
    "genes_close_to_tads = [g for g in genes_close_to_tads if g in gtex.index]\n",
    "close_to_tad_expression = gtex.loc[genes_close_to_tads].reset_index().melt(id_vars = 'gene')\n",
    "close_to_tad_expression['type'] = 'close_to_tad_bp'"
   ]
  },
  {
   "cell_type": "code",
   "execution_count": 33,
   "id": "33b8b675-f8a9-4ee2-8cec-53e2a4cb784e",
   "metadata": {},
   "outputs": [
    {
     "data": {
      "text/html": [
       "<div>\n",
       "<style scoped>\n",
       "    .dataframe tbody tr th:only-of-type {\n",
       "        vertical-align: middle;\n",
       "    }\n",
       "\n",
       "    .dataframe tbody tr th {\n",
       "        vertical-align: top;\n",
       "    }\n",
       "\n",
       "    .dataframe thead th {\n",
       "        text-align: right;\n",
       "    }\n",
       "</style>\n",
       "<table border=\"1\" class=\"dataframe\">\n",
       "  <thead>\n",
       "    <tr style=\"text-align: right;\">\n",
       "      <th></th>\n",
       "      <th>gene</th>\n",
       "      <th>variable</th>\n",
       "      <th>value</th>\n",
       "      <th>type</th>\n",
       "    </tr>\n",
       "  </thead>\n",
       "  <tbody>\n",
       "    <tr>\n",
       "      <th>0</th>\n",
       "      <td>PRDM16</td>\n",
       "      <td>Adipose - Subcutaneous</td>\n",
       "      <td>2.384800</td>\n",
       "      <td>tad</td>\n",
       "    </tr>\n",
       "    <tr>\n",
       "      <th>1</th>\n",
       "      <td>PRDM16</td>\n",
       "      <td>Adipose - Subcutaneous</td>\n",
       "      <td>2.384800</td>\n",
       "      <td>tad</td>\n",
       "    </tr>\n",
       "    <tr>\n",
       "      <th>2</th>\n",
       "      <td>PLCH2</td>\n",
       "      <td>Adipose - Subcutaneous</td>\n",
       "      <td>0.655189</td>\n",
       "      <td>tad</td>\n",
       "    </tr>\n",
       "    <tr>\n",
       "      <th>3</th>\n",
       "      <td>SPSB1</td>\n",
       "      <td>Adipose - Subcutaneous</td>\n",
       "      <td>59.227800</td>\n",
       "      <td>tad</td>\n",
       "    </tr>\n",
       "  </tbody>\n",
       "</table>\n",
       "</div>"
      ],
      "text/plain": [
       "     gene                variable      value type\n",
       "0  PRDM16  Adipose - Subcutaneous   2.384800  tad\n",
       "1  PRDM16  Adipose - Subcutaneous   2.384800  tad\n",
       "2   PLCH2  Adipose - Subcutaneous   0.655189  tad\n",
       "3   SPSB1  Adipose - Subcutaneous  59.227800  tad"
      ]
     },
     "execution_count": 33,
     "metadata": {},
     "output_type": "execute_result"
    }
   ],
   "source": [
    "tad_expression.head(4)"
   ]
  },
  {
   "cell_type": "markdown",
   "id": "a3633404-ff4c-4ac4-a09e-3f2d0a11bfe8",
   "metadata": {},
   "source": [
    "## Extract genes in TADs whose boundaries are affected by SVs\n",
    "\n",
    "The next analysis that we'll do is extracting the genes in TADs whose boundaries are affected by SVs. The logic here is that perhaps SVs affect a particular subset of TADs.\n",
    "\n",
    "Unfortunately, doing this requires accessing the dosages of SVs, since we need to confirm what SVs are actually present in neuroblastoma samples. Once we confirm which SVs are present in neuroblastoma cases and controls, we look up which TADs are affected by these SVs (using the TAD breakpoints +/- 5kb). We can then use a table of gene-TAD overlaps to establish which genes are affected."
   ]
  },
  {
   "cell_type": "code",
   "execution_count": 34,
   "id": "1a8224ef-c122-498d-a02a-b2ce809c7647",
   "metadata": {},
   "outputs": [],
   "source": [
    "# define dosages\n",
    "dosages_path = \"gs://vanallen-pedsv-analysis/beds/PedSV.v2.5.4.full_cohort.analysis_samples.allele_dosages.bed.gz\""
   ]
  },
  {
   "cell_type": "code",
   "execution_count": 35,
   "id": "73e70dda-1332-4387-981e-8c81d1ec145d",
   "metadata": {},
   "outputs": [],
   "source": [
    "###############\n",
    "### Dosages ###\n",
    "###############\n",
    "\n",
    "# we only need the dosages of our samples in question\n",
    "dosage_head = pd.read_csv(dosages_path, sep=\"\\t\", index_col=False, nrows=1)\n",
    "\n",
    "cols = [3] + [i for i, c in enumerate(dosage_head.columns) if c in total_samples]\n",
    "\n",
    "dosages = pd.read_csv(dosages_path, sep=\"\\t\", index_col=False, usecols=cols)"
   ]
  },
  {
   "cell_type": "markdown",
   "id": "2941f125-1829-4a2c-a905-84b5a1744dc2",
   "metadata": {},
   "source": [
    "Extract the singleton TAD boundary SVs that are present in neuroblastoma cases or controls:"
   ]
  },
  {
   "cell_type": "code",
   "execution_count": 36,
   "id": "d34b90df-9670-4038-b7ef-843c080d73f7",
   "metadata": {},
   "outputs": [],
   "source": [
    "nbl_tad_svs = category_svs.query('category == \"ANY.SINGLETON.ANY.neuroblastoma_tad_boundary.ANY.ANY.ANY.protein_coding\"')\n",
    "\n",
    "# subset to those in neuroblastoma cases and controls\n",
    "nbl_samples = samples['neuroblastoma']['case'] + samples['neuroblastoma']['control']\n",
    "nbl_dosages_all = dosages.set_index('ID')[nbl_samples]\n",
    "nbl_dosages_cases = dosages.set_index('ID')[samples['neuroblastoma']['case']]\n",
    "\n",
    "svs_in_all = nbl_dosages_all.index[nbl_dosages_all.fillna(0).sum(axis = 1) != 0].to_list()\n",
    "svs_in_cases = nbl_dosages_cases.index[nbl_dosages_cases.fillna(0).sum(axis = 1) != 0].to_list()\n",
    "\n",
    "# get the actual SV locations - reformat to match bed\n",
    "svs_in_all = nbl_tad_svs[nbl_tad_svs['SV'].isin(svs_in_all)][['chrom', 'start', 'end', 'SV']]\n",
    "svs_in_cases = nbl_tad_svs[nbl_tad_svs['SV'].isin(svs_in_cases)][['chrom', 'start', 'end', 'SV']]"
   ]
  },
  {
   "cell_type": "markdown",
   "id": "1656ae3b-c9a2-4566-b92c-e867bafd1e70",
   "metadata": {},
   "source": [
    "We use this to identify TAD boundary SVs in all samples as well as cases."
   ]
  },
  {
   "cell_type": "code",
   "execution_count": 37,
   "id": "7afee23e-25e8-43e8-b56b-5a4eda395a7a",
   "metadata": {},
   "outputs": [],
   "source": [
    "tad_svs = category_svs.query('category == \"ANY.SINGLETON.ANY.neuroblastoma_tad_boundary.ANY.ANY.ANY.protein_coding\"')\n",
    "tad_svs_in_samples = tad_svs[tad_svs['SV'].isin(svs_in_all)]\n",
    "tad_svs_in_cases = tad_svs[tad_svs['SV'].isin(svs_in_cases)]"
   ]
  },
  {
   "cell_type": "markdown",
   "id": "9791409f-03c8-488d-9e86-9d3a8c4cfc3d",
   "metadata": {},
   "source": [
    "Simplify our TAD boundaries:"
   ]
  },
  {
   "cell_type": "code",
   "execution_count": 38,
   "id": "4811819f-085f-4710-8c68-eb13fb83c7b8",
   "metadata": {},
   "outputs": [
    {
     "data": {
      "text/html": [
       "<div>\n",
       "<style scoped>\n",
       "    .dataframe tbody tr th:only-of-type {\n",
       "        vertical-align: middle;\n",
       "    }\n",
       "\n",
       "    .dataframe tbody tr th {\n",
       "        vertical-align: top;\n",
       "    }\n",
       "\n",
       "    .dataframe thead th {\n",
       "        text-align: right;\n",
       "    }\n",
       "</style>\n",
       "<table border=\"1\" class=\"dataframe\">\n",
       "  <thead>\n",
       "    <tr style=\"text-align: right;\">\n",
       "      <th></th>\n",
       "      <th>TAD_chrom</th>\n",
       "      <th>TAD_bp1</th>\n",
       "      <th>TAD_bp2</th>\n",
       "      <th>TAD_ID</th>\n",
       "    </tr>\n",
       "  </thead>\n",
       "  <tbody>\n",
       "    <tr>\n",
       "      <th>0</th>\n",
       "      <td>chr1</td>\n",
       "      <td>3000000</td>\n",
       "      <td>3420000</td>\n",
       "      <td>TAD_1334</td>\n",
       "    </tr>\n",
       "    <tr>\n",
       "      <th>1</th>\n",
       "      <td>chr1</td>\n",
       "      <td>3060000</td>\n",
       "      <td>3260000</td>\n",
       "      <td>TAD_1628</td>\n",
       "    </tr>\n",
       "  </tbody>\n",
       "</table>\n",
       "</div>"
      ],
      "text/plain": [
       "  TAD_chrom  TAD_bp1  TAD_bp2    TAD_ID\n",
       "0      chr1  3000000  3420000  TAD_1334\n",
       "1      chr1  3060000  3260000  TAD_1628"
      ]
     },
     "execution_count": 38,
     "metadata": {},
     "output_type": "execute_result"
    }
   ],
   "source": [
    "tad_bps = tad_locations[['TAD_chrom', 'TAD_bp1', 'TAD_bp2', 'TAD_ID']].drop_duplicates(subset = 'TAD_ID')\n",
    "tad_bps.head(2)"
   ]
  },
  {
   "cell_type": "code",
   "execution_count": 39,
   "id": "a771ff5e-cf08-4548-84cb-fc9df6c45df9",
   "metadata": {},
   "outputs": [],
   "source": [
    "left_tad_bps = tad_bps[['TAD_chrom', 'TAD_bp1', 'TAD_ID']].copy()\n",
    "right_tad_bps = tad_bps[['TAD_chrom', 'TAD_bp2', 'TAD_ID']].copy()\n",
    "\n",
    "# create an interval around the left breakpoint\n",
    "left_tad_bps['start'] = left_tad_bps['TAD_bp1'] - 5000\n",
    "left_tad_bps['end'] = left_tad_bps['TAD_bp1'] + 5000\n",
    "left_tad_bps = left_tad_bps.drop(columns = ['TAD_bp1'])[['TAD_chrom', 'start', 'end', 'TAD_ID']]\n",
    "left_tad_bps.columns = ['chrom', 'start', 'end', 'TAD_ID']\n",
    "\n",
    "# create an interval around the right breakpoint\n",
    "right_tad_bps['start'] = right_tad_bps['TAD_bp2'] - 5000\n",
    "right_tad_bps['end'] = right_tad_bps['TAD_bp2'] + 5000\n",
    "right_tad_bps = right_tad_bps.drop(columns = ['TAD_bp2'])[['TAD_chrom', 'start', 'end', 'TAD_ID']]\n",
    "right_tad_bps.columns = ['chrom', 'start', 'end', 'TAD_ID']"
   ]
  },
  {
   "cell_type": "markdown",
   "id": "afd45308-88e7-466d-8614-6c3a39a5d359",
   "metadata": {},
   "source": [
    "Now we do the overlaps, using pybedtools"
   ]
  },
  {
   "cell_type": "code",
   "execution_count": 40,
   "id": "c602826b-328a-4714-98d5-d9695edba361",
   "metadata": {},
   "outputs": [],
   "source": [
    "sv_tad_overlaps = []\n",
    "for sv_data, label in zip([svs_in_all, svs_in_cases], ['all', 'cases']):\n",
    "    \n",
    "    for tad_bps_sub in [left_tad_bps, right_tad_bps]:\n",
    "        \n",
    "        sv_bed = pybedtools.BedTool(\n",
    "            sv_data.to_csv(sep=\"\\t\", index=False, header=False), from_string=True\n",
    "        )\n",
    "\n",
    "        # create bedtool object for svs\n",
    "        tad_bed = pybedtools.BedTool(\n",
    "            tad_bps_sub[[\"chrom\", \"start\", \"end\", \"TAD_ID\"]].to_csv(sep=\"\\t\", index=False, header=False),\n",
    "            from_string=True,\n",
    "        )\n",
    "\n",
    "        # do the overlap\n",
    "        sv_tad_overlap = sv_bed.intersect(tad_bed, wo=True)\n",
    "        sv_tad_overlap = sv_tad_overlap.to_dataframe()\n",
    "        \n",
    "        sv_tad_overlap = sv_tad_overlap[['name', 'thickEnd']]\n",
    "        sv_tad_overlap['analysis'] = label\n",
    "        sv_tad_overlap.columns = ['name', 'tad', 'analysis']\n",
    "        \n",
    "        sv_tad_overlaps.append(sv_tad_overlap)\n",
    "        \n",
    "sv_tad_overlaps = pd.concat(sv_tad_overlaps)\n",
    "\n",
    "sv_tad_overlaps = sv_tad_overlaps.drop_duplicates(subset = ['name', 'tad', 'analysis'])"
   ]
  },
  {
   "cell_type": "code",
   "execution_count": 41,
   "id": "69f05e01-f70e-4111-94cb-256105a3cf90",
   "metadata": {},
   "outputs": [
    {
     "data": {
      "text/html": [
       "<div>\n",
       "<style scoped>\n",
       "    .dataframe tbody tr th:only-of-type {\n",
       "        vertical-align: middle;\n",
       "    }\n",
       "\n",
       "    .dataframe tbody tr th {\n",
       "        vertical-align: top;\n",
       "    }\n",
       "\n",
       "    .dataframe thead th {\n",
       "        text-align: right;\n",
       "    }\n",
       "</style>\n",
       "<table border=\"1\" class=\"dataframe\">\n",
       "  <thead>\n",
       "    <tr style=\"text-align: right;\">\n",
       "      <th></th>\n",
       "      <th>name</th>\n",
       "      <th>tad</th>\n",
       "      <th>analysis</th>\n",
       "    </tr>\n",
       "  </thead>\n",
       "  <tbody>\n",
       "    <tr>\n",
       "      <th>0</th>\n",
       "      <td>PedSV.2.5.2_INS_chr1_68</td>\n",
       "      <td>TAD_1628</td>\n",
       "      <td>all</td>\n",
       "    </tr>\n",
       "    <tr>\n",
       "      <th>1</th>\n",
       "      <td>PedSV.2.5.2_DEL_chr1_1477</td>\n",
       "      <td>TAD_1604</td>\n",
       "      <td>all</td>\n",
       "    </tr>\n",
       "  </tbody>\n",
       "</table>\n",
       "</div>"
      ],
      "text/plain": [
       "                        name       tad analysis\n",
       "0    PedSV.2.5.2_INS_chr1_68  TAD_1628      all\n",
       "1  PedSV.2.5.2_DEL_chr1_1477  TAD_1604      all"
      ]
     },
     "execution_count": 41,
     "metadata": {},
     "output_type": "execute_result"
    }
   ],
   "source": [
    "sv_tad_overlaps.head(2)"
   ]
  },
  {
   "cell_type": "markdown",
   "id": "ecfe7bc3-242f-47f7-b6bd-e8ae3de3c300",
   "metadata": {},
   "source": [
    "Using this, we can now extract the genes that are part of affected TADs"
   ]
  },
  {
   "cell_type": "code",
   "execution_count": 43,
   "id": "0390af81-ba4c-43cf-b563-fd309f2c870f",
   "metadata": {},
   "outputs": [],
   "source": [
    "# get genes in TADs affected by any SV in cases or controls\n",
    "affected_tads_all = sv_tad_overlaps.query('analysis == \"all\"')['tad'].tolist()\n",
    "affected_genes_tads_all = tad_locations[tad_locations['TAD_ID'].isin(affected_tads_all)]['gene'].tolist()\n",
    "affected_genes_tads_all = [g for g in affected_genes_tads_all if g in gtex.index]\n",
    "\n",
    "# get genes in TADs affected by any SV in only cases\n",
    "affected_tads_cases = sv_tad_overlaps.query('analysis == \"cases\"')['tad'].tolist()\n",
    "affected_genes_tads_cases = tad_locations[tad_locations['TAD_ID'].isin(affected_tads_cases)]['gene'].tolist()\n",
    "affected_genes_tads_cases = [g for g in affected_genes_tads_cases if g in gtex.index]"
   ]
  },
  {
   "cell_type": "code",
   "execution_count": 44,
   "id": "0068d5c4-1653-49f2-bc92-b8c1f6e5cd4d",
   "metadata": {},
   "outputs": [],
   "source": [
    "# subset genes in TADs affected by SVs in all samples\n",
    "tad_sv_all_expression = gtex.loc[affected_genes_tads_all].reset_index().melt(id_vars = 'gene')\n",
    "tad_sv_all_expression['type'] = 'tad_sv_all'\n",
    "\n",
    "# subset genes in TADs affected by SVs in cases\n",
    "tad_sv_cases_expression = gtex.loc[affected_genes_tads_cases].reset_index().melt(id_vars = 'gene')\n",
    "tad_sv_cases_expression['type'] = 'tad_sv_cases'\n",
    "\n",
    "# subset genes in TADs affected by SVs in cases, but the genes must be close to the TAD boundaries\n",
    "affected_close_genes_tads_cases = list(set(affected_genes_tads_cases) & set(genes_close_to_tads))\n",
    "close_tad_sv_cases_expression = gtex.loc[affected_genes_tads_cases].reset_index().melt(id_vars = 'gene')\n",
    "close_tad_sv_cases_expression['type'] = 'tad_sv_cases_close'"
   ]
  },
  {
   "cell_type": "markdown",
   "id": "262d12e9-c7a6-458e-86c1-c47545a61738",
   "metadata": {},
   "source": [
    "Now we combine all these data into one dataframe"
   ]
  },
  {
   "cell_type": "code",
   "execution_count": 45,
   "id": "4da58946-cb00-4c8d-9c48-c04439d08f35",
   "metadata": {},
   "outputs": [],
   "source": [
    "grouped_data = pd.concat([nontad_expression, tad_expression, close_to_tad_expression, tad_sv_all_expression, tad_sv_cases_expression, close_tad_sv_cases_expression]).drop_duplicates(subset = ['gene', 'variable', 'type'])"
   ]
  },
  {
   "cell_type": "code",
   "execution_count": 46,
   "id": "231df286-2b74-40f4-acfe-baac974edae0",
   "metadata": {},
   "outputs": [
    {
     "data": {
      "text/plain": [
       "type\n",
       "close_to_tad_bp       7.078910\n",
       "non_tad               5.592185\n",
       "tad                   6.898110\n",
       "tad_sv_all            6.685950\n",
       "tad_sv_cases          6.770040\n",
       "tad_sv_cases_close    6.770040\n",
       "Name: value, dtype: float64"
      ]
     },
     "execution_count": 46,
     "metadata": {},
     "output_type": "execute_result"
    }
   ],
   "source": [
    "grouped_data.query('variable == \"Adrenal Gland\"').groupby(['type'])['value'].median()"
   ]
  },
  {
   "cell_type": "code",
   "execution_count": 47,
   "id": "b5354d8a-572a-42a2-958c-5bcd20d6605f",
   "metadata": {},
   "outputs": [],
   "source": [
    "grouped_data['log10(TPM + 1)'] = np.log10(grouped_data['value'] + 1)"
   ]
  },
  {
   "cell_type": "markdown",
   "id": "1e3b2376-0b17-446a-8904-6ab77721608b",
   "metadata": {},
   "source": [
    "## Plot this data\n",
    "\n",
    "We plot this data as a violin"
   ]
  },
  {
   "cell_type": "code",
   "execution_count": 48,
   "id": "00301ef7-bd49-4291-9330-438d43bed6d6",
   "metadata": {},
   "outputs": [],
   "source": [
    "grouped_data = grouped_data[grouped_data['type'].isin(['non_tad', 'tad', 'tad_sv_all', 'tad_sv_cases'])].query('variable == \"Adrenal Gland\"')"
   ]
  },
  {
   "cell_type": "code",
   "execution_count": 49,
   "id": "4a0e6b96-747a-42ad-9f65-616b25b48ac0",
   "metadata": {},
   "outputs": [],
   "source": [
    "pal = {'non_tad': 'lightgrey',\n",
    "       'tad': \"darkgrey\",\n",
    "       'tad_sv_all': mc.palette['neuroblastoma']['light2'],\n",
    "       'tad_sv_cases': mc.palette['neuroblastoma']['main']}"
   ]
  },
  {
   "cell_type": "code",
   "execution_count": 50,
   "id": "96f02745-0093-43c0-bd82-02fd4fff7703",
   "metadata": {},
   "outputs": [
    {
     "data": {
      "image/png": "[encoded data removed]",
      "text/plain": [
       "<Figure size 400x100 with 1 Axes>"
      ]
     },
     "metadata": {},
     "output_type": "display_data"
    }
   ],
   "source": [
    "fig, ax = plt.subplots(1, 1, figsize = (4, 1))\n",
    "\n",
    "violin = sns.violinplot(x = 'type', y = 'log10(TPM + 1)', data = grouped_data, ax = ax,\n",
    "                        order = ['non_tad', 'tad', 'tad_sv_all', 'tad_sv_cases'], width = 0.9, linewidth=0, \n",
    "                        cut = 0, palette = pal)\n",
    "    \n",
    "tpms = []\n",
    "for k, subset in enumerate(['non_tad', 'tad', 'tad_sv_all', 'tad_sv_cases']):\n",
    "    cohort_data = grouped_data.query(f'type == \"{subset}\"')\n",
    "\n",
    "    median = cohort_data['log10(TPM + 1)'].median()\n",
    "    ax.scatter([k], [median], s = 3, color = 'black', label = 'median' if k == 0 else '')\n",
    "    ax.text(s = np.round(median, 2), x = k, y = median + 0.3, va = 'center', ha = 'center')\n",
    "\n",
    "ax.legend(bbox_to_anchor = (0.95, 0.5))\n",
    "ax.set_ylim([0, 3])\n",
    "ax.set_ylabel('log10(TPM + 1)')\n",
    "aesthetics.strip_axis(ax = ax, x = 'label', y = 'ignore')\n",
    "ax.set_title('Gene expression in\\nadrenal tissue')\n",
    "ax.set_xlabel('')\n",
    "ax.set_xticklabels(['Outside\\nTADs', 'Inside\\nTADs', 'Inside TADs\\nwith boundaries\\naffected by SVs', 'Inside TADs with\\nboundaries affected\\nby SVs in\\nneuroblastoma cases'])\n",
    "fig.savefig('figures/revision-adrenal-tad-vs-nontad.png', dpi = 300, bbox_inches = 'tight')"
   ]
  },
  {
   "cell_type": "code",
   "execution_count": 51,
   "id": "5aff8f05-6260-4f56-92a4-7cdf52616169",
   "metadata": {},
   "outputs": [
    {
     "data": {
      "text/plain": [
       "MannwhitneyuResult(statistic=38948884.0, pvalue=9.43693007920217e-14)"
      ]
     },
     "execution_count": 51,
     "metadata": {},
     "output_type": "execute_result"
    }
   ],
   "source": [
    "tad = grouped_data.query(f'variable == \"Adrenal Gland\" & type == \"tad\"')['log10(TPM + 1)']\n",
    "nontad = grouped_data.query(f'variable == \"Adrenal Gland\" & type == \"non_tad\"')['log10(TPM + 1)']\n",
    "stats.mannwhitneyu(tad, nontad)"
   ]
  },
  {
   "cell_type": "markdown",
   "id": "fcff4525-6b91-4c29-b966-73854121bb1c",
   "metadata": {},
   "source": [
    "## Examine the tumor RNA\n",
    "\n",
    "We established in the paper that noncoding SVs do not significantly impact the expression of their nearest gene. But what about TAD boundary SVs? Do genes in affected TADs get affected?\n",
    "\n",
    "To do this, we need to extract the following data:\n",
    "\n",
    "1. The SV in question\n",
    "2. The sample affected by that SV\n",
    "3. The TAD the SV affects\n",
    "4. The genes in the TAD\n",
    "\n",
    "Then for each gene in the TAD, we'll calculate the rank of the sample"
   ]
  },
  {
   "cell_type": "code",
   "execution_count": 52,
   "id": "61139a8a-718b-4635-a010-de1980a090d4",
   "metadata": {},
   "outputs": [],
   "source": [
    "# begin by extracting the case with the singleton SV\n",
    "nbl_cases_w_singleton_svs = nbl_dosages_cases.loc[svs_in_cases['SV']]\n",
    "\n",
    "affected_cases = []\n",
    "for index, row in nbl_cases_w_singleton_svs.iterrows():\n",
    "    row = row[row > 0]\n",
    "    \n",
    "    assert len(row) == 1\n",
    "    \n",
    "    affected_c = row.index[0]\n",
    "    affected_cases.append(affected_c)"
   ]
  },
  {
   "cell_type": "code",
   "execution_count": 53,
   "id": "a2bbefb1-67b7-460b-8124-729d18356718",
   "metadata": {},
   "outputs": [],
   "source": [
    "sv_sample_tad_gene_df = pd.DataFrame()\n",
    "sv_sample_tad_gene_df['SV'] = svs_in_cases['SV']\n",
    "sv_sample_tad_gene_df['affected_case'] = affected_cases"
   ]
  },
  {
   "cell_type": "code",
   "execution_count": 54,
   "id": "2d8c98d8-bf15-4cf7-8d4f-561bd30b95ac",
   "metadata": {},
   "outputs": [
    {
     "data": {
      "text/html": [
       "<div>\n",
       "<style scoped>\n",
       "    .dataframe tbody tr th:only-of-type {\n",
       "        vertical-align: middle;\n",
       "    }\n",
       "\n",
       "    .dataframe tbody tr th {\n",
       "        vertical-align: top;\n",
       "    }\n",
       "\n",
       "    .dataframe thead th {\n",
       "        text-align: right;\n",
       "    }\n",
       "</style>\n",
       "<table border=\"1\" class=\"dataframe\">\n",
       "  <thead>\n",
       "    <tr style=\"text-align: right;\">\n",
       "      <th></th>\n",
       "      <th>SV</th>\n",
       "      <th>affected_case</th>\n",
       "    </tr>\n",
       "  </thead>\n",
       "  <tbody>\n",
       "    <tr>\n",
       "      <th>776730</th>\n",
       "      <td>PedSV.2.5.2_DEL_chr1_832</td>\n",
       "      <td>PT_HA7TBZ1V</td>\n",
       "    </tr>\n",
       "    <tr>\n",
       "      <th>776735</th>\n",
       "      <td>PedSV.2.5.2_DEL_chr1_1438</td>\n",
       "      <td>PT_NK39AFPG</td>\n",
       "    </tr>\n",
       "  </tbody>\n",
       "</table>\n",
       "</div>"
      ],
      "text/plain": [
       "                               SV affected_case\n",
       "776730   PedSV.2.5.2_DEL_chr1_832   PT_HA7TBZ1V\n",
       "776735  PedSV.2.5.2_DEL_chr1_1438   PT_NK39AFPG"
      ]
     },
     "execution_count": 54,
     "metadata": {},
     "output_type": "execute_result"
    }
   ],
   "source": [
    "sv_sample_tad_gene_df.head(2)"
   ]
  },
  {
   "cell_type": "markdown",
   "id": "2e6227fd-c2bf-4ea3-a81f-9e3fccca1d01",
   "metadata": {},
   "source": [
    "Now, add in the affected TADs"
   ]
  },
  {
   "cell_type": "code",
   "execution_count": 55,
   "id": "54b64847-8a6b-427b-a47d-ad8429b90d0e",
   "metadata": {},
   "outputs": [],
   "source": [
    "affected_tads = []\n",
    "for index, row in sv_sample_tad_gene_df.iterrows():\n",
    "    sv = row['SV']\n",
    "    \n",
    "    affected_t = sv_tad_overlaps.query(f\"analysis == 'cases' & name == '{sv}'\")\n",
    "    affected_tads.append(list(affected_t['tad']))\n",
    "    \n",
    "sv_sample_tad_gene_df['affected_tad'] = affected_tads\n",
    "sv_sample_tad_gene_df = sv_sample_tad_gene_df.explode('affected_tad', ignore_index = True)"
   ]
  },
  {
   "cell_type": "markdown",
   "id": "4c61e5c3-5867-45a7-b99f-e1170e833ff0",
   "metadata": {},
   "source": [
    "Now we add the affected genes"
   ]
  },
  {
   "cell_type": "code",
   "execution_count": 56,
   "id": "15ff179a-7313-4bee-94f5-a4477452c27d",
   "metadata": {},
   "outputs": [],
   "source": [
    "affected_genes = []\n",
    "for index, row in sv_sample_tad_gene_df.iterrows():\n",
    "    tad = row['affected_tad']\n",
    "    \n",
    "    affected_g = tad_locations.query(f\"TAD_ID == '{tad}'\")\n",
    "    affected_genes.append(list(affected_g['gene']))\n",
    "    \n",
    "sv_sample_tad_gene_df['affected_gene'] = affected_genes\n",
    "sv_sample_tad_gene_df = sv_sample_tad_gene_df.explode('affected_gene', ignore_index = True)"
   ]
  },
  {
   "cell_type": "markdown",
   "id": "b5cd6cef-2fd7-46ba-b892-ad808a2820a4",
   "metadata": {},
   "source": [
    "### Add in the RNA\n",
    "\n",
    "This is a bit tedious, but we have generated this dataframe elsewhere."
   ]
  },
  {
   "cell_type": "code",
   "execution_count": 57,
   "id": "bb12d9d1-4f3e-4b1b-aa33-f5f13cffe951",
   "metadata": {},
   "outputs": [],
   "source": [
    "rna_data = pd.read_csv('data/rna/gmkf_neuroblastoma_tpms.csv', index_col = 0)\n",
    "cases_with_rna = [s for s in rna_data.columns if s in samples['neuroblastoma']['case']]\n",
    "\n",
    "rna_data = rna_data[cases_with_rna]"
   ]
  },
  {
   "cell_type": "code",
   "execution_count": 58,
   "id": "a00e6adb-464e-49f4-9e0a-e52d1a78e5b5",
   "metadata": {},
   "outputs": [
    {
     "data": {
      "text/html": [
       "<div>\n",
       "<style scoped>\n",
       "    .dataframe tbody tr th:only-of-type {\n",
       "        vertical-align: middle;\n",
       "    }\n",
       "\n",
       "    .dataframe tbody tr th {\n",
       "        vertical-align: top;\n",
       "    }\n",
       "\n",
       "    .dataframe thead th {\n",
       "        text-align: right;\n",
       "    }\n",
       "</style>\n",
       "<table border=\"1\" class=\"dataframe\">\n",
       "  <thead>\n",
       "    <tr style=\"text-align: right;\">\n",
       "      <th></th>\n",
       "      <th>SV</th>\n",
       "      <th>affected_case</th>\n",
       "      <th>affected_tad</th>\n",
       "      <th>affected_gene</th>\n",
       "    </tr>\n",
       "  </thead>\n",
       "  <tbody>\n",
       "    <tr>\n",
       "      <th>0</th>\n",
       "      <td>PedSV.2.5.2_DEL_chr1_832</td>\n",
       "      <td>PT_HA7TBZ1V</td>\n",
       "      <td>TAD_1578</td>\n",
       "      <td>ARHGEF16</td>\n",
       "    </tr>\n",
       "    <tr>\n",
       "      <th>1</th>\n",
       "      <td>PedSV.2.5.2_DEL_chr1_832</td>\n",
       "      <td>PT_HA7TBZ1V</td>\n",
       "      <td>TAD_1578</td>\n",
       "      <td>MEGF6</td>\n",
       "    </tr>\n",
       "  </tbody>\n",
       "</table>\n",
       "</div>"
      ],
      "text/plain": [
       "                         SV affected_case affected_tad affected_gene\n",
       "0  PedSV.2.5.2_DEL_chr1_832   PT_HA7TBZ1V     TAD_1578      ARHGEF16\n",
       "1  PedSV.2.5.2_DEL_chr1_832   PT_HA7TBZ1V     TAD_1578         MEGF6"
      ]
     },
     "execution_count": 58,
     "metadata": {},
     "output_type": "execute_result"
    }
   ],
   "source": [
    "# drop the samples that aren't in our RNA'\n",
    "sv_sample_tad_gene_df = sv_sample_tad_gene_df[sv_sample_tad_gene_df['affected_case'].isin(rna_data.columns)]\n",
    "sv_sample_tad_gene_df.head(2)"
   ]
  },
  {
   "cell_type": "markdown",
   "id": "abddfb82-f558-40f5-961e-22a9ff528e2d",
   "metadata": {},
   "source": [
    "Finally, we go through and just assess the rank"
   ]
  },
  {
   "cell_type": "code",
   "execution_count": 59,
   "id": "0b434ad5-ee0d-4dc3-bfb6-2a3c2ccd36cc",
   "metadata": {},
   "outputs": [],
   "source": [
    "ranks = []\n",
    "for index, row in sv_sample_tad_gene_df.iterrows():\n",
    "    case, gene = row[['affected_case', 'affected_gene']]\n",
    "    \n",
    "    if gene not in rna_data.index:\n",
    "        ranks.append(np.nan)\n",
    "        continue\n",
    "        \n",
    "    gene_expression = rna_data.loc[gene]\n",
    "    expression_ranks = (gene_expression.rank() - 1)\n",
    "    norm_expression_ranks =  expression_ranks / (len(gene_expression) - 1)\n",
    "    \n",
    "    sample_rank = norm_expression_ranks.loc[case]\n",
    "    ranks.append(sample_rank)\n",
    "    \n",
    "sv_sample_tad_gene_df['expression_rank'] = ranks"
   ]
  },
  {
   "cell_type": "code",
   "execution_count": 60,
   "id": "8e716a1d-3263-4450-8925-bd4560f31113",
   "metadata": {},
   "outputs": [],
   "source": [
    "sv_sample_tad_gene_df = sv_sample_tad_gene_df.dropna()"
   ]
  },
  {
   "cell_type": "markdown",
   "id": "eaa446bf-483a-45c5-a8d0-15afb7edd194",
   "metadata": {},
   "source": [
    "And some quick stats:"
   ]
  },
  {
   "cell_type": "code",
   "execution_count": 61,
   "id": "9a8c9c06-7416-4b59-a967-a0c04284dddc",
   "metadata": {},
   "outputs": [
    {
     "name": "stdout",
     "output_type": "stream",
     "text": [
      "85 p = 0.5289318533792257 mean = 0.5460561497326203\n"
     ]
    }
   ],
   "source": [
    "rank_deviation = np.abs(0.5 - sv_sample_tad_gene_df['expression_rank'])\n",
    "\n",
    "# calculate a p value - see methods of the paper\n",
    "num_genes = len(sv_sample_tad_gene_df)\n",
    "ref_dist = stats.norm(loc = 0.25, scale = np.sqrt(1/(48 * num_genes)))\n",
    "p = 1 - ref_dist.cdf(rank_deviation.mean())\n",
    "print(num_genes, 'p =', p, 'mean =', sv_sample_tad_gene_df['expression_rank'].mean())"
   ]
  },
  {
   "cell_type": "markdown",
   "id": "e70b24fa-8c81-4699-92bd-cc8935c4f72f",
   "metadata": {},
   "source": [
    "So no significant effect"
   ]
  }
 ],
 "metadata": {
  "kernelspec": {
   "display_name": "pedsv-test-conda",
   "language": "python",
   "name": "pedsv-test-conda"
  },
  "language_info": {
   "codemirror_mode": {
    "name": "ipython",
    "version": 3
   },
   "file_extension": ".py",
   "mimetype": "text/x-python",
   "name": "python",
   "nbconvert_exporter": "python",
   "pygments_lexer": "ipython3",
   "version": "3.7.13"
  }
 },
 "nbformat": 4,
 "nbformat_minor": 5
}
