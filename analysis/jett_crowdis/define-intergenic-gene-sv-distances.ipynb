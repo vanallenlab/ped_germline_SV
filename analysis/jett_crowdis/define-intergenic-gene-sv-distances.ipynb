{
 "cells": [
  {
   "cell_type": "code",
   "execution_count": 1,
   "id": "cefc4119-fd8d-4ee1-88d9-16a5bed70b46",
   "metadata": {},
   "outputs": [],
   "source": [
    "import pandas as pd\n",
    "import glob\n",
    "import numpy as np\n",
    "import matplotlib.pyplot as plt\n",
    "import seaborn as sns\n",
    "\n",
    "from scripts import aesthetics\n",
    "\n",
    "aesthetics.activate_paper_rcParams('illustrator')"
   ]
  },
  {
   "cell_type": "markdown",
   "id": "ece842f9-31f7-4bd5-b5ef-447d75a7fbeb",
   "metadata": {},
   "source": [
    "# Gene-SV distances\n",
    "\n",
    "In this notebook, we established the distance between an SV and its nearest gene. This is relevant for noncoding gene set enrichment, as in that process we remove SVs that are too far from their nearest gene to have a reasonable effect."
   ]
  },
  {
   "cell_type": "markdown",
   "id": "ddf7d045-6019-4637-b397-eac60c4cf454",
   "metadata": {},
   "source": [
    "# Read in our data\n",
    "\n",
    "We read in the SVs here."
   ]
  },
  {
   "cell_type": "code",
   "execution_count": 2,
   "id": "11b840ab-8bbf-47fb-ac3d-d84bb4cf5a75",
   "metadata": {},
   "outputs": [],
   "source": [
    "sv_path = \"gs://vanallen-pedsv-analysis/beds/PedSV.v2.5.4.full_cohort.analysis_samples.sites.bed.gz\""
   ]
  },
  {
   "cell_type": "code",
   "execution_count": 3,
   "id": "c0d3b63a-c0c5-4629-8746-60e572917c32",
   "metadata": {},
   "outputs": [],
   "source": [
    "# PREDICTED_NEAREST_TSS is the nearest gene, column index 42\n",
    "svs = pd.read_csv(sv_path, sep=\"\\t\", usecols=[0, 1, 2, 3, 42])"
   ]
  },
  {
   "cell_type": "code",
   "execution_count": 4,
   "id": "a8f44493-09cf-44fe-9514-f996faaf176e",
   "metadata": {},
   "outputs": [
    {
     "data": {
      "text/html": [
       "<div>\n",
       "<style scoped>\n",
       "    .dataframe tbody tr th:only-of-type {\n",
       "        vertical-align: middle;\n",
       "    }\n",
       "\n",
       "    .dataframe tbody tr th {\n",
       "        vertical-align: top;\n",
       "    }\n",
       "\n",
       "    .dataframe thead th {\n",
       "        text-align: right;\n",
       "    }\n",
       "</style>\n",
       "<table border=\"1\" class=\"dataframe\">\n",
       "  <thead>\n",
       "    <tr style=\"text-align: right;\">\n",
       "      <th></th>\n",
       "      <th>#chrom</th>\n",
       "      <th>start</th>\n",
       "      <th>end</th>\n",
       "      <th>name</th>\n",
       "      <th>PREDICTED_NEAREST_TSS</th>\n",
       "    </tr>\n",
       "  </thead>\n",
       "  <tbody>\n",
       "    <tr>\n",
       "      <th>0</th>\n",
       "      <td>chr1</td>\n",
       "      <td>12000</td>\n",
       "      <td>30001</td>\n",
       "      <td>PedSV.2.5.2_CNV_chr1_1</td>\n",
       "      <td>OR4F5</td>\n",
       "    </tr>\n",
       "    <tr>\n",
       "      <th>1</th>\n",
       "      <td>chr1</td>\n",
       "      <td>12000</td>\n",
       "      <td>40001</td>\n",
       "      <td>PedSV.2.5.2_DUP_chr1_1</td>\n",
       "      <td>OR4F5</td>\n",
       "    </tr>\n",
       "  </tbody>\n",
       "</table>\n",
       "</div>"
      ],
      "text/plain": [
       "  #chrom  start    end                    name PREDICTED_NEAREST_TSS\n",
       "0   chr1  12000  30001  PedSV.2.5.2_CNV_chr1_1                 OR4F5\n",
       "1   chr1  12000  40001  PedSV.2.5.2_DUP_chr1_1                 OR4F5"
      ]
     },
     "execution_count": 4,
     "metadata": {},
     "output_type": "execute_result"
    }
   ],
   "source": [
    "svs.head(2)"
   ]
  },
  {
   "cell_type": "markdown",
   "id": "3057ebba-8d58-4220-85e1-c027098dd59d",
   "metadata": {},
   "source": [
    "## Download genes"
   ]
  },
  {
   "cell_type": "markdown",
   "id": "64330566-fc7b-4e5f-9fd6-0c8a49166808",
   "metadata": {},
   "source": [
    "Next, we extract out the genic locations, for cross-reference. We use gencode."
   ]
  },
  {
   "cell_type": "code",
   "execution_count": 5,
   "id": "154e95a8-fa5b-4598-a1e0-2dee88f46fbe",
   "metadata": {},
   "outputs": [],
   "source": [
    "gtf = pd.read_csv(\n",
    "    \"https://ftp.ebi.ac.uk/pub/databases/gencode/Gencode_human/release_43/gencode.v43.basic.annotation.gtf.gz\",\n",
    "    comment=\"#\",\n",
    "    sep=\"\\t\",\n",
    "    header=None,\n",
    "    names=[\n",
    "        \"seqname\",\n",
    "        \"source\",\n",
    "        \"feature\",\n",
    "        \"start\",\n",
    "        \"end\",\n",
    "        \"score\",\n",
    "        \"strand\",\n",
    "        \"frame\",\n",
    "        \"attribute\",\n",
    "    ],\n",
    ")"
   ]
  },
  {
   "cell_type": "code",
   "execution_count": 6,
   "id": "2766600d-615f-4d5a-9061-f0053bd7b5eb",
   "metadata": {},
   "outputs": [],
   "source": [
    "# expand the gtf a bit\n",
    "genes = gtf.query('feature == \"gene\"').reset_index(drop = True)\n",
    "\n",
    "characteristics = {}\n",
    "for index, row in genes.iterrows():\n",
    "    \n",
    "    # fetch gene attributes\n",
    "    gene_data = row['attribute'].split('; ')\n",
    "    gene_data = {field.split(' ')[0]: field.split(' ')[1].strip(';') for field in gene_data}\n",
    "    gene_data = {key: val.strip('\"') for key, val in gene_data.items()}\n",
    "    characteristics[index] = gene_data\n",
    "    \n",
    "characteristics = pd.DataFrame(characteristics).T\n",
    "\n",
    "genes = pd.concat([genes, characteristics], axis = 1)"
   ]
  },
  {
   "cell_type": "code",
   "execution_count": 7,
   "id": "a9911eaf-0b74-4440-bb28-1fc14f68d425",
   "metadata": {},
   "outputs": [],
   "source": [
    "# drop genes in PAR and require that they are protein coding\n",
    "genes = genes[~(genes['tag'] == 'PAR')\n",
    "              & (genes['gene_type'] == 'protein_coding')]"
   ]
  },
  {
   "cell_type": "code",
   "execution_count": 8,
   "id": "7642419d-0fa1-42a3-88dc-a45d9535d00f",
   "metadata": {},
   "outputs": [
    {
     "data": {
      "text/plain": [
       "(20024, 17)"
      ]
     },
     "execution_count": 8,
     "metadata": {},
     "output_type": "execute_result"
    }
   ],
   "source": [
    "genes.shape"
   ]
  },
  {
   "cell_type": "code",
   "execution_count": 9,
   "id": "7370296f-413f-4334-b3bb-66b7dcf13bde",
   "metadata": {},
   "outputs": [
    {
     "data": {
      "text/plain": [
       "(20013, 20024)"
      ]
     },
     "execution_count": 9,
     "metadata": {},
     "output_type": "execute_result"
    }
   ],
   "source": [
    "len(set(genes['gene_name'])), len(genes['gene_name'])"
   ]
  },
  {
   "cell_type": "markdown",
   "id": "774aff1d-d0d0-45ff-b16d-6d1f0ed02047",
   "metadata": {},
   "source": [
    "So there are some duplicate gene names. We examine the duplicates in closer detail here:"
   ]
  },
  {
   "cell_type": "code",
   "execution_count": 10,
   "id": "cd030678-9eb1-4736-b8d9-a8549dd41e9e",
   "metadata": {},
   "outputs": [
    {
     "data": {
      "text/plain": [
       "(21, 17)"
      ]
     },
     "execution_count": 10,
     "metadata": {},
     "output_type": "execute_result"
    }
   ],
   "source": [
    "gene_counts = genes['gene_name'].value_counts()\n",
    "duplicates = gene_counts[gene_counts > 1]\n",
    "\n",
    "# some heuristics to get proper genes\n",
    "duplicate_gene_subset = genes[genes['gene_name'].isin(duplicates.index)]\n",
    "duplicate_gene_subset.shape"
   ]
  },
  {
   "cell_type": "code",
   "execution_count": 11,
   "id": "8490d6bf-a7d8-47dd-8d9f-1d68a14a94e8",
   "metadata": {},
   "outputs": [
    {
     "data": {
      "text/html": [
       "<div>\n",
       "<style scoped>\n",
       "    .dataframe tbody tr th:only-of-type {\n",
       "        vertical-align: middle;\n",
       "    }\n",
       "\n",
       "    .dataframe tbody tr th {\n",
       "        vertical-align: top;\n",
       "    }\n",
       "\n",
       "    .dataframe thead th {\n",
       "        text-align: right;\n",
       "    }\n",
       "</style>\n",
       "<table border=\"1\" class=\"dataframe\">\n",
       "  <thead>\n",
       "    <tr style=\"text-align: right;\">\n",
       "      <th></th>\n",
       "      <th>seqname</th>\n",
       "      <th>source</th>\n",
       "      <th>feature</th>\n",
       "      <th>start</th>\n",
       "      <th>end</th>\n",
       "      <th>score</th>\n",
       "      <th>strand</th>\n",
       "      <th>frame</th>\n",
       "      <th>attribute</th>\n",
       "      <th>gene_id</th>\n",
       "      <th>gene_type</th>\n",
       "      <th>gene_name</th>\n",
       "      <th>level</th>\n",
       "      <th>tag</th>\n",
       "      <th>hgnc_id</th>\n",
       "      <th>havana_gene</th>\n",
       "      <th>artif_dupl</th>\n",
       "    </tr>\n",
       "  </thead>\n",
       "  <tbody>\n",
       "    <tr>\n",
       "      <th>5327</th>\n",
       "      <td>chr1</td>\n",
       "      <td>HAVANA</td>\n",
       "      <td>gene</td>\n",
       "      <td>235328570</td>\n",
       "      <td>235448952</td>\n",
       "      <td>.</td>\n",
       "      <td>+</td>\n",
       "      <td>.</td>\n",
       "      <td>gene_id \"ENSG00000285053.1\"; gene_type \"protei...</td>\n",
       "      <td>ENSG00000285053.1</td>\n",
       "      <td>protein_coding</td>\n",
       "      <td>TBCE</td>\n",
       "      <td>2</td>\n",
       "      <td>readthrough_gene</td>\n",
       "      <td>HGNC:11582</td>\n",
       "      <td>OTTHUMG00000192486.7</td>\n",
       "      <td>NaN</td>\n",
       "    </tr>\n",
       "    <tr>\n",
       "      <th>5331</th>\n",
       "      <td>chr1</td>\n",
       "      <td>HAVANA</td>\n",
       "      <td>gene</td>\n",
       "      <td>235367360</td>\n",
       "      <td>235452443</td>\n",
       "      <td>.</td>\n",
       "      <td>+</td>\n",
       "      <td>.</td>\n",
       "      <td>gene_id \"ENSG00000284770.2\"; gene_type \"protei...</td>\n",
       "      <td>ENSG00000284770.2</td>\n",
       "      <td>protein_coding</td>\n",
       "      <td>TBCE</td>\n",
       "      <td>2</td>\n",
       "      <td>overlapping_locus</td>\n",
       "      <td>HGNC:11582</td>\n",
       "      <td>OTTHUMG00000039987.14</td>\n",
       "      <td>NaN</td>\n",
       "    </tr>\n",
       "  </tbody>\n",
       "</table>\n",
       "</div>"
      ],
      "text/plain": [
       "     seqname  source feature      start        end score strand frame  \\\n",
       "5327    chr1  HAVANA    gene  235328570  235448952     .      +     .   \n",
       "5331    chr1  HAVANA    gene  235367360  235452443     .      +     .   \n",
       "\n",
       "                                              attribute            gene_id  \\\n",
       "5327  gene_id \"ENSG00000285053.1\"; gene_type \"protei...  ENSG00000285053.1   \n",
       "5331  gene_id \"ENSG00000284770.2\"; gene_type \"protei...  ENSG00000284770.2   \n",
       "\n",
       "           gene_type gene_name level                tag     hgnc_id  \\\n",
       "5327  protein_coding      TBCE     2   readthrough_gene  HGNC:11582   \n",
       "5331  protein_coding      TBCE     2  overlapping_locus  HGNC:11582   \n",
       "\n",
       "                havana_gene artif_dupl  \n",
       "5327   OTTHUMG00000192486.7        NaN  \n",
       "5331  OTTHUMG00000039987.14        NaN  "
      ]
     },
     "execution_count": 11,
     "metadata": {},
     "output_type": "execute_result"
    }
   ],
   "source": [
    "duplicate_gene_subset.head(2)"
   ]
  },
  {
   "cell_type": "code",
   "execution_count": 12,
   "id": "4ab4048f-c4a8-4623-8ccb-3c47ab9833c3",
   "metadata": {},
   "outputs": [
    {
     "data": {
      "text/plain": [
       "(10, 17)"
      ]
     },
     "execution_count": 12,
     "metadata": {},
     "output_type": "execute_result"
    }
   ],
   "source": [
    "# we choose level 1, then the overlapping locus\n",
    "kept_duplicates = duplicate_gene_subset.sort_values(by = ['level', 'tag']).drop_duplicates(subset = ['gene_name'])\n",
    "kept_duplicates.shape"
   ]
  },
  {
   "cell_type": "code",
   "execution_count": 13,
   "id": "5b15163b-4881-42d1-b64a-faee8d617a57",
   "metadata": {},
   "outputs": [],
   "source": [
    "gene_reference = genes.drop_duplicates(subset = 'gene_name', keep = False)\n",
    "gene_reference = pd.concat([gene_reference, kept_duplicates])"
   ]
  },
  {
   "cell_type": "code",
   "execution_count": 14,
   "id": "6850d0c4-cdcd-4081-9750-f9157c5712e4",
   "metadata": {},
   "outputs": [
    {
     "data": {
      "text/plain": [
       "(20013, 17)"
      ]
     },
     "execution_count": 14,
     "metadata": {},
     "output_type": "execute_result"
    }
   ],
   "source": [
    "gene_reference.shape"
   ]
  },
  {
   "cell_type": "markdown",
   "id": "43d3d1ed-dcb0-4f54-ae16-827f804583e0",
   "metadata": {},
   "source": [
    "# Quantify distances between non-coding SVs and their nearest genes\n",
    "\n",
    "Downstream results will use this for filtering out noncoding SVs that are too far from their closest genes."
   ]
  },
  {
   "cell_type": "code",
   "execution_count": 15,
   "id": "f9524cad-2d31-430b-bf38-ffa9d12a82f3",
   "metadata": {},
   "outputs": [],
   "source": [
    "def calculate_distance(sv, gene):\n",
    "    \n",
    "    # If they overlap, the distance is 0\n",
    "    if not (sv['end_sv'] < gene['start_gene'] or sv['start_sv'] > gene['end_gene']):\n",
    "        return 0\n",
    "\n",
    "    # If they do not overlap\n",
    "    else:\n",
    "        return min(abs(sv['start_sv'] - gene['end_gene']), abs(sv['end_sv'] - gene['start_gene']))"
   ]
  },
  {
   "cell_type": "code",
   "execution_count": 16,
   "id": "f68ab562-9bcd-415e-816a-8f10aa223758",
   "metadata": {},
   "outputs": [],
   "source": [
    "# examine intergenic svs\n",
    "intergenic_svs = svs[~pd.isnull(svs['PREDICTED_NEAREST_TSS'])]\n",
    "\n",
    "# drop those labelled as affecting two genes\n",
    "intergenic_svs = intergenic_svs[~intergenic_svs['PREDICTED_NEAREST_TSS'].str.contains(',')]\n",
    "\n",
    "# drop those affecting genes not in our reference\n",
    "intergenic_svs = intergenic_svs[intergenic_svs['PREDICTED_NEAREST_TSS'].isin(gene_reference['gene_name'].tolist())]\n",
    "\n",
    "# merge with gene locations\n",
    "intergenic_svs = intergenic_svs.merge(gene_reference[['seqname', 'start', 'end', 'gene_name']], \n",
    "                                 left_on = 'PREDICTED_NEAREST_TSS', \n",
    "                                 right_on = 'gene_name',\n",
    "                                     suffixes = ['_sv', '_gene'])\n",
    "\n",
    "# check that all chroms are the same\n",
    "assert (intergenic_svs['#chrom'] == intergenic_svs['seqname']).all()\n",
    "\n",
    "# get the gene and SV locations\n",
    "sv_locs = intergenic_svs[['start_sv', 'end_sv']]\n",
    "gene_locs = intergenic_svs[['start_gene', 'end_gene']]\n",
    "\n",
    "# calculate the distances\n",
    "distances = np.array([calculate_distance(sv, gene) for sv, gene in zip(sv_locs.to_dict('records'), gene_locs.to_dict('records'))])\n",
    "\n",
    "# for the purpose of viewing a histogram, truncate the distances\n",
    "truncated_distances = distances.copy()\n",
    "truncated_distances[truncated_distances > 5e5] = 5e5\n"
   ]
  },
  {
   "cell_type": "code",
   "execution_count": 17,
   "id": "d1eebb55-e477-4b29-949d-b28fce27b8b4",
   "metadata": {},
   "outputs": [
    {
     "data": {
      "text/plain": [
       "0.16316536862446565"
      ]
     },
     "execution_count": 17,
     "metadata": {},
     "output_type": "execute_result"
    }
   ],
   "source": [
    "# what percentage of noncoding SVs are more than 500 kb from their nearest gene?\n",
    "(truncated_distances == 5e5).mean()"
   ]
  },
  {
   "cell_type": "code",
   "execution_count": 18,
   "id": "fa96e67f-0c75-4f08-92d5-0ce8ee4fe431",
   "metadata": {},
   "outputs": [
    {
     "data": {
      "image/png": "[encoded data removed]",
      "text/plain": [
       "<Figure size 300x100 with 1 Axes>"
      ]
     },
     "metadata": {},
     "output_type": "display_data"
    }
   ],
   "source": [
    "fig, ax = plt.subplots(1, figsize = (3, 1))\n",
    "ax.hist(truncated_distances)\n",
    "ax.set_xlabel('distance between SV and gene (kb)')\n",
    "ax.set_ylabel('count')\n",
    "ax.set_xticks([0, 1e5, 2e5, 3e5, 4e5, 5e5])\n",
    "ax.set_xticklabels([0, 100, 200, 300, 400, '≥ 500'])\n",
    "sns.despine()\n",
    "fig.savefig('figures/distance-between-intergenic-svs-and-genes.png', bbox_inches = 'tight')"
   ]
  },
  {
   "cell_type": "markdown",
   "id": "7edaf92c-3378-4f7b-af2d-a0647586a172",
   "metadata": {},
   "source": [
    "Now export"
   ]
  },
  {
   "cell_type": "code",
   "execution_count": 19,
   "id": "24a4be92-3685-4ff7-ac34-ca6b9936f444",
   "metadata": {},
   "outputs": [],
   "source": [
    "intergenic_svs['distance'] = distances"
   ]
  },
  {
   "cell_type": "code",
   "execution_count": 20,
   "id": "fc849dc3-3b0c-46b8-b409-0d64328d26cf",
   "metadata": {},
   "outputs": [],
   "source": [
    "intergenic_svs[['name', '#chrom', 'start_sv', 'end_sv', 'gene_name', 'start_gene', 'end_gene', 'distance']].to_csv('data/cwas/intergenic-sv-to-gene-distances.csv', index = False)"
   ]
  }
 ],
 "metadata": {
  "kernelspec": {
   "display_name": "pedsv-test-conda",
   "language": "python",
   "name": "pedsv-test-conda"
  },
  "language_info": {
   "codemirror_mode": {
    "name": "ipython",
    "version": 3
   },
   "file_extension": ".py",
   "mimetype": "text/x-python",
   "name": "python",
   "nbconvert_exporter": "python",
   "pygments_lexer": "ipython3",
   "version": "3.7.13"
  }
 },
 "nbformat": 4,
 "nbformat_minor": 5
}
