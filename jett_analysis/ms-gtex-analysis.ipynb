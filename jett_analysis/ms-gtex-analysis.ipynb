{
 "cells": [
  {
   "cell_type": "code",
   "execution_count": 1,
   "id": "349d43a9-0dec-4b26-b36e-caee76d03673",
   "metadata": {},
   "outputs": [],
   "source": [
    "from collections import defaultdict\n",
    "\n",
    "import gseapy as gp\n",
    "import numpy as np\n",
    "import pandas as pd\n",
    "import scipy.stats as stats\n",
    "import statsmodels.stats\n",
    "\n",
    "import glob\n",
    "\n",
    "import matplotlib as mpl\n",
    "import matplotlib.pyplot as plt\n",
    "import seaborn as sns\n",
    "from scripts import aesthetics\n",
    "from scripts import manuscript_colors as mc\n",
    "\n",
    "aesthetics.activate_paper_rcParams('illustrator')"
   ]
  },
  {
   "cell_type": "markdown",
   "id": "cba2661e-b075-480a-9c29-33dce1f0371b",
   "metadata": {},
   "source": [
    "# GTEX analysis"
   ]
  },
  {
   "cell_type": "markdown",
   "id": "e3693f93-7064-4cd9-9ef1-e1b79f056650",
   "metadata": {},
   "source": [
    "This notebook is dedicated to exploring the expression of genes affected by SVs in our tissues."
   ]
  },
  {
   "cell_type": "markdown",
   "id": "afe006dc-8bb9-4f8d-b709-3414f27e6fec",
   "metadata": {},
   "source": [
    "# Load SV-related data\n",
    "\n",
    "We need to load all the SVs and the genes they affect. Thankfully, we generated this in a previous notebook, so we can just use that data."
   ]
  },
  {
   "cell_type": "code",
   "execution_count": 2,
   "id": "abc33d3f-6af3-4a92-9c29-7cf2c4ed3dca",
   "metadata": {},
   "outputs": [],
   "source": [
    "# define metadata\n",
    "metadata_path = \"gs://vanallen-pedsv-analysis/sample_info/PedSV.v2.5.3.cohort_metadata.w_control_assignments.tsv.gz\"\n",
    "gene_ref_path = \"data/updated-cwas/genes/gencode_hg38_protein_coding_genes_for_annotation_7_31_23 (1).txt\""
   ]
  },
  {
   "cell_type": "code",
   "execution_count": 3,
   "id": "1ed27c92-ee10-48a8-9082-d9811ac4cfe1",
   "metadata": {},
   "outputs": [
    {
     "data": {
      "text/plain": [
       "19201"
      ]
     },
     "execution_count": 3,
     "metadata": {},
     "output_type": "execute_result"
    }
   ],
   "source": [
    "gene_ref = pd.read_csv(gene_ref_path)\n",
    "gene_ref = gene_ref[~gene_ref[\"value\"].str.startswith(\"ENSG00\")]\n",
    "gene_ref = sorted(set(gene_ref[\"value\"].tolist()))\n",
    "len(gene_ref)"
   ]
  },
  {
   "cell_type": "markdown",
   "id": "e3167800-1ea0-4a62-adf5-786fa993e81d",
   "metadata": {},
   "source": [
    "## Metadata and reference counts"
   ]
  },
  {
   "cell_type": "markdown",
   "id": "dd8d93df-27ae-4971-80e2-2f2b3aa9813a",
   "metadata": {},
   "source": [
    "Load metadata and SVs"
   ]
  },
  {
   "cell_type": "code",
   "execution_count": 4,
   "id": "332112bc-d353-472e-85e2-5de2bd884a70",
   "metadata": {},
   "outputs": [
    {
     "name": "stdout",
     "output_type": "stream",
     "text": [
      "neuroblastoma case 688\n",
      "neuroblastoma control 4830\n",
      "ewing case 773\n",
      "ewing control 4574\n"
     ]
    }
   ],
   "source": [
    "metadata = pd.read_csv(\n",
    "    metadata_path,\n",
    "    sep=\"\\t\",\n",
    ")\n",
    "\n",
    "# add a sex label to metadata\n",
    "metadata[\"sex\"] = (metadata[\"chrX_CopyNumber\"].round() < 2).astype(int)\n",
    "\n",
    "###############\n",
    "### Samples ###\n",
    "###############\n",
    "samples = defaultdict(dict)\n",
    "\n",
    "total_samples = []\n",
    "for disease in [\"neuroblastoma\", \"ewing\"]:\n",
    "    for cohort in [\"case\", \"control\"]:\n",
    "        disease_cohort_samples = metadata[(metadata[f\"{disease}_{cohort}\"] == True)][\n",
    "            \"entity:sample_id\"\n",
    "        ].tolist()\n",
    "\n",
    "        samples[disease][cohort] = disease_cohort_samples\n",
    "        total_samples += disease_cohort_samples\n",
    "\n",
    "        print(disease, cohort, len(disease_cohort_samples))\n",
    "\n",
    "total_samples = sorted(set(total_samples))"
   ]
  },
  {
   "cell_type": "code",
   "execution_count": 5,
   "id": "54715d37-69a9-404c-ac0f-c03a5fcd8002",
   "metadata": {},
   "outputs": [
    {
     "data": {
      "text/plain": [
       "6432"
      ]
     },
     "execution_count": 5,
     "metadata": {},
     "output_type": "execute_result"
    }
   ],
   "source": [
    "len(total_samples)"
   ]
  },
  {
   "cell_type": "markdown",
   "id": "b690a1b0-d388-44ac-ab5c-38b112c92dc0",
   "metadata": {},
   "source": [
    "Now we load the SVs. These are reference counts generated in `cwas-gene-set-enrichment`"
   ]
  },
  {
   "cell_type": "code",
   "execution_count": 6,
   "id": "c3304748-d6f6-4e28-aea1-75fc7ddf24bc",
   "metadata": {},
   "outputs": [],
   "source": [
    "ref_counts = pd.read_csv(\"data/cwas-results/reference-counts.csv\")\n",
    "ref_counts = ref_counts[ref_counts['gene'].isin(gene_ref)]"
   ]
  },
  {
   "cell_type": "code",
   "execution_count": 7,
   "id": "279a0148-42c7-4479-a9a0-b18237464678",
   "metadata": {},
   "outputs": [
    {
     "data": {
      "text/html": [
       "<div>\n",
       "<style scoped>\n",
       "    .dataframe tbody tr th:only-of-type {\n",
       "        vertical-align: middle;\n",
       "    }\n",
       "\n",
       "    .dataframe tbody tr th {\n",
       "        vertical-align: top;\n",
       "    }\n",
       "\n",
       "    .dataframe thead th {\n",
       "        text-align: right;\n",
       "    }\n",
       "</style>\n",
       "<table border=\"1\" class=\"dataframe\">\n",
       "  <thead>\n",
       "    <tr style=\"text-align: right;\">\n",
       "      <th></th>\n",
       "      <th>name</th>\n",
       "      <th>dose</th>\n",
       "      <th>gene</th>\n",
       "      <th>disease</th>\n",
       "      <th>sv_category</th>\n",
       "      <th>cohort</th>\n",
       "    </tr>\n",
       "  </thead>\n",
       "  <tbody>\n",
       "    <tr>\n",
       "      <th>0</th>\n",
       "      <td>PedSV.2.5.2_DEL_chr1_80</td>\n",
       "      <td>0</td>\n",
       "      <td>SAMD11</td>\n",
       "      <td>neuroblastoma</td>\n",
       "      <td>coding</td>\n",
       "      <td>case</td>\n",
       "    </tr>\n",
       "    <tr>\n",
       "      <th>1</th>\n",
       "      <td>PedSV.2.5.2_DEL_chr1_100</td>\n",
       "      <td>1</td>\n",
       "      <td>PLEKHN1</td>\n",
       "      <td>neuroblastoma</td>\n",
       "      <td>coding</td>\n",
       "      <td>case</td>\n",
       "    </tr>\n",
       "  </tbody>\n",
       "</table>\n",
       "</div>"
      ],
      "text/plain": [
       "                       name  dose     gene        disease sv_category cohort\n",
       "0   PedSV.2.5.2_DEL_chr1_80     0   SAMD11  neuroblastoma      coding   case\n",
       "1  PedSV.2.5.2_DEL_chr1_100     1  PLEKHN1  neuroblastoma      coding   case"
      ]
     },
     "execution_count": 7,
     "metadata": {},
     "output_type": "execute_result"
    }
   ],
   "source": [
    "ref_counts.head(2)"
   ]
  },
  {
   "cell_type": "markdown",
   "id": "b9f5c295-de73-4e7d-9c9c-8fc8d631c4ac",
   "metadata": {},
   "source": [
    "## Add a label for various SV traits\n",
    "\n",
    "We add some traits to the SVs defined in these files based on the original vcf"
   ]
  },
  {
   "cell_type": "code",
   "execution_count": 8,
   "id": "8b8777dd-c696-4b07-b3c2-c4b8e7d135c4",
   "metadata": {},
   "outputs": [],
   "source": [
    "sv_path = \"gs://vanallen-pedsv-analysis/beds/PedSV.v2.5.3.full_cohort.analysis_samples.sites.bed.gz\"\n",
    "sv_cols = pd.read_csv(sv_path, sep = '\\t', nrows = 0)\n",
    "\n",
    "# in particular, we want whether the SVs are singletons in this analysis\n",
    "cols_to_include = ['name', 'AC', 'gnomad_v3.1_sv_POPMAX_AF']\n",
    "cols_to_include_idx = [i for i, c in enumerate(sv_cols.columns) if c in cols_to_include]\n",
    "\n",
    "svs = pd.read_csv(sv_path, sep = '\\t', usecols = cols_to_include_idx)"
   ]
  },
  {
   "cell_type": "code",
   "execution_count": 9,
   "id": "43ce123c-74fb-42e3-9683-3d928fc5d11a",
   "metadata": {},
   "outputs": [],
   "source": [
    "singleton_svs = svs[(svs['AC'] == 1) & (svs['gnomad_v3.1_sv_POPMAX_AF'].fillna(0) < 0.01)]['name']"
   ]
  },
  {
   "cell_type": "code",
   "execution_count": 10,
   "id": "b064c708-2eeb-4597-a878-00009e7e082b",
   "metadata": {},
   "outputs": [],
   "source": [
    "ref_counts['global_singleton'] = ref_counts['name'].isin(singleton_svs)"
   ]
  },
  {
   "cell_type": "markdown",
   "id": "557cb4b5-c018-47c4-bf14-299d00c3f3d5",
   "metadata": {},
   "source": [
    "## Read in the category results\n",
    "\n",
    "I'm going to concatenate all this data so that I'm only dealing with a few files."
   ]
  },
  {
   "cell_type": "code",
   "execution_count": 11,
   "id": "8d5a4d3e-cde0-49ad-bbd9-f6d668a22cbd",
   "metadata": {},
   "outputs": [
    {
     "data": {
      "text/html": [
       "<div>\n",
       "<style scoped>\n",
       "    .dataframe tbody tr th:only-of-type {\n",
       "        vertical-align: middle;\n",
       "    }\n",
       "\n",
       "    .dataframe tbody tr th {\n",
       "        vertical-align: top;\n",
       "    }\n",
       "\n",
       "    .dataframe thead th {\n",
       "        text-align: right;\n",
       "    }\n",
       "</style>\n",
       "<table border=\"1\" class=\"dataframe\">\n",
       "  <thead>\n",
       "    <tr style=\"text-align: right;\">\n",
       "      <th></th>\n",
       "      <th>SV</th>\n",
       "      <th>chrom</th>\n",
       "      <th>start</th>\n",
       "      <th>end</th>\n",
       "      <th>category</th>\n",
       "      <th>disease</th>\n",
       "      <th>sv_category</th>\n",
       "    </tr>\n",
       "  </thead>\n",
       "  <tbody>\n",
       "    <tr>\n",
       "      <th>0</th>\n",
       "      <td>PedSV.2.5.2_DUP_chr1_455</td>\n",
       "      <td>chr1</td>\n",
       "      <td>6720524</td>\n",
       "      <td>6722070</td>\n",
       "      <td>DUP.RARE.PREDICTED_NONCODING_BREAKPOINT.ewing_...</td>\n",
       "      <td>ewing</td>\n",
       "      <td>noncoding</td>\n",
       "    </tr>\n",
       "    <tr>\n",
       "      <th>1</th>\n",
       "      <td>PedSV.2.5.2_DUP_chr1_898</td>\n",
       "      <td>chr1</td>\n",
       "      <td>23649481</td>\n",
       "      <td>23651544</td>\n",
       "      <td>DUP.RARE.PREDICTED_NONCODING_BREAKPOINT.ewing_...</td>\n",
       "      <td>ewing</td>\n",
       "      <td>noncoding</td>\n",
       "    </tr>\n",
       "  </tbody>\n",
       "</table>\n",
       "</div>"
      ],
      "text/plain": [
       "                         SV chrom     start       end  \\\n",
       "0  PedSV.2.5.2_DUP_chr1_455  chr1   6720524   6722070   \n",
       "1  PedSV.2.5.2_DUP_chr1_898  chr1  23649481  23651544   \n",
       "\n",
       "                                            category disease sv_category  \n",
       "0  DUP.RARE.PREDICTED_NONCODING_BREAKPOINT.ewing_...   ewing   noncoding  \n",
       "1  DUP.RARE.PREDICTED_NONCODING_BREAKPOINT.ewing_...   ewing   noncoding  "
      ]
     },
     "execution_count": 11,
     "metadata": {},
     "output_type": "execute_result"
    }
   ],
   "source": [
    "###########\n",
    "### SVs ###\n",
    "###########\n",
    "category_svs = []\n",
    "for file in glob.glob(\"data/updated-cwas/svs-in-categories/*.txt\"):\n",
    "    disease = file.split(\"/\")[-1].split(\"_\")[0]\n",
    "\n",
    "    sv_category = \"noncoding\" if \"noncoding\" in file else \"coding\"\n",
    "\n",
    "    cat_svs = pd.read_csv(file, sep=\"\\t\")\n",
    "    cat_svs[[\"disease\", \"sv_category\"]] = [disease, sv_category]\n",
    "    category_svs.append(cat_svs)\n",
    "\n",
    "category_svs = pd.concat(category_svs)\n",
    "category_svs.head(2)"
   ]
  },
  {
   "cell_type": "code",
   "execution_count": 12,
   "id": "401f854f-6749-4333-9acb-36da395e9d93",
   "metadata": {},
   "outputs": [],
   "source": [
    "#########################\n",
    "### FRAMEWORK RESULTS ###\n",
    "#########################\n",
    "columns = ['category_name', 'point_estimate', 'std_error', 'z_score', 'p_value']\n",
    "framework_results = []\n",
    "for file in glob.glob(\"data/updated-cwas/summary-stats/*.txt\"):\n",
    "\n",
    "    disease = file.split(\"/\")[-1].split(\"_\")[0]\n",
    "\n",
    "    sv_category = \"noncoding\" if \"noncoding\" in file else \"coding\"\n",
    "\n",
    "    data = pd.read_csv(file, sep=\"\\t\", usecols = columns)\n",
    "    data[[\"disease\", \"sv_category\"]] = [\n",
    "        disease,\n",
    "        sv_category,\n",
    "    ]\n",
    "    framework_results.append(data)\n",
    "\n",
    "framework_results = pd.concat(framework_results)\n",
    "framework_results['negative_log10_p_value'] = -np.log10(framework_results['p_value'])"
   ]
  },
  {
   "cell_type": "code",
   "execution_count": 13,
   "id": "ab6d937b-f522-419b-b24d-20647f00ba8f",
   "metadata": {},
   "outputs": [],
   "source": [
    "framework_schema = defaultdict(dict)\n",
    "for file in glob.glob(\"data/updated-cwas/schema/*.txt\"):\n",
    "\n",
    "    sv_category = \"noncoding\" if \"noncoding\" in file else \"coding\"\n",
    "    suffix = file.split(\"/\")[-1]\n",
    "    if sv_category == \"coding\":\n",
    "        disease = suffix.split('_')[2]\n",
    "    else:\n",
    "        disease = suffix.split('_')[3]\n",
    "\n",
    "    data = pd.read_csv(file, sep=\"\\t\")\n",
    "    framework_schema[disease][sv_category] = data"
   ]
  },
  {
   "cell_type": "code",
   "execution_count": 14,
   "id": "ce700ab9-de05-45c3-bb97-4e49143a3437",
   "metadata": {},
   "outputs": [
    {
     "data": {
      "text/html": [
       "<div>\n",
       "<style scoped>\n",
       "    .dataframe tbody tr th:only-of-type {\n",
       "        vertical-align: middle;\n",
       "    }\n",
       "\n",
       "    .dataframe tbody tr th {\n",
       "        vertical-align: top;\n",
       "    }\n",
       "\n",
       "    .dataframe thead th {\n",
       "        text-align: right;\n",
       "    }\n",
       "</style>\n",
       "<table border=\"1\" class=\"dataframe\">\n",
       "  <thead>\n",
       "    <tr style=\"text-align: right;\">\n",
       "      <th></th>\n",
       "      <th>sv_type</th>\n",
       "      <th>frequency</th>\n",
       "      <th>functional_intersection</th>\n",
       "      <th>functional_category</th>\n",
       "      <th>genic_relationship</th>\n",
       "      <th>constraint</th>\n",
       "      <th>expression</th>\n",
       "      <th>gene_group</th>\n",
       "    </tr>\n",
       "  </thead>\n",
       "  <tbody>\n",
       "    <tr>\n",
       "      <th>0</th>\n",
       "      <td>DUP</td>\n",
       "      <td>RARE</td>\n",
       "      <td>PREDICTED_NONCODING_BREAKPOINT</td>\n",
       "      <td>ewing_and_osteosarcoma_atac_peaks</td>\n",
       "      <td>PREDICTED_INTERGENIC</td>\n",
       "      <td>lof_constrained</td>\n",
       "      <td>expressed_in_muscle_skeletal</td>\n",
       "      <td>protein_coding</td>\n",
       "    </tr>\n",
       "    <tr>\n",
       "      <th>1</th>\n",
       "      <td>DEL</td>\n",
       "      <td>SINGLETON</td>\n",
       "      <td>PREDICTED_NONCODING_SPAN</td>\n",
       "      <td>ewing_chromHMM15_EnhBiv</td>\n",
       "      <td>PREDICTED_INTRONIC</td>\n",
       "      <td>ANY</td>\n",
       "      <td>ANY</td>\n",
       "      <td>cosmic_and_germline_CPGs</td>\n",
       "    </tr>\n",
       "  </tbody>\n",
       "</table>\n",
       "</div>"
      ],
      "text/plain": [
       "  sv_type  frequency         functional_intersection  \\\n",
       "0     DUP       RARE  PREDICTED_NONCODING_BREAKPOINT   \n",
       "1     DEL  SINGLETON        PREDICTED_NONCODING_SPAN   \n",
       "\n",
       "                 functional_category    genic_relationship       constraint  \\\n",
       "0  ewing_and_osteosarcoma_atac_peaks  PREDICTED_INTERGENIC  lof_constrained   \n",
       "1            ewing_chromHMM15_EnhBiv    PREDICTED_INTRONIC              ANY   \n",
       "\n",
       "                     expression                gene_group  \n",
       "0  expressed_in_muscle_skeletal            protein_coding  \n",
       "1                           ANY  cosmic_and_germline_CPGs  "
      ]
     },
     "execution_count": 14,
     "metadata": {},
     "output_type": "execute_result"
    }
   ],
   "source": [
    "framework_schema[\"ewing\"][\"noncoding\"].head(2)"
   ]
  },
  {
   "cell_type": "markdown",
   "id": "1ee6ec97-7f79-448d-88f1-52ff034f2f01",
   "metadata": {},
   "source": [
    "# Define GTEX data\n",
    "\n",
    "Taken from https://www.gtexportal.org/home/downloads/adult-gtex/bulk_tissue_expression"
   ]
  },
  {
   "cell_type": "code",
   "execution_count": 15,
   "id": "b14fa900-6c8f-4dca-a9f9-c187ae425e98",
   "metadata": {},
   "outputs": [
    {
     "data": {
      "text/html": [
       "<div>\n",
       "<style scoped>\n",
       "    .dataframe tbody tr th:only-of-type {\n",
       "        vertical-align: middle;\n",
       "    }\n",
       "\n",
       "    .dataframe tbody tr th {\n",
       "        vertical-align: top;\n",
       "    }\n",
       "\n",
       "    .dataframe thead th {\n",
       "        text-align: right;\n",
       "    }\n",
       "</style>\n",
       "<table border=\"1\" class=\"dataframe\">\n",
       "  <thead>\n",
       "    <tr style=\"text-align: right;\">\n",
       "      <th></th>\n",
       "      <th>Name</th>\n",
       "      <th>gene</th>\n",
       "      <th>Adipose - Subcutaneous</th>\n",
       "      <th>Adipose - Visceral (Omentum)</th>\n",
       "      <th>Adrenal Gland</th>\n",
       "      <th>Artery - Aorta</th>\n",
       "      <th>Artery - Coronary</th>\n",
       "      <th>Artery - Tibial</th>\n",
       "      <th>Bladder</th>\n",
       "      <th>Brain - Amygdala</th>\n",
       "      <th>...</th>\n",
       "      <th>Skin - Not Sun Exposed (Suprapubic)</th>\n",
       "      <th>Skin - Sun Exposed (Lower leg)</th>\n",
       "      <th>Small Intestine - Terminal Ileum</th>\n",
       "      <th>Spleen</th>\n",
       "      <th>Stomach</th>\n",
       "      <th>Testis</th>\n",
       "      <th>Thyroid</th>\n",
       "      <th>Uterus</th>\n",
       "      <th>Vagina</th>\n",
       "      <th>Whole Blood</th>\n",
       "    </tr>\n",
       "  </thead>\n",
       "  <tbody>\n",
       "    <tr>\n",
       "      <th>0</th>\n",
       "      <td>ENSG00000223972.5</td>\n",
       "      <td>DDX11L1</td>\n",
       "      <td>0.00000</td>\n",
       "      <td>0.00000</td>\n",
       "      <td>0.00000</td>\n",
       "      <td>0.00000</td>\n",
       "      <td>0.00000</td>\n",
       "      <td>0.00000</td>\n",
       "      <td>0.00000</td>\n",
       "      <td>0.00000</td>\n",
       "      <td>...</td>\n",
       "      <td>0.00000</td>\n",
       "      <td>0.00000</td>\n",
       "      <td>0.00000</td>\n",
       "      <td>0.00000</td>\n",
       "      <td>0.00000</td>\n",
       "      <td>0.166403</td>\n",
       "      <td>0.00000</td>\n",
       "      <td>0.00000</td>\n",
       "      <td>0.00000</td>\n",
       "      <td>0.00000</td>\n",
       "    </tr>\n",
       "    <tr>\n",
       "      <th>1</th>\n",
       "      <td>ENSG00000227232.5</td>\n",
       "      <td>WASH7P</td>\n",
       "      <td>4.06403</td>\n",
       "      <td>3.37111</td>\n",
       "      <td>2.68549</td>\n",
       "      <td>4.04762</td>\n",
       "      <td>3.90076</td>\n",
       "      <td>3.63963</td>\n",
       "      <td>5.16375</td>\n",
       "      <td>1.43859</td>\n",
       "      <td>...</td>\n",
       "      <td>5.93298</td>\n",
       "      <td>6.13265</td>\n",
       "      <td>4.19378</td>\n",
       "      <td>5.92631</td>\n",
       "      <td>3.06248</td>\n",
       "      <td>4.702530</td>\n",
       "      <td>6.27255</td>\n",
       "      <td>7.19001</td>\n",
       "      <td>5.74554</td>\n",
       "      <td>2.64743</td>\n",
       "    </tr>\n",
       "  </tbody>\n",
       "</table>\n",
       "<p>2 rows × 56 columns</p>\n",
       "</div>"
      ],
      "text/plain": [
       "                Name     gene  Adipose - Subcutaneous  \\\n",
       "0  ENSG00000223972.5  DDX11L1                 0.00000   \n",
       "1  ENSG00000227232.5   WASH7P                 4.06403   \n",
       "\n",
       "   Adipose - Visceral (Omentum)  Adrenal Gland  Artery - Aorta  \\\n",
       "0                       0.00000        0.00000         0.00000   \n",
       "1                       3.37111        2.68549         4.04762   \n",
       "\n",
       "   Artery - Coronary  Artery - Tibial  Bladder  Brain - Amygdala  ...  \\\n",
       "0            0.00000          0.00000  0.00000           0.00000  ...   \n",
       "1            3.90076          3.63963  5.16375           1.43859  ...   \n",
       "\n",
       "   Skin - Not Sun Exposed (Suprapubic)  Skin - Sun Exposed (Lower leg)  \\\n",
       "0                              0.00000                         0.00000   \n",
       "1                              5.93298                         6.13265   \n",
       "\n",
       "   Small Intestine - Terminal Ileum   Spleen  Stomach    Testis  Thyroid  \\\n",
       "0                           0.00000  0.00000  0.00000  0.166403  0.00000   \n",
       "1                           4.19378  5.92631  3.06248  4.702530  6.27255   \n",
       "\n",
       "    Uterus   Vagina  Whole Blood  \n",
       "0  0.00000  0.00000      0.00000  \n",
       "1  7.19001  5.74554      2.64743  \n",
       "\n",
       "[2 rows x 56 columns]"
      ]
     },
     "execution_count": 15,
     "metadata": {},
     "output_type": "execute_result"
    }
   ],
   "source": [
    "gtex = pd.read_csv('data/updated-cwas/GTEx_Analysis_2017-06-05_v8_RNASeQCv1.1.9_gene_median_tpm.gct.gz', comment = '#', sep = '\\t', skiprows = 2).rename(columns = {'Description': 'gene'})\n",
    "gtex.head(2)"
   ]
  },
  {
   "cell_type": "markdown",
   "id": "0cf97b74-9b4e-406e-9b69-b9f85badc13c",
   "metadata": {},
   "source": [
    "Because we dropped genes with ENGS ids earlier, we repeat the same here, only keeping genes present in our GTF."
   ]
  },
  {
   "cell_type": "code",
   "execution_count": 16,
   "id": "a39603c3-67ae-4d68-8afd-66fb9344aaf7",
   "metadata": {},
   "outputs": [],
   "source": [
    "# drop ENGS ids\n",
    "gtex = gtex.iloc[:, 1:]\n",
    "\n",
    "gtex = gtex[gtex['gene'].isin(gene_ref)]\n",
    "\n",
    "gtex = gtex.set_index('gene')\n",
    "\n",
    "# genes need expression in at least 10% of histologies\n",
    "gtex = gtex[(gtex != 0).mean(axis = 1) > 0.10]"
   ]
  },
  {
   "cell_type": "code",
   "execution_count": 17,
   "id": "1df7a3be-5b2b-4549-a19b-b881df868752",
   "metadata": {},
   "outputs": [
    {
     "data": {
      "text/plain": [
       "(17162, 54)"
      ]
     },
     "execution_count": 17,
     "metadata": {},
     "output_type": "execute_result"
    }
   ],
   "source": [
    "gtex.shape"
   ]
  },
  {
   "cell_type": "markdown",
   "id": "ecba4314-33fb-427e-bc32-9142db560f76",
   "metadata": {},
   "source": [
    "## Examine absolute expression"
   ]
  },
  {
   "cell_type": "code",
   "execution_count": 18,
   "id": "5218b27d-9f3e-4b5f-997e-77c8034d4831",
   "metadata": {},
   "outputs": [],
   "source": [
    "singleton_coding_ref_exp = ref_counts.query('dose == 1 & sv_category == \"coding\" & global_singleton == True')\n",
    "singleton_coding_ref_exp = singleton_coding_ref_exp.merge(gtex.reset_index(), on = 'gene')"
   ]
  },
  {
   "cell_type": "markdown",
   "id": "2d29c0ad-0176-4437-b79a-4e3c400a9f13",
   "metadata": {},
   "source": [
    "We next identify the genes that are affected by cases, controls, unique to cases, and unique to controls. For each, store the expression."
   ]
  },
  {
   "cell_type": "code",
   "execution_count": 19,
   "id": "134a1c43-741c-4540-8b16-4741628ea644",
   "metadata": {},
   "outputs": [],
   "source": [
    "tpm_violin_data = []\n",
    "for disease, tissue in zip(['neuroblastoma', 'ewing'], \n",
    "                           ['Adrenal Gland', 'Muscle - Skeletal']):\n",
    "    \n",
    "    # get the disease data - nbl or osteo\n",
    "    disease_data = singleton_coding_ref_exp.query(f'disease == \"{disease}\"').copy()\n",
    "    \n",
    "    \n",
    "    for cohort in ['control', 'case']:\n",
    "        cohort_data = disease_data.query(f'cohort == \"{cohort}\"')[['gene', tissue, 'disease', 'cohort', 'name']]\n",
    "        cohort_data = cohort_data.rename(columns = {tissue: 'tissue'})\n",
    "        tpm_violin_data.append(cohort_data)\n",
    "        \n",
    "        # next, subtract out the \"other\" cohort to get the genes uniquely affected by SVs in this cohort\n",
    "        other = 'control' if cohort == 'case' else 'case'\n",
    "        other_data = disease_data.query(f'cohort == \"{other}\"')\n",
    "        other_unique = cohort_data[~cohort_data['gene'].isin(other_data['gene'].tolist())].copy()\n",
    "        other_unique['cohort'] = f'{cohort}_unique'\n",
    "        tpm_violin_data.append(other_unique)\n",
    "        \n",
    "tpm_violin_data = pd.concat(tpm_violin_data)\n",
    "tpm_violin_data['logTPM'] = np.log10(tpm_violin_data['tissue'] + 1)"
   ]
  },
  {
   "cell_type": "code",
   "execution_count": 20,
   "id": "40ad69b0-5272-47cf-9660-0bb3f571bc6e",
   "metadata": {},
   "outputs": [
    {
     "data": {
      "text/html": [
       "<div>\n",
       "<style scoped>\n",
       "    .dataframe tbody tr th:only-of-type {\n",
       "        vertical-align: middle;\n",
       "    }\n",
       "\n",
       "    .dataframe tbody tr th {\n",
       "        vertical-align: top;\n",
       "    }\n",
       "\n",
       "    .dataframe thead th {\n",
       "        text-align: right;\n",
       "    }\n",
       "</style>\n",
       "<table border=\"1\" class=\"dataframe\">\n",
       "  <thead>\n",
       "    <tr style=\"text-align: right;\">\n",
       "      <th></th>\n",
       "      <th>gene</th>\n",
       "      <th>tissue</th>\n",
       "      <th>disease</th>\n",
       "      <th>cohort</th>\n",
       "      <th>name</th>\n",
       "      <th>logTPM</th>\n",
       "    </tr>\n",
       "  </thead>\n",
       "  <tbody>\n",
       "    <tr>\n",
       "      <th>4</th>\n",
       "      <td>DVL1</td>\n",
       "      <td>64.19010</td>\n",
       "      <td>neuroblastoma</td>\n",
       "      <td>control</td>\n",
       "      <td>PedSV.2.5.2_DEL_chr1_258</td>\n",
       "      <td>1.814182</td>\n",
       "    </tr>\n",
       "    <tr>\n",
       "      <th>18</th>\n",
       "      <td>NPHP4</td>\n",
       "      <td>4.73534</td>\n",
       "      <td>neuroblastoma</td>\n",
       "      <td>control</td>\n",
       "      <td>PedSV.2.5.2_DEL_chr1_1128</td>\n",
       "      <td>0.758559</td>\n",
       "    </tr>\n",
       "  </tbody>\n",
       "</table>\n",
       "</div>"
      ],
      "text/plain": [
       "     gene    tissue        disease   cohort                       name  \\\n",
       "4    DVL1  64.19010  neuroblastoma  control   PedSV.2.5.2_DEL_chr1_258   \n",
       "18  NPHP4   4.73534  neuroblastoma  control  PedSV.2.5.2_DEL_chr1_1128   \n",
       "\n",
       "      logTPM  \n",
       "4   1.814182  \n",
       "18  0.758559  "
      ]
     },
     "execution_count": 20,
     "metadata": {},
     "output_type": "execute_result"
    }
   ],
   "source": [
    "tpm_violin_data.head(2)"
   ]
  },
  {
   "cell_type": "markdown",
   "id": "783eab2a-4eb5-4663-985f-8acde7c1d57f",
   "metadata": {},
   "source": [
    "Now we make this figure"
   ]
  },
  {
   "cell_type": "code",
   "execution_count": 21,
   "id": "3d91d5ab-541e-45ba-b99a-58de1bbae1d0",
   "metadata": {},
   "outputs": [],
   "source": [
    "palette = {'neuroblastoma': {'control': 'lightgrey', \n",
    "                             'case': mc.palette['neuroblastoma']['light2'],\n",
    "                             'case_unique': mc.palette['neuroblastoma']['main'],\n",
    "                             'control_unique': 'darkgrey'},\n",
    "           'ewing': {'control': 'lightgrey', \n",
    "                     'control_unique': 'darkgrey',\n",
    "                     'case': mc.palette['ewing']['light2'],\n",
    "                     'case_unique': mc.palette['ewing']['main']}\n",
    "          }"
   ]
  },
  {
   "cell_type": "code",
   "execution_count": 22,
   "id": "8774bca6-5f3e-4cf7-9f9e-9c2fa72b767f",
   "metadata": {},
   "outputs": [
    {
     "name": "stdout",
     "output_type": "stream",
     "text": [
      "neuroblastoma control 0.6749915013325073 4.73142\n",
      "neuroblastoma control_unique 0.693436736232442 4.936699999999999\n",
      "neuroblastoma case 0.7410940569325375 5.509269999999999\n",
      "neuroblastoma case_unique 0.8347531328102417 6.83523\n",
      "MannwhitneyuResult(statistic=796217.0, pvalue=0.0005497022936728944)\n",
      "ewing control 0.41498002937299044 2.60004\n",
      "ewing control_unique 0.4268412490303142 2.67203\n",
      "ewing case 0.454112800025813 2.8452\n",
      "ewing case_unique 0.5190147448340754 3.303925\n",
      "MannwhitneyuResult(statistic=914292.5, pvalue=0.04297085816459254)\n"
     ]
    },
    {
     "data": {
      "image/png": "[encoded data removed]",
      "text/plain": [
       "<Figure size 200x180 with 2 Axes>"
      ]
     },
     "metadata": {},
     "output_type": "display_data"
    }
   ],
   "source": [
    "fig, axes = plt.subplots(1, 2, figsize = (2.0, 1.8), gridspec_kw = {'wspace': 0}, sharey = True)\n",
    "\n",
    "for i, disease in enumerate(['neuroblastoma', 'ewing']):\n",
    "    ax = axes[i]\n",
    "\n",
    "    disease_data = tpm_violin_data.query(f'disease == \"{disease}\"')\n",
    "    \n",
    "    pal = palette[disease]\n",
    "\n",
    "    violin = sns.violinplot(x = 'cohort', y = 'logTPM', data = tpm_violin_data, ax = ax,\n",
    "                            order = ['control', 'control_unique', 'case', 'case_unique'], width = 0.9, linewidth=0, \n",
    "                            cut = 0, palette = pal)\n",
    "    \n",
    "    tpms = []\n",
    "    for j, cohort in enumerate(['control', 'control_unique', 'case', 'case_unique']):\n",
    "        cohort_data = disease_data.query(f'cohort == \"{cohort}\"')\n",
    "        \n",
    "        median = cohort_data['logTPM'].median()\n",
    "        ax.scatter([j], [median], s = 5, color = 'black')\n",
    "        \n",
    "        tpms.append(cohort_data['logTPM'])\n",
    "        \n",
    "        print(disease, cohort, median, (10**cohort_data['logTPM']).median())\n",
    "\n",
    "    p = stats.mannwhitneyu(tpms[1], tpms[3])\n",
    "    print(p)\n",
    "    \n",
    "    \n",
    "    ax.set_ylim([0, 2.2])\n",
    "    ax.set_xlim([-1, 4])\n",
    "    ax.set_ylabel('log10(TPM + 1)')\n",
    "    ax.set_xlabel('')\n",
    "    ax.set_xticklabels([])\n",
    "    \n",
    "    if i == 0:\n",
    "        aesthetics.strip_axis(ax = ax, y = 'ignore', x = 'label')\n",
    "        \n",
    "    else:\n",
    "        aesthetics.strip_axis(ax = ax, x = 'label')\n",
    "        \n",
    "fig.savefig('data/updated-cwas/images/expression-violin-plot-fig4d.pdf', bbox_inches = 'tight')"
   ]
  },
  {
   "cell_type": "markdown",
   "id": "c0a72324-9635-48d9-a57c-2effe847a2a5",
   "metadata": {},
   "source": [
    "Repeat for other tissues, focusing on control and case unique"
   ]
  },
  {
   "cell_type": "code",
   "execution_count": 23,
   "id": "28adffae-dd9c-45f3-b700-8a95f6311961",
   "metadata": {},
   "outputs": [],
   "source": [
    "tissues = ['Adrenal Gland', 'Brain - Cortex', 'Breast - Mammary Tissue', 'Colon - Transverse', 'Heart - Left Ventricle', \n",
    "           'Kidney - Cortex', 'Liver', 'Lung', 'Muscle - Skeletal', 'Pancreas', 'Prostate', 'Skin - Sun Exposed (Lower leg)', 'Whole Blood']\n",
    "tissue_names = ['Adrenal\\ngland', 'Brain', 'Breast', 'Colon', 'Heart', 'Kidney', 'Liver', 'Lung', 'Skeletal\\nmuscle', 'Pancreas', 'Prostate', 'Skin', 'Blood']"
   ]
  },
  {
   "cell_type": "code",
   "execution_count": 24,
   "id": "7c5ea2df-62f3-4b60-bd01-5da436bd7e29",
   "metadata": {},
   "outputs": [],
   "source": [
    "tpm_violin_data_all_tissues = []\n",
    "\n",
    "for disease in ['neuroblastoma', 'ewing']:\n",
    "    disease_data = singleton_coding_ref_exp.query(f'disease == \"{disease}\"').copy()\n",
    "    \n",
    "    for t in tissues:\n",
    "\n",
    "        for cohort in ['control', 'case']:\n",
    "            cohort_data = disease_data.query(f'cohort == \"{cohort}\"')[['gene', t, 'disease', 'cohort', 'name']]\n",
    "            cohort_data = cohort_data.rename(columns = {t: 'value'})\n",
    "            cohort_data['tissue'] = t\n",
    "            tpm_violin_data_all_tissues.append(cohort_data)\n",
    "\n",
    "            # next, subtract out the \"other\" cohort to get the genes uniquely affected by SVs in this cohort\n",
    "            other = 'control' if cohort == 'case' else 'case'\n",
    "            other_data = disease_data.query(f'cohort == \"{other}\"')\n",
    "            other_unique = cohort_data[~cohort_data['gene'].isin(other_data['gene'].tolist())].copy()\n",
    "            other_unique['cohort'] = f'{cohort}_unique'\n",
    "            tpm_violin_data_all_tissues.append(other_unique)\n",
    "                \n",
    "tpm_violin_data_all_tissues = pd.concat(tpm_violin_data_all_tissues)\n",
    "tpm_violin_data_all_tissues['logTPM'] = np.log10(tpm_violin_data_all_tissues['value'] + 1)\n",
    "\n",
    "tpm_violin_data_all_tissues = tpm_violin_data_all_tissues[tpm_violin_data_all_tissues['cohort'].isin(['control_unique', 'case_unique'])]"
   ]
  },
  {
   "cell_type": "code",
   "execution_count": 25,
   "id": "06f561f8-0dc1-44b2-926a-1ed17640c78d",
   "metadata": {},
   "outputs": [
    {
     "data": {
      "text/html": [
       "<div>\n",
       "<style scoped>\n",
       "    .dataframe tbody tr th:only-of-type {\n",
       "        vertical-align: middle;\n",
       "    }\n",
       "\n",
       "    .dataframe tbody tr th {\n",
       "        vertical-align: top;\n",
       "    }\n",
       "\n",
       "    .dataframe thead th {\n",
       "        text-align: right;\n",
       "    }\n",
       "</style>\n",
       "<table border=\"1\" class=\"dataframe\">\n",
       "  <thead>\n",
       "    <tr style=\"text-align: right;\">\n",
       "      <th></th>\n",
       "      <th>gene</th>\n",
       "      <th>value</th>\n",
       "      <th>disease</th>\n",
       "      <th>cohort</th>\n",
       "      <th>name</th>\n",
       "      <th>tissue</th>\n",
       "      <th>logTPM</th>\n",
       "    </tr>\n",
       "  </thead>\n",
       "  <tbody>\n",
       "    <tr>\n",
       "      <th>2438</th>\n",
       "      <td>C1QTNF12</td>\n",
       "      <td>0.643373</td>\n",
       "      <td>neuroblastoma</td>\n",
       "      <td>control_unique</td>\n",
       "      <td>PedSV.2.5.2_DEL_chr1_210</td>\n",
       "      <td>Adrenal Gland</td>\n",
       "      <td>0.215736</td>\n",
       "    </tr>\n",
       "    <tr>\n",
       "      <th>2441</th>\n",
       "      <td>CPTP</td>\n",
       "      <td>23.840300</td>\n",
       "      <td>neuroblastoma</td>\n",
       "      <td>control_unique</td>\n",
       "      <td>PedSV.2.5.2_DEL_chr1_248</td>\n",
       "      <td>Adrenal Gland</td>\n",
       "      <td>1.395157</td>\n",
       "    </tr>\n",
       "  </tbody>\n",
       "</table>\n",
       "</div>"
      ],
      "text/plain": [
       "          gene      value        disease          cohort  \\\n",
       "2438  C1QTNF12   0.643373  neuroblastoma  control_unique   \n",
       "2441      CPTP  23.840300  neuroblastoma  control_unique   \n",
       "\n",
       "                          name         tissue    logTPM  \n",
       "2438  PedSV.2.5.2_DEL_chr1_210  Adrenal Gland  0.215736  \n",
       "2441  PedSV.2.5.2_DEL_chr1_248  Adrenal Gland  1.395157  "
      ]
     },
     "execution_count": 25,
     "metadata": {},
     "output_type": "execute_result"
    }
   ],
   "source": [
    "tpm_violin_data_all_tissues.head(2)"
   ]
  },
  {
   "cell_type": "code",
   "execution_count": 26,
   "id": "7975a5c2-c611-49f8-9bda-905d199ed769",
   "metadata": {},
   "outputs": [
    {
     "data": {
      "image/png": "[encoded data removed]",
      "text/plain": [
       "<Figure size 700x200 with 2 Axes>"
      ]
     },
     "metadata": {},
     "output_type": "display_data"
    }
   ],
   "source": [
    "fig, axes = plt.subplots(2, 1, figsize = (7, 2), gridspec_kw = {'hspace': 0.5}, sharey = True)\n",
    "\n",
    "for i, disease in enumerate(['neuroblastoma', 'ewing']):\n",
    "    ax = axes[i]\n",
    "\n",
    "    disease_data = tpm_violin_data_all_tissues.query(f'disease == \"{disease}\"')\n",
    "    \n",
    "    pal = palette[disease]\n",
    "\n",
    "    violin = sns.violinplot(x = 'tissue', y = 'logTPM', data = disease_data, ax = ax, hue = 'cohort', dodge = True,\n",
    "                            order = tissues, width = 0.9, linewidth=0, \n",
    "                            cut = 0, palette = pal)\n",
    "    \n",
    "    ax.legend().remove()\n",
    "    \n",
    "    tpms = []\n",
    "    for j, tissue in enumerate(tissues):\n",
    "        for k, cohort in enumerate(['control_unique', 'case_unique']):\n",
    "            cohort_data = disease_data.query(f'cohort == \"{cohort}\"')\n",
    "\n",
    "            median = cohort_data['logTPM'].median()\n",
    "            ax.scatter([j - 0.225 + 0.45 * k], [median], s = 3, color = 'black')\n",
    "    \n",
    "    ax.set_ylim([0, 2.2])\n",
    "    ax.set_xlim([-0.7, len(tissues)])\n",
    "    ax.set_ylabel('log10(TPM + 1)')\n",
    "    \n",
    "    if i == 0:\n",
    "        aesthetics.strip_axis(ax = ax, y = 'ignore')\n",
    "    else:\n",
    "        sns.despine(ax = ax, bottom = True)\n",
    "        ax.tick_params(axis = 'x', length = 0)\n",
    "        text = ax.set_xticklabels(tissue_names)\n",
    "        ax.set_xlabel('')\n",
    "        \n",
    "        for t in text:\n",
    "            if t.get_text() == 'Adrenal\\ngland':\n",
    "                t.set_color(mc.palette['neuroblastoma']['main'])\n",
    "            elif t.get_text() == 'Skeletal\\nmuscle':\n",
    "                t.set_color(mc.palette['ewing']['main'])\n",
    "        \n",
    "    ax.text(s = 'Singleton SVs in ' + disease.capitalize(), color = mc.palette[disease]['main'], weight = 'bold', x = 0.01, y = 1.1, transform = ax.transAxes)\n",
    "            \n",
    "fig.savefig('data/updated-cwas/images/overall-gtex-expression-s8.pdf', bbox_inches = 'tight')"
   ]
  },
  {
   "cell_type": "markdown",
   "id": "436ec133-7133-40a5-b4e8-ed940f7c6c71",
   "metadata": {},
   "source": [
    "# Take a look at the Adrenal TADs\n",
    "\n",
    "For the revision, we're going to compare expression of genes in adrenal TADs vs outside adrenal TADs across various tissues. Let's see what this looks like."
   ]
  },
  {
   "cell_type": "code",
   "execution_count": 27,
   "id": "f0a9133a-a42b-4c1a-b6e9-c3a99c3d7b08",
   "metadata": {},
   "outputs": [],
   "source": [
    "adrenal_tad_genes = pd.read_csv('data/genes_in_adrenal_TADs_7_4_24.tsv', sep = '\\t')['value'].tolist()\n",
    "\n",
    "adrenal_tad_genes = [g for g in adrenal_tad_genes if g in gtex.index]\n",
    "\n",
    "# get the genes affected by singleton SVs in neuroblastoma\n",
    "singleton_genes = singleton_coding_ref_exp.query('disease == \"neuroblastoma\" & cohort == \"case\"')\n",
    "singleton_genes = singleton_genes['gene'].drop_duplicates().to_list()"
   ]
  },
  {
   "cell_type": "markdown",
   "id": "59ec8589-670c-4d49-9c82-14827eff6c29",
   "metadata": {},
   "source": [
    "This only uses GTEX data, nothing to do with our SVs"
   ]
  },
  {
   "cell_type": "code",
   "execution_count": 28,
   "id": "11ca027b-3f9f-455c-85d8-79944eb95a45",
   "metadata": {},
   "outputs": [],
   "source": [
    "tad_expression = gtex.loc[adrenal_tad_genes].reset_index().melt(id_vars = 'gene')\n",
    "tad_expression['type'] = 'tad'\n",
    "\n",
    "non_tad_genes = [g for g in gtex.index if g not in adrenal_tad_genes]\n",
    "nontad_expression = gtex.loc[non_tad_genes].reset_index().melt(id_vars = 'gene')\n",
    "nontad_expression['type'] = 'non_tad'\n",
    "\n",
    "singleton_expression = gtex.loc[singleton_genes].reset_index().melt(id_vars = 'gene')\n",
    "singleton_expression['type'] = 'singleton'\n",
    "\n",
    "grouped_data = pd.concat([tad_expression, nontad_expression, singleton_expression])"
   ]
  },
  {
   "cell_type": "code",
   "execution_count": 29,
   "id": "6cb3b5af-d29c-4b70-a8af-dd4b2b081486",
   "metadata": {},
   "outputs": [
    {
     "data": {
      "text/plain": [
       "27.985254149886526"
      ]
     },
     "execution_count": 29,
     "metadata": {},
     "output_type": "execute_result"
    }
   ],
   "source": [
    "rand_genes = np.random.choice(adrenal_tad_genes, 705, replace = False)\n",
    "gtex.loc[rand_genes, 'Adrenal Gland'].mean()"
   ]
  },
  {
   "cell_type": "code",
   "execution_count": 30,
   "id": "ca71fb66-c177-4079-afaf-88640284db56",
   "metadata": {},
   "outputs": [],
   "source": [
    "grouped_data['logTPM'] = np.log10(grouped_data['value'] + 1)"
   ]
  },
  {
   "cell_type": "code",
   "execution_count": 31,
   "id": "e0627cb7-39b9-4eeb-b1a7-65dc51535dd6",
   "metadata": {},
   "outputs": [
    {
     "data": {
      "text/plain": [
       "(6.89811, 5.57506, 4.83493)"
      ]
     },
     "execution_count": 31,
     "metadata": {},
     "output_type": "execute_result"
    }
   ],
   "source": [
    "gtex.loc[adrenal_tad_genes, 'Adrenal Gland'].median(), gtex.loc[non_tad_genes, 'Adrenal Gland'].median(), gtex.loc[singleton_genes, 'Adrenal Gland'].median()"
   ]
  },
  {
   "cell_type": "code",
   "execution_count": 32,
   "id": "bd7ddb25-c4d1-4adf-b2ae-04a826932334",
   "metadata": {},
   "outputs": [],
   "source": [
    "tissues = ['Adrenal Gland', 'Brain - Cortex', 'Breast - Mammary Tissue', 'Colon - Transverse', 'Heart - Left Ventricle', \n",
    "           'Kidney - Cortex', 'Liver', 'Lung', 'Muscle - Skeletal', 'Pancreas', 'Prostate', 'Skin - Sun Exposed (Lower leg)', 'Whole Blood']\n",
    "tissue_names = ['Adrenal\\ngland', 'Brain', 'Breast', 'Colon', 'Heart', 'Kidney', 'Liver', 'Lung', 'Skeletal\\nmuscle', 'Pancreas', 'Prostate', 'Skin', 'Blood']"
   ]
  },
  {
   "cell_type": "code",
   "execution_count": 33,
   "id": "57cd5a26-4e4f-4f41-980b-8088e1f2c25a",
   "metadata": {},
   "outputs": [
    {
     "data": {
      "text/plain": [
       "Text(0, 0.5, 'log10(TPM + 1)')"
      ]
     },
     "execution_count": 33,
     "metadata": {},
     "output_type": "execute_result"
    },
    {
     "data": {
      "image/png": "[encoded data removed]",
      "text/plain": [
       "<Figure size 700x100 with 1 Axes>"
      ]
     },
     "metadata": {},
     "output_type": "display_data"
    }
   ],
   "source": [
    "fig, ax = plt.subplots(1, 1, figsize = (7, 1))\n",
    "pal = {'non_tad': 'lightgrey',\n",
    "       'tad': \"#9D4DAD\"}\n",
    "violin = sns.violinplot(x = 'variable', y = 'logTPM', data = grouped_data, ax = ax, hue = 'type', dodge = True,\n",
    "                        order = tissues, hue_order = ['non_tad', 'tad'], width = 0.9, linewidth=0, \n",
    "                        cut = 0, palette = pal)\n",
    "\n",
    "ax.legend().remove()\n",
    "ax.set_xticklabels(tissue_names)\n",
    "    \n",
    "tpms = []\n",
    "for j, tissue in enumerate(tissues):\n",
    "    for k, subset in enumerate(['non_tad', 'tad']):\n",
    "        cohort_data = grouped_data.query(f'type == \"{subset}\"')\n",
    "\n",
    "        median = cohort_data['logTPM'].median()\n",
    "        ax.scatter([j - 0.225 + 0.45 * k], [median], s = 3, color = 'black')\n",
    "\n",
    "ax.set_ylim([0, 3])\n",
    "ax.set_xlim([-0.7, len(tissues)])\n",
    "ax.set_ylabel('log10(TPM + 1)')"
   ]
  },
  {
   "cell_type": "code",
   "execution_count": 34,
   "id": "41c0a906-1876-41d1-ba34-e3e91884122f",
   "metadata": {},
   "outputs": [
    {
     "data": {
      "image/png": "[encoded data removed]",
      "text/plain": [
       "<Figure size 100x100 with 1 Axes>"
      ]
     },
     "metadata": {},
     "output_type": "display_data"
    }
   ],
   "source": [
    "fig, ax = plt.subplots(1, 1, figsize = (1, 1))\n",
    "pal = {'non_tad': 'lightgrey',\n",
    "       'tad': \"#9D4DAD\"}\n",
    "violin = sns.violinplot(x = 'type', y = 'logTPM', data = grouped_data.query('variable == \"Adrenal Gland\"'), ax = ax,\n",
    "                        order = ['non_tad', 'tad'], width = 0.9, linewidth=0, \n",
    "                        cut = 0, palette = pal)\n",
    "\n",
    "# ax.legend().remove()\n",
    "# ax.set_xticklabels([])\n",
    "    \n",
    "tpms = []\n",
    "for k, subset in enumerate(['non_tad', 'tad']):\n",
    "    cohort_data = grouped_data.query(f'variable == \"Adrenal Gland\" & type == \"{subset}\"')\n",
    "\n",
    "    median = cohort_data['logTPM'].median()\n",
    "    ax.scatter([k], [median], s = 3, color = 'black', label = 'median' if k == 0 else '')\n",
    "    ax.text(s = np.round(median, 2), x = k, y = median + 0.3, va = 'center', ha = 'center')\n",
    "\n",
    "ax.legend(bbox_to_anchor = (0.95, 0.5))\n",
    "ax.set_ylim([0, 3])\n",
    "ax.set_ylabel('log10(TPM + 1)')\n",
    "aesthetics.strip_axis(ax = ax, x = 'label', y = 'ignore')\n",
    "ax.set_title('Gene expression in\\nadrenal tissue')\n",
    "ax.set_xlabel('')\n",
    "ax.set_xticklabels(['Outside\\nTADs', 'Inside\\nTADs'])\n",
    "fig.savefig('images/revision-adrenal-tad-vs-nontad.png', dpi = 300, bbox_inches = 'tight')"
   ]
  },
  {
   "cell_type": "code",
   "execution_count": 35,
   "id": "0a450d34-bfb5-4013-ad0f-ba1ef9ca60c9",
   "metadata": {},
   "outputs": [
    {
     "data": {
      "text/plain": [
       "0.7579226583434786"
      ]
     },
     "execution_count": 35,
     "metadata": {},
     "output_type": "execute_result"
    }
   ],
   "source": [
    "test = singleton_coding_ref_exp.query('disease == \"neuroblastoma\" & cohort == \"case\"')['Adrenal Gland']\n",
    "(np.log10(test + 1)).mean()"
   ]
  },
  {
   "cell_type": "code",
   "execution_count": 36,
   "id": "7d2df200-17ea-4170-aaa9-f5e7fd143a88",
   "metadata": {},
   "outputs": [
    {
     "data": {
      "text/plain": [
       "variable     type     \n",
       "Thyroid      tad          1.122193\n",
       "Uterus       non_tad      1.030212\n",
       "             singleton    1.023669\n",
       "             tad          1.127008\n",
       "Vagina       non_tad      1.001191\n",
       "             singleton    0.950974\n",
       "             tad          1.089654\n",
       "Whole Blood  non_tad      0.384088\n",
       "             singleton    0.286412\n",
       "             tad          0.460687\n",
       "Name: logTPM, dtype: float64"
      ]
     },
     "execution_count": 36,
     "metadata": {},
     "output_type": "execute_result"
    }
   ],
   "source": [
    "grouped_data.groupby(['variable', 'type'])['logTPM'].median().tail(10)"
   ]
  },
  {
   "cell_type": "code",
   "execution_count": null,
   "id": "27d807b2-6474-471e-8776-ca330e18be1a",
   "metadata": {},
   "outputs": [],
   "source": []
  }
 ],
 "metadata": {
  "kernelspec": {
   "display_name": "pediatric-germline-svs-3.7.13",
   "language": "python",
   "name": "pediatric-germline-svs-3.7.13"
  },
  "language_info": {
   "codemirror_mode": {
    "name": "ipython",
    "version": 3
   },
   "file_extension": ".py",
   "mimetype": "text/x-python",
   "name": "python",
   "nbconvert_exporter": "python",
   "pygments_lexer": "ipython3",
   "version": "3.7.13"
  }
 },
 "nbformat": 4,
 "nbformat_minor": 5
}
