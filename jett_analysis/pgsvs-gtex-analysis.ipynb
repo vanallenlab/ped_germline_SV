{
 "cells": [
  {
   "cell_type": "code",
   "execution_count": 258,
   "id": "349d43a9-0dec-4b26-b36e-caee76d03673",
   "metadata": {},
   "outputs": [],
   "source": [
    "from collections import defaultdict\n",
    "\n",
    "import gseapy as gp\n",
    "import numpy as np\n",
    "import pandas as pd\n",
    "import scipy.stats as stats\n",
    "import statsmodels.stats\n",
    "\n",
    "pd.set_option(\"display.max_columns\", None)\n",
    "pd.set_option(\"display.max_rows\", 100)\n",
    "pd.set_option(\"display.max_colwidth\", 200)\n",
    "\n",
    "import glob\n",
    "\n",
    "import matplotlib as mpl\n",
    "import matplotlib.pyplot as plt\n",
    "import seaborn as sns\n",
    "from scripts import aesthetics\n",
    "from scripts import manuscript_colors as mc\n",
    "\n",
    "aesthetics.activate_paper_rcParams('illustrator')"
   ]
  },
  {
   "cell_type": "markdown",
   "id": "cba2661e-b075-480a-9c29-33dce1f0371b",
   "metadata": {},
   "source": [
    "# GTEX analysis"
   ]
  },
  {
   "cell_type": "markdown",
   "id": "e3693f93-7064-4cd9-9ef1-e1b79f056650",
   "metadata": {},
   "source": [
    "Alright, let's do this. Should be quite easy since GTEX is so well documented and defined.\n",
    "\n",
    "The goal of this analysis is extremely simple--identify the subset of genes that are affected in cases, controls, and all variations therein. Then, examine if adrenal tissue is enriched for these genes by using GTEX to assess its rank in expression."
   ]
  },
  {
   "cell_type": "markdown",
   "id": "afe006dc-8bb9-4f8d-b709-3414f27e6fec",
   "metadata": {},
   "source": [
    "# Load SV-related data\n",
    "\n",
    "We need to load all the SVs and the genes they affect. Thankfully, we generated this in a previous notebook, so we can just use that data."
   ]
  },
  {
   "cell_type": "code",
   "execution_count": 288,
   "id": "abc33d3f-6af3-4a92-9c29-7cf2c4ed3dca",
   "metadata": {},
   "outputs": [],
   "source": [
    "# define metadata\n",
    "metadata_path = \"gs://vanallen-pedsv-analysis/sample_info/PedSV.v2.5.2.cohort_metadata.w_control_assignments.tsv.gz\"\n",
    "\n",
    "gene_ref_path = \"data/CWAS data for Jett/gencode_hg38_protein_coding_genes_for_annotation_7_31_23 (1).txt\""
   ]
  },
  {
   "cell_type": "code",
   "execution_count": 289,
   "id": "1ed27c92-ee10-48a8-9082-d9811ac4cfe1",
   "metadata": {},
   "outputs": [
    {
     "data": {
      "text/plain": [
       "19201"
      ]
     },
     "execution_count": 289,
     "metadata": {},
     "output_type": "execute_result"
    }
   ],
   "source": [
    "gene_ref = pd.read_csv(gene_ref_path)\n",
    "gene_ref = gene_ref[~gene_ref[\"value\"].str.startswith(\"ENSG00\")]\n",
    "gene_ref = sorted(set(gene_ref[\"value\"].tolist()))\n",
    "len(gene_ref)"
   ]
  },
  {
   "cell_type": "markdown",
   "id": "e3167800-1ea0-4a62-adf5-786fa993e81d",
   "metadata": {},
   "source": [
    "## Metadata and reference counts"
   ]
  },
  {
   "cell_type": "markdown",
   "id": "dd8d93df-27ae-4971-80e2-2f2b3aa9813a",
   "metadata": {},
   "source": [
    "Load metadata and SVs"
   ]
  },
  {
   "cell_type": "code",
   "execution_count": 290,
   "id": "332112bc-d353-472e-85e2-5de2bd884a70",
   "metadata": {},
   "outputs": [
    {
     "name": "stdout",
     "output_type": "stream",
     "text": [
      "neuroblastoma case 688\n",
      "neuroblastoma control 4831\n",
      "ewing case 775\n",
      "ewing control 4574\n",
      "osteosarcoma case 284\n",
      "osteosarcoma control 4817\n"
     ]
    }
   ],
   "source": [
    "metadata = pd.read_csv(\n",
    "    metadata_path,\n",
    "    sep=\"\\t\",\n",
    ")\n",
    "\n",
    "# add a sex label to metadata\n",
    "metadata[\"sex\"] = (metadata[\"chrX_CopyNumber\"].round() < 2).astype(int)\n",
    "\n",
    "###############\n",
    "### Samples ###\n",
    "###############\n",
    "samples = defaultdict(dict)\n",
    "\n",
    "total_samples = []\n",
    "for disease in [\"neuroblastoma\", \"ewing\", \"osteosarcoma\"]:\n",
    "    for cohort in [\"case\", \"control\"]:\n",
    "        disease_cohort_samples = metadata[(metadata[f\"{disease}_{cohort}\"] == True)][\n",
    "            \"entity:sample_id\"\n",
    "        ].tolist()\n",
    "\n",
    "        samples[disease][cohort] = disease_cohort_samples\n",
    "        total_samples += disease_cohort_samples\n",
    "\n",
    "        print(disease, cohort, len(disease_cohort_samples))\n",
    "\n",
    "total_samples = sorted(set(total_samples))"
   ]
  },
  {
   "cell_type": "code",
   "execution_count": 291,
   "id": "54715d37-69a9-404c-ac0f-c03a5fcd8002",
   "metadata": {},
   "outputs": [
    {
     "data": {
      "text/plain": [
       "6727"
      ]
     },
     "execution_count": 291,
     "metadata": {},
     "output_type": "execute_result"
    }
   ],
   "source": [
    "len(total_samples)"
   ]
  },
  {
   "cell_type": "markdown",
   "id": "b690a1b0-d388-44ac-ab5c-38b112c92dc0",
   "metadata": {},
   "source": [
    "Now we load the SVs. These are reference counts generated in `cwas-gene-set-enrichment`"
   ]
  },
  {
   "cell_type": "code",
   "execution_count": 292,
   "id": "c3304748-d6f6-4e28-aea1-75fc7ddf24bc",
   "metadata": {},
   "outputs": [],
   "source": [
    "ref_counts = pd.read_csv(\"data/cwas-results/reference-counts.csv\")\n",
    "ref_counts = ref_counts[ref_counts['gene'].isin(gene_ref)]"
   ]
  },
  {
   "cell_type": "code",
   "execution_count": 293,
   "id": "279a0148-42c7-4479-a9a0-b18237464678",
   "metadata": {},
   "outputs": [
    {
     "data": {
      "text/html": [
       "<div>\n",
       "<style scoped>\n",
       "    .dataframe tbody tr th:only-of-type {\n",
       "        vertical-align: middle;\n",
       "    }\n",
       "\n",
       "    .dataframe tbody tr th {\n",
       "        vertical-align: top;\n",
       "    }\n",
       "\n",
       "    .dataframe thead th {\n",
       "        text-align: right;\n",
       "    }\n",
       "</style>\n",
       "<table border=\"1\" class=\"dataframe\">\n",
       "  <thead>\n",
       "    <tr style=\"text-align: right;\">\n",
       "      <th></th>\n",
       "      <th>name</th>\n",
       "      <th>dose</th>\n",
       "      <th>gene</th>\n",
       "      <th>disease</th>\n",
       "      <th>sv_category</th>\n",
       "      <th>cohort</th>\n",
       "    </tr>\n",
       "  </thead>\n",
       "  <tbody>\n",
       "    <tr>\n",
       "      <th>0</th>\n",
       "      <td>PedSV.2.5.2_DEL_chr1_80</td>\n",
       "      <td>0</td>\n",
       "      <td>SAMD11</td>\n",
       "      <td>neuroblastoma</td>\n",
       "      <td>coding</td>\n",
       "      <td>case</td>\n",
       "    </tr>\n",
       "    <tr>\n",
       "      <th>1</th>\n",
       "      <td>PedSV.2.5.2_DEL_chr1_100</td>\n",
       "      <td>1</td>\n",
       "      <td>PLEKHN1</td>\n",
       "      <td>neuroblastoma</td>\n",
       "      <td>coding</td>\n",
       "      <td>case</td>\n",
       "    </tr>\n",
       "  </tbody>\n",
       "</table>\n",
       "</div>"
      ],
      "text/plain": [
       "                       name  dose     gene        disease sv_category cohort\n",
       "0   PedSV.2.5.2_DEL_chr1_80     0   SAMD11  neuroblastoma      coding   case\n",
       "1  PedSV.2.5.2_DEL_chr1_100     1  PLEKHN1  neuroblastoma      coding   case"
      ]
     },
     "execution_count": 293,
     "metadata": {},
     "output_type": "execute_result"
    }
   ],
   "source": [
    "ref_counts.head(2)"
   ]
  },
  {
   "cell_type": "markdown",
   "id": "b9f5c295-de73-4e7d-9c9c-8fc8d631c4ac",
   "metadata": {},
   "source": [
    "## Add a label for various SV traits\n",
    "\n",
    "Previously, we had relied on the reference count matrix for these labels, but it led to all sorts of problems. We define them based on where they should be defined - the original SV bed file"
   ]
  },
  {
   "cell_type": "code",
   "execution_count": 294,
   "id": "8b8777dd-c696-4b07-b3c2-c4b8e7d135c4",
   "metadata": {},
   "outputs": [],
   "source": [
    "sv_path = \"gs://vanallen-pedsv-analysis/beds/archive/v2.5.2/PedSV.v2.5.2.full_cohort.analysis_samples.sites.bed.gz\"\n",
    "sv_cols = pd.read_csv(sv_path, sep = '\\t', nrows = 0)\n",
    "cols_to_include = ['name', 'AC', 'gnomad_v3.1_sv_POPMAX_AF']\n",
    "cols_to_include_idx = [i for i, c in enumerate(sv_cols.columns) if c in cols_to_include]\n",
    "\n",
    "svs = pd.read_csv(sv_path, sep = '\\t', usecols = cols_to_include_idx)"
   ]
  },
  {
   "cell_type": "code",
   "execution_count": 295,
   "id": "43ce123c-74fb-42e3-9683-3d928fc5d11a",
   "metadata": {},
   "outputs": [],
   "source": [
    "singleton_svs = svs[(svs['AC'] == 1) & (svs['gnomad_v3.1_sv_POPMAX_AF'].fillna(0) < 0.01)]['name']"
   ]
  },
  {
   "cell_type": "code",
   "execution_count": 296,
   "id": "b064c708-2eeb-4597-a878-00009e7e082b",
   "metadata": {},
   "outputs": [],
   "source": [
    "ref_counts['global_singleton'] = ref_counts['name'].isin(singleton_svs)"
   ]
  },
  {
   "cell_type": "markdown",
   "id": "557cb4b5-c018-47c4-bf14-299d00c3f3d5",
   "metadata": {},
   "source": [
    "## Read in the category results\n",
    "\n",
    "I'm going to concatenate all this data so that I'm only dealing with a few files."
   ]
  },
  {
   "cell_type": "code",
   "execution_count": 297,
   "id": "8d5a4d3e-cde0-49ad-bbd9-f6d668a22cbd",
   "metadata": {},
   "outputs": [
    {
     "data": {
      "text/html": [
       "<div>\n",
       "<style scoped>\n",
       "    .dataframe tbody tr th:only-of-type {\n",
       "        vertical-align: middle;\n",
       "    }\n",
       "\n",
       "    .dataframe tbody tr th {\n",
       "        vertical-align: top;\n",
       "    }\n",
       "\n",
       "    .dataframe thead th {\n",
       "        text-align: right;\n",
       "    }\n",
       "</style>\n",
       "<table border=\"1\" class=\"dataframe\">\n",
       "  <thead>\n",
       "    <tr style=\"text-align: right;\">\n",
       "      <th></th>\n",
       "      <th>SV</th>\n",
       "      <th>chrom</th>\n",
       "      <th>start</th>\n",
       "      <th>end</th>\n",
       "      <th>category</th>\n",
       "      <th>disease</th>\n",
       "      <th>sv_category</th>\n",
       "    </tr>\n",
       "  </thead>\n",
       "  <tbody>\n",
       "    <tr>\n",
       "      <th>0</th>\n",
       "      <td>PedSV.2.5.2_DUP_chr1_455</td>\n",
       "      <td>chr1</td>\n",
       "      <td>6720524</td>\n",
       "      <td>6722070</td>\n",
       "      <td>DUP.RARE.PREDICTED_NONCODING_BREAKPOINT.ewing_and_osteosarcoma_atac_peaks.PREDICTED_INTERGENIC.lof_constrained.expressed_in_muscle_skeletal.protein_coding</td>\n",
       "      <td>ewing</td>\n",
       "      <td>noncoding</td>\n",
       "    </tr>\n",
       "    <tr>\n",
       "      <th>1</th>\n",
       "      <td>PedSV.2.5.2_DUP_chr1_898</td>\n",
       "      <td>chr1</td>\n",
       "      <td>23649481</td>\n",
       "      <td>23651544</td>\n",
       "      <td>DUP.RARE.PREDICTED_NONCODING_BREAKPOINT.ewing_and_osteosarcoma_atac_peaks.PREDICTED_INTERGENIC.lof_constrained.expressed_in_muscle_skeletal.protein_coding</td>\n",
       "      <td>ewing</td>\n",
       "      <td>noncoding</td>\n",
       "    </tr>\n",
       "  </tbody>\n",
       "</table>\n",
       "</div>"
      ],
      "text/plain": [
       "                         SV chrom     start       end  \\\n",
       "0  PedSV.2.5.2_DUP_chr1_455  chr1   6720524   6722070   \n",
       "1  PedSV.2.5.2_DUP_chr1_898  chr1  23649481  23651544   \n",
       "\n",
       "                                                                                                                                                     category  \\\n",
       "0  DUP.RARE.PREDICTED_NONCODING_BREAKPOINT.ewing_and_osteosarcoma_atac_peaks.PREDICTED_INTERGENIC.lof_constrained.expressed_in_muscle_skeletal.protein_coding   \n",
       "1  DUP.RARE.PREDICTED_NONCODING_BREAKPOINT.ewing_and_osteosarcoma_atac_peaks.PREDICTED_INTERGENIC.lof_constrained.expressed_in_muscle_skeletal.protein_coding   \n",
       "\n",
       "  disease sv_category  \n",
       "0   ewing   noncoding  \n",
       "1   ewing   noncoding  "
      ]
     },
     "execution_count": 297,
     "metadata": {},
     "output_type": "execute_result"
    }
   ],
   "source": [
    "###########\n",
    "### SVs ###\n",
    "###########\n",
    "category_svs = []\n",
    "for file in glob.glob(\"data/CWAS data for Jett/List of variants by category/*.txt\"):\n",
    "    disease = file.split(\"/\")[-1].split(\"_\")[0]\n",
    "\n",
    "    sv_category = \"noncoding\" if \"noncoding\" in file else \"coding\"\n",
    "\n",
    "    cat_svs = pd.read_csv(file, sep=\"\\t\").rename(columns={\"emd\": \"end\"})\n",
    "    cat_svs[[\"disease\", \"sv_category\"]] = [disease, sv_category]\n",
    "    category_svs.append(cat_svs)\n",
    "\n",
    "category_svs = pd.concat(category_svs)\n",
    "category_svs.head(2)"
   ]
  },
  {
   "cell_type": "code",
   "execution_count": 298,
   "id": "401f854f-6749-4333-9acb-36da395e9d93",
   "metadata": {},
   "outputs": [],
   "source": [
    "#########################\n",
    "### FRAMEWORK RESULTS ###\n",
    "#########################\n",
    "framework_results = []\n",
    "for file in glob.glob(\"data/CWAS data for Jett/CWAS sum stats/*.txt\"):\n",
    "    if \"12_26_23\" not in file:\n",
    "        continue\n",
    "\n",
    "    disease = file.split(\"/\")[-1].split(\"_\")[0]\n",
    "    \n",
    "    if disease == \"osteosarcoma\":\n",
    "        continue\n",
    "\n",
    "    sv_category = \"noncoding\" if \"noncoding\" in file else \"coding\"\n",
    "    af_category = \"singleton\" if \"SINGLETON\" in file else \"rare\"\n",
    "\n",
    "    data = pd.read_csv(file, sep=\"\\t\")\n",
    "    data[[\"disease\", \"sv_category\", \"af_category\"]] = [\n",
    "        disease,\n",
    "        sv_category,\n",
    "        af_category,\n",
    "    ]\n",
    "    framework_results.append(data)\n",
    "\n",
    "framework_results = pd.concat(framework_results)\n",
    "\n",
    "# add p values\n",
    "\n",
    "p_val_cutoffs = {\n",
    "    \"neuroblastoma_coding\": 0.05 / 279,\n",
    "    \"neuroblastoma_noncoding\": 0.05 / 940,\n",
    "    \"ewing_coding\": 0.05 / 267,\n",
    "    \"ewing_noncoding\": 0.05 / 916,\n",
    "}\n",
    "\n",
    "framework_results[\"bonferroni_significant\"] = framework_results.apply(\n",
    "    lambda row: row[\"p_value\"]\n",
    "    < p_val_cutoffs[row[\"disease\"] + \"_\" + row[\"sv_category\"]],\n",
    "    axis=1,\n",
    ")"
   ]
  },
  {
   "cell_type": "code",
   "execution_count": 299,
   "id": "ab6d937b-f522-419b-b24d-20647f00ba8f",
   "metadata": {},
   "outputs": [],
   "source": [
    "framework_schema = defaultdict(dict)\n",
    "for file in glob.glob(\"data/CWAS data for Jett/CWAS frameworks/*.txt\"):\n",
    "\n",
    "    sv_category = \"noncoding\" if \"noncoding\" in file else \"coding\"\n",
    "    suffix = file.split(\"/\")[-1]\n",
    "    if sv_category == \"coding\":\n",
    "        disease = suffix.split('_')[2]\n",
    "    else:\n",
    "        disease = suffix.split('_')[3]\n",
    "\n",
    "    data = pd.read_csv(file, sep=\"\\t\")\n",
    "    framework_schema[disease][sv_category] = data"
   ]
  },
  {
   "cell_type": "code",
   "execution_count": 300,
   "id": "ce700ab9-de05-45c3-bb97-4e49143a3437",
   "metadata": {},
   "outputs": [
    {
     "data": {
      "text/html": [
       "<div>\n",
       "<style scoped>\n",
       "    .dataframe tbody tr th:only-of-type {\n",
       "        vertical-align: middle;\n",
       "    }\n",
       "\n",
       "    .dataframe tbody tr th {\n",
       "        vertical-align: top;\n",
       "    }\n",
       "\n",
       "    .dataframe thead th {\n",
       "        text-align: right;\n",
       "    }\n",
       "</style>\n",
       "<table border=\"1\" class=\"dataframe\">\n",
       "  <thead>\n",
       "    <tr style=\"text-align: right;\">\n",
       "      <th></th>\n",
       "      <th>sv_type</th>\n",
       "      <th>frequency</th>\n",
       "      <th>functional_intersection</th>\n",
       "      <th>functional_category</th>\n",
       "      <th>genic_relationship</th>\n",
       "      <th>constraint</th>\n",
       "      <th>expression</th>\n",
       "      <th>gene_group</th>\n",
       "    </tr>\n",
       "  </thead>\n",
       "  <tbody>\n",
       "    <tr>\n",
       "      <th>0</th>\n",
       "      <td>DUP</td>\n",
       "      <td>RARE</td>\n",
       "      <td>PREDICTED_NONCODING_BREAKPOINT</td>\n",
       "      <td>ewing_and_osteosarcoma_atac_peaks</td>\n",
       "      <td>PREDICTED_INTERGENIC</td>\n",
       "      <td>lof_constrained</td>\n",
       "      <td>expressed_in_muscle_skeletal</td>\n",
       "      <td>protein_coding</td>\n",
       "    </tr>\n",
       "    <tr>\n",
       "      <th>1</th>\n",
       "      <td>DEL</td>\n",
       "      <td>SINGLETON</td>\n",
       "      <td>PREDICTED_NONCODING_SPAN</td>\n",
       "      <td>ewing_chromHMM15_EnhBiv</td>\n",
       "      <td>PREDICTED_INTRONIC</td>\n",
       "      <td>ANY</td>\n",
       "      <td>ANY</td>\n",
       "      <td>cosmic_and_germline_CPGs</td>\n",
       "    </tr>\n",
       "  </tbody>\n",
       "</table>\n",
       "</div>"
      ],
      "text/plain": [
       "  sv_type  frequency         functional_intersection  \\\n",
       "0     DUP       RARE  PREDICTED_NONCODING_BREAKPOINT   \n",
       "1     DEL  SINGLETON        PREDICTED_NONCODING_SPAN   \n",
       "\n",
       "                 functional_category    genic_relationship       constraint  \\\n",
       "0  ewing_and_osteosarcoma_atac_peaks  PREDICTED_INTERGENIC  lof_constrained   \n",
       "1            ewing_chromHMM15_EnhBiv    PREDICTED_INTRONIC              ANY   \n",
       "\n",
       "                     expression                gene_group  \n",
       "0  expressed_in_muscle_skeletal            protein_coding  \n",
       "1                           ANY  cosmic_and_germline_CPGs  "
      ]
     },
     "execution_count": 300,
     "metadata": {},
     "output_type": "execute_result"
    }
   ],
   "source": [
    "framework_schema[\"ewing\"][\"noncoding\"].head(2)"
   ]
  },
  {
   "cell_type": "markdown",
   "id": "1ee6ec97-7f79-448d-88f1-52ff034f2f01",
   "metadata": {},
   "source": [
    "# Define GTEX data"
   ]
  },
  {
   "cell_type": "code",
   "execution_count": 301,
   "id": "b14fa900-6c8f-4dca-a9f9-c187ae425e98",
   "metadata": {},
   "outputs": [
    {
     "data": {
      "text/html": [
       "<div>\n",
       "<style scoped>\n",
       "    .dataframe tbody tr th:only-of-type {\n",
       "        vertical-align: middle;\n",
       "    }\n",
       "\n",
       "    .dataframe tbody tr th {\n",
       "        vertical-align: top;\n",
       "    }\n",
       "\n",
       "    .dataframe thead th {\n",
       "        text-align: right;\n",
       "    }\n",
       "</style>\n",
       "<table border=\"1\" class=\"dataframe\">\n",
       "  <thead>\n",
       "    <tr style=\"text-align: right;\">\n",
       "      <th></th>\n",
       "      <th>Name</th>\n",
       "      <th>gene</th>\n",
       "      <th>Adipose - Subcutaneous</th>\n",
       "      <th>Adipose - Visceral (Omentum)</th>\n",
       "      <th>Adrenal Gland</th>\n",
       "      <th>Artery - Aorta</th>\n",
       "      <th>Artery - Coronary</th>\n",
       "      <th>Artery - Tibial</th>\n",
       "      <th>Bladder</th>\n",
       "      <th>Brain - Amygdala</th>\n",
       "      <th>Brain - Anterior cingulate cortex (BA24)</th>\n",
       "      <th>Brain - Caudate (basal ganglia)</th>\n",
       "      <th>Brain - Cerebellar Hemisphere</th>\n",
       "      <th>Brain - Cerebellum</th>\n",
       "      <th>Brain - Cortex</th>\n",
       "      <th>Brain - Frontal Cortex (BA9)</th>\n",
       "      <th>Brain - Hippocampus</th>\n",
       "      <th>Brain - Hypothalamus</th>\n",
       "      <th>Brain - Nucleus accumbens (basal ganglia)</th>\n",
       "      <th>Brain - Putamen (basal ganglia)</th>\n",
       "      <th>Brain - Spinal cord (cervical c-1)</th>\n",
       "      <th>Brain - Substantia nigra</th>\n",
       "      <th>Breast - Mammary Tissue</th>\n",
       "      <th>Cells - Cultured fibroblasts</th>\n",
       "      <th>Cells - EBV-transformed lymphocytes</th>\n",
       "      <th>Cervix - Ectocervix</th>\n",
       "      <th>Cervix - Endocervix</th>\n",
       "      <th>Colon - Sigmoid</th>\n",
       "      <th>Colon - Transverse</th>\n",
       "      <th>Esophagus - Gastroesophageal Junction</th>\n",
       "      <th>Esophagus - Mucosa</th>\n",
       "      <th>Esophagus - Muscularis</th>\n",
       "      <th>Fallopian Tube</th>\n",
       "      <th>Heart - Atrial Appendage</th>\n",
       "      <th>Heart - Left Ventricle</th>\n",
       "      <th>Kidney - Cortex</th>\n",
       "      <th>Kidney - Medulla</th>\n",
       "      <th>Liver</th>\n",
       "      <th>Lung</th>\n",
       "      <th>Minor Salivary Gland</th>\n",
       "      <th>Muscle - Skeletal</th>\n",
       "      <th>Nerve - Tibial</th>\n",
       "      <th>Ovary</th>\n",
       "      <th>Pancreas</th>\n",
       "      <th>Pituitary</th>\n",
       "      <th>Prostate</th>\n",
       "      <th>Skin - Not Sun Exposed (Suprapubic)</th>\n",
       "      <th>Skin - Sun Exposed (Lower leg)</th>\n",
       "      <th>Small Intestine - Terminal Ileum</th>\n",
       "      <th>Spleen</th>\n",
       "      <th>Stomach</th>\n",
       "      <th>Testis</th>\n",
       "      <th>Thyroid</th>\n",
       "      <th>Uterus</th>\n",
       "      <th>Vagina</th>\n",
       "      <th>Whole Blood</th>\n",
       "    </tr>\n",
       "  </thead>\n",
       "  <tbody>\n",
       "    <tr>\n",
       "      <th>0</th>\n",
       "      <td>ENSG00000223972.5</td>\n",
       "      <td>DDX11L1</td>\n",
       "      <td>0.00000</td>\n",
       "      <td>0.00000</td>\n",
       "      <td>0.00000</td>\n",
       "      <td>0.00000</td>\n",
       "      <td>0.00000</td>\n",
       "      <td>0.00000</td>\n",
       "      <td>0.00000</td>\n",
       "      <td>0.00000</td>\n",
       "      <td>0.00000</td>\n",
       "      <td>0.00000</td>\n",
       "      <td>0.00000</td>\n",
       "      <td>0.00000</td>\n",
       "      <td>0.00000</td>\n",
       "      <td>0.00000</td>\n",
       "      <td>0.00000</td>\n",
       "      <td>0.00000</td>\n",
       "      <td>0.00000</td>\n",
       "      <td>0.00000</td>\n",
       "      <td>0.00000</td>\n",
       "      <td>0.00000</td>\n",
       "      <td>0.00000</td>\n",
       "      <td>0.0000</td>\n",
       "      <td>0.00000</td>\n",
       "      <td>0.00000</td>\n",
       "      <td>0.00000</td>\n",
       "      <td>0.00000</td>\n",
       "      <td>0.00000</td>\n",
       "      <td>0.00000</td>\n",
       "      <td>0.00000</td>\n",
       "      <td>0.00000</td>\n",
       "      <td>0.00000</td>\n",
       "      <td>0.00000</td>\n",
       "      <td>0.000000</td>\n",
       "      <td>0.00000</td>\n",
       "      <td>0.00000</td>\n",
       "      <td>0.00000</td>\n",
       "      <td>0.00000</td>\n",
       "      <td>0.00000</td>\n",
       "      <td>0.00000</td>\n",
       "      <td>0.00000</td>\n",
       "      <td>0.0000</td>\n",
       "      <td>0.00000</td>\n",
       "      <td>0.00000</td>\n",
       "      <td>0.00000</td>\n",
       "      <td>0.00000</td>\n",
       "      <td>0.00000</td>\n",
       "      <td>0.00000</td>\n",
       "      <td>0.00000</td>\n",
       "      <td>0.00000</td>\n",
       "      <td>0.166403</td>\n",
       "      <td>0.00000</td>\n",
       "      <td>0.00000</td>\n",
       "      <td>0.00000</td>\n",
       "      <td>0.00000</td>\n",
       "    </tr>\n",
       "    <tr>\n",
       "      <th>1</th>\n",
       "      <td>ENSG00000227232.5</td>\n",
       "      <td>WASH7P</td>\n",
       "      <td>4.06403</td>\n",
       "      <td>3.37111</td>\n",
       "      <td>2.68549</td>\n",
       "      <td>4.04762</td>\n",
       "      <td>3.90076</td>\n",
       "      <td>3.63963</td>\n",
       "      <td>5.16375</td>\n",
       "      <td>1.43859</td>\n",
       "      <td>1.69285</td>\n",
       "      <td>1.56605</td>\n",
       "      <td>4.99231</td>\n",
       "      <td>5.72099</td>\n",
       "      <td>2.48317</td>\n",
       "      <td>2.14667</td>\n",
       "      <td>1.68599</td>\n",
       "      <td>1.74811</td>\n",
       "      <td>1.53899</td>\n",
       "      <td>1.44167</td>\n",
       "      <td>2.73049</td>\n",
       "      <td>1.74194</td>\n",
       "      <td>4.43876</td>\n",
       "      <td>1.6786</td>\n",
       "      <td>2.49477</td>\n",
       "      <td>5.62935</td>\n",
       "      <td>7.09749</td>\n",
       "      <td>4.64777</td>\n",
       "      <td>3.59509</td>\n",
       "      <td>4.32641</td>\n",
       "      <td>3.11749</td>\n",
       "      <td>4.10335</td>\n",
       "      <td>6.13409</td>\n",
       "      <td>1.52031</td>\n",
       "      <td>0.924962</td>\n",
       "      <td>2.77081</td>\n",
       "      <td>2.21451</td>\n",
       "      <td>1.76541</td>\n",
       "      <td>4.50841</td>\n",
       "      <td>3.52767</td>\n",
       "      <td>1.41667</td>\n",
       "      <td>6.68531</td>\n",
       "      <td>6.6341</td>\n",
       "      <td>1.80871</td>\n",
       "      <td>5.42546</td>\n",
       "      <td>7.08318</td>\n",
       "      <td>5.93298</td>\n",
       "      <td>6.13265</td>\n",
       "      <td>4.19378</td>\n",
       "      <td>5.92631</td>\n",
       "      <td>3.06248</td>\n",
       "      <td>4.702530</td>\n",
       "      <td>6.27255</td>\n",
       "      <td>7.19001</td>\n",
       "      <td>5.74554</td>\n",
       "      <td>2.64743</td>\n",
       "    </tr>\n",
       "  </tbody>\n",
       "</table>\n",
       "</div>"
      ],
      "text/plain": [
       "                Name     gene  Adipose - Subcutaneous  \\\n",
       "0  ENSG00000223972.5  DDX11L1                 0.00000   \n",
       "1  ENSG00000227232.5   WASH7P                 4.06403   \n",
       "\n",
       "   Adipose - Visceral (Omentum)  Adrenal Gland  Artery - Aorta  \\\n",
       "0                       0.00000        0.00000         0.00000   \n",
       "1                       3.37111        2.68549         4.04762   \n",
       "\n",
       "   Artery - Coronary  Artery - Tibial  Bladder  Brain - Amygdala  \\\n",
       "0            0.00000          0.00000  0.00000           0.00000   \n",
       "1            3.90076          3.63963  5.16375           1.43859   \n",
       "\n",
       "   Brain - Anterior cingulate cortex (BA24)  Brain - Caudate (basal ganglia)  \\\n",
       "0                                   0.00000                          0.00000   \n",
       "1                                   1.69285                          1.56605   \n",
       "\n",
       "   Brain - Cerebellar Hemisphere  Brain - Cerebellum  Brain - Cortex  \\\n",
       "0                        0.00000             0.00000         0.00000   \n",
       "1                        4.99231             5.72099         2.48317   \n",
       "\n",
       "   Brain - Frontal Cortex (BA9)  Brain - Hippocampus  Brain - Hypothalamus  \\\n",
       "0                       0.00000              0.00000               0.00000   \n",
       "1                       2.14667              1.68599               1.74811   \n",
       "\n",
       "   Brain - Nucleus accumbens (basal ganglia)  Brain - Putamen (basal ganglia)  \\\n",
       "0                                    0.00000                          0.00000   \n",
       "1                                    1.53899                          1.44167   \n",
       "\n",
       "   Brain - Spinal cord (cervical c-1)  Brain - Substantia nigra  \\\n",
       "0                             0.00000                   0.00000   \n",
       "1                             2.73049                   1.74194   \n",
       "\n",
       "   Breast - Mammary Tissue  Cells - Cultured fibroblasts  \\\n",
       "0                  0.00000                        0.0000   \n",
       "1                  4.43876                        1.6786   \n",
       "\n",
       "   Cells - EBV-transformed lymphocytes  Cervix - Ectocervix  \\\n",
       "0                              0.00000              0.00000   \n",
       "1                              2.49477              5.62935   \n",
       "\n",
       "   Cervix - Endocervix  Colon - Sigmoid  Colon - Transverse  \\\n",
       "0              0.00000          0.00000             0.00000   \n",
       "1              7.09749          4.64777             3.59509   \n",
       "\n",
       "   Esophagus - Gastroesophageal Junction  Esophagus - Mucosa  \\\n",
       "0                                0.00000             0.00000   \n",
       "1                                4.32641             3.11749   \n",
       "\n",
       "   Esophagus - Muscularis  Fallopian Tube  Heart - Atrial Appendage  \\\n",
       "0                 0.00000         0.00000                   0.00000   \n",
       "1                 4.10335         6.13409                   1.52031   \n",
       "\n",
       "   Heart - Left Ventricle  Kidney - Cortex  Kidney - Medulla    Liver  \\\n",
       "0                0.000000          0.00000           0.00000  0.00000   \n",
       "1                0.924962          2.77081           2.21451  1.76541   \n",
       "\n",
       "      Lung  Minor Salivary Gland  Muscle - Skeletal  Nerve - Tibial   Ovary  \\\n",
       "0  0.00000               0.00000            0.00000         0.00000  0.0000   \n",
       "1  4.50841               3.52767            1.41667         6.68531  6.6341   \n",
       "\n",
       "   Pancreas  Pituitary  Prostate  Skin - Not Sun Exposed (Suprapubic)  \\\n",
       "0   0.00000    0.00000   0.00000                              0.00000   \n",
       "1   1.80871    5.42546   7.08318                              5.93298   \n",
       "\n",
       "   Skin - Sun Exposed (Lower leg)  Small Intestine - Terminal Ileum   Spleen  \\\n",
       "0                         0.00000                           0.00000  0.00000   \n",
       "1                         6.13265                           4.19378  5.92631   \n",
       "\n",
       "   Stomach    Testis  Thyroid   Uterus   Vagina  Whole Blood  \n",
       "0  0.00000  0.166403  0.00000  0.00000  0.00000      0.00000  \n",
       "1  3.06248  4.702530  6.27255  7.19001  5.74554      2.64743  "
      ]
     },
     "execution_count": 301,
     "metadata": {},
     "output_type": "execute_result"
    }
   ],
   "source": [
    "gtex = pd.read_csv('data/GTEx_Analysis_2017-06-05_v8_RNASeQCv1.1.9_gene_median_tpm.gct.gz', comment = '#', sep = '\\t', skiprows = 2).rename(columns = {'Description': 'gene'})\n",
    "gtex.head(2)"
   ]
  },
  {
   "cell_type": "markdown",
   "id": "958c2251-38e3-4920-ab11-6c701cd717bc",
   "metadata": {},
   "source": [
    "Based on this link, https://gtexportal.org/home/tissueSummaryPage, GTEX uses gencode v26"
   ]
  },
  {
   "cell_type": "markdown",
   "id": "c2d6fa04-af9f-4225-9508-ea1de4336739",
   "metadata": {},
   "source": [
    "What's the overlap between genes here and genes in our reference gene set?"
   ]
  },
  {
   "cell_type": "code",
   "execution_count": 302,
   "id": "0bea884e-8ae0-4888-9cea-be7a8730f3cc",
   "metadata": {},
   "outputs": [
    {
     "data": {
      "text/plain": [
       "1004"
      ]
     },
     "execution_count": 302,
     "metadata": {},
     "output_type": "execute_result"
    }
   ],
   "source": [
    "len(set(gene_ref) - set(gtex['gene']))"
   ]
  },
  {
   "cell_type": "markdown",
   "id": "0cf97b74-9b4e-406e-9b69-b9f85badc13c",
   "metadata": {},
   "source": [
    "After some digging, this is because we dropped the `ENGS` genes (there is only 1 missing gene when these genes are added back). I'm fine to ignore these for now."
   ]
  },
  {
   "cell_type": "code",
   "execution_count": 303,
   "id": "a39603c3-67ae-4d68-8afd-66fb9344aaf7",
   "metadata": {},
   "outputs": [],
   "source": [
    "# drop ENGS ids\n",
    "gtex = gtex.iloc[:, 1:]\n",
    "\n",
    "gtex = gtex[gtex['gene'].isin(gene_ref)]\n",
    "\n",
    "gtex = gtex.set_index('gene')\n",
    "\n",
    "# genes need expression in at least 10% of histologies\n",
    "gtex = gtex[(gtex != 0).mean(axis = 1) > 0.10]"
   ]
  },
  {
   "cell_type": "code",
   "execution_count": 304,
   "id": "1df7a3be-5b2b-4549-a19b-b881df868752",
   "metadata": {},
   "outputs": [
    {
     "data": {
      "text/plain": [
       "(17162, 54)"
      ]
     },
     "execution_count": 304,
     "metadata": {},
     "output_type": "execute_result"
    }
   ],
   "source": [
    "gtex.shape"
   ]
  },
  {
   "cell_type": "markdown",
   "id": "ac799128-90af-48c3-b966-ca853ebb3b7c",
   "metadata": {},
   "source": [
    "Now convert to normalized ranks (0 - 1, where 1 is high)"
   ]
  },
  {
   "cell_type": "code",
   "execution_count": 305,
   "id": "2fb15474-1c8e-4f08-a4a5-df609a708896",
   "metadata": {},
   "outputs": [],
   "source": [
    "gtex_ranks = (gtex.rank(ascending = True, axis = 1) - 1) / 53  "
   ]
  },
  {
   "cell_type": "code",
   "execution_count": 306,
   "id": "1e969b90-8097-48c7-bb0e-c700fbe7bb67",
   "metadata": {},
   "outputs": [],
   "source": [
    "gtex_ranks = gtex_ranks.reset_index()"
   ]
  },
  {
   "cell_type": "markdown",
   "id": "95e2cafd-3b9f-4949-9127-c92cdef432b4",
   "metadata": {},
   "source": [
    "# Visualize ranks directly"
   ]
  },
  {
   "cell_type": "code",
   "execution_count": 310,
   "id": "fab1f096-9e58-4752-a5eb-8885d4539190",
   "metadata": {},
   "outputs": [],
   "source": [
    "singleton_coding_ref_counts = ref_counts.query('global_singleton == True & sv_category == \"coding\" & dose == 1')\n",
    "singleton_coding_ref_counts = singleton_coding_ref_counts.merge(gtex_ranks, on = 'gene')"
   ]
  },
  {
   "cell_type": "code",
   "execution_count": 311,
   "id": "73d098a5-a1f8-4732-a15c-609a5b1f0172",
   "metadata": {},
   "outputs": [
    {
     "data": {
      "image/png": "[encoded data removed]",
      "text/plain": [
       "<Figure size 300x200 with 1 Axes>"
      ]
     },
     "metadata": {},
     "output_type": "display_data"
    },
    {
     "data": {
      "image/png": "[encoded data removed]",
      "text/plain": [
       "<Figure size 300x200 with 1 Axes>"
      ]
     },
     "metadata": {},
     "output_type": "display_data"
    },
    {
     "data": {
      "image/png": "[encoded data removed]",
      "text/plain": [
       "<Figure size 300x200 with 1 Axes>"
      ]
     },
     "metadata": {},
     "output_type": "display_data"
    }
   ],
   "source": [
    "for disease, tissue in zip(['neuroblastoma', 'ewing', 'osteosarcoma'], \n",
    "                           ['Adrenal Gland', 'Muscle - Skeletal', 'Muscle - Skeletal']):\n",
    "    fig, ax = plt.subplots(1, figsize = (3, 2))\n",
    "\n",
    "    sns.violinplot(x = 'cohort', y = tissue, data = singleton_coding_ref_counts.query(f'disease == \"{disease}\"'), \n",
    "                   order = ['control', 'case', 'case_unique'],\n",
    "                   width = 0.6, linewidth=0)\n",
    "    \n",
    "    means = singleton_coding_ref_counts.query(f'disease == \"{disease}\"').groupby('cohort')[tissue].mean().loc[['control', 'case', 'case_unique']]\n",
    "    ax.scatter(x = [0, 1, 2], y = means, color = 'black', s = 6)\n",
    "    \n",
    "    aesthetics.strip_axis(ax = ax, y = 'ignore', x = 'label')\n",
    "\n",
    "    ax.set_xlabel('')\n",
    "    ax.set_ylim([0, 1])\n",
    "    ax.set_ylabel('Tissue ranks')\n",
    "\n",
    "    ax.set_xticklabels(['control', 'case', 'case-unique'], fontsize = 6)"
   ]
  },
  {
   "cell_type": "code",
   "execution_count": 312,
   "id": "02e0fd3a-ce8e-41ed-bf44-1bf259533390",
   "metadata": {},
   "outputs": [
    {
     "name": "stdout",
     "output_type": "stream",
     "text": [
      "cohort\n",
      "case           0.452252\n",
      "case_unique    0.468125\n",
      "control        0.455580\n",
      "Name: Adrenal Gland, dtype: float64\n",
      "MannwhitneyuResult(statistic=869478.5, pvalue=0.2660437237847313)\n",
      "\n",
      "cohort\n",
      "case           0.265810\n",
      "case_unique    0.268858\n",
      "control        0.255910\n",
      "Name: Muscle - Skeletal, dtype: float64\n",
      "MannwhitneyuResult(statistic=944880.0, pvalue=0.5216867883190435)\n",
      "\n",
      "cohort\n",
      "case           0.229075\n",
      "case_unique    0.222782\n",
      "control        0.255286\n",
      "Name: Muscle - Skeletal, dtype: float64\n",
      "MannwhitneyuResult(statistic=292542.5, pvalue=0.2919169937100393)\n",
      "\n"
     ]
    }
   ],
   "source": [
    "for disease, tissue in zip(['neuroblastoma', 'ewing', 'osteosarcoma'], \n",
    "                           ['Adrenal Gland', 'Muscle - Skeletal', 'Muscle - Skeletal']):\n",
    "    data = singleton_coding_ref_counts.query(f'disease == \"{disease}\"')\n",
    "    print(data.groupby('cohort')[tissue].mean())\n",
    "    \n",
    "    print(stats.mannwhitneyu(data.query('cohort == \"case_unique\"')[tissue], \n",
    "                             data.query('cohort == \"control\"')[tissue]))\n",
    "    print()"
   ]
  },
  {
   "cell_type": "markdown",
   "id": "8bb2b247-8150-48b1-84ba-ae4e3f766566",
   "metadata": {},
   "source": [
    "# Examine instead differences in mean rank\n",
    "\n",
    "We have to bootstrap confidence intervals for these"
   ]
  },
  {
   "cell_type": "code",
   "execution_count": 313,
   "id": "b6e64e34-28a8-4174-807a-51f9517a5b79",
   "metadata": {},
   "outputs": [],
   "source": [
    "# bs_results = []\n",
    "# for disease, tissue in zip(['neuroblastoma', 'ewing', 'osteosarcoma'], \n",
    "#                            ['Adrenal Gland', 'Muscle - Skeletal', 'Muscle - Skeletal']):\n",
    "    \n",
    "#     data = singleton_coding_ref_counts.query(f'disease == \"{disease}\"')[['cohort', tissue]]\n",
    "\n",
    "#     for cohort in ['gtex', 'control', 'case', 'case_unique']:\n",
    "    \n",
    "#         if cohort == 'gtex':\n",
    "#             values = gtex_ranks[tissue].values\n",
    "#         else:\n",
    "#             values = data.query(f'cohort == \"{cohort}\"')[tissue].values\n",
    "            \n",
    "#         mean = values.mean()\n",
    "\n",
    "#         bs_dataset = np.random.choice(values, size = (len(values), 100000))\n",
    "#         bs_means = bs_dataset.mean(axis = 1)\n",
    "#         upper_low = np.percentile(bs_means, [2.5, 97.5])\n",
    "\n",
    "#         bs_results.append([disease, cohort, mean] + list(upper_low))\n",
    "                    \n",
    "# bs_results = pd.DataFrame(bs_results, columns = ['disease', 'cohort', 'mean', 'bs_lower', 'bs_upper'])"
   ]
  },
  {
   "cell_type": "code",
   "execution_count": 314,
   "id": "d6d17650-20c5-4295-96f9-7b2238be6f66",
   "metadata": {},
   "outputs": [],
   "source": [
    "# fig, axes = plt.subplots(1, 2, figsize = (5, 2), gridspec_kw = {'wspace': 0.5})\n",
    "# for i, disease in enumerate(['neuroblastoma', 'ewing', 'osteosarcoma']):\n",
    "#     ax = axes[i]\n",
    "#     data = bs_results.query(f'disease == \"{disease}\"').reset_index()\n",
    "#     sns.scatterplot(x = 'cohort', y = 'mean', data = data, ax = ax)\n",
    "    \n",
    "#     for index, row in data.iterrows():\n",
    "#         mean = row['mean']\n",
    "#         upper, lower = row[['bs_upper', 'bs_lower']].values\n",
    "#         ax.plot([index, index], [lower, upper], color = 'darkgrey', zorder = -1)\n",
    "        \n",
    "#     aesthetics.strip_axis(ax = ax, x = 'label', y = 'ignore')\n",
    "#     ax.set_xlabel('')\n",
    "#     ax.set_xlim([-0.5, 3.5])\n",
    "    \n",
    "# fig.savefig('images/gtex-ranks-by-cohort.png', bbox_inches = 'tight')"
   ]
  },
  {
   "cell_type": "markdown",
   "id": "041079ca-78d7-4583-94f6-e76ef9fc33c5",
   "metadata": {},
   "source": [
    "What about being in the top 10% of genes?"
   ]
  },
  {
   "cell_type": "code",
   "execution_count": 315,
   "id": "cab0ba67-eb1e-4f42-849d-dc941c534755",
   "metadata": {},
   "outputs": [],
   "source": [
    "# topn_results = []\n",
    "# for disease, tissue in zip(['neuroblastoma', 'ewing', 'osteosarcoma'], \n",
    "#                            ['Adrenal Gland', 'Muscle - Skeletal', 'Muscle - Skeletal']):\n",
    "    \n",
    "#     data = singleton_coding_ref_counts.query(f'disease == \"{disease}\"').copy()\n",
    "#     topn_genes = gtex_ranks.sort_values(by = tissue, ascending = False).index[:1000].to_list()\n",
    "\n",
    "#     data['topn'] = data['gene'].isin(topn_genes)\n",
    "#     print(data.groupby('cohort')['topn'].mean())\n",
    "#     print('')"
   ]
  },
  {
   "cell_type": "markdown",
   "id": "ecba4314-33fb-427e-bc32-9142db560f76",
   "metadata": {},
   "source": [
    "## Examine absolute expression"
   ]
  },
  {
   "cell_type": "code",
   "execution_count": 316,
   "id": "5218b27d-9f3e-4b5f-997e-77c8034d4831",
   "metadata": {},
   "outputs": [],
   "source": [
    "singleton_coding_ref_exp = ref_counts.query('dose == 1 & sv_category == \"coding\" & global_singleton == True')\n",
    "singleton_coding_ref_exp = singleton_coding_ref_exp.merge(gtex.reset_index(), on = 'gene')"
   ]
  },
  {
   "cell_type": "markdown",
   "id": "2d29c0ad-0176-4437-b79a-4e3c400a9f13",
   "metadata": {},
   "source": [
    "Let's make this into a nice figure"
   ]
  },
  {
   "cell_type": "code",
   "execution_count": 318,
   "id": "134a1c43-741c-4540-8b16-4741628ea644",
   "metadata": {},
   "outputs": [],
   "source": [
    "tpm_violin_data = []\n",
    "for disease, tissue in zip(['neuroblastoma', 'ewing', 'osteosarcoma'], \n",
    "                           ['Adrenal Gland', 'Muscle - Skeletal', 'Muscle - Skeletal']):\n",
    "    \n",
    "    disease_data = singleton_coding_ref_exp.query(f'disease == \"{disease}\"').copy()\n",
    "    \n",
    "    # get the baseline\n",
    "    baseline = gtex.reset_index()[['gene', tissue]]\n",
    "    baseline['disease'] = disease\n",
    "    baseline['name'] = np.nan\n",
    "    baseline['cohort'] = 'all genes'\n",
    "    \n",
    "    baseline = baseline.rename(columns = {tissue: 'tissue'})\n",
    "    \n",
    "    tpm_violin_data.append(baseline)\n",
    "    \n",
    "    for cohort in ['control', 'case', 'case_unique']:\n",
    "        cohort_data = disease_data.query(f'cohort == \"{cohort}\"')[['gene', tissue, 'disease', 'cohort', 'name']]\n",
    "        cohort_data = cohort_data.rename(columns = {tissue: 'tissue'})\n",
    "        tpm_violin_data.append(cohort_data)\n",
    "        \n",
    "        if cohort == 'control':\n",
    "            case_data = disease_data.query(f'cohort == \"case\"')\n",
    "            control_unique = cohort_data[~cohort_data['gene'].isin(case_data['gene'].tolist())].copy()\n",
    "            control_unique['cohort'] = 'control_unique'\n",
    "            tpm_violin_data.append(control_unique)\n",
    "        \n",
    "tpm_violin_data = pd.concat(tpm_violin_data)\n",
    "tpm_violin_data['logTPM'] = np.log10(tpm_violin_data['tissue'] + 1)\n",
    "\n",
    "# additionally, I want to add singleton LoF deletions\n",
    "test_cats = ['DEL.SINGLETON.PREDICTED_LOF_or_PREDICTED_PARTIAL_EXON_DUP.ANY.ANY.protein_coding',\n",
    "             'DEL.SINGLETON.PREDICTED_LOF_or_PREDICTED_PARTIAL_EXON_DUP.ANY.ANY.protein_coding']\n",
    "for i, disease in enumerate(['neuroblastoma', 'ewing']):\n",
    "    cat = test_cats[i]\n",
    "    disease_cat_svs = category_svs[(category_svs['category'] == cat) &\n",
    "                                   (category_svs['disease'] == disease) &\n",
    "                                   (category_svs['sv_category'] == \"coding\")].copy()\n",
    "    \n",
    "    # subset our TPM data to this subset from case unique\n",
    "    sv_tpms = tpm_violin_data[(tpm_violin_data['cohort'] == \"case_unique\") &\n",
    "                              (tpm_violin_data['disease'] == disease) &\n",
    "                              (tpm_violin_data['name'].isin(disease_cat_svs['SV'].tolist()))].copy()\n",
    "    \n",
    "    sv_tpms['cohort'] = 'lof_dels'\n",
    "    \n",
    "    tpm_violin_data = pd.concat([tpm_violin_data, sv_tpms])"
   ]
  },
  {
   "cell_type": "markdown",
   "id": "783eab2a-4eb5-4663-985f-8acde7c1d57f",
   "metadata": {},
   "source": [
    "Now we make this figure"
   ]
  },
  {
   "cell_type": "code",
   "execution_count": 321,
   "id": "3d91d5ab-541e-45ba-b99a-58de1bbae1d0",
   "metadata": {},
   "outputs": [],
   "source": [
    "palette = {'neuroblastoma': {'control': 'lightgrey', \n",
    "                             'case': mc.palette['neuroblastoma']['light2'],\n",
    "                             'case_unique': mc.palette['neuroblastoma']['main'],\n",
    "                             'lof_dels': mc.palette['neuroblastoma']['dark1'],\n",
    "                             'control_unique': 'darkgrey'},\n",
    "           'ewing': {'control': 'lightgrey', \n",
    "                     'control_unique': 'darkgrey',\n",
    "                     'case': mc.palette['ewing']['light2'],\n",
    "                     'case_unique': mc.palette['ewing']['main'],\n",
    "                     'lof_dels': mc.palette['ewing']['dark1']},\n",
    "           'osteosarcoma': {'control': 'lightgrey', \n",
    "                            'control_unique': 'darkgrey',\n",
    "                     'case': mc.palette['osteosarcoma']['light2'],\n",
    "                     'case_unique': mc.palette['osteosarcoma']['main']}\n",
    "          }"
   ]
  },
  {
   "cell_type": "code",
   "execution_count": 368,
   "id": "8774bca6-5f3e-4cf7-9f9e-9c2fa72b767f",
   "metadata": {},
   "outputs": [
    {
     "name": "stdout",
     "output_type": "stream",
     "text": [
      "neuroblastoma control 0.6754226976586122\n",
      "neuroblastoma control_unique 0.6936979363798916\n",
      "neuroblastoma case 0.7410940569325375\n",
      "neuroblastoma case_unique 0.8855859928736824\n",
      "MannwhitneyuResult(statistic=662286.0, pvalue=1.924082504904203e-05)\n",
      "ewing control 0.4141890016082266\n",
      "ewing control_unique 0.4265763193351715\n",
      "ewing case 0.463168560991575\n",
      "ewing case_unique 0.5764081596024176\n",
      "MannwhitneyuResult(statistic=777796.5, pvalue=0.00832564733874229)\n"
     ]
    },
    {
     "data": {
      "image/png": "[encoded data removed]",
      "text/plain": [
       "<Figure size 200x180 with 2 Axes>"
      ]
     },
     "metadata": {},
     "output_type": "display_data"
    }
   ],
   "source": [
    "fig, axes = plt.subplots(1, 2, figsize = (2.0, 1.8), gridspec_kw = {'wspace': 0}, sharey = True)\n",
    "\n",
    "for i, disease in enumerate(['neuroblastoma', 'ewing']):\n",
    "    ax = axes[i]\n",
    "\n",
    "    disease_data = tpm_violin_data.query(f'disease == \"{disease}\"')\n",
    "    \n",
    "    pal = palette[disease]\n",
    "\n",
    "    violin = sns.violinplot(x = 'cohort', y = 'logTPM', data = tpm_violin_data, ax = ax,\n",
    "                            order = ['control', 'control_unique', 'case', 'case_unique'], width = 0.9, linewidth=0, \n",
    "                            cut = 0, palette = pal)\n",
    "    \n",
    "    tpms = []\n",
    "    for j, cohort in enumerate(['control', 'control_unique', 'case', 'case_unique']):\n",
    "        cohort_data = disease_data.query(f'cohort == \"{cohort}\"')\n",
    "        \n",
    "        median = cohort_data['logTPM'].median()\n",
    "        ax.scatter([j], [median], s = 5, color = 'black')\n",
    "        \n",
    "        tpms.append(cohort_data['logTPM'])\n",
    "        \n",
    "        print(disease, cohort, median)\n",
    "    \n",
    "    # calculate p value - case unique to control unique\n",
    "    # bootstrap it\n",
    "    # bs_control = np.random.choice(tpms[1], size = (len(tpms[3]), 1000000), replace = True)\n",
    "\n",
    "    p = stats.mannwhitneyu(tpms[1], tpms[3])\n",
    "    print(p)\n",
    "    \n",
    "    \n",
    "    ax.set_ylim([0, 2.2])\n",
    "    ax.set_xlim([-1, 4])\n",
    "    ax.set_ylabel('log10(TPM + 1)')\n",
    "    ax.set_xlabel('')\n",
    "    ax.set_xticklabels([])\n",
    "    \n",
    "    if i == 0:\n",
    "        aesthetics.strip_axis(ax = ax, y = 'ignore', x = 'label')\n",
    "        \n",
    "    else:\n",
    "        aesthetics.strip_axis(ax = ax, x = 'label')\n",
    "        \n",
    "fig.savefig('images/expression-violin-plot.pdf', bbox_inches = 'tight')"
   ]
  },
  {
   "cell_type": "code",
   "execution_count": 382,
   "id": "02f75e65-2634-482d-9ffc-50a673638578",
   "metadata": {},
   "outputs": [
    {
     "data": {
      "text/plain": [
       "disease        cohort        \n",
       "ewing          all genes          28.963835\n",
       "               case               25.337750\n",
       "               case_unique        31.405412\n",
       "               control            16.430690\n",
       "               control_unique     16.600041\n",
       "               lof_dels           17.903298\n",
       "neuroblastoma  all genes          25.915707\n",
       "               case               15.567674\n",
       "               case_unique        21.382931\n",
       "               control            15.298261\n",
       "               control_unique     16.151310\n",
       "               lof_dels           18.430421\n",
       "osteosarcoma   all genes          28.963835\n",
       "               case              107.705787\n",
       "               case_unique       185.269774\n",
       "               control            18.125572\n",
       "               control_unique     18.542571\n",
       "Name: tissue, dtype: float64"
      ]
     },
     "execution_count": 382,
     "metadata": {},
     "output_type": "execute_result"
    }
   ],
   "source": [
    "tpm_violin_data.groupby(['disease', 'cohort'])['tissue'].mean()"
   ]
  },
  {
   "cell_type": "markdown",
   "id": "ab4bcbe1-5d57-4a48-bd6f-c253fc7dbe42",
   "metadata": {},
   "source": [
    "# Define tissue-specific gene sets"
   ]
  },
  {
   "cell_type": "code",
   "execution_count": 34,
   "id": "f0e2be11-5527-4522-9266-414fe16b45b5",
   "metadata": {},
   "outputs": [],
   "source": [
    "replace_dict = {' - ': ' ', ' ': '-', '(': '', ')': ''}\n",
    "with open('data/gtex-tissue-specific-gene-sets.txt', 'w') as out:\n",
    "    for tissue in gtex_ranks.columns[1:]:\n",
    "        for cutoff in [100, 200, 500]:\n",
    "            for label, d in zip(['rank', 'exp'], [gtex_ranks, gtex]):\n",
    "                tissue_genes = d.reset_index().sort_values(by = tissue, ascending = False)['gene'][:cutoff]\n",
    "                \n",
    "                gs_name = f'{tissue}-{label}-{cutoff}'\n",
    "    \n",
    "                for char, char_map in replace_dict.items():\n",
    "                    gs_name = gs_name.lower().replace(char, char_map)\n",
    "                \n",
    "                out.write(f'{gs_name} | ' + ','.join(tissue_genes) + '\\n')"
   ]
  }
 ],
 "metadata": {
  "kernelspec": {
   "display_name": "pediatric-germline-svs-3.7.13",
   "language": "python",
   "name": "pediatric-germline-svs-3.7.13"
  },
  "language_info": {
   "codemirror_mode": {
    "name": "ipython",
    "version": 3
   },
   "file_extension": ".py",
   "mimetype": "text/x-python",
   "name": "python",
   "nbconvert_exporter": "python",
   "pygments_lexer": "ipython3",
   "version": "3.7.13"
  }
 },
 "nbformat": 4,
 "nbformat_minor": 5
}
