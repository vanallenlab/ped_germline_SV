{
 "cells": [
  {
   "cell_type": "code",
   "execution_count": 1,
   "id": "cefc4119-fd8d-4ee1-88d9-16a5bed70b46",
   "metadata": {},
   "outputs": [],
   "source": [
    "import pandas as pd\n",
    "import pybedtools\n",
    "import numpy as np\n",
    "from collections import defaultdict\n",
    "import pyranges\n",
    "import scipy\n",
    "import glob\n",
    "\n",
    "import statsmodels.stats.multitest"
   ]
  },
  {
   "cell_type": "markdown",
   "id": "ece842f9-31f7-4bd5-b5ef-447d75a7fbeb",
   "metadata": {},
   "source": [
    "# Extract category genes\n",
    "\n",
    "After some consideration and thought, I've realized that performing naive gene set enrichment on noncoding categories--which are themselves already gene subsets--is confounding two signals. The first signal is the enrichment that accompanies the category itself (an ATAC peak, for example, is likely to be enriched for genes responsible for certain processes). The second is a different kind of enrichment, focused on SVs.\n",
    "\n",
    "Separating these influences is worth it, I think. To do so requires us to calculate the gene sets that are present within each category.\n",
    "\n",
    "We'll do this for Ewing's and neuroblastoma."
   ]
  },
  {
   "cell_type": "markdown",
   "id": "ddf7d045-6019-4637-b397-eac60c4cf454",
   "metadata": {},
   "source": [
    "# Read in our data\n",
    "\n",
    "First, we read in the frameworks"
   ]
  },
  {
   "cell_type": "code",
   "execution_count": 2,
   "id": "6773de81-a8bf-48b7-a86b-2513af0c7454",
   "metadata": {},
   "outputs": [],
   "source": [
    "#########################\n",
    "### FRAMEWORK RESULTS ###\n",
    "#########################\n",
    "\n",
    "framework_results = []\n",
    "for file in glob.glob('data/CWAS data for Jett/CWAS sum stats/*.txt'):\n",
    "    if '12_26_23' not in file:\n",
    "        continue\n",
    "\n",
    "    disease = file.split('/')[-1].split('_')[0]\n",
    "\n",
    "    if disease == 'osteosarcoma':\n",
    "        continue\n",
    "    \n",
    "    sv_category = 'non-coding' if 'noncoding' in file else 'coding'\n",
    "    af_category = 'singleton' if 'SINGLETON' in file else 'rare'\n",
    "    \n",
    "    data = pd.read_csv(file, sep='\\t')\n",
    "    data[['disease', 'sv_category', 'af_category']] = [disease, sv_category, af_category]\n",
    "    framework_results.append(data)\n",
    "        \n",
    "framework_results = pd.concat(framework_results)"
   ]
  },
  {
   "cell_type": "code",
   "execution_count": 3,
   "id": "a851bce9-2472-40de-8dff-d9b76d7ccda9",
   "metadata": {},
   "outputs": [
    {
     "data": {
      "text/plain": [
       "13951"
      ]
     },
     "execution_count": 3,
     "metadata": {},
     "output_type": "execute_result"
    }
   ],
   "source": [
    "len(set(framework_results['category_name']))"
   ]
  },
  {
   "cell_type": "code",
   "execution_count": 4,
   "id": "7982cfde-7d6b-4d11-9160-b93e3a50d8da",
   "metadata": {},
   "outputs": [
    {
     "data": {
      "text/plain": [
       "neuroblastoma    8403\n",
       "ewing            6446\n",
       "Name: disease, dtype: int64"
      ]
     },
     "execution_count": 4,
     "metadata": {},
     "output_type": "execute_result"
    }
   ],
   "source": [
    "framework_results['disease'].value_counts()"
   ]
  },
  {
   "cell_type": "markdown",
   "id": "5deedfcb-8d7c-4bfb-84b0-ca15628272a6",
   "metadata": {},
   "source": [
    "So there are duplicate category names (for different diseases). That's fine--we don't actually care about the diseases for right now. But we will when we do the enrichment."
   ]
  },
  {
   "cell_type": "code",
   "execution_count": 5,
   "id": "c61e5a39-355d-4b80-ab9b-4ac4b905a46f",
   "metadata": {},
   "outputs": [],
   "source": [
    "framework_schema = defaultdict(dict)"
   ]
  },
  {
   "cell_type": "code",
   "execution_count": 6,
   "id": "ab6d937b-f522-419b-b24d-20647f00ba8f",
   "metadata": {},
   "outputs": [],
   "source": [
    "for file in glob.glob('data/CWAS data for Jett/CWAS frameworks/*.txt'):\n",
    "    if 'osteosarcoma' in file:\n",
    "        continue\n",
    "\n",
    "    disease = 'neuroblastoma' if 'neuroblastoma' in file else 'ewing'\n",
    "    sv_category = 'non-coding' if 'noncoding' in file else 'coding'\n",
    "    \n",
    "    data = pd.read_csv(file, sep = '\\t')\n",
    "    framework_schema[disease][sv_category] = data"
   ]
  },
  {
   "cell_type": "code",
   "execution_count": 7,
   "id": "ce700ab9-de05-45c3-bb97-4e49143a3437",
   "metadata": {},
   "outputs": [
    {
     "data": {
      "text/html": [
       "<div>\n",
       "<style scoped>\n",
       "    .dataframe tbody tr th:only-of-type {\n",
       "        vertical-align: middle;\n",
       "    }\n",
       "\n",
       "    .dataframe tbody tr th {\n",
       "        vertical-align: top;\n",
       "    }\n",
       "\n",
       "    .dataframe thead th {\n",
       "        text-align: right;\n",
       "    }\n",
       "</style>\n",
       "<table border=\"1\" class=\"dataframe\">\n",
       "  <thead>\n",
       "    <tr style=\"text-align: right;\">\n",
       "      <th></th>\n",
       "      <th>sv_type</th>\n",
       "      <th>frequency</th>\n",
       "      <th>functional_intersection</th>\n",
       "      <th>functional_category</th>\n",
       "      <th>genic_relationship</th>\n",
       "      <th>constraint</th>\n",
       "      <th>expression</th>\n",
       "      <th>gene_group</th>\n",
       "    </tr>\n",
       "  </thead>\n",
       "  <tbody>\n",
       "    <tr>\n",
       "      <th>0</th>\n",
       "      <td>DUP</td>\n",
       "      <td>RARE</td>\n",
       "      <td>PREDICTED_NONCODING_BREAKPOINT</td>\n",
       "      <td>ewing_and_osteosarcoma_atac_peaks</td>\n",
       "      <td>PREDICTED_INTERGENIC</td>\n",
       "      <td>lof_constrained</td>\n",
       "      <td>expressed_in_muscle_skeletal</td>\n",
       "      <td>protein_coding</td>\n",
       "    </tr>\n",
       "    <tr>\n",
       "      <th>1</th>\n",
       "      <td>DEL</td>\n",
       "      <td>SINGLETON</td>\n",
       "      <td>PREDICTED_NONCODING_SPAN</td>\n",
       "      <td>ewing_chromHMM15_EnhBiv</td>\n",
       "      <td>PREDICTED_INTRONIC</td>\n",
       "      <td>ANY</td>\n",
       "      <td>ANY</td>\n",
       "      <td>cosmic_and_germline_CPGs</td>\n",
       "    </tr>\n",
       "    <tr>\n",
       "      <th>2</th>\n",
       "      <td>CPX_or_INV</td>\n",
       "      <td>NaN</td>\n",
       "      <td>ANY</td>\n",
       "      <td>ewing_H3K27Ac_peak</td>\n",
       "      <td>PREDICTED_PROMOTER</td>\n",
       "      <td>NaN</td>\n",
       "      <td>NaN</td>\n",
       "      <td>NaN</td>\n",
       "    </tr>\n",
       "    <tr>\n",
       "      <th>3</th>\n",
       "      <td>INS_ALL</td>\n",
       "      <td>NaN</td>\n",
       "      <td>NaN</td>\n",
       "      <td>ewing_ABC_MAX_enhancer</td>\n",
       "      <td>PREDICTED_UTR</td>\n",
       "      <td>NaN</td>\n",
       "      <td>NaN</td>\n",
       "      <td>NaN</td>\n",
       "    </tr>\n",
       "    <tr>\n",
       "      <th>4</th>\n",
       "      <td>ANY</td>\n",
       "      <td>NaN</td>\n",
       "      <td>NaN</td>\n",
       "      <td>ewing_chromHMM15_Enh</td>\n",
       "      <td>ANY</td>\n",
       "      <td>NaN</td>\n",
       "      <td>NaN</td>\n",
       "      <td>NaN</td>\n",
       "    </tr>\n",
       "    <tr>\n",
       "      <th>5</th>\n",
       "      <td>NaN</td>\n",
       "      <td>NaN</td>\n",
       "      <td>NaN</td>\n",
       "      <td>ewing_chromHMM15_TssAFlnk</td>\n",
       "      <td>NaN</td>\n",
       "      <td>NaN</td>\n",
       "      <td>NaN</td>\n",
       "      <td>NaN</td>\n",
       "    </tr>\n",
       "    <tr>\n",
       "      <th>6</th>\n",
       "      <td>NaN</td>\n",
       "      <td>NaN</td>\n",
       "      <td>NaN</td>\n",
       "      <td>ewing_and_osteosarcoma_atac_peaks_conserved</td>\n",
       "      <td>NaN</td>\n",
       "      <td>NaN</td>\n",
       "      <td>NaN</td>\n",
       "      <td>NaN</td>\n",
       "    </tr>\n",
       "    <tr>\n",
       "      <th>7</th>\n",
       "      <td>NaN</td>\n",
       "      <td>NaN</td>\n",
       "      <td>NaN</td>\n",
       "      <td>ewing_and_osteosarcoma_tad_boundary</td>\n",
       "      <td>NaN</td>\n",
       "      <td>NaN</td>\n",
       "      <td>NaN</td>\n",
       "      <td>NaN</td>\n",
       "    </tr>\n",
       "    <tr>\n",
       "      <th>8</th>\n",
       "      <td>NaN</td>\n",
       "      <td>NaN</td>\n",
       "      <td>NaN</td>\n",
       "      <td>ewing_chromHMM15_EnhBiv_conserved</td>\n",
       "      <td>NaN</td>\n",
       "      <td>NaN</td>\n",
       "      <td>NaN</td>\n",
       "      <td>NaN</td>\n",
       "    </tr>\n",
       "    <tr>\n",
       "      <th>9</th>\n",
       "      <td>NaN</td>\n",
       "      <td>NaN</td>\n",
       "      <td>NaN</td>\n",
       "      <td>ewing_chromHMM15_TssAFlnk_conserved</td>\n",
       "      <td>NaN</td>\n",
       "      <td>NaN</td>\n",
       "      <td>NaN</td>\n",
       "      <td>NaN</td>\n",
       "    </tr>\n",
       "    <tr>\n",
       "      <th>10</th>\n",
       "      <td>NaN</td>\n",
       "      <td>NaN</td>\n",
       "      <td>NaN</td>\n",
       "      <td>ewing_H3K27Ac_peak_conserved</td>\n",
       "      <td>NaN</td>\n",
       "      <td>NaN</td>\n",
       "      <td>NaN</td>\n",
       "      <td>NaN</td>\n",
       "    </tr>\n",
       "    <tr>\n",
       "      <th>11</th>\n",
       "      <td>NaN</td>\n",
       "      <td>NaN</td>\n",
       "      <td>NaN</td>\n",
       "      <td>ewing_and_osteosarcoma_tad_boundary_conserved</td>\n",
       "      <td>NaN</td>\n",
       "      <td>NaN</td>\n",
       "      <td>NaN</td>\n",
       "      <td>NaN</td>\n",
       "    </tr>\n",
       "    <tr>\n",
       "      <th>12</th>\n",
       "      <td>NaN</td>\n",
       "      <td>NaN</td>\n",
       "      <td>NaN</td>\n",
       "      <td>ewing_chromHMM15_Enh_conserved</td>\n",
       "      <td>NaN</td>\n",
       "      <td>NaN</td>\n",
       "      <td>NaN</td>\n",
       "      <td>NaN</td>\n",
       "    </tr>\n",
       "    <tr>\n",
       "      <th>13</th>\n",
       "      <td>NaN</td>\n",
       "      <td>NaN</td>\n",
       "      <td>NaN</td>\n",
       "      <td>ewing_encode_consensus_enhancers</td>\n",
       "      <td>NaN</td>\n",
       "      <td>NaN</td>\n",
       "      <td>NaN</td>\n",
       "      <td>NaN</td>\n",
       "    </tr>\n",
       "    <tr>\n",
       "      <th>14</th>\n",
       "      <td>NaN</td>\n",
       "      <td>NaN</td>\n",
       "      <td>NaN</td>\n",
       "      <td>ewing_encode_consensus_enhancers_conserved</td>\n",
       "      <td>NaN</td>\n",
       "      <td>NaN</td>\n",
       "      <td>NaN</td>\n",
       "      <td>NaN</td>\n",
       "    </tr>\n",
       "    <tr>\n",
       "      <th>15</th>\n",
       "      <td>NaN</td>\n",
       "      <td>NaN</td>\n",
       "      <td>NaN</td>\n",
       "      <td>ewing_ABC_MAX_enhancer_conserved</td>\n",
       "      <td>NaN</td>\n",
       "      <td>NaN</td>\n",
       "      <td>NaN</td>\n",
       "      <td>NaN</td>\n",
       "    </tr>\n",
       "    <tr>\n",
       "      <th>16</th>\n",
       "      <td>NaN</td>\n",
       "      <td>NaN</td>\n",
       "      <td>NaN</td>\n",
       "      <td>ewing_chromHMM15_EnhG</td>\n",
       "      <td>NaN</td>\n",
       "      <td>NaN</td>\n",
       "      <td>NaN</td>\n",
       "      <td>NaN</td>\n",
       "    </tr>\n",
       "    <tr>\n",
       "      <th>17</th>\n",
       "      <td>NaN</td>\n",
       "      <td>NaN</td>\n",
       "      <td>NaN</td>\n",
       "      <td>ewing_chromHMM15_EnhG_conserved</td>\n",
       "      <td>NaN</td>\n",
       "      <td>NaN</td>\n",
       "      <td>NaN</td>\n",
       "      <td>NaN</td>\n",
       "    </tr>\n",
       "    <tr>\n",
       "      <th>18</th>\n",
       "      <td>NaN</td>\n",
       "      <td>NaN</td>\n",
       "      <td>NaN</td>\n",
       "      <td>recombination_hotspot</td>\n",
       "      <td>NaN</td>\n",
       "      <td>NaN</td>\n",
       "      <td>NaN</td>\n",
       "      <td>NaN</td>\n",
       "    </tr>\n",
       "    <tr>\n",
       "      <th>19</th>\n",
       "      <td>NaN</td>\n",
       "      <td>NaN</td>\n",
       "      <td>NaN</td>\n",
       "      <td>recombination_hotspot_conserved</td>\n",
       "      <td>NaN</td>\n",
       "      <td>NaN</td>\n",
       "      <td>NaN</td>\n",
       "      <td>NaN</td>\n",
       "    </tr>\n",
       "    <tr>\n",
       "      <th>20</th>\n",
       "      <td>NaN</td>\n",
       "      <td>NaN</td>\n",
       "      <td>NaN</td>\n",
       "      <td>UCNE</td>\n",
       "      <td>NaN</td>\n",
       "      <td>NaN</td>\n",
       "      <td>NaN</td>\n",
       "      <td>NaN</td>\n",
       "    </tr>\n",
       "    <tr>\n",
       "      <th>21</th>\n",
       "      <td>NaN</td>\n",
       "      <td>NaN</td>\n",
       "      <td>NaN</td>\n",
       "      <td>fragile_site</td>\n",
       "      <td>NaN</td>\n",
       "      <td>NaN</td>\n",
       "      <td>NaN</td>\n",
       "      <td>NaN</td>\n",
       "    </tr>\n",
       "  </tbody>\n",
       "</table>\n",
       "</div>"
      ],
      "text/plain": [
       "       sv_type  frequency         functional_intersection  \\\n",
       "0          DUP       RARE  PREDICTED_NONCODING_BREAKPOINT   \n",
       "1          DEL  SINGLETON        PREDICTED_NONCODING_SPAN   \n",
       "2   CPX_or_INV        NaN                             ANY   \n",
       "3      INS_ALL        NaN                             NaN   \n",
       "4          ANY        NaN                             NaN   \n",
       "5          NaN        NaN                             NaN   \n",
       "6          NaN        NaN                             NaN   \n",
       "7          NaN        NaN                             NaN   \n",
       "8          NaN        NaN                             NaN   \n",
       "9          NaN        NaN                             NaN   \n",
       "10         NaN        NaN                             NaN   \n",
       "11         NaN        NaN                             NaN   \n",
       "12         NaN        NaN                             NaN   \n",
       "13         NaN        NaN                             NaN   \n",
       "14         NaN        NaN                             NaN   \n",
       "15         NaN        NaN                             NaN   \n",
       "16         NaN        NaN                             NaN   \n",
       "17         NaN        NaN                             NaN   \n",
       "18         NaN        NaN                             NaN   \n",
       "19         NaN        NaN                             NaN   \n",
       "20         NaN        NaN                             NaN   \n",
       "21         NaN        NaN                             NaN   \n",
       "\n",
       "                              functional_category    genic_relationship  \\\n",
       "0               ewing_and_osteosarcoma_atac_peaks  PREDICTED_INTERGENIC   \n",
       "1                         ewing_chromHMM15_EnhBiv    PREDICTED_INTRONIC   \n",
       "2                              ewing_H3K27Ac_peak    PREDICTED_PROMOTER   \n",
       "3                          ewing_ABC_MAX_enhancer         PREDICTED_UTR   \n",
       "4                            ewing_chromHMM15_Enh                   ANY   \n",
       "5                       ewing_chromHMM15_TssAFlnk                   NaN   \n",
       "6     ewing_and_osteosarcoma_atac_peaks_conserved                   NaN   \n",
       "7             ewing_and_osteosarcoma_tad_boundary                   NaN   \n",
       "8               ewing_chromHMM15_EnhBiv_conserved                   NaN   \n",
       "9             ewing_chromHMM15_TssAFlnk_conserved                   NaN   \n",
       "10                   ewing_H3K27Ac_peak_conserved                   NaN   \n",
       "11  ewing_and_osteosarcoma_tad_boundary_conserved                   NaN   \n",
       "12                 ewing_chromHMM15_Enh_conserved                   NaN   \n",
       "13               ewing_encode_consensus_enhancers                   NaN   \n",
       "14     ewing_encode_consensus_enhancers_conserved                   NaN   \n",
       "15               ewing_ABC_MAX_enhancer_conserved                   NaN   \n",
       "16                          ewing_chromHMM15_EnhG                   NaN   \n",
       "17                ewing_chromHMM15_EnhG_conserved                   NaN   \n",
       "18                          recombination_hotspot                   NaN   \n",
       "19                recombination_hotspot_conserved                   NaN   \n",
       "20                                           UCNE                   NaN   \n",
       "21                                   fragile_site                   NaN   \n",
       "\n",
       "         constraint                    expression                gene_group  \n",
       "0   lof_constrained  expressed_in_muscle_skeletal            protein_coding  \n",
       "1               ANY                           ANY  cosmic_and_germline_CPGs  \n",
       "2               NaN                           NaN                       NaN  \n",
       "3               NaN                           NaN                       NaN  \n",
       "4               NaN                           NaN                       NaN  \n",
       "5               NaN                           NaN                       NaN  \n",
       "6               NaN                           NaN                       NaN  \n",
       "7               NaN                           NaN                       NaN  \n",
       "8               NaN                           NaN                       NaN  \n",
       "9               NaN                           NaN                       NaN  \n",
       "10              NaN                           NaN                       NaN  \n",
       "11              NaN                           NaN                       NaN  \n",
       "12              NaN                           NaN                       NaN  \n",
       "13              NaN                           NaN                       NaN  \n",
       "14              NaN                           NaN                       NaN  \n",
       "15              NaN                           NaN                       NaN  \n",
       "16              NaN                           NaN                       NaN  \n",
       "17              NaN                           NaN                       NaN  \n",
       "18              NaN                           NaN                       NaN  \n",
       "19              NaN                           NaN                       NaN  \n",
       "20              NaN                           NaN                       NaN  \n",
       "21              NaN                           NaN                       NaN  "
      ]
     },
     "execution_count": 7,
     "metadata": {},
     "output_type": "execute_result"
    }
   ],
   "source": [
    "framework_schema['ewing']['non-coding']"
   ]
  },
  {
   "cell_type": "markdown",
   "id": "197785c0-18af-4fd4-8d2f-a533493af7a1",
   "metadata": {},
   "source": [
    "Some of these characteristics impose restrictions on genomic regions that are accessible in the analysis. THESE are the characteristics that we need to use to impose restrictions. They are as follows:\n",
    "\n",
    "* Coding (other gene groups besides protein_coding are ignored, as they represent gene sets themselves)  \n",
    "    * lof_constrained\n",
    "    * missense_constrained\n",
    "    * unconstrained\n",
    "    * expressed_in_adrenal_gland  \n",
    "    * protein_coding  \n",
    "\n",
    "* Non-coding (other gene groups besides protein_coding are ignored, as they represent gene sets themselves)  \n",
    "    * functional_categories  \n",
    "    * lof_constrained\n",
    "    * expressed_in_adrenal_gland\n",
    "    * protein_coding"
   ]
  },
  {
   "cell_type": "markdown",
   "id": "a0ef56ba-b33c-4be7-9ef4-8012cbf03c64",
   "metadata": {},
   "source": [
    "# Read in genes for non-functional categories\n",
    "\n",
    "These are perhaps the easiest - Riaz has just provided these genes for us"
   ]
  },
  {
   "cell_type": "code",
   "execution_count": 8,
   "id": "695ed153-0f53-4c36-a606-f645299b78a9",
   "metadata": {},
   "outputs": [],
   "source": [
    "paths = {'lof_constrained': 'data/CWAS data for Jett/lof_constrained_genes_7_31_23 (1).txt',\n",
    "         'missense_constrained': 'data/CWAS data for Jett/missense_constrained_genes_7_31_23.txt',\n",
    "         'unconstrained': 'data/CWAS data for Jett/unconstrained_genes_7_31_23.txt',\n",
    "         'expressed_in_adrenal_gland': 'data/CWAS data for Jett/top_expressed_in_adrenal_gland_7_31_23 (1).txt',\n",
    "         'protein_coding': 'data/CWAS data for Jett/gencode_hg38_protein_coding_genes_for_annotation_7_31_23 (1).txt',\n",
    "         'cosmic_and_germline_CPGs': 'data/CWAS data for Jett/cosmic_cancer_genes_tier_one_and_germline_CPGs_10_23_23 (1).txt',\n",
    "         'expressed_in_muscle_skeletal': 'data/CWAS data for Jett/top_expressed_in_muscle_skeletal_7_31_23.txt'}\n",
    "\n",
    "gene_restrictions = {}\n",
    "for label, path in paths.items():\n",
    "    data = pd.read_csv(path)\n",
    "    data = data[~data['value'].str.startswith('ENSG00')]\n",
    "    data = data['value'].tolist()\n",
    "    \n",
    "    gene_restrictions[label] = data"
   ]
  },
  {
   "cell_type": "code",
   "execution_count": 9,
   "id": "04994a31-37b3-438f-b30a-3defe0990544",
   "metadata": {},
   "outputs": [
    {
     "name": "stdout",
     "output_type": "stream",
     "text": [
      "9505\n",
      "7566\n",
      "19201\n"
     ]
    }
   ],
   "source": [
    "print(len(gene_restrictions['expressed_in_adrenal_gland']))\n",
    "print(len(gene_restrictions['expressed_in_muscle_skeletal']))\n",
    "print(len(gene_restrictions['protein_coding']))"
   ]
  },
  {
   "cell_type": "markdown",
   "id": "8ffc9886-5f1c-4721-bcf6-9307cdd98447",
   "metadata": {},
   "source": [
    "Great."
   ]
  },
  {
   "cell_type": "markdown",
   "id": "780be016-10f7-4599-8665-5ca5f1745869",
   "metadata": {},
   "source": [
    "# Identify genes within functional categories"
   ]
  },
  {
   "cell_type": "markdown",
   "id": "411397ee-3fcf-4850-9e31-ec073067ce6c",
   "metadata": {},
   "source": [
    "We need to read in the genomic locations of the categories. Riaz has kindly already compiled these."
   ]
  },
  {
   "cell_type": "code",
   "execution_count": 10,
   "id": "12f510e9-0e3a-4988-8319-5048d1aa3ca7",
   "metadata": {},
   "outputs": [],
   "source": [
    "category_regions = pd.read_csv('data/CWAS data for Jett/PedSV.noncoding_annotations.7_18_23.bed.gz', sep ='\\t')"
   ]
  },
  {
   "cell_type": "code",
   "execution_count": 11,
   "id": "da5962f6-99c3-4bcc-9f59-faf1bd182b24",
   "metadata": {},
   "outputs": [
    {
     "data": {
      "text/html": [
       "<div>\n",
       "<style scoped>\n",
       "    .dataframe tbody tr th:only-of-type {\n",
       "        vertical-align: middle;\n",
       "    }\n",
       "\n",
       "    .dataframe tbody tr th {\n",
       "        vertical-align: top;\n",
       "    }\n",
       "\n",
       "    .dataframe thead th {\n",
       "        text-align: right;\n",
       "    }\n",
       "</style>\n",
       "<table border=\"1\" class=\"dataframe\">\n",
       "  <thead>\n",
       "    <tr style=\"text-align: right;\">\n",
       "      <th></th>\n",
       "      <th>#chrom</th>\n",
       "      <th>start</th>\n",
       "      <th>end</th>\n",
       "      <th>element_class</th>\n",
       "    </tr>\n",
       "  </thead>\n",
       "  <tbody>\n",
       "    <tr>\n",
       "      <th>0</th>\n",
       "      <td>chr1</td>\n",
       "      <td>9944</td>\n",
       "      <td>10676</td>\n",
       "      <td>ewing_and_osteosarcoma_atac_peaks</td>\n",
       "    </tr>\n",
       "    <tr>\n",
       "      <th>1</th>\n",
       "      <td>chr1</td>\n",
       "      <td>9944</td>\n",
       "      <td>10676</td>\n",
       "      <td>ewing_and_osteosarcoma_atac_peaks_unconserved</td>\n",
       "    </tr>\n",
       "  </tbody>\n",
       "</table>\n",
       "</div>"
      ],
      "text/plain": [
       "  #chrom  start    end                                  element_class\n",
       "0   chr1   9944  10676              ewing_and_osteosarcoma_atac_peaks\n",
       "1   chr1   9944  10676  ewing_and_osteosarcoma_atac_peaks_unconserved"
      ]
     },
     "execution_count": 11,
     "metadata": {},
     "output_type": "execute_result"
    }
   ],
   "source": [
    "category_regions.head(2)"
   ]
  },
  {
   "cell_type": "code",
   "execution_count": 12,
   "id": "ea35a0ca-71ba-4848-9da9-84427141063a",
   "metadata": {},
   "outputs": [],
   "source": [
    "regions = list(category_regions['element_class'].unique())"
   ]
  },
  {
   "cell_type": "code",
   "execution_count": 13,
   "id": "000e3716-445e-499d-8a13-a9753852bf26",
   "metadata": {},
   "outputs": [
    {
     "data": {
      "text/plain": [
       "array(['ewing_and_osteosarcoma_atac_peaks',\n",
       "       'ewing_and_osteosarcoma_atac_peaks_unconserved',\n",
       "       'neuroblastoma_atac_peaks', 'neuroblastoma_atac_peaks_unconserved',\n",
       "       'ewing_chromHMM15_Quies', 'osteosarcoma_chromHMM15_Quies',\n",
       "       'neuroblastoma_chromHMM15_Quies', 'neuroblastoma_chromHMM15_Enh',\n",
       "       'neuroblastoma_chromHMM15_Enh_conserved',\n",
       "       'neuroblastoma_chromHMM15_EnhG',\n",
       "       'neuroblastoma_chromHMM15_EnhG_conserved',\n",
       "       'neuroblastoma_chromHMM15_EnhG_unconserved',\n",
       "       'osteosarcoma_chromHMM15_Quies_unconserved',\n",
       "       'ewing_chromHMM15_Quies_unconserved',\n",
       "       'neuroblastoma_chromHMM15_Quies_unconserved',\n",
       "       'neuroblastoma_H3K27Ac_peak',\n",
       "       'neuroblastoma_H3K27Ac_peak_unconserved',\n",
       "       'neuroblastoma_chromHMM15_Enh_unconserved',\n",
       "       'ewing_chromHMM15_EnhBiv', 'ewing_chromHMM15_EnhBiv_unconserved',\n",
       "       'neuroblastoma_chromHMM15_TssAFlnk',\n",
       "       'neuroblastoma_chromHMM15_TssAFlnk_unconserved',\n",
       "       'ewing_H3K27Ac_peak', 'ewing_H3K27Ac_peak_unconserved',\n",
       "       'osteosarcoma_H3K27Ac_peak',\n",
       "       'osteosarcoma_H3K27Ac_peak_unconserved',\n",
       "       'osteosarcoma_ABC_MAX_enhancer',\n",
       "       'osteosarcoma_ABC_MAX_enhancer_unconserved',\n",
       "       'neuroblastoma_ABC_MAX_enhancer',\n",
       "       'neuroblastoma_ABC_MAX_enhancer_unconserved',\n",
       "       'ewing_ABC_MAX_enhancer', 'ewing_ABC_MAX_enhancer_unconserved',\n",
       "       'osteosarcoma_chromHMM15_TssAFlnk',\n",
       "       'osteosarcoma_chromHMM15_TssAFlnk_unconserved',\n",
       "       'osteosarcoma_chromHMM15_Enh',\n",
       "       'osteosarcoma_chromHMM15_Enh_unconserved',\n",
       "       'osteosarcoma_chromHMM15_EnhG',\n",
       "       'osteosarcoma_chromHMM15_EnhG_unconserved', 'ewing_chromHMM15_Enh',\n",
       "       'ewing_chromHMM15_Enh_unconserved', 'ewing_chromHMM15_TssAFlnk',\n",
       "       'ewing_chromHMM15_TssAFlnk_unconserved',\n",
       "       'ewing_and_osteosarcoma_atac_peaks_conserved',\n",
       "       'neuroblastoma_atac_peaks_conserved',\n",
       "       'neuroblastoma_chromHMM15_EnhBiv',\n",
       "       'neuroblastoma_chromHMM15_EnhBiv_unconserved',\n",
       "       'ewing_and_osteosarcoma_tad_boundary',\n",
       "       'osteosarcoma_chromHMM15_Enh_conserved',\n",
       "       'neuroblastoma_chromHMM15_EnhBiv_conserved',\n",
       "       'osteosarcoma_chromHMM15_EnhBiv',\n",
       "       'osteosarcoma_chromHMM15_EnhBiv_conserved',\n",
       "       'osteosarcoma_chromHMM15_EnhBiv_unconserved',\n",
       "       'osteosarcoma_chromHMM15_TssAFlnk_conserved',\n",
       "       'osteosarcoma_ABC_MAX_enhancer_conserved',\n",
       "       'neuroblastoma_H3K27Ac_peak_conserved',\n",
       "       'ewing_chromHMM15_EnhBiv_conserved',\n",
       "       'ewing_chromHMM15_TssAFlnk_conserved',\n",
       "       'neuroblastoma_encode_consensus_enhancers',\n",
       "       'neuroblastoma_encode_consensus_enhancers_unconserved',\n",
       "       'neuroblastoma_encode_consensus_enhancers_conserved',\n",
       "       'neuroblastoma_ABC_MAX_enhancer_conserved',\n",
       "       'osteosarcoma_H3K27Ac_peak_conserved',\n",
       "       'osteosarcoma_encode_consensus_enhancers',\n",
       "       'osteosarcoma_encode_consensus_enhancers_unconserved',\n",
       "       'ewing_H3K27Ac_peak_conserved',\n",
       "       'ewing_and_osteosarcoma_tad_boundary_conserved',\n",
       "       'osteosarcoma_encode_consensus_enhancers_conserved',\n",
       "       'ewing_chromHMM15_Enh_conserved',\n",
       "       'ewing_encode_consensus_enhancers',\n",
       "       'ewing_encode_consensus_enhancers_conserved',\n",
       "       'ewing_encode_consensus_enhancers_unconserved',\n",
       "       'ewing_chromHMM15_Quies_conserved',\n",
       "       'osteosarcoma_chromHMM15_Quies_conserved',\n",
       "       'neuroblastoma_tad_boundary',\n",
       "       'neuroblastoma_tad_boundary_unconserved',\n",
       "       'ewing_and_osteosarcoma_tad_boundary_unconserved',\n",
       "       'ewing_ABC_MAX_enhancer_conserved',\n",
       "       'neuroblastoma_chromHMM15_TssAFlnk_conserved',\n",
       "       'osteosarcoma_chromHMM15_EnhG_conserved', 'ewing_chromHMM15_EnhG',\n",
       "       'ewing_chromHMM15_EnhG_conserved', 'recombination_hotspot',\n",
       "       'recombination_hotspot_unconserved',\n",
       "       'recombination_hotspot_conserved', 'UCNE', 'UCNE_conserved',\n",
       "       'neuroblastoma_chromHMM15_Quies_conserved',\n",
       "       'neuroblastoma_tad_boundary_conserved',\n",
       "       'ewing_chromHMM15_EnhG_unconserved', 'fragile_site',\n",
       "       'UCNE_unconserved'], dtype=object)"
      ]
     },
     "execution_count": 13,
     "metadata": {},
     "output_type": "execute_result"
    }
   ],
   "source": [
    "category_regions['element_class'].unique()"
   ]
  },
  {
   "cell_type": "markdown",
   "id": "b33e8860-6be6-493a-bf43-9e05046deddd",
   "metadata": {},
   "source": [
    "And let's quickly verify that these functional elements represent the sum total of those present in our categories."
   ]
  },
  {
   "cell_type": "code",
   "execution_count": 14,
   "id": "74f1742f-7b98-4338-9121-fdeaf46f37fc",
   "metadata": {},
   "outputs": [],
   "source": [
    "category_to_functional = {c: c.split('.')[3] if len(c.split('.')) == 8 else np.nan for c in framework_results['category_name'].tolist()}\n",
    "framework_results['functional_category'] = [category_to_functional[c] for c in framework_results['category_name'].tolist()]"
   ]
  },
  {
   "cell_type": "code",
   "execution_count": 15,
   "id": "265e893d-65a6-4518-af8e-a12d4b458666",
   "metadata": {},
   "outputs": [
    {
     "data": {
      "text/plain": [
       "{nan}"
      ]
     },
     "execution_count": 15,
     "metadata": {},
     "output_type": "execute_result"
    }
   ],
   "source": [
    "set(framework_results['functional_category']) - set(category_regions['element_class'])"
   ]
  },
  {
   "cell_type": "markdown",
   "id": "ebc9e333-1783-42d6-a0ab-cd5c42132bd4",
   "metadata": {},
   "source": [
    "Note that this file takes the step of defining \"unconserved\" and \"conserved\" regions. We ignore the unconserved regions, as they're not in any of our categories. But this file lists all the regions along with their coordinates. Let's give a value for each of the regions so we know which is which."
   ]
  },
  {
   "cell_type": "code",
   "execution_count": 16,
   "id": "929e902e-5ac8-42a0-aeba-d2a262af30c8",
   "metadata": {},
   "outputs": [],
   "source": [
    "category_regions = category_regions[~category_regions['element_class'].str.contains('_unconserved')]"
   ]
  },
  {
   "cell_type": "code",
   "execution_count": 17,
   "id": "fe073530-85b8-41bb-ba00-21dd9606cc9a",
   "metadata": {},
   "outputs": [
    {
     "data": {
      "text/plain": [
       "{nan}"
      ]
     },
     "execution_count": 17,
     "metadata": {},
     "output_type": "execute_result"
    }
   ],
   "source": [
    "set(framework_results['functional_category']) - set(category_regions['element_class'])"
   ]
  },
  {
   "cell_type": "code",
   "execution_count": 18,
   "id": "3fc1e217-46ae-492f-9af5-1ae4f4516d86",
   "metadata": {},
   "outputs": [],
   "source": [
    "category_regions['element_class'] = category_regions['element_class'] + '_' + np.array(category_regions.index).astype(str)"
   ]
  },
  {
   "cell_type": "markdown",
   "id": "3057ebba-8d58-4220-85e1-c027098dd59d",
   "metadata": {},
   "source": [
    "## Download genes"
   ]
  },
  {
   "cell_type": "markdown",
   "id": "64330566-fc7b-4e5f-9fd6-0c8a49166808",
   "metadata": {},
   "source": [
    "Next, we extract out the genic locations, for cross-reference with our category regions. We use gencode."
   ]
  },
  {
   "cell_type": "code",
   "execution_count": 2,
   "id": "154e95a8-fa5b-4598-a1e0-2dee88f46fbe",
   "metadata": {},
   "outputs": [],
   "source": [
    "gtf = pd.read_csv(\n",
    "    \"https://ftp.ebi.ac.uk/pub/databases/gencode/Gencode_human/release_43/gencode.v43.basic.annotation.gtf.gz\",\n",
    "    comment=\"#\",\n",
    "    sep=\"\\t\",\n",
    "    header=None,\n",
    "    names=[\n",
    "        \"seqname\",\n",
    "        \"source\",\n",
    "        \"feature\",\n",
    "        \"start\",\n",
    "        \"end\",\n",
    "        \"score\",\n",
    "        \"strand\",\n",
    "        \"frame\",\n",
    "        \"attribute\",\n",
    "    ],\n",
    ")"
   ]
  },
  {
   "cell_type": "code",
   "execution_count": 3,
   "id": "2766600d-615f-4d5a-9061-f0053bd7b5eb",
   "metadata": {},
   "outputs": [],
   "source": [
    "genes = gtf.query('feature == \"gene\"').reset_index(drop = True)\n",
    "\n",
    "characteristics = {}\n",
    "for index, row in genes.iterrows():\n",
    "    gene_data = row['attribute'].split('; ')\n",
    "    gene_data = {field.split(' ')[0]: field.split(' ')[1].strip(';') for field in gene_data}\n",
    "    gene_data = {key: val.strip('\"') for key, val in gene_data.items()}\n",
    "    characteristics[index] = gene_data\n",
    "    \n",
    "characteristics = pd.DataFrame(characteristics).T\n",
    "\n",
    "genes = pd.concat([genes, characteristics], axis = 1)"
   ]
  },
  {
   "cell_type": "code",
   "execution_count": 4,
   "id": "a9911eaf-0b74-4440-bb28-1fc14f68d425",
   "metadata": {},
   "outputs": [],
   "source": [
    "# drop genes in PAR\n",
    "genes = genes[~(genes['tag'] == 'PAR')\n",
    "             & (genes['gene_type'] == 'protein_coding')]"
   ]
  },
  {
   "cell_type": "code",
   "execution_count": 5,
   "id": "7642419d-0fa1-42a3-88dc-a45d9535d00f",
   "metadata": {},
   "outputs": [
    {
     "data": {
      "text/plain": [
       "(20024, 17)"
      ]
     },
     "execution_count": 5,
     "metadata": {},
     "output_type": "execute_result"
    }
   ],
   "source": [
    "genes.shape"
   ]
  },
  {
   "cell_type": "markdown",
   "id": "374727b2-9540-469d-8617-c0b2475292f9",
   "metadata": {},
   "source": [
    "We subset this to genes that are in our dataset."
   ]
  },
  {
   "cell_type": "code",
   "execution_count": 6,
   "id": "36a7b455-9c22-4c82-9121-ffa095cd8ccd",
   "metadata": {},
   "outputs": [
    {
     "ename": "NameError",
     "evalue": "name 'gene_restrictions' is not defined",
     "output_type": "error",
     "traceback": [
      "\u001b[0;31m---------------------------------------------------------------------------\u001b[0m",
      "\u001b[0;31mNameError\u001b[0m                                 Traceback (most recent call last)",
      "\u001b[0;32m/var/folders/vj/vy31kv2s22g8d_0w2mkfthwc0000gn/T/ipykernel_18383/1281112557.py\u001b[0m in \u001b[0;36m<module>\u001b[0;34m\u001b[0m\n\u001b[0;32m----> 1\u001b[0;31m \u001b[0mgene_ref\u001b[0m \u001b[0;34m=\u001b[0m \u001b[0mgene_restrictions\u001b[0m\u001b[0;34m[\u001b[0m\u001b[0;34m'protein_coding'\u001b[0m\u001b[0;34m]\u001b[0m\u001b[0;34m\u001b[0m\u001b[0;34m\u001b[0m\u001b[0m\n\u001b[0m\u001b[1;32m      2\u001b[0m \u001b[0mmissing_genes\u001b[0m \u001b[0;34m=\u001b[0m \u001b[0mset\u001b[0m\u001b[0;34m(\u001b[0m\u001b[0mgene_ref\u001b[0m\u001b[0;34m)\u001b[0m \u001b[0;34m-\u001b[0m \u001b[0mset\u001b[0m\u001b[0;34m(\u001b[0m\u001b[0mgenes\u001b[0m\u001b[0;34m[\u001b[0m\u001b[0;34m'gene_name'\u001b[0m\u001b[0;34m]\u001b[0m\u001b[0;34m)\u001b[0m\u001b[0;34m\u001b[0m\u001b[0;34m\u001b[0m\u001b[0m\n\u001b[1;32m      3\u001b[0m \u001b[0mprint\u001b[0m\u001b[0;34m(\u001b[0m\u001b[0mlen\u001b[0m\u001b[0;34m(\u001b[0m\u001b[0mgene_ref\u001b[0m\u001b[0;34m)\u001b[0m\u001b[0;34m,\u001b[0m \u001b[0mlen\u001b[0m\u001b[0;34m(\u001b[0m\u001b[0mmissing_genes\u001b[0m\u001b[0;34m)\u001b[0m\u001b[0;34m)\u001b[0m\u001b[0;34m\u001b[0m\u001b[0;34m\u001b[0m\u001b[0m\n",
      "\u001b[0;31mNameError\u001b[0m: name 'gene_restrictions' is not defined"
     ]
    }
   ],
   "source": [
    "gene_ref = gene_restrictions['protein_coding']\n",
    "missing_genes = set(gene_ref) - set(genes['gene_name'])\n",
    "print(len(gene_ref), len(missing_genes))"
   ]
  },
  {
   "cell_type": "markdown",
   "id": "78d79552-b244-42b1-9616-ac980e1c137b",
   "metadata": {},
   "source": [
    "So a few genes are present in our reference dataset but missing from the gtf. What are these genes?"
   ]
  },
  {
   "cell_type": "code",
   "execution_count": null,
   "id": "864c09dd-96fa-4d04-bc1a-2b6b1adbc8d6",
   "metadata": {},
   "outputs": [],
   "source": [
    "print(sorted(missing_genes))"
   ]
  },
  {
   "cell_type": "code",
   "execution_count": null,
   "id": "b018e104-2890-4dc7-9017-b2fd07b0c852",
   "metadata": {},
   "outputs": [],
   "source": [
    "gtf[gtf['attribute'].str.contains('HLA-DRB3')]"
   ]
  },
  {
   "cell_type": "markdown",
   "id": "d85a58a7-7d3b-4f24-8bbb-334eaaf851f0",
   "metadata": {},
   "source": [
    "It's not at all obvious to me why these genes are missing, but there is truly no mention of them in the GTF (even in non-gene entries). So we move on, further restricting our analysis to these genes."
   ]
  },
  {
   "cell_type": "code",
   "execution_count": null,
   "id": "6a4cf1e1-ef58-4cfc-a2cb-041b2f46f11d",
   "metadata": {},
   "outputs": [],
   "source": [
    "gene_subset = genes[genes['gene_name'].isin(gene_ref)]\n",
    "print(gene_subset.shape[0], len(set(gene_subset['gene_name'])))"
   ]
  },
  {
   "cell_type": "markdown",
   "id": "774aff1d-d0d0-45ff-b16d-6d1f0ed02047",
   "metadata": {},
   "source": [
    "So there are some duplicates. In looking at them, it's not entirely obvious which is which."
   ]
  },
  {
   "cell_type": "code",
   "execution_count": null,
   "id": "cd030678-9eb1-4736-b8d9-a8549dd41e9e",
   "metadata": {},
   "outputs": [],
   "source": [
    "gene_counts = gene_subset['gene_name'].value_counts()\n",
    "duplicates = gene_counts[gene_counts > 1]\n",
    "\n",
    "# some heuristics to get proper genes\n",
    "duplicate_gene_subset = gene_subset[gene_subset['gene_name'].isin(duplicates.index)]\n",
    "duplicate_gene_subset.shape"
   ]
  },
  {
   "cell_type": "code",
   "execution_count": null,
   "id": "4ab4048f-c4a8-4623-8ccb-3c47ab9833c3",
   "metadata": {},
   "outputs": [],
   "source": [
    "gene_subset = gene_subset.drop_duplicates(subset = ['gene_name'])\n",
    "gene_subset.shape"
   ]
  },
  {
   "cell_type": "code",
   "execution_count": 9,
   "id": "b8b6bb5c-9ba5-4240-b5fc-3d44def1eaf8",
   "metadata": {},
   "outputs": [],
   "source": [
    "ewing_genes = ['ELMOD3',\n",
    " 'MYLK',\n",
    " 'REEP5',\n",
    " 'CD36',\n",
    " 'GHITM',\n",
    " 'CHUK',\n",
    " 'DHRS7',\n",
    " 'ACOX1',\n",
    " 'SAMM50']\n",
    "\n",
    "nbl_genes = ['ACADM',\n",
    " 'MTARC2',\n",
    " 'SLC66A3',\n",
    " 'LPL',\n",
    " 'GPAM',\n",
    " 'SSPN',\n",
    " 'SQOR',\n",
    " 'SQOR',\n",
    " 'RETN',\n",
    " 'ITSN1']"
   ]
  },
  {
   "cell_type": "code",
   "execution_count": 11,
   "id": "0365fcef-b947-491d-a815-061191a09297",
   "metadata": {},
   "outputs": [
    {
     "data": {
      "text/plain": [
       "['chr2', 'chr3', 'chr5', 'chr7', 'chr10', 'chr10', 'chr14', 'chr17', 'chr22']"
      ]
     },
     "execution_count": 11,
     "metadata": {},
     "output_type": "execute_result"
    }
   ],
   "source": [
    "genes[genes['gene_name'].isin(ewing_genes)]['seqname'].tolist()"
   ]
  },
  {
   "cell_type": "code",
   "execution_count": 12,
   "id": "4efa545a-71bd-433e-8d51-2b5380436370",
   "metadata": {},
   "outputs": [
    {
     "data": {
      "text/plain": [
       "['chr1', 'chr1', 'chr2', 'chr8', 'chr10', 'chr12', 'chr15', 'chr19', 'chr21']"
      ]
     },
     "execution_count": 12,
     "metadata": {},
     "output_type": "execute_result"
    }
   ],
   "source": [
    "genes[genes['gene_name'].isin(nbl_genes)]['seqname'].tolist()"
   ]
  },
  {
   "cell_type": "markdown",
   "id": "740c0fc9-5718-4500-b828-eba5b74d0f95",
   "metadata": {},
   "source": [
    "## Do the intersection\n",
    "\n",
    "We intersect the category regions with the genes. This will yield a list of genes that are present in these categories.\n",
    "\n",
    "Some category regions, however, will not intersect genes. This will yield no gene and be valid for most comparisons. For some noncoding analyses, however, the nearest gene must also be included in the analysis, since `PREDICTED_INTERGENIC` can yield this.\n",
    "\n",
    "Incorporating this is extremely frustrating, as it's not clear how to optimally do this. For example, consider a region, with a closest gene. There are many possibilities:\n",
    "\n",
    "1. The closest gene is within the region\n",
    "2. The closest gene is outside the region, but there is also a gene in the region\n",
    "3. The closest gene is downstream, but at another point in the region, the closest gene is upstream\n",
    "\n",
    "Which of these is the case depends very strongly on where the SV is located within the region. However, we can't use the SV locations, as the point of gene set enrichment is to examine _which genes COULD be impacted_. This is... unresolvable.\n",
    "\n",
    "I suppose the best way forward is to assume the following:\n",
    "\n",
    "1. If a gene is within a region, it will be closest to all SVs in that region if those SVs are noncoding\n",
    "2. If a gene is not within a region, the closest gene to the region will be the closest gene to all SVs"
   ]
  },
  {
   "cell_type": "code",
   "execution_count": 29,
   "id": "58b3b899-8154-4244-9b70-861c5215cb38",
   "metadata": {},
   "outputs": [],
   "source": [
    "# do the intersection with pybedtools.\n",
    "category_bed = pybedtools.BedTool(\n",
    "    category_regions.to_csv(sep=\"\\t\", index=False, header=False), from_string=True\n",
    ")\n",
    "\n",
    "gene_bed = pybedtools.BedTool(\n",
    "    gene_subset[['seqname', 'start', 'end', 'gene_name']].to_csv(sep=\"\\t\", index=False, header=False),\n",
    "    from_string=True,\n",
    ")\n",
    "/\n",
    "genes_in_regions = category_bed.intersect(gene_bed, wao=True)\n",
    "genes_in_regions = genes_in_regions.to_dataframe()"
   ]
  },
  {
   "cell_type": "code",
   "execution_count": 30,
   "id": "a5abccdd-1626-44fe-81d2-25011ca6f49e",
   "metadata": {},
   "outputs": [],
   "source": [
    "genes_in_regions['category'] = genes_in_regions['name'].apply(lambda n: '_'.join(n.split('_')[:-1]))\n",
    "genes_in_regions = genes_in_regions.rename(columns = {'thickEnd': 'gene'})"
   ]
  },
  {
   "cell_type": "code",
   "execution_count": 31,
   "id": "7d845242-7992-4883-b5b2-48f996b2e412",
   "metadata": {},
   "outputs": [
    {
     "data": {
      "text/html": [
       "<div>\n",
       "<style scoped>\n",
       "    .dataframe tbody tr th:only-of-type {\n",
       "        vertical-align: middle;\n",
       "    }\n",
       "\n",
       "    .dataframe tbody tr th {\n",
       "        vertical-align: top;\n",
       "    }\n",
       "\n",
       "    .dataframe thead th {\n",
       "        text-align: right;\n",
       "    }\n",
       "</style>\n",
       "<table border=\"1\" class=\"dataframe\">\n",
       "  <thead>\n",
       "    <tr style=\"text-align: right;\">\n",
       "      <th></th>\n",
       "      <th>chrom</th>\n",
       "      <th>start</th>\n",
       "      <th>end</th>\n",
       "      <th>name</th>\n",
       "      <th>score</th>\n",
       "      <th>strand</th>\n",
       "      <th>thickStart</th>\n",
       "      <th>gene</th>\n",
       "      <th>itemRgb</th>\n",
       "      <th>category</th>\n",
       "    </tr>\n",
       "  </thead>\n",
       "  <tbody>\n",
       "    <tr>\n",
       "      <th>0</th>\n",
       "      <td>chr1</td>\n",
       "      <td>9944</td>\n",
       "      <td>10676</td>\n",
       "      <td>ewing_and_osteosarcoma_atac_peaks_0</td>\n",
       "      <td>.</td>\n",
       "      <td>-1</td>\n",
       "      <td>-1</td>\n",
       "      <td>.</td>\n",
       "      <td>0</td>\n",
       "      <td>ewing_and_osteosarcoma_atac_peaks</td>\n",
       "    </tr>\n",
       "    <tr>\n",
       "      <th>1</th>\n",
       "      <td>chr1</td>\n",
       "      <td>9949</td>\n",
       "      <td>10686</td>\n",
       "      <td>neuroblastoma_atac_peaks_2</td>\n",
       "      <td>.</td>\n",
       "      <td>-1</td>\n",
       "      <td>-1</td>\n",
       "      <td>.</td>\n",
       "      <td>0</td>\n",
       "      <td>neuroblastoma_atac_peaks</td>\n",
       "    </tr>\n",
       "    <tr>\n",
       "      <th>2</th>\n",
       "      <td>chr1</td>\n",
       "      <td>10000</td>\n",
       "      <td>13000</td>\n",
       "      <td>ewing_chromHMM15_Quies_4</td>\n",
       "      <td>.</td>\n",
       "      <td>-1</td>\n",
       "      <td>-1</td>\n",
       "      <td>.</td>\n",
       "      <td>0</td>\n",
       "      <td>ewing_chromHMM15_Quies</td>\n",
       "    </tr>\n",
       "  </tbody>\n",
       "</table>\n",
       "</div>"
      ],
      "text/plain": [
       "  chrom  start    end                                 name score  strand  \\\n",
       "0  chr1   9944  10676  ewing_and_osteosarcoma_atac_peaks_0     .      -1   \n",
       "1  chr1   9949  10686           neuroblastoma_atac_peaks_2     .      -1   \n",
       "2  chr1  10000  13000             ewing_chromHMM15_Quies_4     .      -1   \n",
       "\n",
       "   thickStart gene  itemRgb                           category  \n",
       "0          -1    .        0  ewing_and_osteosarcoma_atac_peaks  \n",
       "1          -1    .        0           neuroblastoma_atac_peaks  \n",
       "2          -1    .        0             ewing_chromHMM15_Quies  "
      ]
     },
     "execution_count": 31,
     "metadata": {},
     "output_type": "execute_result"
    }
   ],
   "source": [
    "genes_in_regions.head(3)"
   ]
  },
  {
   "cell_type": "markdown",
   "id": "56c8a2d1-75d3-4276-9ab4-fdb1680c52d2",
   "metadata": {},
   "source": [
    "So now, for regions that do not contain a gene, we examine the closest gene."
   ]
  },
  {
   "cell_type": "code",
   "execution_count": 32,
   "id": "369bd4e9-7461-4303-a8e1-1569d6b0108f",
   "metadata": {},
   "outputs": [],
   "source": [
    "regions_without_genes = genes_in_regions.query('score == \".\"')[['chrom', 'start', 'end', 'name']].sort_values(by = ['chrom', 'start'])\n"
   ]
  },
  {
   "cell_type": "code",
   "execution_count": 33,
   "id": "1ec14300-ee80-459e-8439-483846af5e8e",
   "metadata": {},
   "outputs": [],
   "source": [
    "# do the intersection with pybedtools.\n",
    "without_genes_bed = pybedtools.BedTool(\n",
    "    regions_without_genes.to_csv(sep=\"\\t\", index=False, header=False), from_string=True\n",
    ")\n",
    "\n",
    "gene_bed = pybedtools.BedTool(\n",
    "    gene_subset[['seqname', 'start', 'end', 'gene_name']].sort_values(by = ['seqname', 'start']).to_csv(sep=\"\\t\", index=False, header=False),\n",
    "    from_string=True,\n",
    ")\n",
    "\n",
    "closest_genes = without_genes_bed.closest(gene_bed, d=True)\n",
    "closest_genes = closest_genes.to_dataframe()"
   ]
  },
  {
   "cell_type": "code",
   "execution_count": 34,
   "id": "95eb771b-9ea6-47b4-b7e2-3c361085854c",
   "metadata": {},
   "outputs": [],
   "source": [
    "closest_genes['category'] = closest_genes['name'].apply(lambda n: '_'.join(n.split('_')[:-1]))\n",
    "closest_genes = closest_genes.rename(columns = {'thickEnd': 'gene'})"
   ]
  },
  {
   "cell_type": "code",
   "execution_count": 35,
   "id": "4557b824-276b-4a31-b3c2-b5d6ec3e2668",
   "metadata": {},
   "outputs": [
    {
     "data": {
      "text/html": [
       "<div>\n",
       "<style scoped>\n",
       "    .dataframe tbody tr th:only-of-type {\n",
       "        vertical-align: middle;\n",
       "    }\n",
       "\n",
       "    .dataframe tbody tr th {\n",
       "        vertical-align: top;\n",
       "    }\n",
       "\n",
       "    .dataframe thead th {\n",
       "        text-align: right;\n",
       "    }\n",
       "</style>\n",
       "<table border=\"1\" class=\"dataframe\">\n",
       "  <thead>\n",
       "    <tr style=\"text-align: right;\">\n",
       "      <th></th>\n",
       "      <th>chrom</th>\n",
       "      <th>start</th>\n",
       "      <th>end</th>\n",
       "      <th>name</th>\n",
       "      <th>score</th>\n",
       "      <th>strand</th>\n",
       "      <th>thickStart</th>\n",
       "      <th>gene</th>\n",
       "      <th>itemRgb</th>\n",
       "      <th>category</th>\n",
       "    </tr>\n",
       "  </thead>\n",
       "  <tbody>\n",
       "    <tr>\n",
       "      <th>0</th>\n",
       "      <td>chr1</td>\n",
       "      <td>9944</td>\n",
       "      <td>10676</td>\n",
       "      <td>ewing_and_osteosarcoma_atac_peaks_0</td>\n",
       "      <td>chr1</td>\n",
       "      <td>65419</td>\n",
       "      <td>71585</td>\n",
       "      <td>OR4F5</td>\n",
       "      <td>54744</td>\n",
       "      <td>ewing_and_osteosarcoma_atac_peaks</td>\n",
       "    </tr>\n",
       "    <tr>\n",
       "      <th>1</th>\n",
       "      <td>chr1</td>\n",
       "      <td>9949</td>\n",
       "      <td>10686</td>\n",
       "      <td>neuroblastoma_atac_peaks_2</td>\n",
       "      <td>chr1</td>\n",
       "      <td>65419</td>\n",
       "      <td>71585</td>\n",
       "      <td>OR4F5</td>\n",
       "      <td>54734</td>\n",
       "      <td>neuroblastoma_atac_peaks</td>\n",
       "    </tr>\n",
       "  </tbody>\n",
       "</table>\n",
       "</div>"
      ],
      "text/plain": [
       "  chrom  start    end                                 name score  strand  \\\n",
       "0  chr1   9944  10676  ewing_and_osteosarcoma_atac_peaks_0  chr1   65419   \n",
       "1  chr1   9949  10686           neuroblastoma_atac_peaks_2  chr1   65419   \n",
       "\n",
       "   thickStart   gene  itemRgb                           category  \n",
       "0       71585  OR4F5    54744  ewing_and_osteosarcoma_atac_peaks  \n",
       "1       71585  OR4F5    54734           neuroblastoma_atac_peaks  "
      ]
     },
     "execution_count": 35,
     "metadata": {},
     "output_type": "execute_result"
    }
   ],
   "source": [
    "closest_genes.head(2)"
   ]
  },
  {
   "cell_type": "markdown",
   "id": "8eca0109-8c4c-4d3d-a3b9-2fb6198954b7",
   "metadata": {},
   "source": [
    "The number of genes identified through this process and the size of our original regions without genes are not the same:"
   ]
  },
  {
   "cell_type": "code",
   "execution_count": 36,
   "id": "223379a6-3ba1-4aa1-a254-fe3e0dd0dc74",
   "metadata": {},
   "outputs": [
    {
     "data": {
      "text/plain": [
       "((665846, 4), (666375, 10))"
      ]
     },
     "execution_count": 36,
     "metadata": {},
     "output_type": "execute_result"
    }
   ],
   "source": [
    "regions_without_genes.shape, closest_genes.shape"
   ]
  },
  {
   "cell_type": "markdown",
   "id": "3c9d0f70-65aa-4107-b60c-861d1c6a196b",
   "metadata": {},
   "source": [
    "What gives?"
   ]
  },
  {
   "cell_type": "code",
   "execution_count": 37,
   "id": "4f22a709-2a4d-43c5-bbad-5ae311a9e559",
   "metadata": {},
   "outputs": [
    {
     "data": {
      "text/html": [
       "<div>\n",
       "<style scoped>\n",
       "    .dataframe tbody tr th:only-of-type {\n",
       "        vertical-align: middle;\n",
       "    }\n",
       "\n",
       "    .dataframe tbody tr th {\n",
       "        vertical-align: top;\n",
       "    }\n",
       "\n",
       "    .dataframe thead th {\n",
       "        text-align: right;\n",
       "    }\n",
       "</style>\n",
       "<table border=\"1\" class=\"dataframe\">\n",
       "  <thead>\n",
       "    <tr style=\"text-align: right;\">\n",
       "      <th></th>\n",
       "      <th>chrom</th>\n",
       "      <th>start</th>\n",
       "      <th>end</th>\n",
       "      <th>name</th>\n",
       "      <th>score</th>\n",
       "      <th>strand</th>\n",
       "      <th>thickStart</th>\n",
       "      <th>gene</th>\n",
       "      <th>itemRgb</th>\n",
       "      <th>category</th>\n",
       "    </tr>\n",
       "  </thead>\n",
       "  <tbody>\n",
       "    <tr>\n",
       "      <th>493230</th>\n",
       "      <td>chr5</td>\n",
       "      <td>141015815</td>\n",
       "      <td>141038615</td>\n",
       "      <td>neuroblastoma_chromHMM15_Quies_851491</td>\n",
       "      <td>chr5</td>\n",
       "      <td>140786136</td>\n",
       "      <td>141012347</td>\n",
       "      <td>PCDHA1</td>\n",
       "      <td>3469</td>\n",
       "      <td>neuroblastoma_chromHMM15_Quies</td>\n",
       "    </tr>\n",
       "    <tr>\n",
       "      <th>493231</th>\n",
       "      <td>chr5</td>\n",
       "      <td>141015815</td>\n",
       "      <td>141038615</td>\n",
       "      <td>neuroblastoma_chromHMM15_Quies_851491</td>\n",
       "      <td>chr5</td>\n",
       "      <td>140794852</td>\n",
       "      <td>141012347</td>\n",
       "      <td>PCDHA2</td>\n",
       "      <td>3469</td>\n",
       "      <td>neuroblastoma_chromHMM15_Quies</td>\n",
       "    </tr>\n",
       "    <tr>\n",
       "      <th>493232</th>\n",
       "      <td>chr5</td>\n",
       "      <td>141015815</td>\n",
       "      <td>141038615</td>\n",
       "      <td>neuroblastoma_chromHMM15_Quies_851491</td>\n",
       "      <td>chr5</td>\n",
       "      <td>140801028</td>\n",
       "      <td>141012347</td>\n",
       "      <td>PCDHA3</td>\n",
       "      <td>3469</td>\n",
       "      <td>neuroblastoma_chromHMM15_Quies</td>\n",
       "    </tr>\n",
       "    <tr>\n",
       "      <th>493233</th>\n",
       "      <td>chr5</td>\n",
       "      <td>141015815</td>\n",
       "      <td>141038615</td>\n",
       "      <td>neuroblastoma_chromHMM15_Quies_851491</td>\n",
       "      <td>chr5</td>\n",
       "      <td>140806929</td>\n",
       "      <td>141012347</td>\n",
       "      <td>PCDHA4</td>\n",
       "      <td>3469</td>\n",
       "      <td>neuroblastoma_chromHMM15_Quies</td>\n",
       "    </tr>\n",
       "    <tr>\n",
       "      <th>493234</th>\n",
       "      <td>chr5</td>\n",
       "      <td>141015815</td>\n",
       "      <td>141038615</td>\n",
       "      <td>neuroblastoma_chromHMM15_Quies_851491</td>\n",
       "      <td>chr5</td>\n",
       "      <td>140821604</td>\n",
       "      <td>141012347</td>\n",
       "      <td>PCDHA5</td>\n",
       "      <td>3469</td>\n",
       "      <td>neuroblastoma_chromHMM15_Quies</td>\n",
       "    </tr>\n",
       "    <tr>\n",
       "      <th>493235</th>\n",
       "      <td>chr5</td>\n",
       "      <td>141015815</td>\n",
       "      <td>141038615</td>\n",
       "      <td>neuroblastoma_chromHMM15_Quies_851491</td>\n",
       "      <td>chr5</td>\n",
       "      <td>140827958</td>\n",
       "      <td>141012347</td>\n",
       "      <td>PCDHA6</td>\n",
       "      <td>3469</td>\n",
       "      <td>neuroblastoma_chromHMM15_Quies</td>\n",
       "    </tr>\n",
       "    <tr>\n",
       "      <th>493236</th>\n",
       "      <td>chr5</td>\n",
       "      <td>141015815</td>\n",
       "      <td>141038615</td>\n",
       "      <td>neuroblastoma_chromHMM15_Quies_851491</td>\n",
       "      <td>chr5</td>\n",
       "      <td>140834248</td>\n",
       "      <td>141012347</td>\n",
       "      <td>PCDHA7</td>\n",
       "      <td>3469</td>\n",
       "      <td>neuroblastoma_chromHMM15_Quies</td>\n",
       "    </tr>\n",
       "    <tr>\n",
       "      <th>493237</th>\n",
       "      <td>chr5</td>\n",
       "      <td>141015815</td>\n",
       "      <td>141038615</td>\n",
       "      <td>neuroblastoma_chromHMM15_Quies_851491</td>\n",
       "      <td>chr5</td>\n",
       "      <td>140841187</td>\n",
       "      <td>141012347</td>\n",
       "      <td>PCDHA8</td>\n",
       "      <td>3469</td>\n",
       "      <td>neuroblastoma_chromHMM15_Quies</td>\n",
       "    </tr>\n",
       "    <tr>\n",
       "      <th>493238</th>\n",
       "      <td>chr5</td>\n",
       "      <td>141015815</td>\n",
       "      <td>141038615</td>\n",
       "      <td>neuroblastoma_chromHMM15_Quies_851491</td>\n",
       "      <td>chr5</td>\n",
       "      <td>140847772</td>\n",
       "      <td>141012347</td>\n",
       "      <td>PCDHA9</td>\n",
       "      <td>3469</td>\n",
       "      <td>neuroblastoma_chromHMM15_Quies</td>\n",
       "    </tr>\n",
       "    <tr>\n",
       "      <th>493239</th>\n",
       "      <td>chr5</td>\n",
       "      <td>141015815</td>\n",
       "      <td>141038615</td>\n",
       "      <td>neuroblastoma_chromHMM15_Quies_851491</td>\n",
       "      <td>chr5</td>\n",
       "      <td>140855883</td>\n",
       "      <td>141012347</td>\n",
       "      <td>PCDHA10</td>\n",
       "      <td>3469</td>\n",
       "      <td>neuroblastoma_chromHMM15_Quies</td>\n",
       "    </tr>\n",
       "    <tr>\n",
       "      <th>493240</th>\n",
       "      <td>chr5</td>\n",
       "      <td>141015815</td>\n",
       "      <td>141038615</td>\n",
       "      <td>neuroblastoma_chromHMM15_Quies_851491</td>\n",
       "      <td>chr5</td>\n",
       "      <td>140868183</td>\n",
       "      <td>141012347</td>\n",
       "      <td>PCDHA11</td>\n",
       "      <td>3469</td>\n",
       "      <td>neuroblastoma_chromHMM15_Quies</td>\n",
       "    </tr>\n",
       "    <tr>\n",
       "      <th>493241</th>\n",
       "      <td>chr5</td>\n",
       "      <td>141015815</td>\n",
       "      <td>141038615</td>\n",
       "      <td>neuroblastoma_chromHMM15_Quies_851491</td>\n",
       "      <td>chr5</td>\n",
       "      <td>140875302</td>\n",
       "      <td>141012347</td>\n",
       "      <td>PCDHA12</td>\n",
       "      <td>3469</td>\n",
       "      <td>neuroblastoma_chromHMM15_Quies</td>\n",
       "    </tr>\n",
       "    <tr>\n",
       "      <th>493242</th>\n",
       "      <td>chr5</td>\n",
       "      <td>141015815</td>\n",
       "      <td>141038615</td>\n",
       "      <td>neuroblastoma_chromHMM15_Quies_851491</td>\n",
       "      <td>chr5</td>\n",
       "      <td>140882124</td>\n",
       "      <td>141012347</td>\n",
       "      <td>PCDHA13</td>\n",
       "      <td>3469</td>\n",
       "      <td>neuroblastoma_chromHMM15_Quies</td>\n",
       "    </tr>\n",
       "    <tr>\n",
       "      <th>493243</th>\n",
       "      <td>chr5</td>\n",
       "      <td>141015815</td>\n",
       "      <td>141038615</td>\n",
       "      <td>neuroblastoma_chromHMM15_Quies_851491</td>\n",
       "      <td>chr5</td>\n",
       "      <td>140926299</td>\n",
       "      <td>141012347</td>\n",
       "      <td>PCDHAC1</td>\n",
       "      <td>3469</td>\n",
       "      <td>neuroblastoma_chromHMM15_Quies</td>\n",
       "    </tr>\n",
       "    <tr>\n",
       "      <th>493244</th>\n",
       "      <td>chr5</td>\n",
       "      <td>141015815</td>\n",
       "      <td>141038615</td>\n",
       "      <td>neuroblastoma_chromHMM15_Quies_851491</td>\n",
       "      <td>chr5</td>\n",
       "      <td>140966470</td>\n",
       "      <td>141012347</td>\n",
       "      <td>PCDHAC2</td>\n",
       "      <td>3469</td>\n",
       "      <td>neuroblastoma_chromHMM15_Quies</td>\n",
       "    </tr>\n",
       "  </tbody>\n",
       "</table>\n",
       "</div>"
      ],
      "text/plain": [
       "       chrom      start        end                                   name  \\\n",
       "493230  chr5  141015815  141038615  neuroblastoma_chromHMM15_Quies_851491   \n",
       "493231  chr5  141015815  141038615  neuroblastoma_chromHMM15_Quies_851491   \n",
       "493232  chr5  141015815  141038615  neuroblastoma_chromHMM15_Quies_851491   \n",
       "493233  chr5  141015815  141038615  neuroblastoma_chromHMM15_Quies_851491   \n",
       "493234  chr5  141015815  141038615  neuroblastoma_chromHMM15_Quies_851491   \n",
       "493235  chr5  141015815  141038615  neuroblastoma_chromHMM15_Quies_851491   \n",
       "493236  chr5  141015815  141038615  neuroblastoma_chromHMM15_Quies_851491   \n",
       "493237  chr5  141015815  141038615  neuroblastoma_chromHMM15_Quies_851491   \n",
       "493238  chr5  141015815  141038615  neuroblastoma_chromHMM15_Quies_851491   \n",
       "493239  chr5  141015815  141038615  neuroblastoma_chromHMM15_Quies_851491   \n",
       "493240  chr5  141015815  141038615  neuroblastoma_chromHMM15_Quies_851491   \n",
       "493241  chr5  141015815  141038615  neuroblastoma_chromHMM15_Quies_851491   \n",
       "493242  chr5  141015815  141038615  neuroblastoma_chromHMM15_Quies_851491   \n",
       "493243  chr5  141015815  141038615  neuroblastoma_chromHMM15_Quies_851491   \n",
       "493244  chr5  141015815  141038615  neuroblastoma_chromHMM15_Quies_851491   \n",
       "\n",
       "       score     strand  thickStart     gene  itemRgb  \\\n",
       "493230  chr5  140786136   141012347   PCDHA1     3469   \n",
       "493231  chr5  140794852   141012347   PCDHA2     3469   \n",
       "493232  chr5  140801028   141012347   PCDHA3     3469   \n",
       "493233  chr5  140806929   141012347   PCDHA4     3469   \n",
       "493234  chr5  140821604   141012347   PCDHA5     3469   \n",
       "493235  chr5  140827958   141012347   PCDHA6     3469   \n",
       "493236  chr5  140834248   141012347   PCDHA7     3469   \n",
       "493237  chr5  140841187   141012347   PCDHA8     3469   \n",
       "493238  chr5  140847772   141012347   PCDHA9     3469   \n",
       "493239  chr5  140855883   141012347  PCDHA10     3469   \n",
       "493240  chr5  140868183   141012347  PCDHA11     3469   \n",
       "493241  chr5  140875302   141012347  PCDHA12     3469   \n",
       "493242  chr5  140882124   141012347  PCDHA13     3469   \n",
       "493243  chr5  140926299   141012347  PCDHAC1     3469   \n",
       "493244  chr5  140966470   141012347  PCDHAC2     3469   \n",
       "\n",
       "                              category  \n",
       "493230  neuroblastoma_chromHMM15_Quies  \n",
       "493231  neuroblastoma_chromHMM15_Quies  \n",
       "493232  neuroblastoma_chromHMM15_Quies  \n",
       "493233  neuroblastoma_chromHMM15_Quies  \n",
       "493234  neuroblastoma_chromHMM15_Quies  \n",
       "493235  neuroblastoma_chromHMM15_Quies  \n",
       "493236  neuroblastoma_chromHMM15_Quies  \n",
       "493237  neuroblastoma_chromHMM15_Quies  \n",
       "493238  neuroblastoma_chromHMM15_Quies  \n",
       "493239  neuroblastoma_chromHMM15_Quies  \n",
       "493240  neuroblastoma_chromHMM15_Quies  \n",
       "493241  neuroblastoma_chromHMM15_Quies  \n",
       "493242  neuroblastoma_chromHMM15_Quies  \n",
       "493243  neuroblastoma_chromHMM15_Quies  \n",
       "493244  neuroblastoma_chromHMM15_Quies  "
      ]
     },
     "execution_count": 37,
     "metadata": {},
     "output_type": "execute_result"
    }
   ],
   "source": [
    "region_counts = closest_genes['name'].value_counts()\n",
    "duplicate_regions = region_counts[region_counts > 1]\n",
    "\n",
    "closest_genes[closest_genes['name'] == 'neuroblastoma_chromHMM15_Quies_851491']"
   ]
  },
  {
   "cell_type": "markdown",
   "id": "98ec315e-3923-4741-8b30-be19e8e5da99",
   "metadata": {},
   "source": [
    "I see. This is an issue with pseudogenes, etc. Well, I suppose we have to keep them."
   ]
  },
  {
   "cell_type": "code",
   "execution_count": 38,
   "id": "029d1086-2036-47a0-a094-93971ef7ed04",
   "metadata": {},
   "outputs": [],
   "source": [
    "genes_in_regions = genes_in_regions.query('gene != \".\"')"
   ]
  },
  {
   "cell_type": "markdown",
   "id": "228e6142-5844-4ab6-9edd-226090c645e6",
   "metadata": {},
   "source": [
    "We now convert these to lookup dictionaries for easy access."
   ]
  },
  {
   "cell_type": "code",
   "execution_count": 42,
   "id": "a95cf762-cc27-4766-be70-2a36910d628c",
   "metadata": {},
   "outputs": [],
   "source": [
    "region_gene_lookup = {}\n",
    "\n",
    "for disease, schema in framework_schema.items():\n",
    "    \n",
    "    region_gene_lookup[disease] = defaultdict(dict)\n",
    "    \n",
    "    for region in schema['non-coding']['functional_category']:\n",
    "        within_genes = set(genes_in_regions[genes_in_regions['category'] == region]['gene'])\n",
    "        close_genes = set(closest_genes[closest_genes['category'] == region]['gene'])\n",
    "        \n",
    "        region_gene_lookup[disease][region]['within'] = within_genes\n",
    "        region_gene_lookup[disease][region]['closest'] = close_genes"
   ]
  },
  {
   "cell_type": "markdown",
   "id": "94b9307f-a666-45d6-924a-4dff45763a9b",
   "metadata": {},
   "source": [
    "# Create our gene lists\n",
    "\n",
    "Alright, now for the tricky part. For each category, we need to create a gene list. It's pretty clear to me that the best way to store this is in a sparse matrix. Each row will be a gene, and each column a category. The element will be 1 if that gene is eligible for that category and 0 otherwise.\n",
    "\n",
    "Each category starts with all of the reference genes being eligible and then progressively shrinks to fit the category's requirements."
   ]
  },
  {
   "cell_type": "code",
   "execution_count": 43,
   "id": "2d0a45fc-102e-40ce-9824-4751205668ed",
   "metadata": {},
   "outputs": [
    {
     "data": {
      "text/plain": [
       "19092"
      ]
     },
     "execution_count": 43,
     "metadata": {},
     "output_type": "execute_result"
    }
   ],
   "source": [
    "gene_ref = gene_subset['gene_name'].tolist()\n",
    "len(gene_ref)"
   ]
  },
  {
   "cell_type": "markdown",
   "id": "1bb9ea4d-c84b-448e-8f73-e676350d4b47",
   "metadata": {},
   "source": [
    "## Some examples"
   ]
  },
  {
   "cell_type": "markdown",
   "id": "5fb062b5-75f8-494d-9d78-bc1e3a5caca5",
   "metadata": {},
   "source": [
    "So ~19k genes are eligible as the \"master\" protein_coding list. An example, let's consider a few categories:"
   ]
  },
  {
   "cell_type": "code",
   "execution_count": 44,
   "id": "ae0c39d3-5f38-4ebf-8736-277ff32b38dd",
   "metadata": {},
   "outputs": [],
   "source": [
    "example_category = 'DEL.SINGLETON.ANY.ANY.ANY.protein_coding'"
   ]
  },
  {
   "cell_type": "markdown",
   "id": "dca6185b-a5fb-4392-961f-17db81b54e66",
   "metadata": {},
   "source": [
    "This category receives no reductions whatsoever."
   ]
  },
  {
   "cell_type": "code",
   "execution_count": 45,
   "id": "4952cf66-18d9-43b6-9ed3-3cfada8f8e55",
   "metadata": {},
   "outputs": [],
   "source": [
    "test_cat = 'ANY.SINGLETON.PREDICTED_NONCODING_SPAN.neuroblastoma_H3K27Ac_peak.PREDICTED_INTRONIC.ANY.ANY.protein_coding'"
   ]
  },
  {
   "cell_type": "markdown",
   "id": "e3e12c49-a9de-49bb-a24a-5c7d6f83db49",
   "metadata": {},
   "source": [
    "This category receives one reduction--from `neuroblastoma_H3K27Ac_peak`"
   ]
  },
  {
   "cell_type": "code",
   "execution_count": 48,
   "id": "fbe576c5-76f2-493a-9938-c7e74b11145c",
   "metadata": {},
   "outputs": [
    {
     "data": {
      "text/plain": [
       "13580"
      ]
     },
     "execution_count": 48,
     "metadata": {},
     "output_type": "execute_result"
    }
   ],
   "source": [
    "neuroblastoma_H3K27Ac_peak_genes = region_gene_lookup['neuroblastoma']['neuroblastoma_H3K27Ac_peak']['within']\n",
    "len(neuroblastoma_H3K27Ac_peak_genes)"
   ]
  },
  {
   "cell_type": "code",
   "execution_count": 49,
   "id": "7a484492-99b1-414c-8efa-7b496a1b3d80",
   "metadata": {},
   "outputs": [
    {
     "data": {
      "text/plain": [
       "13580"
      ]
     },
     "execution_count": 49,
     "metadata": {},
     "output_type": "execute_result"
    }
   ],
   "source": [
    "len(set(neuroblastoma_H3K27Ac_peak_genes) & set(gene_ref))"
   ]
  },
  {
   "cell_type": "markdown",
   "id": "30dfefcf-98f7-47ea-9946-e4fbc79a0483",
   "metadata": {},
   "source": [
    "So from 19k genes down to 13.5k genes."
   ]
  },
  {
   "cell_type": "code",
   "execution_count": 50,
   "id": "45fc6160-df0a-481e-a80a-ddce97b3b1d2",
   "metadata": {},
   "outputs": [],
   "source": [
    "test_cat = 'ANY.SINGLETON.PREDICTED_NONCODING_BREAKPOINT.neuroblastoma_tad_boundary.ANY.ANY.ANY.protein_coding'"
   ]
  },
  {
   "cell_type": "markdown",
   "id": "08153176-5e3a-4585-9adb-b632b865f64f",
   "metadata": {},
   "source": [
    "This framework receives two reductions--one for `neuroblastoma_tad_boundary` and one for `genic_relationship == \"ANY\"`, which contains within it `genic_relationship == \"INTERGENIC\"`. This means we need to include the closest genes as well."
   ]
  },
  {
   "cell_type": "code",
   "execution_count": 51,
   "id": "f5e3410c-1e8c-4fbe-98fe-eefacc536c7e",
   "metadata": {},
   "outputs": [
    {
     "name": "stdout",
     "output_type": "stream",
     "text": [
      "4389 2153\n"
     ]
    },
    {
     "data": {
      "text/plain": [
       "5936"
      ]
     },
     "execution_count": 51,
     "metadata": {},
     "output_type": "execute_result"
    }
   ],
   "source": [
    "neuroblastoma_tad_boundary_genes = region_gene_lookup['neuroblastoma']['neuroblastoma_tad_boundary']['within']\n",
    "neuroblastoma_tad_boundary_genes_closest = region_gene_lookup['neuroblastoma']['neuroblastoma_tad_boundary']['closest']\n",
    "print(len(neuroblastoma_tad_boundary_genes), len(neuroblastoma_tad_boundary_genes_closest))\n",
    "\n",
    "neuroblastoma_tad_boundary_genes = neuroblastoma_tad_boundary_genes | neuroblastoma_tad_boundary_genes_closest\n",
    "len(neuroblastoma_tad_boundary_genes)"
   ]
  },
  {
   "cell_type": "markdown",
   "id": "1ac5478c-bfe7-4630-abf1-6abb91132f0d",
   "metadata": {},
   "source": [
    "## Formalize the calculation of gene lists\n",
    "\n",
    "We define a quick function to make this easier. Poor coding practice to use globals, but eh."
   ]
  },
  {
   "cell_type": "code",
   "execution_count": 57,
   "id": "714c257e-4b65-4a09-8aaf-5f1f649612d0",
   "metadata": {},
   "outputs": [],
   "source": [
    "def category_to_gene_list(disease, category, sv_effect, genes_in_regions, closest_genes, region_gene_lookup, reference_list):\n",
    "    '''Takes in a category and its effect (coding or non-coding) and returns a gene list of eligible genes in that category.\n",
    "    Takes in a reference gene list that will be subset as well.'''\n",
    "    \n",
    "    \n",
    "    framework = framework_schema[disease]\n",
    "    category_genes = set(reference_list.copy())\n",
    "    \n",
    "    if sv_effect == \"coding\":\n",
    "        components = dict(zip(framework['coding'].columns, category.split('.')))\n",
    "            \n",
    "    elif sv_effect == \"non-coding\":\n",
    "        components = dict(zip(framework['non-coding'].columns, category.split('.')))\n",
    "        \n",
    "    # we only analyze two gene groups\n",
    "    gene_group = components['gene_group']\n",
    "    if gene_group not in ['protein_coding', 'cosmic_and_germline_CPGs']:\n",
    "        raise ValueError(f'gene_group {gene_group} not valid.')\n",
    "        \n",
    "    # apply constraints\n",
    "    constraint = components['constraint']\n",
    "    if components['constraint'] in ['lof_constrained', 'missense_constrained', 'unconstrained']:\n",
    "        category_genes = category_genes & set(gene_restrictions[constraint])\n",
    "    \n",
    "    # apply expression\n",
    "    if components['expression'] in ['expressed_in_adrenal_gland', 'expressed_in_muscle_skeletal']:\n",
    "        category_genes = category_genes & set(gene_restrictions[components['expression']])\n",
    "    \n",
    "    # if the sv is a non-coding SV, there are still more restrictions\n",
    "    if sv_effect == \"non-coding\":\n",
    "        \n",
    "        functional_lookup = region_gene_lookup[disease]\n",
    "        \n",
    "        # apply gene group if necessary\n",
    "        if components['gene_group'] == 'cosmic_and_germline_CPGs':\n",
    "            category_genes = category_genes & set(gene_restrictions['cosmic_and_germline_CPGs'])\n",
    "            \n",
    "        # then, assess the functional category\n",
    "        func_cat = components['functional_category']\n",
    "        func_cat_genes = functional_lookup[func_cat]['within']\n",
    "        \n",
    "        # then, we check the genic relationship, which determines whether we need the closest genes as well\n",
    "        if components['genic_relationship'] in ['ANY', 'PREDICTED_INTERGENIC']:\n",
    "            cat_closest_genes = functional_lookup[func_cat]['closest']\n",
    "            func_cat_genes = func_cat_genes | cat_closest_genes\n",
    "            \n",
    "        # with this in mind, merge\n",
    "        category_genes = category_genes & func_cat_genes\n",
    "        \n",
    "    return category_genes"
   ]
  },
  {
   "cell_type": "code",
   "execution_count": 58,
   "id": "50cfbbcc-eb29-4d0e-b306-0efb895cfd99",
   "metadata": {},
   "outputs": [
    {
     "name": "stdout",
     "output_type": "stream",
     "text": [
      "5936\n"
     ]
    }
   ],
   "source": [
    "test_cat = 'ANY.SINGLETON.PREDICTED_NONCODING_BREAKPOINT.neuroblastoma_tad_boundary.ANY.ANY.ANY.protein_coding'\n",
    "category_genes = category_to_gene_list('neuroblastoma', test_cat, 'non-coding', genes_in_regions, closest_genes, region_gene_lookup, gene_ref)\n",
    "print(len(category_genes))"
   ]
  },
  {
   "cell_type": "markdown",
   "id": "a50604b1-aa5a-4f9a-8bf8-c768c6b8e4f2",
   "metadata": {},
   "source": [
    "## Create our category-gene matrix"
   ]
  },
  {
   "cell_type": "code",
   "execution_count": 71,
   "id": "a7380020-cd72-4904-a6cb-bb257531e2f2",
   "metadata": {},
   "outputs": [],
   "source": [
    "included_categories = framework_results[framework_results['category_name'].apply(lambda cn: cn.split('.')[-1] in ['protein_coding', 'cosmic_and_germline_CPGs'])].reset_index(drop = True)\n",
    "\n",
    "# we drop duplicate categories here, since disease doesn't matter\n",
    "included_categories = included_categories.drop_duplicates(subset = 'category_name')"
   ]
  },
  {
   "cell_type": "code",
   "execution_count": 72,
   "id": "0325310d-e834-40ba-be08-b548fb634e65",
   "metadata": {},
   "outputs": [],
   "source": [
    "category_gene_matrix = pd.DataFrame(0, index = included_categories['category_name'].tolist(), columns = sorted(gene_ref))"
   ]
  },
  {
   "cell_type": "code",
   "execution_count": 73,
   "id": "1178e806-0be3-4610-9936-6289ac2194f9",
   "metadata": {},
   "outputs": [
    {
     "data": {
      "text/plain": [
       "(13460, 19092)"
      ]
     },
     "execution_count": 73,
     "metadata": {},
     "output_type": "execute_result"
    }
   ],
   "source": [
    "category_gene_matrix.shape"
   ]
  },
  {
   "cell_type": "code",
   "execution_count": 74,
   "id": "192f2c1a-3818-4e6e-bc6e-c4c79ea2ee46",
   "metadata": {},
   "outputs": [
    {
     "name": "stdout",
     "output_type": "stream",
     "text": [
      "0, 100, 200, 300, 400, 500, 600, 700, 800, 900, 1000, 1100, 1200, 1300, 1400, 1500, 1600, 1700, 1800, 1900, 2000, 2100, 2200, 2300, 2400, 2500, 2600, 2700, 2800, 2900, 3000, 3100, 3200, 3300, 3400, 3500, 3600, 3700, 3800, 3900, 4000, 4100, 4200, 4300, 4400, 4500, 4600, 4700, 4800, 4900, 5000, 5100, 5200, 5300, 5400, 5500, 5600, 5700, 5800, 5900, 6000, 6100, 6200, 6300, 6400, 6500, 6600, 6700, 6800, 6900, 7000, 7100, 7200, 7300, 7500, 7600, 7700, 7800, 7900, 8000, 8200, 8300, 8400, 8500, 8600, 8700, 8900, 9000, 9100, 9200, 9300, 9400, 9500, 9600, 9700, 9800, 9900, 10000, 10100, 10200, 10300, 10400, 10500, 10600, 10700, 10800, 10900, 11000, 11100, 11300, 11400, 11500, 11600, 11700, 11800, 11900, 12000, 12100, 12200, 12300, 12400, 12500, 12600, 12700, 12800, 12900, 13000, 13100, 13300, 13400, 13500, 13700, 13800, 13900, 14000, 14100, "
     ]
    }
   ],
   "source": [
    "for index, row in included_categories.iterrows():\n",
    "    if index % 100 == 0:\n",
    "        print(index, end = ', ')\n",
    "        \n",
    "    disease = row['disease']\n",
    "    category = row['category_name']\n",
    "    sv_category = row['sv_category']\n",
    "    \n",
    "    if category.split('.')[-1] not in ['protein_coding', 'cosmic_and_germline_CPGs']:\n",
    "        continue\n",
    "    \n",
    "    genes_in_category = category_to_gene_list(disease, category, sv_category, genes_in_regions, closest_genes, region_gene_lookup, gene_ref)\n",
    "    \n",
    "    category_gene_matrix.loc[category, genes_in_category] = 1"
   ]
  },
  {
   "cell_type": "code",
   "execution_count": 75,
   "id": "bf0e91e7-872d-4dd1-8825-b938b82449a8",
   "metadata": {},
   "outputs": [
    {
     "data": {
      "text/plain": [
       "DUP.RARE.PREDICTED_NONCODING_BREAKPOINT.fragile_site.ANY.lof_constrained.expressed_in_adrenal_gland.protein_coding                             2\n",
       "INS_ALL.RARE.PREDICTED_NONCODING_BREAKPOINT.fragile_site.PREDICTED_INTRONIC.lof_constrained.expressed_in_adrenal_gland.protein_coding          2\n",
       "INS_ALL.RARE.PREDICTED_NONCODING_BREAKPOINT.fragile_site.PREDICTED_INTERGENIC.lof_constrained.expressed_in_adrenal_gland.protein_coding        2\n",
       "ANY.RARE.PREDICTED_NONCODING_BREAKPOINT.fragile_site.ANY.ANY.ANY.cosmic_and_germline_CPGs                                                      2\n",
       "ANY.RARE.PREDICTED_NONCODING_BREAKPOINT.fragile_site.PREDICTED_INTRONIC.ANY.ANY.cosmic_and_germline_CPGs                                       2\n",
       "                                                                                                                                           ...  \n",
       "INS_ALL.SINGLETON.ANY.ANY.ANY.protein_coding                                                                                               19092\n",
       "INS_ALL.SINGLETON.PREDICTED_LOF_or_PREDICTED_PARTIAL_EXON_DUP.ANY.ANY.protein_coding                                                       19092\n",
       "CPX_or_INV.SINGLETON.ANY.ANY.ANY.protein_coding                                                                                            19092\n",
       "DEL.RARE.ANY.ANY.ANY.protein_coding                                                                                                        19092\n",
       "CPX_or_INV.RARE.ANY.ANY.ANY.protein_coding                                                                                                 19092\n",
       "Length: 13398, dtype: int64"
      ]
     },
     "execution_count": 75,
     "metadata": {},
     "output_type": "execute_result"
    }
   ],
   "source": [
    "counts = category_gene_matrix.sum(axis = 1)\n",
    "counts[counts > 1].sort_values()"
   ]
  },
  {
   "cell_type": "markdown",
   "id": "79eeae77-ac9f-4c45-977f-d441b8a3612f",
   "metadata": {},
   "source": [
    "We start to see some of the severe restrictions for some of these categories"
   ]
  },
  {
   "cell_type": "markdown",
   "id": "95ef4b85-d31c-4d81-8f60-ce5594fcf205",
   "metadata": {},
   "source": [
    "# Export"
   ]
  },
  {
   "cell_type": "code",
   "execution_count": 76,
   "id": "b1dfbf5a-f402-446c-9c03-abd214539ffb",
   "metadata": {},
   "outputs": [],
   "source": [
    "category_gene_matrix.index.name = 'category'"
   ]
  },
  {
   "cell_type": "code",
   "execution_count": 77,
   "id": "2f157b4e-19c4-4d3a-ba09-1a57a8b7e683",
   "metadata": {},
   "outputs": [],
   "source": [
    "category_gene_matrix.to_csv('data/cwas-results/category-gene-matrix.csv')"
   ]
  },
  {
   "cell_type": "markdown",
   "id": "604f6cb5-f754-418d-8a07-a51f82595534",
   "metadata": {},
   "source": [
    "# Run gene set enrichment on the categories themselves\n",
    "\n",
    "We end up running a ton of gene set enrichments in a variety of contexts for the CWAS results. I want to run the gene set enrichment for the categories at baseline here."
   ]
  },
  {
   "cell_type": "code",
   "execution_count": 147,
   "id": "c742e107-cd1c-4590-818c-01017d7addca",
   "metadata": {},
   "outputs": [],
   "source": [
    "category_gene_matrix = pd.read_csv('data/cwas-results/category-gene-matrix.csv').set_index('category')"
   ]
  },
  {
   "cell_type": "markdown",
   "id": "ad44bf4d-a353-4a5c-8943-a54d3ed9ddd6",
   "metadata": {},
   "source": [
    "We subset to significant categories, because these are the only ones that we care about."
   ]
  },
  {
   "cell_type": "code",
   "execution_count": 85,
   "id": "c4b53ffc-165d-473c-a47c-d492d98ef04a",
   "metadata": {},
   "outputs": [
    {
     "data": {
      "text/plain": [
       "neuroblastoma    151\n",
       "ewing             13\n",
       "Name: disease, dtype: int64"
      ]
     },
     "execution_count": 85,
     "metadata": {},
     "output_type": "execute_result"
    }
   ],
   "source": [
    "framework_results.query('negative_log10_p_value > 3.0')['disease'].value_counts()"
   ]
  },
  {
   "cell_type": "code",
   "execution_count": 78,
   "id": "af8e8aa9-fe41-4ecc-a0c0-5c3c33178184",
   "metadata": {},
   "outputs": [],
   "source": [
    "analysis_categories = framework_results.query('negative_log10_p_value > 3.0')\n",
    "analysis_category_gene_matrix = category_gene_matrix.loc[analysis_categories['category_name'].tolist()]"
   ]
  },
  {
   "cell_type": "code",
   "execution_count": 79,
   "id": "58e55322-797d-4323-a3f3-604adeae6613",
   "metadata": {},
   "outputs": [],
   "source": [
    "gene_ref = set(category_gene_matrix.columns)"
   ]
  },
  {
   "cell_type": "markdown",
   "id": "5340cc77-785b-45ed-b663-3624e0de1e2d",
   "metadata": {},
   "source": [
    "Read in the gene sets"
   ]
  },
  {
   "cell_type": "code",
   "execution_count": 80,
   "id": "bd9663d2-e029-48ae-8efd-7f536d395e52",
   "metadata": {},
   "outputs": [],
   "source": [
    "gene_sets = {}\n",
    "with open('ref/gene-sets.txt') as gs_in:\n",
    "    for line in gs_in:\n",
    "        comp = line.strip().split('\\t')\n",
    "        db = comp[0]\n",
    "        gs = comp[1]\n",
    "        genes = comp[2:]\n",
    "        gene_sets[db + ' | ' + gs] = genes"
   ]
  },
  {
   "cell_type": "code",
   "execution_count": 81,
   "id": "c071b47b-c4cf-46e2-b080-73c2860e7c05",
   "metadata": {},
   "outputs": [
    {
     "data": {
      "text/plain": [
       "26983"
      ]
     },
     "execution_count": 81,
     "metadata": {},
     "output_type": "execute_result"
    }
   ],
   "source": [
    "len(gene_sets)"
   ]
  },
  {
   "cell_type": "markdown",
   "id": "6ab817a5-5fcf-4f39-8b39-95e10821f41e",
   "metadata": {},
   "source": [
    "We convert both our gene sets and categories to sparse matrices."
   ]
  },
  {
   "cell_type": "code",
   "execution_count": 82,
   "id": "3dd5435f-13f8-4d5d-b37c-a59da0a53a12",
   "metadata": {},
   "outputs": [],
   "source": [
    "import scipy.sparse"
   ]
  },
  {
   "cell_type": "code",
   "execution_count": 83,
   "id": "9e13d1de-3808-4f6d-ad54-759927c10c15",
   "metadata": {},
   "outputs": [],
   "source": [
    "cat_gene_sparse_mtx = scipy.sparse.csr_matrix(analysis_category_gene_matrix.values)"
   ]
  },
  {
   "cell_type": "code",
   "execution_count": 86,
   "id": "07ccee85-ce2e-4a5f-baf7-cfa9bea7b3cb",
   "metadata": {},
   "outputs": [
    {
     "data": {
      "text/plain": [
       "<164x19092 sparse matrix of type '<class 'numpy.int64'>'\n",
       "\twith 1143473 stored elements in Compressed Sparse Row format>"
      ]
     },
     "execution_count": 86,
     "metadata": {},
     "output_type": "execute_result"
    }
   ],
   "source": [
    "cat_gene_sparse_mtx"
   ]
  },
  {
   "cell_type": "code",
   "execution_count": 87,
   "id": "57bfada1-b2da-423f-b87b-f598952b824d",
   "metadata": {},
   "outputs": [],
   "source": [
    "gene_to_idx = {gene: i for i, gene in enumerate(analysis_category_gene_matrix.columns)}\n",
    "cat_to_idx = {cat: i for i, cat in enumerate(analysis_category_gene_matrix.index)}"
   ]
  },
  {
   "cell_type": "code",
   "execution_count": 88,
   "id": "1d67e384-00af-49ae-b6b7-f0f35b92f37a",
   "metadata": {},
   "outputs": [],
   "source": [
    "gs_to_idx = {}\n",
    "\n",
    "values = []\n",
    "row_indices = []\n",
    "column_indices = []\n",
    "for i, (gs, genes) in enumerate(gene_sets.items()):\n",
    "    gs_to_idx[gs] = i\n",
    "    \n",
    "    column_indices += [gene_to_idx[g] for g in genes]\n",
    "    row_indices += [i] * len(genes)\n",
    "    values += [1] * len(genes)\n",
    "    \n",
    "values = np.array(values)\n",
    "row_indices = np.array(row_indices)\n",
    "column_indices = np.array(column_indices)"
   ]
  },
  {
   "cell_type": "code",
   "execution_count": 89,
   "id": "c226169d-1059-4d0b-b3a9-f9eda1159b29",
   "metadata": {},
   "outputs": [],
   "source": [
    "gs_gene_sparse_mtx = scipy.sparse.csr_matrix((values, (row_indices, column_indices)), \n",
    "                                             shape = (len(gs_to_idx), len(gene_to_idx))).T"
   ]
  },
  {
   "cell_type": "code",
   "execution_count": 90,
   "id": "2349635e-8e97-4598-8cab-93f68b8bdbb2",
   "metadata": {},
   "outputs": [
    {
     "data": {
      "text/plain": [
       "<19092x26983 sparse matrix of type '<class 'numpy.int64'>'\n",
       "\twith 1008081 stored elements in Compressed Sparse Column format>"
      ]
     },
     "execution_count": 90,
     "metadata": {},
     "output_type": "execute_result"
    }
   ],
   "source": [
    "gs_gene_sparse_mtx"
   ]
  },
  {
   "cell_type": "markdown",
   "id": "2ef09cc0-f9ce-4ab2-9ef7-40126af69b1f",
   "metadata": {},
   "source": [
    "We use some nice matrix math to pull out all our elements for the contingency table."
   ]
  },
  {
   "cell_type": "code",
   "execution_count": 91,
   "id": "7e1a2b62-a888-4e9f-a9bf-c2ef26925878",
   "metadata": {},
   "outputs": [],
   "source": [
    "cat_and_gs = cat_gene_sparse_mtx.dot(gs_gene_sparse_mtx).todense().A\n",
    "cat_and_not_gs = (cat_gene_sparse_mtx.sum(axis = 1) - cat_and_gs).A\n",
    "not_cat_and_gs = (gs_gene_sparse_mtx.sum(axis = 0) - cat_and_gs).A\n",
    "\n",
    "# a bit of math\n",
    "I = np.ones(shape = (cat_gene_sparse_mtx.shape[0], gs_gene_sparse_mtx.shape[1])) * cat_gene_sparse_mtx.shape[1]\n",
    "not_cat_and_not_gs = (I - cat_and_not_gs - not_cat_and_gs - cat_and_gs)"
   ]
  },
  {
   "cell_type": "markdown",
   "id": "8c11f4ec-04f9-4865-960b-498dcdda9e18",
   "metadata": {},
   "source": [
    "We now pass this to our vectorized fishers exact test"
   ]
  },
  {
   "cell_type": "code",
   "execution_count": 92,
   "id": "5449d92f-ab57-41f3-b40a-f3500fa6a6b2",
   "metadata": {},
   "outputs": [],
   "source": [
    "categories = []\n",
    "for c in analysis_category_gene_matrix.index:\n",
    "    categories += [c] * cat_and_gs.shape[1]\n",
    "    \n",
    "gene_sets = list(gs_to_idx.keys()) * cat_and_gs.shape[0]"
   ]
  },
  {
   "cell_type": "code",
   "execution_count": 93,
   "id": "3f2b127a-3f1e-47b2-8920-e586c3da4715",
   "metadata": {},
   "outputs": [
    {
     "name": "stderr",
     "output_type": "stream",
     "text": [
      "/Users/jettcrowdis/opt/anaconda3/envs/pediatric-germline-svs-3.7.13/lib/python3.7/site-packages/pyranges/statistics.py:163: RuntimeWarning: invalid value encountered in true_divide\n",
      "  OR = ((tp + pseudocount) / (fp + pseudocount)) / ((fn + pseudocount) / (tn + pseudocount))\n",
      "/Users/jettcrowdis/opt/anaconda3/envs/pediatric-germline-svs-3.7.13/lib/python3.7/site-packages/pyranges/statistics.py:163: RuntimeWarning: divide by zero encountered in true_divide\n",
      "  OR = ((tp + pseudocount) / (fp + pseudocount)) / ((fn + pseudocount) / (tn + pseudocount))\n"
     ]
    }
   ],
   "source": [
    "tp = cat_and_gs.ravel().astype(int)\n",
    "fp = cat_and_not_gs.ravel().astype(int)\n",
    "fn = not_cat_and_gs.ravel().astype(int)\n",
    "tn = not_cat_and_not_gs.ravel().astype(int)\n",
    "\n",
    "results = pyranges.statistics.fisher_exact(tp, fp, fn, tn, pseudocount = 0)\n",
    "results['expected'] = pd.Series((fn + tp).astype(str)) + '/' + pd.Series((fp + tn + tp + fn).astype(str))\n",
    "results['data'] = pd.Series((tp).astype(str)) + '/' + pd.Series((tp + fp).astype(str))\n",
    "results['db'] = [string.split(' | ')[0] for string in gene_sets]\n",
    "results['gs'] = [string.split(' | ')[1] for string in gene_sets]\n",
    "results['category'] = categories\n",
    "\n",
    "results = results[['db', 'gs', 'category', 'expected', 'data', 'OR', 'P']]\n",
    "results = results.rename(columns = {'OR': 'odds_ratio', 'P': 'p'})"
   ]
  },
  {
   "cell_type": "code",
   "execution_count": 94,
   "id": "91dc34cc-a9b4-4baf-99c4-e16e2fc55f86",
   "metadata": {},
   "outputs": [
    {
     "data": {
      "text/html": [
       "<div>\n",
       "<style scoped>\n",
       "    .dataframe tbody tr th:only-of-type {\n",
       "        vertical-align: middle;\n",
       "    }\n",
       "\n",
       "    .dataframe tbody tr th {\n",
       "        vertical-align: top;\n",
       "    }\n",
       "\n",
       "    .dataframe thead th {\n",
       "        text-align: right;\n",
       "    }\n",
       "</style>\n",
       "<table border=\"1\" class=\"dataframe\">\n",
       "  <thead>\n",
       "    <tr style=\"text-align: right;\">\n",
       "      <th></th>\n",
       "      <th>db</th>\n",
       "      <th>gs</th>\n",
       "      <th>category</th>\n",
       "      <th>expected</th>\n",
       "      <th>data</th>\n",
       "      <th>odds_ratio</th>\n",
       "      <th>p</th>\n",
       "    </tr>\n",
       "  </thead>\n",
       "  <tbody>\n",
       "    <tr>\n",
       "      <th>0</th>\n",
       "      <td>MSigDB_Hallmark_2020</td>\n",
       "      <td>TNF-alpha Signaling via NF-kB</td>\n",
       "      <td>DEL.SINGLETON.ANY.unconstrained.ANY.protein_co...</td>\n",
       "      <td>199/19092</td>\n",
       "      <td>27/4851</td>\n",
       "      <td>0.457816</td>\n",
       "      <td>0.000054</td>\n",
       "    </tr>\n",
       "    <tr>\n",
       "      <th>1</th>\n",
       "      <td>MSigDB_Hallmark_2020</td>\n",
       "      <td>Hypoxia</td>\n",
       "      <td>DEL.SINGLETON.ANY.unconstrained.ANY.protein_co...</td>\n",
       "      <td>200/19092</td>\n",
       "      <td>33/4851</td>\n",
       "      <td>0.577229</td>\n",
       "      <td>0.003174</td>\n",
       "    </tr>\n",
       "  </tbody>\n",
       "</table>\n",
       "</div>"
      ],
      "text/plain": [
       "                     db                             gs  \\\n",
       "0  MSigDB_Hallmark_2020  TNF-alpha Signaling via NF-kB   \n",
       "1  MSigDB_Hallmark_2020                        Hypoxia   \n",
       "\n",
       "                                            category   expected     data  \\\n",
       "0  DEL.SINGLETON.ANY.unconstrained.ANY.protein_co...  199/19092  27/4851   \n",
       "1  DEL.SINGLETON.ANY.unconstrained.ANY.protein_co...  200/19092  33/4851   \n",
       "\n",
       "   odds_ratio         p  \n",
       "0    0.457816  0.000054  \n",
       "1    0.577229  0.003174  "
      ]
     },
     "execution_count": 94,
     "metadata": {},
     "output_type": "execute_result"
    }
   ],
   "source": [
    "results.head(2)"
   ]
  },
  {
   "cell_type": "code",
   "execution_count": 95,
   "id": "74e9f88c-8530-4190-9b09-cac7a907ae40",
   "metadata": {},
   "outputs": [
    {
     "data": {
      "text/html": [
       "<div>\n",
       "<style scoped>\n",
       "    .dataframe tbody tr th:only-of-type {\n",
       "        vertical-align: middle;\n",
       "    }\n",
       "\n",
       "    .dataframe tbody tr th {\n",
       "        vertical-align: top;\n",
       "    }\n",
       "\n",
       "    .dataframe thead th {\n",
       "        text-align: right;\n",
       "    }\n",
       "</style>\n",
       "<table border=\"1\" class=\"dataframe\">\n",
       "  <thead>\n",
       "    <tr style=\"text-align: right;\">\n",
       "      <th></th>\n",
       "      <th>db</th>\n",
       "      <th>gs</th>\n",
       "      <th>category</th>\n",
       "      <th>expected</th>\n",
       "      <th>data</th>\n",
       "      <th>odds_ratio</th>\n",
       "      <th>p</th>\n",
       "    </tr>\n",
       "  </thead>\n",
       "  <tbody>\n",
       "    <tr>\n",
       "      <th>539660</th>\n",
       "      <td>MSigDB_Hallmark_2020</td>\n",
       "      <td>TNF-alpha Signaling via NF-kB</td>\n",
       "      <td>ANY.SINGLETON.PREDICTED_NONCODING_SPAN.neurobl...</td>\n",
       "      <td>199/19092</td>\n",
       "      <td>48/2758</td>\n",
       "      <td>1.898253</td>\n",
       "      <td>2.415551e-04</td>\n",
       "    </tr>\n",
       "    <tr>\n",
       "      <th>539661</th>\n",
       "      <td>MSigDB_Hallmark_2020</td>\n",
       "      <td>Hypoxia</td>\n",
       "      <td>ANY.SINGLETON.PREDICTED_NONCODING_SPAN.neurobl...</td>\n",
       "      <td>200/19092</td>\n",
       "      <td>33/2758</td>\n",
       "      <td>1.172358</td>\n",
       "      <td>4.179790e-01</td>\n",
       "    </tr>\n",
       "    <tr>\n",
       "      <th>539662</th>\n",
       "      <td>MSigDB_Hallmark_2020</td>\n",
       "      <td>Cholesterol Homeostasis</td>\n",
       "      <td>ANY.SINGLETON.PREDICTED_NONCODING_SPAN.neurobl...</td>\n",
       "      <td>74/19092</td>\n",
       "      <td>12/2758</td>\n",
       "      <td>1.146912</td>\n",
       "      <td>6.203714e-01</td>\n",
       "    </tr>\n",
       "    <tr>\n",
       "      <th>539663</th>\n",
       "      <td>MSigDB_Hallmark_2020</td>\n",
       "      <td>Mitotic Spindle</td>\n",
       "      <td>ANY.SINGLETON.PREDICTED_NONCODING_SPAN.neurobl...</td>\n",
       "      <td>199/19092</td>\n",
       "      <td>86/2758</td>\n",
       "      <td>4.620204</td>\n",
       "      <td>1.222229e-06</td>\n",
       "    </tr>\n",
       "    <tr>\n",
       "      <th>539664</th>\n",
       "      <td>MSigDB_Hallmark_2020</td>\n",
       "      <td>Wnt-beta Catenin Signaling</td>\n",
       "      <td>ANY.SINGLETON.PREDICTED_NONCODING_SPAN.neurobl...</td>\n",
       "      <td>42/19092</td>\n",
       "      <td>20/2758</td>\n",
       "      <td>5.416030</td>\n",
       "      <td>3.025095e-07</td>\n",
       "    </tr>\n",
       "    <tr>\n",
       "      <th>...</th>\n",
       "      <td>...</td>\n",
       "      <td>...</td>\n",
       "      <td>...</td>\n",
       "      <td>...</td>\n",
       "      <td>...</td>\n",
       "      <td>...</td>\n",
       "      <td>...</td>\n",
       "    </tr>\n",
       "    <tr>\n",
       "      <th>2131652</th>\n",
       "      <td>GO_Biological_Process_Full</td>\n",
       "      <td>positive regulation of behavioral fear respons...</td>\n",
       "      <td>ANY.SINGLETON.PREDICTED_NONCODING_BREAKPOINT.n...</td>\n",
       "      <td>7/19092</td>\n",
       "      <td>1/2758</td>\n",
       "      <td>0.987063</td>\n",
       "      <td>1.000000e+00</td>\n",
       "    </tr>\n",
       "    <tr>\n",
       "      <th>2131653</th>\n",
       "      <td>GO_Biological_Process_Full</td>\n",
       "      <td>positive regulation of tyrosine 3-monooxygenas...</td>\n",
       "      <td>ANY.SINGLETON.PREDICTED_NONCODING_BREAKPOINT.n...</td>\n",
       "      <td>1/19092</td>\n",
       "      <td>0/2758</td>\n",
       "      <td>0.000000</td>\n",
       "      <td>1.000000e+00</td>\n",
       "    </tr>\n",
       "    <tr>\n",
       "      <th>2131654</th>\n",
       "      <td>GO_Biological_Process_Full</td>\n",
       "      <td>visual system development (GO:0150063)</td>\n",
       "      <td>ANY.SINGLETON.PREDICTED_NONCODING_BREAKPOINT.n...</td>\n",
       "      <td>382/19092</td>\n",
       "      <td>107/2758</td>\n",
       "      <td>2.357001</td>\n",
       "      <td>2.054991e-06</td>\n",
       "    </tr>\n",
       "    <tr>\n",
       "      <th>2131655</th>\n",
       "      <td>GO_Biological_Process_Full</td>\n",
       "      <td>negative regulation of dendritic cell cytokine...</td>\n",
       "      <td>ANY.SINGLETON.PREDICTED_NONCODING_BREAKPOINT.n...</td>\n",
       "      <td>2/19092</td>\n",
       "      <td>0/2758</td>\n",
       "      <td>0.000000</td>\n",
       "      <td>1.000000e+00</td>\n",
       "    </tr>\n",
       "    <tr>\n",
       "      <th>2131656</th>\n",
       "      <td>custom</td>\n",
       "      <td>adrenal-specific-exp</td>\n",
       "      <td>ANY.SINGLETON.PREDICTED_NONCODING_BREAKPOINT.n...</td>\n",
       "      <td>30/19092</td>\n",
       "      <td>2/2758</td>\n",
       "      <td>0.422610</td>\n",
       "      <td>3.028194e-01</td>\n",
       "    </tr>\n",
       "  </tbody>\n",
       "</table>\n",
       "<p>350779 rows × 7 columns</p>\n",
       "</div>"
      ],
      "text/plain": [
       "                                 db  \\\n",
       "539660         MSigDB_Hallmark_2020   \n",
       "539661         MSigDB_Hallmark_2020   \n",
       "539662         MSigDB_Hallmark_2020   \n",
       "539663         MSigDB_Hallmark_2020   \n",
       "539664         MSigDB_Hallmark_2020   \n",
       "...                             ...   \n",
       "2131652  GO_Biological_Process_Full   \n",
       "2131653  GO_Biological_Process_Full   \n",
       "2131654  GO_Biological_Process_Full   \n",
       "2131655  GO_Biological_Process_Full   \n",
       "2131656                      custom   \n",
       "\n",
       "                                                        gs  \\\n",
       "539660                       TNF-alpha Signaling via NF-kB   \n",
       "539661                                             Hypoxia   \n",
       "539662                             Cholesterol Homeostasis   \n",
       "539663                                     Mitotic Spindle   \n",
       "539664                          Wnt-beta Catenin Signaling   \n",
       "...                                                    ...   \n",
       "2131652  positive regulation of behavioral fear respons...   \n",
       "2131653  positive regulation of tyrosine 3-monooxygenas...   \n",
       "2131654             visual system development (GO:0150063)   \n",
       "2131655  negative regulation of dendritic cell cytokine...   \n",
       "2131656                               adrenal-specific-exp   \n",
       "\n",
       "                                                  category   expected  \\\n",
       "539660   ANY.SINGLETON.PREDICTED_NONCODING_SPAN.neurobl...  199/19092   \n",
       "539661   ANY.SINGLETON.PREDICTED_NONCODING_SPAN.neurobl...  200/19092   \n",
       "539662   ANY.SINGLETON.PREDICTED_NONCODING_SPAN.neurobl...   74/19092   \n",
       "539663   ANY.SINGLETON.PREDICTED_NONCODING_SPAN.neurobl...  199/19092   \n",
       "539664   ANY.SINGLETON.PREDICTED_NONCODING_SPAN.neurobl...   42/19092   \n",
       "...                                                    ...        ...   \n",
       "2131652  ANY.SINGLETON.PREDICTED_NONCODING_BREAKPOINT.n...    7/19092   \n",
       "2131653  ANY.SINGLETON.PREDICTED_NONCODING_BREAKPOINT.n...    1/19092   \n",
       "2131654  ANY.SINGLETON.PREDICTED_NONCODING_BREAKPOINT.n...  382/19092   \n",
       "2131655  ANY.SINGLETON.PREDICTED_NONCODING_BREAKPOINT.n...    2/19092   \n",
       "2131656  ANY.SINGLETON.PREDICTED_NONCODING_BREAKPOINT.n...   30/19092   \n",
       "\n",
       "             data  odds_ratio             p  \n",
       "539660    48/2758    1.898253  2.415551e-04  \n",
       "539661    33/2758    1.172358  4.179790e-01  \n",
       "539662    12/2758    1.146912  6.203714e-01  \n",
       "539663    86/2758    4.620204  1.222229e-06  \n",
       "539664    20/2758    5.416030  3.025095e-07  \n",
       "...           ...         ...           ...  \n",
       "2131652    1/2758    0.987063  1.000000e+00  \n",
       "2131653    0/2758    0.000000  1.000000e+00  \n",
       "2131654  107/2758    2.357001  2.054991e-06  \n",
       "2131655    0/2758    0.000000  1.000000e+00  \n",
       "2131656    2/2758    0.422610  3.028194e-01  \n",
       "\n",
       "[350779 rows x 7 columns]"
      ]
     },
     "execution_count": 95,
     "metadata": {},
     "output_type": "execute_result"
    }
   ],
   "source": [
    "results[results['category'].str.contains('\\.neuroblastoma_H3K27Ac_peak\\.')]"
   ]
  },
  {
   "cell_type": "markdown",
   "id": "a09e3196-9a2d-49ba-ae64-58b2f9906765",
   "metadata": {},
   "source": [
    "# FDR correction\n",
    "\n",
    "No analysis is complete without an FDR correction. Thankfully, we get to throw out tests that can't possibly yield in a significant result. We've already calculated what we need, so we'll be a bit fancy."
   ]
  },
  {
   "cell_type": "code",
   "execution_count": 97,
   "id": "a1a77b84-df8a-4113-8674-b2dac718004e",
   "metadata": {},
   "outputs": [],
   "source": [
    "for cat in analysis_categories['category_name'].tolist():\n",
    "    for db in results['db'].unique():\n",
    "        cat_db_result = results[(results['db'] == db) &\n",
    "                                (results['category'] == cat)]\n",
    "        \n",
    "        fdr_p = statsmodels.stats.multitest.multipletests(cat_db_result['p'].to_list(), method='fdr_bh')[1]\n",
    "        results.loc[cat_db_result.index, 'fdr_p'] = fdr_p"
   ]
  },
  {
   "cell_type": "code",
   "execution_count": 98,
   "id": "4727f0b0-21d0-40d8-b969-69cfb26f2420",
   "metadata": {},
   "outputs": [],
   "source": [
    "results.to_csv('data/cwas-results/category-gene-set-raw-significance.csv', index=False)"
   ]
  },
  {
   "cell_type": "markdown",
   "id": "66b63a22-dcad-4c3d-9909-a5885c708d25",
   "metadata": {},
   "source": [
    "# How to handle counts?\n",
    "\n",
    "In our analysis notebook, we'll need to handle _counts_ rather than just overlaps. Let's make sure we understand how to do this."
   ]
  },
  {
   "cell_type": "code",
   "execution_count": 99,
   "id": "cbf49fee-7d0a-45dc-93a9-05158e30ff30",
   "metadata": {},
   "outputs": [],
   "source": [
    "M = np.array([[1, 4, 0, 2], [2, 3, 1, 0], [0, 3, 4, 1], [0, 0, 0, 1]])\n",
    "N = np.array([[1, 0, 0, 1], [0, 1, 1, 1], [1, 0, 1, 1], [0, 0, 0, 1]])\n",
    "\n",
    "M_and_N = M.dot(N)\n",
    "M_and_notN = M.sum(axis = 1).reshape(-1, 1) - M_and_N\n",
    "notM_and_N = N.sum(axis = 0).reshape(1, -1) - M.astype(bool).dot(N)\n",
    "\n",
    "I = np.ones(shape = (M.shape[0], N.shape[1])) * M.shape[1]\n",
    "notM_and_notN = I - M.astype(bool).sum(axis = 1).reshape(-1, 1) - N.sum(axis = 0).reshape(1, -1) + M.astype(bool).dot(N)"
   ]
  },
  {
   "cell_type": "markdown",
   "id": "a52a8530-9f18-4c3b-ac38-2880a921dc68",
   "metadata": {},
   "source": [
    "Essentially, the top row of the contigency table uses counts, but the bottom row uses binary presence/absence. So you just have to be careful with conversion to boolean for bottom row elements."
   ]
  }
 ],
 "metadata": {
  "kernelspec": {
   "display_name": "pediatric-germline-svs-3.7.13",
   "language": "python",
   "name": "pediatric-germline-svs-3.7.13"
  },
  "language_info": {
   "codemirror_mode": {
    "name": "ipython",
    "version": 3
   },
   "file_extension": ".py",
   "mimetype": "text/x-python",
   "name": "python",
   "nbconvert_exporter": "python",
   "pygments_lexer": "ipython3",
   "version": "3.7.13"
  }
 },
 "nbformat": 4,
 "nbformat_minor": 5
}
