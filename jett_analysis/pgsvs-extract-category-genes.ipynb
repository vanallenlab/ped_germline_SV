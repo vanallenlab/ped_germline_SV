{
 "cells": [
  {
   "cell_type": "code",
   "execution_count": 53,
   "id": "cefc4119-fd8d-4ee1-88d9-16a5bed70b46",
   "metadata": {},
   "outputs": [],
   "source": [
    "import pandas as pd\n",
    "import pybedtools\n",
    "import numpy as np\n",
    "from collections import defaultdict\n",
    "import pyranges\n",
    "import scipy\n",
    "\n",
    "import statsmodels.stats.multitest"
   ]
  },
  {
   "cell_type": "markdown",
   "id": "ece842f9-31f7-4bd5-b5ef-447d75a7fbeb",
   "metadata": {},
   "source": [
    "# Extract category genes\n",
    "\n",
    "After some consideration and thought, I've realized that performing naive gene set enrichment on noncoding categories--which are themselves already gene subsets--is confounding two signals. The first signal is the enrichment that accompanies the category itself (an ATAC peak, for example, is likely to be enriched for genes responsible for certain processes). The second is a different kind of enrichment, focused on SVs.\n",
    "\n",
    "Separating these influences is worth it, I think. To do so requires us to calculate the gene sets that are present within each category."
   ]
  },
  {
   "cell_type": "markdown",
   "id": "ddf7d045-6019-4637-b397-eac60c4cf454",
   "metadata": {},
   "source": [
    "# Read in our data\n",
    "\n",
    "First, we read in the frameworks"
   ]
  },
  {
   "cell_type": "code",
   "execution_count": 2,
   "id": "6773de81-a8bf-48b7-a86b-2513af0c7454",
   "metadata": {},
   "outputs": [],
   "source": [
    "#########################\n",
    "### FRAMEWORK RESULTS ###\n",
    "#########################\n",
    "nbl_singleton_coding_framework_results = pd.read_csv(\n",
    "    \"data/CWAS data for Jett/CWAS sum stats/neuroblastoma_all_coding_cwas_concatenated_glm_results_SINGLETON_11_3_23.txt\",\n",
    "    sep=\"\\t\",\n",
    ")\n",
    "nbl_singleton_coding_framework_results[['af_category', 'sv_category']] = ['singleton', 'coding']\n",
    "\n",
    "nbl_rare_coding_framework_results = pd.read_csv(\n",
    "    \"data/CWAS data for Jett/CWAS sum stats/neuroblastoma_all_coding_cwas_concatenated_glm_results_RARE_11_3_23.txt\",\n",
    "    sep=\"\\t\",\n",
    ")\n",
    "nbl_rare_coding_framework_results[['af_category', 'sv_category']] = ['rare', 'coding']\n",
    "\n",
    "nbl_singleton_noncoding_framework_results = pd.read_csv(\n",
    "    \"data/CWAS data for Jett/CWAS sum stats/neuroblastoma_all_noncoding_cwas_concatenated_glm_results_SINGLETON_11_3_23.txt\",\n",
    "    sep=\"\\t\",\n",
    ")\n",
    "nbl_singleton_noncoding_framework_results[['af_category', 'sv_category']] = ['singleton', 'non-coding']\n",
    "\n",
    "nbl_rare_noncoding_framework_results = pd.read_csv(\n",
    "    \"data/CWAS data for Jett/CWAS sum stats/neuroblastoma_all_noncoding_cwas_concatenated_glm_results_RARE_11_3_23.txt\",\n",
    "    sep=\"\\t\",\n",
    ")\n",
    "nbl_rare_noncoding_framework_results[['af_category', 'sv_category']] = ['rare', 'non-coding']\n",
    "\n",
    "nbl_framework_results = pd.concat([nbl_singleton_coding_framework_results, nbl_rare_coding_framework_results, \n",
    "                                   nbl_singleton_noncoding_framework_results, nbl_rare_noncoding_framework_results]).reset_index(drop = True)"
   ]
  },
  {
   "cell_type": "code",
   "execution_count": 3,
   "id": "a851bce9-2472-40de-8dff-d9b76d7ccda9",
   "metadata": {},
   "outputs": [
    {
     "data": {
      "text/plain": [
       "4939"
      ]
     },
     "execution_count": 3,
     "metadata": {},
     "output_type": "execute_result"
    }
   ],
   "source": [
    "len(nbl_framework_results['category_name'])"
   ]
  },
  {
   "cell_type": "code",
   "execution_count": 4,
   "id": "ab6d937b-f522-419b-b24d-20647f00ba8f",
   "metadata": {},
   "outputs": [
    {
     "name": "stdout",
     "output_type": "stream",
     "text": [
      "coding\n",
      "----------------------------------------\n",
      "sv_type : ['DUP' 'DEL' 'CPX_or_INV' 'INS_ALL' 'ANY']\n",
      "\n",
      "frequency : ['RARE' 'SINGLETON']\n",
      "\n",
      "genic_relationship : ['PREDICTED_COPY_GAIN' 'PREDICTED_INTRAGENIC_EXON_DUP'\n",
      " 'PREDICTED_LOF_or_PREDICTED_PARTIAL_EXON_DUP' 'ANY']\n",
      "\n",
      "constraint : ['lof_constrained' 'missense_constrained' 'unconstrained' 'ANY']\n",
      "\n",
      "expression : ['expressed_in_adrenal_gland' 'ANY']\n",
      "\n",
      "gene_group : ['protein_coding' 'cosmic_cancer_genes' 'germline_CPGs'\n",
      " 'base_excision_repair_genes' 'chromatin_organization_genes'\n",
      " 'dna_damage_bypass_genes' 'dna_damage_reversal_genes'\n",
      " 'dna_DSB_repair_genes' 'dna_DSB_response_genes' 'dna_repair_genes'\n",
      " 'fanconi_genes' 'mismatch_repair_genes'\n",
      " 'nucleotide_excision_repair_genes' 'oncogenic_MAPK_signaling_genes'\n",
      " 'signaling_transduction_by_receptor_tyrosine_kinases_genes']\n",
      "\n",
      "non-coding\n",
      "----------------------------------------\n",
      "sv_type : ['DUP' 'DEL' 'CPX_or_INV' 'INS_ALL' 'ANY']\n",
      "\n",
      "frequency : ['RARE' 'SINGLETON']\n",
      "\n",
      "functional_intersection : ['PREDICTED_NONCODING_BREAKPOINT' 'PREDICTED_NONCODING_SPAN' 'ANY']\n",
      "\n",
      "functional_category : ['neuroblastoma_atac_peaks' 'neuroblastoma_chromHMM15_Enh'\n",
      " 'neuroblastoma_chromHMM15_Enh_conserved' 'neuroblastoma_chromHMM15_EnhG'\n",
      " 'neuroblastoma_chromHMM15_EnhG_conserved' 'neuroblastoma_H3K27Ac_peak'\n",
      " 'neuroblastoma_chromHMM15_TssAFlnk' 'neuroblastoma_ABC_MAX_enhancer'\n",
      " 'neuroblastoma_atac_peaks_conserved' 'neuroblastoma_chromHMM15_EnhBiv'\n",
      " 'neuroblastoma_chromHMM15_EnhBiv_conserved'\n",
      " 'neuroblastoma_H3K27Ac_peak_conserved'\n",
      " 'neuroblastoma_encode_consensus_enhancers'\n",
      " 'neuroblastoma_encode_consensus_enhancers_conserved'\n",
      " 'neuroblastoma_ABC_MAX_enhancer_conserved' 'neuroblastoma_tad_boundary'\n",
      " 'neuroblastoma_chromHMM15_TssAFlnk_conserved'\n",
      " 'neuroblastoma_tad_boundary_conserved' 'recombination_hotspot'\n",
      " 'recombination_hotspot_conserved' 'UCNE' 'fragile_site']\n",
      "\n",
      "genic_relationship : ['PREDICTED_INTERGENIC' 'PREDICTED_INTRONIC' 'PREDICTED_PROMOTER'\n",
      " 'PREDICTED_UTR' 'ANY']\n",
      "\n",
      "constraint : ['lof_constrained' 'ANY']\n",
      "\n",
      "expression : ['expressed_in_adrenal_gland' 'ANY']\n",
      "\n",
      "gene_group : ['protein_coding' 'cosmic_and_germline_CPGs']\n",
      "\n"
     ]
    }
   ],
   "source": [
    "nbl_coding_framework = pd.read_csv(\n",
    "    \"data/CWAS data for Jett/CWAS frameworks/CWAS_categories_neuroblastoma_coding_8_17_23.txt\",\n",
    "    sep=\"\\t\",\n",
    ")\n",
    "\n",
    "nbl_noncoding_framework = pd.read_csv(\n",
    "    \"data/CWAS data for Jett/CWAS frameworks/CWAS_rare_categories_neuroblastoma_noncoding_10_2_23.txt\",\n",
    "    sep=\"\\t\",\n",
    ")\n",
    "\n",
    "for effect, framework in zip(['coding', 'non-coding'], [nbl_coding_framework, nbl_noncoding_framework]):\n",
    "    print(effect)\n",
    "    print('-' * 40)\n",
    "    for col in framework.columns:\n",
    "        print(col, ':', framework[col].dropna().values)\n",
    "        print()"
   ]
  },
  {
   "cell_type": "markdown",
   "id": "197785c0-18af-4fd4-8d2f-a533493af7a1",
   "metadata": {},
   "source": [
    "Some of these characteristics impose restrictions on genomic regions that are accessible in the analysis. THESE are the characteristics that we need to use to impose restrictions. They are as follows:\n",
    "\n",
    "* Coding (other gene groups besides protein_coding are ignored, as they represent gene sets themselves)  \n",
    "    * lof_constrained\n",
    "    * missense_constrained\n",
    "    * unconstrained\n",
    "    * expressed_in_adrenal_gland  \n",
    "    * protein_coding  \n",
    "\n",
    "* Non-coding (other gene groups besides protein_coding are ignored, as they represent gene sets themselves)  \n",
    "    * functional_categories  \n",
    "    * lof_constrained\n",
    "    * expressed_in_adrenal_gland\n",
    "    * protein_coding"
   ]
  },
  {
   "cell_type": "markdown",
   "id": "a0ef56ba-b33c-4be7-9ef4-8012cbf03c64",
   "metadata": {},
   "source": [
    "# Read in genes for non-functional categories\n",
    "\n",
    "These are perhaps the easiest - Riaz has just provided these genes for us"
   ]
  },
  {
   "cell_type": "code",
   "execution_count": 5,
   "id": "695ed153-0f53-4c36-a606-f645299b78a9",
   "metadata": {},
   "outputs": [],
   "source": [
    "paths = {'lof_constrained': 'data/CWAS data for Jett/lof_constrained_genes_7_31_23 (1).txt',\n",
    "         'missense_constrained': 'data/CWAS data for Jett/missense_constrained_genes_7_31_23.txt',\n",
    "         'unconstrained': 'data/CWAS data for Jett/unconstrained_genes_7_31_23.txt',\n",
    "         'expressed_in_adrenal_gland': 'data/CWAS data for Jett/top_expressed_in_adrenal_gland_7_31_23 (1).txt',\n",
    "         'protein_coding': 'data/CWAS data for Jett/gencode_hg38_protein_coding_genes_for_annotation_7_31_23 (1).txt',\n",
    "         'cosmic_and_germline_CPGs': 'data/CWAS data for Jett/cosmic_cancer_genes_tier_one_and_germline_CPGs_10_23_23 (1).txt'}\n",
    "\n",
    "gene_restrictions = {}\n",
    "for label, path in paths.items():\n",
    "    data = pd.read_csv(path)\n",
    "    data = data[~data['value'].str.startswith('ENSG00')]\n",
    "    data = data['value'].tolist()\n",
    "    \n",
    "    gene_restrictions[label] = data"
   ]
  },
  {
   "cell_type": "code",
   "execution_count": 6,
   "id": "04994a31-37b3-438f-b30a-3defe0990544",
   "metadata": {},
   "outputs": [
    {
     "name": "stdout",
     "output_type": "stream",
     "text": [
      "9505\n",
      "19201\n"
     ]
    }
   ],
   "source": [
    "print(len(gene_restrictions['expressed_in_adrenal_gland']))\n",
    "print(len(gene_restrictions['protein_coding']))"
   ]
  },
  {
   "cell_type": "markdown",
   "id": "8ffc9886-5f1c-4721-bcf6-9307cdd98447",
   "metadata": {},
   "source": [
    "Great."
   ]
  },
  {
   "cell_type": "markdown",
   "id": "780be016-10f7-4599-8665-5ca5f1745869",
   "metadata": {},
   "source": [
    "# Identify genes within functional categories"
   ]
  },
  {
   "cell_type": "markdown",
   "id": "411397ee-3fcf-4850-9e31-ec073067ce6c",
   "metadata": {},
   "source": [
    "We need to read in the genomic locations of the categories. Riaz has kindly already compiled these."
   ]
  },
  {
   "cell_type": "code",
   "execution_count": 7,
   "id": "12f510e9-0e3a-4988-8319-5048d1aa3ca7",
   "metadata": {},
   "outputs": [],
   "source": [
    "category_regions = pd.read_csv('data/CWAS data for Jett/final_noncoding_annotation_file_list_combined_7_18_23.txt', sep='\\t')"
   ]
  },
  {
   "cell_type": "code",
   "execution_count": 8,
   "id": "ea35a0ca-71ba-4848-9da9-84427141063a",
   "metadata": {},
   "outputs": [],
   "source": [
    "regions = list(category_regions['annotation'].unique())"
   ]
  },
  {
   "cell_type": "code",
   "execution_count": 9,
   "id": "000e3716-445e-499d-8a13-a9753852bf26",
   "metadata": {},
   "outputs": [
    {
     "data": {
      "text/plain": [
       "array(['recombination_hotspot', 'ewing_ABC_MAX_enhancer',\n",
       "       'ewing_and_osteosarcoma_atac_peaks',\n",
       "       'ewing_and_osteosarcoma_tad_boundary', 'ewing_chromHMM15_Enh',\n",
       "       'ewing_chromHMM15_EnhBiv', 'ewing_chromHMM15_EnhG',\n",
       "       'ewing_chromHMM15_Quies', 'ewing_chromHMM15_TssAFlnk',\n",
       "       'ewing_encode_consensus_enhancers', 'ewing_H3K27Ac_peak',\n",
       "       'fragile_site', 'neuroblastoma_ABC_MAX_enhancer',\n",
       "       'neuroblastoma_atac_peaks', 'neuroblastoma_chromHMM15_Enh',\n",
       "       'neuroblastoma_chromHMM15_EnhBiv', 'neuroblastoma_chromHMM15_EnhG',\n",
       "       'neuroblastoma_chromHMM15_Quies',\n",
       "       'neuroblastoma_chromHMM15_TssAFlnk',\n",
       "       'neuroblastoma_encode_consensus_enhancers',\n",
       "       'neuroblastoma_H3K27Ac_peak', 'neuroblastoma_tad_boundary',\n",
       "       'osteosarcoma_ABC_MAX_enhancer', 'osteosarcoma_chromHMM15_Enh',\n",
       "       'osteosarcoma_chromHMM15_EnhBiv', 'osteosarcoma_chromHMM15_EnhG',\n",
       "       'osteosarcoma_chromHMM15_Quies',\n",
       "       'osteosarcoma_chromHMM15_TssAFlnk',\n",
       "       'osteosarcoma_encode_consensus_enhancers',\n",
       "       'osteosarcoma_H3K27Ac_peak', 'UCNE'], dtype=object)"
      ]
     },
     "execution_count": 9,
     "metadata": {},
     "output_type": "execute_result"
    }
   ],
   "source": [
    "category_regions['annotation'].unique()"
   ]
  },
  {
   "cell_type": "markdown",
   "id": "0a79354a-0439-4140-89e9-f7acdf513b95",
   "metadata": {},
   "source": [
    "Wonderful--this lists all the regions along with their coordinates. Let's give a value for each of the regions so we know which is which."
   ]
  },
  {
   "cell_type": "code",
   "execution_count": 10,
   "id": "3fc1e217-46ae-492f-9af5-1ae4f4516d86",
   "metadata": {},
   "outputs": [],
   "source": [
    "category_regions['annotation'] = category_regions['annotation'] + '_' + np.array(category_regions.index).astype(str)"
   ]
  },
  {
   "cell_type": "markdown",
   "id": "3057ebba-8d58-4220-85e1-c027098dd59d",
   "metadata": {},
   "source": [
    "## Download genes"
   ]
  },
  {
   "cell_type": "markdown",
   "id": "64330566-fc7b-4e5f-9fd6-0c8a49166808",
   "metadata": {},
   "source": [
    "Next, we extract out the genic locations, for cross-reference with our category regions. We use gencode."
   ]
  },
  {
   "cell_type": "code",
   "execution_count": null,
   "id": "154e95a8-fa5b-4598-a1e0-2dee88f46fbe",
   "metadata": {},
   "outputs": [],
   "source": [
    "gtf = pd.read_csv(\n",
    "    \"https://ftp.ebi.ac.uk/pub/databases/gencode/Gencode_human/release_43/gencode.v43.basic.annotation.gtf.gz\",\n",
    "    comment=\"#\",\n",
    "    sep=\"\\t\",\n",
    "    header=None,\n",
    "    names=[\n",
    "        \"seqname\",\n",
    "        \"source\",\n",
    "        \"feature\",\n",
    "        \"start\",\n",
    "        \"end\",\n",
    "        \"score\",\n",
    "        \"strand\",\n",
    "        \"frame\",\n",
    "        \"attribute\",\n",
    "    ],\n",
    ")"
   ]
  },
  {
   "cell_type": "code",
   "execution_count": null,
   "id": "2766600d-615f-4d5a-9061-f0053bd7b5eb",
   "metadata": {},
   "outputs": [],
   "source": [
    "genes = gtf.query('feature == \"gene\"').reset_index(drop = True)\n",
    "\n",
    "characteristics = {}\n",
    "for index, row in genes.iterrows():\n",
    "    gene_data = row['attribute'].split('; ')\n",
    "    gene_data = {field.split(' ')[0]: field.split(' ')[1].strip(';') for field in gene_data}\n",
    "    gene_data = {key: val.strip('\"') for key, val in gene_data.items()}\n",
    "    characteristics[index] = gene_data\n",
    "    \n",
    "characteristics = pd.DataFrame(characteristics).T\n",
    "\n",
    "genes = pd.concat([genes, characteristics], axis = 1)"
   ]
  },
  {
   "cell_type": "code",
   "execution_count": null,
   "id": "a9911eaf-0b74-4440-bb28-1fc14f68d425",
   "metadata": {},
   "outputs": [],
   "source": [
    "# drop genes in PAR\n",
    "genes = genes[~(genes['tag'] == 'PAR')\n",
    "             & (genes['gene_type'] == 'protein_coding')]"
   ]
  },
  {
   "cell_type": "code",
   "execution_count": null,
   "id": "7642419d-0fa1-42a3-88dc-a45d9535d00f",
   "metadata": {},
   "outputs": [],
   "source": [
    "genes.shape"
   ]
  },
  {
   "cell_type": "markdown",
   "id": "374727b2-9540-469d-8617-c0b2475292f9",
   "metadata": {},
   "source": [
    "We subset this to genes that are in our dataset."
   ]
  },
  {
   "cell_type": "code",
   "execution_count": null,
   "id": "36a7b455-9c22-4c82-9121-ffa095cd8ccd",
   "metadata": {},
   "outputs": [],
   "source": [
    "gene_ref = gene_restrictions['protein_coding']\n",
    "missing_genes = set(gene_ref) - set(genes['gene_name'])\n",
    "print(len(gene_ref), len(missing_genes))"
   ]
  },
  {
   "cell_type": "markdown",
   "id": "78d79552-b244-42b1-9616-ac980e1c137b",
   "metadata": {},
   "source": [
    "So a few genes are present in our reference dataset but missing from the gtf. What are these genes?"
   ]
  },
  {
   "cell_type": "code",
   "execution_count": null,
   "id": "864c09dd-96fa-4d04-bc1a-2b6b1adbc8d6",
   "metadata": {},
   "outputs": [],
   "source": [
    "print(sorted(missing_genes))"
   ]
  },
  {
   "cell_type": "code",
   "execution_count": null,
   "id": "b018e104-2890-4dc7-9017-b2fd07b0c852",
   "metadata": {},
   "outputs": [],
   "source": [
    "gtf[gtf['attribute'].str.contains('HLA-DRB3')]"
   ]
  },
  {
   "cell_type": "markdown",
   "id": "d85a58a7-7d3b-4f24-8bbb-334eaaf851f0",
   "metadata": {},
   "source": [
    "It's not at all obvious to me why these genes are missing, but there is truly no mention of them in the GTF (even in non-gene entries). So we move on, further restricting our analysis to these genes."
   ]
  },
  {
   "cell_type": "code",
   "execution_count": null,
   "id": "6a4cf1e1-ef58-4cfc-a2cb-041b2f46f11d",
   "metadata": {},
   "outputs": [],
   "source": [
    "gene_subset = genes[genes['gene_name'].isin(gene_ref)]\n",
    "print(gene_subset.shape[0], len(set(gene_subset['gene_name'])))"
   ]
  },
  {
   "cell_type": "markdown",
   "id": "774aff1d-d0d0-45ff-b16d-6d1f0ed02047",
   "metadata": {},
   "source": [
    "So there are some duplicates. In looking at them, it's not entirely obvious which is which."
   ]
  },
  {
   "cell_type": "code",
   "execution_count": null,
   "id": "cd030678-9eb1-4736-b8d9-a8549dd41e9e",
   "metadata": {},
   "outputs": [],
   "source": [
    "gene_counts = gene_subset['gene_name'].value_counts()\n",
    "duplicates = gene_counts[gene_counts > 1]\n",
    "\n",
    "# some heuristics to get proper genes\n",
    "duplicate_gene_subset = gene_subset[gene_subset['gene_name'].isin(duplicates.index)]\n",
    "duplicate_gene_subset.shape"
   ]
  },
  {
   "cell_type": "code",
   "execution_count": null,
   "id": "4ab4048f-c4a8-4623-8ccb-3c47ab9833c3",
   "metadata": {},
   "outputs": [],
   "source": [
    "gene_subset = gene_subset.drop_duplicates(subset = ['gene_name'])\n",
    "gene_subset.shape"
   ]
  },
  {
   "cell_type": "markdown",
   "id": "740c0fc9-5718-4500-b828-eba5b74d0f95",
   "metadata": {},
   "source": [
    "## Do the intersection\n",
    "\n",
    "We intersect the category regions with the genes. This will yield a list of genes that are present in these categories.\n",
    "\n",
    "Some category regions, however, will not intersect genes. This will yield no gene and be valid for most comparisons. For some noncoding analyses, however, the nearest gene must also be included in the analysis, since `PREDICTED_INTERGENIC` can yield this.\n",
    "\n",
    "Incorporating this is extremely frustrating, as it's not clear how to optimally do this. For example, consider a region, with a closest gene. There are many possibilities:\n",
    "\n",
    "1. The closest gene is within the region\n",
    "2. The closest gene is outside the region, but there is also a gene in the region\n",
    "3. The closest gene is downstream, but at another point in the region, the closest gene is upstream\n",
    "\n",
    "Which of these is the case depends very strongly on where the SV is located within the region. However, we can't use the SV locations, as the point of gene set enrichment is to examine _which genes COULD be impacted_. This is... unresolvable.\n",
    "\n",
    "I suppose the best way forward is to assume the following:\n",
    "\n",
    "1. If a gene is within a region, it will be closest to all SVs in that region if those SVs are noncoding\n",
    "2. If a gene is not within a region, the closest gene to the region will be the closest gene to all SVs"
   ]
  },
  {
   "cell_type": "code",
   "execution_count": null,
   "id": "58b3b899-8154-4244-9b70-861c5215cb38",
   "metadata": {},
   "outputs": [],
   "source": [
    "# do the intersection with pybedtools.\n",
    "category_bed = pybedtools.BedTool(\n",
    "    category_regions.to_csv(sep=\"\\t\", index=False, header=False), from_string=True\n",
    ")\n",
    "\n",
    "gene_bed = pybedtools.BedTool(\n",
    "    gene_subset[['seqname', 'start', 'end', 'gene_name']].to_csv(sep=\"\\t\", index=False, header=False),\n",
    "    from_string=True,\n",
    ")\n",
    "/\n",
    "genes_in_regions = category_bed.intersect(gene_bed, wao=True)\n",
    "genes_in_regions = genes_in_regions.to_dataframe()"
   ]
  },
  {
   "cell_type": "code",
   "execution_count": null,
   "id": "a5abccdd-1626-44fe-81d2-25011ca6f49e",
   "metadata": {},
   "outputs": [],
   "source": [
    "genes_in_regions['category'] = genes_in_regions['name'].apply(lambda n: '_'.join(n.split('_')[:-1]))\n",
    "genes_in_regions = genes_in_regions.rename(columns = {'thickEnd': 'gene'})"
   ]
  },
  {
   "cell_type": "code",
   "execution_count": null,
   "id": "7d845242-7992-4883-b5b2-48f996b2e412",
   "metadata": {},
   "outputs": [],
   "source": [
    "genes_in_regions.head(3)"
   ]
  },
  {
   "cell_type": "markdown",
   "id": "56c8a2d1-75d3-4276-9ab4-fdb1680c52d2",
   "metadata": {},
   "source": [
    "So now, for regions that do not contain a gene, we examine the closest gene."
   ]
  },
  {
   "cell_type": "code",
   "execution_count": null,
   "id": "369bd4e9-7461-4303-a8e1-1569d6b0108f",
   "metadata": {},
   "outputs": [],
   "source": [
    "regions_without_genes = genes_in_regions.query('score == \".\"')[['chrom', 'start', 'end', 'name']].sort_values(by = ['chrom', 'start'])\n"
   ]
  },
  {
   "cell_type": "code",
   "execution_count": null,
   "id": "1ec14300-ee80-459e-8439-483846af5e8e",
   "metadata": {},
   "outputs": [],
   "source": [
    "# do the intersection with pybedtools.\n",
    "without_genes_bed = pybedtools.BedTool(\n",
    "    regions_without_genes.to_csv(sep=\"\\t\", index=False, header=False), from_string=True\n",
    ")\n",
    "\n",
    "gene_bed = pybedtools.BedTool(\n",
    "    gene_subset[['seqname', 'start', 'end', 'gene_name']].sort_values(by = ['seqname', 'start']).to_csv(sep=\"\\t\", index=False, header=False),\n",
    "    from_string=True,\n",
    ")\n",
    "\n",
    "closest_genes = without_genes_bed.closest(gene_bed, d=True)\n",
    "closest_genes = closest_genes.to_dataframe()"
   ]
  },
  {
   "cell_type": "code",
   "execution_count": null,
   "id": "95eb771b-9ea6-47b4-b7e2-3c361085854c",
   "metadata": {},
   "outputs": [],
   "source": [
    "closest_genes['category'] = closest_genes['name'].apply(lambda n: '_'.join(n.split('_')[:-1]))\n",
    "closest_genes = closest_genes.rename(columns = {'thickEnd': 'gene'})"
   ]
  },
  {
   "cell_type": "code",
   "execution_count": null,
   "id": "4557b824-276b-4a31-b3c2-b5d6ec3e2668",
   "metadata": {},
   "outputs": [],
   "source": [
    "closest_genes.head(2)"
   ]
  },
  {
   "cell_type": "markdown",
   "id": "8eca0109-8c4c-4d3d-a3b9-2fb6198954b7",
   "metadata": {},
   "source": [
    "The number of genes identified through this process and the size of our original regions without genes are not the same:"
   ]
  },
  {
   "cell_type": "code",
   "execution_count": null,
   "id": "223379a6-3ba1-4aa1-a254-fe3e0dd0dc74",
   "metadata": {},
   "outputs": [],
   "source": [
    "regions_without_genes.shape, closest_genes.shape"
   ]
  },
  {
   "cell_type": "markdown",
   "id": "3c9d0f70-65aa-4107-b60c-861d1c6a196b",
   "metadata": {},
   "source": [
    "What gives?"
   ]
  },
  {
   "cell_type": "code",
   "execution_count": null,
   "id": "4f22a709-2a4d-43c5-bbad-5ae311a9e559",
   "metadata": {},
   "outputs": [],
   "source": [
    "region_counts = closest_genes['name'].value_counts()\n",
    "duplicate_regions = region_counts[region_counts > 1]\n",
    "\n",
    "closest_genes[closest_genes['name'] == 'ewing_chromHMM15_Quies_390260']"
   ]
  },
  {
   "cell_type": "markdown",
   "id": "98ec315e-3923-4741-8b30-be19e8e5da99",
   "metadata": {},
   "source": [
    "I see. This is an issue with pseudogenes, etc. Well, I suppose we have to keep them."
   ]
  },
  {
   "cell_type": "code",
   "execution_count": null,
   "id": "029d1086-2036-47a0-a094-93971ef7ed04",
   "metadata": {},
   "outputs": [],
   "source": [
    "genes_in_regions = genes_in_regions.query('gene != \".\"')"
   ]
  },
  {
   "cell_type": "markdown",
   "id": "228e6142-5844-4ab6-9edd-226090c645e6",
   "metadata": {},
   "source": [
    "We now convert these to lookup dictionaries for easy access."
   ]
  },
  {
   "cell_type": "code",
   "execution_count": null,
   "id": "a95cf762-cc27-4766-be70-2a36910d628c",
   "metadata": {},
   "outputs": [],
   "source": [
    "region_gene_lookup = defaultdict(dict)\n",
    "\n",
    "for region in nbl_noncoding_framework['functional_category']:\n",
    "    within_genes = set(genes_in_regions[genes_in_regions['category'] == region]['gene'])\n",
    "    close_genes = set(closest_genes[closest_genes['category'] == region]['gene'])\n",
    "    \n",
    "    region_gene_lookup[region]['within'] = within_genes\n",
    "    region_gene_lookup[region]['closest'] = close_genes"
   ]
  },
  {
   "cell_type": "markdown",
   "id": "94b9307f-a666-45d6-924a-4dff45763a9b",
   "metadata": {},
   "source": [
    "# Create our gene lists\n",
    "\n",
    "Alright, now for the tricky part. For each category, we need to create a gene list. It's pretty clear to me that the best way to store this is in a sparse matrix. Each row will be a gene, and each column a category. The element will be 1 if that gene is eligible for that category and 0 otherwise.\n",
    "\n",
    "Each category starts with all of the reference genes being eligible and then progressively shrinks to fit the category's requirements."
   ]
  },
  {
   "cell_type": "code",
   "execution_count": null,
   "id": "2d0a45fc-102e-40ce-9824-4751205668ed",
   "metadata": {},
   "outputs": [],
   "source": [
    "gene_ref = gene_subset['gene_name'].tolist()\n",
    "len(gene_ref)"
   ]
  },
  {
   "cell_type": "markdown",
   "id": "1bb9ea4d-c84b-448e-8f73-e676350d4b47",
   "metadata": {},
   "source": [
    "## Some examples"
   ]
  },
  {
   "cell_type": "markdown",
   "id": "5fb062b5-75f8-494d-9d78-bc1e3a5caca5",
   "metadata": {},
   "source": [
    "So ~19k genes are eligible as the \"master\" protein_coding list. An example, let's consider a few categories:"
   ]
  },
  {
   "cell_type": "code",
   "execution_count": null,
   "id": "ae0c39d3-5f38-4ebf-8736-277ff32b38dd",
   "metadata": {},
   "outputs": [],
   "source": [
    "nbl_framework_results.loc[0, 'category_name']"
   ]
  },
  {
   "cell_type": "markdown",
   "id": "dca6185b-a5fb-4392-961f-17db81b54e66",
   "metadata": {},
   "source": [
    "This category receives no reductions whatsoever."
   ]
  },
  {
   "cell_type": "code",
   "execution_count": null,
   "id": "4952cf66-18d9-43b6-9ed3-3cfada8f8e55",
   "metadata": {},
   "outputs": [],
   "source": [
    "test_cat = 'ANY.SINGLETON.PREDICTED_NONCODING_SPAN.neuroblastoma_H3K27Ac_peak.PREDICTED_INTRONIC.ANY.ANY.protein_coding'"
   ]
  },
  {
   "cell_type": "markdown",
   "id": "e3e12c49-a9de-49bb-a24a-5c7d6f83db49",
   "metadata": {},
   "source": [
    "This category receives one reduction--from `neuroblastoma_H3K27Ac_peak`"
   ]
  },
  {
   "cell_type": "code",
   "execution_count": null,
   "id": "fbe576c5-76f2-493a-9938-c7e74b11145c",
   "metadata": {},
   "outputs": [],
   "source": [
    "neuroblastoma_H3K27Ac_peak_genes = region_gene_lookup['neuroblastoma_H3K27Ac_peak']['within']\n",
    "len(neuroblastoma_H3K27Ac_peak_genes)"
   ]
  },
  {
   "cell_type": "code",
   "execution_count": null,
   "id": "7a484492-99b1-414c-8efa-7b496a1b3d80",
   "metadata": {},
   "outputs": [],
   "source": [
    "len(set(neuroblastoma_H3K27Ac_peak_genes) & set(gene_ref))"
   ]
  },
  {
   "cell_type": "markdown",
   "id": "30dfefcf-98f7-47ea-9946-e4fbc79a0483",
   "metadata": {},
   "source": [
    "So from 19k genes down to 13.5k genes."
   ]
  },
  {
   "cell_type": "code",
   "execution_count": null,
   "id": "45fc6160-df0a-481e-a80a-ddce97b3b1d2",
   "metadata": {},
   "outputs": [],
   "source": [
    "test_cat = 'ANY.SINGLETON.PREDICTED_NONCODING_BREAKPOINT.neuroblastoma_tad_boundary.ANY.ANY.ANY.protein_coding'"
   ]
  },
  {
   "cell_type": "markdown",
   "id": "08153176-5e3a-4585-9adb-b632b865f64f",
   "metadata": {},
   "source": [
    "This framework receives two reductions--one for `neuroblastoma_tad_boundary` and one for `genic_relationship == \"ANY\"`, which contains within it `genic_relationship == \"INTERGENIC\"`. This means we need to include the closest genes as well."
   ]
  },
  {
   "cell_type": "code",
   "execution_count": null,
   "id": "f5e3410c-1e8c-4fbe-98fe-eefacc536c7e",
   "metadata": {},
   "outputs": [],
   "source": [
    "neuroblastoma_tad_boundary_genes = region_gene_lookup['neuroblastoma_tad_boundary']['within']\n",
    "neuroblastoma_tad_boundary_genes_closest = region_gene_lookup['neuroblastoma_tad_boundary']['closest']\n",
    "print(len(neuroblastoma_tad_boundary_genes), len(neuroblastoma_tad_boundary_genes_closest))\n",
    "\n",
    "neuroblastoma_tad_boundary_genes = neuroblastoma_tad_boundary_genes | neuroblastoma_tad_boundary_genes_closest\n",
    "len(neuroblastoma_tad_boundary_genes)"
   ]
  },
  {
   "cell_type": "markdown",
   "id": "1ac5478c-bfe7-4630-abf1-6abb91132f0d",
   "metadata": {},
   "source": [
    "## Formalize the calculation of gene lists\n",
    "\n",
    "We define a quick function to make this easier"
   ]
  },
  {
   "cell_type": "code",
   "execution_count": null,
   "id": "714c257e-4b65-4a09-8aaf-5f1f649612d0",
   "metadata": {},
   "outputs": [],
   "source": [
    "def category_to_gene_list(category, sv_effect, genes_in_regions, closest_genes, region_gene_lookup, reference_list):\n",
    "    '''Takes in a category and its effect (coding or non-coding) and returns a gene list of eligible genes in that category.\n",
    "    Takes in a reference gene list that will be subset as well.'''\n",
    "    \n",
    "    category_genes = set(reference_list.copy())\n",
    "    \n",
    "    if sv_effect == \"coding\":\n",
    "        components = dict(zip(nbl_coding_framework.columns, category.split('.')))\n",
    "            \n",
    "    elif sv_effect == \"non-coding\":\n",
    "        components = dict(zip(nbl_noncoding_framework.columns, category.split('.')))\n",
    "        \n",
    "    # we only analyze two gene groups\n",
    "    gene_group = components['gene_group']\n",
    "    if gene_group not in ['protein_coding', 'cosmic_and_germline_CPGs']:\n",
    "        raise ValueError(f'gene_group {gene_group} not valid.')\n",
    "        \n",
    "    # apply constraints\n",
    "    constraint = components['constraint']\n",
    "    if components['constraint'] in ['lof_constrained', 'missense_constrained', 'unconstrained']:\n",
    "        category_genes = category_genes & set(gene_restrictions[constraint])\n",
    "    \n",
    "    # apply expression\n",
    "    if components['expression'] == 'expressed_in_adrenal_gland':\n",
    "        category_genes = category_genes & set(gene_restrictions['expressed_in_adrenal_gland'])\n",
    "    \n",
    "    # if the sv is a non-coding SV, there are still more restrictions\n",
    "    if sv_effect == \"non-coding\":\n",
    "        \n",
    "        # apply gene group if necessary\n",
    "        if components['gene_group'] == 'cosmic_and_germline_CPGs':\n",
    "            category_genes = category_genes & set(gene_restrictions['cosmic_and_germline_CPGs'])\n",
    "            \n",
    "        # then, assess the functional category\n",
    "        func_cat = components['functional_category']\n",
    "        func_cat_genes = region_gene_lookup[func_cat]['within']\n",
    "        \n",
    "        # then, we check the genic relationship, which determines whether we need the closest genes as well\n",
    "        if components['genic_relationship'] in ['ANY', 'PREDICTED_INTERGENIC']:\n",
    "            cat_closest_genes = region_gene_lookup[func_cat]['closest']\n",
    "            func_cat_genes = func_cat_genes | cat_closest_genes\n",
    "            \n",
    "        # with this in mind, merge\n",
    "        category_genes = category_genes & func_cat_genes\n",
    "        \n",
    "    return category_genes"
   ]
  },
  {
   "cell_type": "code",
   "execution_count": null,
   "id": "50cfbbcc-eb29-4d0e-b306-0efb895cfd99",
   "metadata": {},
   "outputs": [],
   "source": [
    "test_cat = 'ANY.SINGLETON.PREDICTED_NONCODING_BREAKPOINT.neuroblastoma_tad_boundary.ANY.ANY.ANY.protein_coding'\n",
    "category_genes = category_to_gene_list(test_cat, 'non-coding', genes_in_regions, closest_genes, region_gene_lookup, gene_ref)\n",
    "print(len(category_genes))"
   ]
  },
  {
   "cell_type": "markdown",
   "id": "a50604b1-aa5a-4f9a-8bf8-c768c6b8e4f2",
   "metadata": {},
   "source": [
    "## Create our category-gene matrix"
   ]
  },
  {
   "cell_type": "code",
   "execution_count": null,
   "id": "a7380020-cd72-4904-a6cb-bb257531e2f2",
   "metadata": {},
   "outputs": [],
   "source": [
    "included_categories = nbl_framework_results[nbl_framework_results['category_name'].apply(lambda cn: cn.split('.')[-1] in ['protein_coding', 'cosmic_and_germline_CPGs'])].reset_index(drop = True)\n",
    "category_gene_matrix = pd.DataFrame(0, index = included_categories['category_name'].tolist(), columns = sorted(gene_ref))"
   ]
  },
  {
   "cell_type": "code",
   "execution_count": null,
   "id": "192f2c1a-3818-4e6e-bc6e-c4c79ea2ee46",
   "metadata": {},
   "outputs": [],
   "source": [
    "for index, row in included_categories.iterrows():\n",
    "    if index % 100 == 0:\n",
    "        print(index, end = ', ')\n",
    "    category = row['category_name']\n",
    "    sv_category = row['sv_category']\n",
    "    \n",
    "    if category.split('.')[-1] not in ['protein_coding', 'cosmic_and_germline_CPGs']:\n",
    "        continue\n",
    "    \n",
    "    genes_in_category = category_to_gene_list(category, sv_category, genes_in_regions, closest_genes, region_gene_lookup, gene_ref)\n",
    "    \n",
    "    category_gene_matrix.loc[category, genes_in_category] = 1"
   ]
  },
  {
   "cell_type": "code",
   "execution_count": null,
   "id": "bf0e91e7-872d-4dd1-8825-b938b82449a8",
   "metadata": {},
   "outputs": [],
   "source": [
    "counts = category_gene_matrix.sum(axis = 1)\n",
    "counts[counts > 1].sort_values()"
   ]
  },
  {
   "cell_type": "markdown",
   "id": "79eeae77-ac9f-4c45-977f-d441b8a3612f",
   "metadata": {},
   "source": [
    "We start to see some of the severe restrictions for some of these categories, and we note that thousands of categories actually contain no genes!"
   ]
  },
  {
   "cell_type": "markdown",
   "id": "95ef4b85-d31c-4d81-8f60-ce5594fcf205",
   "metadata": {},
   "source": [
    "# Export"
   ]
  },
  {
   "cell_type": "code",
   "execution_count": null,
   "id": "b1dfbf5a-f402-446c-9c03-abd214539ffb",
   "metadata": {},
   "outputs": [],
   "source": [
    "category_gene_matrix.index.name = 'category'"
   ]
  },
  {
   "cell_type": "code",
   "execution_count": null,
   "id": "2f157b4e-19c4-4d3a-ba09-1a57a8b7e683",
   "metadata": {},
   "outputs": [],
   "source": [
    "category_gene_matrix.to_csv('data/cwas-results/category-gene-matrix.csv')"
   ]
  },
  {
   "cell_type": "markdown",
   "id": "604f6cb5-f754-418d-8a07-a51f82595534",
   "metadata": {},
   "source": [
    "# Run gene set enrichment on the categories themselves\n",
    "\n",
    "We end up running a ton of gene set enrichments in a variety of contexts for the CWAS results. I want to run the gene set enrichment for the categories at baseline here."
   ]
  },
  {
   "cell_type": "code",
   "execution_count": 12,
   "id": "c742e107-cd1c-4590-818c-01017d7addca",
   "metadata": {},
   "outputs": [],
   "source": [
    "category_gene_matrix = pd.read_csv('data/cwas-results/category-gene-matrix.csv').set_index('category')"
   ]
  },
  {
   "cell_type": "markdown",
   "id": "ad44bf4d-a353-4a5c-8943-a54d3ed9ddd6",
   "metadata": {},
   "source": [
    "We subset to significant categories, because these are the only ones that we care about."
   ]
  },
  {
   "cell_type": "code",
   "execution_count": 13,
   "id": "af8e8aa9-fe41-4ecc-a0c0-5c3c33178184",
   "metadata": {},
   "outputs": [],
   "source": [
    "nbl_analysis_categories = nbl_framework_results.query('negative_log10_p_value > 3.5')\n",
    "analysis_category_gene_matrix = category_gene_matrix.loc[nbl_analysis_categories['category_name'].tolist()]"
   ]
  },
  {
   "cell_type": "code",
   "execution_count": 14,
   "id": "58e55322-797d-4323-a3f3-604adeae6613",
   "metadata": {},
   "outputs": [],
   "source": [
    "gene_ref = set(category_gene_matrix.columns)"
   ]
  },
  {
   "cell_type": "markdown",
   "id": "5340cc77-785b-45ed-b663-3624e0de1e2d",
   "metadata": {},
   "source": [
    "Read in the gene sets"
   ]
  },
  {
   "cell_type": "code",
   "execution_count": 15,
   "id": "bd9663d2-e029-48ae-8efd-7f536d395e52",
   "metadata": {},
   "outputs": [],
   "source": [
    "gene_sets = {}\n",
    "with open('ref/gene-sets.txt') as gs_in:\n",
    "    for line in gs_in:\n",
    "        comp = line.strip().split('\\t')\n",
    "        db = comp[0]\n",
    "        gs = comp[1]\n",
    "        genes = comp[2:]\n",
    "        gene_sets[db + ' | ' + gs] = genes"
   ]
  },
  {
   "cell_type": "code",
   "execution_count": 16,
   "id": "c071b47b-c4cf-46e2-b080-73c2860e7c05",
   "metadata": {},
   "outputs": [
    {
     "data": {
      "text/plain": [
       "26983"
      ]
     },
     "execution_count": 16,
     "metadata": {},
     "output_type": "execute_result"
    }
   ],
   "source": [
    "len(gene_sets)"
   ]
  },
  {
   "cell_type": "markdown",
   "id": "6ab817a5-5fcf-4f39-8b39-95e10821f41e",
   "metadata": {},
   "source": [
    "We convert both our gene sets and categories to sparse matrices."
   ]
  },
  {
   "cell_type": "code",
   "execution_count": 17,
   "id": "3dd5435f-13f8-4d5d-b37c-a59da0a53a12",
   "metadata": {},
   "outputs": [],
   "source": [
    "import scipy.sparse"
   ]
  },
  {
   "cell_type": "code",
   "execution_count": 18,
   "id": "9e13d1de-3808-4f6d-ad54-759927c10c15",
   "metadata": {},
   "outputs": [],
   "source": [
    "cat_gene_sparse_mtx = scipy.sparse.csr_matrix(analysis_category_gene_matrix.values)"
   ]
  },
  {
   "cell_type": "code",
   "execution_count": 19,
   "id": "57bfada1-b2da-423f-b87b-f598952b824d",
   "metadata": {},
   "outputs": [],
   "source": [
    "gene_to_idx = {gene: i for i, gene in enumerate(analysis_category_gene_matrix.columns)}\n",
    "cat_to_idx = {cat: i for i, cat in enumerate(analysis_category_gene_matrix.index)}"
   ]
  },
  {
   "cell_type": "code",
   "execution_count": 20,
   "id": "1d67e384-00af-49ae-b6b7-f0f35b92f37a",
   "metadata": {},
   "outputs": [],
   "source": [
    "gs_to_idx = {}\n",
    "\n",
    "values = []\n",
    "row_indices = []\n",
    "column_indices = []\n",
    "for i, (gs, genes) in enumerate(gene_sets.items()):\n",
    "    gs_to_idx[gs] = i\n",
    "    \n",
    "    column_indices += [gene_to_idx[g] for g in genes]\n",
    "    row_indices += [i] * len(genes)\n",
    "    values += [1] * len(genes)\n",
    "    \n",
    "values = np.array(values)\n",
    "row_indices = np.array(row_indices)\n",
    "column_indices = np.array(column_indices)"
   ]
  },
  {
   "cell_type": "code",
   "execution_count": 21,
   "id": "c226169d-1059-4d0b-b3a9-f9eda1159b29",
   "metadata": {},
   "outputs": [],
   "source": [
    "gs_gene_sparse_mtx = scipy.sparse.csr_matrix((values, (row_indices, column_indices)), \n",
    "                                             shape = (len(gs_to_idx), len(gene_to_idx))).T"
   ]
  },
  {
   "cell_type": "markdown",
   "id": "2ef09cc0-f9ce-4ab2-9ef7-40126af69b1f",
   "metadata": {},
   "source": [
    "We use some nice matrix math to pull out all our elements for the contingency table."
   ]
  },
  {
   "cell_type": "code",
   "execution_count": 22,
   "id": "7e1a2b62-a888-4e9f-a9bf-c2ef26925878",
   "metadata": {},
   "outputs": [],
   "source": [
    "cat_and_gs = cat_gene_sparse_mtx.dot(gs_gene_sparse_mtx).todense().A\n",
    "cat_and_not_gs = (cat_gene_sparse_mtx.sum(axis = 1) - cat_and_gs).A\n",
    "not_cat_and_gs = (gs_gene_sparse_mtx.sum(axis = 0) - cat_and_gs).A\n",
    "\n",
    "# a bit of math\n",
    "I = np.ones(shape = (cat_gene_sparse_mtx.shape[0], gs_gene_sparse_mtx.shape[1])) * cat_gene_sparse_mtx.shape[1]\n",
    "not_cat_and_not_gs = (I - cat_and_not_gs - not_cat_and_gs - cat_and_gs)"
   ]
  },
  {
   "cell_type": "markdown",
   "id": "8c11f4ec-04f9-4865-960b-498dcdda9e18",
   "metadata": {},
   "source": [
    "We now pass this to our vectorized fishers exact test"
   ]
  },
  {
   "cell_type": "code",
   "execution_count": 23,
   "id": "5449d92f-ab57-41f3-b40a-f3500fa6a6b2",
   "metadata": {},
   "outputs": [],
   "source": [
    "categories = []\n",
    "for c in analysis_category_gene_matrix.index:\n",
    "    categories += [c] * cat_and_gs.shape[1]\n",
    "    \n",
    "gene_sets = list(gs_to_idx.keys()) * cat_and_gs.shape[0]"
   ]
  },
  {
   "cell_type": "code",
   "execution_count": 24,
   "id": "3f2b127a-3f1e-47b2-8920-e586c3da4715",
   "metadata": {},
   "outputs": [
    {
     "name": "stderr",
     "output_type": "stream",
     "text": [
      "/Users/jettcrowdis/opt/anaconda3/envs/pediatric-germline-svs-3.7.13/lib/python3.7/site-packages/pyranges/statistics.py:163: RuntimeWarning: invalid value encountered in true_divide\n",
      "  OR = ((tp + pseudocount) / (fp + pseudocount)) / ((fn + pseudocount) / (tn + pseudocount))\n",
      "/Users/jettcrowdis/opt/anaconda3/envs/pediatric-germline-svs-3.7.13/lib/python3.7/site-packages/pyranges/statistics.py:163: RuntimeWarning: divide by zero encountered in true_divide\n",
      "  OR = ((tp + pseudocount) / (fp + pseudocount)) / ((fn + pseudocount) / (tn + pseudocount))\n"
     ]
    }
   ],
   "source": [
    "tp = cat_and_gs.ravel().astype(int)\n",
    "fp = cat_and_not_gs.ravel().astype(int)\n",
    "fn = not_cat_and_gs.ravel().astype(int)\n",
    "tn = not_cat_and_not_gs.ravel().astype(int)\n",
    "\n",
    "results = pyranges.statistics.fisher_exact(tp, fp, fn, tn, pseudocount = 0)\n",
    "results['expected'] = pd.Series((fn + tp).astype(str)) + '/' + pd.Series((fp + tn + tp + fn).astype(str))\n",
    "results['data'] = pd.Series((tp).astype(str)) + '/' + pd.Series((tp + fp).astype(str))\n",
    "results['db'] = [string.split(' | ')[0] for string in gene_sets]\n",
    "results['gs'] = [string.split(' | ')[1] for string in gene_sets]\n",
    "results['category'] = categories\n",
    "\n",
    "results = results[['db', 'gs', 'category', 'expected', 'data', 'OR', 'P']]\n",
    "results = results.rename(columns = {'OR': 'odds_ratio', 'P': 'p'})"
   ]
  },
  {
   "cell_type": "code",
   "execution_count": 25,
   "id": "91dc34cc-a9b4-4baf-99c4-e16e2fc55f86",
   "metadata": {},
   "outputs": [
    {
     "data": {
      "text/html": [
       "<div>\n",
       "<style scoped>\n",
       "    .dataframe tbody tr th:only-of-type {\n",
       "        vertical-align: middle;\n",
       "    }\n",
       "\n",
       "    .dataframe tbody tr th {\n",
       "        vertical-align: top;\n",
       "    }\n",
       "\n",
       "    .dataframe thead th {\n",
       "        text-align: right;\n",
       "    }\n",
       "</style>\n",
       "<table border=\"1\" class=\"dataframe\">\n",
       "  <thead>\n",
       "    <tr style=\"text-align: right;\">\n",
       "      <th></th>\n",
       "      <th>db</th>\n",
       "      <th>gs</th>\n",
       "      <th>category</th>\n",
       "      <th>expected</th>\n",
       "      <th>data</th>\n",
       "      <th>odds_ratio</th>\n",
       "      <th>p</th>\n",
       "    </tr>\n",
       "  </thead>\n",
       "  <tbody>\n",
       "    <tr>\n",
       "      <th>0</th>\n",
       "      <td>MSigDB_Hallmark_2020</td>\n",
       "      <td>TNF-alpha Signaling via NF-kB</td>\n",
       "      <td>ANY.SINGLETON.PREDICTED_LOF_or_PREDICTED_PARTI...</td>\n",
       "      <td>199/19092</td>\n",
       "      <td>199/19092</td>\n",
       "      <td>NaN</td>\n",
       "      <td>1.0</td>\n",
       "    </tr>\n",
       "    <tr>\n",
       "      <th>1</th>\n",
       "      <td>MSigDB_Hallmark_2020</td>\n",
       "      <td>Hypoxia</td>\n",
       "      <td>ANY.SINGLETON.PREDICTED_LOF_or_PREDICTED_PARTI...</td>\n",
       "      <td>200/19092</td>\n",
       "      <td>200/19092</td>\n",
       "      <td>NaN</td>\n",
       "      <td>1.0</td>\n",
       "    </tr>\n",
       "  </tbody>\n",
       "</table>\n",
       "</div>"
      ],
      "text/plain": [
       "                     db                             gs  \\\n",
       "0  MSigDB_Hallmark_2020  TNF-alpha Signaling via NF-kB   \n",
       "1  MSigDB_Hallmark_2020                        Hypoxia   \n",
       "\n",
       "                                            category   expected       data  \\\n",
       "0  ANY.SINGLETON.PREDICTED_LOF_or_PREDICTED_PARTI...  199/19092  199/19092   \n",
       "1  ANY.SINGLETON.PREDICTED_LOF_or_PREDICTED_PARTI...  200/19092  200/19092   \n",
       "\n",
       "   odds_ratio    p  \n",
       "0         NaN  1.0  \n",
       "1         NaN  1.0  "
      ]
     },
     "execution_count": 25,
     "metadata": {},
     "output_type": "execute_result"
    }
   ],
   "source": [
    "results.head(2)"
   ]
  },
  {
   "cell_type": "code",
   "execution_count": 85,
   "id": "74e9f88c-8530-4190-9b09-cac7a907ae40",
   "metadata": {},
   "outputs": [
    {
     "data": {
      "text/plain": [
       "db                                   GO_Biological_Process_Full\n",
       "gs            positive regulation of behavioral fear respons...\n",
       "category      DEL.SINGLETON.PREDICTED_NONCODING_BREAKPOINT.n...\n",
       "expected                                                7/19092\n",
       "data                                                     1/2758\n",
       "odds_ratio                                             0.987063\n",
       "p                                                           1.0\n",
       "fdr_p                                                       1.0\n",
       "Name: 1160264, dtype: object"
      ]
     },
     "execution_count": 85,
     "metadata": {},
     "output_type": "execute_result"
    }
   ],
   "source": [
    "results[results['category'].str.contains('\\.neuroblastoma_H3K27Ac_peak\\.')].loc[1160264]"
   ]
  },
  {
   "cell_type": "markdown",
   "id": "a09e3196-9a2d-49ba-ae64-58b2f9906765",
   "metadata": {},
   "source": [
    "# FDR correction\n",
    "\n",
    "No analysis is complete without an FDR correction. Thankfully, we get to throw out tests that can't possibly yield in a significant result. We've already calculated what we need, so we'll be a bit fancy."
   ]
  },
  {
   "cell_type": "code",
   "execution_count": 58,
   "id": "a1a77b84-df8a-4113-8674-b2dac718004e",
   "metadata": {},
   "outputs": [],
   "source": [
    "for cat in nbl_analysis_categories['category_name'].tolist():\n",
    "    for db in results['db'].unique():\n",
    "        cat_db_result = results[(results['db'] == db) &\n",
    "                                (results['category'] == cat)]\n",
    "        \n",
    "        fdr_p = statsmodels.stats.multitest.multipletests(cat_db_result['p'].to_list(), method='fdr_bh')[1]\n",
    "        results.loc[cat_db_result.index, 'fdr_p'] = fdr_p"
   ]
  },
  {
   "cell_type": "code",
   "execution_count": 68,
   "id": "4727f0b0-21d0-40d8-b969-69cfb26f2420",
   "metadata": {},
   "outputs": [],
   "source": [
    "results.to_csv('data/cwas-results/category-gene-set-raw-significance.csv', index=False)"
   ]
  },
  {
   "cell_type": "markdown",
   "id": "66b63a22-dcad-4c3d-9909-a5885c708d25",
   "metadata": {},
   "source": [
    "# How to handle counts?\n",
    "\n",
    "In our analysis notebook, we'll need to handle _counts_ rather than just overlaps. Let's make sure we understand how to do this."
   ]
  },
  {
   "cell_type": "code",
   "execution_count": 48,
   "id": "cbf49fee-7d0a-45dc-93a9-05158e30ff30",
   "metadata": {},
   "outputs": [],
   "source": [
    "M = np.array([[1, 4, 0, 2], [2, 3, 1, 0], [0, 3, 4, 1], [0, 0, 0, 1]])\n",
    "N = np.array([[1, 0, 0, 1], [0, 1, 1, 1], [1, 0, 1, 1], [0, 0, 0, 1]])\n",
    "\n",
    "M_and_N = M.dot(N)\n",
    "M_and_notN = M.sum(axis = 1).reshape(-1, 1) - M_and_N\n",
    "notM_and_N = N.sum(axis = 0).reshape(1, -1) - M.astype(bool).dot(N)\n",
    "\n",
    "I = np.ones(shape = (M.shape[0], N.shape[1])) * M.shape[1]\n",
    "notM_and_notN = I - M.astype(bool).sum(axis = 1).reshape(-1, 1) - N.sum(axis = 0).reshape(1, -1) + M.astype(bool).dot(N)"
   ]
  },
  {
   "cell_type": "markdown",
   "id": "a52a8530-9f18-4c3b-ac38-2880a921dc68",
   "metadata": {},
   "source": [
    "Essentially, the top row of the contigency table uses counts, but the bottom row uses binary presence/absence. So you just have to be careful with conversion to boolean for bottom row elements."
   ]
  }
 ],
 "metadata": {
  "kernelspec": {
   "display_name": "pediatric-germline-svs-3.7.13",
   "language": "python",
   "name": "pediatric-germline-svs-3.7.13"
  },
  "language_info": {
   "codemirror_mode": {
    "name": "ipython",
    "version": 3
   },
   "file_extension": ".py",
   "mimetype": "text/x-python",
   "name": "python",
   "nbconvert_exporter": "python",
   "pygments_lexer": "ipython3",
   "version": "3.7.13"
  }
 },
 "nbformat": 4,
 "nbformat_minor": 5
}
