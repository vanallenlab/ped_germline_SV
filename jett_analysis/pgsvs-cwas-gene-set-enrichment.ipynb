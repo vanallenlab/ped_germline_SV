{
 "cells": [
  {
   "cell_type": "code",
   "execution_count": 3,
   "id": "7faf7828-a5a8-4a0c-bab2-1583e9b9bf26",
   "metadata": {},
   "outputs": [],
   "source": [
    "import gseapy as gp\n",
    "import pandas as pd\n",
    "import numpy as np\n",
    "import scipy\n",
    "\n",
    "import re\n",
    "from gseapy import Biomart"
   ]
  },
  {
   "cell_type": "markdown",
   "id": "2ff50573-913c-4d4a-85d2-2adcf20872ae",
   "metadata": {},
   "source": [
    "# CWAS Gene Set Enrichment\n",
    "\n",
    "In this notebook, we explore whether categories significantly enriched for SVs in cases vs. controls reflect any higher level biological process. One way to do this is with gene set enrichment."
   ]
  },
  {
   "cell_type": "markdown",
   "id": "03d4797b-4907-4f7a-872c-4dc2aae28825",
   "metadata": {},
   "source": [
    "# What is gene set enrichment anyway?\n",
    "\n",
    "The idea of gene set enrichment is that in a list of genes (i.e. upregulated genes, or genes targeted by a \"category\"), if it were random, would have a certain degree of overlap with a gene set by pure chance. The idea of gene set enrichment is that we determine overlap with a gene set, and compare this to the background.\n",
    "\n",
    "This is a bit weirder with these data, since we have actual _SV counts_. The underlying test for gene set enrichment is a fisher's exact test, which works perfectly fine with counts in that way, but I'm not entirely sure it's right to do?\n",
    "\n",
    "We'll do it anyway I guess."
   ]
  },
  {
   "cell_type": "markdown",
   "id": "13dd9c2d-e951-42c6-9e3f-0f769f4ec9dc",
   "metadata": {},
   "source": [
    "# Load in the data\n",
    "\n",
    "We load in the SVs and dosages, which we'll need."
   ]
  },
  {
   "cell_type": "markdown",
   "id": "9f5ac656-9484-4cb2-b493-3dbae9c63129",
   "metadata": {
    "tags": []
   },
   "source": [
    "## Read in SVs"
   ]
  },
  {
   "cell_type": "code",
   "execution_count": 253,
   "id": "3fbde6e9-7298-45c9-a6b8-7596f5d4c033",
   "metadata": {},
   "outputs": [],
   "source": [
    "# define the folder name for all our results\n",
    "folder_name = \"processed-data-v2.5.2\"\n",
    "\n",
    "# define SVs and dosages for discovery and validation\n",
    "sv_path = \"gs://vanallen-pedsv-analysis/beds/PedSV.v2.5.2.full_cohort.analysis_samples.sites.bed.gz\"\n",
    "dosages_path = \"gs://vanallen-pedsv-analysis/beds/PedSV.v2.5.2.full_cohort.analysis_samples.allele_dosages.bed.gz\"\n",
    "\n",
    "# define metadata\n",
    "metadata_path = \"gs://vanallen-pedsv-analysis/sample_info/PedSV.v2.5.2.cohort_metadata.w_control_assignments.tsv.gz\"\n",
    "samples_path = \"gs://vanallen-pedsv-analysis/sample_info/PedSV.v2.5.2.final_analysis_cohort.samples.list\"\n",
    "\n",
    "# list of genes that are annotated - drop ensembl IDs\n",
    "gene_ref = pd.read_csv(\"ref/gencode_hg38_protein_coding_genes_for_annotation_7_31_23.txt\")\n",
    "gene_ref = gene_ref[~gene_ref['value'].str.startswith('ENSG00')]\n",
    "gene_ref = gene_ref['value'].tolist()"
   ]
  },
  {
   "cell_type": "markdown",
   "id": "8085c096-1ea6-4a62-ae31-87ea9afde972",
   "metadata": {},
   "source": [
    "Load metadata and SVs"
   ]
  },
  {
   "cell_type": "code",
   "execution_count": 121,
   "id": "258b57d3-0c78-46c7-801f-62ac188508af",
   "metadata": {},
   "outputs": [],
   "source": [
    "metadata = pd.read_csv(\n",
    "    metadata_path,\n",
    "    sep=\"\\t\",\n",
    ")\n",
    "\n",
    "# add a sex label to metadata\n",
    "metadata[\"sex\"] = (metadata[\"chrX_CopyNumber\"].round() < 2).astype(int)\n",
    "\n",
    "###############\n",
    "### Samples ###\n",
    "###############\n",
    "nbl_cases = metadata[\n",
    "    (metadata[\"neuroblastoma_case\"] == True)\n",
    "][\"entity:sample_id\"].tolist()\n",
    "\n",
    "nbl_controls = metadata[\n",
    "    (metadata[\"neuroblastoma_control\"] == True)\n",
    "][\"entity:sample_id\"].tolist()"
   ]
  },
  {
   "cell_type": "markdown",
   "id": "9f7209b0-7630-4502-a796-5eb7faac61c1",
   "metadata": {},
   "source": [
    "Now we load the SVs. We'll eventually combine discovery and validation data, but it's easiest to keep them separate for now, since the SVs and dosages are not fully overlapping."
   ]
  },
  {
   "cell_type": "code",
   "execution_count": 6,
   "id": "c3304748-d6f6-4e28-aea1-75fc7ddf24bc",
   "metadata": {},
   "outputs": [
    {
     "name": "stderr",
     "output_type": "stream",
     "text": [
      "/Users/jettcrowdis/opt/anaconda3/envs/pediatric-germline-svs-3.7.13/lib/python3.7/site-packages/IPython/core/interactiveshell.py:3457: DtypeWarning: Columns (10,34,35,37,39,41,45,46,47,48,72,73,87,88,106,107,121,122,136,137,155,156,170,171,185,186,204,205,219,220,234,235,253,254,268,269,283,284,302,303,366,367,381,382,400,401,415,416,430,431,449,450,464,465,479,480,498,499,513,514,528,529,547,548,562,563,577,578,596,597,645,646,647,648,649,650,690,691,692,693,694,695,713,714,728,729,743,744,758,759,773,774,788,789,803,804,818,819,833,834,848,849,863,864,878,879,893,894,908,909,923,924,931,937,943) have mixed types.Specify dtype option on import or set low_memory=False.\n",
      "  exec(code_obj, self.user_global_ns, self.user_ns)\n"
     ]
    }
   ],
   "source": [
    "###############\n",
    "##### SVs #####\n",
    "###############\n",
    "svs = pd.read_csv(\n",
    "    sv_path,\n",
    "    sep=\"\\t\",\n",
    ")\n",
    "\n",
    "###############\n",
    "### Dosages ###\n",
    "###############\n",
    "dosages = pd.read_csv(\n",
    "    dosages_path,\n",
    "    sep=\"\\t\",\n",
    "    index_col=False,\n",
    ")"
   ]
  },
  {
   "cell_type": "markdown",
   "id": "8bc80f52-735d-46f2-bb38-2032ea169030",
   "metadata": {},
   "source": [
    "## Read in the category results\n",
    "\n",
    "I'm going to concatenate all this data so that I'm only dealing with a few files. Focusing on neuroblastoma."
   ]
  },
  {
   "cell_type": "code",
   "execution_count": 102,
   "id": "8d5a4d3e-cde0-49ad-bbd9-f6d668a22cbd",
   "metadata": {},
   "outputs": [
    {
     "data": {
      "text/html": [
       "<div>\n",
       "<style scoped>\n",
       "    .dataframe tbody tr th:only-of-type {\n",
       "        vertical-align: middle;\n",
       "    }\n",
       "\n",
       "    .dataframe tbody tr th {\n",
       "        vertical-align: top;\n",
       "    }\n",
       "\n",
       "    .dataframe thead th {\n",
       "        text-align: right;\n",
       "    }\n",
       "</style>\n",
       "<table border=\"1\" class=\"dataframe\">\n",
       "  <thead>\n",
       "    <tr style=\"text-align: right;\">\n",
       "      <th></th>\n",
       "      <th>SV</th>\n",
       "      <th>chrom</th>\n",
       "      <th>start</th>\n",
       "      <th>end</th>\n",
       "      <th>category</th>\n",
       "      <th>sv_category</th>\n",
       "    </tr>\n",
       "  </thead>\n",
       "  <tbody>\n",
       "    <tr>\n",
       "      <th>0</th>\n",
       "      <td>PedSV.2.5.2_DUP_chr1_794</td>\n",
       "      <td>chr1</td>\n",
       "      <td>19221626</td>\n",
       "      <td>19301822</td>\n",
       "      <td>DUP.RARE.PREDICTED_COPY_GAIN.lof_constrained.e...</td>\n",
       "      <td>coding</td>\n",
       "    </tr>\n",
       "    <tr>\n",
       "      <th>1</th>\n",
       "      <td>PedSV.2.5.2_DUP_chr1_1379</td>\n",
       "      <td>chr1</td>\n",
       "      <td>44731601</td>\n",
       "      <td>44792024</td>\n",
       "      <td>DUP.RARE.PREDICTED_COPY_GAIN.lof_constrained.e...</td>\n",
       "      <td>coding</td>\n",
       "    </tr>\n",
       "  </tbody>\n",
       "</table>\n",
       "</div>"
      ],
      "text/plain": [
       "                          SV chrom     start       end  \\\n",
       "0   PedSV.2.5.2_DUP_chr1_794  chr1  19221626  19301822   \n",
       "1  PedSV.2.5.2_DUP_chr1_1379  chr1  44731601  44792024   \n",
       "\n",
       "                                            category sv_category  \n",
       "0  DUP.RARE.PREDICTED_COPY_GAIN.lof_constrained.e...      coding  \n",
       "1  DUP.RARE.PREDICTED_COPY_GAIN.lof_constrained.e...      coding  "
      ]
     },
     "execution_count": 102,
     "metadata": {},
     "output_type": "execute_result"
    }
   ],
   "source": [
    "###########\n",
    "### SVs ###\n",
    "###########\n",
    "nbl_coding_svs = pd.read_csv(\n",
    "    \"data/CWAS data for Jett/List of variants by category for each CWAS analysis/neuroblastoma_all_coding_SVs_in_each_category_list_combined_11_3_23.txt\",\n",
    "    sep=\"\\t\",\n",
    ")\n",
    "\n",
    "nbl_noncoding_svs = pd.read_csv('data/CWAS data for Jett/List of variants by category for each CWAS analysis/neuroblastoma_all_noncoding_SVs_in_each_category_list_combined_BURDEN_TESTING_with_col_names_11_3_23.txt', sep='\\t')\n",
    "nbl_noncoding_svs = nbl_noncoding_svs.rename(columns = {'emd': 'end'})\n",
    "\n",
    "# combine the SVs\n",
    "nbl_coding_svs['sv_category'] = 'coding'\n",
    "nbl_noncoding_svs['sv_category'] = 'non-coding'\n",
    "\n",
    "nbl_category_svs = pd.concat([nbl_coding_svs, nbl_noncoding_svs])\n",
    "nbl_category_svs.head(2)"
   ]
  },
  {
   "cell_type": "code",
   "execution_count": 103,
   "id": "401f854f-6749-4333-9acb-36da395e9d93",
   "metadata": {},
   "outputs": [],
   "source": [
    "#########################\n",
    "### FRAMEWORK RESULTS ###\n",
    "#########################\n",
    "nbl_singleton_coding_framework_results = pd.read_csv(\n",
    "    \"data/CWAS data for Jett/CWAS sum stats/neuroblastoma_all_coding_cwas_concatenated_glm_results_SINGLETON_11_3_23.txt\",\n",
    "    sep=\"\\t\",\n",
    ")\n",
    "nbl_singleton_coding_framework_results[['af_category', 'sv_category']] = ['singleton', 'coding']\n",
    "\n",
    "nbl_rare_coding_framework_results = pd.read_csv(\n",
    "    \"data/CWAS data for Jett/CWAS sum stats/neuroblastoma_all_coding_cwas_concatenated_glm_results_RARE_11_3_23.txt\",\n",
    "    sep=\"\\t\",\n",
    ")\n",
    "nbl_rare_coding_framework_results[['af_category', 'sv_category']] = ['rare', 'coding']\n",
    "\n",
    "nbl_singleton_noncoding_framework_results = pd.read_csv(\n",
    "    \"data/CWAS data for Jett/CWAS sum stats/neuroblastoma_all_noncoding_cwas_concatenated_glm_results_SINGLETON_11_3_23.txt\",\n",
    "    sep=\"\\t\",\n",
    ")\n",
    "nbl_singleton_noncoding_framework_results[['af_category', 'sv_category']] = ['singleton', 'non-coding']\n",
    "\n",
    "nbl_rare_noncoding_framework_results = pd.read_csv(\n",
    "    \"data/CWAS data for Jett/CWAS sum stats/neuroblastoma_all_noncoding_cwas_concatenated_glm_results_RARE_11_3_23.txt\",\n",
    "    sep=\"\\t\",\n",
    ")\n",
    "nbl_rare_noncoding_framework_results[['af_category', 'sv_category']] = ['rare', 'non-coding']\n",
    "\n",
    "nbl_framework_results = pd.concat([nbl_singleton_coding_framework_results, nbl_rare_coding_framework_results, \n",
    "                                   nbl_singleton_noncoding_framework_results, nbl_rare_noncoding_framework_results])"
   ]
  },
  {
   "cell_type": "code",
   "execution_count": 104,
   "id": "38dd1721-aadb-4b31-828e-0c2f088317ec",
   "metadata": {},
   "outputs": [
    {
     "data": {
      "text/html": [
       "<div>\n",
       "<style scoped>\n",
       "    .dataframe tbody tr th:only-of-type {\n",
       "        vertical-align: middle;\n",
       "    }\n",
       "\n",
       "    .dataframe tbody tr th {\n",
       "        vertical-align: top;\n",
       "    }\n",
       "\n",
       "    .dataframe thead th {\n",
       "        text-align: right;\n",
       "    }\n",
       "</style>\n",
       "<table border=\"1\" class=\"dataframe\">\n",
       "  <thead>\n",
       "    <tr style=\"text-align: right;\">\n",
       "      <th></th>\n",
       "      <th>point_estimate</th>\n",
       "      <th>std_error</th>\n",
       "      <th>z_score</th>\n",
       "      <th>p_value</th>\n",
       "      <th>SV_counts_cases</th>\n",
       "      <th>SV_counts_cases_max</th>\n",
       "      <th>number_of_cases_with_zero_SVs</th>\n",
       "      <th>total_cases</th>\n",
       "      <th>SV_counts_controls</th>\n",
       "      <th>SV_counts_controls_max</th>\n",
       "      <th>...</th>\n",
       "      <th>number_of_unique_SVs</th>\n",
       "      <th>category_name</th>\n",
       "      <th>sv_type</th>\n",
       "      <th>frequency</th>\n",
       "      <th>mean_SVs_per_case</th>\n",
       "      <th>mean_SVs_per_control</th>\n",
       "      <th>mean_SVs_total</th>\n",
       "      <th>negative_log10_p_value</th>\n",
       "      <th>af_category</th>\n",
       "      <th>sv_category</th>\n",
       "    </tr>\n",
       "  </thead>\n",
       "  <tbody>\n",
       "    <tr>\n",
       "      <th>0</th>\n",
       "      <td>0.271918</td>\n",
       "      <td>0.051227</td>\n",
       "      <td>5.308100</td>\n",
       "      <td>1.110000e-07</td>\n",
       "      <td>438</td>\n",
       "      <td>5</td>\n",
       "      <td>336</td>\n",
       "      <td>646</td>\n",
       "      <td>2441</td>\n",
       "      <td>4</td>\n",
       "      <td>...</td>\n",
       "      <td>459</td>\n",
       "      <td>ANY.SINGLETON.PREDICTED_LOF_or_PREDICTED_PARTI...</td>\n",
       "      <td>ANY</td>\n",
       "      <td>SINGLETON</td>\n",
       "      <td>0.678019</td>\n",
       "      <td>0.519362</td>\n",
       "      <td>0.538533</td>\n",
       "      <td>6.955563</td>\n",
       "      <td>singleton</td>\n",
       "      <td>coding</td>\n",
       "    </tr>\n",
       "    <tr>\n",
       "      <th>1</th>\n",
       "      <td>0.276065</td>\n",
       "      <td>0.054006</td>\n",
       "      <td>5.111756</td>\n",
       "      <td>3.190000e-07</td>\n",
       "      <td>393</td>\n",
       "      <td>5</td>\n",
       "      <td>356</td>\n",
       "      <td>646</td>\n",
       "      <td>2172</td>\n",
       "      <td>4</td>\n",
       "      <td>...</td>\n",
       "      <td>411</td>\n",
       "      <td>DEL.SINGLETON.ANY.ANY.ANY.protein_coding</td>\n",
       "      <td>DEL</td>\n",
       "      <td>SINGLETON</td>\n",
       "      <td>0.608359</td>\n",
       "      <td>0.462128</td>\n",
       "      <td>0.479798</td>\n",
       "      <td>6.495968</td>\n",
       "      <td>singleton</td>\n",
       "      <td>coding</td>\n",
       "    </tr>\n",
       "  </tbody>\n",
       "</table>\n",
       "<p>2 rows × 22 columns</p>\n",
       "</div>"
      ],
      "text/plain": [
       "   point_estimate  std_error   z_score       p_value  SV_counts_cases  \\\n",
       "0        0.271918   0.051227  5.308100  1.110000e-07              438   \n",
       "1        0.276065   0.054006  5.111756  3.190000e-07              393   \n",
       "\n",
       "   SV_counts_cases_max  number_of_cases_with_zero_SVs  total_cases  \\\n",
       "0                    5                            336          646   \n",
       "1                    5                            356          646   \n",
       "\n",
       "   SV_counts_controls  SV_counts_controls_max  ...  number_of_unique_SVs  \\\n",
       "0                2441                       4  ...                   459   \n",
       "1                2172                       4  ...                   411   \n",
       "\n",
       "                                       category_name  sv_type  frequency  \\\n",
       "0  ANY.SINGLETON.PREDICTED_LOF_or_PREDICTED_PARTI...      ANY  SINGLETON   \n",
       "1           DEL.SINGLETON.ANY.ANY.ANY.protein_coding      DEL  SINGLETON   \n",
       "\n",
       "  mean_SVs_per_case mean_SVs_per_control  mean_SVs_total  \\\n",
       "0          0.678019             0.519362        0.538533   \n",
       "1          0.608359             0.462128        0.479798   \n",
       "\n",
       "   negative_log10_p_value  af_category  sv_category  \n",
       "0                6.955563    singleton       coding  \n",
       "1                6.495968    singleton       coding  \n",
       "\n",
       "[2 rows x 22 columns]"
      ]
     },
     "execution_count": 104,
     "metadata": {},
     "output_type": "execute_result"
    }
   ],
   "source": [
    "nbl_framework_results.head(2)"
   ]
  },
  {
   "cell_type": "code",
   "execution_count": 105,
   "id": "5a710bc0-28af-4ab2-9f85-30be5988429c",
   "metadata": {},
   "outputs": [],
   "source": [
    "nbl_coding_framework = pd.read_csv(\n",
    "    \"data/CWAS data for Jett/CWAS frameworks/CWAS_categories_neuroblastoma_coding_8_17_23.txt\",\n",
    "    sep=\"\\t\",\n",
    ")\n",
    "\n",
    "nbl_noncoding_framework = pd.read_csv(\n",
    "    \"data/CWAS data for Jett/CWAS frameworks/CWAS_rare_categories_neuroblastoma_noncoding_10_2_23.txt\",\n",
    "    sep=\"\\t\",\n",
    ")"
   ]
  },
  {
   "cell_type": "markdown",
   "id": "5b7a6cf4-27ef-4964-b9be-2ea4779d6720",
   "metadata": {
    "tags": []
   },
   "source": [
    "# Walk through a coding example\n",
    "\n",
    "Let's extract out all the data that we need to examine the highest result for a single hallmark gene set."
   ]
  },
  {
   "cell_type": "code",
   "execution_count": 278,
   "id": "50a93ff6-dadc-4a11-b869-5e724f2614ea",
   "metadata": {},
   "outputs": [
    {
     "data": {
      "text/plain": [
       "('ANY.SINGLETON.PREDICTED_LOF_or_PREDICTED_PARTIAL_EXON_DUP.ANY.ANY.protein_coding',\n",
       " 'PREDICTED_LOF_or_PREDICTED_PARTIAL_EXON_DUP')"
      ]
     },
     "execution_count": 278,
     "metadata": {},
     "output_type": "execute_result"
    }
   ],
   "source": [
    "test_framework = nbl_framework_results.query('af_category == \"singleton\" & sv_category == \"coding\"').loc[0, [\"category_name\"]].item()\n",
    "framework_components = test_framework.split(\".\")\n",
    "genic_relationship = framework_components[2]\n",
    "test_framework, genic_relationship"
   ]
  },
  {
   "cell_type": "code",
   "execution_count": 279,
   "id": "f31ef722-d844-49bb-92be-75f6bccf609e",
   "metadata": {},
   "outputs": [
    {
     "data": {
      "text/html": [
       "<div>\n",
       "<style scoped>\n",
       "    .dataframe tbody tr th:only-of-type {\n",
       "        vertical-align: middle;\n",
       "    }\n",
       "\n",
       "    .dataframe tbody tr th {\n",
       "        vertical-align: top;\n",
       "    }\n",
       "\n",
       "    .dataframe thead th {\n",
       "        text-align: right;\n",
       "    }\n",
       "</style>\n",
       "<table border=\"1\" class=\"dataframe\">\n",
       "  <thead>\n",
       "    <tr style=\"text-align: right;\">\n",
       "      <th></th>\n",
       "      <th>sv_type</th>\n",
       "      <th>frequency</th>\n",
       "      <th>genic_relationship</th>\n",
       "      <th>constraint</th>\n",
       "      <th>expression</th>\n",
       "      <th>gene_group</th>\n",
       "    </tr>\n",
       "  </thead>\n",
       "  <tbody>\n",
       "    <tr>\n",
       "      <th>0</th>\n",
       "      <td>DUP</td>\n",
       "      <td>RARE</td>\n",
       "      <td>PREDICTED_COPY_GAIN</td>\n",
       "      <td>lof_constrained</td>\n",
       "      <td>expressed_in_adrenal_gland</td>\n",
       "      <td>protein_coding</td>\n",
       "    </tr>\n",
       "    <tr>\n",
       "      <th>1</th>\n",
       "      <td>DEL</td>\n",
       "      <td>SINGLETON</td>\n",
       "      <td>PREDICTED_INTRAGENIC_EXON_DUP</td>\n",
       "      <td>missense_constrained</td>\n",
       "      <td>ANY</td>\n",
       "      <td>cosmic_cancer_genes</td>\n",
       "    </tr>\n",
       "    <tr>\n",
       "      <th>2</th>\n",
       "      <td>CPX_or_INV</td>\n",
       "      <td>NaN</td>\n",
       "      <td>PREDICTED_LOF_or_PREDICTED_PARTIAL_EXON_DUP</td>\n",
       "      <td>unconstrained</td>\n",
       "      <td>NaN</td>\n",
       "      <td>germline_CPGs</td>\n",
       "    </tr>\n",
       "    <tr>\n",
       "      <th>3</th>\n",
       "      <td>INS_ALL</td>\n",
       "      <td>NaN</td>\n",
       "      <td>ANY</td>\n",
       "      <td>ANY</td>\n",
       "      <td>NaN</td>\n",
       "      <td>base_excision_repair_genes</td>\n",
       "    </tr>\n",
       "    <tr>\n",
       "      <th>4</th>\n",
       "      <td>ANY</td>\n",
       "      <td>NaN</td>\n",
       "      <td>NaN</td>\n",
       "      <td>NaN</td>\n",
       "      <td>NaN</td>\n",
       "      <td>chromatin_organization_genes</td>\n",
       "    </tr>\n",
       "  </tbody>\n",
       "</table>\n",
       "</div>"
      ],
      "text/plain": [
       "      sv_type  frequency                           genic_relationship  \\\n",
       "0         DUP       RARE                          PREDICTED_COPY_GAIN   \n",
       "1         DEL  SINGLETON                PREDICTED_INTRAGENIC_EXON_DUP   \n",
       "2  CPX_or_INV        NaN  PREDICTED_LOF_or_PREDICTED_PARTIAL_EXON_DUP   \n",
       "3     INS_ALL        NaN                                          ANY   \n",
       "4         ANY        NaN                                          NaN   \n",
       "\n",
       "             constraint                  expression  \\\n",
       "0       lof_constrained  expressed_in_adrenal_gland   \n",
       "1  missense_constrained                         ANY   \n",
       "2         unconstrained                         NaN   \n",
       "3                   ANY                         NaN   \n",
       "4                   NaN                         NaN   \n",
       "\n",
       "                     gene_group  \n",
       "0                protein_coding  \n",
       "1           cosmic_cancer_genes  \n",
       "2                 germline_CPGs  \n",
       "3    base_excision_repair_genes  \n",
       "4  chromatin_organization_genes  "
      ]
     },
     "execution_count": 279,
     "metadata": {},
     "output_type": "execute_result"
    }
   ],
   "source": [
    "nbl_coding_framework.head(5)"
   ]
  },
  {
   "cell_type": "markdown",
   "id": "c3c5a2c9-74bd-4a99-92fe-92f7ca1835cd",
   "metadata": {},
   "source": [
    "We identify the SVs that are part of that category."
   ]
  },
  {
   "cell_type": "code",
   "execution_count": 280,
   "id": "6d329232-5d40-428d-89a2-56fac470e615",
   "metadata": {},
   "outputs": [
    {
     "data": {
      "text/html": [
       "<div>\n",
       "<style scoped>\n",
       "    .dataframe tbody tr th:only-of-type {\n",
       "        vertical-align: middle;\n",
       "    }\n",
       "\n",
       "    .dataframe tbody tr th {\n",
       "        vertical-align: top;\n",
       "    }\n",
       "\n",
       "    .dataframe thead th {\n",
       "        text-align: right;\n",
       "    }\n",
       "</style>\n",
       "<table border=\"1\" class=\"dataframe\">\n",
       "  <thead>\n",
       "    <tr style=\"text-align: right;\">\n",
       "      <th></th>\n",
       "      <th>#chrom</th>\n",
       "      <th>start</th>\n",
       "      <th>end</th>\n",
       "      <th>name</th>\n",
       "      <th>svtype</th>\n",
       "      <th>AC</th>\n",
       "      <th>AF</th>\n",
       "      <th>ALGORITHMS</th>\n",
       "      <th>AN</th>\n",
       "      <th>BOTHSIDES_SUPPORT</th>\n",
       "      <th>...</th>\n",
       "      <th>trio_POPMAX_FREQ_HOMALT</th>\n",
       "      <th>trio_POPMAX_CN_FREQ</th>\n",
       "      <th>trio_POPMAX_CN_NONREF_FREQ</th>\n",
       "      <th>gnomad_v3.1_sv_POPMAX_AF</th>\n",
       "      <th>gnomad_v3.1_sv_POPMAX_FREQ_HOMREF</th>\n",
       "      <th>gnomad_v3.1_sv_POPMAX_FREQ_HET</th>\n",
       "      <th>gnomad_v3.1_sv_POPMAX_FREQ_HOMALT</th>\n",
       "      <th>gnomad_v3.1_sv_POPMAX_CN_FREQ</th>\n",
       "      <th>gnomad_v3.1_sv_POPMAX_CN_NONREF_FREQ</th>\n",
       "      <th>FILTER</th>\n",
       "    </tr>\n",
       "  </thead>\n",
       "  <tbody>\n",
       "    <tr>\n",
       "      <th>64</th>\n",
       "      <td>chr1</td>\n",
       "      <td>923800</td>\n",
       "      <td>943501</td>\n",
       "      <td>PedSV.2.5.2_DEL_chr1_80</td>\n",
       "      <td>DEL</td>\n",
       "      <td>1</td>\n",
       "      <td>0.000077</td>\n",
       "      <td>depth</td>\n",
       "      <td>13038</td>\n",
       "      <td>False</td>\n",
       "      <td>...</td>\n",
       "      <td>0.0</td>\n",
       "      <td>NaN</td>\n",
       "      <td>NaN</td>\n",
       "      <td>0.000107</td>\n",
       "      <td>NaN</td>\n",
       "      <td>NaN</td>\n",
       "      <td>NaN</td>\n",
       "      <td>NaN</td>\n",
       "      <td>NaN</td>\n",
       "      <td>PASS</td>\n",
       "    </tr>\n",
       "    <tr>\n",
       "      <th>152</th>\n",
       "      <td>chr1</td>\n",
       "      <td>1240217</td>\n",
       "      <td>1243609</td>\n",
       "      <td>PedSV.2.5.2_DEL_chr1_210</td>\n",
       "      <td>DEL</td>\n",
       "      <td>1</td>\n",
       "      <td>0.000074</td>\n",
       "      <td>manta</td>\n",
       "      <td>13462</td>\n",
       "      <td>True</td>\n",
       "      <td>...</td>\n",
       "      <td>0.0</td>\n",
       "      <td>NaN</td>\n",
       "      <td>NaN</td>\n",
       "      <td>0.000018</td>\n",
       "      <td>NaN</td>\n",
       "      <td>NaN</td>\n",
       "      <td>NaN</td>\n",
       "      <td>NaN</td>\n",
       "      <td>NaN</td>\n",
       "      <td>PASS</td>\n",
       "    </tr>\n",
       "  </tbody>\n",
       "</table>\n",
       "<p>2 rows × 952 columns</p>\n",
       "</div>"
      ],
      "text/plain": [
       "    #chrom    start      end                      name svtype  AC        AF  \\\n",
       "64    chr1   923800   943501   PedSV.2.5.2_DEL_chr1_80    DEL   1  0.000077   \n",
       "152   chr1  1240217  1243609  PedSV.2.5.2_DEL_chr1_210    DEL   1  0.000074   \n",
       "\n",
       "    ALGORITHMS     AN  BOTHSIDES_SUPPORT  ... trio_POPMAX_FREQ_HOMALT  \\\n",
       "64       depth  13038              False  ...                     0.0   \n",
       "152      manta  13462               True  ...                     0.0   \n",
       "\n",
       "     trio_POPMAX_CN_FREQ trio_POPMAX_CN_NONREF_FREQ gnomad_v3.1_sv_POPMAX_AF  \\\n",
       "64                   NaN                        NaN                 0.000107   \n",
       "152                  NaN                        NaN                 0.000018   \n",
       "\n",
       "     gnomad_v3.1_sv_POPMAX_FREQ_HOMREF  gnomad_v3.1_sv_POPMAX_FREQ_HET  \\\n",
       "64                                 NaN                             NaN   \n",
       "152                                NaN                             NaN   \n",
       "\n",
       "    gnomad_v3.1_sv_POPMAX_FREQ_HOMALT  gnomad_v3.1_sv_POPMAX_CN_FREQ  \\\n",
       "64                                NaN                            NaN   \n",
       "152                               NaN                            NaN   \n",
       "\n",
       "     gnomad_v3.1_sv_POPMAX_CN_NONREF_FREQ  FILTER  \n",
       "64                                    NaN    PASS  \n",
       "152                                   NaN    PASS  \n",
       "\n",
       "[2 rows x 952 columns]"
      ]
     },
     "execution_count": 280,
     "metadata": {},
     "output_type": "execute_result"
    }
   ],
   "source": [
    "svs_in_category = nbl_category_svs[(nbl_category_svs['sv_category'] == \"coding\") & \n",
    "                                   (nbl_category_svs[\"category\"] == test_framework)]\n",
    "\n",
    "# subset the actual SV matrix\n",
    "svs_in_category = svs[svs[\"name\"].isin(svs_in_category[\"SV\"].tolist())]\n",
    "\n",
    "svs_in_category.head(2)"
   ]
  },
  {
   "cell_type": "code",
   "execution_count": 281,
   "id": "28977433-c9a8-4bd1-810f-84d7f730515c",
   "metadata": {},
   "outputs": [
    {
     "data": {
      "text/plain": [
       "(3837, 952)"
      ]
     },
     "execution_count": 281,
     "metadata": {},
     "output_type": "execute_result"
    }
   ],
   "source": [
    "svs_in_category.shape"
   ]
  },
  {
   "cell_type": "markdown",
   "id": "edb3d206-915c-4c36-bc58-4064fbd3949c",
   "metadata": {},
   "source": [
    "Next, we determine the genes in question. We reference the column where the genes can be found, `genic_relationship`. We have to split this one in half."
   ]
  },
  {
   "cell_type": "code",
   "execution_count": 282,
   "id": "5438bc1b-680e-44b1-9906-8535f087ab33",
   "metadata": {},
   "outputs": [
    {
     "data": {
      "text/plain": [
       "['PREDICTED_LOF', 'PREDICTED_PARTIAL_EXON_DUP']"
      ]
     },
     "execution_count": 282,
     "metadata": {},
     "output_type": "execute_result"
    }
   ],
   "source": [
    "genic_relationships = genic_relationship.split(\"_or_\")\n",
    "genic_relationships"
   ]
  },
  {
   "cell_type": "code",
   "execution_count": 283,
   "id": "9589b8f1-8b42-4f39-9d96-ef24d89955ee",
   "metadata": {},
   "outputs": [
    {
     "data": {
      "text/html": [
       "<div>\n",
       "<style scoped>\n",
       "    .dataframe tbody tr th:only-of-type {\n",
       "        vertical-align: middle;\n",
       "    }\n",
       "\n",
       "    .dataframe tbody tr th {\n",
       "        vertical-align: top;\n",
       "    }\n",
       "\n",
       "    .dataframe thead th {\n",
       "        text-align: right;\n",
       "    }\n",
       "</style>\n",
       "<table border=\"1\" class=\"dataframe\">\n",
       "  <thead>\n",
       "    <tr style=\"text-align: right;\">\n",
       "      <th></th>\n",
       "      <th>PREDICTED_LOF</th>\n",
       "      <th>PREDICTED_PARTIAL_EXON_DUP</th>\n",
       "    </tr>\n",
       "  </thead>\n",
       "  <tbody>\n",
       "    <tr>\n",
       "      <th>64</th>\n",
       "      <td>SAMD11</td>\n",
       "      <td>NaN</td>\n",
       "    </tr>\n",
       "    <tr>\n",
       "      <th>152</th>\n",
       "      <td>C1QTNF12</td>\n",
       "      <td>NaN</td>\n",
       "    </tr>\n",
       "    <tr>\n",
       "      <th>162</th>\n",
       "      <td>ACAP3,INTS11,PUSL1,SCNN1D</td>\n",
       "      <td>NaN</td>\n",
       "    </tr>\n",
       "    <tr>\n",
       "      <th>173</th>\n",
       "      <td>CPTP</td>\n",
       "      <td>NaN</td>\n",
       "    </tr>\n",
       "    <tr>\n",
       "      <th>198</th>\n",
       "      <td>TMEM88B,VWA1</td>\n",
       "      <td>NaN</td>\n",
       "    </tr>\n",
       "  </tbody>\n",
       "</table>\n",
       "</div>"
      ],
      "text/plain": [
       "                 PREDICTED_LOF PREDICTED_PARTIAL_EXON_DUP\n",
       "64                      SAMD11                        NaN\n",
       "152                   C1QTNF12                        NaN\n",
       "162  ACAP3,INTS11,PUSL1,SCNN1D                        NaN\n",
       "173                       CPTP                        NaN\n",
       "198               TMEM88B,VWA1                        NaN"
      ]
     },
     "execution_count": 283,
     "metadata": {},
     "output_type": "execute_result"
    }
   ],
   "source": [
    "svs_in_category[genic_relationships].head()"
   ]
  },
  {
   "cell_type": "markdown",
   "id": "4b1864d6-c1f1-47d5-bdc4-fcc6fc5bc114",
   "metadata": {},
   "source": [
    "We should be a bit more careful if any results turn up positive, but for now we'll just register an SV as contributing to a count for that gene."
   ]
  },
  {
   "cell_type": "code",
   "execution_count": 291,
   "id": "f7dbd1f4-1934-40d7-91fd-e46bb0e07936",
   "metadata": {},
   "outputs": [
    {
     "data": {
      "text/html": [
       "<div>\n",
       "<style scoped>\n",
       "    .dataframe tbody tr th:only-of-type {\n",
       "        vertical-align: middle;\n",
       "    }\n",
       "\n",
       "    .dataframe tbody tr th {\n",
       "        vertical-align: top;\n",
       "    }\n",
       "\n",
       "    .dataframe thead th {\n",
       "        text-align: right;\n",
       "    }\n",
       "</style>\n",
       "<table border=\"1\" class=\"dataframe\">\n",
       "  <thead>\n",
       "    <tr style=\"text-align: right;\">\n",
       "      <th></th>\n",
       "      <th>PT_00QYKRAX</th>\n",
       "      <th>PT_00Y8C0XA</th>\n",
       "      <th>PT_025YMME2</th>\n",
       "      <th>PT_02AE4RSP</th>\n",
       "      <th>PT_02SNWVRF</th>\n",
       "      <th>PT_06Z51EN5</th>\n",
       "      <th>PT_0CKD259J</th>\n",
       "      <th>PT_0GMP9VVY</th>\n",
       "      <th>PT_0MVMPZKX</th>\n",
       "      <th>PT_11XN6CG5</th>\n",
       "      <th>...</th>\n",
       "      <th>ssi_26401</th>\n",
       "      <th>ssi_26409</th>\n",
       "      <th>ssi_26411</th>\n",
       "      <th>ssi_26422</th>\n",
       "      <th>ssi_26442</th>\n",
       "      <th>ssi_26452</th>\n",
       "      <th>ssi_26453</th>\n",
       "      <th>ssi_26458</th>\n",
       "      <th>ssi_26459</th>\n",
       "      <th>ssi_26463</th>\n",
       "    </tr>\n",
       "    <tr>\n",
       "      <th>ID</th>\n",
       "      <th></th>\n",
       "      <th></th>\n",
       "      <th></th>\n",
       "      <th></th>\n",
       "      <th></th>\n",
       "      <th></th>\n",
       "      <th></th>\n",
       "      <th></th>\n",
       "      <th></th>\n",
       "      <th></th>\n",
       "      <th></th>\n",
       "      <th></th>\n",
       "      <th></th>\n",
       "      <th></th>\n",
       "      <th></th>\n",
       "      <th></th>\n",
       "      <th></th>\n",
       "      <th></th>\n",
       "      <th></th>\n",
       "      <th></th>\n",
       "      <th></th>\n",
       "    </tr>\n",
       "  </thead>\n",
       "  <tbody>\n",
       "    <tr>\n",
       "      <th>PedSV.2.5.2_DEL_chr1_80</th>\n",
       "      <td>0.0</td>\n",
       "      <td>0.0</td>\n",
       "      <td>0.0</td>\n",
       "      <td>0.0</td>\n",
       "      <td>NaN</td>\n",
       "      <td>0.0</td>\n",
       "      <td>0.0</td>\n",
       "      <td>NaN</td>\n",
       "      <td>0.0</td>\n",
       "      <td>0.0</td>\n",
       "      <td>...</td>\n",
       "      <td>0.0</td>\n",
       "      <td>0.0</td>\n",
       "      <td>0.0</td>\n",
       "      <td>0.0</td>\n",
       "      <td>0.0</td>\n",
       "      <td>0.0</td>\n",
       "      <td>0.0</td>\n",
       "      <td>0.0</td>\n",
       "      <td>0.0</td>\n",
       "      <td>0.0</td>\n",
       "    </tr>\n",
       "    <tr>\n",
       "      <th>PedSV.2.5.2_DEL_chr1_210</th>\n",
       "      <td>0.0</td>\n",
       "      <td>0.0</td>\n",
       "      <td>0.0</td>\n",
       "      <td>0.0</td>\n",
       "      <td>0.0</td>\n",
       "      <td>0.0</td>\n",
       "      <td>0.0</td>\n",
       "      <td>0.0</td>\n",
       "      <td>0.0</td>\n",
       "      <td>0.0</td>\n",
       "      <td>...</td>\n",
       "      <td>0.0</td>\n",
       "      <td>0.0</td>\n",
       "      <td>0.0</td>\n",
       "      <td>0.0</td>\n",
       "      <td>0.0</td>\n",
       "      <td>0.0</td>\n",
       "      <td>0.0</td>\n",
       "      <td>0.0</td>\n",
       "      <td>0.0</td>\n",
       "      <td>0.0</td>\n",
       "    </tr>\n",
       "  </tbody>\n",
       "</table>\n",
       "<p>2 rows × 5519 columns</p>\n",
       "</div>"
      ],
      "text/plain": [
       "                          PT_00QYKRAX  PT_00Y8C0XA  PT_025YMME2  PT_02AE4RSP  \\\n",
       "ID                                                                             \n",
       "PedSV.2.5.2_DEL_chr1_80           0.0          0.0          0.0          0.0   \n",
       "PedSV.2.5.2_DEL_chr1_210          0.0          0.0          0.0          0.0   \n",
       "\n",
       "                          PT_02SNWVRF  PT_06Z51EN5  PT_0CKD259J  PT_0GMP9VVY  \\\n",
       "ID                                                                             \n",
       "PedSV.2.5.2_DEL_chr1_80           NaN          0.0          0.0          NaN   \n",
       "PedSV.2.5.2_DEL_chr1_210          0.0          0.0          0.0          0.0   \n",
       "\n",
       "                          PT_0MVMPZKX  PT_11XN6CG5  ...  ssi_26401  ssi_26409  \\\n",
       "ID                                                  ...                         \n",
       "PedSV.2.5.2_DEL_chr1_80           0.0          0.0  ...        0.0        0.0   \n",
       "PedSV.2.5.2_DEL_chr1_210          0.0          0.0  ...        0.0        0.0   \n",
       "\n",
       "                          ssi_26411  ssi_26422  ssi_26442  ssi_26452  \\\n",
       "ID                                                                     \n",
       "PedSV.2.5.2_DEL_chr1_80         0.0        0.0        0.0        0.0   \n",
       "PedSV.2.5.2_DEL_chr1_210        0.0        0.0        0.0        0.0   \n",
       "\n",
       "                          ssi_26453  ssi_26458  ssi_26459  ssi_26463  \n",
       "ID                                                                    \n",
       "PedSV.2.5.2_DEL_chr1_80         0.0        0.0        0.0        0.0  \n",
       "PedSV.2.5.2_DEL_chr1_210        0.0        0.0        0.0        0.0  \n",
       "\n",
       "[2 rows x 5519 columns]"
      ]
     },
     "execution_count": 291,
     "metadata": {},
     "output_type": "execute_result"
    }
   ],
   "source": [
    "nbl_sv_dosages = (\n",
    "    dosages\n",
    "    .set_index(\"ID\")\n",
    "    .loc[svs_in_category[\"name\"].tolist(), nbl_cases + nbl_controls]\n",
    ")\n",
    "nbl_sv_dosages.head(2)"
   ]
  },
  {
   "cell_type": "code",
   "execution_count": 292,
   "id": "ca134abd-8b0a-4009-8279-0ad42444b3d2",
   "metadata": {},
   "outputs": [
    {
     "data": {
      "text/plain": [
       "(3837, 5519)"
      ]
     },
     "execution_count": 292,
     "metadata": {},
     "output_type": "execute_result"
    }
   ],
   "source": [
    "nbl_sv_dosages.shape"
   ]
  },
  {
   "cell_type": "markdown",
   "id": "9b1af230-5794-4e59-9eb7-7a7ec29e0270",
   "metadata": {},
   "source": [
    "So we now have the dosages for both cases and controls. We analyze these two datasets separately, and will need to determine post-hoc if there is a unique enrichment in cases vs. control. Additionally, we need to drop samples that are poorly genotyped for these SVs. The strategy that Ryan and Riaz used is to drop samples with >5% `NaN` genotyping rate. We do that here."
   ]
  },
  {
   "cell_type": "code",
   "execution_count": 293,
   "id": "ca937400-91bc-4036-a067-d6a1ffec6909",
   "metadata": {},
   "outputs": [],
   "source": [
    "kept = pd.isnull(nbl_sv_dosages).sum(axis = 0) / len(nbl_sv_dosages) < 0.05\n",
    "\n",
    "nbl_kept_cases = list(set(nbl_cases) & set(kept[kept].index))\n",
    "nbl_kept_controls = list(set(nbl_controls) & set(kept[kept].index))"
   ]
  },
  {
   "cell_type": "code",
   "execution_count": 294,
   "id": "742697f4-9ff5-4b73-a526-509b0d6633d8",
   "metadata": {},
   "outputs": [],
   "source": [
    "nbl_sv_dosages = nbl_sv_dosages.loc[:, kept]"
   ]
  },
  {
   "cell_type": "code",
   "execution_count": 295,
   "id": "f06702bf-529d-41e5-8ae2-117a3ba50796",
   "metadata": {},
   "outputs": [
    {
     "data": {
      "text/plain": [
       "(3837, 5346)"
      ]
     },
     "execution_count": 295,
     "metadata": {},
     "output_type": "execute_result"
    }
   ],
   "source": [
    "nbl_sv_dosages.shape"
   ]
  },
  {
   "cell_type": "markdown",
   "id": "4390b82d-70ae-49ff-9c81-876dcf22a182",
   "metadata": {},
   "source": [
    "So now we can generate our counts, separately for cases and controls. We can ignore `NaNs`."
   ]
  },
  {
   "cell_type": "code",
   "execution_count": 296,
   "id": "c017f118-fde0-4995-881e-a3467f1a55a7",
   "metadata": {},
   "outputs": [
    {
     "data": {
      "text/plain": [
       "ID\n",
       "PedSV.2.5.2_DEL_chr1_80       0.0\n",
       "PedSV.2.5.2_DEL_chr12_7605    0.0\n",
       "PedSV.2.5.2_DEL_chr12_7621    0.0\n",
       "PedSV.2.5.2_DEL_chr12_7627    0.0\n",
       "PedSV.2.5.2_DEL_chr12_7653    0.0\n",
       "dtype: float64"
      ]
     },
     "execution_count": 296,
     "metadata": {},
     "output_type": "execute_result"
    }
   ],
   "source": [
    "sv_counts_cases = nbl_sv_dosages[nbl_kept_cases].fillna(0).sum(axis=1).sort_values()\n",
    "sv_counts_controls = nbl_sv_dosages[nbl_kept_controls].fillna(0).sum(axis=1).sort_values()\n",
    "sv_counts_cases.head()"
   ]
  },
  {
   "cell_type": "markdown",
   "id": "5fcedd4d-d2f1-4129-a007-4f291d133a43",
   "metadata": {},
   "source": [
    "Note that some SVs have 0 counts, presumably because those SVs are present in non-neuroblastoma samples? Let's just verify that."
   ]
  },
  {
   "cell_type": "code",
   "execution_count": 297,
   "id": "dbd80c7d-caf3-42f9-af39-813fdcd44fff",
   "metadata": {},
   "outputs": [
    {
     "data": {
      "text/plain": [
       "SJ042098    1.0\n",
       "Name: PedSV.2.5.2_DEL_chr1_80, dtype: object"
      ]
     },
     "execution_count": 297,
     "metadata": {},
     "output_type": "execute_result"
    }
   ],
   "source": [
    "test_sv = dosages.set_index(\"ID\").loc[\"PedSV.2.5.2_DEL_chr1_80\"].iloc[3:]\n",
    "test_sv[test_sv == 1]"
   ]
  },
  {
   "cell_type": "code",
   "execution_count": 298,
   "id": "51fa5de0-9e50-4f16-ae18-aa943a216727",
   "metadata": {},
   "outputs": [
    {
     "data": {
      "text/plain": [
       "ancestry_short_variant_inferred_or_reported                                       NaN\n",
       "batch                                          PedSV.v2-wgd_score_1-median_coverage_2\n",
       "study                                                                          StJude\n",
       "disease                                                                  osteosarcoma\n",
       "family_id                                                                         NaN\n",
       "                                                                ...                  \n",
       "pancan_control                                                                  False\n",
       "osteosarcoma_control                                                            False\n",
       "neuroblastoma_control                                                           False\n",
       "ewing_control                                                                   False\n",
       "sex                                                                                 0\n",
       "Name: SJ042098, Length: 73, dtype: object"
      ]
     },
     "execution_count": 298,
     "metadata": {},
     "output_type": "execute_result"
    }
   ],
   "source": [
    "metadata.set_index(\"entity:sample_id\").loc[\"SJ042098\"]"
   ]
  },
  {
   "cell_type": "markdown",
   "id": "d258c925-a24c-4b7b-a899-bd29bd26c8f3",
   "metadata": {},
   "source": [
    "Yep. Alright, we can move on and actually count things up. First, how many SVs are we actually dealing with here?"
   ]
  },
  {
   "cell_type": "code",
   "execution_count": 299,
   "id": "f6d9df07-addb-4eec-bf48-1a9f27fc56e6",
   "metadata": {},
   "outputs": [
    {
     "data": {
      "text/plain": [
       "(438.0, 2441.0)"
      ]
     },
     "execution_count": 299,
     "metadata": {},
     "output_type": "execute_result"
    }
   ],
   "source": [
    "sv_counts_cases.sum(), sv_counts_controls.sum()"
   ]
  },
  {
   "cell_type": "markdown",
   "id": "4def61df-394b-404d-93ae-f5ecce94e074",
   "metadata": {},
   "source": [
    "We can see that the cases have a higher proportion of counts relative to the proportion of samples, which is what we expect (this category is significant)."
   ]
  },
  {
   "cell_type": "markdown",
   "id": "170c713c-1a9e-4a47-ba1d-670b716952ec",
   "metadata": {},
   "source": [
    "Let's see what happens when we convert to gene counts."
   ]
  },
  {
   "cell_type": "code",
   "execution_count": 300,
   "id": "daed5211-7acc-45d9-8aa1-ce398e31da3c",
   "metadata": {},
   "outputs": [
    {
     "data": {
      "text/plain": [
       "3837"
      ]
     },
     "execution_count": 300,
     "metadata": {},
     "output_type": "execute_result"
    }
   ],
   "source": [
    "len(svs_in_category)"
   ]
  },
  {
   "cell_type": "code",
   "execution_count": 301,
   "id": "2a5ca4f2-8bda-43a2-85cb-447dba259a28",
   "metadata": {},
   "outputs": [],
   "source": [
    "genes_in_svs = svs_in_category[['name'] + genic_relationships].set_index('name')"
   ]
  },
  {
   "cell_type": "code",
   "execution_count": 302,
   "id": "fa80f057-ed8b-467c-8b2d-e727b6abb1c0",
   "metadata": {},
   "outputs": [],
   "source": [
    "gene_counts = {'cases': [], 'controls': []}\n",
    "for cohort, sv_counts in zip(['cases', 'controls'], [sv_counts_cases, sv_counts_controls]):\n",
    "\n",
    "    sample_genes_in_svs = genes_in_svs.copy()\n",
    "    sample_genes_in_svs.loc[sv_counts.index, 'count'] = sv_counts.astype(int)\n",
    "\n",
    "    # simple enough to go through\n",
    "    cohort_gene_counts = []\n",
    "    for index, row in sample_genes_in_svs.iterrows():\n",
    "        if not pd.isnull(row['PREDICTED_LOF']):\n",
    "            cohort_gene_counts += row['PREDICTED_LOF'].split(',') * row['count']\n",
    "        if not pd.isnull(row['PREDICTED_PARTIAL_EXON_DUP']):\n",
    "            cohort_gene_counts += row['PREDICTED_PARTIAL_EXON_DUP'].split(',') * row['count']\n",
    "\n",
    "    gene_counts[cohort] = pd.DataFrame(np.unique(cohort_gene_counts, return_counts = True), index = ['gene', 'count']).T"
   ]
  },
  {
   "cell_type": "code",
   "execution_count": 303,
   "id": "14b07123-9d04-4d07-961c-9a6dfbfcea4b",
   "metadata": {},
   "outputs": [
    {
     "data": {
      "text/plain": [
       "((511, 2), (2790, 2))"
      ]
     },
     "execution_count": 303,
     "metadata": {},
     "output_type": "execute_result"
    }
   ],
   "source": [
    "gene_counts['cases'].shape, gene_counts['controls'].shape"
   ]
  },
  {
   "cell_type": "markdown",
   "id": "1df12dc0-6af2-4e32-8261-eac0e30ed680",
   "metadata": {},
   "source": [
    "Great. Now we can try merging this with a gene set to test significance. We'll try it with a small, well characterized gene set first."
   ]
  },
  {
   "cell_type": "code",
   "execution_count": 174,
   "id": "f0e4e4f9-0fe1-4cc6-ba02-d6b8656ed6a8",
   "metadata": {},
   "outputs": [],
   "source": [
    "hallmark = gp.get_library(name='MSigDB_Hallmark_2020')"
   ]
  },
  {
   "cell_type": "code",
   "execution_count": 175,
   "id": "9fdedcf4-8f4a-482c-9639-7e6cae387587",
   "metadata": {},
   "outputs": [
    {
     "data": {
      "text/plain": [
       "200"
      ]
     },
     "execution_count": 175,
     "metadata": {},
     "output_type": "execute_result"
    }
   ],
   "source": [
    "g2m_checkpoint = hallmark['G2-M Checkpoint']\n",
    "len(g2m_checkpoint)"
   ]
  },
  {
   "cell_type": "markdown",
   "id": "f729370a-a210-4d64-b7b7-c1f6fac3824e",
   "metadata": {},
   "source": [
    "We need to calculate 4 numbers for our Fisher's exact test:\n",
    "\n",
    "1. The counts of genes in the gene set and category\n",
    "2. The counts of genes in the category and not the gene set\n",
    "3. The counts of genes in the gene set and not the category\n",
    "4. The counts of genes in neither (~19k)\n",
    "\n",
    "We then do a fisher's exact test."
   ]
  },
  {
   "cell_type": "code",
   "execution_count": 177,
   "id": "a2645bc4-bde2-4f73-9490-27665fbe4b9a",
   "metadata": {},
   "outputs": [
    {
     "name": "stdout",
     "output_type": "stream",
     "text": [
      "(0.8991389913899139, 1.0)\n",
      "(0.9707648735179256, 1.0)\n"
     ]
    }
   ],
   "source": [
    "for cohort in ['cases', 'controls']:\n",
    "    \n",
    "    cohort_gene_counts = gene_counts[cohort]\n",
    "    \n",
    "    genes_in_category_and_gs = cohort_gene_counts[cohort_gene_counts['gene'].isin(g2m_checkpoint)]['count'].sum()\n",
    "    genes_in_category_and_not_gs = cohort_gene_counts[~cohort_gene_counts['gene'].isin(g2m_checkpoint)]['count'].sum()\n",
    "\n",
    "    genes_not_in_category_and_in_gs = len(set(g2m_checkpoint) - set(cohort_gene_counts['gene']))\n",
    "    genes_not_in_category_and_not_gs = len(gene_ref) - genes_not_in_category_and_in_gs\n",
    "    \n",
    "    cont_table = np.array([[genes_in_category_and_gs, genes_in_category_and_not_gs], \n",
    "                       [genes_not_in_category_and_in_gs, genes_not_in_category_and_not_gs]])\n",
    "    print(scipy.stats.fisher_exact(cont_table))"
   ]
  },
  {
   "cell_type": "markdown",
   "id": "01413847-6fd4-4343-8a88-c535558f2599",
   "metadata": {},
   "source": [
    "So neither cases nor controls are significantly enriched for G2-M checkpoint genes. But at least this process makes sense. Now we can generalize a bit."
   ]
  },
  {
   "cell_type": "code",
   "execution_count": 194,
   "id": "d22ae42b-b7e7-4832-85b3-9fd693060a8a",
   "metadata": {},
   "outputs": [],
   "source": [
    "hallmark_results = []\n",
    "for gs, genes in hallmark.items():\n",
    "    \n",
    "    # store the expected frequency\n",
    "    expected = f'{len(genes)}/{len(gene_ref)}'\n",
    "    row = [gs, expected]\n",
    "    \n",
    "    for cohort in ['cases', 'controls']:\n",
    "        \n",
    "        cohort_gene_counts = gene_counts[cohort]\n",
    "        \n",
    "        upper_left = cohort_gene_counts[cohort_gene_counts['gene'].isin(genes)]['count'].sum()\n",
    "        upper_right = cohort_gene_counts[~cohort_gene_counts['gene'].isin(genes)]['count'].sum()\n",
    "\n",
    "        bottom_left = len(set(genes) - set(cohort_gene_counts['gene']))\n",
    "        botttom_right = len(gene_ref) - bottom_left\n",
    "\n",
    "        cont_table = np.array([[upper_left, upper_right], \n",
    "                               [bottom_left, botttom_right]])\n",
    "        res, p = scipy.stats.fisher_exact(cont_table)\n",
    "\n",
    "        # provide the expected and the data frequencies\n",
    "        data = f'{upper_left}/{upper_left + upper_right}'\n",
    "        row += [res, p, data]\n",
    "        \n",
    "    hallmark_results.append(row)\n",
    "    \n",
    "col_names = ['gene_set', 'expected', 'case_stat', 'case_p', 'case_data', 'control_stat', 'control_p', 'control_data']\n",
    "hallmark_results = pd.DataFrame(hallmark_results, columns = col_names)"
   ]
  },
  {
   "cell_type": "code",
   "execution_count": 196,
   "id": "18c25967-46fd-49a3-a556-6e7c5e7eba20",
   "metadata": {},
   "outputs": [
    {
     "data": {
      "text/html": [
       "<div>\n",
       "<style scoped>\n",
       "    .dataframe tbody tr th:only-of-type {\n",
       "        vertical-align: middle;\n",
       "    }\n",
       "\n",
       "    .dataframe tbody tr th {\n",
       "        vertical-align: top;\n",
       "    }\n",
       "\n",
       "    .dataframe thead th {\n",
       "        text-align: right;\n",
       "    }\n",
       "</style>\n",
       "<table border=\"1\" class=\"dataframe\">\n",
       "  <thead>\n",
       "    <tr style=\"text-align: right;\">\n",
       "      <th></th>\n",
       "      <th>gene_set</th>\n",
       "      <th>expected</th>\n",
       "      <th>case_stat</th>\n",
       "      <th>case_p</th>\n",
       "      <th>case_data</th>\n",
       "      <th>control_stat</th>\n",
       "      <th>control_p</th>\n",
       "      <th>control_data</th>\n",
       "    </tr>\n",
       "  </thead>\n",
       "  <tbody>\n",
       "    <tr>\n",
       "      <th>11</th>\n",
       "      <td>Adipogenesis</td>\n",
       "      <td>200/19201</td>\n",
       "      <td>2.670747</td>\n",
       "      <td>0.001485</td>\n",
       "      <td>14/547</td>\n",
       "      <td>0.783782</td>\n",
       "      <td>0.316489</td>\n",
       "      <td>24/3334</td>\n",
       "    </tr>\n",
       "    <tr>\n",
       "      <th>25</th>\n",
       "      <td>mTORC1 Signaling</td>\n",
       "      <td>200/19201</td>\n",
       "      <td>0.000000</td>\n",
       "      <td>0.007451</td>\n",
       "      <td>0/547</td>\n",
       "      <td>0.746616</td>\n",
       "      <td>0.229092</td>\n",
       "      <td>23/3334</td>\n",
       "    </tr>\n",
       "  </tbody>\n",
       "</table>\n",
       "</div>"
      ],
      "text/plain": [
       "            gene_set   expected  case_stat    case_p case_data  control_stat  \\\n",
       "11      Adipogenesis  200/19201   2.670747  0.001485    14/547      0.783782   \n",
       "25  mTORC1 Signaling  200/19201   0.000000  0.007451     0/547      0.746616   \n",
       "\n",
       "    control_p control_data  \n",
       "11   0.316489      24/3334  \n",
       "25   0.229092      23/3334  "
      ]
     },
     "execution_count": 196,
     "metadata": {},
     "output_type": "execute_result"
    }
   ],
   "source": [
    "hallmark_results.query('case_p < 0.05')"
   ]
  },
  {
   "cell_type": "markdown",
   "id": "a7bf33cd-852b-48ca-829d-eb5bcc0d97e3",
   "metadata": {},
   "source": [
    "Interesting... we'll follow up on that in a second."
   ]
  },
  {
   "cell_type": "markdown",
   "id": "6d2a7484-1a5d-4a36-a109-4a397d9d2f4e",
   "metadata": {
    "tags": []
   },
   "source": [
    "# Walk through a non-coding example\n",
    "\n",
    "Let's extract out all the data that we need to examine the highest result for a single hallmark gene set."
   ]
  },
  {
   "cell_type": "code",
   "execution_count": 204,
   "id": "5a5c6579-ce4e-4680-b0be-f5c3c3a92e9e",
   "metadata": {},
   "outputs": [
    {
     "data": {
      "text/plain": [
       "('ANY.SINGLETON.PREDICTED_LOF_or_PREDICTED_PARTIAL_EXON_DUP.ANY.ANY.protein_coding',\n",
       " 'ANY')"
      ]
     },
     "execution_count": 204,
     "metadata": {},
     "output_type": "execute_result"
    }
   ],
   "source": [
    "# we'll select a non-tad framework for testing\n",
    "nontad_test_framework = nbl_framework_results[(nbl_framework_results['af_category'] == \"singleton\") & \n",
    "                      (nbl_framework_results['sv_category'] == \"non-coding\") &\n",
    "                      (~nbl_framework_results['category_name'].str.contains('tad'))].iloc[0]['category_name']\n",
    "\n",
    "framework_components = nontad_test_framework.split(\".\")\n",
    "genic_relationship = framework_components[2]\n",
    "test_framework, genic_relationship"
   ]
  },
  {
   "cell_type": "markdown",
   "id": "fe1ee6f3-ff21-42db-af05-a54c8a89b8a8",
   "metadata": {},
   "source": [
    "This is good practice - we see that the genic relationship here is `ANY`. In the context of noncoding analysis, this has a specific meaning."
   ]
  },
  {
   "cell_type": "code",
   "execution_count": 205,
   "id": "d88b75df-068a-4a68-a755-9c938140df00",
   "metadata": {},
   "outputs": [
    {
     "data": {
      "text/html": [
       "<div>\n",
       "<style scoped>\n",
       "    .dataframe tbody tr th:only-of-type {\n",
       "        vertical-align: middle;\n",
       "    }\n",
       "\n",
       "    .dataframe tbody tr th {\n",
       "        vertical-align: top;\n",
       "    }\n",
       "\n",
       "    .dataframe thead th {\n",
       "        text-align: right;\n",
       "    }\n",
       "</style>\n",
       "<table border=\"1\" class=\"dataframe\">\n",
       "  <thead>\n",
       "    <tr style=\"text-align: right;\">\n",
       "      <th></th>\n",
       "      <th>sv_type</th>\n",
       "      <th>frequency</th>\n",
       "      <th>functional_intersection</th>\n",
       "      <th>functional_category</th>\n",
       "      <th>genic_relationship</th>\n",
       "      <th>constraint</th>\n",
       "      <th>expression</th>\n",
       "      <th>gene_group</th>\n",
       "    </tr>\n",
       "  </thead>\n",
       "  <tbody>\n",
       "    <tr>\n",
       "      <th>0</th>\n",
       "      <td>DUP</td>\n",
       "      <td>RARE</td>\n",
       "      <td>PREDICTED_NONCODING_BREAKPOINT</td>\n",
       "      <td>neuroblastoma_atac_peaks</td>\n",
       "      <td>PREDICTED_INTERGENIC</td>\n",
       "      <td>lof_constrained</td>\n",
       "      <td>expressed_in_adrenal_gland</td>\n",
       "      <td>protein_coding</td>\n",
       "    </tr>\n",
       "    <tr>\n",
       "      <th>1</th>\n",
       "      <td>DEL</td>\n",
       "      <td>SINGLETON</td>\n",
       "      <td>PREDICTED_NONCODING_SPAN</td>\n",
       "      <td>neuroblastoma_chromHMM15_Enh</td>\n",
       "      <td>PREDICTED_INTRONIC</td>\n",
       "      <td>ANY</td>\n",
       "      <td>ANY</td>\n",
       "      <td>cosmic_and_germline_CPGs</td>\n",
       "    </tr>\n",
       "    <tr>\n",
       "      <th>2</th>\n",
       "      <td>CPX_or_INV</td>\n",
       "      <td>NaN</td>\n",
       "      <td>ANY</td>\n",
       "      <td>neuroblastoma_chromHMM15_Enh_conserved</td>\n",
       "      <td>PREDICTED_PROMOTER</td>\n",
       "      <td>NaN</td>\n",
       "      <td>NaN</td>\n",
       "      <td>NaN</td>\n",
       "    </tr>\n",
       "    <tr>\n",
       "      <th>3</th>\n",
       "      <td>INS_ALL</td>\n",
       "      <td>NaN</td>\n",
       "      <td>NaN</td>\n",
       "      <td>neuroblastoma_chromHMM15_EnhG</td>\n",
       "      <td>PREDICTED_UTR</td>\n",
       "      <td>NaN</td>\n",
       "      <td>NaN</td>\n",
       "      <td>NaN</td>\n",
       "    </tr>\n",
       "    <tr>\n",
       "      <th>4</th>\n",
       "      <td>ANY</td>\n",
       "      <td>NaN</td>\n",
       "      <td>NaN</td>\n",
       "      <td>neuroblastoma_chromHMM15_EnhG_conserved</td>\n",
       "      <td>ANY</td>\n",
       "      <td>NaN</td>\n",
       "      <td>NaN</td>\n",
       "      <td>NaN</td>\n",
       "    </tr>\n",
       "    <tr>\n",
       "      <th>5</th>\n",
       "      <td>NaN</td>\n",
       "      <td>NaN</td>\n",
       "      <td>NaN</td>\n",
       "      <td>neuroblastoma_H3K27Ac_peak</td>\n",
       "      <td>NaN</td>\n",
       "      <td>NaN</td>\n",
       "      <td>NaN</td>\n",
       "      <td>NaN</td>\n",
       "    </tr>\n",
       "  </tbody>\n",
       "</table>\n",
       "</div>"
      ],
      "text/plain": [
       "      sv_type  frequency         functional_intersection  \\\n",
       "0         DUP       RARE  PREDICTED_NONCODING_BREAKPOINT   \n",
       "1         DEL  SINGLETON        PREDICTED_NONCODING_SPAN   \n",
       "2  CPX_or_INV        NaN                             ANY   \n",
       "3     INS_ALL        NaN                             NaN   \n",
       "4         ANY        NaN                             NaN   \n",
       "5         NaN        NaN                             NaN   \n",
       "\n",
       "                       functional_category    genic_relationship  \\\n",
       "0                 neuroblastoma_atac_peaks  PREDICTED_INTERGENIC   \n",
       "1             neuroblastoma_chromHMM15_Enh    PREDICTED_INTRONIC   \n",
       "2   neuroblastoma_chromHMM15_Enh_conserved    PREDICTED_PROMOTER   \n",
       "3            neuroblastoma_chromHMM15_EnhG         PREDICTED_UTR   \n",
       "4  neuroblastoma_chromHMM15_EnhG_conserved                   ANY   \n",
       "5               neuroblastoma_H3K27Ac_peak                   NaN   \n",
       "\n",
       "        constraint                  expression                gene_group  \n",
       "0  lof_constrained  expressed_in_adrenal_gland            protein_coding  \n",
       "1              ANY                         ANY  cosmic_and_germline_CPGs  \n",
       "2              NaN                         NaN                       NaN  \n",
       "3              NaN                         NaN                       NaN  \n",
       "4              NaN                         NaN                       NaN  \n",
       "5              NaN                         NaN                       NaN  "
      ]
     },
     "execution_count": 205,
     "metadata": {},
     "output_type": "execute_result"
    }
   ],
   "source": [
    "nbl_noncoding_framework.head(6)"
   ]
  },
  {
   "cell_type": "markdown",
   "id": "e12f62b3-6ad6-40d7-a1eb-99c626cd5f23",
   "metadata": {},
   "source": [
    "So `ANY` really means `PREDICTED_INTERGENIC | PREDICTED INTRONIC | PREDICTED PROMOTER | PREDICTED UTR`"
   ]
  },
  {
   "cell_type": "code",
   "execution_count": 206,
   "id": "c3f92afa-1637-4742-b8c6-3c898b511953",
   "metadata": {},
   "outputs": [],
   "source": [
    "genic_relationships = ['PREDICTED_INTERGENIC', 'PREDICTED_INTRONIC', 'PREDICTED_PROMOTER', 'PREDICTED_UTR']\n",
    "\n",
    "# a weird feature of these data is that PREDICTED_INTERGENIC is actually boolean, and refers to PREDICTED_NEAREST_TSS\n",
    "genic_relationships[genic_relationships.index('PREDICTED_INTERGENIC')] = 'PREDICTED_NEAREST_TSS'"
   ]
  },
  {
   "cell_type": "markdown",
   "id": "ed655ad0-9a3c-459e-acd9-6c2b7f6647a8",
   "metadata": {},
   "source": [
    "Subset down to those SVssvs"
   ]
  },
  {
   "cell_type": "code",
   "execution_count": 207,
   "id": "52ec1b72-6fa8-4486-9837-ba6ec9de4aed",
   "metadata": {},
   "outputs": [
    {
     "data": {
      "text/html": [
       "<div>\n",
       "<style scoped>\n",
       "    .dataframe tbody tr th:only-of-type {\n",
       "        vertical-align: middle;\n",
       "    }\n",
       "\n",
       "    .dataframe tbody tr th {\n",
       "        vertical-align: top;\n",
       "    }\n",
       "\n",
       "    .dataframe thead th {\n",
       "        text-align: right;\n",
       "    }\n",
       "</style>\n",
       "<table border=\"1\" class=\"dataframe\">\n",
       "  <thead>\n",
       "    <tr style=\"text-align: right;\">\n",
       "      <th></th>\n",
       "      <th>#chrom</th>\n",
       "      <th>start</th>\n",
       "      <th>end</th>\n",
       "      <th>name</th>\n",
       "      <th>svtype</th>\n",
       "      <th>AC</th>\n",
       "      <th>AF</th>\n",
       "      <th>ALGORITHMS</th>\n",
       "      <th>AN</th>\n",
       "      <th>BOTHSIDES_SUPPORT</th>\n",
       "      <th>...</th>\n",
       "      <th>trio_POPMAX_FREQ_HOMALT</th>\n",
       "      <th>trio_POPMAX_CN_FREQ</th>\n",
       "      <th>trio_POPMAX_CN_NONREF_FREQ</th>\n",
       "      <th>gnomad_v3.1_sv_POPMAX_AF</th>\n",
       "      <th>gnomad_v3.1_sv_POPMAX_FREQ_HOMREF</th>\n",
       "      <th>gnomad_v3.1_sv_POPMAX_FREQ_HET</th>\n",
       "      <th>gnomad_v3.1_sv_POPMAX_FREQ_HOMALT</th>\n",
       "      <th>gnomad_v3.1_sv_POPMAX_CN_FREQ</th>\n",
       "      <th>gnomad_v3.1_sv_POPMAX_CN_NONREF_FREQ</th>\n",
       "      <th>FILTER</th>\n",
       "    </tr>\n",
       "  </thead>\n",
       "  <tbody>\n",
       "    <tr>\n",
       "      <th>120</th>\n",
       "      <td>chr1</td>\n",
       "      <td>1116266</td>\n",
       "      <td>1116473</td>\n",
       "      <td>PedSV.2.5.2_DEL_chr1_165</td>\n",
       "      <td>DEL</td>\n",
       "      <td>1</td>\n",
       "      <td>0.000074</td>\n",
       "      <td>manta</td>\n",
       "      <td>13462</td>\n",
       "      <td>True</td>\n",
       "      <td>...</td>\n",
       "      <td>0.0</td>\n",
       "      <td>NaN</td>\n",
       "      <td>NaN</td>\n",
       "      <td>0.000000</td>\n",
       "      <td>NaN</td>\n",
       "      <td>NaN</td>\n",
       "      <td>NaN</td>\n",
       "      <td>NaN</td>\n",
       "      <td>NaN</td>\n",
       "      <td>PASS</td>\n",
       "    </tr>\n",
       "    <tr>\n",
       "      <th>137</th>\n",
       "      <td>chr1</td>\n",
       "      <td>1157302</td>\n",
       "      <td>1157390</td>\n",
       "      <td>PedSV.2.5.2_DEL_chr1_186</td>\n",
       "      <td>DEL</td>\n",
       "      <td>1</td>\n",
       "      <td>0.000074</td>\n",
       "      <td>wham</td>\n",
       "      <td>13462</td>\n",
       "      <td>False</td>\n",
       "      <td>...</td>\n",
       "      <td>0.0</td>\n",
       "      <td>NaN</td>\n",
       "      <td>NaN</td>\n",
       "      <td>0.000031</td>\n",
       "      <td>NaN</td>\n",
       "      <td>NaN</td>\n",
       "      <td>NaN</td>\n",
       "      <td>NaN</td>\n",
       "      <td>NaN</td>\n",
       "      <td>PASS</td>\n",
       "    </tr>\n",
       "  </tbody>\n",
       "</table>\n",
       "<p>2 rows × 952 columns</p>\n",
       "</div>"
      ],
      "text/plain": [
       "    #chrom    start      end                      name svtype  AC        AF  \\\n",
       "120   chr1  1116266  1116473  PedSV.2.5.2_DEL_chr1_165    DEL   1  0.000074   \n",
       "137   chr1  1157302  1157390  PedSV.2.5.2_DEL_chr1_186    DEL   1  0.000074   \n",
       "\n",
       "    ALGORITHMS     AN  BOTHSIDES_SUPPORT  ... trio_POPMAX_FREQ_HOMALT  \\\n",
       "120      manta  13462               True  ...                     0.0   \n",
       "137       wham  13462              False  ...                     0.0   \n",
       "\n",
       "     trio_POPMAX_CN_FREQ trio_POPMAX_CN_NONREF_FREQ gnomad_v3.1_sv_POPMAX_AF  \\\n",
       "120                  NaN                        NaN                 0.000000   \n",
       "137                  NaN                        NaN                 0.000031   \n",
       "\n",
       "     gnomad_v3.1_sv_POPMAX_FREQ_HOMREF  gnomad_v3.1_sv_POPMAX_FREQ_HET  \\\n",
       "120                                NaN                             NaN   \n",
       "137                                NaN                             NaN   \n",
       "\n",
       "    gnomad_v3.1_sv_POPMAX_FREQ_HOMALT  gnomad_v3.1_sv_POPMAX_CN_FREQ  \\\n",
       "120                               NaN                            NaN   \n",
       "137                               NaN                            NaN   \n",
       "\n",
       "     gnomad_v3.1_sv_POPMAX_CN_NONREF_FREQ  FILTER  \n",
       "120                                   NaN    PASS  \n",
       "137                                   NaN    PASS  \n",
       "\n",
       "[2 rows x 952 columns]"
      ]
     },
     "execution_count": 207,
     "metadata": {},
     "output_type": "execute_result"
    }
   ],
   "source": [
    "svs_in_category = nbl_category_svs[(nbl_category_svs['sv_category'] == \"non-coding\") & \n",
    "                                   (nbl_category_svs[\"category\"] == nontad_test_framework)]\n",
    "\n",
    "# subset the actual SV matrix\n",
    "svs_in_category = svs[svs[\"name\"].isin(svs_in_category[\"SV\"].tolist())]\n",
    "\n",
    "svs_in_category.head(2)"
   ]
  },
  {
   "cell_type": "code",
   "execution_count": 208,
   "id": "8483d11d-6e8d-47a2-bee0-d14889708ca0",
   "metadata": {},
   "outputs": [
    {
     "data": {
      "text/plain": [
       "(3021, 952)"
      ]
     },
     "execution_count": 208,
     "metadata": {},
     "output_type": "execute_result"
    }
   ],
   "source": [
    "svs_in_category.shape"
   ]
  },
  {
   "cell_type": "code",
   "execution_count": 209,
   "id": "18019d6b-7749-4e58-b1d2-44dd20a466cc",
   "metadata": {},
   "outputs": [
    {
     "data": {
      "text/html": [
       "<div>\n",
       "<style scoped>\n",
       "    .dataframe tbody tr th:only-of-type {\n",
       "        vertical-align: middle;\n",
       "    }\n",
       "\n",
       "    .dataframe tbody tr th {\n",
       "        vertical-align: top;\n",
       "    }\n",
       "\n",
       "    .dataframe thead th {\n",
       "        text-align: right;\n",
       "    }\n",
       "</style>\n",
       "<table border=\"1\" class=\"dataframe\">\n",
       "  <thead>\n",
       "    <tr style=\"text-align: right;\">\n",
       "      <th></th>\n",
       "      <th>PREDICTED_NEAREST_TSS</th>\n",
       "      <th>PREDICTED_INTRONIC</th>\n",
       "      <th>PREDICTED_PROMOTER</th>\n",
       "      <th>PREDICTED_UTR</th>\n",
       "    </tr>\n",
       "  </thead>\n",
       "  <tbody>\n",
       "    <tr>\n",
       "      <th>120</th>\n",
       "      <td>NaN</td>\n",
       "      <td>NaN</td>\n",
       "      <td>C1orf159</td>\n",
       "      <td>NaN</td>\n",
       "    </tr>\n",
       "    <tr>\n",
       "      <th>137</th>\n",
       "      <td>TTLL10</td>\n",
       "      <td>NaN</td>\n",
       "      <td>NaN</td>\n",
       "      <td>NaN</td>\n",
       "    </tr>\n",
       "    <tr>\n",
       "      <th>224</th>\n",
       "      <td>NaN</td>\n",
       "      <td>ATAD3B</td>\n",
       "      <td>NaN</td>\n",
       "      <td>NaN</td>\n",
       "    </tr>\n",
       "    <tr>\n",
       "      <th>584</th>\n",
       "      <td>NaN</td>\n",
       "      <td>NaN</td>\n",
       "      <td>C1orf174</td>\n",
       "      <td>NaN</td>\n",
       "    </tr>\n",
       "    <tr>\n",
       "      <th>836</th>\n",
       "      <td>HES3</td>\n",
       "      <td>NaN</td>\n",
       "      <td>NaN</td>\n",
       "      <td>NaN</td>\n",
       "    </tr>\n",
       "  </tbody>\n",
       "</table>\n",
       "</div>"
      ],
      "text/plain": [
       "    PREDICTED_NEAREST_TSS PREDICTED_INTRONIC PREDICTED_PROMOTER PREDICTED_UTR\n",
       "120                   NaN                NaN           C1orf159           NaN\n",
       "137                TTLL10                NaN                NaN           NaN\n",
       "224                   NaN             ATAD3B                NaN           NaN\n",
       "584                   NaN                NaN           C1orf174           NaN\n",
       "836                  HES3                NaN                NaN           NaN"
      ]
     },
     "execution_count": 209,
     "metadata": {},
     "output_type": "execute_result"
    }
   ],
   "source": [
    "svs_in_category[genic_relationships].head()"
   ]
  },
  {
   "cell_type": "markdown",
   "id": "5127751c-3eca-4804-bbb3-2509fa564c1b",
   "metadata": {},
   "source": [
    "We should be a bit more careful if any results turn up positive, but for now we'll just register an SV as contributing to a count for that gene."
   ]
  },
  {
   "cell_type": "code",
   "execution_count": 210,
   "id": "637a32ef-befb-464b-988b-2ce8e9977177",
   "metadata": {},
   "outputs": [
    {
     "data": {
      "text/html": [
       "<div>\n",
       "<style scoped>\n",
       "    .dataframe tbody tr th:only-of-type {\n",
       "        vertical-align: middle;\n",
       "    }\n",
       "\n",
       "    .dataframe tbody tr th {\n",
       "        vertical-align: top;\n",
       "    }\n",
       "\n",
       "    .dataframe thead th {\n",
       "        text-align: right;\n",
       "    }\n",
       "</style>\n",
       "<table border=\"1\" class=\"dataframe\">\n",
       "  <thead>\n",
       "    <tr style=\"text-align: right;\">\n",
       "      <th></th>\n",
       "      <th>PT_00QYKRAX</th>\n",
       "      <th>PT_00Y8C0XA</th>\n",
       "      <th>PT_025YMME2</th>\n",
       "      <th>PT_02AE4RSP</th>\n",
       "      <th>PT_02SNWVRF</th>\n",
       "      <th>PT_06Z51EN5</th>\n",
       "      <th>PT_0CKD259J</th>\n",
       "      <th>PT_0GMP9VVY</th>\n",
       "      <th>PT_0MVMPZKX</th>\n",
       "      <th>PT_11XN6CG5</th>\n",
       "      <th>...</th>\n",
       "      <th>ssi_26401</th>\n",
       "      <th>ssi_26409</th>\n",
       "      <th>ssi_26411</th>\n",
       "      <th>ssi_26422</th>\n",
       "      <th>ssi_26442</th>\n",
       "      <th>ssi_26452</th>\n",
       "      <th>ssi_26453</th>\n",
       "      <th>ssi_26458</th>\n",
       "      <th>ssi_26459</th>\n",
       "      <th>ssi_26463</th>\n",
       "    </tr>\n",
       "    <tr>\n",
       "      <th>ID</th>\n",
       "      <th></th>\n",
       "      <th></th>\n",
       "      <th></th>\n",
       "      <th></th>\n",
       "      <th></th>\n",
       "      <th></th>\n",
       "      <th></th>\n",
       "      <th></th>\n",
       "      <th></th>\n",
       "      <th></th>\n",
       "      <th></th>\n",
       "      <th></th>\n",
       "      <th></th>\n",
       "      <th></th>\n",
       "      <th></th>\n",
       "      <th></th>\n",
       "      <th></th>\n",
       "      <th></th>\n",
       "      <th></th>\n",
       "      <th></th>\n",
       "      <th></th>\n",
       "    </tr>\n",
       "  </thead>\n",
       "  <tbody>\n",
       "    <tr>\n",
       "      <th>PedSV.2.5.2_DEL_chr1_165</th>\n",
       "      <td>0.0</td>\n",
       "      <td>0.0</td>\n",
       "      <td>0.0</td>\n",
       "      <td>0.0</td>\n",
       "      <td>0.0</td>\n",
       "      <td>0.0</td>\n",
       "      <td>0.0</td>\n",
       "      <td>0.0</td>\n",
       "      <td>0.0</td>\n",
       "      <td>0.0</td>\n",
       "      <td>...</td>\n",
       "      <td>0.0</td>\n",
       "      <td>0.0</td>\n",
       "      <td>0.0</td>\n",
       "      <td>0.0</td>\n",
       "      <td>0.0</td>\n",
       "      <td>0.0</td>\n",
       "      <td>0.0</td>\n",
       "      <td>0.0</td>\n",
       "      <td>0.0</td>\n",
       "      <td>0.0</td>\n",
       "    </tr>\n",
       "    <tr>\n",
       "      <th>PedSV.2.5.2_DEL_chr1_186</th>\n",
       "      <td>0.0</td>\n",
       "      <td>0.0</td>\n",
       "      <td>0.0</td>\n",
       "      <td>0.0</td>\n",
       "      <td>0.0</td>\n",
       "      <td>0.0</td>\n",
       "      <td>0.0</td>\n",
       "      <td>0.0</td>\n",
       "      <td>0.0</td>\n",
       "      <td>0.0</td>\n",
       "      <td>...</td>\n",
       "      <td>0.0</td>\n",
       "      <td>0.0</td>\n",
       "      <td>0.0</td>\n",
       "      <td>0.0</td>\n",
       "      <td>0.0</td>\n",
       "      <td>0.0</td>\n",
       "      <td>0.0</td>\n",
       "      <td>0.0</td>\n",
       "      <td>0.0</td>\n",
       "      <td>0.0</td>\n",
       "    </tr>\n",
       "  </tbody>\n",
       "</table>\n",
       "<p>2 rows × 5519 columns</p>\n",
       "</div>"
      ],
      "text/plain": [
       "                          PT_00QYKRAX  PT_00Y8C0XA  PT_025YMME2  PT_02AE4RSP  \\\n",
       "ID                                                                             \n",
       "PedSV.2.5.2_DEL_chr1_165          0.0          0.0          0.0          0.0   \n",
       "PedSV.2.5.2_DEL_chr1_186          0.0          0.0          0.0          0.0   \n",
       "\n",
       "                          PT_02SNWVRF  PT_06Z51EN5  PT_0CKD259J  PT_0GMP9VVY  \\\n",
       "ID                                                                             \n",
       "PedSV.2.5.2_DEL_chr1_165          0.0          0.0          0.0          0.0   \n",
       "PedSV.2.5.2_DEL_chr1_186          0.0          0.0          0.0          0.0   \n",
       "\n",
       "                          PT_0MVMPZKX  PT_11XN6CG5  ...  ssi_26401  ssi_26409  \\\n",
       "ID                                                  ...                         \n",
       "PedSV.2.5.2_DEL_chr1_165          0.0          0.0  ...        0.0        0.0   \n",
       "PedSV.2.5.2_DEL_chr1_186          0.0          0.0  ...        0.0        0.0   \n",
       "\n",
       "                          ssi_26411  ssi_26422  ssi_26442  ssi_26452  \\\n",
       "ID                                                                     \n",
       "PedSV.2.5.2_DEL_chr1_165        0.0        0.0        0.0        0.0   \n",
       "PedSV.2.5.2_DEL_chr1_186        0.0        0.0        0.0        0.0   \n",
       "\n",
       "                          ssi_26453  ssi_26458  ssi_26459  ssi_26463  \n",
       "ID                                                                    \n",
       "PedSV.2.5.2_DEL_chr1_165        0.0        0.0        0.0        0.0  \n",
       "PedSV.2.5.2_DEL_chr1_186        0.0        0.0        0.0        0.0  \n",
       "\n",
       "[2 rows x 5519 columns]"
      ]
     },
     "execution_count": 210,
     "metadata": {},
     "output_type": "execute_result"
    }
   ],
   "source": [
    "nbl_sv_dosages = (\n",
    "    dosages\n",
    "    .set_index(\"ID\")\n",
    "    .loc[svs_in_category[\"name\"].tolist(), nbl_cases + nbl_controls]\n",
    ")\n",
    "nbl_sv_dosages.head(2)"
   ]
  },
  {
   "cell_type": "markdown",
   "id": "2bf2daa9-a00e-4f03-bbbf-cd130a4103fd",
   "metadata": {},
   "source": [
    "Again subset our dosage matrix, dropping samples with bad GT rates"
   ]
  },
  {
   "cell_type": "code",
   "execution_count": 211,
   "id": "ee09ae2a-1df6-4d37-b423-c8c44a8d4bca",
   "metadata": {},
   "outputs": [],
   "source": [
    "kept = pd.isnull(nbl_sv_dosages).sum(axis = 0) / len(nbl_sv_dosages) < 0.05\n",
    "\n",
    "nbl_kept_cases = list(set(nbl_cases) & set(kept[kept].index))\n",
    "nbl_kept_controls = list(set(nbl_controls) & set(kept[kept].index))"
   ]
  },
  {
   "cell_type": "code",
   "execution_count": 212,
   "id": "3822f620-d0e3-4a27-97d6-5a3f02bec4ff",
   "metadata": {},
   "outputs": [],
   "source": [
    "nbl_sv_dosages = nbl_sv_dosages.loc[:, kept]"
   ]
  },
  {
   "cell_type": "code",
   "execution_count": 213,
   "id": "49111247-4eea-4161-bd8f-623c2e4fa12c",
   "metadata": {},
   "outputs": [
    {
     "data": {
      "text/plain": [
       "(3021, 5346)"
      ]
     },
     "execution_count": 213,
     "metadata": {},
     "output_type": "execute_result"
    }
   ],
   "source": [
    "nbl_sv_dosages.shape"
   ]
  },
  {
   "cell_type": "code",
   "execution_count": 214,
   "id": "15da298c-8d62-49c1-a795-15b0b79f3cc3",
   "metadata": {},
   "outputs": [
    {
     "data": {
      "text/plain": [
       "ID\n",
       "PedSV.2.5.2_DEL_chr1_165     0.0\n",
       "PedSV.2.5.2_DEL_chr12_612    0.0\n",
       "PedSV.2.5.2_DEL_chr12_615    0.0\n",
       "PedSV.2.5.2_DEL_chr12_705    0.0\n",
       "PedSV.2.5.2_DEL_chr12_839    0.0\n",
       "dtype: float64"
      ]
     },
     "execution_count": 214,
     "metadata": {},
     "output_type": "execute_result"
    }
   ],
   "source": [
    "sv_counts_cases = nbl_sv_dosages[nbl_kept_cases].fillna(0).sum(axis=1).sort_values()\n",
    "sv_counts_controls = nbl_sv_dosages[nbl_kept_controls].fillna(0).sum(axis=1).sort_values()\n",
    "sv_counts_cases.head()"
   ]
  },
  {
   "cell_type": "markdown",
   "id": "e1d3933b-d74f-4c8f-8a7d-11f4c2c01f53",
   "metadata": {},
   "source": [
    "First, how many SVs are we actually dealing with here?"
   ]
  },
  {
   "cell_type": "code",
   "execution_count": 215,
   "id": "cf0f8697-0644-423d-b616-8683af9f512e",
   "metadata": {},
   "outputs": [
    {
     "data": {
      "text/plain": [
       "(339.0, 1962.0)"
      ]
     },
     "execution_count": 215,
     "metadata": {},
     "output_type": "execute_result"
    }
   ],
   "source": [
    "sv_counts_cases.sum(), sv_counts_controls.sum()"
   ]
  },
  {
   "cell_type": "markdown",
   "id": "5ca5931e-73a0-41e1-bb86-8438215c6a9a",
   "metadata": {},
   "source": [
    "So maybe that's not so bad? We'll see what happens."
   ]
  },
  {
   "cell_type": "code",
   "execution_count": 216,
   "id": "54122dae-1257-4e02-84e3-061c97a4f069",
   "metadata": {},
   "outputs": [],
   "source": [
    "genes_in_svs = svs_in_category[['name'] + genic_relationships].set_index('name')"
   ]
  },
  {
   "cell_type": "code",
   "execution_count": 218,
   "id": "5ee0f1c5-0ce3-43e2-9293-3ad59254763d",
   "metadata": {},
   "outputs": [],
   "source": [
    "gene_counts = {'cases': [], 'controls': []}\n",
    "for cohort, sv_counts in zip(['cases', 'controls'], [sv_counts_cases, sv_counts_controls]):\n",
    "\n",
    "    sample_genes_in_svs = genes_in_svs.copy()\n",
    "    sample_genes_in_svs.loc[sv_counts.index, 'count'] = sv_counts.astype(int)\n",
    "\n",
    "    # simple enough to go through\n",
    "    cohort_gene_counts = []\n",
    "    for index, row in sample_genes_in_svs.iterrows():\n",
    "        for col in genic_relationships:\n",
    "            if not pd.isnull(row[col]):\n",
    "                cohort_gene_counts += row[col].split(',') * row['count']\n",
    "\n",
    "    gene_counts[cohort] = pd.DataFrame(np.unique(cohort_gene_counts, return_counts = True), index = ['gene', 'count']).T"
   ]
  },
  {
   "cell_type": "code",
   "execution_count": 219,
   "id": "92f359a4-8a84-4984-8b65-259e63279921",
   "metadata": {},
   "outputs": [
    {
     "data": {
      "text/plain": [
       "((314, 2), (1565, 2))"
      ]
     },
     "execution_count": 219,
     "metadata": {},
     "output_type": "execute_result"
    }
   ],
   "source": [
    "gene_counts['cases'].shape, gene_counts['controls'].shape"
   ]
  },
  {
   "cell_type": "markdown",
   "id": "55525db8-49d0-42db-b423-24f3c8f16598",
   "metadata": {},
   "source": [
    "Calculate with Fisher's exact:"
   ]
  },
  {
   "cell_type": "code",
   "execution_count": 220,
   "id": "e5d536ec-a96f-470a-ba0d-fd31af685887",
   "metadata": {},
   "outputs": [
    {
     "name": "stdout",
     "output_type": "stream",
     "text": [
      "(0.8638836275475414, 1.0)\n",
      "(1.37372476979423, 0.14412787728548032)\n"
     ]
    }
   ],
   "source": [
    "for cohort in ['cases', 'controls']:\n",
    "    \n",
    "    cohort_gene_counts = gene_counts[cohort]\n",
    "    \n",
    "    genes_in_category_and_gs = cohort_gene_counts[cohort_gene_counts['gene'].isin(g2m_checkpoint)]['count'].sum()\n",
    "    genes_in_category_and_not_gs = cohort_gene_counts[~cohort_gene_counts['gene'].isin(g2m_checkpoint)]['count'].sum()\n",
    "\n",
    "    genes_not_in_category_and_in_gs = len(set(g2m_checkpoint) - set(cohort_gene_counts['gene']))\n",
    "    genes_not_in_category_and_not_gs = len(gene_ref) - genes_not_in_category_and_in_gs\n",
    "    \n",
    "    cont_table = np.array([[genes_in_category_and_gs, genes_in_category_and_not_gs], \n",
    "                       [genes_not_in_category_and_in_gs, genes_not_in_category_and_not_gs]])\n",
    "    print(scipy.stats.fisher_exact(cont_table))"
   ]
  },
  {
   "cell_type": "code",
   "execution_count": 221,
   "id": "abf41000-7057-4ce0-95ef-855f4d62b93f",
   "metadata": {},
   "outputs": [],
   "source": [
    "hallmark_results = []\n",
    "for gs, genes in hallmark.items():\n",
    "    \n",
    "    # store the expected frequency\n",
    "    expected = f'{len(genes)}/{len(gene_ref)}'\n",
    "    row = [gs, expected]\n",
    "    \n",
    "    for cohort in ['cases', 'controls']:\n",
    "        \n",
    "        cohort_gene_counts = gene_counts[cohort]\n",
    "        \n",
    "        top_left = cohort_gene_counts[cohort_gene_counts['gene'].isin(genes)]['count'].sum()\n",
    "        top_right = cohort_gene_counts[~cohort_gene_counts['gene'].isin(genes)]['count'].sum()\n",
    "\n",
    "        bottom_left = len(set(genes) - set(cohort_gene_counts['gene']))\n",
    "        botttom_right = len(gene_ref) - bottom_left\n",
    "\n",
    "        cont_table = np.array([[upper_left, upper_right], \n",
    "                               [bottom_left, botttom_right]])\n",
    "        res, p = scipy.stats.fisher_exact(cont_table)\n",
    "\n",
    "        # provide the expected and the data frequencies\n",
    "        data = f'{top_left}/{top_left + top_right}'\n",
    "        row += [res, p, data]\n",
    "        \n",
    "    hallmark_results.append(row)\n",
    "    \n",
    "col_names = ['gene_set', 'expected', 'case_stat', 'case_p', 'case_data', 'control_stat', 'control_p', 'control_data']\n",
    "hallmark_results = pd.DataFrame(hallmark_results, columns = col_names)"
   ]
  },
  {
   "cell_type": "code",
   "execution_count": 223,
   "id": "46e767e2-9524-4157-b802-e984fa8192f1",
   "metadata": {},
   "outputs": [
    {
     "data": {
      "text/html": [
       "<div>\n",
       "<style scoped>\n",
       "    .dataframe tbody tr th:only-of-type {\n",
       "        vertical-align: middle;\n",
       "    }\n",
       "\n",
       "    .dataframe tbody tr th {\n",
       "        vertical-align: top;\n",
       "    }\n",
       "\n",
       "    .dataframe thead th {\n",
       "        text-align: right;\n",
       "    }\n",
       "</style>\n",
       "<table border=\"1\" class=\"dataframe\">\n",
       "  <thead>\n",
       "    <tr style=\"text-align: right;\">\n",
       "      <th></th>\n",
       "      <th>gene_set</th>\n",
       "      <th>expected</th>\n",
       "      <th>case_stat</th>\n",
       "      <th>case_p</th>\n",
       "      <th>case_data</th>\n",
       "      <th>control_stat</th>\n",
       "      <th>control_p</th>\n",
       "      <th>control_data</th>\n",
       "    </tr>\n",
       "  </thead>\n",
       "  <tbody>\n",
       "    <tr>\n",
       "      <th>0</th>\n",
       "      <td>TNF-alpha Signaling via NF-kB</td>\n",
       "      <td>200/19201</td>\n",
       "      <td>3.034415</td>\n",
       "      <td>0.002708</td>\n",
       "      <td>10/338</td>\n",
       "      <td>2.047719</td>\n",
       "      <td>2.785264e-04</td>\n",
       "      <td>36/1981</td>\n",
       "    </tr>\n",
       "    <tr>\n",
       "      <th>3</th>\n",
       "      <td>Mitotic Spindle</td>\n",
       "      <td>199/19201</td>\n",
       "      <td>2.412819</td>\n",
       "      <td>0.022825</td>\n",
       "      <td>8/338</td>\n",
       "      <td>1.863254</td>\n",
       "      <td>2.358557e-03</td>\n",
       "      <td>33/1981</td>\n",
       "    </tr>\n",
       "    <tr>\n",
       "      <th>11</th>\n",
       "      <td>Adipogenesis</td>\n",
       "      <td>200/19201</td>\n",
       "      <td>2.400126</td>\n",
       "      <td>0.023432</td>\n",
       "      <td>8/338</td>\n",
       "      <td>1.405359</td>\n",
       "      <td>1.166004e-01</td>\n",
       "      <td>26/1981</td>\n",
       "    </tr>\n",
       "    <tr>\n",
       "      <th>16</th>\n",
       "      <td>Protein Secretion</td>\n",
       "      <td>96/19201</td>\n",
       "      <td>3.118717</td>\n",
       "      <td>0.026645</td>\n",
       "      <td>5/338</td>\n",
       "      <td>1.226758</td>\n",
       "      <td>4.865993e-01</td>\n",
       "      <td>11/1981</td>\n",
       "    </tr>\n",
       "    <tr>\n",
       "      <th>23</th>\n",
       "      <td>Unfolded Protein Response</td>\n",
       "      <td>113/19201</td>\n",
       "      <td>2.629969</td>\n",
       "      <td>0.048101</td>\n",
       "      <td>5/338</td>\n",
       "      <td>0.737422</td>\n",
       "      <td>5.164636e-01</td>\n",
       "      <td>8/1981</td>\n",
       "    </tr>\n",
       "    <tr>\n",
       "      <th>38</th>\n",
       "      <td>UV Response Dn</td>\n",
       "      <td>144/19201</td>\n",
       "      <td>3.863425</td>\n",
       "      <td>0.000918</td>\n",
       "      <td>9/338</td>\n",
       "      <td>3.906664</td>\n",
       "      <td>1.042503e-11</td>\n",
       "      <td>44/1981</td>\n",
       "    </tr>\n",
       "    <tr>\n",
       "      <th>43</th>\n",
       "      <td>Bile Acid Metabolism</td>\n",
       "      <td>112/19201</td>\n",
       "      <td>2.654460</td>\n",
       "      <td>0.046622</td>\n",
       "      <td>5/338</td>\n",
       "      <td>1.025317</td>\n",
       "      <td>8.726269e-01</td>\n",
       "      <td>11/1981</td>\n",
       "    </tr>\n",
       "    <tr>\n",
       "      <th>45</th>\n",
       "      <td>Allograft Rejection</td>\n",
       "      <td>200/19201</td>\n",
       "      <td>2.722672</td>\n",
       "      <td>0.008239</td>\n",
       "      <td>9/338</td>\n",
       "      <td>0.775782</td>\n",
       "      <td>3.962079e-01</td>\n",
       "      <td>15/1981</td>\n",
       "    </tr>\n",
       "    <tr>\n",
       "      <th>49</th>\n",
       "      <td>Pancreas Beta Cells</td>\n",
       "      <td>40/19201</td>\n",
       "      <td>4.516025</td>\n",
       "      <td>0.033713</td>\n",
       "      <td>3/338</td>\n",
       "      <td>2.285799</td>\n",
       "      <td>5.459697e-02</td>\n",
       "      <td>8/1981</td>\n",
       "    </tr>\n",
       "  </tbody>\n",
       "</table>\n",
       "</div>"
      ],
      "text/plain": [
       "                         gene_set   expected  case_stat    case_p case_data  \\\n",
       "0   TNF-alpha Signaling via NF-kB  200/19201   3.034415  0.002708    10/338   \n",
       "3                 Mitotic Spindle  199/19201   2.412819  0.022825     8/338   \n",
       "11                   Adipogenesis  200/19201   2.400126  0.023432     8/338   \n",
       "16              Protein Secretion   96/19201   3.118717  0.026645     5/338   \n",
       "23      Unfolded Protein Response  113/19201   2.629969  0.048101     5/338   \n",
       "38                 UV Response Dn  144/19201   3.863425  0.000918     9/338   \n",
       "43           Bile Acid Metabolism  112/19201   2.654460  0.046622     5/338   \n",
       "45            Allograft Rejection  200/19201   2.722672  0.008239     9/338   \n",
       "49            Pancreas Beta Cells   40/19201   4.516025  0.033713     3/338   \n",
       "\n",
       "    control_stat     control_p control_data  \n",
       "0       2.047719  2.785264e-04      36/1981  \n",
       "3       1.863254  2.358557e-03      33/1981  \n",
       "11      1.405359  1.166004e-01      26/1981  \n",
       "16      1.226758  4.865993e-01      11/1981  \n",
       "23      0.737422  5.164636e-01       8/1981  \n",
       "38      3.906664  1.042503e-11      44/1981  \n",
       "43      1.025317  8.726269e-01      11/1981  \n",
       "45      0.775782  3.962079e-01      15/1981  \n",
       "49      2.285799  5.459697e-02       8/1981  "
      ]
     },
     "execution_count": 223,
     "metadata": {},
     "output_type": "execute_result"
    }
   ],
   "source": [
    "hallmark_results.query('case_p < 0.05')"
   ]
  },
  {
   "cell_type": "markdown",
   "id": "1a7ab9b1-a1fc-40b6-8b3a-17eb30ae3b36",
   "metadata": {},
   "source": [
    "# Generalized gene set enrichment\n",
    "\n",
    "Alright, we've been through two examples. Now let's try generalizing across two axes--categories and gene sets. For now, we'll only neuroblastoma significant categories.\n",
    "\n",
    "I don't know if these `p_values` are already corrected or not. I'll assume they're not."
   ]
  },
  {
   "cell_type": "markdown",
   "id": "5eb19bf8-d7b1-4313-a9a0-4659d6371b7c",
   "metadata": {},
   "source": [
    "## Define the categories for analysis\n",
    "\n",
    "Here, we'll select which categories we want to examine. We'll stick to neuroblastoma, but we'll examine `singleton` and `rare`, as well as `noncoding` and `coding`.\n",
    "\n",
    "Worth mentioning that the `noncoding` categories could be quite difficult to interpret."
   ]
  },
  {
   "cell_type": "code",
   "execution_count": 224,
   "id": "b9bb01ff-1406-4b73-82f7-45f98d00ce94",
   "metadata": {},
   "outputs": [
    {
     "data": {
      "text/plain": [
       "(77, 22)"
      ]
     },
     "execution_count": 224,
     "metadata": {},
     "output_type": "execute_result"
    }
   ],
   "source": [
    "nbl_analysis_categories = nbl_framework_results.query('negative_log10_p_value > 3.5')\n",
    "nbl_analysis_categories.shape"
   ]
  },
  {
   "cell_type": "markdown",
   "id": "1819aff5-ec24-42fe-8094-f6ccbe5494d9",
   "metadata": {},
   "source": [
    "Here, we'll also define a helpful lookup that maps from the \"collapsed\" genic relationships to all their component relationships."
   ]
  },
  {
   "cell_type": "code",
   "execution_count": 225,
   "id": "45870124-595d-4354-b9a4-bd9c4c0b7a3e",
   "metadata": {},
   "outputs": [],
   "source": [
    "gr_coding_mapping = {'PREDICTED_LOF_or_PREDICTED_PARTIAL_EXON_DUP': ['PREDICTED_LOF', 'PREDICTED_PARTIAL_EXON_DUP'],\n",
    "                     'ANY': ['PREDICTED_COPY_GAIN', 'PREDICTED_INTRAGENIC_EXON_DUP', 'PREDICTED_LOF', 'PREDICTED_PARTIAL_EXON_DUP']}\n",
    "\n",
    "gr_noncoding_mapping = {'ANY': ['PREDICTED_INTERGENIC', 'PREDICTED_INTRONIC', 'PREDICTED_PROMOTER', 'PREDICTED_UTR']}\n"
   ]
  },
  {
   "cell_type": "markdown",
   "id": "77a702d3-24c4-4949-a6a5-66c94f3c8cf8",
   "metadata": {},
   "source": [
    "## Define the gene sets for analysis\n",
    "\n",
    "Let's highlight some specific gene sets for analysis. We'll do the following:\n",
    "\n",
    "* `MSigDB_Hallmark_2020`\n",
    "* `GO_Biological_Process_2023` (this is the default for GO term analysis)\n",
    "* `Reactome_2022`\n",
    "\n",
    "We'll begin with these, and then we can add in other specific ones that might be relevant later:"
   ]
  },
  {
   "cell_type": "markdown",
   "id": "9faf32d3-d1c8-4afa-bd33-82c241cfac3c",
   "metadata": {},
   "source": [
    "### GO terms\n",
    "\n",
    "We're using `gseapy` to get our gene sets. Unfortunately, I've discovered that the gene sets procided by `gp.get_library` _do not_ match the GO gene sets fetched by `biomaRt`. The libraries defined here are from `enrichr`, and from digging around a bit, they do not match. Maybe they're some custom file or something?"
   ]
  },
  {
   "cell_type": "code",
   "execution_count": 362,
   "id": "4e386382-4562-433f-913e-8f7302f08a14",
   "metadata": {},
   "outputs": [],
   "source": [
    "bm = Biomart()"
   ]
  },
  {
   "cell_type": "code",
   "execution_count": 394,
   "id": "9a54c165-c476-4740-b07e-9ade5c6ae796",
   "metadata": {},
   "outputs": [],
   "source": [
    "gene_sets = {}\n",
    "for db_name in ['MSigDB_Hallmark_2020', 'GO_Biological_Process_2023', 'Reactome_2022']:\n",
    "    db = gp.get_library(name=db_name)\n",
    "    gene_sets[db_name] = db"
   ]
  },
  {
   "cell_type": "markdown",
   "id": "bb9e8340-9bdf-4d2f-b1be-87dfb236a6b9",
   "metadata": {},
   "source": [
    "We need to fix the GO terms."
   ]
  },
  {
   "cell_type": "code",
   "execution_count": 363,
   "id": "584d66a7-8501-4ff1-8533-fe7e9626e093",
   "metadata": {},
   "outputs": [
    {
     "data": {
      "text/plain": [
       "108"
      ]
     },
     "execution_count": 363,
     "metadata": {},
     "output_type": "execute_result"
    }
   ],
   "source": [
    "# # fetch the GO ids, and then make them into 50 length chunks\n",
    "# pattern = r'\\((.*?)\\)'\n",
    "# go_id_to_go_term = {re.findall(pattern, g)[0]: g for g in gs['GO_Biological_Process_2023']}\n",
    "# go_chunks = [list(go_id_to_go_term.keys())[i:i + 50] for i in range(0, len(go_id_to_go_term.keys()), 50)]\n",
    "\n",
    "# go_results = []\n",
    "# for i, go_ids in enumerate(go_chunks):\n",
    "#     print(i, end = ', ')\n",
    "#     queries ={'go': go_ids}\n",
    "    \n",
    "#     # look up the true GO ids from biomart\n",
    "#     results = bm.query(dataset='hsapiens_gene_ensembl',\n",
    "#                        attributes=['ensembl_gene_id', 'external_gene_name', 'entrezgene_id', 'go'],\n",
    "#                        filters=queries)\n",
    "#     go_results.append(results)\n",
    "    \n",
    "# go_results = pd.concat(go_results)\n",
    "# go_results['go_term'] = go_results['go'].replace(go_id_to_go_term)\n",
    "# go_results[['go_term', 'external_gene_name']].to_csv('ref/GO_Biological_Process_Gene_Mapping.csv', index=False)"
   ]
  },
  {
   "cell_type": "code",
   "execution_count": 397,
   "id": "b3a34f67-1b24-4222-9540-3f3ee27749ce",
   "metadata": {},
   "outputs": [
    {
     "data": {
      "text/html": [
       "<div>\n",
       "<style scoped>\n",
       "    .dataframe tbody tr th:only-of-type {\n",
       "        vertical-align: middle;\n",
       "    }\n",
       "\n",
       "    .dataframe tbody tr th {\n",
       "        vertical-align: top;\n",
       "    }\n",
       "\n",
       "    .dataframe thead th {\n",
       "        text-align: right;\n",
       "    }\n",
       "</style>\n",
       "<table border=\"1\" class=\"dataframe\">\n",
       "  <thead>\n",
       "    <tr style=\"text-align: right;\">\n",
       "      <th></th>\n",
       "      <th>external_gene_name</th>\n",
       "    </tr>\n",
       "    <tr>\n",
       "      <th>go_term</th>\n",
       "      <th></th>\n",
       "    </tr>\n",
       "  </thead>\n",
       "  <tbody>\n",
       "    <tr>\n",
       "      <th>DNA Damage Checkpoint Signaling (GO:0000077)</th>\n",
       "      <td>E2F1</td>\n",
       "    </tr>\n",
       "    <tr>\n",
       "      <th>DNA Damage Checkpoint Signaling (GO:0000077)</th>\n",
       "      <td>DONSON</td>\n",
       "    </tr>\n",
       "  </tbody>\n",
       "</table>\n",
       "</div>"
      ],
      "text/plain": [
       "                                             external_gene_name\n",
       "go_term                                                        \n",
       "DNA Damage Checkpoint Signaling (GO:0000077)               E2F1\n",
       "DNA Damage Checkpoint Signaling (GO:0000077)             DONSON"
      ]
     },
     "execution_count": 397,
     "metadata": {},
     "output_type": "execute_result"
    }
   ],
   "source": [
    "go_terms = pd.read_csv('ref/GO_Biological_Process_Gene_Mapping.csv').set_index('go_term')\n",
    "go_terms.head(2)"
   ]
  },
  {
   "cell_type": "code",
   "execution_count": 402,
   "id": "4f1f4c85-c366-40c9-b1ce-4806f2a7cd53",
   "metadata": {},
   "outputs": [],
   "source": [
    "new_go = {}\n",
    "for gs, genes in gene_sets['GO_Biological_Process_2023'].items():\n",
    "    if gs in go_terms.index:\n",
    "        correct_genes = go_terms.loc[gs]\n",
    "        new_go[gs] = correct_genes\n",
    "        \n",
    "gene_sets['GO_Biological_Process_2023'] = new_go"
   ]
  },
  {
   "cell_type": "code",
   "execution_count": 406,
   "id": "fc30eb17-9d0c-4438-8216-5b7e54530947",
   "metadata": {},
   "outputs": [],
   "source": [
    "adrenal_genes = pd.read_csv('ref/adrenal-specific-genes.txt', sep='\\t', comment = '#')['Gene Name'].tolist()\n",
    "adrenal_genes = [g for g in adrenal_genes if g in gene_ref]\n",
    "\n",
    "gene_sets['custom'] = {'adrenal-specific-exp': adrenal_genes}"
   ]
  },
  {
   "cell_type": "code",
   "execution_count": 407,
   "id": "33e38631-a4b7-44c4-a362-dd6c7390fe00",
   "metadata": {},
   "outputs": [
    {
     "data": {
      "text/plain": [
       "6665"
      ]
     },
     "execution_count": 407,
     "metadata": {},
     "output_type": "execute_result"
    }
   ],
   "source": [
    "gs_count = 0\n",
    "for db_name, db in gene_sets.items():\n",
    "    gs_count += len(db.values())\n",
    "gs_count"
   ]
  },
  {
   "cell_type": "markdown",
   "id": "336e1259-fbf7-432b-b7e2-6dbbea8f8f0a",
   "metadata": {},
   "source": [
    "Clearly that's going to lead to some false positives, but it is what it is."
   ]
  },
  {
   "cell_type": "markdown",
   "id": "dd614678-31a9-4aa9-b478-03eaa2c0cdfa",
   "metadata": {},
   "source": [
    "## Run the thing\n",
    "\n",
    "This code will need to be decently adaptable, since it has to handle a few different unique components (noncoding categories, etc)."
   ]
  },
  {
   "cell_type": "code",
   "execution_count": 408,
   "id": "678772ca-31d7-433f-8588-4a18ee0a3bd1",
   "metadata": {},
   "outputs": [
    {
     "name": "stdout",
     "output_type": "stream",
     "text": [
      "0, 1, 2, 3, 4, 5, 6, 7, 8, 9, 10, 11, 12, 13, 14, 15, 16, 17, 18, 19, 20, 21, 22, 23, 24, 25, 26, 27, 28, 29, 30, 31, 32, 33, 34, 35, 36, 37, 38, 39, 40, 41, 42, 43, 44, 45, 46, 47, 48, 49, 50, 51, 52, 53, 54, 55, 56, 57, 58, 59, 60, 61, 62, 63, 64, 65, 66, 67, 68, 69, 70, 71, 72, 73, 74, 75, 76, "
     ]
    }
   ],
   "source": [
    "gse_results = []\n",
    "\n",
    "for i, (index, row) in enumerate(nbl_analysis_categories.iterrows()):\n",
    "    print(i, end = ', ')\n",
    "    cat_name = row['category_name']\n",
    "    af_category = row['af_category']\n",
    "    sv_category = row['sv_category']\n",
    "    p_category = row['p_value']\n",
    "    \n",
    "    cat_components = cat_name.split('.')\n",
    "    \n",
    "    base_row = [cat_name, af_category, sv_category, p_category]\n",
    "    \n",
    "    # here, we define the necessary genic relationships\n",
    "    # we handle the collapsed categories as well\n",
    "    if sv_category == 'coding':\n",
    "        gr = cat_components[2]\n",
    "\n",
    "        # convert gr to components\n",
    "        genic_rel = gr_coding_mapping.get(gr, [gr])\n",
    "        \n",
    "    elif sv_category == 'non-coding':\n",
    "        gr = cat_components[4]\n",
    "\n",
    "        # convert gr to components\n",
    "        genic_rel = gr_noncoding_mapping.get(gr, [gr])\n",
    "        \n",
    "    # swap out intergenic for nearest_tss\n",
    "    if 'PREDICTED_INTERGENIC' in genic_rel:\n",
    "        genic_rel[genic_rel.index('PREDICTED_INTERGENIC')] = 'PREDICTED_NEAREST_TSS'\n",
    "        \n",
    "    # next, we pull out our SVs in this category\n",
    "    svs_in_category = nbl_category_svs[(nbl_category_svs['sv_category'] == sv_category) & \n",
    "                                       (nbl_category_svs[\"category\"] == cat_name)]\n",
    "    \n",
    "    # subset the actual SV matrix\n",
    "    svs_in_category = svs[svs[\"name\"].isin(svs_in_category[\"SV\"].tolist())]\n",
    "    \n",
    "    # extract the dosages for cases and controls\n",
    "    nbl_sv_dosages = (\n",
    "        dosages\n",
    "        .set_index(\"ID\")\n",
    "        .loc[svs_in_category[\"name\"].tolist(), nbl_cases + nbl_controls]\n",
    "        )\n",
    "    \n",
    "    # drop samples with bad GT rates\n",
    "    kept = pd.isnull(nbl_sv_dosages).sum(axis = 0) / len(nbl_sv_dosages) < 0.05\n",
    "    nbl_kept_cases = list(set(nbl_cases) & set(kept[kept].index))\n",
    "    nbl_kept_controls = list(set(nbl_controls) & set(kept[kept].index))\n",
    "    \n",
    "    nbl_sv_dosages = nbl_sv_dosages.loc[:, kept]\n",
    "    \n",
    "    # define the number of unique SVs\n",
    "    sv_counts_cases = nbl_sv_dosages[nbl_kept_cases].fillna(0).sum(axis=1).sort_values()\n",
    "    sv_counts_controls = nbl_sv_dosages[nbl_kept_controls].fillna(0).sum(axis=1).sort_values()\n",
    "    \n",
    "    # define our affected genes\n",
    "    genes_in_svs = svs_in_category[['name'] + genic_rel].set_index('name')\n",
    "    \n",
    "    # for each gene, count up the number of SVs in cases and controls, separately.\n",
    "    gene_counts = {'cases': [], 'controls': []}\n",
    "    for cohort, sv_counts in zip(['cases', 'controls'], [sv_counts_cases, sv_counts_controls]):\n",
    "\n",
    "        sample_genes_in_svs = genes_in_svs.copy()\n",
    "        sample_genes_in_svs.loc[sv_counts.index, 'count'] = sv_counts.astype(int)\n",
    "\n",
    "        # count for each genic relationship\n",
    "        cohort_gene_counts = []\n",
    "        for index, row in sample_genes_in_svs.iterrows():\n",
    "            for col in genic_rel:\n",
    "                if not pd.isnull(row[col]):\n",
    "                    cohort_gene_counts += row[col].split(',') * row['count']\n",
    "\n",
    "        gene_counts[cohort] = pd.DataFrame(np.unique(cohort_gene_counts, return_counts = True), index = ['gene', 'count']).T\n",
    "        \n",
    "        # store the number of unique SVs for cases and controls\n",
    "        base_row.append(len(gene_counts[cohort]))\n",
    "        \n",
    "    # for each gene set, create a contingency matrix and calculate our\n",
    "    # fisher's result\n",
    "    for db_name, db in gene_sets.items():\n",
    "        for gs_name, gs_genes in db.items():\n",
    "            \n",
    "            expected = f'{len(gs_genes)}/{len(gene_ref)}'\n",
    "            row = base_row + [db_name, gs_name, expected]\n",
    "            \n",
    "            for cohort in ['cases', 'controls']:\n",
    "                cohort_gene_counts = gene_counts[cohort]\n",
    "            \n",
    "                top_left = cohort_gene_counts[cohort_gene_counts['gene'].isin(gs_genes)]['count'].sum()\n",
    "                top_right = cohort_gene_counts[~cohort_gene_counts['gene'].isin(gs_genes)]['count'].sum()\n",
    "\n",
    "                bottom_left = len(set(gs_genes) - set(cohort_gene_counts['gene']))\n",
    "                bottom_right = len(gene_ref) - bottom_left\n",
    "            \n",
    "                cont_table = np.array([[top_left, top_right], \n",
    "                                       [bottom_left, bottom_right]])\n",
    "                res, p = scipy.stats.fisher_exact(cont_table)\n",
    "\n",
    "                # calculate the number of unique overlaps. Helps us determine\n",
    "                # if signal is being driven by a single/few gene(s)\n",
    "                unique_overlaps = len(set(gs_genes) & set(cohort_gene_counts['gene']))\n",
    "                data = f'{top_left}/{top_right + top_left}'\n",
    "\n",
    "                # store our data\n",
    "                row = row + [unique_overlaps, res, p, data]\n",
    "        \n",
    "            gse_results.append(row)\n",
    "            \n",
    "names = ['category', 'af_category', 'sv_category', 'category_p', 'num_svs_cases', \n",
    "         'num_svs_controls', 'db', 'gs', 'expected', \n",
    "         'gs_unique_overlap_cases', 'res_cases', 'p_cases', 'data_cases',\n",
    "         'gs_unique_overlap_controls', 'res_controls', 'p_controls', 'data_controls']\n",
    "\n",
    "gse_results = pd.DataFrame(gse_results, columns = names)"
   ]
  },
  {
   "cell_type": "code",
   "execution_count": 419,
   "id": "628569ac-2186-4ab8-84c8-5b10a96efc36",
   "metadata": {},
   "outputs": [],
   "source": [
    "gse_results.to_csv('data/cwas-results/cwwas-gene-set-enrichment-results.csv', index=False)"
   ]
  },
  {
   "cell_type": "code",
   "execution_count": 421,
   "id": "7d31f6fa-ad60-48cf-a1ee-2efd7314f063",
   "metadata": {},
   "outputs": [
    {
     "data": {
      "text/plain": [
       "'ANY.SINGLETON.PREDICTED_LOF_or_PREDICTED_PARTIAL_EXON_DUP.ANY.ANY.protein_coding'"
      ]
     },
     "execution_count": 421,
     "metadata": {},
     "output_type": "execute_result"
    }
   ],
   "source": [
    "gse_results['category'].iloc[0]"
   ]
  }
 ],
 "metadata": {
  "kernelspec": {
   "display_name": "pediatric-germline-svs-3.7.13",
   "language": "python",
   "name": "pediatric-germline-svs-3.7.13"
  },
  "language_info": {
   "codemirror_mode": {
    "name": "ipython",
    "version": 3
   },
   "file_extension": ".py",
   "mimetype": "text/x-python",
   "name": "python",
   "nbconvert_exporter": "python",
   "pygments_lexer": "ipython3",
   "version": "3.7.13"
  }
 },
 "nbformat": 4,
 "nbformat_minor": 5
}
