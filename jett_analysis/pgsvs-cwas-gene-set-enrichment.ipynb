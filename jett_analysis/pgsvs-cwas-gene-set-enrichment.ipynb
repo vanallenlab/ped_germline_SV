{
 "cells": [
  {
   "cell_type": "code",
   "execution_count": 1,
   "id": "7faf7828-a5a8-4a0c-bab2-1583e9b9bf26",
   "metadata": {},
   "outputs": [],
   "source": [
    "import gseapy as gp\n",
    "import pandas as pd\n",
    "import numpy as np\n",
    "import scipy"
   ]
  },
  {
   "cell_type": "markdown",
   "id": "2ff50573-913c-4d4a-85d2-2adcf20872ae",
   "metadata": {},
   "source": [
    "# CWAS Gene Set Enrichment\n",
    "\n",
    "In this notebook, we explore whether categories significantly enriched for SVs in cases vs. controls reflect any higher level biological process. One way to do this is with gene set enrichment."
   ]
  },
  {
   "cell_type": "markdown",
   "id": "03d4797b-4907-4f7a-872c-4dc2aae28825",
   "metadata": {},
   "source": [
    "# What is gene set enrichment anyway?\n",
    "\n",
    "The idea of gene set enrichment is that in a list of genes (i.e. upregulated genes, or genes targeted by a \"category\"), if it were random, would have a certain degree of overlap with a gene set by pure chance. The idea of gene set enrichment is that we determine overlap with a gene set, and compare this to the background.\n",
    "\n",
    "This is a bit weirder with these data, since we have actual _SV counts_. The underlying test for gene set enrichment is a fisher's exact test, which works perfectly fine with counts in that way, but I'm not entirely sure it's right to do?\n",
    "\n",
    "We'll do it anyway I guess."
   ]
  },
  {
   "cell_type": "markdown",
   "id": "13dd9c2d-e951-42c6-9e3f-0f769f4ec9dc",
   "metadata": {},
   "source": [
    "# Load in the data\n",
    "\n",
    "We load in the SVs and dosages, which we'll need."
   ]
  },
  {
   "cell_type": "markdown",
   "id": "9f5ac656-9484-4cb2-b493-3dbae9c63129",
   "metadata": {
    "tags": []
   },
   "source": [
    "## Read in SVs"
   ]
  },
  {
   "cell_type": "code",
   "execution_count": 2,
   "id": "3fbde6e9-7298-45c9-a6b8-7596f5d4c033",
   "metadata": {},
   "outputs": [],
   "source": [
    "# define the folder name for all our results\n",
    "folder_name = \"processed-data-v2.5.2\"\n",
    "\n",
    "# define SVs and dosages for discovery and validation\n",
    "sv_path = \"gs://vanallen-pedsv-analysis/beds/PedSV.v2.5.2.full_cohort.analysis_samples.sites.bed.gz\"\n",
    "dosages_path = \"gs://vanallen-pedsv-analysis/beds/PedSV.v2.5.2.full_cohort.analysis_samples.allele_dosages.bed.gz\"\n",
    "\n",
    "# define metadata\n",
    "metadata_path = \"gs://vanallen-pedsv-analysis/sample_info/PedSV.v2.5.2.cohort_metadata.w_control_assignments.tsv.gz\"\n",
    "samples_path = \"gs://vanallen-pedsv-analysis/sample_info/PedSV.v2.5.2.final_analysis_cohort.samples.list\""
   ]
  },
  {
   "cell_type": "markdown",
   "id": "8085c096-1ea6-4a62-ae31-87ea9afde972",
   "metadata": {},
   "source": [
    "Load metadata and SVs"
   ]
  },
  {
   "cell_type": "code",
   "execution_count": 3,
   "id": "258b57d3-0c78-46c7-801f-62ac188508af",
   "metadata": {},
   "outputs": [],
   "source": [
    "metadata = pd.read_csv(\n",
    "    metadata_path,\n",
    "    sep=\"\\t\",\n",
    ")\n",
    "\n",
    "# add a sex label to metadata\n",
    "metadata[\"sex\"] = (metadata[\"chrX_CopyNumber\"].round() < 2).astype(int)\n",
    "\n",
    "###############\n",
    "### Samples ###\n",
    "###############\n",
    "samples = pd.read_csv(\n",
    "    samples_path,\n",
    "    header=None,\n",
    ")[0].to_list()"
   ]
  },
  {
   "cell_type": "markdown",
   "id": "9f7209b0-7630-4502-a796-5eb7faac61c1",
   "metadata": {},
   "source": [
    "Now we load the SVs. We'll eventually combine discovery and validation data, but it's easiest to keep them separate for now, since the SVs and dosages are not fully overlapping."
   ]
  },
  {
   "cell_type": "code",
   "execution_count": 4,
   "id": "c3304748-d6f6-4e28-aea1-75fc7ddf24bc",
   "metadata": {},
   "outputs": [
    {
     "name": "stderr",
     "output_type": "stream",
     "text": [
      "/Users/jettcrowdis/opt/anaconda3/envs/pediatric-germline-svs-3.7.13/lib/python3.7/site-packages/IPython/core/interactiveshell.py:3457: DtypeWarning: Columns (10,34,35,37,39,41,45,46,47,48,72,73,87,88,106,107,121,122,136,137,155,156,170,171,185,186,204,205,219,220,234,235,253,254,268,269,283,284,302,303,366,367,381,382,400,401,415,416,430,431,449,450,464,465,479,480,498,499,513,514,528,529,547,548,562,563,577,578,596,597,645,646,647,648,649,650,690,691,692,693,694,695,713,714,728,729,743,744,758,759,773,774,788,789,803,804,818,819,833,834,848,849,863,864,878,879,893,894,908,909,923,924,931,937,943) have mixed types.Specify dtype option on import or set low_memory=False.\n",
      "  exec(code_obj, self.user_global_ns, self.user_ns)\n"
     ]
    }
   ],
   "source": [
    "###############\n",
    "##### SVs #####\n",
    "###############\n",
    "svs = pd.read_csv(\n",
    "    sv_path,\n",
    "    sep=\"\\t\",\n",
    ")\n",
    "\n",
    "###############\n",
    "### Dosages ###\n",
    "###############\n",
    "dosages = pd.read_csv(\n",
    "    dosages_path,\n",
    "    sep=\"\\t\",\n",
    "    index_col=False,\n",
    ")"
   ]
  },
  {
   "cell_type": "markdown",
   "id": "8bc80f52-735d-46f2-bb38-2032ea169030",
   "metadata": {},
   "source": [
    "## Read in the category results\n",
    "\n",
    "I'm going to concatenate all this data so that I'm only dealing with a few files. Focusing on neuroblastoma."
   ]
  },
  {
   "cell_type": "code",
   "execution_count": 203,
   "id": "8d5a4d3e-cde0-49ad-bbd9-f6d668a22cbd",
   "metadata": {},
   "outputs": [
    {
     "data": {
      "text/html": [
       "<div>\n",
       "<style scoped>\n",
       "    .dataframe tbody tr th:only-of-type {\n",
       "        vertical-align: middle;\n",
       "    }\n",
       "\n",
       "    .dataframe tbody tr th {\n",
       "        vertical-align: top;\n",
       "    }\n",
       "\n",
       "    .dataframe thead th {\n",
       "        text-align: right;\n",
       "    }\n",
       "</style>\n",
       "<table border=\"1\" class=\"dataframe\">\n",
       "  <thead>\n",
       "    <tr style=\"text-align: right;\">\n",
       "      <th></th>\n",
       "      <th>SV</th>\n",
       "      <th>chrom</th>\n",
       "      <th>start</th>\n",
       "      <th>end</th>\n",
       "      <th>category</th>\n",
       "      <th>sv_category</th>\n",
       "    </tr>\n",
       "  </thead>\n",
       "  <tbody>\n",
       "    <tr>\n",
       "      <th>0</th>\n",
       "      <td>PedSV.2.5.2_DUP_chr1_794</td>\n",
       "      <td>chr1</td>\n",
       "      <td>19221626</td>\n",
       "      <td>19301822</td>\n",
       "      <td>DUP.RARE.PREDICTED_COPY_GAIN.lof_constrained.e...</td>\n",
       "      <td>coding</td>\n",
       "    </tr>\n",
       "    <tr>\n",
       "      <th>1</th>\n",
       "      <td>PedSV.2.5.2_DUP_chr1_1379</td>\n",
       "      <td>chr1</td>\n",
       "      <td>44731601</td>\n",
       "      <td>44792024</td>\n",
       "      <td>DUP.RARE.PREDICTED_COPY_GAIN.lof_constrained.e...</td>\n",
       "      <td>coding</td>\n",
       "    </tr>\n",
       "  </tbody>\n",
       "</table>\n",
       "</div>"
      ],
      "text/plain": [
       "                          SV chrom     start       end  \\\n",
       "0   PedSV.2.5.2_DUP_chr1_794  chr1  19221626  19301822   \n",
       "1  PedSV.2.5.2_DUP_chr1_1379  chr1  44731601  44792024   \n",
       "\n",
       "                                            category sv_category  \n",
       "0  DUP.RARE.PREDICTED_COPY_GAIN.lof_constrained.e...      coding  \n",
       "1  DUP.RARE.PREDICTED_COPY_GAIN.lof_constrained.e...      coding  "
      ]
     },
     "execution_count": 203,
     "metadata": {},
     "output_type": "execute_result"
    }
   ],
   "source": [
    "###########\n",
    "### SVs ###\n",
    "###########\n",
    "nbl_coding_svs = pd.read_csv(\n",
    "    \"data/CWAS data for Jett/List of variants by category for each CWAS analysis/neuroblastoma_all_coding_SVs_in_each_category_list_combined_11_3_23.txt\",\n",
    "    sep=\"\\t\",\n",
    ")\n",
    "\n",
    "nbl_noncoding_svs = pd.read_csv('data/CWAS data for Jett/List of variants by category for each CWAS analysis/neuroblastoma_all_noncoding_SVs_in_each_category_list_combined_BURDEN_TESTING_with_col_names_11_3_23.txt', sep='\\t')\n",
    "nbl_noncoding_svs = nbl_noncoding_svs.rename(columns = {'emd': 'end'})\n",
    "\n",
    "# combine the SVs\n",
    "nbl_coding_svs['sv_category'] = 'coding'\n",
    "nbl_noncoding_svs['sv_category'] = 'non-coding'\n",
    "\n",
    "nbl_category_svs = pd.concat([nbl_coding_svs, nbl_noncoding_svs])\n",
    "nbl_category_svs.head(2)"
   ]
  },
  {
   "cell_type": "code",
   "execution_count": 204,
   "id": "401f854f-6749-4333-9acb-36da395e9d93",
   "metadata": {},
   "outputs": [],
   "source": [
    "#########################\n",
    "### FRAMEWORK RESULTS ###\n",
    "#########################\n",
    "nbl_singleton_coding_framework_results = pd.read_csv(\n",
    "    \"data/CWAS data for Jett/CWAS sum stats/neuroblastoma_all_coding_cwas_concatenated_glm_results_SINGLETON_11_3_23.txt\",\n",
    "    sep=\"\\t\",\n",
    ")\n",
    "nbl_singleton_coding_framework_results[['af_category', 'sv_category']] = ['singleton', 'coding']\n",
    "\n",
    "nbl_rare_coding_framework_results = pd.read_csv(\n",
    "    \"data/CWAS data for Jett/CWAS sum stats/neuroblastoma_all_coding_cwas_concatenated_glm_results_RARE_11_3_23.txt\",\n",
    "    sep=\"\\t\",\n",
    ")\n",
    "nbl_rare_coding_framework_results[['af_category', 'sv_category']] = ['rare', 'coding']\n",
    "\n",
    "nbl_singleton_noncoding_framework_results = pd.read_csv(\n",
    "    \"data/CWAS data for Jett/CWAS sum stats/neuroblastoma_all_noncoding_cwas_concatenated_glm_results_SINGLETON_11_3_23.txt\",\n",
    "    sep=\"\\t\",\n",
    ")\n",
    "nbl_singleton_noncoding_framework_results[['af_category', 'sv_category']] = ['singleton', 'non-coding']\n",
    "\n",
    "nbl_rare_noncoding_framework_results = pd.read_csv(\n",
    "    \"data/CWAS data for Jett/CWAS sum stats/neuroblastoma_all_noncoding_cwas_concatenated_glm_results_RARE_11_3_23.txt\",\n",
    "    sep=\"\\t\",\n",
    ")\n",
    "nbl_rare_noncoding_framework_results[['af_category', 'sv_category']] = ['rare', 'non-coding']\n",
    "\n",
    "nbl_framework_results = pd.concat([nbl_singleton_coding_framework_results, nbl_rare_coding_framework_results, \n",
    "                                   nbl_singleton_noncoding_framework_results, nbl_rare_noncoding_framework_results])"
   ]
  },
  {
   "cell_type": "code",
   "execution_count": 205,
   "id": "38dd1721-aadb-4b31-828e-0c2f088317ec",
   "metadata": {},
   "outputs": [
    {
     "data": {
      "text/html": [
       "<div>\n",
       "<style scoped>\n",
       "    .dataframe tbody tr th:only-of-type {\n",
       "        vertical-align: middle;\n",
       "    }\n",
       "\n",
       "    .dataframe tbody tr th {\n",
       "        vertical-align: top;\n",
       "    }\n",
       "\n",
       "    .dataframe thead th {\n",
       "        text-align: right;\n",
       "    }\n",
       "</style>\n",
       "<table border=\"1\" class=\"dataframe\">\n",
       "  <thead>\n",
       "    <tr style=\"text-align: right;\">\n",
       "      <th></th>\n",
       "      <th>point_estimate</th>\n",
       "      <th>std_error</th>\n",
       "      <th>z_score</th>\n",
       "      <th>p_value</th>\n",
       "      <th>SV_counts_cases</th>\n",
       "      <th>SV_counts_cases_max</th>\n",
       "      <th>number_of_cases_with_zero_SVs</th>\n",
       "      <th>total_cases</th>\n",
       "      <th>SV_counts_controls</th>\n",
       "      <th>SV_counts_controls_max</th>\n",
       "      <th>...</th>\n",
       "      <th>number_of_unique_SVs</th>\n",
       "      <th>category_name</th>\n",
       "      <th>sv_type</th>\n",
       "      <th>frequency</th>\n",
       "      <th>mean_SVs_per_case</th>\n",
       "      <th>mean_SVs_per_control</th>\n",
       "      <th>mean_SVs_total</th>\n",
       "      <th>negative_log10_p_value</th>\n",
       "      <th>af_category</th>\n",
       "      <th>sv_category</th>\n",
       "    </tr>\n",
       "  </thead>\n",
       "  <tbody>\n",
       "    <tr>\n",
       "      <th>0</th>\n",
       "      <td>0.271918</td>\n",
       "      <td>0.051227</td>\n",
       "      <td>5.308100</td>\n",
       "      <td>1.110000e-07</td>\n",
       "      <td>438</td>\n",
       "      <td>5</td>\n",
       "      <td>336</td>\n",
       "      <td>646</td>\n",
       "      <td>2441</td>\n",
       "      <td>4</td>\n",
       "      <td>...</td>\n",
       "      <td>459</td>\n",
       "      <td>ANY.SINGLETON.PREDICTED_LOF_or_PREDICTED_PARTI...</td>\n",
       "      <td>ANY</td>\n",
       "      <td>SINGLETON</td>\n",
       "      <td>0.678019</td>\n",
       "      <td>0.519362</td>\n",
       "      <td>0.538533</td>\n",
       "      <td>6.955563</td>\n",
       "      <td>singleton</td>\n",
       "      <td>coding</td>\n",
       "    </tr>\n",
       "    <tr>\n",
       "      <th>1</th>\n",
       "      <td>0.276065</td>\n",
       "      <td>0.054006</td>\n",
       "      <td>5.111756</td>\n",
       "      <td>3.190000e-07</td>\n",
       "      <td>393</td>\n",
       "      <td>5</td>\n",
       "      <td>356</td>\n",
       "      <td>646</td>\n",
       "      <td>2172</td>\n",
       "      <td>4</td>\n",
       "      <td>...</td>\n",
       "      <td>411</td>\n",
       "      <td>DEL.SINGLETON.ANY.ANY.ANY.protein_coding</td>\n",
       "      <td>DEL</td>\n",
       "      <td>SINGLETON</td>\n",
       "      <td>0.608359</td>\n",
       "      <td>0.462128</td>\n",
       "      <td>0.479798</td>\n",
       "      <td>6.495968</td>\n",
       "      <td>singleton</td>\n",
       "      <td>coding</td>\n",
       "    </tr>\n",
       "  </tbody>\n",
       "</table>\n",
       "<p>2 rows × 22 columns</p>\n",
       "</div>"
      ],
      "text/plain": [
       "   point_estimate  std_error   z_score       p_value  SV_counts_cases  \\\n",
       "0        0.271918   0.051227  5.308100  1.110000e-07              438   \n",
       "1        0.276065   0.054006  5.111756  3.190000e-07              393   \n",
       "\n",
       "   SV_counts_cases_max  number_of_cases_with_zero_SVs  total_cases  \\\n",
       "0                    5                            336          646   \n",
       "1                    5                            356          646   \n",
       "\n",
       "   SV_counts_controls  SV_counts_controls_max  ...  number_of_unique_SVs  \\\n",
       "0                2441                       4  ...                   459   \n",
       "1                2172                       4  ...                   411   \n",
       "\n",
       "                                       category_name  sv_type  frequency  \\\n",
       "0  ANY.SINGLETON.PREDICTED_LOF_or_PREDICTED_PARTI...      ANY  SINGLETON   \n",
       "1           DEL.SINGLETON.ANY.ANY.ANY.protein_coding      DEL  SINGLETON   \n",
       "\n",
       "  mean_SVs_per_case mean_SVs_per_control  mean_SVs_total  \\\n",
       "0          0.678019             0.519362        0.538533   \n",
       "1          0.608359             0.462128        0.479798   \n",
       "\n",
       "   negative_log10_p_value  af_category  sv_category  \n",
       "0                6.955563    singleton       coding  \n",
       "1                6.495968    singleton       coding  \n",
       "\n",
       "[2 rows x 22 columns]"
      ]
     },
     "execution_count": 205,
     "metadata": {},
     "output_type": "execute_result"
    }
   ],
   "source": [
    "nbl_framework_results.head(2)"
   ]
  },
  {
   "cell_type": "code",
   "execution_count": 206,
   "id": "5a710bc0-28af-4ab2-9f85-30be5988429c",
   "metadata": {},
   "outputs": [],
   "source": [
    "nbl_coding_framework = pd.read_csv(\n",
    "    \"data/CWAS data for Jett/CWAS frameworks/CWAS_categories_neuroblastoma_coding_8_17_23.txt\",\n",
    "    sep=\"\\t\",\n",
    ")\n",
    "\n",
    "nbl_noncoding_framework = pd.read_csv(\n",
    "    \"data/CWAS data for Jett/CWAS frameworks/CWAS_rare_categories_neuroblastoma_noncoding_10_2_23.txt\",\n",
    "    sep=\"\\t\",\n",
    ")"
   ]
  },
  {
   "cell_type": "markdown",
   "id": "5b7a6cf4-27ef-4964-b9be-2ea4779d6720",
   "metadata": {
    "tags": []
   },
   "source": [
    "# Walk through a coding example\n",
    "\n",
    "Let's extract out all the data that we need to examine the highest result for a single hallmark gene set."
   ]
  },
  {
   "cell_type": "code",
   "execution_count": 207,
   "id": "50a93ff6-dadc-4a11-b869-5e724f2614ea",
   "metadata": {},
   "outputs": [
    {
     "data": {
      "text/plain": [
       "('ANY.SINGLETON.PREDICTED_LOF_or_PREDICTED_PARTIAL_EXON_DUP.ANY.ANY.protein_coding',\n",
       " 'PREDICTED_LOF_or_PREDICTED_PARTIAL_EXON_DUP')"
      ]
     },
     "execution_count": 207,
     "metadata": {},
     "output_type": "execute_result"
    }
   ],
   "source": [
    "test_framework = nbl_framework_results.query('af_category == \"singleton\" & sv_category == \"coding\"').loc[0, [\"category_name\"]].item()\n",
    "framework_components = test_framework.split(\".\")\n",
    "genic_relationship = framework_components[2]\n",
    "test_framework, genic_relationship"
   ]
  },
  {
   "cell_type": "code",
   "execution_count": 208,
   "id": "f31ef722-d844-49bb-92be-75f6bccf609e",
   "metadata": {},
   "outputs": [
    {
     "data": {
      "text/html": [
       "<div>\n",
       "<style scoped>\n",
       "    .dataframe tbody tr th:only-of-type {\n",
       "        vertical-align: middle;\n",
       "    }\n",
       "\n",
       "    .dataframe tbody tr th {\n",
       "        vertical-align: top;\n",
       "    }\n",
       "\n",
       "    .dataframe thead th {\n",
       "        text-align: right;\n",
       "    }\n",
       "</style>\n",
       "<table border=\"1\" class=\"dataframe\">\n",
       "  <thead>\n",
       "    <tr style=\"text-align: right;\">\n",
       "      <th></th>\n",
       "      <th>sv_type</th>\n",
       "      <th>frequency</th>\n",
       "      <th>genic_relationship</th>\n",
       "      <th>constraint</th>\n",
       "      <th>expression</th>\n",
       "      <th>gene_group</th>\n",
       "    </tr>\n",
       "  </thead>\n",
       "  <tbody>\n",
       "    <tr>\n",
       "      <th>0</th>\n",
       "      <td>DUP</td>\n",
       "      <td>RARE</td>\n",
       "      <td>PREDICTED_COPY_GAIN</td>\n",
       "      <td>lof_constrained</td>\n",
       "      <td>expressed_in_adrenal_gland</td>\n",
       "      <td>protein_coding</td>\n",
       "    </tr>\n",
       "    <tr>\n",
       "      <th>1</th>\n",
       "      <td>DEL</td>\n",
       "      <td>SINGLETON</td>\n",
       "      <td>PREDICTED_INTRAGENIC_EXON_DUP</td>\n",
       "      <td>missense_constrained</td>\n",
       "      <td>ANY</td>\n",
       "      <td>cosmic_cancer_genes</td>\n",
       "    </tr>\n",
       "    <tr>\n",
       "      <th>2</th>\n",
       "      <td>CPX_or_INV</td>\n",
       "      <td>NaN</td>\n",
       "      <td>PREDICTED_LOF_or_PREDICTED_PARTIAL_EXON_DUP</td>\n",
       "      <td>unconstrained</td>\n",
       "      <td>NaN</td>\n",
       "      <td>germline_CPGs</td>\n",
       "    </tr>\n",
       "    <tr>\n",
       "      <th>3</th>\n",
       "      <td>INS_ALL</td>\n",
       "      <td>NaN</td>\n",
       "      <td>ANY</td>\n",
       "      <td>ANY</td>\n",
       "      <td>NaN</td>\n",
       "      <td>base_excision_repair_genes</td>\n",
       "    </tr>\n",
       "    <tr>\n",
       "      <th>4</th>\n",
       "      <td>ANY</td>\n",
       "      <td>NaN</td>\n",
       "      <td>NaN</td>\n",
       "      <td>NaN</td>\n",
       "      <td>NaN</td>\n",
       "      <td>chromatin_organization_genes</td>\n",
       "    </tr>\n",
       "  </tbody>\n",
       "</table>\n",
       "</div>"
      ],
      "text/plain": [
       "      sv_type  frequency                           genic_relationship  \\\n",
       "0         DUP       RARE                          PREDICTED_COPY_GAIN   \n",
       "1         DEL  SINGLETON                PREDICTED_INTRAGENIC_EXON_DUP   \n",
       "2  CPX_or_INV        NaN  PREDICTED_LOF_or_PREDICTED_PARTIAL_EXON_DUP   \n",
       "3     INS_ALL        NaN                                          ANY   \n",
       "4         ANY        NaN                                          NaN   \n",
       "\n",
       "             constraint                  expression  \\\n",
       "0       lof_constrained  expressed_in_adrenal_gland   \n",
       "1  missense_constrained                         ANY   \n",
       "2         unconstrained                         NaN   \n",
       "3                   ANY                         NaN   \n",
       "4                   NaN                         NaN   \n",
       "\n",
       "                     gene_group  \n",
       "0                protein_coding  \n",
       "1           cosmic_cancer_genes  \n",
       "2                 germline_CPGs  \n",
       "3    base_excision_repair_genes  \n",
       "4  chromatin_organization_genes  "
      ]
     },
     "execution_count": 208,
     "metadata": {},
     "output_type": "execute_result"
    }
   ],
   "source": [
    "nbl_coding_framework.head(5)"
   ]
  },
  {
   "cell_type": "code",
   "execution_count": 209,
   "id": "6d329232-5d40-428d-89a2-56fac470e615",
   "metadata": {},
   "outputs": [
    {
     "data": {
      "text/html": [
       "<div>\n",
       "<style scoped>\n",
       "    .dataframe tbody tr th:only-of-type {\n",
       "        vertical-align: middle;\n",
       "    }\n",
       "\n",
       "    .dataframe tbody tr th {\n",
       "        vertical-align: top;\n",
       "    }\n",
       "\n",
       "    .dataframe thead th {\n",
       "        text-align: right;\n",
       "    }\n",
       "</style>\n",
       "<table border=\"1\" class=\"dataframe\">\n",
       "  <thead>\n",
       "    <tr style=\"text-align: right;\">\n",
       "      <th></th>\n",
       "      <th>#chrom</th>\n",
       "      <th>start</th>\n",
       "      <th>end</th>\n",
       "      <th>name</th>\n",
       "      <th>svtype</th>\n",
       "      <th>AC</th>\n",
       "      <th>AF</th>\n",
       "      <th>ALGORITHMS</th>\n",
       "      <th>AN</th>\n",
       "      <th>BOTHSIDES_SUPPORT</th>\n",
       "      <th>...</th>\n",
       "      <th>trio_POPMAX_FREQ_HOMALT</th>\n",
       "      <th>trio_POPMAX_CN_FREQ</th>\n",
       "      <th>trio_POPMAX_CN_NONREF_FREQ</th>\n",
       "      <th>gnomad_v3.1_sv_POPMAX_AF</th>\n",
       "      <th>gnomad_v3.1_sv_POPMAX_FREQ_HOMREF</th>\n",
       "      <th>gnomad_v3.1_sv_POPMAX_FREQ_HET</th>\n",
       "      <th>gnomad_v3.1_sv_POPMAX_FREQ_HOMALT</th>\n",
       "      <th>gnomad_v3.1_sv_POPMAX_CN_FREQ</th>\n",
       "      <th>gnomad_v3.1_sv_POPMAX_CN_NONREF_FREQ</th>\n",
       "      <th>FILTER</th>\n",
       "    </tr>\n",
       "  </thead>\n",
       "  <tbody>\n",
       "    <tr>\n",
       "      <th>64</th>\n",
       "      <td>chr1</td>\n",
       "      <td>923800</td>\n",
       "      <td>943501</td>\n",
       "      <td>PedSV.2.5.2_DEL_chr1_80</td>\n",
       "      <td>DEL</td>\n",
       "      <td>1</td>\n",
       "      <td>0.000077</td>\n",
       "      <td>depth</td>\n",
       "      <td>13038</td>\n",
       "      <td>False</td>\n",
       "      <td>...</td>\n",
       "      <td>0.0</td>\n",
       "      <td>NaN</td>\n",
       "      <td>NaN</td>\n",
       "      <td>0.000107</td>\n",
       "      <td>NaN</td>\n",
       "      <td>NaN</td>\n",
       "      <td>NaN</td>\n",
       "      <td>NaN</td>\n",
       "      <td>NaN</td>\n",
       "      <td>PASS</td>\n",
       "    </tr>\n",
       "    <tr>\n",
       "      <th>152</th>\n",
       "      <td>chr1</td>\n",
       "      <td>1240217</td>\n",
       "      <td>1243609</td>\n",
       "      <td>PedSV.2.5.2_DEL_chr1_210</td>\n",
       "      <td>DEL</td>\n",
       "      <td>1</td>\n",
       "      <td>0.000074</td>\n",
       "      <td>manta</td>\n",
       "      <td>13462</td>\n",
       "      <td>True</td>\n",
       "      <td>...</td>\n",
       "      <td>0.0</td>\n",
       "      <td>NaN</td>\n",
       "      <td>NaN</td>\n",
       "      <td>0.000018</td>\n",
       "      <td>NaN</td>\n",
       "      <td>NaN</td>\n",
       "      <td>NaN</td>\n",
       "      <td>NaN</td>\n",
       "      <td>NaN</td>\n",
       "      <td>PASS</td>\n",
       "    </tr>\n",
       "  </tbody>\n",
       "</table>\n",
       "<p>2 rows × 952 columns</p>\n",
       "</div>"
      ],
      "text/plain": [
       "    #chrom    start      end                      name svtype  AC        AF  \\\n",
       "64    chr1   923800   943501   PedSV.2.5.2_DEL_chr1_80    DEL   1  0.000077   \n",
       "152   chr1  1240217  1243609  PedSV.2.5.2_DEL_chr1_210    DEL   1  0.000074   \n",
       "\n",
       "    ALGORITHMS     AN  BOTHSIDES_SUPPORT  ... trio_POPMAX_FREQ_HOMALT  \\\n",
       "64       depth  13038              False  ...                     0.0   \n",
       "152      manta  13462               True  ...                     0.0   \n",
       "\n",
       "     trio_POPMAX_CN_FREQ trio_POPMAX_CN_NONREF_FREQ gnomad_v3.1_sv_POPMAX_AF  \\\n",
       "64                   NaN                        NaN                 0.000107   \n",
       "152                  NaN                        NaN                 0.000018   \n",
       "\n",
       "     gnomad_v3.1_sv_POPMAX_FREQ_HOMREF  gnomad_v3.1_sv_POPMAX_FREQ_HET  \\\n",
       "64                                 NaN                             NaN   \n",
       "152                                NaN                             NaN   \n",
       "\n",
       "    gnomad_v3.1_sv_POPMAX_FREQ_HOMALT  gnomad_v3.1_sv_POPMAX_CN_FREQ  \\\n",
       "64                                NaN                            NaN   \n",
       "152                               NaN                            NaN   \n",
       "\n",
       "     gnomad_v3.1_sv_POPMAX_CN_NONREF_FREQ  FILTER  \n",
       "64                                    NaN    PASS  \n",
       "152                                   NaN    PASS  \n",
       "\n",
       "[2 rows x 952 columns]"
      ]
     },
     "execution_count": 209,
     "metadata": {},
     "output_type": "execute_result"
    }
   ],
   "source": [
    "svs_in_category = nbl_category_svs[(nbl_category_svs['sv_category'] == \"coding\") & \n",
    "                                   (nbl_category_svs[\"category\"] == test_framework)]\n",
    "\n",
    "# subset the actual SV matrix\n",
    "svs_in_category = svs[svs[\"name\"].isin(svs_in_category[\"SV\"].tolist())]\n",
    "\n",
    "svs_in_category.head(2)"
   ]
  },
  {
   "cell_type": "code",
   "execution_count": 210,
   "id": "28977433-c9a8-4bd1-810f-84d7f730515c",
   "metadata": {},
   "outputs": [
    {
     "data": {
      "text/plain": [
       "(3837, 952)"
      ]
     },
     "execution_count": 210,
     "metadata": {},
     "output_type": "execute_result"
    }
   ],
   "source": [
    "svs_in_category.shape"
   ]
  },
  {
   "cell_type": "markdown",
   "id": "edb3d206-915c-4c36-bc58-4064fbd3949c",
   "metadata": {},
   "source": [
    "Next, we determine the genes in question. We reference the column where the genes can be found, `genic_relationship`. We have to split this one in half."
   ]
  },
  {
   "cell_type": "code",
   "execution_count": 211,
   "id": "5438bc1b-680e-44b1-9906-8535f087ab33",
   "metadata": {},
   "outputs": [
    {
     "data": {
      "text/plain": [
       "['PREDICTED_LOF', 'PREDICTED_PARTIAL_EXON_DUP']"
      ]
     },
     "execution_count": 211,
     "metadata": {},
     "output_type": "execute_result"
    }
   ],
   "source": [
    "genic_relationships = genic_relationship.split(\"_or_\")\n",
    "genic_relationships"
   ]
  },
  {
   "cell_type": "code",
   "execution_count": 212,
   "id": "9589b8f1-8b42-4f39-9d96-ef24d89955ee",
   "metadata": {},
   "outputs": [
    {
     "data": {
      "text/html": [
       "<div>\n",
       "<style scoped>\n",
       "    .dataframe tbody tr th:only-of-type {\n",
       "        vertical-align: middle;\n",
       "    }\n",
       "\n",
       "    .dataframe tbody tr th {\n",
       "        vertical-align: top;\n",
       "    }\n",
       "\n",
       "    .dataframe thead th {\n",
       "        text-align: right;\n",
       "    }\n",
       "</style>\n",
       "<table border=\"1\" class=\"dataframe\">\n",
       "  <thead>\n",
       "    <tr style=\"text-align: right;\">\n",
       "      <th></th>\n",
       "      <th>PREDICTED_LOF</th>\n",
       "      <th>PREDICTED_PARTIAL_EXON_DUP</th>\n",
       "    </tr>\n",
       "  </thead>\n",
       "  <tbody>\n",
       "    <tr>\n",
       "      <th>64</th>\n",
       "      <td>SAMD11</td>\n",
       "      <td>NaN</td>\n",
       "    </tr>\n",
       "    <tr>\n",
       "      <th>152</th>\n",
       "      <td>C1QTNF12</td>\n",
       "      <td>NaN</td>\n",
       "    </tr>\n",
       "    <tr>\n",
       "      <th>162</th>\n",
       "      <td>ACAP3,INTS11,PUSL1,SCNN1D</td>\n",
       "      <td>NaN</td>\n",
       "    </tr>\n",
       "    <tr>\n",
       "      <th>173</th>\n",
       "      <td>CPTP</td>\n",
       "      <td>NaN</td>\n",
       "    </tr>\n",
       "    <tr>\n",
       "      <th>198</th>\n",
       "      <td>TMEM88B,VWA1</td>\n",
       "      <td>NaN</td>\n",
       "    </tr>\n",
       "  </tbody>\n",
       "</table>\n",
       "</div>"
      ],
      "text/plain": [
       "                 PREDICTED_LOF PREDICTED_PARTIAL_EXON_DUP\n",
       "64                      SAMD11                        NaN\n",
       "152                   C1QTNF12                        NaN\n",
       "162  ACAP3,INTS11,PUSL1,SCNN1D                        NaN\n",
       "173                       CPTP                        NaN\n",
       "198               TMEM88B,VWA1                        NaN"
      ]
     },
     "execution_count": 212,
     "metadata": {},
     "output_type": "execute_result"
    }
   ],
   "source": [
    "svs_in_category[genic_relationships].head()"
   ]
  },
  {
   "cell_type": "markdown",
   "id": "4b1864d6-c1f1-47d5-bdc4-fcc6fc5bc114",
   "metadata": {},
   "source": [
    "We should be a bit more careful if any results turn up positive, but for now we'll just register an SV as contributing to a count for that gene."
   ]
  },
  {
   "cell_type": "code",
   "execution_count": 223,
   "id": "f7dbd1f4-1934-40d7-91fd-e46bb0e07936",
   "metadata": {},
   "outputs": [
    {
     "data": {
      "text/html": [
       "<div>\n",
       "<style scoped>\n",
       "    .dataframe tbody tr th:only-of-type {\n",
       "        vertical-align: middle;\n",
       "    }\n",
       "\n",
       "    .dataframe tbody tr th {\n",
       "        vertical-align: top;\n",
       "    }\n",
       "\n",
       "    .dataframe thead th {\n",
       "        text-align: right;\n",
       "    }\n",
       "</style>\n",
       "<table border=\"1\" class=\"dataframe\">\n",
       "  <thead>\n",
       "    <tr style=\"text-align: right;\">\n",
       "      <th></th>\n",
       "      <th>PT_00QYKRAX</th>\n",
       "      <th>PT_00Y8C0XA</th>\n",
       "      <th>PT_025YMME2</th>\n",
       "      <th>PT_02AE4RSP</th>\n",
       "      <th>PT_02SNWVRF</th>\n",
       "      <th>PT_06Z51EN5</th>\n",
       "      <th>PT_0CKD259J</th>\n",
       "      <th>PT_0GMP9VVY</th>\n",
       "      <th>PT_0MVMPZKX</th>\n",
       "      <th>PT_11XN6CG5</th>\n",
       "      <th>...</th>\n",
       "      <th>SJ058317</th>\n",
       "      <th>SJ058342</th>\n",
       "      <th>SJ058362</th>\n",
       "      <th>SJ058440</th>\n",
       "      <th>SJ058446</th>\n",
       "      <th>SJ058473</th>\n",
       "      <th>SJ058476</th>\n",
       "      <th>SJ063820</th>\n",
       "      <th>SJ063821</th>\n",
       "      <th>SJ071354</th>\n",
       "    </tr>\n",
       "    <tr>\n",
       "      <th>ID</th>\n",
       "      <th></th>\n",
       "      <th></th>\n",
       "      <th></th>\n",
       "      <th></th>\n",
       "      <th></th>\n",
       "      <th></th>\n",
       "      <th></th>\n",
       "      <th></th>\n",
       "      <th></th>\n",
       "      <th></th>\n",
       "      <th></th>\n",
       "      <th></th>\n",
       "      <th></th>\n",
       "      <th></th>\n",
       "      <th></th>\n",
       "      <th></th>\n",
       "      <th></th>\n",
       "      <th></th>\n",
       "      <th></th>\n",
       "      <th></th>\n",
       "      <th></th>\n",
       "    </tr>\n",
       "  </thead>\n",
       "  <tbody>\n",
       "    <tr>\n",
       "      <th>PedSV.2.5.2_DEL_chr1_80</th>\n",
       "      <td>0.0</td>\n",
       "      <td>0.0</td>\n",
       "      <td>0.0</td>\n",
       "      <td>0.0</td>\n",
       "      <td>NaN</td>\n",
       "      <td>0.0</td>\n",
       "      <td>0.0</td>\n",
       "      <td>NaN</td>\n",
       "      <td>0.0</td>\n",
       "      <td>0.0</td>\n",
       "      <td>...</td>\n",
       "      <td>0.0</td>\n",
       "      <td>0.0</td>\n",
       "      <td>0.0</td>\n",
       "      <td>0.0</td>\n",
       "      <td>0.0</td>\n",
       "      <td>0.0</td>\n",
       "      <td>0.0</td>\n",
       "      <td>0.0</td>\n",
       "      <td>0.0</td>\n",
       "      <td>0.0</td>\n",
       "    </tr>\n",
       "    <tr>\n",
       "      <th>PedSV.2.5.2_DEL_chr1_210</th>\n",
       "      <td>0.0</td>\n",
       "      <td>0.0</td>\n",
       "      <td>0.0</td>\n",
       "      <td>0.0</td>\n",
       "      <td>0.0</td>\n",
       "      <td>0.0</td>\n",
       "      <td>0.0</td>\n",
       "      <td>0.0</td>\n",
       "      <td>0.0</td>\n",
       "      <td>0.0</td>\n",
       "      <td>...</td>\n",
       "      <td>0.0</td>\n",
       "      <td>0.0</td>\n",
       "      <td>0.0</td>\n",
       "      <td>0.0</td>\n",
       "      <td>0.0</td>\n",
       "      <td>0.0</td>\n",
       "      <td>0.0</td>\n",
       "      <td>0.0</td>\n",
       "      <td>0.0</td>\n",
       "      <td>0.0</td>\n",
       "    </tr>\n",
       "  </tbody>\n",
       "</table>\n",
       "<p>2 rows × 688 columns</p>\n",
       "</div>"
      ],
      "text/plain": [
       "                          PT_00QYKRAX  PT_00Y8C0XA  PT_025YMME2  PT_02AE4RSP  \\\n",
       "ID                                                                             \n",
       "PedSV.2.5.2_DEL_chr1_80           0.0          0.0          0.0          0.0   \n",
       "PedSV.2.5.2_DEL_chr1_210          0.0          0.0          0.0          0.0   \n",
       "\n",
       "                          PT_02SNWVRF  PT_06Z51EN5  PT_0CKD259J  PT_0GMP9VVY  \\\n",
       "ID                                                                             \n",
       "PedSV.2.5.2_DEL_chr1_80           NaN          0.0          0.0          NaN   \n",
       "PedSV.2.5.2_DEL_chr1_210          0.0          0.0          0.0          0.0   \n",
       "\n",
       "                          PT_0MVMPZKX  PT_11XN6CG5  ...  SJ058317  SJ058342  \\\n",
       "ID                                                  ...                       \n",
       "PedSV.2.5.2_DEL_chr1_80           0.0          0.0  ...       0.0       0.0   \n",
       "PedSV.2.5.2_DEL_chr1_210          0.0          0.0  ...       0.0       0.0   \n",
       "\n",
       "                          SJ058362  SJ058440  SJ058446  SJ058473  SJ058476  \\\n",
       "ID                                                                           \n",
       "PedSV.2.5.2_DEL_chr1_80        0.0       0.0       0.0       0.0       0.0   \n",
       "PedSV.2.5.2_DEL_chr1_210       0.0       0.0       0.0       0.0       0.0   \n",
       "\n",
       "                          SJ063820  SJ063821  SJ071354  \n",
       "ID                                                      \n",
       "PedSV.2.5.2_DEL_chr1_80        0.0       0.0       0.0  \n",
       "PedSV.2.5.2_DEL_chr1_210       0.0       0.0       0.0  \n",
       "\n",
       "[2 rows x 688 columns]"
      ]
     },
     "execution_count": 223,
     "metadata": {},
     "output_type": "execute_result"
    }
   ],
   "source": [
    "nbl_samples = metadata[\n",
    "    (metadata[\"neuroblastoma_case\"] == True)\n",
    "][\"entity:sample_id\"].tolist()\n",
    "\n",
    "nbl_sv_dosages = (\n",
    "    dosages\n",
    "    .set_index(\"ID\")\n",
    "    .loc[svs_in_category[\"name\"].tolist(), nbl_samples]\n",
    ")\n",
    "nbl_sv_dosages.head(2)"
   ]
  },
  {
   "cell_type": "markdown",
   "id": "127f5a5c-6c5d-462f-acc8-8a34d9c7f0e8",
   "metadata": {},
   "source": [
    "We hit a small snag here. We need to drop samples that are poorly genotyped for these SVs. The strategy that Ryan and Riaz used is to drop samples with > 5% `NaN` genotyping rate. We do that here."
   ]
  },
  {
   "cell_type": "code",
   "execution_count": 224,
   "id": "ca937400-91bc-4036-a067-d6a1ffec6909",
   "metadata": {},
   "outputs": [],
   "source": [
    "dropped = pd.isnull(nbl_sv_dosages).sum(axis = 0) / len(nbl_sv_dosages) < 0.05\n",
    "nbl_sv_dosages = nbl_sv_dosages.loc[:, dropped]"
   ]
  },
  {
   "cell_type": "code",
   "execution_count": 225,
   "id": "39742686-18ca-439d-890f-1ea2227c2926",
   "metadata": {},
   "outputs": [
    {
     "data": {
      "text/plain": [
       "(3837, 646)"
      ]
     },
     "execution_count": 225,
     "metadata": {},
     "output_type": "execute_result"
    }
   ],
   "source": [
    "nbl_sv_dosages.shape"
   ]
  },
  {
   "cell_type": "code",
   "execution_count": 226,
   "id": "4c5884d3-ac79-47d3-b2b4-661b7cf794b0",
   "metadata": {},
   "outputs": [
    {
     "data": {
      "text/plain": [
       "ID\n",
       "PedSV.2.5.2_DEL_chr1_80       0.0\n",
       "PedSV.2.5.2_DEL_chr1_210      0.0\n",
       "PedSV.2.5.2_DEL_chr1_219      0.0\n",
       "PedSV.2.5.2_DEL_chr1_248      0.0\n",
       "PedSV.2.5.2_DEL_chr1_291      1.0\n",
       "                             ... \n",
       "PedSV.2.5.2_DEL_chr22_3934    0.0\n",
       "PedSV.2.5.2_DEL_chr22_3958    0.0\n",
       "PedSV.2.5.2_CPX_chr22_67      0.0\n",
       "PedSV.2.5.2_DEL_chr22_4049    1.0\n",
       "PedSV.2.5.2_DEL_chr22_4050    1.0\n",
       "Length: 3837, dtype: float64"
      ]
     },
     "execution_count": 226,
     "metadata": {},
     "output_type": "execute_result"
    }
   ],
   "source": [
    "nbl_sv_dosages.iloc[:, 3:].fillna(0).sum(axis = 1)"
   ]
  },
  {
   "cell_type": "markdown",
   "id": "4390b82d-70ae-49ff-9c81-876dcf22a182",
   "metadata": {},
   "source": [
    "So now we can generate our counts. We can ignore `NaNs`. Note that these are all singleton SVs, so this point is a little moot."
   ]
  },
  {
   "cell_type": "code",
   "execution_count": 227,
   "id": "c017f118-fde0-4995-881e-a3467f1a55a7",
   "metadata": {},
   "outputs": [
    {
     "data": {
      "text/plain": [
       "ID\n",
       "PedSV.2.5.2_DEL_chr1_80       0.0\n",
       "PedSV.2.5.2_DEL_chr12_7605    0.0\n",
       "PedSV.2.5.2_DEL_chr12_7621    0.0\n",
       "PedSV.2.5.2_DEL_chr12_7627    0.0\n",
       "PedSV.2.5.2_DEL_chr12_7653    0.0\n",
       "dtype: float64"
      ]
     },
     "execution_count": 227,
     "metadata": {},
     "output_type": "execute_result"
    }
   ],
   "source": [
    "sv_counts = nbl_sv_dosages.fillna(0).sum(axis=1).sort_values()\n",
    "sv_counts.head()"
   ]
  },
  {
   "cell_type": "markdown",
   "id": "5fcedd4d-d2f1-4129-a007-4f291d133a43",
   "metadata": {},
   "source": [
    "Note that some SVs have 0 counts, presumably because those SVs are present in non-neuroblastoma samples? Let's just verify that."
   ]
  },
  {
   "cell_type": "code",
   "execution_count": 228,
   "id": "dbd80c7d-caf3-42f9-af39-813fdcd44fff",
   "metadata": {},
   "outputs": [
    {
     "data": {
      "text/plain": [
       "SJ042098    1.0\n",
       "Name: PedSV.2.5.2_DEL_chr1_80, dtype: object"
      ]
     },
     "execution_count": 228,
     "metadata": {},
     "output_type": "execute_result"
    }
   ],
   "source": [
    "test_sv = dosages.set_index(\"ID\").loc[\"PedSV.2.5.2_DEL_chr1_80\"].iloc[3:]\n",
    "test_sv[test_sv == 1]"
   ]
  },
  {
   "cell_type": "code",
   "execution_count": 229,
   "id": "51fa5de0-9e50-4f16-ae18-aa943a216727",
   "metadata": {},
   "outputs": [
    {
     "data": {
      "text/plain": [
       "ancestry_short_variant_inferred_or_reported                                       NaN\n",
       "batch                                          PedSV.v2-wgd_score_1-median_coverage_2\n",
       "study                                                                          StJude\n",
       "disease                                                                  osteosarcoma\n",
       "family_id                                                                         NaN\n",
       "                                                                ...                  \n",
       "pancan_control                                                                  False\n",
       "osteosarcoma_control                                                            False\n",
       "neuroblastoma_control                                                           False\n",
       "ewing_control                                                                   False\n",
       "sex                                                                                 0\n",
       "Name: SJ042098, Length: 73, dtype: object"
      ]
     },
     "execution_count": 229,
     "metadata": {},
     "output_type": "execute_result"
    }
   ],
   "source": [
    "metadata.set_index(\"entity:sample_id\").loc[\"SJ042098\"]"
   ]
  },
  {
   "cell_type": "markdown",
   "id": "d258c925-a24c-4b7b-a899-bd29bd26c8f3",
   "metadata": {},
   "source": [
    "Yep. Alright, we can move on and actually count things up. First, how many SVs are we actually dealing with here?"
   ]
  },
  {
   "cell_type": "code",
   "execution_count": 230,
   "id": "f6d9df07-addb-4eec-bf48-1a9f27fc56e6",
   "metadata": {},
   "outputs": [
    {
     "data": {
      "text/plain": [
       "438.0"
      ]
     },
     "execution_count": 230,
     "metadata": {},
     "output_type": "execute_result"
    }
   ],
   "source": [
    "sv_counts.sum()"
   ]
  },
  {
   "cell_type": "markdown",
   "id": "170c713c-1a9e-4a47-ba1d-670b716952ec",
   "metadata": {},
   "source": [
    "So maybe that's not so bad? We'll see what happens."
   ]
  },
  {
   "cell_type": "code",
   "execution_count": 231,
   "id": "fa80f057-ed8b-467c-8b2d-e727b6abb1c0",
   "metadata": {},
   "outputs": [
    {
     "data": {
      "text/plain": [
       "(    gene count\n",
       " 0   ABAT     1\n",
       " 1  ABCA8     1,\n",
       " (511, 2))"
      ]
     },
     "execution_count": 231,
     "metadata": {},
     "output_type": "execute_result"
    }
   ],
   "source": [
    "genes_in_svs = svs_in_category[['name'] + genic_relationships].set_index('name')\n",
    "genes_in_svs.loc[sv_counts.index, 'count'] = sv_counts.astype(int)\n",
    "\n",
    "# simple enough to go through\n",
    "gene_counts = []\n",
    "for index, row in genes_in_svs.iterrows():\n",
    "    if not pd.isnull(row['PREDICTED_LOF']):\n",
    "        gene_counts += row['PREDICTED_LOF'].split(',') * row['count']\n",
    "    if not pd.isnull(row['PREDICTED_PARTIAL_EXON_DUP']):\n",
    "        gene_counts += row['PREDICTED_PARTIAL_EXON_DUP'].split(',') * row['count']\n",
    "\n",
    "gene_counts = pd.DataFrame(np.unique(gene_counts, return_counts = True), index = ['gene', 'count']).T\n",
    "gene_counts.head(2), gene_counts.shape"
   ]
  },
  {
   "cell_type": "markdown",
   "id": "1df12dc0-6af2-4e32-8261-eac0e30ed680",
   "metadata": {},
   "source": [
    "Great. Now we can try merging this with a gene set to test significance. We'll try it with a small, well characterized gene set first."
   ]
  },
  {
   "cell_type": "code",
   "execution_count": 232,
   "id": "f0e4e4f9-0fe1-4cc6-ba02-d6b8656ed6a8",
   "metadata": {},
   "outputs": [],
   "source": [
    "hallmark = gp.get_library(name='MSigDB_Hallmark_2020')"
   ]
  },
  {
   "cell_type": "code",
   "execution_count": 233,
   "id": "9fdedcf4-8f4a-482c-9639-7e6cae387587",
   "metadata": {},
   "outputs": [
    {
     "data": {
      "text/plain": [
       "200"
      ]
     },
     "execution_count": 233,
     "metadata": {},
     "output_type": "execute_result"
    }
   ],
   "source": [
    "g2m_checkpoint = hallmark['G2-M Checkpoint']\n",
    "len(g2m_checkpoint)"
   ]
  },
  {
   "cell_type": "markdown",
   "id": "f729370a-a210-4d64-b7b7-c1f6fac3824e",
   "metadata": {},
   "source": [
    "We need to calculate 4 numbers for our Fisher's exact test:\n",
    "\n",
    "1. The counts of genes in the gene set and category\n",
    "2. The counts of genes in the category and not the gene set\n",
    "3. The counts of genes in the gene set and not the category\n",
    "4. The counts of genes in neither (~19k)"
   ]
  },
  {
   "cell_type": "code",
   "execution_count": 234,
   "id": "a2645bc4-bde2-4f73-9490-27665fbe4b9a",
   "metadata": {},
   "outputs": [],
   "source": [
    "genes_in_category_and_gs = gene_counts[gene_counts['gene'].isin(g2m_checkpoint)]['count'].sum()\n",
    "genes_in_category_and_not_gs = gene_counts[~gene_counts['gene'].isin(g2m_checkpoint)]['count'].sum()\n",
    "\n",
    "genes_not_in_category_and_in_gs = len(set(g2m_checkpoint) - set(gene_counts['gene']))\n",
    "genes_not_in_category_and_not_gs = 19000 - genes_not_in_category_and_in_gs"
   ]
  },
  {
   "cell_type": "markdown",
   "id": "01413847-6fd4-4343-8a88-c535558f2599",
   "metadata": {},
   "source": [
    "Let's do a fischer's exact test."
   ]
  },
  {
   "cell_type": "code",
   "execution_count": 235,
   "id": "17bcae58-6809-43cc-b272-84d165987bf1",
   "metadata": {},
   "outputs": [
    {
     "data": {
      "text/plain": [
       "(0.8896300501466553, 1.0)"
      ]
     },
     "execution_count": 235,
     "metadata": {},
     "output_type": "execute_result"
    }
   ],
   "source": [
    "cont_table = np.array([[genes_in_category_and_gs, genes_in_category_and_not_gs], \n",
    "                       [genes_not_in_category_and_in_gs, genes_not_in_category_and_not_gs]])\n",
    "scipy.stats.fisher_exact(cont_table)"
   ]
  },
  {
   "cell_type": "markdown",
   "id": "2ce5c6b4-954f-4c46-8ec5-325e6f301e25",
   "metadata": {},
   "source": [
    "So this is not significant. But at least this process makes sense. Now we can generalize a bit."
   ]
  },
  {
   "cell_type": "code",
   "execution_count": 236,
   "id": "d22ae42b-b7e7-4832-85b3-9fd693060a8a",
   "metadata": {},
   "outputs": [],
   "source": [
    "hallmark_results = []\n",
    "for gs, genes in hallmark.items():\n",
    "\n",
    "    genes_in_category_and_gs = gene_counts[gene_counts['gene'].isin(genes)]['count'].sum()\n",
    "    genes_in_category_and_not_gs = gene_counts[~gene_counts['gene'].isin(genes)]['count'].sum()\n",
    "\n",
    "    genes_not_in_category_and_in_gs = len(set(genes) - set(gene_counts['gene']))\n",
    "    genes_not_in_category_and_not_gs = 19000 - genes_not_in_category_and_in_gs\n",
    "    \n",
    "    cont_table = np.array([[genes_in_category_and_gs, genes_in_category_and_not_gs], \n",
    "                       [genes_not_in_category_and_in_gs, genes_not_in_category_and_not_gs]])\n",
    "    res, p = scipy.stats.fisher_exact(cont_table)\n",
    "    \n",
    "    data = f'{genes_in_category_and_gs}/{genes_in_category_and_not_gs}'\n",
    "    expected = f'{genes_not_in_category_and_in_gs}/{genes_not_in_category_and_not_gs}'\n",
    "    \n",
    "    hallmark_results.append([gs, res, p, data, expected])\n",
    "    \n",
    "hallmark_results = pd.DataFrame(hallmark_results, columns = ['gene_set', 'res', 'p', 'data', 'expected'])"
   ]
  },
  {
   "cell_type": "code",
   "execution_count": 237,
   "id": "5e60c1ed-0017-4a9c-a139-cc8455c09d55",
   "metadata": {},
   "outputs": [
    {
     "data": {
      "text/html": [
       "<div>\n",
       "<style scoped>\n",
       "    .dataframe tbody tr th:only-of-type {\n",
       "        vertical-align: middle;\n",
       "    }\n",
       "\n",
       "    .dataframe tbody tr th {\n",
       "        vertical-align: top;\n",
       "    }\n",
       "\n",
       "    .dataframe thead th {\n",
       "        text-align: right;\n",
       "    }\n",
       "</style>\n",
       "<table border=\"1\" class=\"dataframe\">\n",
       "  <thead>\n",
       "    <tr style=\"text-align: right;\">\n",
       "      <th></th>\n",
       "      <th>gene_set</th>\n",
       "      <th>res</th>\n",
       "      <th>p</th>\n",
       "      <th>data</th>\n",
       "      <th>expected</th>\n",
       "    </tr>\n",
       "  </thead>\n",
       "  <tbody>\n",
       "    <tr>\n",
       "      <th>11</th>\n",
       "      <td>Adipogenesis</td>\n",
       "      <td>2.642514</td>\n",
       "      <td>0.001632</td>\n",
       "      <td>14/533</td>\n",
       "      <td>187/18813</td>\n",
       "    </tr>\n",
       "    <tr>\n",
       "      <th>25</th>\n",
       "      <td>mTORC1 Signaling</td>\n",
       "      <td>0.000000</td>\n",
       "      <td>0.007595</td>\n",
       "      <td>0/547</td>\n",
       "      <td>200/18800</td>\n",
       "    </tr>\n",
       "  </tbody>\n",
       "</table>\n",
       "</div>"
      ],
      "text/plain": [
       "            gene_set       res         p    data   expected\n",
       "11      Adipogenesis  2.642514  0.001632  14/533  187/18813\n",
       "25  mTORC1 Signaling  0.000000  0.007595   0/547  200/18800"
      ]
     },
     "execution_count": 237,
     "metadata": {},
     "output_type": "execute_result"
    }
   ],
   "source": [
    "hallmark_results.query('p < 0.05')"
   ]
  },
  {
   "cell_type": "markdown",
   "id": "a7bf33cd-852b-48ca-829d-eb5bcc0d97e3",
   "metadata": {},
   "source": [
    "Interesting... we'll follow up on that in a second."
   ]
  },
  {
   "cell_type": "markdown",
   "id": "6d2a7484-1a5d-4a36-a109-4a397d9d2f4e",
   "metadata": {
    "tags": []
   },
   "source": [
    "# Walk through a non-coding example\n",
    "\n",
    "Let's extract out all the data that we need to examine the highest result for a single hallmark gene set."
   ]
  },
  {
   "cell_type": "code",
   "execution_count": 238,
   "id": "5a5c6579-ce4e-4680-b0be-f5c3c3a92e9e",
   "metadata": {},
   "outputs": [
    {
     "data": {
      "text/plain": [
       "('ANY.SINGLETON.PREDICTED_LOF_or_PREDICTED_PARTIAL_EXON_DUP.ANY.ANY.protein_coding',\n",
       " 'ANY')"
      ]
     },
     "execution_count": 238,
     "metadata": {},
     "output_type": "execute_result"
    }
   ],
   "source": [
    "# we'll select a non-tad framework for testing\n",
    "nontad_test_framework = nbl_framework_results[(nbl_framework_results['af_category'] == \"singleton\") & \n",
    "                      (nbl_framework_results['sv_category'] == \"non-coding\") &\n",
    "                      (~nbl_framework_results['category_name'].str.contains('tad'))].iloc[0]['category_name']\n",
    "\n",
    "framework_components = nontad_test_framework.split(\".\")\n",
    "genic_relationship = framework_components[2]\n",
    "test_framework, genic_relationship"
   ]
  },
  {
   "cell_type": "markdown",
   "id": "fe1ee6f3-ff21-42db-af05-a54c8a89b8a8",
   "metadata": {},
   "source": [
    "This is good practice - we see that the genic relationship here is `ANY`. In the context of noncoding analysis, this has a specific meaning."
   ]
  },
  {
   "cell_type": "code",
   "execution_count": 239,
   "id": "d88b75df-068a-4a68-a755-9c938140df00",
   "metadata": {},
   "outputs": [
    {
     "data": {
      "text/html": [
       "<div>\n",
       "<style scoped>\n",
       "    .dataframe tbody tr th:only-of-type {\n",
       "        vertical-align: middle;\n",
       "    }\n",
       "\n",
       "    .dataframe tbody tr th {\n",
       "        vertical-align: top;\n",
       "    }\n",
       "\n",
       "    .dataframe thead th {\n",
       "        text-align: right;\n",
       "    }\n",
       "</style>\n",
       "<table border=\"1\" class=\"dataframe\">\n",
       "  <thead>\n",
       "    <tr style=\"text-align: right;\">\n",
       "      <th></th>\n",
       "      <th>sv_type</th>\n",
       "      <th>frequency</th>\n",
       "      <th>functional_intersection</th>\n",
       "      <th>functional_category</th>\n",
       "      <th>genic_relationship</th>\n",
       "      <th>constraint</th>\n",
       "      <th>expression</th>\n",
       "      <th>gene_group</th>\n",
       "    </tr>\n",
       "  </thead>\n",
       "  <tbody>\n",
       "    <tr>\n",
       "      <th>0</th>\n",
       "      <td>DUP</td>\n",
       "      <td>RARE</td>\n",
       "      <td>PREDICTED_NONCODING_BREAKPOINT</td>\n",
       "      <td>neuroblastoma_atac_peaks</td>\n",
       "      <td>PREDICTED_INTERGENIC</td>\n",
       "      <td>lof_constrained</td>\n",
       "      <td>expressed_in_adrenal_gland</td>\n",
       "      <td>protein_coding</td>\n",
       "    </tr>\n",
       "    <tr>\n",
       "      <th>1</th>\n",
       "      <td>DEL</td>\n",
       "      <td>SINGLETON</td>\n",
       "      <td>PREDICTED_NONCODING_SPAN</td>\n",
       "      <td>neuroblastoma_chromHMM15_Enh</td>\n",
       "      <td>PREDICTED_INTRONIC</td>\n",
       "      <td>ANY</td>\n",
       "      <td>ANY</td>\n",
       "      <td>cosmic_and_germline_CPGs</td>\n",
       "    </tr>\n",
       "    <tr>\n",
       "      <th>2</th>\n",
       "      <td>CPX_or_INV</td>\n",
       "      <td>NaN</td>\n",
       "      <td>ANY</td>\n",
       "      <td>neuroblastoma_chromHMM15_Enh_conserved</td>\n",
       "      <td>PREDICTED_PROMOTER</td>\n",
       "      <td>NaN</td>\n",
       "      <td>NaN</td>\n",
       "      <td>NaN</td>\n",
       "    </tr>\n",
       "    <tr>\n",
       "      <th>3</th>\n",
       "      <td>INS_ALL</td>\n",
       "      <td>NaN</td>\n",
       "      <td>NaN</td>\n",
       "      <td>neuroblastoma_chromHMM15_EnhG</td>\n",
       "      <td>PREDICTED_UTR</td>\n",
       "      <td>NaN</td>\n",
       "      <td>NaN</td>\n",
       "      <td>NaN</td>\n",
       "    </tr>\n",
       "    <tr>\n",
       "      <th>4</th>\n",
       "      <td>ANY</td>\n",
       "      <td>NaN</td>\n",
       "      <td>NaN</td>\n",
       "      <td>neuroblastoma_chromHMM15_EnhG_conserved</td>\n",
       "      <td>ANY</td>\n",
       "      <td>NaN</td>\n",
       "      <td>NaN</td>\n",
       "      <td>NaN</td>\n",
       "    </tr>\n",
       "    <tr>\n",
       "      <th>5</th>\n",
       "      <td>NaN</td>\n",
       "      <td>NaN</td>\n",
       "      <td>NaN</td>\n",
       "      <td>neuroblastoma_H3K27Ac_peak</td>\n",
       "      <td>NaN</td>\n",
       "      <td>NaN</td>\n",
       "      <td>NaN</td>\n",
       "      <td>NaN</td>\n",
       "    </tr>\n",
       "  </tbody>\n",
       "</table>\n",
       "</div>"
      ],
      "text/plain": [
       "      sv_type  frequency         functional_intersection  \\\n",
       "0         DUP       RARE  PREDICTED_NONCODING_BREAKPOINT   \n",
       "1         DEL  SINGLETON        PREDICTED_NONCODING_SPAN   \n",
       "2  CPX_or_INV        NaN                             ANY   \n",
       "3     INS_ALL        NaN                             NaN   \n",
       "4         ANY        NaN                             NaN   \n",
       "5         NaN        NaN                             NaN   \n",
       "\n",
       "                       functional_category    genic_relationship  \\\n",
       "0                 neuroblastoma_atac_peaks  PREDICTED_INTERGENIC   \n",
       "1             neuroblastoma_chromHMM15_Enh    PREDICTED_INTRONIC   \n",
       "2   neuroblastoma_chromHMM15_Enh_conserved    PREDICTED_PROMOTER   \n",
       "3            neuroblastoma_chromHMM15_EnhG         PREDICTED_UTR   \n",
       "4  neuroblastoma_chromHMM15_EnhG_conserved                   ANY   \n",
       "5               neuroblastoma_H3K27Ac_peak                   NaN   \n",
       "\n",
       "        constraint                  expression                gene_group  \n",
       "0  lof_constrained  expressed_in_adrenal_gland            protein_coding  \n",
       "1              ANY                         ANY  cosmic_and_germline_CPGs  \n",
       "2              NaN                         NaN                       NaN  \n",
       "3              NaN                         NaN                       NaN  \n",
       "4              NaN                         NaN                       NaN  \n",
       "5              NaN                         NaN                       NaN  "
      ]
     },
     "execution_count": 239,
     "metadata": {},
     "output_type": "execute_result"
    }
   ],
   "source": [
    "nbl_noncoding_framework.head(6)"
   ]
  },
  {
   "cell_type": "markdown",
   "id": "e12f62b3-6ad6-40d7-a1eb-99c626cd5f23",
   "metadata": {},
   "source": [
    "So `ANY` really means `PREDICTED_INTERGENIC | PREDICTED INTRONIC | PREDICTED PROMOTER | PREDICTED UTR`"
   ]
  },
  {
   "cell_type": "code",
   "execution_count": 240,
   "id": "c3f92afa-1637-4742-b8c6-3c898b511953",
   "metadata": {},
   "outputs": [],
   "source": [
    "genic_relationships = ['PREDICTED_INTERGENIC', 'PREDICTED_INTRONIC', 'PREDICTED_PROMOTER', 'PREDICTED_UTR']\n",
    "\n",
    "# a weird feature of these data is that PREDICTED_INTERGENIC is actually boolean, and refers to PREDICTED_NEAREST_TSS\n",
    "genic_relationships[genic_relationships.index('PREDICTED_INTERGENIC')] = 'PREDICTED_NEAREST_TSS'"
   ]
  },
  {
   "cell_type": "markdown",
   "id": "ed655ad0-9a3c-459e-acd9-6c2b7f6647a8",
   "metadata": {},
   "source": [
    "Subset down to those SVssvs"
   ]
  },
  {
   "cell_type": "code",
   "execution_count": 241,
   "id": "52ec1b72-6fa8-4486-9837-ba6ec9de4aed",
   "metadata": {},
   "outputs": [
    {
     "data": {
      "text/html": [
       "<div>\n",
       "<style scoped>\n",
       "    .dataframe tbody tr th:only-of-type {\n",
       "        vertical-align: middle;\n",
       "    }\n",
       "\n",
       "    .dataframe tbody tr th {\n",
       "        vertical-align: top;\n",
       "    }\n",
       "\n",
       "    .dataframe thead th {\n",
       "        text-align: right;\n",
       "    }\n",
       "</style>\n",
       "<table border=\"1\" class=\"dataframe\">\n",
       "  <thead>\n",
       "    <tr style=\"text-align: right;\">\n",
       "      <th></th>\n",
       "      <th>#chrom</th>\n",
       "      <th>start</th>\n",
       "      <th>end</th>\n",
       "      <th>name</th>\n",
       "      <th>svtype</th>\n",
       "      <th>AC</th>\n",
       "      <th>AF</th>\n",
       "      <th>ALGORITHMS</th>\n",
       "      <th>AN</th>\n",
       "      <th>BOTHSIDES_SUPPORT</th>\n",
       "      <th>...</th>\n",
       "      <th>trio_POPMAX_FREQ_HOMALT</th>\n",
       "      <th>trio_POPMAX_CN_FREQ</th>\n",
       "      <th>trio_POPMAX_CN_NONREF_FREQ</th>\n",
       "      <th>gnomad_v3.1_sv_POPMAX_AF</th>\n",
       "      <th>gnomad_v3.1_sv_POPMAX_FREQ_HOMREF</th>\n",
       "      <th>gnomad_v3.1_sv_POPMAX_FREQ_HET</th>\n",
       "      <th>gnomad_v3.1_sv_POPMAX_FREQ_HOMALT</th>\n",
       "      <th>gnomad_v3.1_sv_POPMAX_CN_FREQ</th>\n",
       "      <th>gnomad_v3.1_sv_POPMAX_CN_NONREF_FREQ</th>\n",
       "      <th>FILTER</th>\n",
       "    </tr>\n",
       "  </thead>\n",
       "  <tbody>\n",
       "    <tr>\n",
       "      <th>120</th>\n",
       "      <td>chr1</td>\n",
       "      <td>1116266</td>\n",
       "      <td>1116473</td>\n",
       "      <td>PedSV.2.5.2_DEL_chr1_165</td>\n",
       "      <td>DEL</td>\n",
       "      <td>1</td>\n",
       "      <td>0.000074</td>\n",
       "      <td>manta</td>\n",
       "      <td>13462</td>\n",
       "      <td>True</td>\n",
       "      <td>...</td>\n",
       "      <td>0.0</td>\n",
       "      <td>NaN</td>\n",
       "      <td>NaN</td>\n",
       "      <td>0.000000</td>\n",
       "      <td>NaN</td>\n",
       "      <td>NaN</td>\n",
       "      <td>NaN</td>\n",
       "      <td>NaN</td>\n",
       "      <td>NaN</td>\n",
       "      <td>PASS</td>\n",
       "    </tr>\n",
       "    <tr>\n",
       "      <th>137</th>\n",
       "      <td>chr1</td>\n",
       "      <td>1157302</td>\n",
       "      <td>1157390</td>\n",
       "      <td>PedSV.2.5.2_DEL_chr1_186</td>\n",
       "      <td>DEL</td>\n",
       "      <td>1</td>\n",
       "      <td>0.000074</td>\n",
       "      <td>wham</td>\n",
       "      <td>13462</td>\n",
       "      <td>False</td>\n",
       "      <td>...</td>\n",
       "      <td>0.0</td>\n",
       "      <td>NaN</td>\n",
       "      <td>NaN</td>\n",
       "      <td>0.000031</td>\n",
       "      <td>NaN</td>\n",
       "      <td>NaN</td>\n",
       "      <td>NaN</td>\n",
       "      <td>NaN</td>\n",
       "      <td>NaN</td>\n",
       "      <td>PASS</td>\n",
       "    </tr>\n",
       "  </tbody>\n",
       "</table>\n",
       "<p>2 rows × 952 columns</p>\n",
       "</div>"
      ],
      "text/plain": [
       "    #chrom    start      end                      name svtype  AC        AF  \\\n",
       "120   chr1  1116266  1116473  PedSV.2.5.2_DEL_chr1_165    DEL   1  0.000074   \n",
       "137   chr1  1157302  1157390  PedSV.2.5.2_DEL_chr1_186    DEL   1  0.000074   \n",
       "\n",
       "    ALGORITHMS     AN  BOTHSIDES_SUPPORT  ... trio_POPMAX_FREQ_HOMALT  \\\n",
       "120      manta  13462               True  ...                     0.0   \n",
       "137       wham  13462              False  ...                     0.0   \n",
       "\n",
       "     trio_POPMAX_CN_FREQ trio_POPMAX_CN_NONREF_FREQ gnomad_v3.1_sv_POPMAX_AF  \\\n",
       "120                  NaN                        NaN                 0.000000   \n",
       "137                  NaN                        NaN                 0.000031   \n",
       "\n",
       "     gnomad_v3.1_sv_POPMAX_FREQ_HOMREF  gnomad_v3.1_sv_POPMAX_FREQ_HET  \\\n",
       "120                                NaN                             NaN   \n",
       "137                                NaN                             NaN   \n",
       "\n",
       "    gnomad_v3.1_sv_POPMAX_FREQ_HOMALT  gnomad_v3.1_sv_POPMAX_CN_FREQ  \\\n",
       "120                               NaN                            NaN   \n",
       "137                               NaN                            NaN   \n",
       "\n",
       "     gnomad_v3.1_sv_POPMAX_CN_NONREF_FREQ  FILTER  \n",
       "120                                   NaN    PASS  \n",
       "137                                   NaN    PASS  \n",
       "\n",
       "[2 rows x 952 columns]"
      ]
     },
     "execution_count": 241,
     "metadata": {},
     "output_type": "execute_result"
    }
   ],
   "source": [
    "svs_in_category = nbl_category_svs[(nbl_category_svs['sv_category'] == \"non-coding\") & \n",
    "                                   (nbl_category_svs[\"category\"] == nontad_test_framework)]\n",
    "\n",
    "# subset the actual SV matrix\n",
    "svs_in_category = svs[svs[\"name\"].isin(svs_in_category[\"SV\"].tolist())]\n",
    "\n",
    "svs_in_category.head(2)"
   ]
  },
  {
   "cell_type": "code",
   "execution_count": 242,
   "id": "8483d11d-6e8d-47a2-bee0-d14889708ca0",
   "metadata": {},
   "outputs": [
    {
     "data": {
      "text/plain": [
       "(3021, 952)"
      ]
     },
     "execution_count": 242,
     "metadata": {},
     "output_type": "execute_result"
    }
   ],
   "source": [
    "svs_in_category.shape"
   ]
  },
  {
   "cell_type": "code",
   "execution_count": 243,
   "id": "18019d6b-7749-4e58-b1d2-44dd20a466cc",
   "metadata": {},
   "outputs": [
    {
     "data": {
      "text/html": [
       "<div>\n",
       "<style scoped>\n",
       "    .dataframe tbody tr th:only-of-type {\n",
       "        vertical-align: middle;\n",
       "    }\n",
       "\n",
       "    .dataframe tbody tr th {\n",
       "        vertical-align: top;\n",
       "    }\n",
       "\n",
       "    .dataframe thead th {\n",
       "        text-align: right;\n",
       "    }\n",
       "</style>\n",
       "<table border=\"1\" class=\"dataframe\">\n",
       "  <thead>\n",
       "    <tr style=\"text-align: right;\">\n",
       "      <th></th>\n",
       "      <th>PREDICTED_NEAREST_TSS</th>\n",
       "      <th>PREDICTED_INTRONIC</th>\n",
       "      <th>PREDICTED_PROMOTER</th>\n",
       "      <th>PREDICTED_UTR</th>\n",
       "    </tr>\n",
       "  </thead>\n",
       "  <tbody>\n",
       "    <tr>\n",
       "      <th>120</th>\n",
       "      <td>NaN</td>\n",
       "      <td>NaN</td>\n",
       "      <td>C1orf159</td>\n",
       "      <td>NaN</td>\n",
       "    </tr>\n",
       "    <tr>\n",
       "      <th>137</th>\n",
       "      <td>TTLL10</td>\n",
       "      <td>NaN</td>\n",
       "      <td>NaN</td>\n",
       "      <td>NaN</td>\n",
       "    </tr>\n",
       "    <tr>\n",
       "      <th>224</th>\n",
       "      <td>NaN</td>\n",
       "      <td>ATAD3B</td>\n",
       "      <td>NaN</td>\n",
       "      <td>NaN</td>\n",
       "    </tr>\n",
       "    <tr>\n",
       "      <th>584</th>\n",
       "      <td>NaN</td>\n",
       "      <td>NaN</td>\n",
       "      <td>C1orf174</td>\n",
       "      <td>NaN</td>\n",
       "    </tr>\n",
       "    <tr>\n",
       "      <th>836</th>\n",
       "      <td>HES3</td>\n",
       "      <td>NaN</td>\n",
       "      <td>NaN</td>\n",
       "      <td>NaN</td>\n",
       "    </tr>\n",
       "  </tbody>\n",
       "</table>\n",
       "</div>"
      ],
      "text/plain": [
       "    PREDICTED_NEAREST_TSS PREDICTED_INTRONIC PREDICTED_PROMOTER PREDICTED_UTR\n",
       "120                   NaN                NaN           C1orf159           NaN\n",
       "137                TTLL10                NaN                NaN           NaN\n",
       "224                   NaN             ATAD3B                NaN           NaN\n",
       "584                   NaN                NaN           C1orf174           NaN\n",
       "836                  HES3                NaN                NaN           NaN"
      ]
     },
     "execution_count": 243,
     "metadata": {},
     "output_type": "execute_result"
    }
   ],
   "source": [
    "svs_in_category[genic_relationships].head()"
   ]
  },
  {
   "cell_type": "markdown",
   "id": "5127751c-3eca-4804-bbb3-2509fa564c1b",
   "metadata": {},
   "source": [
    "We should be a bit more careful if any results turn up positive, but for now we'll just register an SV as contributing to a count for that gene."
   ]
  },
  {
   "cell_type": "code",
   "execution_count": 244,
   "id": "637a32ef-befb-464b-988b-2ce8e9977177",
   "metadata": {},
   "outputs": [
    {
     "data": {
      "text/html": [
       "<div>\n",
       "<style scoped>\n",
       "    .dataframe tbody tr th:only-of-type {\n",
       "        vertical-align: middle;\n",
       "    }\n",
       "\n",
       "    .dataframe tbody tr th {\n",
       "        vertical-align: top;\n",
       "    }\n",
       "\n",
       "    .dataframe thead th {\n",
       "        text-align: right;\n",
       "    }\n",
       "</style>\n",
       "<table border=\"1\" class=\"dataframe\">\n",
       "  <thead>\n",
       "    <tr style=\"text-align: right;\">\n",
       "      <th></th>\n",
       "      <th>PT_00QYKRAX</th>\n",
       "      <th>PT_00Y8C0XA</th>\n",
       "      <th>PT_025YMME2</th>\n",
       "      <th>PT_02AE4RSP</th>\n",
       "      <th>PT_02SNWVRF</th>\n",
       "      <th>PT_06Z51EN5</th>\n",
       "      <th>PT_0CKD259J</th>\n",
       "      <th>PT_0GMP9VVY</th>\n",
       "      <th>PT_0MVMPZKX</th>\n",
       "      <th>PT_11XN6CG5</th>\n",
       "      <th>...</th>\n",
       "      <th>SJ058317</th>\n",
       "      <th>SJ058342</th>\n",
       "      <th>SJ058362</th>\n",
       "      <th>SJ058440</th>\n",
       "      <th>SJ058446</th>\n",
       "      <th>SJ058473</th>\n",
       "      <th>SJ058476</th>\n",
       "      <th>SJ063820</th>\n",
       "      <th>SJ063821</th>\n",
       "      <th>SJ071354</th>\n",
       "    </tr>\n",
       "    <tr>\n",
       "      <th>ID</th>\n",
       "      <th></th>\n",
       "      <th></th>\n",
       "      <th></th>\n",
       "      <th></th>\n",
       "      <th></th>\n",
       "      <th></th>\n",
       "      <th></th>\n",
       "      <th></th>\n",
       "      <th></th>\n",
       "      <th></th>\n",
       "      <th></th>\n",
       "      <th></th>\n",
       "      <th></th>\n",
       "      <th></th>\n",
       "      <th></th>\n",
       "      <th></th>\n",
       "      <th></th>\n",
       "      <th></th>\n",
       "      <th></th>\n",
       "      <th></th>\n",
       "      <th></th>\n",
       "    </tr>\n",
       "  </thead>\n",
       "  <tbody>\n",
       "    <tr>\n",
       "      <th>PedSV.2.5.2_DEL_chr1_165</th>\n",
       "      <td>0.0</td>\n",
       "      <td>0.0</td>\n",
       "      <td>0.0</td>\n",
       "      <td>0.0</td>\n",
       "      <td>0.0</td>\n",
       "      <td>0.0</td>\n",
       "      <td>0.0</td>\n",
       "      <td>0.0</td>\n",
       "      <td>0.0</td>\n",
       "      <td>0.0</td>\n",
       "      <td>...</td>\n",
       "      <td>0.0</td>\n",
       "      <td>0.0</td>\n",
       "      <td>0.0</td>\n",
       "      <td>0.0</td>\n",
       "      <td>0.0</td>\n",
       "      <td>0.0</td>\n",
       "      <td>0.0</td>\n",
       "      <td>0.0</td>\n",
       "      <td>0.0</td>\n",
       "      <td>0.0</td>\n",
       "    </tr>\n",
       "    <tr>\n",
       "      <th>PedSV.2.5.2_DEL_chr1_186</th>\n",
       "      <td>0.0</td>\n",
       "      <td>0.0</td>\n",
       "      <td>0.0</td>\n",
       "      <td>0.0</td>\n",
       "      <td>0.0</td>\n",
       "      <td>0.0</td>\n",
       "      <td>0.0</td>\n",
       "      <td>0.0</td>\n",
       "      <td>0.0</td>\n",
       "      <td>0.0</td>\n",
       "      <td>...</td>\n",
       "      <td>0.0</td>\n",
       "      <td>0.0</td>\n",
       "      <td>0.0</td>\n",
       "      <td>0.0</td>\n",
       "      <td>0.0</td>\n",
       "      <td>0.0</td>\n",
       "      <td>0.0</td>\n",
       "      <td>0.0</td>\n",
       "      <td>0.0</td>\n",
       "      <td>0.0</td>\n",
       "    </tr>\n",
       "  </tbody>\n",
       "</table>\n",
       "<p>2 rows × 688 columns</p>\n",
       "</div>"
      ],
      "text/plain": [
       "                          PT_00QYKRAX  PT_00Y8C0XA  PT_025YMME2  PT_02AE4RSP  \\\n",
       "ID                                                                             \n",
       "PedSV.2.5.2_DEL_chr1_165          0.0          0.0          0.0          0.0   \n",
       "PedSV.2.5.2_DEL_chr1_186          0.0          0.0          0.0          0.0   \n",
       "\n",
       "                          PT_02SNWVRF  PT_06Z51EN5  PT_0CKD259J  PT_0GMP9VVY  \\\n",
       "ID                                                                             \n",
       "PedSV.2.5.2_DEL_chr1_165          0.0          0.0          0.0          0.0   \n",
       "PedSV.2.5.2_DEL_chr1_186          0.0          0.0          0.0          0.0   \n",
       "\n",
       "                          PT_0MVMPZKX  PT_11XN6CG5  ...  SJ058317  SJ058342  \\\n",
       "ID                                                  ...                       \n",
       "PedSV.2.5.2_DEL_chr1_165          0.0          0.0  ...       0.0       0.0   \n",
       "PedSV.2.5.2_DEL_chr1_186          0.0          0.0  ...       0.0       0.0   \n",
       "\n",
       "                          SJ058362  SJ058440  SJ058446  SJ058473  SJ058476  \\\n",
       "ID                                                                           \n",
       "PedSV.2.5.2_DEL_chr1_165       0.0       0.0       0.0       0.0       0.0   \n",
       "PedSV.2.5.2_DEL_chr1_186       0.0       0.0       0.0       0.0       0.0   \n",
       "\n",
       "                          SJ063820  SJ063821  SJ071354  \n",
       "ID                                                      \n",
       "PedSV.2.5.2_DEL_chr1_165       0.0       0.0       0.0  \n",
       "PedSV.2.5.2_DEL_chr1_186       0.0       0.0       0.0  \n",
       "\n",
       "[2 rows x 688 columns]"
      ]
     },
     "execution_count": 244,
     "metadata": {},
     "output_type": "execute_result"
    }
   ],
   "source": [
    "nbl_samples = metadata[\n",
    "    (metadata[\"neuroblastoma_case\"] == True)\n",
    "][\"entity:sample_id\"].tolist()\n",
    "\n",
    "nbl_sv_dosages = (\n",
    "    dosages\n",
    "    .set_index(\"ID\")\n",
    "    .loc[svs_in_category[\"name\"].tolist(), nbl_samples]\n",
    ")\n",
    "nbl_sv_dosages.head(2)"
   ]
  },
  {
   "cell_type": "markdown",
   "id": "2bf2daa9-a00e-4f03-bbbf-cd130a4103fd",
   "metadata": {},
   "source": [
    "Again subset our dosage matrix, dropping samples with bad GT rates"
   ]
  },
  {
   "cell_type": "code",
   "execution_count": 245,
   "id": "ee09ae2a-1df6-4d37-b423-c8c44a8d4bca",
   "metadata": {},
   "outputs": [],
   "source": [
    "dropped = pd.isnull(nbl_sv_dosages).sum(axis = 0) / len(nbl_sv_dosages) < 0.05\n",
    "nbl_sv_dosages = nbl_sv_dosages.loc[:, dropped]"
   ]
  },
  {
   "cell_type": "code",
   "execution_count": 246,
   "id": "49111247-4eea-4161-bd8f-623c2e4fa12c",
   "metadata": {},
   "outputs": [
    {
     "data": {
      "text/plain": [
       "(3021, 646)"
      ]
     },
     "execution_count": 246,
     "metadata": {},
     "output_type": "execute_result"
    }
   ],
   "source": [
    "nbl_sv_dosages.shape"
   ]
  },
  {
   "cell_type": "code",
   "execution_count": 247,
   "id": "15da298c-8d62-49c1-a795-15b0b79f3cc3",
   "metadata": {},
   "outputs": [
    {
     "data": {
      "text/plain": [
       "ID\n",
       "PedSV.2.5.2_DEL_chr1_165     0.0\n",
       "PedSV.2.5.2_DEL_chr12_612    0.0\n",
       "PedSV.2.5.2_DEL_chr12_615    0.0\n",
       "PedSV.2.5.2_DEL_chr12_705    0.0\n",
       "PedSV.2.5.2_DEL_chr12_839    0.0\n",
       "dtype: float64"
      ]
     },
     "execution_count": 247,
     "metadata": {},
     "output_type": "execute_result"
    }
   ],
   "source": [
    "sv_counts = nbl_sv_dosages.fillna(0).sum(axis=1).sort_values()\n",
    "sv_counts.head()"
   ]
  },
  {
   "cell_type": "markdown",
   "id": "e1d3933b-d74f-4c8f-8a7d-11f4c2c01f53",
   "metadata": {},
   "source": [
    "First, how many SVs are we actually dealing with here?"
   ]
  },
  {
   "cell_type": "code",
   "execution_count": 248,
   "id": "cf0f8697-0644-423d-b616-8683af9f512e",
   "metadata": {},
   "outputs": [
    {
     "data": {
      "text/plain": [
       "339.0"
      ]
     },
     "execution_count": 248,
     "metadata": {},
     "output_type": "execute_result"
    }
   ],
   "source": [
    "sv_counts.sum()"
   ]
  },
  {
   "cell_type": "markdown",
   "id": "5ca5931e-73a0-41e1-bb86-8438215c6a9a",
   "metadata": {},
   "source": [
    "So maybe that's not so bad? We'll see what happens."
   ]
  },
  {
   "cell_type": "code",
   "execution_count": 249,
   "id": "92f359a4-8a84-4984-8b65-259e63279921",
   "metadata": {},
   "outputs": [
    {
     "data": {
      "text/html": [
       "<div>\n",
       "<style scoped>\n",
       "    .dataframe tbody tr th:only-of-type {\n",
       "        vertical-align: middle;\n",
       "    }\n",
       "\n",
       "    .dataframe tbody tr th {\n",
       "        vertical-align: top;\n",
       "    }\n",
       "\n",
       "    .dataframe thead th {\n",
       "        text-align: right;\n",
       "    }\n",
       "</style>\n",
       "<table border=\"1\" class=\"dataframe\">\n",
       "  <thead>\n",
       "    <tr style=\"text-align: right;\">\n",
       "      <th></th>\n",
       "      <th>gene</th>\n",
       "      <th>count</th>\n",
       "    </tr>\n",
       "  </thead>\n",
       "  <tbody>\n",
       "    <tr>\n",
       "      <th>0</th>\n",
       "      <td>ABCD3</td>\n",
       "      <td>1</td>\n",
       "    </tr>\n",
       "    <tr>\n",
       "      <th>1</th>\n",
       "      <td>ACP6</td>\n",
       "      <td>1</td>\n",
       "    </tr>\n",
       "  </tbody>\n",
       "</table>\n",
       "</div>"
      ],
      "text/plain": [
       "    gene count\n",
       "0  ABCD3     1\n",
       "1   ACP6     1"
      ]
     },
     "execution_count": 249,
     "metadata": {},
     "output_type": "execute_result"
    }
   ],
   "source": [
    "genes_in_svs = svs_in_category[['name'] + genic_relationships].set_index('name')\n",
    "genes_in_svs.loc[sv_counts.index, 'count'] = sv_counts.astype(int)\n",
    "\n",
    "# simple enough to go through\n",
    "gene_counts = []\n",
    "for index, row in genes_in_svs.iterrows():\n",
    "    for col in genic_relationships:\n",
    "        if not pd.isnull(row[col]):\n",
    "            gene_counts += row[col].split(',') * row['count']\n",
    "\n",
    "gene_counts = pd.DataFrame(np.unique(gene_counts, return_counts = True), index = ['gene', 'count']).T\n",
    "gene_counts.head(2)"
   ]
  },
  {
   "cell_type": "markdown",
   "id": "55525db8-49d0-42db-b423-24f3c8f16598",
   "metadata": {},
   "source": [
    "Calculate with Fisher's exact:"
   ]
  },
  {
   "cell_type": "code",
   "execution_count": 250,
   "id": "e5d536ec-a96f-470a-ba0d-fd31af685887",
   "metadata": {},
   "outputs": [],
   "source": [
    "genes_in_category_and_gs = gene_counts[gene_counts['gene'].isin(g2m_checkpoint)]['count'].sum()\n",
    "genes_in_category_and_not_gs = gene_counts[~gene_counts['gene'].isin(g2m_checkpoint)]['count'].sum()\n",
    "\n",
    "genes_not_in_category_and_in_gs = len(set(g2m_checkpoint) - set(gene_counts['gene']))\n",
    "genes_not_in_category_and_not_gs = 19000 - genes_not_in_category_and_in_gs"
   ]
  },
  {
   "cell_type": "markdown",
   "id": "e4dd9244-28a0-44c5-ab00-68bb743e26ad",
   "metadata": {},
   "source": [
    "Let's do a fischer's exact test."
   ]
  },
  {
   "cell_type": "code",
   "execution_count": 251,
   "id": "bf81a389-08d6-45db-b759-6f947311ab62",
   "metadata": {},
   "outputs": [
    {
     "data": {
      "text/plain": [
       "(0.854746571709978, 1.0)"
      ]
     },
     "execution_count": 251,
     "metadata": {},
     "output_type": "execute_result"
    }
   ],
   "source": [
    "cont_table = np.array([[genes_in_category_and_gs, genes_in_category_and_not_gs], \n",
    "                       [genes_not_in_category_and_in_gs, genes_not_in_category_and_not_gs]])\n",
    "scipy.stats.fisher_exact(cont_table)"
   ]
  },
  {
   "cell_type": "markdown",
   "id": "1393a6eb-b093-4c41-9e54-53e4d333fa8e",
   "metadata": {},
   "source": [
    "So this is not significant. But at least this process makes sense. Now we can generalize a bit."
   ]
  },
  {
   "cell_type": "code",
   "execution_count": 252,
   "id": "abf41000-7057-4ce0-95ef-855f4d62b93f",
   "metadata": {},
   "outputs": [],
   "source": [
    "hallmark_results = []\n",
    "for gs, genes in hallmark.items():\n",
    "\n",
    "    genes_in_category_and_gs = gene_counts[gene_counts['gene'].isin(genes)]['count'].sum()\n",
    "    genes_in_category_and_not_gs = gene_counts[~gene_counts['gene'].isin(genes)]['count'].sum()\n",
    "\n",
    "    genes_not_in_category_and_in_gs = len(set(genes) - set(gene_counts['gene']))\n",
    "    genes_not_in_category_and_not_gs = 19000 - genes_not_in_category_and_in_gs\n",
    "    \n",
    "    cont_table = np.array([[genes_in_category_and_gs, genes_in_category_and_not_gs], \n",
    "                       [genes_not_in_category_and_in_gs, genes_not_in_category_and_not_gs]])\n",
    "    res, p = scipy.stats.fisher_exact(cont_table)\n",
    "    \n",
    "    data = f'{genes_in_category_and_gs}/{genes_in_category_and_not_gs}'\n",
    "    expected = f'{genes_not_in_category_and_in_gs}/{genes_not_in_category_and_not_gs}'\n",
    "    \n",
    "    hallmark_results.append([gs, res, p, data, expected])\n",
    "    \n",
    "hallmark_results = pd.DataFrame(hallmark_results, columns = ['gene_set', 'res', 'p', 'data', 'expected'])"
   ]
  },
  {
   "cell_type": "code",
   "execution_count": 253,
   "id": "46e767e2-9524-4157-b802-e984fa8192f1",
   "metadata": {},
   "outputs": [
    {
     "data": {
      "text/html": [
       "<div>\n",
       "<style scoped>\n",
       "    .dataframe tbody tr th:only-of-type {\n",
       "        vertical-align: middle;\n",
       "    }\n",
       "\n",
       "    .dataframe tbody tr th {\n",
       "        vertical-align: top;\n",
       "    }\n",
       "\n",
       "    .dataframe thead th {\n",
       "        text-align: right;\n",
       "    }\n",
       "</style>\n",
       "<table border=\"1\" class=\"dataframe\">\n",
       "  <thead>\n",
       "    <tr style=\"text-align: right;\">\n",
       "      <th></th>\n",
       "      <th>gene_set</th>\n",
       "      <th>res</th>\n",
       "      <th>p</th>\n",
       "      <th>data</th>\n",
       "      <th>expected</th>\n",
       "    </tr>\n",
       "  </thead>\n",
       "  <tbody>\n",
       "    <tr>\n",
       "      <th>0</th>\n",
       "      <td>TNF-alpha Signaling via NF-kB</td>\n",
       "      <td>3.002330</td>\n",
       "      <td>0.002914</td>\n",
       "      <td>10/328</td>\n",
       "      <td>191/18809</td>\n",
       "    </tr>\n",
       "    <tr>\n",
       "      <th>3</th>\n",
       "      <td>Mitotic Spindle</td>\n",
       "      <td>2.387308</td>\n",
       "      <td>0.024082</td>\n",
       "      <td>8/330</td>\n",
       "      <td>191/18809</td>\n",
       "    </tr>\n",
       "    <tr>\n",
       "      <th>11</th>\n",
       "      <td>Adipogenesis</td>\n",
       "      <td>2.374747</td>\n",
       "      <td>0.024720</td>\n",
       "      <td>8/330</td>\n",
       "      <td>192/18808</td>\n",
       "    </tr>\n",
       "    <tr>\n",
       "      <th>16</th>\n",
       "      <td>Protein Secretion</td>\n",
       "      <td>3.085912</td>\n",
       "      <td>0.027690</td>\n",
       "      <td>5/333</td>\n",
       "      <td>92/18908</td>\n",
       "    </tr>\n",
       "    <tr>\n",
       "      <th>23</th>\n",
       "      <td>Unfolded Protein Response</td>\n",
       "      <td>2.602281</td>\n",
       "      <td>0.049873</td>\n",
       "      <td>5/333</td>\n",
       "      <td>109/18891</td>\n",
       "    </tr>\n",
       "    <tr>\n",
       "      <th>38</th>\n",
       "      <td>UV Response Dn</td>\n",
       "      <td>3.822695</td>\n",
       "      <td>0.000987</td>\n",
       "      <td>9/329</td>\n",
       "      <td>135/18865</td>\n",
       "    </tr>\n",
       "    <tr>\n",
       "      <th>43</th>\n",
       "      <td>Bile Acid Metabolism</td>\n",
       "      <td>2.626515</td>\n",
       "      <td>0.048346</td>\n",
       "      <td>5/333</td>\n",
       "      <td>108/18892</td>\n",
       "    </tr>\n",
       "    <tr>\n",
       "      <th>45</th>\n",
       "      <td>Allograft Rejection</td>\n",
       "      <td>2.693884</td>\n",
       "      <td>0.008778</td>\n",
       "      <td>9/329</td>\n",
       "      <td>191/18809</td>\n",
       "    </tr>\n",
       "    <tr>\n",
       "      <th>49</th>\n",
       "      <td>Pancreas Beta Cells</td>\n",
       "      <td>4.468657</td>\n",
       "      <td>0.034603</td>\n",
       "      <td>3/335</td>\n",
       "      <td>38/18962</td>\n",
       "    </tr>\n",
       "  </tbody>\n",
       "</table>\n",
       "</div>"
      ],
      "text/plain": [
       "                         gene_set       res         p    data   expected\n",
       "0   TNF-alpha Signaling via NF-kB  3.002330  0.002914  10/328  191/18809\n",
       "3                 Mitotic Spindle  2.387308  0.024082   8/330  191/18809\n",
       "11                   Adipogenesis  2.374747  0.024720   8/330  192/18808\n",
       "16              Protein Secretion  3.085912  0.027690   5/333   92/18908\n",
       "23      Unfolded Protein Response  2.602281  0.049873   5/333  109/18891\n",
       "38                 UV Response Dn  3.822695  0.000987   9/329  135/18865\n",
       "43           Bile Acid Metabolism  2.626515  0.048346   5/333  108/18892\n",
       "45            Allograft Rejection  2.693884  0.008778   9/329  191/18809\n",
       "49            Pancreas Beta Cells  4.468657  0.034603   3/335   38/18962"
      ]
     },
     "execution_count": 253,
     "metadata": {},
     "output_type": "execute_result"
    }
   ],
   "source": [
    "hallmark_results.query('p < 0.05')"
   ]
  },
  {
   "cell_type": "markdown",
   "id": "15fb270b-ccb1-4c60-ac21-fc9368de8e94",
   "metadata": {},
   "source": [
    "Interesting... we'll follow up on that in a second."
   ]
  },
  {
   "cell_type": "markdown",
   "id": "1a7ab9b1-a1fc-40b6-8b3a-17eb30ae3b36",
   "metadata": {},
   "source": [
    "# Generalized gene set enrichment\n",
    "\n",
    "Alright, we've been through two examples. Now let's try generalizing across two axes--categories and gene sets. For now, we'll only neuroblastoma significant categories.\n",
    "\n",
    "I don't know if these `p_values` are already corrected or not. I'll assume they're not."
   ]
  },
  {
   "cell_type": "markdown",
   "id": "5eb19bf8-d7b1-4313-a9a0-4659d6371b7c",
   "metadata": {},
   "source": [
    "## Define the categories for analysis\n",
    "\n",
    "Here, we'll select which categories we want to examine. We'll stick to neuroblastoma, but we'll examine `singleton` and `rare`, as well as `noncoding` and `coding`.\n",
    "\n",
    "Worth mentioning that the `noncoding` categories could be quite difficult to interpret."
   ]
  },
  {
   "cell_type": "code",
   "execution_count": 254,
   "id": "b9bb01ff-1406-4b73-82f7-45f98d00ce94",
   "metadata": {},
   "outputs": [
    {
     "data": {
      "text/plain": [
       "(77, 22)"
      ]
     },
     "execution_count": 254,
     "metadata": {},
     "output_type": "execute_result"
    }
   ],
   "source": [
    "nbl_analysis_categories = nbl_framework_results.query('negative_log10_p_value > 3.5')\n",
    "nbl_analysis_categories.shape"
   ]
  },
  {
   "cell_type": "markdown",
   "id": "1819aff5-ec24-42fe-8094-f6ccbe5494d9",
   "metadata": {},
   "source": [
    "Here, we'll also define a helpful lookup that maps from the \"collapsed\" genic relationships to all their component relationships."
   ]
  },
  {
   "cell_type": "code",
   "execution_count": 255,
   "id": "45870124-595d-4354-b9a4-bd9c4c0b7a3e",
   "metadata": {},
   "outputs": [],
   "source": [
    "gr_coding_mapping = {'PREDICTED_LOF_or_PREDICTED_PARTIAL_EXON_DUP': ['PREDICTED_LOF', 'PREDICTED_PARTIAL_EXON_DUP'],\n",
    "                     'ANY': ['PREDICTED_COPY_GAIN', 'PREDICTED_INTRAGENIC_EXON_DUP', 'PREDICTED_LOF', 'PREDICTED_PARTIAL_EXON_DUP']}\n",
    "\n",
    "gr_noncoding_mapping = {'ANY': ['PREDICTED_INTERGENIC', 'PREDICTED_INTRONIC', 'PREDICTED_PROMOTER', 'PREDICTED_UTR']}\n"
   ]
  },
  {
   "cell_type": "markdown",
   "id": "77a702d3-24c4-4949-a6a5-66c94f3c8cf8",
   "metadata": {},
   "source": [
    "## Define the gene sets for analysis\n",
    "\n",
    "Let's highlight some specific gene sets for analysis. We'll do the following:\n",
    "\n",
    "* `MSigDB_Hallmark_2020`\n",
    "* `GO_Biological_Process_2023` (this is the default for GO term analysis)\n",
    "* `Reactome_2022`\n",
    "\n",
    "We'll begin with these, and then we can add in other specific ones that might be relevant later:"
   ]
  },
  {
   "cell_type": "code",
   "execution_count": 256,
   "id": "9a54c165-c476-4740-b07e-9ade5c6ae796",
   "metadata": {},
   "outputs": [],
   "source": [
    "gs = {}\n",
    "for db_name in ['MSigDB_Hallmark_2020', 'GO_Biological_Process_2023', 'Reactome_2022']:\n",
    "    db = gp.get_library(name=db_name)\n",
    "    gs[db_name] = db"
   ]
  },
  {
   "cell_type": "code",
   "execution_count": 258,
   "id": "fc30eb17-9d0c-4438-8216-5b7e54530947",
   "metadata": {},
   "outputs": [],
   "source": [
    "adrenal_genes = pd.read_csv('ref/adrenal-specific-genes.txt', sep='\\t', comment = '#')['Gene Name'].tolist()\n",
    "gs['custom'] = {'adrenal-specific-exp': adrenal_genes}"
   ]
  },
  {
   "cell_type": "code",
   "execution_count": 259,
   "id": "33e38631-a4b7-44c4-a362-dd6c7390fe00",
   "metadata": {},
   "outputs": [
    {
     "data": {
      "text/plain": [
       "7273"
      ]
     },
     "execution_count": 259,
     "metadata": {},
     "output_type": "execute_result"
    }
   ],
   "source": [
    "gs_count = 0\n",
    "for db_name, db in gs.items():\n",
    "    gs_count += len(db.values())\n",
    "gs_count"
   ]
  },
  {
   "cell_type": "markdown",
   "id": "336e1259-fbf7-432b-b7e2-6dbbea8f8f0a",
   "metadata": {},
   "source": [
    "Clearly that's going to lead to some false positives, but it is what it is."
   ]
  },
  {
   "cell_type": "markdown",
   "id": "dd614678-31a9-4aa9-b478-03eaa2c0cdfa",
   "metadata": {},
   "source": [
    "## Run the thing\n",
    "\n",
    "This code will need to be decently adaptable, since it has to handle a few different unique components (noncoding categories, etc)."
   ]
  },
  {
   "cell_type": "code",
   "execution_count": 316,
   "id": "982091bf-a529-499a-aea2-7e0b628dcb44",
   "metadata": {},
   "outputs": [],
   "source": [
    "nbl_samples = metadata[\n",
    "    (metadata[\"neuroblastoma_case\"] == True)\n",
    "][\"entity:sample_id\"].tolist()"
   ]
  },
  {
   "cell_type": "code",
   "execution_count": 317,
   "id": "678772ca-31d7-433f-8588-4a18ee0a3bd1",
   "metadata": {},
   "outputs": [
    {
     "name": "stdout",
     "output_type": "stream",
     "text": [
      "0, 1, 2, 3, 4, 5, 6, 7, 8, 9, 10, 11, 12, 13, 14, 15, 16, 17, 18, 19, 20, 21, 22, 23, 24, 25, 26, 27, 28, 29, 30, 31, 32, 33, 34, 35, 36, 37, 38, 39, 40, 41, 42, 43, 44, 45, 46, 47, 48, 49, 50, 51, 52, 53, 54, 55, 56, 57, 58, 59, 60, 61, 62, 63, 64, 65, 66, 67, 68, 69, 70, 71, 72, 73, 74, 75, 76, "
     ]
    }
   ],
   "source": [
    "gse_results = []\n",
    "\n",
    "for i, (index, row) in enumerate(nbl_analysis_categories.iterrows()):\n",
    "    print(i, end = ', ')\n",
    "    cat_name = row['category_name']\n",
    "    af_category = row['af_category']\n",
    "    sv_category = row['sv_category']\n",
    "    p_category = row['p_value']\n",
    "    \n",
    "    cat_components = cat_name.split('.')\n",
    "    \n",
    "    # here, we define the necessary genic relationships\n",
    "    # we handle the collapsed categories as well\n",
    "    if sv_category == 'coding':\n",
    "        gr = cat_components[2]\n",
    "\n",
    "        # convert gr to components\n",
    "        genic_rel = gr_coding_mapping.get(gr, [gr])\n",
    "        \n",
    "    elif sv_category == 'non-coding':\n",
    "        gr = cat_components[4]\n",
    "\n",
    "        # convert gr to components\n",
    "        genic_rel = gr_noncoding_mapping.get(gr, [gr])\n",
    "        \n",
    "    # swap out intergenic for nearest_tss\n",
    "    if 'PREDICTED_INTERGENIC' in genic_rel:\n",
    "        genic_rel[genic_rel.index('PREDICTED_INTERGENIC')] = 'PREDICTED_NEAREST_TSS'\n",
    "        \n",
    "    # next, we pull out our SVs in this category\n",
    "    svs_in_category = nbl_category_svs[(nbl_category_svs['sv_category'] == sv_category) & \n",
    "                                       (nbl_category_svs[\"category\"] == cat_name)]\n",
    "    \n",
    "    # subset the actual SV matrix\n",
    "    svs_in_category = svs[svs[\"name\"].isin(svs_in_category[\"SV\"].tolist())]\n",
    "    \n",
    "    # extract the dosages\n",
    "    nbl_sv_dosages = (\n",
    "        dosages\n",
    "        .set_index(\"ID\")\n",
    "        .loc[svs_in_category[\"name\"].tolist(), nbl_samples]\n",
    "        )\n",
    "    \n",
    "    # drop samples with bad GT rates\n",
    "    dropped = pd.isnull(nbl_sv_dosages).sum(axis = 0) / len(nbl_sv_dosages) < 0.05\n",
    "    nbl_sv_dosages = nbl_sv_dosages.loc[:, dropped]\n",
    "    \n",
    "    # convert dosages to counts\n",
    "    sv_counts = nbl_sv_dosages.fillna(0).sum(axis=1).sort_values()\n",
    "    \n",
    "    # define the number of unique SVs\n",
    "    sv_counts = sv_counts[sv_counts > 0]\n",
    "    num_unique_svs = len(sv_counts)\n",
    "    \n",
    "    # define our gene counts\n",
    "    genes_in_svs = svs_in_category[['name'] + genic_rel].set_index('name').loc[sv_counts.index]\n",
    "    genes_in_svs['count'] = sv_counts.astype(int)\n",
    "    \n",
    "    gene_counts = []\n",
    "    for index, row in genes_in_svs.iterrows():\n",
    "        for col in genic_rel:\n",
    "            if not pd.isnull(row[col]):\n",
    "                gene_counts += row[col].split(',') * row['count']\n",
    "           \n",
    "    gene_counts = pd.DataFrame(np.unique(gene_counts, return_counts = True), index = ['gene', 'count']).T\n",
    "    \n",
    "    # for each gene set, create a contingency matrix and calculate our\n",
    "    # fisher's result\n",
    "    base_row = [cat_name, af_category, sv_category, p_category]\n",
    "    for db_name, db in gs.items():\n",
    "        for gs_name, gs_genes in db.items():\n",
    "            top_left = gene_counts[gene_counts['gene'].isin(gs_genes)]['count'].sum()\n",
    "            top_right = gene_counts[~gene_counts['gene'].isin(gs_genes)]['count'].sum()\n",
    "\n",
    "            bottom_left = len(set(gs_genes) - set(gene_counts['gene']))\n",
    "            bottom_right = 19000 - bottom_left\n",
    "            \n",
    "            cont_table = np.array([[top_left, top_right], \n",
    "                                   [bottom_left, bottom_right]])\n",
    "            res, p = scipy.stats.fisher_exact(cont_table)\n",
    "            \n",
    "            unique_overlaps = len(set(gs_genes) & set(gene_counts['gene']))\n",
    "            data = f'{top_left}/{top_right + top_left}'\n",
    "            expected = f'{bottom_left}/{bottom_right + bottom_left}'\n",
    "            \n",
    "            # store our data\n",
    "            row = base_row + [db_name, gs_name, unique_overlaps, data, expected, p]\n",
    "            gse_results.append(row)\n",
    "            \n",
    "names = ['category', 'af_category', 'sv_category', 'category_p', 'db', 'gs', 'gs_unique_overlap', 'data', 'expected', 'p']\n",
    "gse_results = pd.DataFrame(gse_results, columns = names)"
   ]
  },
  {
   "cell_type": "code",
   "execution_count": 318,
   "id": "082bfa28-85e3-4838-99a8-16a77618ca0e",
   "metadata": {},
   "outputs": [
    {
     "data": {
      "text/html": [
       "<div>\n",
       "<style scoped>\n",
       "    .dataframe tbody tr th:only-of-type {\n",
       "        vertical-align: middle;\n",
       "    }\n",
       "\n",
       "    .dataframe tbody tr th {\n",
       "        vertical-align: top;\n",
       "    }\n",
       "\n",
       "    .dataframe thead th {\n",
       "        text-align: right;\n",
       "    }\n",
       "</style>\n",
       "<table border=\"1\" class=\"dataframe\">\n",
       "  <thead>\n",
       "    <tr style=\"text-align: right;\">\n",
       "      <th></th>\n",
       "      <th>category</th>\n",
       "      <th>af_category</th>\n",
       "      <th>sv_category</th>\n",
       "      <th>category_p</th>\n",
       "      <th>db</th>\n",
       "      <th>gs</th>\n",
       "      <th>gs_unique_overlap</th>\n",
       "      <th>data</th>\n",
       "      <th>expected</th>\n",
       "      <th>p</th>\n",
       "    </tr>\n",
       "  </thead>\n",
       "  <tbody>\n",
       "    <tr>\n",
       "      <th>11</th>\n",
       "      <td>ANY.SINGLETON.PREDICTED_LOF_or_PREDICTED_PARTI...</td>\n",
       "      <td>singleton</td>\n",
       "      <td>coding</td>\n",
       "      <td>1.110000e-07</td>\n",
       "      <td>MSigDB_Hallmark_2020</td>\n",
       "      <td>Adipogenesis</td>\n",
       "      <td>13</td>\n",
       "      <td>14/547</td>\n",
       "      <td>187/19000</td>\n",
       "      <td>1.632194e-03</td>\n",
       "    </tr>\n",
       "    <tr>\n",
       "      <th>25</th>\n",
       "      <td>ANY.SINGLETON.PREDICTED_LOF_or_PREDICTED_PARTI...</td>\n",
       "      <td>singleton</td>\n",
       "      <td>coding</td>\n",
       "      <td>1.110000e-07</td>\n",
       "      <td>MSigDB_Hallmark_2020</td>\n",
       "      <td>mTORC1 Signaling</td>\n",
       "      <td>0</td>\n",
       "      <td>0/547</td>\n",
       "      <td>200/19000</td>\n",
       "      <td>7.594762e-03</td>\n",
       "    </tr>\n",
       "    <tr>\n",
       "      <th>65</th>\n",
       "      <td>ANY.SINGLETON.PREDICTED_LOF_or_PREDICTED_PARTI...</td>\n",
       "      <td>singleton</td>\n",
       "      <td>coding</td>\n",
       "      <td>1.110000e-07</td>\n",
       "      <td>GO_Biological_Process_2023</td>\n",
       "      <td>ATP Metabolic Process (GO:0046034)</td>\n",
       "      <td>4</td>\n",
       "      <td>5/547</td>\n",
       "      <td>30/19000</td>\n",
       "      <td>2.732070e-03</td>\n",
       "    </tr>\n",
       "    <tr>\n",
       "      <th>119</th>\n",
       "      <td>ANY.SINGLETON.PREDICTED_LOF_or_PREDICTED_PARTI...</td>\n",
       "      <td>singleton</td>\n",
       "      <td>coding</td>\n",
       "      <td>1.110000e-07</td>\n",
       "      <td>GO_Biological_Process_2023</td>\n",
       "      <td>DNA Recombination (GO:0006310)</td>\n",
       "      <td>4</td>\n",
       "      <td>4/547</td>\n",
       "      <td>38/19000</td>\n",
       "      <td>2.935292e-02</td>\n",
       "    </tr>\n",
       "    <tr>\n",
       "      <th>139</th>\n",
       "      <td>ANY.SINGLETON.PREDICTED_LOF_or_PREDICTED_PARTI...</td>\n",
       "      <td>singleton</td>\n",
       "      <td>coding</td>\n",
       "      <td>1.110000e-07</td>\n",
       "      <td>GO_Biological_Process_2023</td>\n",
       "      <td>ER-associated Misfolded Protein Catabolic Proc...</td>\n",
       "      <td>1</td>\n",
       "      <td>2/547</td>\n",
       "      <td>8/19000</td>\n",
       "      <td>3.031102e-02</td>\n",
       "    </tr>\n",
       "    <tr>\n",
       "      <th>...</th>\n",
       "      <td>...</td>\n",
       "      <td>...</td>\n",
       "      <td>...</td>\n",
       "      <td>...</td>\n",
       "      <td>...</td>\n",
       "      <td>...</td>\n",
       "      <td>...</td>\n",
       "      <td>...</td>\n",
       "      <td>...</td>\n",
       "      <td>...</td>\n",
       "    </tr>\n",
       "    <tr>\n",
       "      <th>559833</th>\n",
       "      <td>DEL.RARE.ANY.recombination_hotspot_conserved.A...</td>\n",
       "      <td>rare</td>\n",
       "      <td>non-coding</td>\n",
       "      <td>2.740000e-04</td>\n",
       "      <td>Reactome_2022</td>\n",
       "      <td>TP53 Regulates Transcription Of Additional Cel...</td>\n",
       "      <td>1</td>\n",
       "      <td>1/26</td>\n",
       "      <td>13/19000</td>\n",
       "      <td>1.896912e-02</td>\n",
       "    </tr>\n",
       "    <tr>\n",
       "      <th>559866</th>\n",
       "      <td>DEL.RARE.ANY.recombination_hotspot_conserved.A...</td>\n",
       "      <td>rare</td>\n",
       "      <td>non-coding</td>\n",
       "      <td>2.740000e-04</td>\n",
       "      <td>Reactome_2022</td>\n",
       "      <td>Tie2 Signaling R-HSA-210993</td>\n",
       "      <td>1</td>\n",
       "      <td>1/26</td>\n",
       "      <td>16/19000</td>\n",
       "      <td>2.298868e-02</td>\n",
       "    </tr>\n",
       "    <tr>\n",
       "      <th>559888</th>\n",
       "      <td>DEL.RARE.ANY.recombination_hotspot_conserved.A...</td>\n",
       "      <td>rare</td>\n",
       "      <td>non-coding</td>\n",
       "      <td>2.740000e-04</td>\n",
       "      <td>Reactome_2022</td>\n",
       "      <td>Transcriptional Regulation By RUNX2 R-HSA-8878166</td>\n",
       "      <td>1</td>\n",
       "      <td>11/26</td>\n",
       "      <td>118/19000</td>\n",
       "      <td>6.387280e-18</td>\n",
       "    </tr>\n",
       "    <tr>\n",
       "      <th>559908</th>\n",
       "      <td>DEL.RARE.ANY.recombination_hotspot_conserved.A...</td>\n",
       "      <td>rare</td>\n",
       "      <td>non-coding</td>\n",
       "      <td>2.740000e-04</td>\n",
       "      <td>Reactome_2022</td>\n",
       "      <td>Transmission Across Chemical Synapses R-HSA-11...</td>\n",
       "      <td>1</td>\n",
       "      <td>2/26</td>\n",
       "      <td>245/19000</td>\n",
       "      <td>4.446992e-02</td>\n",
       "    </tr>\n",
       "    <tr>\n",
       "      <th>559956</th>\n",
       "      <td>DEL.RARE.ANY.recombination_hotspot_conserved.A...</td>\n",
       "      <td>rare</td>\n",
       "      <td>non-coding</td>\n",
       "      <td>2.740000e-04</td>\n",
       "      <td>Reactome_2022</td>\n",
       "      <td>Vesicle-mediated Transport R-HSA-5653656</td>\n",
       "      <td>1</td>\n",
       "      <td>11/26</td>\n",
       "      <td>636/19000</td>\n",
       "      <td>3.137774e-10</td>\n",
       "    </tr>\n",
       "  </tbody>\n",
       "</table>\n",
       "<p>18677 rows × 10 columns</p>\n",
       "</div>"
      ],
      "text/plain": [
       "                                                 category af_category  \\\n",
       "11      ANY.SINGLETON.PREDICTED_LOF_or_PREDICTED_PARTI...   singleton   \n",
       "25      ANY.SINGLETON.PREDICTED_LOF_or_PREDICTED_PARTI...   singleton   \n",
       "65      ANY.SINGLETON.PREDICTED_LOF_or_PREDICTED_PARTI...   singleton   \n",
       "119     ANY.SINGLETON.PREDICTED_LOF_or_PREDICTED_PARTI...   singleton   \n",
       "139     ANY.SINGLETON.PREDICTED_LOF_or_PREDICTED_PARTI...   singleton   \n",
       "...                                                   ...         ...   \n",
       "559833  DEL.RARE.ANY.recombination_hotspot_conserved.A...        rare   \n",
       "559866  DEL.RARE.ANY.recombination_hotspot_conserved.A...        rare   \n",
       "559888  DEL.RARE.ANY.recombination_hotspot_conserved.A...        rare   \n",
       "559908  DEL.RARE.ANY.recombination_hotspot_conserved.A...        rare   \n",
       "559956  DEL.RARE.ANY.recombination_hotspot_conserved.A...        rare   \n",
       "\n",
       "       sv_category    category_p                          db  \\\n",
       "11          coding  1.110000e-07        MSigDB_Hallmark_2020   \n",
       "25          coding  1.110000e-07        MSigDB_Hallmark_2020   \n",
       "65          coding  1.110000e-07  GO_Biological_Process_2023   \n",
       "119         coding  1.110000e-07  GO_Biological_Process_2023   \n",
       "139         coding  1.110000e-07  GO_Biological_Process_2023   \n",
       "...            ...           ...                         ...   \n",
       "559833  non-coding  2.740000e-04               Reactome_2022   \n",
       "559866  non-coding  2.740000e-04               Reactome_2022   \n",
       "559888  non-coding  2.740000e-04               Reactome_2022   \n",
       "559908  non-coding  2.740000e-04               Reactome_2022   \n",
       "559956  non-coding  2.740000e-04               Reactome_2022   \n",
       "\n",
       "                                                       gs  gs_unique_overlap  \\\n",
       "11                                           Adipogenesis                 13   \n",
       "25                                       mTORC1 Signaling                  0   \n",
       "65                     ATP Metabolic Process (GO:0046034)                  4   \n",
       "119                        DNA Recombination (GO:0006310)                  4   \n",
       "139     ER-associated Misfolded Protein Catabolic Proc...                  1   \n",
       "...                                                   ...                ...   \n",
       "559833  TP53 Regulates Transcription Of Additional Cel...                  1   \n",
       "559866                        Tie2 Signaling R-HSA-210993                  1   \n",
       "559888  Transcriptional Regulation By RUNX2 R-HSA-8878166                  1   \n",
       "559908  Transmission Across Chemical Synapses R-HSA-11...                  1   \n",
       "559956           Vesicle-mediated Transport R-HSA-5653656                  1   \n",
       "\n",
       "          data   expected             p  \n",
       "11      14/547  187/19000  1.632194e-03  \n",
       "25       0/547  200/19000  7.594762e-03  \n",
       "65       5/547   30/19000  2.732070e-03  \n",
       "119      4/547   38/19000  2.935292e-02  \n",
       "139      2/547    8/19000  3.031102e-02  \n",
       "...        ...        ...           ...  \n",
       "559833    1/26   13/19000  1.896912e-02  \n",
       "559866    1/26   16/19000  2.298868e-02  \n",
       "559888   11/26  118/19000  6.387280e-18  \n",
       "559908    2/26  245/19000  4.446992e-02  \n",
       "559956   11/26  636/19000  3.137774e-10  \n",
       "\n",
       "[18677 rows x 10 columns]"
      ]
     },
     "execution_count": 318,
     "metadata": {},
     "output_type": "execute_result"
    }
   ],
   "source": [
    "gse_results.query('p < 0.05')"
   ]
  },
  {
   "cell_type": "code",
   "execution_count": 319,
   "id": "045be554-d216-4739-afab-bbf6224a773e",
   "metadata": {},
   "outputs": [
    {
     "data": {
      "text/html": [
       "<div>\n",
       "<style scoped>\n",
       "    .dataframe tbody tr th:only-of-type {\n",
       "        vertical-align: middle;\n",
       "    }\n",
       "\n",
       "    .dataframe tbody tr th {\n",
       "        vertical-align: top;\n",
       "    }\n",
       "\n",
       "    .dataframe thead th {\n",
       "        text-align: right;\n",
       "    }\n",
       "</style>\n",
       "<table border=\"1\" class=\"dataframe\">\n",
       "  <thead>\n",
       "    <tr style=\"text-align: right;\">\n",
       "      <th></th>\n",
       "      <th>category</th>\n",
       "      <th>af_category</th>\n",
       "      <th>sv_category</th>\n",
       "      <th>category_p</th>\n",
       "      <th>db</th>\n",
       "      <th>gs</th>\n",
       "      <th>gs_unique_overlap</th>\n",
       "      <th>data</th>\n",
       "      <th>expected</th>\n",
       "      <th>p</th>\n",
       "    </tr>\n",
       "  </thead>\n",
       "  <tbody>\n",
       "    <tr>\n",
       "      <th>11</th>\n",
       "      <td>ANY.SINGLETON.PREDICTED_LOF_or_PREDICTED_PARTI...</td>\n",
       "      <td>singleton</td>\n",
       "      <td>coding</td>\n",
       "      <td>1.110000e-07</td>\n",
       "      <td>MSigDB_Hallmark_2020</td>\n",
       "      <td>Adipogenesis</td>\n",
       "      <td>13</td>\n",
       "      <td>14/547</td>\n",
       "      <td>187/19000</td>\n",
       "      <td>0.001632</td>\n",
       "    </tr>\n",
       "    <tr>\n",
       "      <th>25</th>\n",
       "      <td>ANY.SINGLETON.PREDICTED_LOF_or_PREDICTED_PARTI...</td>\n",
       "      <td>singleton</td>\n",
       "      <td>coding</td>\n",
       "      <td>1.110000e-07</td>\n",
       "      <td>MSigDB_Hallmark_2020</td>\n",
       "      <td>mTORC1 Signaling</td>\n",
       "      <td>0</td>\n",
       "      <td>0/547</td>\n",
       "      <td>200/19000</td>\n",
       "      <td>0.007595</td>\n",
       "    </tr>\n",
       "  </tbody>\n",
       "</table>\n",
       "</div>"
      ],
      "text/plain": [
       "                                             category af_category sv_category  \\\n",
       "11  ANY.SINGLETON.PREDICTED_LOF_or_PREDICTED_PARTI...   singleton      coding   \n",
       "25  ANY.SINGLETON.PREDICTED_LOF_or_PREDICTED_PARTI...   singleton      coding   \n",
       "\n",
       "      category_p                    db                gs  gs_unique_overlap  \\\n",
       "11  1.110000e-07  MSigDB_Hallmark_2020      Adipogenesis                 13   \n",
       "25  1.110000e-07  MSigDB_Hallmark_2020  mTORC1 Signaling                  0   \n",
       "\n",
       "      data   expected         p  \n",
       "11  14/547  187/19000  0.001632  \n",
       "25   0/547  200/19000  0.007595  "
      ]
     },
     "execution_count": 319,
     "metadata": {},
     "output_type": "execute_result"
    }
   ],
   "source": [
    "gse_results.query('category == \"ANY.SINGLETON.PREDICTED_LOF_or_PREDICTED_PARTIAL_EXON_DUP.ANY.ANY.protein_coding\" & p < 0.05 & db == \"MSigDB_Hallmark_2020\"').sort_values(by = 'p')"
   ]
  },
  {
   "cell_type": "code",
   "execution_count": 285,
   "id": "6005302c-6c8a-49e2-a08b-524422ee506d",
   "metadata": {},
   "outputs": [],
   "source": [
    "# gs['GO_Biological_Process_2023']['Neurogenesis (GO:0022008)']"
   ]
  },
  {
   "cell_type": "code",
   "execution_count": 320,
   "id": "37c9e966-33a5-4bc2-84a1-3d6b07d8da8e",
   "metadata": {},
   "outputs": [
    {
     "data": {
      "text/html": [
       "<div>\n",
       "<style scoped>\n",
       "    .dataframe tbody tr th:only-of-type {\n",
       "        vertical-align: middle;\n",
       "    }\n",
       "\n",
       "    .dataframe tbody tr th {\n",
       "        vertical-align: top;\n",
       "    }\n",
       "\n",
       "    .dataframe thead th {\n",
       "        text-align: right;\n",
       "    }\n",
       "</style>\n",
       "<table border=\"1\" class=\"dataframe\">\n",
       "  <thead>\n",
       "    <tr style=\"text-align: right;\">\n",
       "      <th></th>\n",
       "      <th>category</th>\n",
       "      <th>af_category</th>\n",
       "      <th>sv_category</th>\n",
       "      <th>category_p</th>\n",
       "      <th>db</th>\n",
       "      <th>gs</th>\n",
       "      <th>gs_unique_overlap</th>\n",
       "      <th>data</th>\n",
       "      <th>expected</th>\n",
       "      <th>p</th>\n",
       "    </tr>\n",
       "  </thead>\n",
       "  <tbody>\n",
       "    <tr>\n",
       "      <th>337043</th>\n",
       "      <td>ANY.SINGLETON.ANY.recombination_hotspot_conser...</td>\n",
       "      <td>singleton</td>\n",
       "      <td>non-coding</td>\n",
       "      <td>0.000313</td>\n",
       "      <td>GO_Biological_Process_2023</td>\n",
       "      <td>Nervous System Development (GO:0007399)</td>\n",
       "      <td>11</td>\n",
       "      <td>13/115</td>\n",
       "      <td>422/19000</td>\n",
       "      <td>0.000002</td>\n",
       "    </tr>\n",
       "    <tr>\n",
       "      <th>198856</th>\n",
       "      <td>DEL.SINGLETON.ANY.recombination_hotspot_conser...</td>\n",
       "      <td>singleton</td>\n",
       "      <td>non-coding</td>\n",
       "      <td>0.000012</td>\n",
       "      <td>GO_Biological_Process_2023</td>\n",
       "      <td>Nervous System Development (GO:0007399)</td>\n",
       "      <td>9</td>\n",
       "      <td>11/87</td>\n",
       "      <td>424/19000</td>\n",
       "      <td>0.000004</td>\n",
       "    </tr>\n",
       "    <tr>\n",
       "      <th>197176</th>\n",
       "      <td>DEL.SINGLETON.ANY.recombination_hotspot_conser...</td>\n",
       "      <td>singleton</td>\n",
       "      <td>non-coding</td>\n",
       "      <td>0.000012</td>\n",
       "      <td>GO_Biological_Process_2023</td>\n",
       "      <td>Central Nervous System Development (GO:0007417)</td>\n",
       "      <td>7</td>\n",
       "      <td>8/87</td>\n",
       "      <td>276/19000</td>\n",
       "      <td>0.000046</td>\n",
       "    </tr>\n",
       "    <tr>\n",
       "      <th>335363</th>\n",
       "      <td>ANY.SINGLETON.ANY.recombination_hotspot_conser...</td>\n",
       "      <td>singleton</td>\n",
       "      <td>non-coding</td>\n",
       "      <td>0.000313</td>\n",
       "      <td>GO_Biological_Process_2023</td>\n",
       "      <td>Central Nervous System Development (GO:0007417)</td>\n",
       "      <td>8</td>\n",
       "      <td>9/115</td>\n",
       "      <td>275/19000</td>\n",
       "      <td>0.000055</td>\n",
       "    </tr>\n",
       "    <tr>\n",
       "      <th>518256</th>\n",
       "      <td>DEL.RARE.ANY.recombination_hotspot_conserved.P...</td>\n",
       "      <td>rare</td>\n",
       "      <td>non-coding</td>\n",
       "      <td>0.000228</td>\n",
       "      <td>GO_Biological_Process_2023</td>\n",
       "      <td>Myelination In Peripheral Nervous System (GO:0...</td>\n",
       "      <td>1</td>\n",
       "      <td>2/19</td>\n",
       "      <td>11/19000</td>\n",
       "      <td>0.000073</td>\n",
       "    </tr>\n",
       "    <tr>\n",
       "      <th>...</th>\n",
       "      <td>...</td>\n",
       "      <td>...</td>\n",
       "      <td>...</td>\n",
       "      <td>...</td>\n",
       "      <td>...</td>\n",
       "      <td>...</td>\n",
       "      <td>...</td>\n",
       "      <td>...</td>\n",
       "      <td>...</td>\n",
       "      <td>...</td>\n",
       "    </tr>\n",
       "    <tr>\n",
       "      <th>220900</th>\n",
       "      <td>DEL.SINGLETON.ANY.neuroblastoma_H3K27Ac_peak.A...</td>\n",
       "      <td>singleton</td>\n",
       "      <td>non-coding</td>\n",
       "      <td>0.000146</td>\n",
       "      <td>GO_Biological_Process_2023</td>\n",
       "      <td>Peripheral Nervous System Neuron Development (...</td>\n",
       "      <td>1</td>\n",
       "      <td>1/178</td>\n",
       "      <td>4/19000</td>\n",
       "      <td>0.045559</td>\n",
       "    </tr>\n",
       "    <tr>\n",
       "      <th>215482</th>\n",
       "      <td>ANY.SINGLETON.ANY.neuroblastoma_chromHMM15_Enh...</td>\n",
       "      <td>singleton</td>\n",
       "      <td>non-coding</td>\n",
       "      <td>0.000074</td>\n",
       "      <td>GO_Biological_Process_2023</td>\n",
       "      <td>Regulation Of Nervous System Process (GO:0031644)</td>\n",
       "      <td>1</td>\n",
       "      <td>2/354</td>\n",
       "      <td>17/19000</td>\n",
       "      <td>0.046481</td>\n",
       "    </tr>\n",
       "    <tr>\n",
       "      <th>214244</th>\n",
       "      <td>ANY.SINGLETON.ANY.neuroblastoma_chromHMM15_Enh...</td>\n",
       "      <td>singleton</td>\n",
       "      <td>non-coding</td>\n",
       "      <td>0.000074</td>\n",
       "      <td>GO_Biological_Process_2023</td>\n",
       "      <td>Positive Regulation Of Nervous System Process ...</td>\n",
       "      <td>1</td>\n",
       "      <td>2/354</td>\n",
       "      <td>17/19000</td>\n",
       "      <td>0.046481</td>\n",
       "    </tr>\n",
       "    <tr>\n",
       "      <th>328352</th>\n",
       "      <td>ANY.SINGLETON.PREDICTED_NONCODING_BREAKPOINT.n...</td>\n",
       "      <td>singleton</td>\n",
       "      <td>non-coding</td>\n",
       "      <td>0.000309</td>\n",
       "      <td>GO_Biological_Process_2023</td>\n",
       "      <td>Enteric Nervous System Development (GO:0048484)</td>\n",
       "      <td>1</td>\n",
       "      <td>1/154</td>\n",
       "      <td>5/19000</td>\n",
       "      <td>0.047287</td>\n",
       "    </tr>\n",
       "    <tr>\n",
       "      <th>439088</th>\n",
       "      <td>DEL.RARE.ANY.neuroblastoma_ABC_MAX_enhancer_co...</td>\n",
       "      <td>rare</td>\n",
       "      <td>non-coding</td>\n",
       "      <td>0.000127</td>\n",
       "      <td>GO_Biological_Process_2023</td>\n",
       "      <td>Peripheral Nervous System Axon Ensheathment (G...</td>\n",
       "      <td>1</td>\n",
       "      <td>1/118</td>\n",
       "      <td>7/19000</td>\n",
       "      <td>0.048333</td>\n",
       "    </tr>\n",
       "  </tbody>\n",
       "</table>\n",
       "<p>91 rows × 10 columns</p>\n",
       "</div>"
      ],
      "text/plain": [
       "                                                 category af_category  \\\n",
       "337043  ANY.SINGLETON.ANY.recombination_hotspot_conser...   singleton   \n",
       "198856  DEL.SINGLETON.ANY.recombination_hotspot_conser...   singleton   \n",
       "197176  DEL.SINGLETON.ANY.recombination_hotspot_conser...   singleton   \n",
       "335363  ANY.SINGLETON.ANY.recombination_hotspot_conser...   singleton   \n",
       "518256  DEL.RARE.ANY.recombination_hotspot_conserved.P...        rare   \n",
       "...                                                   ...         ...   \n",
       "220900  DEL.SINGLETON.ANY.neuroblastoma_H3K27Ac_peak.A...   singleton   \n",
       "215482  ANY.SINGLETON.ANY.neuroblastoma_chromHMM15_Enh...   singleton   \n",
       "214244  ANY.SINGLETON.ANY.neuroblastoma_chromHMM15_Enh...   singleton   \n",
       "328352  ANY.SINGLETON.PREDICTED_NONCODING_BREAKPOINT.n...   singleton   \n",
       "439088  DEL.RARE.ANY.neuroblastoma_ABC_MAX_enhancer_co...        rare   \n",
       "\n",
       "       sv_category  category_p                          db  \\\n",
       "337043  non-coding    0.000313  GO_Biological_Process_2023   \n",
       "198856  non-coding    0.000012  GO_Biological_Process_2023   \n",
       "197176  non-coding    0.000012  GO_Biological_Process_2023   \n",
       "335363  non-coding    0.000313  GO_Biological_Process_2023   \n",
       "518256  non-coding    0.000228  GO_Biological_Process_2023   \n",
       "...            ...         ...                         ...   \n",
       "220900  non-coding    0.000146  GO_Biological_Process_2023   \n",
       "215482  non-coding    0.000074  GO_Biological_Process_2023   \n",
       "214244  non-coding    0.000074  GO_Biological_Process_2023   \n",
       "328352  non-coding    0.000309  GO_Biological_Process_2023   \n",
       "439088  non-coding    0.000127  GO_Biological_Process_2023   \n",
       "\n",
       "                                                       gs  gs_unique_overlap  \\\n",
       "337043            Nervous System Development (GO:0007399)                 11   \n",
       "198856            Nervous System Development (GO:0007399)                  9   \n",
       "197176    Central Nervous System Development (GO:0007417)                  7   \n",
       "335363    Central Nervous System Development (GO:0007417)                  8   \n",
       "518256  Myelination In Peripheral Nervous System (GO:0...                  1   \n",
       "...                                                   ...                ...   \n",
       "220900  Peripheral Nervous System Neuron Development (...                  1   \n",
       "215482  Regulation Of Nervous System Process (GO:0031644)                  1   \n",
       "214244  Positive Regulation Of Nervous System Process ...                  1   \n",
       "328352    Enteric Nervous System Development (GO:0048484)                  1   \n",
       "439088  Peripheral Nervous System Axon Ensheathment (G...                  1   \n",
       "\n",
       "          data   expected         p  \n",
       "337043  13/115  422/19000  0.000002  \n",
       "198856   11/87  424/19000  0.000004  \n",
       "197176    8/87  276/19000  0.000046  \n",
       "335363   9/115  275/19000  0.000055  \n",
       "518256    2/19   11/19000  0.000073  \n",
       "...        ...        ...       ...  \n",
       "220900   1/178    4/19000  0.045559  \n",
       "215482   2/354   17/19000  0.046481  \n",
       "214244   2/354   17/19000  0.046481  \n",
       "328352   1/154    5/19000  0.047287  \n",
       "439088   1/118    7/19000  0.048333  \n",
       "\n",
       "[91 rows x 10 columns]"
      ]
     },
     "execution_count": 320,
     "metadata": {},
     "output_type": "execute_result"
    }
   ],
   "source": [
    "gse_results[gse_results['gs'].str.contains('Neurogenesis|Nervous')].query('p < 0.05').sort_values(by = 'p')"
   ]
  },
  {
   "cell_type": "code",
   "execution_count": 271,
   "id": "db04383a-151b-46a5-bc2f-95784824d8e9",
   "metadata": {},
   "outputs": [
    {
     "data": {
      "text/plain": [
       "['Negative Regulation Of Neurogenesis (GO:0050768)',\n",
       " 'Neurogenesis (GO:0022008)',\n",
       " 'Positive Regulation Of Neurogenesis (GO:0050769)',\n",
       " 'Regulation Of Neurogenesis (GO:0050767)']"
      ]
     },
     "execution_count": 271,
     "metadata": {},
     "output_type": "execute_result"
    }
   ],
   "source": [
    "[g for g in gs['GO_Biological_Process_2023'].keys() if 'neurogenesis' in g.lower()]"
   ]
  },
  {
   "cell_type": "code",
   "execution_count": null,
   "id": "6c25afbd-d21c-4de7-a448-75f49e82086d",
   "metadata": {},
   "outputs": [],
   "source": [
    "def calc_p_dev_rank()"
   ]
  }
 ],
 "metadata": {
  "kernelspec": {
   "display_name": "pediatric-germline-svs-3.7.13",
   "language": "python",
   "name": "pediatric-germline-svs-3.7.13"
  },
  "language_info": {
   "codemirror_mode": {
    "name": "ipython",
    "version": 3
   },
   "file_extension": ".py",
   "mimetype": "text/x-python",
   "name": "python",
   "nbconvert_exporter": "python",
   "pygments_lexer": "ipython3",
   "version": "3.7.13"
  }
 },
 "nbformat": 4,
 "nbformat_minor": 5
}
