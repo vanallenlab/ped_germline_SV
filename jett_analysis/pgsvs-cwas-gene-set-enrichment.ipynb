{
 "cells": [
  {
   "cell_type": "code",
   "execution_count": 1,
   "id": "7faf7828-a5a8-4a0c-bab2-1583e9b9bf26",
   "metadata": {},
   "outputs": [],
   "source": [
    "import glob\n",
    "from collections import defaultdict\n",
    "\n",
    "import gseapy as gp\n",
    "import matplotlib.pyplot as plt\n",
    "import numpy as np\n",
    "import pandas as pd\n",
    "import scipy\n",
    "import seaborn as sns\n",
    "from scripts import aesthetics\n",
    "\n",
    "aesthetics.activate_paper_rcParams()"
   ]
  },
  {
   "cell_type": "code",
   "execution_count": 2,
   "id": "1727894e-e3fa-4c1d-9d87-e0ba4a25a790",
   "metadata": {},
   "outputs": [],
   "source": [
    "# efficient fishers tests\n",
    "import pyranges\n",
    "import statsmodels.stats.multitest"
   ]
  },
  {
   "cell_type": "markdown",
   "id": "2ff50573-913c-4d4a-85d2-2adcf20872ae",
   "metadata": {},
   "source": [
    "# CWAS Gene Set Enrichment\n",
    "\n",
    "In this notebook, we explore whether categories significantly enriched for SVs in cases vs. controls reflect any higher level biological process. One way to do this is with gene set enrichment."
   ]
  },
  {
   "cell_type": "markdown",
   "id": "03d4797b-4907-4f7a-872c-4dc2aae28825",
   "metadata": {},
   "source": [
    "# What is gene set enrichment anyway?\n",
    "\n",
    "The goal for this notebook is to try to ascribe some interpretability to these categories. One way to do that is to examine if these categories have relevant overlaps with gene sets, which might reflect some underlying biological process being impacted by SVs.\n",
    "\n",
    "Gene set enrichment is a general problem, and the exact method of tackling it depends on the nature of the data and the problem. I'll walk through and describe my approach next."
   ]
  },
  {
   "cell_type": "markdown",
   "id": "b3a9d992-af56-45c3-a993-6a9c9b125fd6",
   "metadata": {},
   "source": [
    "## How do we calculate things?\n",
    "\n",
    "There are two \"methods\" of gene set enrichment that I'd like to explore. Each is designed to answer a different question:\n",
    "\n",
    "1. Enrichment of a gene set in a category relative to the background reference\n",
    "2. Enrichment of a gene set _within a category_\n",
    "\n",
    "The difference between these two is subtle but important, and it comes down to the category size. The largest categories (like protein coding genes for coding SVs) cannot have enrichment for gene sets--after all, there is no \"background reference\" that is not in the category!\n",
    "\n",
    "The second approach fundamentally _controls for the pre-enrichment of a gene set in a category_. It will be significant when there is further SV enrichment beyond the pre-enrichment--put another way, when the \"signal\" is coming from a subset of the category that overlaps more with the gene set than other genes in the category.\n",
    "\n",
    "### Tests we'll explore\n",
    "\n",
    "__Pre-enrichment of categories__\n",
    "\n",
    "This is a fisher's exact test that explores pure overlap between categories and gene sets. Our contingency table is as follows:\n",
    "\n",
    "```\n",
    "number of genes in cat and gs | number of genes in cat and not gs\n",
    "number of genes in gs and not cat | number of genes not in cat and not in gs\n",
    "```\n",
    "\n",
    "This effectively examines the \"pre-enrichment\" of categories for gene sets and ignores the role of SVs. We've already examined this in pgsvs-extract-category-genes.\n",
    "\n",
    "__Dosage-ignoring gene effects__\n",
    "\n",
    "```\n",
    "number of genes affected by SVs in cat and gs | number of genes affected by SVs in cat and not gs\n",
    "number of genes affected by SVs in gs and not cat | number of genes affected by SVs not in cat and not in gs\n",
    "```\n",
    "\n",
    "This effectively subsets the above results to only those that are actually affected by SVs. This process ignores dosage beyond the first sample.\n",
    "\n",
    "__Full count approach__\n",
    "\n",
    "```\n",
    "count of genes affected by SVs in cat and gs | count of genes affected by SVs in cat and not gs\n",
    "count of genes affected by SVs in gs and not cat | count of genes affected by SVs not in cat and not gs\n",
    "```\n",
    "\n",
    "This is the \"broadest\" version of this question. It asks whether our observed SV counts in a category reflect enrichment of that gene set.\n",
    "\n",
    "__Binomial test__\n",
    "\n",
    "All of the above tests will \"break\" with large categories that complete contain gene sets (since there will be NO counts outside the category and inside the gene set, etc). The binomial test asks about gene set enrichment within a gene set. It asks \"what is the probability of observing at least as many SVs in this gene set, assuming random selection from our gene list in the category?\"\n",
    "\n",
    "There are tons of confouding influences here we should _maybe_ consider, but for now I'll just run the binomial test."
   ]
  },
  {
   "cell_type": "markdown",
   "id": "13dd9c2d-e951-42c6-9e3f-0f769f4ec9dc",
   "metadata": {},
   "source": [
    "# Load in the data\n",
    "\n",
    "We load in the SVs and dosages, which we'll need."
   ]
  },
  {
   "cell_type": "markdown",
   "id": "9f5ac656-9484-4cb2-b493-3dbae9c63129",
   "metadata": {
    "tags": []
   },
   "source": [
    "## Read in SVs, metadata, dosages, and reference genes"
   ]
  },
  {
   "cell_type": "code",
   "execution_count": 3,
   "id": "3fbde6e9-7298-45c9-a6b8-7596f5d4c033",
   "metadata": {},
   "outputs": [],
   "source": [
    "# define SVs and dosages for discovery and validation\n",
    "sv_path = \"gs://vanallen-pedsv-analysis/beds/archive/v2.5.2/PedSV.v2.5.2.full_cohort.analysis_samples.sites.bed.gz\"\n",
    "dosages_path = \"gs://vanallen-pedsv-analysis/beds/archive/v2.5.2/PedSV.v2.5.2.full_cohort.analysis_samples.allele_dosages.bed.gz\"\n",
    "\n",
    "# define metadata\n",
    "metadata_path = \"gs://vanallen-pedsv-analysis/sample_info/PedSV.v2.5.2.cohort_metadata.w_control_assignments.tsv.gz\"\n",
    "samples_path = \"gs://vanallen-pedsv-analysis/sample_info/PedSV.v2.5.2.final_analysis_cohort.samples.list\"\n",
    "\n",
    "gene_ref_path = \"data/CWAS data for Jett/gencode_hg38_protein_coding_genes_for_annotation_7_31_23 (1).txt\""
   ]
  },
  {
   "cell_type": "code",
   "execution_count": 4,
   "id": "690438a4-3874-464c-8ef7-cecfb7364742",
   "metadata": {},
   "outputs": [
    {
     "data": {
      "text/plain": [
       "19201"
      ]
     },
     "execution_count": 4,
     "metadata": {},
     "output_type": "execute_result"
    }
   ],
   "source": [
    "gene_ref = pd.read_csv(gene_ref_path)\n",
    "gene_ref = gene_ref[~gene_ref[\"value\"].str.startswith(\"ENSG00\")]\n",
    "gene_ref = sorted(set(gene_ref[\"value\"].tolist()))\n",
    "len(gene_ref)"
   ]
  },
  {
   "cell_type": "code",
   "execution_count": 5,
   "id": "a1c5e728-6e2c-4498-acb0-904bf6fd7ebb",
   "metadata": {},
   "outputs": [],
   "source": [
    "gene_lengths = pd.read_csv(\"data/cwas-results/gene-lengths.csv\").set_index('gene_name')['length']"
   ]
  },
  {
   "cell_type": "code",
   "execution_count": 6,
   "id": "9643b8dc-53ed-49b7-98b0-0559502b52fc",
   "metadata": {},
   "outputs": [],
   "source": [
    "intergenic_sv_to_gene_distances = pd.read_csv('data/cwas-results/intergenic-sv-to-gene-distances.csv')"
   ]
  },
  {
   "cell_type": "markdown",
   "id": "8085c096-1ea6-4a62-ae31-87ea9afde972",
   "metadata": {},
   "source": [
    "Load metadata and SVs"
   ]
  },
  {
   "cell_type": "code",
   "execution_count": 7,
   "id": "258b57d3-0c78-46c7-801f-62ac188508af",
   "metadata": {},
   "outputs": [
    {
     "name": "stdout",
     "output_type": "stream",
     "text": [
      "neuroblastoma case 688\n",
      "neuroblastoma control 4831\n",
      "ewing case 775\n",
      "ewing control 4574\n",
      "osteosarcoma case 284\n",
      "osteosarcoma control 4817\n"
     ]
    }
   ],
   "source": [
    "metadata = pd.read_csv(\n",
    "    metadata_path,\n",
    "    sep=\"\\t\",\n",
    ")\n",
    "\n",
    "# add a sex label to metadata\n",
    "metadata[\"sex\"] = (metadata[\"chrX_CopyNumber\"].round() < 2).astype(int)\n",
    "\n",
    "###############\n",
    "### Samples ###\n",
    "###############\n",
    "samples = defaultdict(dict)\n",
    "\n",
    "total_samples = []\n",
    "for disease in [\"neuroblastoma\", \"ewing\", \"osteosarcoma\"]:\n",
    "    for cohort in [\"case\", \"control\"]:\n",
    "        disease_cohort_samples = metadata[(metadata[f\"{disease}_{cohort}\"] == True)][\n",
    "            \"entity:sample_id\"\n",
    "        ].tolist()\n",
    "\n",
    "        samples[disease][cohort] = disease_cohort_samples\n",
    "        total_samples += disease_cohort_samples\n",
    "\n",
    "        print(disease, cohort, len(disease_cohort_samples))\n",
    "\n",
    "total_samples = sorted(set(total_samples))"
   ]
  },
  {
   "cell_type": "markdown",
   "id": "9f7209b0-7630-4502-a796-5eb7faac61c1",
   "metadata": {},
   "source": [
    "Now we load the SVs."
   ]
  },
  {
   "cell_type": "code",
   "execution_count": 8,
   "id": "c3304748-d6f6-4e28-aea1-75fc7ddf24bc",
   "metadata": {},
   "outputs": [
    {
     "name": "stderr",
     "output_type": "stream",
     "text": [
      "/Users/jettcrowdis/opt/anaconda3/envs/pediatric-germline-svs-3.7.13/lib/python3.7/site-packages/IPython/core/interactiveshell.py:3457: DtypeWarning: Columns (10,34,35,37,39,41,45,46,47,48) have mixed types.Specify dtype option on import or set low_memory=False.\n",
      "  exec(code_obj, self.user_global_ns, self.user_ns)\n"
     ]
    }
   ],
   "source": [
    "###############\n",
    "##### SVs #####\n",
    "###############\n",
    "svs = pd.read_csv(sv_path, sep=\"\\t\", usecols=range(49))\n",
    "\n",
    "###############\n",
    "### Dosages ###\n",
    "###############=\n",
    "\n",
    "# we only need the dosages of our samples in question\n",
    "dosage_head = pd.read_csv(dosages_path, sep=\"\\t\", index_col=False, nrows=1)\n",
    "\n",
    "cols = [3] + [i for i, c in enumerate(dosage_head.columns) if c in total_samples]\n",
    "\n",
    "dosages = pd.read_csv(dosages_path, sep=\"\\t\", index_col=False, usecols=cols)"
   ]
  },
  {
   "cell_type": "code",
   "execution_count": 9,
   "id": "7c87ebcd-96a7-4188-8779-d1c9fc51b5b4",
   "metadata": {},
   "outputs": [],
   "source": [
    "dosages = dosages.set_index(\"ID\")"
   ]
  },
  {
   "cell_type": "markdown",
   "id": "5ddae480-1a7e-4b4c-bdee-791c0d2b92f7",
   "metadata": {},
   "source": [
    "Add the intergenic distances, if relevant"
   ]
  },
  {
   "cell_type": "code",
   "execution_count": 10,
   "id": "ef2e8fdd-6b6c-413d-bf1c-40ae0219b67b",
   "metadata": {},
   "outputs": [],
   "source": [
    "svs = svs.merge(intergenic_sv_to_gene_distances[['name', 'distance']].rename(columns = {'distance': 'distance_to_nearest_gene'}), \n",
    "          on = 'name', how = 'left')"
   ]
  },
  {
   "cell_type": "code",
   "execution_count": 11,
   "id": "b5a9510a-2846-4df4-9e5f-baf5fa11383a",
   "metadata": {},
   "outputs": [
    {
     "data": {
      "text/plain": [
       "(228943, 50)"
      ]
     },
     "execution_count": 11,
     "metadata": {},
     "output_type": "execute_result"
    }
   ],
   "source": [
    "svs.shape"
   ]
  },
  {
   "cell_type": "markdown",
   "id": "6c264bfd-5be9-4974-9736-2950eeae1a5f",
   "metadata": {},
   "source": [
    "## Read in category genes"
   ]
  },
  {
   "cell_type": "code",
   "execution_count": 62,
   "id": "6defc50a-d589-4b4f-9cfc-4f5baca70b1e",
   "metadata": {},
   "outputs": [],
   "source": [
    "category_gene_matrix = pd.read_csv(\n",
    "    \"data/cwas-results/category-gene-matrix.csv\"\n",
    ").set_index(\"category\")"
   ]
  },
  {
   "cell_type": "code",
   "execution_count": 63,
   "id": "9ed59fce-57a7-4785-8228-7240450563b2",
   "metadata": {},
   "outputs": [
    {
     "data": {
      "text/html": [
       "<div>\n",
       "<style scoped>\n",
       "    .dataframe tbody tr th:only-of-type {\n",
       "        vertical-align: middle;\n",
       "    }\n",
       "\n",
       "    .dataframe tbody tr th {\n",
       "        vertical-align: top;\n",
       "    }\n",
       "\n",
       "    .dataframe thead th {\n",
       "        text-align: right;\n",
       "    }\n",
       "</style>\n",
       "<table border=\"1\" class=\"dataframe\">\n",
       "  <thead>\n",
       "    <tr style=\"text-align: right;\">\n",
       "      <th></th>\n",
       "      <th>A1BG</th>\n",
       "      <th>A1CF</th>\n",
       "      <th>A2M</th>\n",
       "      <th>A2ML1</th>\n",
       "      <th>A3GALT2</th>\n",
       "      <th>A4GALT</th>\n",
       "      <th>A4GNT</th>\n",
       "      <th>AAAS</th>\n",
       "      <th>AACS</th>\n",
       "      <th>AADAC</th>\n",
       "      <th>...</th>\n",
       "      <th>ZWILCH</th>\n",
       "      <th>ZWINT</th>\n",
       "      <th>ZXDA</th>\n",
       "      <th>ZXDB</th>\n",
       "      <th>ZXDC</th>\n",
       "      <th>ZYG11A</th>\n",
       "      <th>ZYG11B</th>\n",
       "      <th>ZYX</th>\n",
       "      <th>ZZEF1</th>\n",
       "      <th>ZZZ3</th>\n",
       "    </tr>\n",
       "    <tr>\n",
       "      <th>category</th>\n",
       "      <th></th>\n",
       "      <th></th>\n",
       "      <th></th>\n",
       "      <th></th>\n",
       "      <th></th>\n",
       "      <th></th>\n",
       "      <th></th>\n",
       "      <th></th>\n",
       "      <th></th>\n",
       "      <th></th>\n",
       "      <th></th>\n",
       "      <th></th>\n",
       "      <th></th>\n",
       "      <th></th>\n",
       "      <th></th>\n",
       "      <th></th>\n",
       "      <th></th>\n",
       "      <th></th>\n",
       "      <th></th>\n",
       "      <th></th>\n",
       "      <th></th>\n",
       "    </tr>\n",
       "  </thead>\n",
       "  <tbody>\n",
       "    <tr>\n",
       "      <th>DEL.SINGLETON.ANY.unconstrained.expressed_in_adrenal_gland.protein_coding</th>\n",
       "      <td>0</td>\n",
       "      <td>0</td>\n",
       "      <td>0</td>\n",
       "      <td>0</td>\n",
       "      <td>0</td>\n",
       "      <td>1</td>\n",
       "      <td>0</td>\n",
       "      <td>0</td>\n",
       "      <td>1</td>\n",
       "      <td>0</td>\n",
       "      <td>...</td>\n",
       "      <td>0</td>\n",
       "      <td>0</td>\n",
       "      <td>0</td>\n",
       "      <td>0</td>\n",
       "      <td>0</td>\n",
       "      <td>0</td>\n",
       "      <td>0</td>\n",
       "      <td>1</td>\n",
       "      <td>0</td>\n",
       "      <td>0</td>\n",
       "    </tr>\n",
       "    <tr>\n",
       "      <th>DEL.SINGLETON.ANY.unconstrained.ANY.protein_coding</th>\n",
       "      <td>1</td>\n",
       "      <td>0</td>\n",
       "      <td>0</td>\n",
       "      <td>0</td>\n",
       "      <td>1</td>\n",
       "      <td>1</td>\n",
       "      <td>0</td>\n",
       "      <td>0</td>\n",
       "      <td>1</td>\n",
       "      <td>0</td>\n",
       "      <td>...</td>\n",
       "      <td>1</td>\n",
       "      <td>1</td>\n",
       "      <td>1</td>\n",
       "      <td>0</td>\n",
       "      <td>0</td>\n",
       "      <td>0</td>\n",
       "      <td>0</td>\n",
       "      <td>1</td>\n",
       "      <td>0</td>\n",
       "      <td>0</td>\n",
       "    </tr>\n",
       "  </tbody>\n",
       "</table>\n",
       "<p>2 rows × 19092 columns</p>\n",
       "</div>"
      ],
      "text/plain": [
       "                                                    A1BG  A1CF  A2M  A2ML1  \\\n",
       "category                                                                     \n",
       "DEL.SINGLETON.ANY.unconstrained.expressed_in_ad...     0     0    0      0   \n",
       "DEL.SINGLETON.ANY.unconstrained.ANY.protein_coding     1     0    0      0   \n",
       "\n",
       "                                                    A3GALT2  A4GALT  A4GNT  \\\n",
       "category                                                                     \n",
       "DEL.SINGLETON.ANY.unconstrained.expressed_in_ad...        0       1      0   \n",
       "DEL.SINGLETON.ANY.unconstrained.ANY.protein_coding        1       1      0   \n",
       "\n",
       "                                                    AAAS  AACS  AADAC  ...  \\\n",
       "category                                                               ...   \n",
       "DEL.SINGLETON.ANY.unconstrained.expressed_in_ad...     0     1      0  ...   \n",
       "DEL.SINGLETON.ANY.unconstrained.ANY.protein_coding     0     1      0  ...   \n",
       "\n",
       "                                                    ZWILCH  ZWINT  ZXDA  ZXDB  \\\n",
       "category                                                                        \n",
       "DEL.SINGLETON.ANY.unconstrained.expressed_in_ad...       0      0     0     0   \n",
       "DEL.SINGLETON.ANY.unconstrained.ANY.protein_coding       1      1     1     0   \n",
       "\n",
       "                                                    ZXDC  ZYG11A  ZYG11B  ZYX  \\\n",
       "category                                                                        \n",
       "DEL.SINGLETON.ANY.unconstrained.expressed_in_ad...     0       0       0    1   \n",
       "DEL.SINGLETON.ANY.unconstrained.ANY.protein_coding     0       0       0    1   \n",
       "\n",
       "                                                    ZZEF1  ZZZ3  \n",
       "category                                                         \n",
       "DEL.SINGLETON.ANY.unconstrained.expressed_in_ad...      0     0  \n",
       "DEL.SINGLETON.ANY.unconstrained.ANY.protein_coding      0     0  \n",
       "\n",
       "[2 rows x 19092 columns]"
      ]
     },
     "execution_count": 63,
     "metadata": {},
     "output_type": "execute_result"
    }
   ],
   "source": [
    "category_gene_matrix.head(2)"
   ]
  },
  {
   "cell_type": "code",
   "execution_count": 64,
   "id": "204fe4d1-f5b4-4b00-a48d-66be342339d3",
   "metadata": {},
   "outputs": [],
   "source": [
    "gene_ref = list(category_gene_matrix.columns)"
   ]
  },
  {
   "cell_type": "markdown",
   "id": "8bc80f52-735d-46f2-bb38-2032ea169030",
   "metadata": {},
   "source": [
    "## Read in the category results\n",
    "\n",
    "I'm going to concatenate all this data so that I'm only dealing with a few files."
   ]
  },
  {
   "cell_type": "code",
   "execution_count": 12,
   "id": "8d5a4d3e-cde0-49ad-bbd9-f6d668a22cbd",
   "metadata": {},
   "outputs": [
    {
     "data": {
      "text/html": [
       "<div>\n",
       "<style scoped>\n",
       "    .dataframe tbody tr th:only-of-type {\n",
       "        vertical-align: middle;\n",
       "    }\n",
       "\n",
       "    .dataframe tbody tr th {\n",
       "        vertical-align: top;\n",
       "    }\n",
       "\n",
       "    .dataframe thead th {\n",
       "        text-align: right;\n",
       "    }\n",
       "</style>\n",
       "<table border=\"1\" class=\"dataframe\">\n",
       "  <thead>\n",
       "    <tr style=\"text-align: right;\">\n",
       "      <th></th>\n",
       "      <th>SV</th>\n",
       "      <th>chrom</th>\n",
       "      <th>start</th>\n",
       "      <th>end</th>\n",
       "      <th>category</th>\n",
       "      <th>disease</th>\n",
       "      <th>sv_category</th>\n",
       "    </tr>\n",
       "  </thead>\n",
       "  <tbody>\n",
       "    <tr>\n",
       "      <th>0</th>\n",
       "      <td>PedSV.2.5.2_DUP_chr1_455</td>\n",
       "      <td>chr1</td>\n",
       "      <td>6720524</td>\n",
       "      <td>6722070</td>\n",
       "      <td>DUP.RARE.PREDICTED_NONCODING_BREAKPOINT.ewing_...</td>\n",
       "      <td>ewing</td>\n",
       "      <td>noncoding</td>\n",
       "    </tr>\n",
       "    <tr>\n",
       "      <th>1</th>\n",
       "      <td>PedSV.2.5.2_DUP_chr1_898</td>\n",
       "      <td>chr1</td>\n",
       "      <td>23649481</td>\n",
       "      <td>23651544</td>\n",
       "      <td>DUP.RARE.PREDICTED_NONCODING_BREAKPOINT.ewing_...</td>\n",
       "      <td>ewing</td>\n",
       "      <td>noncoding</td>\n",
       "    </tr>\n",
       "  </tbody>\n",
       "</table>\n",
       "</div>"
      ],
      "text/plain": [
       "                         SV chrom     start       end  \\\n",
       "0  PedSV.2.5.2_DUP_chr1_455  chr1   6720524   6722070   \n",
       "1  PedSV.2.5.2_DUP_chr1_898  chr1  23649481  23651544   \n",
       "\n",
       "                                            category disease sv_category  \n",
       "0  DUP.RARE.PREDICTED_NONCODING_BREAKPOINT.ewing_...   ewing   noncoding  \n",
       "1  DUP.RARE.PREDICTED_NONCODING_BREAKPOINT.ewing_...   ewing   noncoding  "
      ]
     },
     "execution_count": 12,
     "metadata": {},
     "output_type": "execute_result"
    }
   ],
   "source": [
    "###########\n",
    "### SVs ###\n",
    "###########\n",
    "category_svs = []\n",
    "for file in glob.glob(\"data/CWAS data for Jett/List of variants by category/*.txt\"):\n",
    "    disease = file.split(\"/\")[-1].split(\"_\")[0]\n",
    "\n",
    "    sv_category = \"noncoding\" if \"noncoding\" in file else \"coding\"\n",
    "\n",
    "    cat_svs = pd.read_csv(file, sep=\"\\t\").rename(columns={\"emd\": \"end\"})\n",
    "    cat_svs[[\"disease\", \"sv_category\"]] = [disease, sv_category]\n",
    "    category_svs.append(cat_svs)\n",
    "\n",
    "category_svs = pd.concat(category_svs)\n",
    "category_svs.head(2)"
   ]
  },
  {
   "cell_type": "code",
   "execution_count": 13,
   "id": "401f854f-6749-4333-9acb-36da395e9d93",
   "metadata": {},
   "outputs": [],
   "source": [
    "#########################\n",
    "### FRAMEWORK RESULTS ###\n",
    "#########################\n",
    "framework_results = []\n",
    "for file in glob.glob(\"data/CWAS data for Jett/CWAS sum stats/*.txt\"):\n",
    "    if \"12_26_23\" not in file:\n",
    "        continue\n",
    "\n",
    "    disease = file.split(\"/\")[-1].split(\"_\")[0]\n",
    "\n",
    "    sv_category = \"noncoding\" if \"noncoding\" in file else \"coding\"\n",
    "    af_category = \"singleton\" if \"SINGLETON\" in file else \"rare\"\n",
    "\n",
    "    data = pd.read_csv(file, sep=\"\\t\")\n",
    "    data[[\"disease\", \"sv_category\", \"af_category\"]] = [\n",
    "        disease,\n",
    "        sv_category,\n",
    "        af_category,\n",
    "    ]\n",
    "    framework_results.append(data)\n",
    "\n",
    "framework_results = pd.concat(framework_results)"
   ]
  },
  {
   "cell_type": "code",
   "execution_count": 32,
   "id": "825b3f41-8ff5-4abf-9af2-69da2322d479",
   "metadata": {},
   "outputs": [],
   "source": [
    "row = svs[svs['name'] == 'PedSV.2.5.2_DEL_chr19_6025'].iloc[0]"
   ]
  },
  {
   "cell_type": "code",
   "execution_count": 33,
   "id": "393b5ae1-b6b8-4556-bcb5-e8255e56331d",
   "metadata": {},
   "outputs": [
    {
     "data": {
      "text/plain": [
       "#chrom                                                                        chr19\n",
       "start                                                                      45317511\n",
       "end                                                                        45319056\n",
       "name                                                     PedSV.2.5.2_DEL_chr19_6025\n",
       "svtype                                                                          DEL\n",
       "AC                                                                                1\n",
       "AF                                                                         0.000074\n",
       "ALGORITHMS                                                                     wham\n",
       "AN                                                                            13462\n",
       "BOTHSIDES_SUPPORT                                                              True\n",
       "CHR2                                                                            NaN\n",
       "CNV_CONCORDANCE                                                                 NaN\n",
       "CPX_INTERVALS                                                                   NaN\n",
       "CPX_TYPE                                                                        NaN\n",
       "END                                                                        45319056\n",
       "END2                                                                            NaN\n",
       "EVIDENCE                                                                   PE,RD,SR\n",
       "FAILED_COHORT_COMPARISONS                                                       NaN\n",
       "GENOTYPE_CONCORDANCE                                                            1.0\n",
       "HET_PPV                                                                         1.0\n",
       "HET_SENSITIVITY                                                                 1.0\n",
       "HG38_REF_PATCH_LOCUS                                                          False\n",
       "HIGH_SR_BACKGROUND                                                            False\n",
       "HOMVAR_PPV                                                                      NaN\n",
       "HOMVAR_SENSITIVITY                                                              NaN\n",
       "MINSL                                                                         -12.0\n",
       "NCN                                                                               0\n",
       "NCR                                                                             0.0\n",
       "NCR_TMP                                                                         NaN\n",
       "NON_REF_GENOTYPE_CONCORDANCE                                                    1.0\n",
       "OLD_ID                            All_20_Batches.chr19.final_cleanup_DEL_chr19_6920\n",
       "PCRMINUS_NCR                                                                    0.0\n",
       "PESR_GT_OVERDISPERSION                                                        False\n",
       "PREDICTED_BREAKEND_EXONIC                                                       NaN\n",
       "PREDICTED_COPY_GAIN                                                             NaN\n",
       "PREDICTED_DUP_PARTIAL                                                           NaN\n",
       "PREDICTED_INTERGENIC                                                          False\n",
       "PREDICTED_INTRAGENIC_EXON_DUP                                                   NaN\n",
       "PREDICTED_INTRONIC                                                              NaN\n",
       "PREDICTED_INV_SPAN                                                              NaN\n",
       "PREDICTED_LOF                                                                   CKM\n",
       "PREDICTED_MSV_EXON_OVERLAP                                                      NaN\n",
       "PREDICTED_NEAREST_TSS                                                           NaN\n",
       "PREDICTED_NONCODING_BREAKPOINT                                   ewing_H3K27Ac_peak\n",
       "PREDICTED_NONCODING_SPAN          neuroblastoma_chromHMM15_EnhBiv_conserved,reco...\n",
       "PREDICTED_PARTIAL_EXON_DUP                                                      NaN\n",
       "PREDICTED_PROMOTER                                                              NaN\n",
       "PREDICTED_TSS_DUP                                                               NaN\n",
       "PREDICTED_UTR                                                                   NaN\n",
       "distance_to_nearest_gene                                                        NaN\n",
       "num_genes_coding                                                                  1\n",
       "genes_coding                                                                    CKM\n",
       "num_genes_noncoding                                                               0\n",
       "genes_noncoding                                                                    \n",
       "num_genes_both                                                                    1\n",
       "genes_both                                                                      CKM\n",
       "Name: 205761, dtype: object"
      ]
     },
     "execution_count": 33,
     "metadata": {},
     "output_type": "execute_result"
    }
   ],
   "source": [
    "row"
   ]
  },
  {
   "cell_type": "code",
   "execution_count": 14,
   "id": "38dd1721-aadb-4b31-828e-0c2f088317ec",
   "metadata": {},
   "outputs": [
    {
     "data": {
      "text/html": [
       "<div>\n",
       "<style scoped>\n",
       "    .dataframe tbody tr th:only-of-type {\n",
       "        vertical-align: middle;\n",
       "    }\n",
       "\n",
       "    .dataframe tbody tr th {\n",
       "        vertical-align: top;\n",
       "    }\n",
       "\n",
       "    .dataframe thead th {\n",
       "        text-align: right;\n",
       "    }\n",
       "</style>\n",
       "<table border=\"1\" class=\"dataframe\">\n",
       "  <thead>\n",
       "    <tr style=\"text-align: right;\">\n",
       "      <th></th>\n",
       "      <th>point_estimate</th>\n",
       "      <th>std_error</th>\n",
       "      <th>z_score</th>\n",
       "      <th>p_value</th>\n",
       "      <th>SV_counts_cases</th>\n",
       "      <th>SV_counts_cases_max</th>\n",
       "      <th>number_of_cases_with_zero_SVs</th>\n",
       "      <th>total_cases</th>\n",
       "      <th>SV_counts_controls</th>\n",
       "      <th>SV_counts_controls_max</th>\n",
       "      <th>...</th>\n",
       "      <th>category_name</th>\n",
       "      <th>sv_type</th>\n",
       "      <th>frequency</th>\n",
       "      <th>mean_SVs_per_case</th>\n",
       "      <th>mean_SVs_per_control</th>\n",
       "      <th>mean_SVs_total</th>\n",
       "      <th>negative_log10_p_value</th>\n",
       "      <th>disease</th>\n",
       "      <th>sv_category</th>\n",
       "      <th>af_category</th>\n",
       "    </tr>\n",
       "  </thead>\n",
       "  <tbody>\n",
       "    <tr>\n",
       "      <th>0</th>\n",
       "      <td>0.175033</td>\n",
       "      <td>0.771178</td>\n",
       "      <td>0.226968</td>\n",
       "      <td>0.820448</td>\n",
       "      <td>2</td>\n",
       "      <td>1</td>\n",
       "      <td>644</td>\n",
       "      <td>646</td>\n",
       "      <td>12</td>\n",
       "      <td>1</td>\n",
       "      <td>...</td>\n",
       "      <td>DEL.SINGLETON.ANY.missense_constrained.ANY.sig...</td>\n",
       "      <td>DEL</td>\n",
       "      <td>SINGLETON</td>\n",
       "      <td>0.003096</td>\n",
       "      <td>0.002554</td>\n",
       "      <td>0.002619</td>\n",
       "      <td>0.085949</td>\n",
       "      <td>neuroblastoma</td>\n",
       "      <td>coding</td>\n",
       "      <td>singleton</td>\n",
       "    </tr>\n",
       "    <tr>\n",
       "      <th>1</th>\n",
       "      <td>0.245302</td>\n",
       "      <td>0.150614</td>\n",
       "      <td>1.628679</td>\n",
       "      <td>0.103381</td>\n",
       "      <td>53</td>\n",
       "      <td>1</td>\n",
       "      <td>593</td>\n",
       "      <td>646</td>\n",
       "      <td>309</td>\n",
       "      <td>2</td>\n",
       "      <td>...</td>\n",
       "      <td>DEL.SINGLETON.ANY.unconstrained.expressed_in_a...</td>\n",
       "      <td>DEL</td>\n",
       "      <td>SINGLETON</td>\n",
       "      <td>0.082043</td>\n",
       "      <td>0.065759</td>\n",
       "      <td>0.067727</td>\n",
       "      <td>0.985559</td>\n",
       "      <td>neuroblastoma</td>\n",
       "      <td>coding</td>\n",
       "      <td>singleton</td>\n",
       "    </tr>\n",
       "  </tbody>\n",
       "</table>\n",
       "<p>2 rows × 23 columns</p>\n",
       "</div>"
      ],
      "text/plain": [
       "   point_estimate  std_error   z_score   p_value  SV_counts_cases  \\\n",
       "0        0.175033   0.771178  0.226968  0.820448                2   \n",
       "1        0.245302   0.150614  1.628679  0.103381               53   \n",
       "\n",
       "   SV_counts_cases_max  number_of_cases_with_zero_SVs  total_cases  \\\n",
       "0                    1                            644          646   \n",
       "1                    1                            593          646   \n",
       "\n",
       "   SV_counts_controls  SV_counts_controls_max  ...  \\\n",
       "0                  12                       1  ...   \n",
       "1                 309                       2  ...   \n",
       "\n",
       "                                       category_name  sv_type  frequency  \\\n",
       "0  DEL.SINGLETON.ANY.missense_constrained.ANY.sig...      DEL  SINGLETON   \n",
       "1  DEL.SINGLETON.ANY.unconstrained.expressed_in_a...      DEL  SINGLETON   \n",
       "\n",
       "  mean_SVs_per_case mean_SVs_per_control mean_SVs_total  \\\n",
       "0          0.003096             0.002554       0.002619   \n",
       "1          0.082043             0.065759       0.067727   \n",
       "\n",
       "   negative_log10_p_value        disease  sv_category  af_category  \n",
       "0                0.085949  neuroblastoma       coding    singleton  \n",
       "1                0.985559  neuroblastoma       coding    singleton  \n",
       "\n",
       "[2 rows x 23 columns]"
      ]
     },
     "execution_count": 14,
     "metadata": {},
     "output_type": "execute_result"
    }
   ],
   "source": [
    "framework_results.head(2)"
   ]
  },
  {
   "cell_type": "code",
   "execution_count": 15,
   "id": "ab6d937b-f522-419b-b24d-20647f00ba8f",
   "metadata": {},
   "outputs": [],
   "source": [
    "framework_schema = defaultdict(dict)\n",
    "for file in glob.glob(\"data/CWAS data for Jett/CWAS frameworks/*.txt\"):\n",
    "\n",
    "    sv_category = \"noncoding\" if \"noncoding\" in file else \"coding\"\n",
    "    suffix = file.split(\"/\")[-1]\n",
    "    if sv_category == \"coding\":\n",
    "        disease = suffix.split('_')[2]\n",
    "    else:\n",
    "        disease = suffix.split('_')[3]\n",
    "\n",
    "    data = pd.read_csv(file, sep=\"\\t\")\n",
    "    framework_schema[disease][sv_category] = data"
   ]
  },
  {
   "cell_type": "code",
   "execution_count": 16,
   "id": "ce700ab9-de05-45c3-bb97-4e49143a3437",
   "metadata": {},
   "outputs": [
    {
     "data": {
      "text/html": [
       "<div>\n",
       "<style scoped>\n",
       "    .dataframe tbody tr th:only-of-type {\n",
       "        vertical-align: middle;\n",
       "    }\n",
       "\n",
       "    .dataframe tbody tr th {\n",
       "        vertical-align: top;\n",
       "    }\n",
       "\n",
       "    .dataframe thead th {\n",
       "        text-align: right;\n",
       "    }\n",
       "</style>\n",
       "<table border=\"1\" class=\"dataframe\">\n",
       "  <thead>\n",
       "    <tr style=\"text-align: right;\">\n",
       "      <th></th>\n",
       "      <th>sv_type</th>\n",
       "      <th>frequency</th>\n",
       "      <th>functional_intersection</th>\n",
       "      <th>functional_category</th>\n",
       "      <th>genic_relationship</th>\n",
       "      <th>constraint</th>\n",
       "      <th>expression</th>\n",
       "      <th>gene_group</th>\n",
       "    </tr>\n",
       "  </thead>\n",
       "  <tbody>\n",
       "    <tr>\n",
       "      <th>0</th>\n",
       "      <td>DUP</td>\n",
       "      <td>RARE</td>\n",
       "      <td>PREDICTED_NONCODING_BREAKPOINT</td>\n",
       "      <td>neuroblastoma_atac_peaks</td>\n",
       "      <td>PREDICTED_INTERGENIC</td>\n",
       "      <td>lof_constrained</td>\n",
       "      <td>expressed_in_adrenal_gland</td>\n",
       "      <td>protein_coding</td>\n",
       "    </tr>\n",
       "    <tr>\n",
       "      <th>1</th>\n",
       "      <td>DEL</td>\n",
       "      <td>SINGLETON</td>\n",
       "      <td>PREDICTED_NONCODING_SPAN</td>\n",
       "      <td>neuroblastoma_chromHMM15_Enh</td>\n",
       "      <td>PREDICTED_INTRONIC</td>\n",
       "      <td>ANY</td>\n",
       "      <td>ANY</td>\n",
       "      <td>cosmic_and_germline_CPGs</td>\n",
       "    </tr>\n",
       "    <tr>\n",
       "      <th>2</th>\n",
       "      <td>CPX_or_INV</td>\n",
       "      <td>NaN</td>\n",
       "      <td>ANY</td>\n",
       "      <td>neuroblastoma_chromHMM15_Enh_conserved</td>\n",
       "      <td>PREDICTED_PROMOTER</td>\n",
       "      <td>NaN</td>\n",
       "      <td>NaN</td>\n",
       "      <td>NaN</td>\n",
       "    </tr>\n",
       "    <tr>\n",
       "      <th>3</th>\n",
       "      <td>INS_ALL</td>\n",
       "      <td>NaN</td>\n",
       "      <td>NaN</td>\n",
       "      <td>neuroblastoma_chromHMM15_EnhG</td>\n",
       "      <td>PREDICTED_UTR</td>\n",
       "      <td>NaN</td>\n",
       "      <td>NaN</td>\n",
       "      <td>NaN</td>\n",
       "    </tr>\n",
       "    <tr>\n",
       "      <th>4</th>\n",
       "      <td>ANY</td>\n",
       "      <td>NaN</td>\n",
       "      <td>NaN</td>\n",
       "      <td>neuroblastoma_chromHMM15_EnhG_conserved</td>\n",
       "      <td>ANY</td>\n",
       "      <td>NaN</td>\n",
       "      <td>NaN</td>\n",
       "      <td>NaN</td>\n",
       "    </tr>\n",
       "    <tr>\n",
       "      <th>5</th>\n",
       "      <td>NaN</td>\n",
       "      <td>NaN</td>\n",
       "      <td>NaN</td>\n",
       "      <td>neuroblastoma_H3K27Ac_peak</td>\n",
       "      <td>NaN</td>\n",
       "      <td>NaN</td>\n",
       "      <td>NaN</td>\n",
       "      <td>NaN</td>\n",
       "    </tr>\n",
       "    <tr>\n",
       "      <th>6</th>\n",
       "      <td>NaN</td>\n",
       "      <td>NaN</td>\n",
       "      <td>NaN</td>\n",
       "      <td>neuroblastoma_chromHMM15_TssAFlnk</td>\n",
       "      <td>NaN</td>\n",
       "      <td>NaN</td>\n",
       "      <td>NaN</td>\n",
       "      <td>NaN</td>\n",
       "    </tr>\n",
       "    <tr>\n",
       "      <th>7</th>\n",
       "      <td>NaN</td>\n",
       "      <td>NaN</td>\n",
       "      <td>NaN</td>\n",
       "      <td>neuroblastoma_ABC_MAX_enhancer</td>\n",
       "      <td>NaN</td>\n",
       "      <td>NaN</td>\n",
       "      <td>NaN</td>\n",
       "      <td>NaN</td>\n",
       "    </tr>\n",
       "    <tr>\n",
       "      <th>8</th>\n",
       "      <td>NaN</td>\n",
       "      <td>NaN</td>\n",
       "      <td>NaN</td>\n",
       "      <td>neuroblastoma_atac_peaks_conserved</td>\n",
       "      <td>NaN</td>\n",
       "      <td>NaN</td>\n",
       "      <td>NaN</td>\n",
       "      <td>NaN</td>\n",
       "    </tr>\n",
       "    <tr>\n",
       "      <th>9</th>\n",
       "      <td>NaN</td>\n",
       "      <td>NaN</td>\n",
       "      <td>NaN</td>\n",
       "      <td>neuroblastoma_chromHMM15_EnhBiv</td>\n",
       "      <td>NaN</td>\n",
       "      <td>NaN</td>\n",
       "      <td>NaN</td>\n",
       "      <td>NaN</td>\n",
       "    </tr>\n",
       "    <tr>\n",
       "      <th>10</th>\n",
       "      <td>NaN</td>\n",
       "      <td>NaN</td>\n",
       "      <td>NaN</td>\n",
       "      <td>neuroblastoma_chromHMM15_EnhBiv_conserved</td>\n",
       "      <td>NaN</td>\n",
       "      <td>NaN</td>\n",
       "      <td>NaN</td>\n",
       "      <td>NaN</td>\n",
       "    </tr>\n",
       "    <tr>\n",
       "      <th>11</th>\n",
       "      <td>NaN</td>\n",
       "      <td>NaN</td>\n",
       "      <td>NaN</td>\n",
       "      <td>neuroblastoma_H3K27Ac_peak_conserved</td>\n",
       "      <td>NaN</td>\n",
       "      <td>NaN</td>\n",
       "      <td>NaN</td>\n",
       "      <td>NaN</td>\n",
       "    </tr>\n",
       "    <tr>\n",
       "      <th>12</th>\n",
       "      <td>NaN</td>\n",
       "      <td>NaN</td>\n",
       "      <td>NaN</td>\n",
       "      <td>neuroblastoma_encode_consensus_enhancers</td>\n",
       "      <td>NaN</td>\n",
       "      <td>NaN</td>\n",
       "      <td>NaN</td>\n",
       "      <td>NaN</td>\n",
       "    </tr>\n",
       "    <tr>\n",
       "      <th>13</th>\n",
       "      <td>NaN</td>\n",
       "      <td>NaN</td>\n",
       "      <td>NaN</td>\n",
       "      <td>neuroblastoma_encode_consensus_enhancers_conse...</td>\n",
       "      <td>NaN</td>\n",
       "      <td>NaN</td>\n",
       "      <td>NaN</td>\n",
       "      <td>NaN</td>\n",
       "    </tr>\n",
       "    <tr>\n",
       "      <th>14</th>\n",
       "      <td>NaN</td>\n",
       "      <td>NaN</td>\n",
       "      <td>NaN</td>\n",
       "      <td>neuroblastoma_ABC_MAX_enhancer_conserved</td>\n",
       "      <td>NaN</td>\n",
       "      <td>NaN</td>\n",
       "      <td>NaN</td>\n",
       "      <td>NaN</td>\n",
       "    </tr>\n",
       "    <tr>\n",
       "      <th>15</th>\n",
       "      <td>NaN</td>\n",
       "      <td>NaN</td>\n",
       "      <td>NaN</td>\n",
       "      <td>neuroblastoma_tad_boundary</td>\n",
       "      <td>NaN</td>\n",
       "      <td>NaN</td>\n",
       "      <td>NaN</td>\n",
       "      <td>NaN</td>\n",
       "    </tr>\n",
       "    <tr>\n",
       "      <th>16</th>\n",
       "      <td>NaN</td>\n",
       "      <td>NaN</td>\n",
       "      <td>NaN</td>\n",
       "      <td>neuroblastoma_chromHMM15_TssAFlnk_conserved</td>\n",
       "      <td>NaN</td>\n",
       "      <td>NaN</td>\n",
       "      <td>NaN</td>\n",
       "      <td>NaN</td>\n",
       "    </tr>\n",
       "    <tr>\n",
       "      <th>17</th>\n",
       "      <td>NaN</td>\n",
       "      <td>NaN</td>\n",
       "      <td>NaN</td>\n",
       "      <td>neuroblastoma_tad_boundary_conserved</td>\n",
       "      <td>NaN</td>\n",
       "      <td>NaN</td>\n",
       "      <td>NaN</td>\n",
       "      <td>NaN</td>\n",
       "    </tr>\n",
       "    <tr>\n",
       "      <th>18</th>\n",
       "      <td>NaN</td>\n",
       "      <td>NaN</td>\n",
       "      <td>NaN</td>\n",
       "      <td>recombination_hotspot</td>\n",
       "      <td>NaN</td>\n",
       "      <td>NaN</td>\n",
       "      <td>NaN</td>\n",
       "      <td>NaN</td>\n",
       "    </tr>\n",
       "    <tr>\n",
       "      <th>19</th>\n",
       "      <td>NaN</td>\n",
       "      <td>NaN</td>\n",
       "      <td>NaN</td>\n",
       "      <td>recombination_hotspot_conserved</td>\n",
       "      <td>NaN</td>\n",
       "      <td>NaN</td>\n",
       "      <td>NaN</td>\n",
       "      <td>NaN</td>\n",
       "    </tr>\n",
       "    <tr>\n",
       "      <th>20</th>\n",
       "      <td>NaN</td>\n",
       "      <td>NaN</td>\n",
       "      <td>NaN</td>\n",
       "      <td>UCNE</td>\n",
       "      <td>NaN</td>\n",
       "      <td>NaN</td>\n",
       "      <td>NaN</td>\n",
       "      <td>NaN</td>\n",
       "    </tr>\n",
       "    <tr>\n",
       "      <th>21</th>\n",
       "      <td>NaN</td>\n",
       "      <td>NaN</td>\n",
       "      <td>NaN</td>\n",
       "      <td>fragile_site</td>\n",
       "      <td>NaN</td>\n",
       "      <td>NaN</td>\n",
       "      <td>NaN</td>\n",
       "      <td>NaN</td>\n",
       "    </tr>\n",
       "  </tbody>\n",
       "</table>\n",
       "</div>"
      ],
      "text/plain": [
       "       sv_type  frequency         functional_intersection  \\\n",
       "0          DUP       RARE  PREDICTED_NONCODING_BREAKPOINT   \n",
       "1          DEL  SINGLETON        PREDICTED_NONCODING_SPAN   \n",
       "2   CPX_or_INV        NaN                             ANY   \n",
       "3      INS_ALL        NaN                             NaN   \n",
       "4          ANY        NaN                             NaN   \n",
       "5          NaN        NaN                             NaN   \n",
       "6          NaN        NaN                             NaN   \n",
       "7          NaN        NaN                             NaN   \n",
       "8          NaN        NaN                             NaN   \n",
       "9          NaN        NaN                             NaN   \n",
       "10         NaN        NaN                             NaN   \n",
       "11         NaN        NaN                             NaN   \n",
       "12         NaN        NaN                             NaN   \n",
       "13         NaN        NaN                             NaN   \n",
       "14         NaN        NaN                             NaN   \n",
       "15         NaN        NaN                             NaN   \n",
       "16         NaN        NaN                             NaN   \n",
       "17         NaN        NaN                             NaN   \n",
       "18         NaN        NaN                             NaN   \n",
       "19         NaN        NaN                             NaN   \n",
       "20         NaN        NaN                             NaN   \n",
       "21         NaN        NaN                             NaN   \n",
       "\n",
       "                                  functional_category    genic_relationship  \\\n",
       "0                            neuroblastoma_atac_peaks  PREDICTED_INTERGENIC   \n",
       "1                        neuroblastoma_chromHMM15_Enh    PREDICTED_INTRONIC   \n",
       "2              neuroblastoma_chromHMM15_Enh_conserved    PREDICTED_PROMOTER   \n",
       "3                       neuroblastoma_chromHMM15_EnhG         PREDICTED_UTR   \n",
       "4             neuroblastoma_chromHMM15_EnhG_conserved                   ANY   \n",
       "5                          neuroblastoma_H3K27Ac_peak                   NaN   \n",
       "6                   neuroblastoma_chromHMM15_TssAFlnk                   NaN   \n",
       "7                      neuroblastoma_ABC_MAX_enhancer                   NaN   \n",
       "8                  neuroblastoma_atac_peaks_conserved                   NaN   \n",
       "9                     neuroblastoma_chromHMM15_EnhBiv                   NaN   \n",
       "10          neuroblastoma_chromHMM15_EnhBiv_conserved                   NaN   \n",
       "11               neuroblastoma_H3K27Ac_peak_conserved                   NaN   \n",
       "12           neuroblastoma_encode_consensus_enhancers                   NaN   \n",
       "13  neuroblastoma_encode_consensus_enhancers_conse...                   NaN   \n",
       "14           neuroblastoma_ABC_MAX_enhancer_conserved                   NaN   \n",
       "15                         neuroblastoma_tad_boundary                   NaN   \n",
       "16        neuroblastoma_chromHMM15_TssAFlnk_conserved                   NaN   \n",
       "17               neuroblastoma_tad_boundary_conserved                   NaN   \n",
       "18                              recombination_hotspot                   NaN   \n",
       "19                    recombination_hotspot_conserved                   NaN   \n",
       "20                                               UCNE                   NaN   \n",
       "21                                       fragile_site                   NaN   \n",
       "\n",
       "         constraint                  expression                gene_group  \n",
       "0   lof_constrained  expressed_in_adrenal_gland            protein_coding  \n",
       "1               ANY                         ANY  cosmic_and_germline_CPGs  \n",
       "2               NaN                         NaN                       NaN  \n",
       "3               NaN                         NaN                       NaN  \n",
       "4               NaN                         NaN                       NaN  \n",
       "5               NaN                         NaN                       NaN  \n",
       "6               NaN                         NaN                       NaN  \n",
       "7               NaN                         NaN                       NaN  \n",
       "8               NaN                         NaN                       NaN  \n",
       "9               NaN                         NaN                       NaN  \n",
       "10              NaN                         NaN                       NaN  \n",
       "11              NaN                         NaN                       NaN  \n",
       "12              NaN                         NaN                       NaN  \n",
       "13              NaN                         NaN                       NaN  \n",
       "14              NaN                         NaN                       NaN  \n",
       "15              NaN                         NaN                       NaN  \n",
       "16              NaN                         NaN                       NaN  \n",
       "17              NaN                         NaN                       NaN  \n",
       "18              NaN                         NaN                       NaN  \n",
       "19              NaN                         NaN                       NaN  \n",
       "20              NaN                         NaN                       NaN  \n",
       "21              NaN                         NaN                       NaN  "
      ]
     },
     "execution_count": 16,
     "metadata": {},
     "output_type": "execute_result"
    }
   ],
   "source": [
    "framework_schema[\"neuroblastoma\"][\"noncoding\"]"
   ]
  },
  {
   "cell_type": "markdown",
   "id": "c227743a-e276-4132-848f-0be688d3ad3f",
   "metadata": {},
   "source": [
    "# Defining our reference gene counts\n",
    "\n",
    "Here we define our \"reference\" counts for the two fisher approaches. See this contingency table:\n",
    "\n",
    "```\n",
    "count of genes affected by SVs in cat and gs | count of genes affected by SVs in cat and not gs\n",
    "count of genes affected by SVs in gs and not cat | count of genes affected by SVs not in cat and not gs\n",
    "```\n",
    "\n",
    "This contingency table requires knowing `count of genes affected by SVs not in cat and not gs`, which means that effectively we need the gene counts across the genome.\n",
    "\n",
    "The issue is that this depends on our specific question. Non-coding SV analyses shouldn't include coding SVs, since we're not interested in coding effects vs. non-coding effects. We're interested in subsetting to coding effects. \n",
    "\n",
    "In that case, we also need to define variables that change how we calculate this reference.\n",
    "\n",
    "`coding vs. non-coding`  \n",
    "`cases vs. controls vs. control_subtraction`  \n",
    "\n",
    "I'm simply going to drop all SVs that have multiple gene effects. There aren't that many of them and dealing with an extra layer is super annoying.\n",
    "\n",
    "I'm also going to drop all SVs that have only an intergenic effect that are ≥ 500 kb away from their gene."
   ]
  },
  {
   "cell_type": "markdown",
   "id": "a2cfda92-bc5f-4c46-9709-5ee40903910c",
   "metadata": {},
   "source": [
    "## Adding an annotation for coding/non-coding/multi effects\n",
    "\n",
    "Needed for filtering out multi SVs"
   ]
  },
  {
   "cell_type": "code",
   "execution_count": 17,
   "id": "2bcc660a-c71d-4d49-a1a3-936bf90a2ce1",
   "metadata": {},
   "outputs": [],
   "source": [
    "# an svs is True for \"multiple-genes-coding\" if it affects more than one gene across all coding genic relationships.\n",
    "# The same is true for multiple-genes-noncoding.\n",
    "coding_cols = [\n",
    "    \"PREDICTED_LOF\",\n",
    "    \"PREDICTED_PARTIAL_EXON_DUP\",\n",
    "    \"PREDICTED_INTRAGENIC_EXON_DUP\",\n",
    "    \"PREDICTED_COPY_GAIN\",\n",
    "]\n",
    "noncoding_cols = [\n",
    "    \"PREDICTED_NEAREST_TSS\",\n",
    "    \"PREDICTED_INTRONIC\",\n",
    "    \"PREDICTED_PROMOTER\",\n",
    "    \"PREDICTED_UTR\",\n",
    "]\n",
    "\n",
    "for label, cols in zip(\n",
    "    [\"coding\", \"noncoding\", \"both\"],\n",
    "    [coding_cols, noncoding_cols, coding_cols + noncoding_cols],\n",
    "):\n",
    "\n",
    "    # we define all the genes that are \"affected\" by an SV. We\n",
    "    # do this by looking at successive genic relationships\n",
    "    affected_genes = np.array(svs[cols[0]].fillna(\"\").str.split(\",\"))\n",
    "    for c in cols[1:]:\n",
    "        affected_genes += np.array(svs[c].fillna(\"\").str.split(\",\"))\n",
    "\n",
    "    # remove blanks and duplicate genes\n",
    "    affected_genes = [[g for g in set(g_list) if g != \"\"] for g_list in affected_genes]\n",
    "    affected_genes_col = [\",\".join(g_list) for g_list in affected_genes]\n",
    "\n",
    "    # extract out how many unique genes are affected by each SV\n",
    "    num_unique_affected_genes = [len(set(g_list)) for g_list in affected_genes]\n",
    "    multiple_genes = np.array(num_unique_affected_genes) > 1\n",
    "\n",
    "    # add a column to our SVs\n",
    "    svs[f\"num_genes_{label}\"] = num_unique_affected_genes\n",
    "    svs[f\"genes_{label}\"] = affected_genes_col"
   ]
  },
  {
   "cell_type": "code",
   "execution_count": 19,
   "id": "b170cc06-20c6-4d87-886d-f976e686e071",
   "metadata": {},
   "outputs": [
    {
     "data": {
      "text/plain": [
       "((228943, 56), 64)"
      ]
     },
     "execution_count": 19,
     "metadata": {},
     "output_type": "execute_result"
    }
   ],
   "source": [
    "multigene_svs = svs.query(\"num_genes_both > 10\")[\"name\"].tolist()\n",
    "\n",
    "svs.shape, len(multigene_svs)"
   ]
  },
  {
   "cell_type": "markdown",
   "id": "80254619-168f-4662-a21d-bc22a2037b1a",
   "metadata": {},
   "source": [
    "We drop these SVs."
   ]
  },
  {
   "cell_type": "code",
   "execution_count": 20,
   "id": "51e2ba7a-5b6b-45cb-8ff9-a1d2fa36c629",
   "metadata": {},
   "outputs": [],
   "source": [
    "svs = svs.query(\"num_genes_both <= 10\").copy()\n",
    "category_svs = category_svs[~(category_svs[\"SV\"].isin(multigene_svs))].copy()"
   ]
  },
  {
   "cell_type": "markdown",
   "id": "58cb5a16-2341-4115-8687-6be2128a3beb",
   "metadata": {},
   "source": [
    "## Drop intergenic SVs that are far from their gene\n",
    "\n",
    "We only drop an SV in this manner if it's the only way it affects a gene."
   ]
  },
  {
   "cell_type": "code",
   "execution_count": 21,
   "id": "6c4c80cc-1713-4921-88dd-f6557b56c383",
   "metadata": {},
   "outputs": [],
   "source": [
    "only_intergenic_svs = svs[(svs['PREDICTED_NEAREST_TSS'] == svs['genes_both']) & (svs['num_genes_coding'] == 0)].copy()\n",
    "dropped_intergenic_svs = only_intergenic_svs.query('distance_to_nearest_gene > 5e5')['name'].tolist()"
   ]
  },
  {
   "cell_type": "code",
   "execution_count": 22,
   "id": "a6bff05c-af9e-446a-9ad6-2cee7755f562",
   "metadata": {},
   "outputs": [
    {
     "data": {
      "text/plain": [
       "(228879, 56)"
      ]
     },
     "execution_count": 22,
     "metadata": {},
     "output_type": "execute_result"
    }
   ],
   "source": [
    "svs.shape"
   ]
  },
  {
   "cell_type": "code",
   "execution_count": 23,
   "id": "f9e2ef94-9bc7-4e8d-98ff-33aba6aa6219",
   "metadata": {},
   "outputs": [],
   "source": [
    "svs = svs[~(svs['name'].isin(dropped_intergenic_svs))]"
   ]
  },
  {
   "cell_type": "code",
   "execution_count": 24,
   "id": "4e7dae75-3d95-4f0e-a050-9f1a436a73ba",
   "metadata": {},
   "outputs": [
    {
     "data": {
      "text/plain": [
       "(206749, 56)"
      ]
     },
     "execution_count": 24,
     "metadata": {},
     "output_type": "execute_result"
    }
   ],
   "source": [
    "svs.shape"
   ]
  },
  {
   "cell_type": "markdown",
   "id": "35bdeb36-b824-44e2-9fb8-5814bb281a68",
   "metadata": {},
   "source": [
    "## Drop those SVs in pesky reference areas\n",
    "\n",
    "These can actually have a substantial effect downstream if not handled now.\n",
    "\n",
    "__Note:__ Not including this filter for now."
   ]
  },
  {
   "cell_type": "code",
   "execution_count": 25,
   "id": "25825f41-34bc-4991-bab2-7252e39955d3",
   "metadata": {},
   "outputs": [
    {
     "name": "stdout",
     "output_type": "stream",
     "text": [
      "0.021838074186574057\n"
     ]
    }
   ],
   "source": [
    "print(svs['HG38_REF_PATCH_LOCUS'].mean())"
   ]
  },
  {
   "cell_type": "code",
   "execution_count": 26,
   "id": "cbff0a1d-aa24-4652-864b-d06f3f80a69a",
   "metadata": {},
   "outputs": [],
   "source": [
    "# svs = svs.query('HG38_REF_PATCH_LOCUS == False')"
   ]
  },
  {
   "cell_type": "markdown",
   "id": "905d39cc-e259-4e87-b1ba-71069f5f664f",
   "metadata": {},
   "source": [
    "## Actually create references\n",
    "\n",
    "These references will also serve as the lookup point for our actual categories. That way, we don't have to recalculate counts, etc."
   ]
  },
  {
   "cell_type": "code",
   "execution_count": 27,
   "id": "269da104-e3a9-461e-aad9-3420ade8c20a",
   "metadata": {},
   "outputs": [
    {
     "name": "stdout",
     "output_type": "stream",
     "text": [
      "neuroblastoma coding\n",
      "neuroblastoma noncoding\n",
      "ewing coding\n",
      "ewing noncoding\n",
      "osteosarcoma coding\n",
      "osteosarcoma noncoding\n"
     ]
    }
   ],
   "source": [
    "row_idx = 0\n",
    "row_names = []\n",
    "\n",
    "# identify rare SVs first\n",
    "rare_svs = svs[svs[\"AF\"] < 0.01].copy().set_index(\"name\")\n",
    "\n",
    "# check that all our category SVs are here\n",
    "# assert len(set(category_svs[\"SV\"]) - set(rare_svs.index) - set(dropped_intergenic_svs)) == 0\n",
    "\n",
    "ref_counts = []\n",
    "for disease in [\"neuroblastoma\", \"ewing\", \"osteosarcoma\"]:\n",
    "\n",
    "    sub_reference = rare_svs.copy()\n",
    "    disease_samples = samples[disease]\n",
    "\n",
    "    # identify SVs that affect genes in coding or non-coding fashion\n",
    "    for sv_category in [\"coding\", \"noncoding\"]:\n",
    "        sub_reference = rare_svs[rare_svs[f\"num_genes_{sv_category}\"] > 0]\n",
    "\n",
    "        # check that our category SVs are all represented\n",
    "        category_sub_svs = category_svs[\n",
    "            (category_svs[\"disease\"] == disease)\n",
    "            & (category_svs[\"sv_category\"] == sv_category)\n",
    "        ].copy()\n",
    "\n",
    "        # it's ok to not have category SVs that have no associated genes\n",
    "        missing_svs = set(category_sub_svs[\"SV\"]) - set(sub_reference.index) - set(dropped_intergenic_svs)\n",
    "\n",
    "        # assert rare_svs.loc[missing_svs, f\"num_genes_{sv_category}\"].sum() == 0\n",
    "\n",
    "        # now we can build our reference gene counts\n",
    "        gene_counts = {}\n",
    "        for cohort in [\"case\", \"control\"]:\n",
    "\n",
    "            # subset dosages to our reference svs and cohort samples\n",
    "            cohort_samples = disease_samples[cohort]\n",
    "            sub_dosages = dosages.loc[sub_reference.index, cohort_samples]\n",
    "\n",
    "            # drop samples with bad genotyping and fill in na's as 0 (effectively ignored)\n",
    "            kept_samples = np.where(\n",
    "                pd.isnull(sub_dosages).sum(axis=0) / len(sub_dosages) < 0.05\n",
    "            )[0]\n",
    "            sub_dosages = sub_dosages.iloc[:, kept_samples].fillna(0).astype(int)\n",
    "\n",
    "            # finally, we create the gene list with counts. First get the SVs based on gene counts\n",
    "            sv_genes = sub_reference[f\"genes_{sv_category}\"]\n",
    "            sv_genes = sv_genes.str.split(',').explode()\n",
    "\n",
    "            sv_names = sv_genes.index\n",
    "            sv_counts = sub_dosages.loc[sv_names].sum(axis=1)\n",
    "\n",
    "            subreference_counts = pd.DataFrame(\n",
    "                [sv_names, sv_counts, sv_genes], index=[\"name\", \"dose\", \"gene\"]\n",
    "            ).T\n",
    "\n",
    "            # remove genes not in our reference (shouldn't happen, but just in case)\n",
    "            subreference_counts = subreference_counts[\n",
    "                subreference_counts[\"gene\"].isin(gene_ref)\n",
    "            ]\n",
    "\n",
    "            # store\n",
    "            gene_counts[cohort] = subreference_counts\n",
    "\n",
    "        control_genes = set(gene_counts[\"control\"].query(\"dose > 0\")[\"gene\"])\n",
    "        case_unique = gene_counts[\"case\"][\n",
    "            lambda row: ~row[\"gene\"].isin(control_genes)\n",
    "        ].copy()\n",
    "        gene_counts[\"case_unique\"] = case_unique\n",
    "\n",
    "        # add all to reference counts\n",
    "        for cohort in [\"case\", \"control\", \"case_unique\"]:\n",
    "            cohort_data = gene_counts[cohort]\n",
    "            cohort_data[\"disease\"] = disease\n",
    "            cohort_data[\"sv_category\"] = sv_category\n",
    "            cohort_data[\"cohort\"] = cohort\n",
    "\n",
    "            ref_counts.append(cohort_data)\n",
    "\n",
    "        print(disease, sv_category)\n",
    "\n",
    "ref_counts = pd.concat(ref_counts)"
   ]
  },
  {
   "cell_type": "markdown",
   "id": "a8143e8c-1c24-4e2c-8b4f-ad7af921bc98",
   "metadata": {},
   "source": [
    "Excellent - so now we have a way to look up the SVs in a category and their associated gene counts."
   ]
  },
  {
   "cell_type": "markdown",
   "id": "1fa16b6c-1660-4cf2-945f-05d50146f300",
   "metadata": {},
   "source": [
    "## A quick check\n",
    "\n",
    "I'd like to ensure that--for the most part--our category SVs are truly restricted to our category eligible genes."
   ]
  },
  {
   "cell_type": "code",
   "execution_count": null,
   "id": "bdd7f0a6-a37e-44f0-b15e-82de0826cb89",
   "metadata": {},
   "outputs": [],
   "source": [
    "# just do this for our significant categories\n",
    "overlaps = []\n",
    "for index, row in framework_results.query(\"negative_log10_p_value > 3\").iterrows():\n",
    "    category, disease, sv_category = row[[\"category_name\", \"disease\", \"sv_category\"]]\n",
    "\n",
    "    category_genes = category_gene_matrix.loc[category]\n",
    "    category_genes = list(category_genes[category_genes == 1].index)\n",
    "\n",
    "    sub_category_svs = category_svs[\n",
    "        (category_svs[\"category\"] == category) & (category_svs[\"disease\"] == disease)\n",
    "    ][\"SV\"].tolist()\n",
    "\n",
    "    category_counts = ref_counts[\n",
    "        (ref_counts[\"name\"].isin(sub_category_svs))\n",
    "        & (ref_counts[\"disease\"] == disease)\n",
    "        & (ref_counts[\"sv_category\"] == sv_category)\n",
    "    ]\n",
    "\n",
    "    # give me the percentage of category count genes in the eligible genes\n",
    "    o = len(set(category_counts[\"gene\"]) & set(category_genes))\n",
    "    o_denom = len(set(category_counts[\"gene\"]))\n",
    "    overlaps.append([category, disease, sv_category, o, o / o_denom])\n",
    "\n",
    "overlaps = pd.DataFrame(\n",
    "    overlaps,\n",
    "    columns=[\n",
    "        \"category\",\n",
    "        \"disease\",\n",
    "        \"sv_category\",\n",
    "        \"overlap\",\n",
    "        \"perc_category_counts_in_eligible\",\n",
    "    ],\n",
    ")\n",
    "overlaps = overlaps.sort_values(by=\"perc_category_counts_in_eligible\")"
   ]
  },
  {
   "cell_type": "code",
   "execution_count": null,
   "id": "b4c5683f-fedb-42d5-a568-549144ba6777",
   "metadata": {},
   "outputs": [],
   "source": [
    "overlaps.head(8)"
   ]
  },
  {
   "cell_type": "markdown",
   "id": "d75f87fa-cb2d-4ebb-937b-884017a36d3b",
   "metadata": {},
   "source": [
    "Interesting--there are categories for which are overlap isn't so great. Unsurprisingly, they're all noncoding categories. I think 80% shouldn't abolish relevant signal."
   ]
  },
  {
   "cell_type": "markdown",
   "id": "cb072508-11a0-4b8e-8eab-fe3e088caed5",
   "metadata": {},
   "source": [
    "# Shrink down our data\n",
    "\n",
    "We subset some of our data to prevent working with massive matrices."
   ]
  },
  {
   "cell_type": "code",
   "execution_count": null,
   "id": "fed09f1d-14ec-411b-aad2-5d44b9e4fbd4",
   "metadata": {},
   "outputs": [],
   "source": [
    "# shrink down our categories to only those that are significant\n",
    "framework_results = framework_results.query('negative_log10_p_value > 3.0').reset_index(drop = True)\n",
    "\n",
    "# subset our SVs to these categories. Have to be careful about disease, since category names can repeat.\n",
    "included_disease_categories = (framework_results['disease'] + '-' + framework_results['category_name']).tolist()\n",
    "5\n",
    "# subset down category svs to these categories\n",
    "category_svs = category_svs[(category_svs['disease'] + '-' + category_svs['category']).isin(included_disease_categories)].reset_index(drop = True)\n",
    "\n",
    "# drop SVs down to these SVs\n",
    "svs = svs[svs['name'].isin(set(category_svs['SV']))]\n",
    "\n",
    "# shrink dosages down to our nbl samples and these SVs\n",
    "dosages = dosages.loc[svs['name'].tolist(), total_samples]\n",
    "\n",
    "# shrink down category lookups\n",
    "category_gene_matrix = category_gene_matrix.loc[sorted(set(framework_results['category_name']))]"
   ]
  },
  {
   "cell_type": "code",
   "execution_count": 44,
   "id": "68638b17-68cf-438c-a6b8-d8d31b0238f7",
   "metadata": {},
   "outputs": [
    {
     "data": {
      "text/plain": [
       "((17454, 19092), (228943, 6727), (206749, 56))"
      ]
     },
     "execution_count": 44,
     "metadata": {},
     "output_type": "execute_result"
    }
   ],
   "source": [
    "category_gene_matrix.shape, dosages.shape, svs.shape"
   ]
  },
  {
   "cell_type": "markdown",
   "id": "5b7a6cf4-27ef-4964-b9be-2ea4779d6720",
   "metadata": {
    "tags": []
   },
   "source": [
    "# A coding example\n",
    "\n",
    "Let's extract out all the data that we need to examine the highest result for a single hallmark gene set. To be informative, we'll use a coding category that has a restricted gene space: `ANY.SINGLETON.ANY.ANY.expressed_in_adrenal_gland.protein_coding`\n",
    "\n",
    "We'll generate data for our two contingency tables. Note that we extract out the eligible genes here as well."
   ]
  },
  {
   "cell_type": "code",
   "execution_count": 39,
   "id": "50a93ff6-dadc-4a11-b869-5e724f2614ea",
   "metadata": {},
   "outputs": [],
   "source": [
    "test_cat = \"ANY.SINGLETON.ANY.ANY.expressed_in_adrenal_gland.protein_coding\""
   ]
  },
  {
   "cell_type": "code",
   "execution_count": 40,
   "id": "f31ef722-d844-49bb-92be-75f6bccf609e",
   "metadata": {},
   "outputs": [
    {
     "data": {
      "text/html": [
       "<div>\n",
       "<style scoped>\n",
       "    .dataframe tbody tr th:only-of-type {\n",
       "        vertical-align: middle;\n",
       "    }\n",
       "\n",
       "    .dataframe tbody tr th {\n",
       "        vertical-align: top;\n",
       "    }\n",
       "\n",
       "    .dataframe thead th {\n",
       "        text-align: right;\n",
       "    }\n",
       "</style>\n",
       "<table border=\"1\" class=\"dataframe\">\n",
       "  <thead>\n",
       "    <tr style=\"text-align: right;\">\n",
       "      <th></th>\n",
       "      <th>sv_type</th>\n",
       "      <th>frequency</th>\n",
       "      <th>genic_relationship</th>\n",
       "      <th>constraint</th>\n",
       "      <th>expression</th>\n",
       "      <th>gene_group</th>\n",
       "    </tr>\n",
       "  </thead>\n",
       "  <tbody>\n",
       "    <tr>\n",
       "      <th>0</th>\n",
       "      <td>DUP</td>\n",
       "      <td>RARE</td>\n",
       "      <td>PREDICTED_COPY_GAIN</td>\n",
       "      <td>lof_constrained</td>\n",
       "      <td>expressed_in_adrenal_gland</td>\n",
       "      <td>protein_coding</td>\n",
       "    </tr>\n",
       "    <tr>\n",
       "      <th>1</th>\n",
       "      <td>DEL</td>\n",
       "      <td>SINGLETON</td>\n",
       "      <td>PREDICTED_INTRAGENIC_EXON_DUP</td>\n",
       "      <td>missense_constrained</td>\n",
       "      <td>ANY</td>\n",
       "      <td>cosmic_cancer_genes</td>\n",
       "    </tr>\n",
       "    <tr>\n",
       "      <th>2</th>\n",
       "      <td>CPX_or_INV</td>\n",
       "      <td>NaN</td>\n",
       "      <td>PREDICTED_LOF_or_PREDICTED_PARTIAL_EXON_DUP</td>\n",
       "      <td>unconstrained</td>\n",
       "      <td>NaN</td>\n",
       "      <td>germline_CPGs</td>\n",
       "    </tr>\n",
       "    <tr>\n",
       "      <th>3</th>\n",
       "      <td>INS_ALL</td>\n",
       "      <td>NaN</td>\n",
       "      <td>ANY</td>\n",
       "      <td>ANY</td>\n",
       "      <td>NaN</td>\n",
       "      <td>base_excision_repair_genes</td>\n",
       "    </tr>\n",
       "    <tr>\n",
       "      <th>4</th>\n",
       "      <td>ANY</td>\n",
       "      <td>NaN</td>\n",
       "      <td>NaN</td>\n",
       "      <td>NaN</td>\n",
       "      <td>NaN</td>\n",
       "      <td>chromatin_organization_genes</td>\n",
       "    </tr>\n",
       "  </tbody>\n",
       "</table>\n",
       "</div>"
      ],
      "text/plain": [
       "      sv_type  frequency                           genic_relationship  \\\n",
       "0         DUP       RARE                          PREDICTED_COPY_GAIN   \n",
       "1         DEL  SINGLETON                PREDICTED_INTRAGENIC_EXON_DUP   \n",
       "2  CPX_or_INV        NaN  PREDICTED_LOF_or_PREDICTED_PARTIAL_EXON_DUP   \n",
       "3     INS_ALL        NaN                                          ANY   \n",
       "4         ANY        NaN                                          NaN   \n",
       "\n",
       "             constraint                  expression  \\\n",
       "0       lof_constrained  expressed_in_adrenal_gland   \n",
       "1  missense_constrained                         ANY   \n",
       "2         unconstrained                         NaN   \n",
       "3                   ANY                         NaN   \n",
       "4                   NaN                         NaN   \n",
       "\n",
       "                     gene_group  \n",
       "0                protein_coding  \n",
       "1           cosmic_cancer_genes  \n",
       "2                 germline_CPGs  \n",
       "3    base_excision_repair_genes  \n",
       "4  chromatin_organization_genes  "
      ]
     },
     "execution_count": 40,
     "metadata": {},
     "output_type": "execute_result"
    }
   ],
   "source": [
    "framework_schema[\"neuroblastoma\"][\"coding\"].head(5)"
   ]
  },
  {
   "cell_type": "markdown",
   "id": "c3c5a2c9-74bd-4a99-92fe-92f7ca1835cd",
   "metadata": {},
   "source": [
    "We identify the SVs that are part of that category. Same code as above."
   ]
  },
  {
   "cell_type": "code",
   "execution_count": 41,
   "id": "6d329232-5d40-428d-89a2-56fac470e615",
   "metadata": {},
   "outputs": [
    {
     "data": {
      "text/plain": [
       "((2598, 6), 2236)"
      ]
     },
     "execution_count": 41,
     "metadata": {},
     "output_type": "execute_result"
    }
   ],
   "source": [
    "test_cat_svs = category_svs[\n",
    "    (category_svs[\"category\"] == test_cat)\n",
    "    & (category_svs[\"disease\"] == \"neuroblastoma\")\n",
    "][\"SV\"].tolist()\n",
    "\n",
    "test_cat_counts = ref_counts[\n",
    "    (ref_counts[\"name\"].isin(test_cat_svs))\n",
    "    & (ref_counts[\"disease\"] == \"neuroblastoma\")\n",
    "    & (ref_counts[\"sv_category\"] == \"coding\")\n",
    "    & (ref_counts[\"dose\"] > 0)\n",
    "]\n",
    "\n",
    "test_cat_counts.shape, len(test_cat_svs)"
   ]
  },
  {
   "cell_type": "markdown",
   "id": "24b40795-ab63-43f5-a918-e0031b8aa2de",
   "metadata": {},
   "source": [
    "This includes all cohorts. Now let's pull up a hallmark gene set and get cracking."
   ]
  },
  {
   "cell_type": "code",
   "execution_count": 42,
   "id": "f0e4e4f9-0fe1-4cc6-ba02-d6b8656ed6a8",
   "metadata": {},
   "outputs": [],
   "source": [
    "hallmark = gp.get_library(name=\"MSigDB_Hallmark_2020\")"
   ]
  },
  {
   "cell_type": "code",
   "execution_count": 43,
   "id": "9fdedcf4-8f4a-482c-9639-7e6cae387587",
   "metadata": {},
   "outputs": [
    {
     "data": {
      "text/plain": [
       "200"
      ]
     },
     "execution_count": 43,
     "metadata": {},
     "output_type": "execute_result"
    }
   ],
   "source": [
    "adipogenesis = hallmark[\"Adipogenesis\"]\n",
    "adipogenesis = [g for g in adipogenesis if g in gene_ref]\n",
    "len(adipogenesis)"
   ]
  },
  {
   "cell_type": "markdown",
   "id": "8393477a-d3eb-4e3c-9118-8a31dd59e55b",
   "metadata": {},
   "source": [
    "## Simple gene count overlap\n",
    "\n",
    "Here, we ignore the gene counts and simply overlap with the _entire_ reference counts.\n",
    "\n",
    "```\n",
    "number of genes affected by SVs in cat and gs | number of genes affected by SVs in cat and not gs\n",
    "number of genes affected by SVs in gs and not cat | number of genes affected by SVs not in cat and not in gs\n",
    "```\n",
    "\n",
    "To do this, we need to extract our references for this specific analysis."
   ]
  },
  {
   "cell_type": "code",
   "execution_count": 44,
   "id": "fe3506de-7c16-4487-a96c-1708110512d3",
   "metadata": {},
   "outputs": [
    {
     "name": "stdout",
     "output_type": "stream",
     "text": [
      "case 1727\n",
      "control 5452\n",
      "case_unique 329\n"
     ]
    }
   ],
   "source": [
    "# reference has to be defined for cases, controls, and case_unique\n",
    "reference_counts_example = {}\n",
    "\n",
    "for cohort in [\"case\", \"control\", \"case_unique\"]:\n",
    "\n",
    "    # exclude category SVs\n",
    "    ref_cohort_counts = ref_counts[\n",
    "        (~ref_counts[\"name\"].isin(test_cat_svs))\n",
    "        & (ref_counts[\"disease\"] == \"neuroblastoma\")\n",
    "        & (ref_counts[\"sv_category\"] == \"coding\")\n",
    "        & (ref_counts[\"cohort\"] == cohort)\n",
    "        & (ref_counts[\"dose\"] > 0)\n",
    "    ]\n",
    "\n",
    "    reference_counts_example[cohort] = ref_cohort_counts\n",
    "    print(cohort, len(ref_cohort_counts))"
   ]
  },
  {
   "cell_type": "markdown",
   "id": "5f3ddfef-9772-45fb-8d70-11744adc9123",
   "metadata": {},
   "source": [
    "Run the enrichment."
   ]
  },
  {
   "cell_type": "code",
   "execution_count": 45,
   "id": "a2645bc4-bde2-4f73-9490-27665fbe4b9a",
   "metadata": {},
   "outputs": [
    {
     "name": "stdout",
     "output_type": "stream",
     "text": [
      "(3.013387792148854, 0.015438673967258142)\n",
      "(1.7901296111665006, 0.02930297620171999)\n",
      "(1.7140600315955765, 0.3963764685975137)\n"
     ]
    }
   ],
   "source": [
    "for cohort in [\"case\", \"control\", \"case_unique\"]:\n",
    "\n",
    "    cohort_genes = test_cat_counts[test_cat_counts[\"cohort\"] == cohort][\"gene\"]\n",
    "    cohort_reference_genes = reference_counts_example[cohort][\"gene\"]\n",
    "\n",
    "    num_genes_in_cat_and_gs = len(set(adipogenesis) & set(cohort_genes))\n",
    "    num_genes_in_cat_and_not_gs = len(set(cohort_genes) - set(adipogenesis))\n",
    "\n",
    "    num_genes_in_gs_and_not_cat = len(set(adipogenesis) & set(cohort_reference_genes))\n",
    "    num_genes_not_in_gs_and_not_cat = len(\n",
    "        set(cohort_reference_genes) - set(adipogenesis)\n",
    "    )\n",
    "\n",
    "    cont_table = np.array(\n",
    "        [\n",
    "            [num_genes_in_cat_and_gs, num_genes_in_cat_and_not_gs],\n",
    "            [num_genes_in_gs_and_not_cat, num_genes_not_in_gs_and_not_cat],\n",
    "        ]\n",
    "    )\n",
    "    print(scipy.stats.fisher_exact(cont_table))"
   ]
  },
  {
   "cell_type": "markdown",
   "id": "0e529b12-f8cf-4908-84b2-1c7a20c52737",
   "metadata": {},
   "source": [
    "That is SUPER interesting. The controls are very strongly enriched. But remember that this carries the category pre-enrichment. So we actually EXPECT controls to be significant. This means that case_unique is a useless filtering method."
   ]
  },
  {
   "cell_type": "markdown",
   "id": "e2055cd8-7f08-45c4-96be-96348b2a5425",
   "metadata": {},
   "source": [
    "## Full count approach"
   ]
  },
  {
   "cell_type": "markdown",
   "id": "2e91f8c0-d802-4b16-8fad-059caf718639",
   "metadata": {},
   "source": [
    "What if we actually include SV dosage? Here, we DON'T use the binary form of this matrix."
   ]
  },
  {
   "cell_type": "code",
   "execution_count": 46,
   "id": "d1018b56-c8c8-423c-b6c6-818f2ee011fe",
   "metadata": {},
   "outputs": [
    {
     "name": "stdout",
     "output_type": "stream",
     "text": [
      "(3.398674242424242, 0.0024051803380642305)\n",
      "(2.975911791581829, 6.800433268464122e-07)\n",
      "(1.428348909657321, 0.597479440925016)\n"
     ]
    }
   ],
   "source": [
    "for cohort in [\"case\", \"control\", \"case_unique\"]:\n",
    "\n",
    "    cohort_genes = test_cat_counts[test_cat_counts[\"cohort\"] == cohort]\n",
    "    cohort_reference_genes = reference_counts_example[cohort]\n",
    "\n",
    "    num_gene_counts_in_cat_and_gs = cohort_genes[\n",
    "        cohort_genes[\"gene\"].isin(adipogenesis)\n",
    "    ][\"dose\"].sum()\n",
    "    num_gene_counts_in_cat_and_not_gs = cohort_genes[\n",
    "        ~cohort_genes[\"gene\"].isin(adipogenesis)\n",
    "    ][\"dose\"].sum()\n",
    "\n",
    "    num_gene_counts_in_gs_and_not_cat = cohort_reference_genes[\n",
    "        cohort_reference_genes[\"gene\"].isin(adipogenesis)\n",
    "    ][\"dose\"].sum()\n",
    "    num_gene_counts_not_in_gs_and_not_cat = cohort_reference_genes[\n",
    "        ~cohort_reference_genes[\"gene\"].isin(adipogenesis)\n",
    "    ][\"dose\"].sum()\n",
    "\n",
    "    cont_table = np.array(\n",
    "        [\n",
    "            [num_gene_counts_in_cat_and_gs, num_gene_counts_in_cat_and_not_gs],\n",
    "            [num_gene_counts_in_gs_and_not_cat, num_gene_counts_not_in_gs_and_not_cat],\n",
    "        ]\n",
    "    )\n",
    "    print(scipy.stats.fisher_exact(cont_table))"
   ]
  },
  {
   "cell_type": "markdown",
   "id": "766ae0be-bcd3-4ace-8496-78433fe301eb",
   "metadata": {},
   "source": [
    "Same deal"
   ]
  },
  {
   "cell_type": "markdown",
   "id": "27888eab-bbee-45d2-bdd1-5df89e305b3f",
   "metadata": {},
   "source": [
    "## Binomial test approach\n",
    "\n",
    "Here, we examine _within the category_. We need the eligible category genes."
   ]
  },
  {
   "cell_type": "code",
   "execution_count": 65,
   "id": "f79311fc-7dd6-4a82-a865-c67bf8c439e0",
   "metadata": {},
   "outputs": [
    {
     "data": {
      "text/plain": [
       "9505"
      ]
     },
     "execution_count": 65,
     "metadata": {},
     "output_type": "execute_result"
    }
   ],
   "source": [
    "example_category_genes = category_gene_matrix.loc[test_cat]\n",
    "example_category_genes = list(example_category_genes[example_category_genes == 1].index)\n",
    "\n",
    "len(example_category_genes)"
   ]
  },
  {
   "cell_type": "code",
   "execution_count": 66,
   "id": "d9443261-c7b8-4b00-9d85-36ee56c36279",
   "metadata": {},
   "outputs": [],
   "source": [
    "cat_gene_lengths = gene_lengths.loc[example_category_genes]"
   ]
  },
  {
   "cell_type": "markdown",
   "id": "234349c6-ccfc-46d2-b301-8132dc4e65ff",
   "metadata": {},
   "source": [
    "We'll also normalize by gene size"
   ]
  },
  {
   "cell_type": "code",
   "execution_count": 67,
   "id": "83fac669-7128-417d-9b16-7acbf5799ea6",
   "metadata": {},
   "outputs": [
    {
     "name": "stdout",
     "output_type": "stream",
     "text": [
      "BinomTestResult(k=10, n=362, alternative='two-sided', proportion_estimate=0.027624309392265192, pvalue=0.1464225338984107) 10 362 0.01693989492662021\n",
      "BinomTestResult(k=32, n=2015, alternative='two-sided', proportion_estimate=0.01588089330024814, pvalue=0.7955616049495297) 32 2015 0.01693989492662021\n",
      "BinomTestResult(k=7, n=221, alternative='two-sided', proportion_estimate=0.03167420814479638, pvalue=0.10688559733003276) 7 221 0.01693989492662021\n"
     ]
    }
   ],
   "source": [
    "gs_genes_in_cat = set(adipogenesis) & set(example_category_genes)\n",
    "\n",
    "for cohort in [\"case\", \"control\", \"case_unique\"]:\n",
    "\n",
    "    cohort_gene_counts = test_cat_counts[test_cat_counts[\"cohort\"] == cohort]\n",
    "\n",
    "    count_genes_in_cat_and_gs = cohort_gene_counts[\n",
    "        cohort_gene_counts[\"gene\"].isin(adipogenesis)\n",
    "    ][\"dose\"].sum()\n",
    "    total_counts = cohort_gene_counts[\"dose\"].sum()\n",
    "\n",
    "    # we compare this to the odds of randomly drawing at least as many SVs in the gs within this category\n",
    "    gs_genes_in_cat = set(adipogenesis) & set(example_category_genes)\n",
    "    null_p = cat_gene_lengths.loc[gs_genes_in_cat].sum() / cat_gene_lengths.sum()\n",
    "\n",
    "    res = scipy.stats.binomtest(count_genes_in_cat_and_gs, total_counts, null_p)\n",
    "    print(res, count_genes_in_cat_and_gs, total_counts, null_p)"
   ]
  },
  {
   "cell_type": "markdown",
   "id": "c0e611f9-86e1-478b-84f8-1d7677a38293",
   "metadata": {},
   "source": [
    "Nice! So this is exactly what we're looking for."
   ]
  },
  {
   "cell_type": "markdown",
   "id": "1a7ab9b1-a1fc-40b6-8b3a-17eb30ae3b36",
   "metadata": {},
   "source": [
    "# Generalized gene set enrichment\n",
    "\n",
    "Alright, we've been through our examples. Time to crunch them all.\n"
   ]
  },
  {
   "cell_type": "markdown",
   "id": "5eb19bf8-d7b1-4313-a9a0-4659d6371b7c",
   "metadata": {},
   "source": [
    "## Define the categories for analysis\n",
    "\n",
    "We analyze only the significant categories"
   ]
  },
  {
   "cell_type": "markdown",
   "id": "1819aff5-ec24-42fe-8094-f6ccbe5494d9",
   "metadata": {},
   "source": [
    "Here, we'll also define a helpful lookup that maps from the \"collapsed\" genic relationships to all their component relationships."
   ]
  },
  {
   "cell_type": "code",
   "execution_count": 68,
   "id": "45870124-595d-4354-b9a4-bd9c4c0b7a3e",
   "metadata": {},
   "outputs": [],
   "source": [
    "gr_coding_mapping = {\n",
    "    \"PREDICTED_LOF_or_PREDICTED_PARTIAL_EXON_DUP\": [\n",
    "        \"PREDICTED_LOF\",\n",
    "        \"PREDICTED_PARTIAL_EXON_DUP\",\n",
    "    ],\n",
    "    \"ANY\": [\n",
    "        \"PREDICTED_COPY_GAIN\",\n",
    "        \"PREDICTED_INTRAGENIC_EXON_DUP\",\n",
    "        \"PREDICTED_LOF\",\n",
    "        \"PREDICTED_PARTIAL_EXON_DUP\",\n",
    "    ],\n",
    "}\n",
    "\n",
    "gr_noncoding_mapping = {\n",
    "    \"ANY\": [\n",
    "        \"PREDICTED_INTERGENIC\",\n",
    "        \"PREDICTED_INTRONIC\",\n",
    "        \"PREDICTED_PROMOTER\",\n",
    "        \"PREDICTED_UTR\",\n",
    "    ]\n",
    "}"
   ]
  },
  {
   "cell_type": "markdown",
   "id": "77a702d3-24c4-4949-a6a5-66c94f3c8cf8",
   "metadata": {},
   "source": [
    "## Define the gene sets for analysis\n",
    "\n",
    "Let's highlight some specific gene sets for analysis. We'll do the following:\n",
    "\n",
    "* `MSigDB_Hallmark_2020`\n",
    "* `GO_Biological_Process_2023` (this is the default for GO term analysis)\n",
    "* `Reactome_2022`\n",
    "\n",
    "We only include gene sets that are at least 10 genes, and at maximum 1000.\n",
    "\n",
    "We'll begin with these, and then we can add in other specific ones that might be relevant later:"
   ]
  },
  {
   "cell_type": "markdown",
   "id": "33170e35-ca3c-45b8-88c9-a87a2fa09c0d",
   "metadata": {},
   "source": [
    "## Define some adrenal gene sets\n",
    "\n",
    "I'm curious about these:"
   ]
  },
  {
   "cell_type": "code",
   "execution_count": 69,
   "id": "c4cbd7db-5239-4d2b-9a26-53e20266ef06",
   "metadata": {},
   "outputs": [],
   "source": [
    "# obtained by searching \"adrenal gland\" on go\n",
    "adrenal_gs = pd.read_csv('data/adrenal-gene-sets.txt', sep = '\\t', header = None, names = ['go', 'gs'])\n",
    "adrenal_gs = list(adrenal_gs['gs'] + ' (' + adrenal_gs['go'] + ')')"
   ]
  },
  {
   "cell_type": "code",
   "execution_count": 70,
   "id": "3b18a037-9aa1-468b-8046-29952d597e42",
   "metadata": {},
   "outputs": [],
   "source": [
    "gene_sets = {}\n",
    "dbs = set()\n",
    "with open(\"ref/gene-sets.txt\") as gs_in:\n",
    "    for line in gs_in:\n",
    "        comp = line.strip().split(\"\\t\")\n",
    "        db = comp[0]\n",
    "        dbs.add(db)\n",
    "        gs = comp[1]\n",
    "        genes = comp[2:]\n",
    "        \n",
    "        if db in ['Reactome_2022', 'GO_Biological_Process_Specific']:\n",
    "            continue\n",
    "            \n",
    "        if gs in adrenal_gs:\n",
    "            gene_sets[f'adrenal | {gs}'] = genes\n",
    "        \n",
    "        elif len(genes) >= 30 and len(genes) <= 1000:\n",
    "            gene_sets[db + \" | \" + gs] = genes"
   ]
  },
  {
   "cell_type": "markdown",
   "id": "1f9bb08f-15a6-41f2-853e-db7361370228",
   "metadata": {},
   "source": [
    "How large are the adrenal gene sets?"
   ]
  },
  {
   "cell_type": "code",
   "execution_count": 71,
   "id": "c0d85969-37be-46b6-9587-1eaf31a87000",
   "metadata": {},
   "outputs": [
    {
     "name": "stdout",
     "output_type": "stream",
     "text": [
      "[8, 2, 1, 6, 3, 1, 20, 16, 2, 7, 152, 9, 22, 5, 2, 1, 3, 3, 1, 1, 3, 14, 30, 1, 9, 2, 28, 6, 2, 2, 62, 2, 2, 6, 5, 2, 6, 4, 3, 14, 3, 3, 11, 5, 5, 2, 30]\n"
     ]
    }
   ],
   "source": [
    "print([len(genes) for gs, genes in gene_sets.items() if 'adrenal' in gs])"
   ]
  },
  {
   "cell_type": "markdown",
   "id": "62f258fc-84f7-4848-8ed6-f26b1961a139",
   "metadata": {},
   "source": [
    "Much too small for us to detect anything. We'll include them anyway."
   ]
  },
  {
   "cell_type": "markdown",
   "id": "74cbc43e-ca2b-4e9c-95bd-b98834d0a840",
   "metadata": {},
   "source": [
    "Add some gene sets defined in our `gtex` analysis"
   ]
  },
  {
   "cell_type": "code",
   "execution_count": 72,
   "id": "290c38b9-0a5d-4b5d-aa22-0555bf38e5a4",
   "metadata": {},
   "outputs": [],
   "source": [
    "with open('data/gtex-tissue-specific-gene-sets.txt') as infile:\n",
    "    for line in infile.readlines():\n",
    "        line = line.strip()\n",
    "        tissue = line.split(' | ')[0].lower()\n",
    "        genes = line.split(' | ')[1].split(',')\n",
    "        \n",
    "        gene_sets[f'gtex | {tissue}'] = genes"
   ]
  },
  {
   "cell_type": "code",
   "execution_count": 73,
   "id": "0691ceb0-31e4-449f-b49f-3c2c3e5f46f7",
   "metadata": {},
   "outputs": [
    {
     "name": "stdout",
     "output_type": "stream",
     "text": [
      "3137\n"
     ]
    }
   ],
   "source": [
    "print(len(gene_sets))"
   ]
  },
  {
   "cell_type": "markdown",
   "id": "101f7d26-f618-4138-bc73-abea952c79fe",
   "metadata": {},
   "source": [
    "I want to briefly explore controlling for gene size"
   ]
  },
  {
   "cell_type": "code",
   "execution_count": 74,
   "id": "ec891635-a805-4a2c-8dce-da3758fe7476",
   "metadata": {},
   "outputs": [
    {
     "name": "stdout",
     "output_type": "stream",
     "text": [
      "0.015254586683158112 0.010909559605254067\n"
     ]
    }
   ],
   "source": [
    "test_genes = gene_sets['GO_Biological_Process_Full | ribosome biogenesis (GO:0042254)']\n",
    "test_category = 'ANY.SINGLETON.ANY.unconstrained.ANY.protein_coding'\n",
    "\n",
    "cat_genes = list(category_gene_matrix.loc[test_category][category_gene_matrix.loc[test_category] == 1].index)\n",
    "overlapping_genes = set(test_genes) & set(cat_genes)\n",
    "\n",
    "null_p_gene = len(set(test_genes) & set(cat_genes)) / len(cat_genes)\n",
    "\n",
    "test_gene_size = gene_lengths.loc[overlapping_genes].sum()\n",
    "cat_gene_size = gene_lengths.loc[cat_genes].sum()\n",
    "null_p_size = test_gene_size / cat_gene_size\n",
    "\n",
    "print(null_p_gene, null_p_size)"
   ]
  },
  {
   "cell_type": "markdown",
   "id": "88af5597-05c1-43c3-a6f4-94bbf97ca41c",
   "metadata": {},
   "source": [
    "So it can indeed make a fairly impactful difference."
   ]
  },
  {
   "cell_type": "markdown",
   "id": "2a120a6b-f5c7-4e1e-ba50-9853179f1c55",
   "metadata": {},
   "source": [
    "## Create gene set and category matrices\n",
    "\n",
    "It's far easier to work with this in matrix form, so we convert it as such."
   ]
  },
  {
   "cell_type": "code",
   "execution_count": 75,
   "id": "7ac311c6-07a7-4982-81d4-bd7f97d53f13",
   "metadata": {},
   "outputs": [],
   "source": [
    "cat_gene_sparse_mtx = scipy.sparse.csr_matrix(category_gene_matrix.values)\n",
    "\n",
    "# lookups for sparse matrix work\n",
    "gene_to_idx = {gene: i for i, gene in enumerate(category_gene_matrix.columns)}\n",
    "cat_to_idx = {cat: i for i, cat in enumerate(category_gene_matrix.index)}"
   ]
  },
  {
   "cell_type": "code",
   "execution_count": 76,
   "id": "b544442e-6f1e-47e9-ac9a-a7c7c90c2aac",
   "metadata": {},
   "outputs": [],
   "source": [
    "# and now convert the gene sets to a sparse matrix\n",
    "gs_to_idx = {}\n",
    "\n",
    "values = []\n",
    "row_indices = []\n",
    "column_indices = []\n",
    "for i, (gs, genes) in enumerate(gene_sets.items()):\n",
    "    gs_to_idx[gs] = i\n",
    "\n",
    "    column_indices += [gene_to_idx[g] for g in genes]\n",
    "    row_indices += [i] * len(genes)\n",
    "    values += [1] * len(genes)\n",
    "\n",
    "values = np.array(values)\n",
    "row_indices = np.array(row_indices)\n",
    "column_indices = np.array(column_indices)\n",
    "\n",
    "gs_gene_sparse_mtx = scipy.sparse.csr_matrix(\n",
    "    (values, (row_indices, column_indices)), shape=(len(gs_to_idx), len(gene_to_idx))\n",
    ").T"
   ]
  },
  {
   "cell_type": "code",
   "execution_count": 77,
   "id": "96523cfb-f334-48f3-badb-5497a77ec41d",
   "metadata": {},
   "outputs": [
    {
     "data": {
      "text/plain": [
       "((17454, 19092), (19092, 3137))"
      ]
     },
     "execution_count": 77,
     "metadata": {},
     "output_type": "execute_result"
    }
   ],
   "source": [
    "category_gene_matrix.shape, gs_gene_sparse_mtx.shape"
   ]
  },
  {
   "cell_type": "code",
   "execution_count": 78,
   "id": "a7c677a7-8bd6-4c71-ae0b-8a1ec89a0df8",
   "metadata": {},
   "outputs": [],
   "source": [
    "gs_gene_matrix = pd.DataFrame(gs_gene_sparse_mtx.todense().A, index = gene_to_idx.keys(), columns = gs_to_idx.keys())"
   ]
  },
  {
   "cell_type": "code",
   "execution_count": 79,
   "id": "d395f020-fd39-433a-9e24-57653e35f514",
   "metadata": {},
   "outputs": [
    {
     "data": {
      "text/plain": [
       "<19092x3137 sparse matrix of type '<class 'numpy.int64'>'\n",
       "\twith 488396 stored elements in Compressed Sparse Column format>"
      ]
     },
     "execution_count": 79,
     "metadata": {},
     "output_type": "execute_result"
    }
   ],
   "source": [
    "gs_gene_sparse_mtx"
   ]
  },
  {
   "cell_type": "markdown",
   "id": "a5a9142c-e93e-4352-ada3-d20a5f354601",
   "metadata": {},
   "source": [
    "If we want to do our nice matrix math, we need to actually make a copy of this matrix that includes gene sizes (oops)"
   ]
  },
  {
   "cell_type": "code",
   "execution_count": 80,
   "id": "d11f8900-6983-44d1-a168-8e73422f9fb4",
   "metadata": {},
   "outputs": [],
   "source": [
    "gene_lengths_ordered = gene_lengths.loc[list(gene_to_idx.keys())].values"
   ]
  },
  {
   "cell_type": "code",
   "execution_count": 81,
   "id": "e682f637-f938-4db5-b693-d4b64549c0ab",
   "metadata": {},
   "outputs": [
    {
     "name": "stdout",
     "output_type": "stream",
     "text": [
      "GO_Biological_Process_Full | central nervous system development (GO:0007417) 119192.53799392097 66509.43783485224\n",
      "GO_Biological_Process_Full | positive regulation of synaptic transmission (GO:0050806) 146397.98571428572 68662.9743035036\n",
      "GO_Biological_Process_Full | regulation of protein depolymerization (GO:1901879) 115420.16091954023 69021.56553538542\n",
      "GO_Biological_Process_Full | actin cytoskeleton organization (GO:0030036) 101698.19288389513 68298.82379566763\n"
     ]
    }
   ],
   "source": [
    "gs_to_test = ['GO_Biological_Process_Full | central nervous system development (GO:0007417)',\n",
    "              'GO_Biological_Process_Full | positive regulation of synaptic transmission (GO:0050806)',\n",
    "              'GO_Biological_Process_Full | regulation of protein depolymerization (GO:1901879)',\n",
    "              'GO_Biological_Process_Full | actin cytoskeleton organization (GO:0030036)']\n",
    "\n",
    "for gs in gs_to_test:\n",
    "    genes = gene_sets[gs]\n",
    "    gs_gene_lengths = gene_lengths.loc[genes]\n",
    "    \n",
    "    nongs_genes = set(gene_lengths.index) - set(genes)\n",
    "    nongs_gene_lengths = gene_lengths.loc[nongs_genes]\n",
    "    \n",
    "    print(gs, gs_gene_lengths.mean(), nongs_gene_lengths.mean())"
   ]
  },
  {
   "cell_type": "code",
   "execution_count": 82,
   "id": "a8e58bab-e7a6-40ab-b82e-168f548fe263",
   "metadata": {},
   "outputs": [],
   "source": [
    "gs_gene_lengths_sparse_mtx = scipy.sparse.csr_matrix(gs_gene_sparse_mtx.todense().A * gene_lengths_ordered[:, np.newaxis])"
   ]
  },
  {
   "cell_type": "markdown",
   "id": "90fbc1f8-df68-4a93-8b72-2d1b9826571a",
   "metadata": {},
   "source": [
    "## A side note on picking gene sets\n",
    "\n",
    "This process is a bit frustrating because gene sets can be so similar to each other. Let's try to use a similar process as the categories to crunch things down > eigenvalue decomposition.\n",
    "\n",
    "I'm also going to only include GO terms here, because that's what we'll use downstream."
   ]
  },
  {
   "cell_type": "code",
   "execution_count": 83,
   "id": "9dce4342-c8ca-4eb7-a382-7bef9a022d9a",
   "metadata": {},
   "outputs": [],
   "source": [
    "go_term_idx = [idx for gs, idx in gs_to_idx.items() if 'GO_Biological_Process_Full' in gs]\n",
    "\n",
    "go_gs_gene_mtx = gs_gene_sparse_mtx[:, go_term_idx]"
   ]
  },
  {
   "cell_type": "code",
   "execution_count": 84,
   "id": "b633d6ee-c9a5-4e3c-a859-3ed651368274",
   "metadata": {},
   "outputs": [
    {
     "data": {
      "text/plain": [
       "2722"
      ]
     },
     "execution_count": 84,
     "metadata": {},
     "output_type": "execute_result"
    }
   ],
   "source": [
    "len(go_term_idx)"
   ]
  },
  {
   "cell_type": "code",
   "execution_count": 85,
   "id": "887b4739-65ca-440b-875b-b7cd490c1b70",
   "metadata": {},
   "outputs": [],
   "source": [
    "numerator = go_gs_gene_mtx.T.dot(go_gs_gene_mtx)\n",
    "gs_counts = go_gs_gene_mtx.sum(axis = 0)\n",
    "denominator = gs_counts + gs_counts.T - numerator\n",
    "jaccard_matrix = (numerator / denominator).A"
   ]
  },
  {
   "cell_type": "code",
   "execution_count": 86,
   "id": "9784539e-c7ae-45a4-b616-011d7117fe44",
   "metadata": {},
   "outputs": [],
   "source": [
    "eigenvalues = np.linalg.eigvals(jaccard_matrix)\n",
    "eigenvalues_real = np.real(eigenvalues)\n",
    "total_var = eigenvalues_real.sum()\n",
    "var_explained = np.cumsum(eigenvalues_real) / total_var"
   ]
  },
  {
   "cell_type": "code",
   "execution_count": 87,
   "id": "1265a4ae-6bf9-4ad5-9ad2-615f9ccd038c",
   "metadata": {},
   "outputs": [
    {
     "data": {
      "text/plain": [
       "[<matplotlib.lines.Line2D at 0x7fb49bbb6a50>]"
      ]
     },
     "execution_count": 87,
     "metadata": {},
     "output_type": "execute_result"
    },
    {
     "data": {
      "image/png": "[encoded data removed]",
      "text/plain": [
       "<Figure size 400x400 with 1 Axes>"
      ]
     },
     "metadata": {},
     "output_type": "display_data"
    }
   ],
   "source": [
    "plt.plot(var_explained)"
   ]
  },
  {
   "cell_type": "code",
   "execution_count": 92,
   "id": "0c64128d-74fd-453f-b1af-c698bbe8e099",
   "metadata": {},
   "outputs": [
    {
     "data": {
      "text/plain": [
       "2261"
      ]
     },
     "execution_count": 92,
     "metadata": {},
     "output_type": "execute_result"
    }
   ],
   "source": [
    "num_effective_tests = list(var_explained > 0.95).index(True)\n",
    "num_effective_tests"
   ]
  },
  {
   "cell_type": "markdown",
   "id": "dd614678-31a9-4aa9-b478-03eaa2c0cdfa",
   "metadata": {},
   "source": [
    "## Run the thing\n",
    "\n",
    "This code will need to be decently adaptable, since it has to handle a few different unique components (noncoding categories, etc) and analyses. We're going to store _many_ different components, so let's list them all out here. For each gene set and category, we need to do the following:\n",
    "\n",
    "* case vs. control vs. case_unique for cohort\n",
    "* `dosage-ignore` vs. `full-counts` vs. `binomial` for our testing.\n",
    "\n",
    "\n",
    "This is a TON of data, so hopefully the vectorized fishers exact makes it palatable. With that said, let's do it!"
   ]
  },
  {
   "cell_type": "code",
   "execution_count": 77,
   "id": "e9b04519-e173-4595-aa6e-91671369bd9c",
   "metadata": {},
   "outputs": [],
   "source": [
    "# reduce our framework results to only those we care about analyzing\n",
    "analyzed_framework_results = framework_results.query('negative_log10_p_value > 3')"
   ]
  },
  {
   "cell_type": "code",
   "execution_count": 78,
   "id": "1cc839c5-5aca-461d-b652-e95ca1205872",
   "metadata": {},
   "outputs": [
    {
     "data": {
      "text/plain": [
       "neuroblastoma    151\n",
       "osteosarcoma      27\n",
       "ewing             13\n",
       "Name: disease, dtype: int64"
      ]
     },
     "execution_count": 78,
     "metadata": {},
     "output_type": "execute_result"
    }
   ],
   "source": [
    "analyzed_framework_results['disease'].value_counts()"
   ]
  },
  {
   "cell_type": "markdown",
   "id": "2da131c1-a63b-401c-acad-e2d53e3e501c",
   "metadata": {},
   "source": [
    "Because it's relevant for gene set figure making later, I'm going to add a few more categories here:"
   ]
  },
  {
   "cell_type": "code",
   "execution_count": 79,
   "id": "4dbf9f2d-f7d0-4386-8450-af839767f125",
   "metadata": {},
   "outputs": [],
   "source": [
    "added_categories = ['ANY.RARE.ANY.ANY.ANY.protein_coding', 'DEL.RARE.ANY.ANY.ANY.protein_coding']\n",
    "\n",
    "added_categories = framework_results[(framework_results['disease'] == \"neuroblastoma\") &\n",
    "                                     (framework_results['category_name'].isin(added_categories))]"
   ]
  },
  {
   "cell_type": "code",
   "execution_count": 80,
   "id": "b4dec03a-01cc-4172-b6df-a02e8fc8072f",
   "metadata": {},
   "outputs": [],
   "source": [
    "analyzed_framework_results = pd.concat([analyzed_framework_results, added_categories])"
   ]
  },
  {
   "cell_type": "code",
   "execution_count": 81,
   "id": "e3553210-2a3b-4c07-86f6-a7e2ab921c85",
   "metadata": {},
   "outputs": [
    {
     "data": {
      "text/plain": [
       "193"
      ]
     },
     "execution_count": 81,
     "metadata": {},
     "output_type": "execute_result"
    }
   ],
   "source": [
    "len(analyzed_framework_results)"
   ]
  },
  {
   "cell_type": "code",
   "execution_count": 85,
   "id": "ca8a5142-e39d-48c7-9e2c-162e971691d7",
   "metadata": {},
   "outputs": [
    {
     "name": "stdout",
     "output_type": "stream",
     "text": [
      "0, 1, 2, 3, 4, 5, 6, 7, 8, 9, 10, 11, 12, 13, 14, 15, 16, 17, 18, 19, 20, 21, 22, 23, 24, 25, 26, 27, 28, 29, 30, 31, 32, 33, 34, 35, 36, 37, 38, 39, 40, 41, 42, 43, 44, 45, 46, 47, 48, 49, 50, 51, 52, 53, 54, 55, 56, 57, 58, 59, 60, 61, 62, 63, 64, 65, 66, 67, 68, 69, 70, 71, 72, 73, 74, 75, 76, 77, 78, 79, 80, 81, 82, 83, 84, 85, 86, 87, 88, 89, 90, 91, 92, 93, 94, 95, 96, 97, 98, 99, 100, 101, 102, 103, 104, 105, 106, 107, 108, 109, 110, 111, 112, 113, 114, 115, 116, 117, 118, 119, 120, 121, 122, 123, 124, 125, 126, 127, 128, 129, 130, 131, 132, 133, 134, 135, 136, 137, 138, 139, 140, 141, 142, 143, 144, 145, 146, 147, 148, 149, 150, 151, 152, 153, 154, 155, 156, 157, 158, 159, 160, 161, 162, 163, 164, 165, 166, 167, 168, 169, 170, 171, 172, 173, 174, 175, 176, 177, 178, 179, 180, 181, 182, 183, 184, 185, 186, 187, 188, 189, 190, 191, 192, "
     ]
    }
   ],
   "source": [
    "fisher_results = []\n",
    "binomial_results = []\n",
    "\n",
    "for i, (index, row) in enumerate(analyzed_framework_results.iterrows()):\n",
    "    \n",
    "    #######################################\n",
    "    ### STEP 1 - DEFINE OUR GENE COUNTS ###\n",
    "    #######################################\n",
    "    \n",
    "    # This process is the exact same for all categories - later steps will subset our gene counts\n",
    "    print(i, end = ', ')\n",
    "    cat_name = row['category_name']\n",
    "    sv_category = row['sv_category']\n",
    "    disease = row['disease']\n",
    "    \n",
    "    # next, we pull out our SVs in this category\n",
    "    svs_in_category = category_svs[(category_svs[\"category\"] == cat_name) &\n",
    "                                   (category_svs[\"disease\"] == disease)]['SV'].tolist()\n",
    "    \n",
    "    ###############################\n",
    "    ### EXTRACT CATEGORY COUNTS ###\n",
    "    ###############################\n",
    "    category_counts = ref_counts[\n",
    "        (ref_counts[\"name\"].isin(svs_in_category))\n",
    "        & (ref_counts[\"disease\"] == disease)\n",
    "        & (ref_counts[\"sv_category\"] == sv_category)\n",
    "        & (ref_counts[\"dose\"] > 0)\n",
    "    ]\n",
    "    \n",
    "    ###############################\n",
    "    ### DEFINE REFERENCE COUNTS ###\n",
    "    ###############################\n",
    "    ref_category_counts = ref_counts[\n",
    "        (~ref_counts[\"name\"].isin(svs_in_category))\n",
    "        & (ref_counts[\"disease\"] == disease)\n",
    "        & (ref_counts[\"sv_category\"] == sv_category)\n",
    "        & (ref_counts[\"dose\"] > 0)\n",
    "    ]\n",
    "    \n",
    "    ##################################################\n",
    "    ### PRECALCULATE SOME VALUES FOR BINOMIAL TEST ###\n",
    "    ##################################################\n",
    "    \n",
    "    # theoretically, we could include covariates like gene size, etc\n",
    "    # we don't for now\n",
    "    \n",
    "    eligible_category_genes = category_gene_matrix.loc[cat_name].values\n",
    "        \n",
    "    gs_genes_in_cat = gs_gene_sparse_mtx.T.multiply(eligible_category_genes).sum(axis = 1).A1\n",
    "    num_genes_in_cat = eligible_category_genes.sum()\n",
    "\n",
    "    null_p_gs = (gs_genes_in_cat / num_genes_in_cat)\n",
    "    \n",
    "#     elif sv_category == 'coding':\n",
    "        \n",
    "#         gs_genes_in_cat_size = gs_gene_lengths_sparse_mtx.T.multiply(eligible_category_genes).sum(axis = 1).A1\n",
    "#         total_cat_size = (gene_lengths_ordered * eligible_category_genes).sum()\n",
    "        \n",
    "#         null_p_gs = (gs_genes_in_cat_size / total_cat_size)\n",
    "    \n",
    "    ##############################\n",
    "    ### RUN ANALYSES BY COHORT ###\n",
    "    ###############################\n",
    "        \n",
    "    for cohort in ['case', 'control', 'case_unique']:\n",
    "        \n",
    "        cohort_category_counts = category_counts[category_counts['cohort'] == cohort]\n",
    "        cohort_ref_category_counts = ref_category_counts[ref_category_counts['cohort'] == cohort]\n",
    "        \n",
    "        # transform gene counts into arrays\n",
    "        cohort_gene_counts = cohort_category_counts.groupby(['gene'])['dose'].sum()\n",
    "        cohort_ref_gene_counts = cohort_ref_category_counts.groupby(['gene'])['dose'].sum()\n",
    "        \n",
    "        # fill in missing gene counts (with 0)\n",
    "        cohort_gene_counts = cohort_gene_counts.reindex(gene_ref, fill_value = 0).values.reshape(1, -1).astype(int)\n",
    "        cohort_ref_gene_counts = cohort_ref_gene_counts.reindex(gene_ref, fill_value = 0).values.reshape(1, -1).astype(int)\n",
    "        \n",
    "        # we run two fishers - binary and not\n",
    "        for analysis in ['full']:\n",
    "            analysis_gene_counts = cohort_gene_counts.copy()\n",
    "            analysis_ref_gene_counts = cohort_ref_gene_counts.copy()\n",
    "            \n",
    "            # if analysis == 'binary':\n",
    "            #     analysis_gene_counts = analysis_gene_counts.astype(bool).astype(int)\n",
    "            #     analysis_ref_gene_counts = analysis_ref_gene_counts.astype(bool).astype(int)\n",
    "                \n",
    "            # convert to sparse\n",
    "            analysis_gene_counts = scipy.sparse.csr_matrix(analysis_gene_counts)\n",
    "            analysis_ref_gene_counts = scipy.sparse.csr_matrix(analysis_ref_gene_counts)\n",
    "            \n",
    "            # build our contingency table\n",
    "            cat_and_gs = analysis_gene_counts.dot(gs_gene_sparse_mtx)\n",
    "            cat_and_not_gs = analysis_gene_counts.sum(axis = 1) - cat_and_gs\n",
    "            not_cat_and_gs = analysis_ref_gene_counts.dot(gs_gene_sparse_mtx)\n",
    "            not_cat_and_not_gs = analysis_ref_gene_counts.sum(axis = 1) - not_cat_and_gs\n",
    "\n",
    "            # contingency table\n",
    "            tp = cat_and_gs.todense().A1.astype(int)\n",
    "            fp = cat_and_not_gs.A1.astype(int)\n",
    "            fn = not_cat_and_gs.todense().A1.astype(int)\n",
    "            tn = not_cat_and_not_gs.A1.astype(int)\n",
    "\n",
    "            # calculate p values\n",
    "            results = pyranges.statistics.fisher_exact(tp, fp, fn, tn, pseudocount = 1)\n",
    "                \n",
    "            results['ref_freq'] = pd.Series(fn.astype(str)) + '/' + pd.Series((fn + tn).astype(str))\n",
    "            results['cat_freq'] = pd.Series((tp).astype(str)) + '/' + pd.Series((tp + fp).astype(str))\n",
    "            results['db'] = [string.split(' | ')[0] for string in gene_sets]\n",
    "            results['gs'] = [string.split(' | ')[1] for string in gene_sets]\n",
    "            results['category'] = cat_name\n",
    "            results['cohort'] = cohort\n",
    "            results['analysis'] = analysis\n",
    "            results['sv_category'] = sv_category\n",
    "            results['disease'] = disease\n",
    "            \n",
    "            # add in a feature for unique number of genes in the overlap\n",
    "            unique_gene_overlaps = analysis_gene_counts.astype(bool).multiply(gs_gene_sparse_mtx.T.astype(bool))\n",
    "            unique_gene_overlaps = unique_gene_overlaps.todense().A.sum(axis = 1)\n",
    "            results['num_unique_genes_in_overlap'] = unique_gene_overlaps\n",
    "                \n",
    "            results = results[['disease', 'category', 'sv_category', 'cohort', 'analysis', 'db', 'gs', \n",
    "                               'ref_freq', 'cat_freq', 'num_unique_genes_in_overlap', 'OR', 'P']]\n",
    "            results = results.rename(columns = {'OR': 'odds_ratio', 'P': 'p'})\n",
    "\n",
    "            # here, we do FDR correction. We ignore cases where there is no gene set overlap with the reference.\n",
    "            fdr_p = statsmodels.stats.multitest.multipletests(results['p'].to_list(), method='fdr_bh')[1]\n",
    "            results['fdr_p'] = fdr_p\n",
    "            results['bonf_p'] = results['p'] * num_effective_tests\n",
    "\n",
    "            fisher_results.append(results)\n",
    "          \n",
    "        #####################\n",
    "        ### BINOMIAL TEST ###\n",
    "        #####################\n",
    "        \n",
    "        # we've already calculated \"successes\" and counts above.\n",
    "        # unfortunately this doesn't allow vectorization, and it's\n",
    "        # mega slow\n",
    "        binomial_test = [scipy.stats.binomtest(k, n, null_p) if n != 0 else np.nan for k, n, null_p in zip(tp, tp + fp, null_p_gs)]\n",
    "        \n",
    "        # transform to dataframe\n",
    "        binomial_test = [(res.pvalue, res.proportion_estimate) if not pd.isnull(res) else (np.nan, np.nan) for res in binomial_test]\n",
    "        binomial_test = pd.DataFrame(binomial_test, columns = ['p', 'observed_prop'])\n",
    "        binomial_test['expected_prop'] = null_p_gs\n",
    "        binomial_test['db'] = [string.split(' | ')[0] for string in gene_sets]\n",
    "        binomial_test['gs'] = [string.split(' | ')[1] for string in gene_sets]\n",
    "        binomial_test['category'] = cat_name\n",
    "        binomial_test['cohort'] = cohort\n",
    "        binomial_test['sv_category'] = sv_category\n",
    "        binomial_test['disease'] = disease\n",
    "        \n",
    "        binomial_test = binomial_test[['disease', 'category', 'sv_category', 'cohort', 'db', 'gs', \n",
    "                                       'expected_prop', 'observed_prop', 'p']]\n",
    "        \n",
    "        fdr_p = statsmodels.stats.multitest.multipletests(binomial_test['p'].to_list(), method='fdr_bh')[1]\n",
    "        binomial_test['fdr_p'] = fdr_p\n",
    "        binomial_test['bonf_p'] = binomial_test['p'] * num_effective_tests\n",
    "            \n",
    "        # the binomial test uses the case unique counts, so we can reuse this variable (last of loop above)\n",
    "        binomial_test['num_unique_genes_in_overlap'] = unique_gene_overlaps\n",
    "\n",
    "        binomial_results.append(binomial_test)\n",
    "                \n",
    "gse_results = pd.concat(fisher_results)\n",
    "binomial_results = pd.concat(binomial_results)"
   ]
  },
  {
   "cell_type": "code",
   "execution_count": 86,
   "id": "9cb7cec1-0bbc-4027-bcfa-d736ba050175",
   "metadata": {},
   "outputs": [
    {
     "data": {
      "text/html": [
       "<div>\n",
       "<style scoped>\n",
       "    .dataframe tbody tr th:only-of-type {\n",
       "        vertical-align: middle;\n",
       "    }\n",
       "\n",
       "    .dataframe tbody tr th {\n",
       "        vertical-align: top;\n",
       "    }\n",
       "\n",
       "    .dataframe thead th {\n",
       "        text-align: right;\n",
       "    }\n",
       "</style>\n",
       "<table border=\"1\" class=\"dataframe\">\n",
       "  <thead>\n",
       "    <tr style=\"text-align: right;\">\n",
       "      <th></th>\n",
       "      <th>disease</th>\n",
       "      <th>category</th>\n",
       "      <th>sv_category</th>\n",
       "      <th>cohort</th>\n",
       "      <th>analysis</th>\n",
       "      <th>db</th>\n",
       "      <th>gs</th>\n",
       "      <th>ref_freq</th>\n",
       "      <th>cat_freq</th>\n",
       "      <th>num_unique_genes_in_overlap</th>\n",
       "      <th>odds_ratio</th>\n",
       "      <th>p</th>\n",
       "      <th>fdr_p</th>\n",
       "      <th>bonf_p</th>\n",
       "    </tr>\n",
       "  </thead>\n",
       "  <tbody>\n",
       "    <tr>\n",
       "      <th>0</th>\n",
       "      <td>neuroblastoma</td>\n",
       "      <td>DEL.SINGLETON.ANY.unconstrained.ANY.protein_co...</td>\n",
       "      <td>coding</td>\n",
       "      <td>case</td>\n",
       "      <td>full</td>\n",
       "      <td>MSigDB_Hallmark_2020</td>\n",
       "      <td>TNF-alpha Signaling via NF-kB</td>\n",
       "      <td>27/3833</td>\n",
       "      <td>1/113</td>\n",
       "      <td>1</td>\n",
       "      <td>2.406448</td>\n",
       "      <td>0.557965</td>\n",
       "      <td>1.0</td>\n",
       "      <td>1261.559492</td>\n",
       "    </tr>\n",
       "    <tr>\n",
       "      <th>1</th>\n",
       "      <td>neuroblastoma</td>\n",
       "      <td>DEL.SINGLETON.ANY.unconstrained.ANY.protein_co...</td>\n",
       "      <td>coding</td>\n",
       "      <td>case</td>\n",
       "      <td>full</td>\n",
       "      <td>MSigDB_Hallmark_2020</td>\n",
       "      <td>Hypoxia</td>\n",
       "      <td>31/3833</td>\n",
       "      <td>2/113</td>\n",
       "      <td>1</td>\n",
       "      <td>3.183315</td>\n",
       "      <td>0.243565</td>\n",
       "      <td>1.0</td>\n",
       "      <td>550.700151</td>\n",
       "    </tr>\n",
       "  </tbody>\n",
       "</table>\n",
       "</div>"
      ],
      "text/plain": [
       "         disease                                           category  \\\n",
       "0  neuroblastoma  DEL.SINGLETON.ANY.unconstrained.ANY.protein_co...   \n",
       "1  neuroblastoma  DEL.SINGLETON.ANY.unconstrained.ANY.protein_co...   \n",
       "\n",
       "  sv_category cohort analysis                    db  \\\n",
       "0      coding   case     full  MSigDB_Hallmark_2020   \n",
       "1      coding   case     full  MSigDB_Hallmark_2020   \n",
       "\n",
       "                              gs ref_freq cat_freq  \\\n",
       "0  TNF-alpha Signaling via NF-kB  27/3833    1/113   \n",
       "1                        Hypoxia  31/3833    2/113   \n",
       "\n",
       "   num_unique_genes_in_overlap  odds_ratio         p  fdr_p       bonf_p  \n",
       "0                            1    2.406448  0.557965    1.0  1261.559492  \n",
       "1                            1    3.183315  0.243565    1.0   550.700151  "
      ]
     },
     "execution_count": 86,
     "metadata": {},
     "output_type": "execute_result"
    }
   ],
   "source": [
    "gse_results.head(2)"
   ]
  },
  {
   "cell_type": "markdown",
   "id": "7a2bc59d-c493-4810-af76-488f996a8304",
   "metadata": {},
   "source": [
    "Truly a colossal dataframe. Compress the p values for export"
   ]
  },
  {
   "cell_type": "code",
   "execution_count": 88,
   "id": "4a46d435-e1e2-4647-b583-479214e6c217",
   "metadata": {},
   "outputs": [],
   "source": [
    "# gse_results[\"p\"] = gse_results[\"p\"].round(5)\n",
    "# gse_results[\"fdr_p\"] = gse_results[\"fdr_p\"].round(5)\n",
    "# gse_results[\"odds_ratio\"] = gse_results[\"odds_ratio\"].round(5)\n",
    "\n",
    "# binomial_results[\"p\"] = binomial_results[\"p\"].round(5)\n",
    "# binomial_results[\"fdr_p\"] = binomial_results[\"fdr_p\"].round(5)\n",
    "# binomial_results[\"expected_prop\"] = binomial_results[\"expected_prop\"].round(5)\n",
    "# binomial_results['observed_prop'] = binomial_results['observed_prop'].round(5)"
   ]
  },
  {
   "cell_type": "markdown",
   "id": "692fd950-c8bc-4c8f-a8ce-f61dc868da9e",
   "metadata": {},
   "source": [
    "We now reorganize this dataframe so that the three cohorts (`cases`, `controls`, and `cases-unique`) are all on one row."
   ]
  },
  {
   "cell_type": "code",
   "execution_count": 89,
   "id": "c08752df-8ffe-49f4-a4a3-f5a7e7b80091",
   "metadata": {},
   "outputs": [],
   "source": [
    "cases = gse_results.query('cohort == \"case\"')\n",
    "controls = gse_results.query('cohort == \"control\"')\n",
    "cases_unique = gse_results.query('cohort == \"case_unique\"')"
   ]
  },
  {
   "cell_type": "markdown",
   "id": "a1a7f848-d14b-4ba4-9892-88a857e729be",
   "metadata": {},
   "source": [
    "Rather than going through some painstaking merge process, each cohort should have the exact same order. So we can just add new columns."
   ]
  },
  {
   "cell_type": "code",
   "execution_count": 90,
   "id": "3f18dbb5-54a7-42c3-98ac-2ea66626c89a",
   "metadata": {},
   "outputs": [],
   "source": [
    "overlap_cols = [\n",
    "    \"disease\",\n",
    "    \"category\",\n",
    "    \"analysis\",\n",
    "    \"sv_category\",\n",
    "    \"db\",\n",
    "    \"gs\",\n",
    "]"
   ]
  },
  {
   "cell_type": "code",
   "execution_count": 91,
   "id": "11b4bbd7-0cf3-46de-b364-24ca97074724",
   "metadata": {},
   "outputs": [
    {
     "data": {
      "text/plain": [
       "True"
      ]
     },
     "execution_count": 91,
     "metadata": {},
     "output_type": "execute_result"
    }
   ],
   "source": [
    "# check that the overlaps are the same\n",
    "np.logical_and(\n",
    "    (cases[overlap_cols] == controls[overlap_cols]).all(),\n",
    "    (controls[overlap_cols] == cases_unique[overlap_cols]).all(),\n",
    ").all()"
   ]
  },
  {
   "cell_type": "code",
   "execution_count": 92,
   "id": "d6672001-e061-4008-86fa-a34867853688",
   "metadata": {},
   "outputs": [],
   "source": [
    "combined_gse_results = cases.drop(columns=[\"cohort\"]).copy()\n",
    "\n",
    "# rename some columns\n",
    "combined_gse_results.columns = [\n",
    "    c + \"_cases\" if c not in overlap_cols else c for c in combined_gse_results.columns\n",
    "]\n",
    "\n",
    "for label, d in zip([\"_controls\", \"_cases_unique\"], [controls, cases_unique]):\n",
    "    d_temp = d.copy().drop(columns=overlap_cols + [\"cohort\"])\n",
    "    d_temp.columns = [c + label for c in d_temp.columns]\n",
    "    combined_gse_results[d_temp.columns] = d_temp"
   ]
  },
  {
   "cell_type": "code",
   "execution_count": 93,
   "id": "628569ac-2186-4ab8-84c8-5b10a96efc36",
   "metadata": {},
   "outputs": [],
   "source": [
    "combined_gse_results.to_csv(\n",
    "    \"data/cwas-results/cwas-gene-set-enrichment-results.csv\", index=False\n",
    ")"
   ]
  },
  {
   "cell_type": "markdown",
   "id": "a05aaccf-b5d8-4835-9972-3f29a56618df",
   "metadata": {},
   "source": [
    "Repeat for binomial results"
   ]
  },
  {
   "cell_type": "code",
   "execution_count": 94,
   "id": "82eecb84-c600-49d1-a87b-4e9cb54d0cf5",
   "metadata": {},
   "outputs": [],
   "source": [
    "cases = binomial_results.query('cohort == \"case\"')\n",
    "controls = binomial_results.query('cohort == \"control\"')\n",
    "cases_unique = binomial_results.query('cohort == \"case_unique\"')"
   ]
  },
  {
   "cell_type": "code",
   "execution_count": 95,
   "id": "1cbdbf0b-8d79-4f92-b772-c1ffd0aaab30",
   "metadata": {},
   "outputs": [],
   "source": [
    "overlap_cols = [\n",
    "    \"disease\",\n",
    "    \"category\",\n",
    "    \"sv_category\",\n",
    "    \"db\",\n",
    "    \"gs\",\n",
    "]"
   ]
  },
  {
   "cell_type": "code",
   "execution_count": 96,
   "id": "6466224c-bdeb-4fe5-ac47-cddfdeae556e",
   "metadata": {},
   "outputs": [
    {
     "data": {
      "text/plain": [
       "True"
      ]
     },
     "execution_count": 96,
     "metadata": {},
     "output_type": "execute_result"
    }
   ],
   "source": [
    "# check that the overlaps are the same\n",
    "np.logical_and(\n",
    "    (cases[overlap_cols] == controls[overlap_cols]).all(),\n",
    "    (controls[overlap_cols] == cases_unique[overlap_cols]).all(),\n",
    ").all()"
   ]
  },
  {
   "cell_type": "code",
   "execution_count": 97,
   "id": "31c5df6e-13c1-4fdd-89ff-b2f32b2d9f17",
   "metadata": {},
   "outputs": [],
   "source": [
    "combined_binom_results = cases.drop(columns=[\"cohort\"]).copy()\n",
    "\n",
    "# rename some columns\n",
    "combined_binom_results.columns = [\n",
    "    c + \"_cases\" if c not in overlap_cols else c for c in combined_binom_results.columns\n",
    "]\n",
    "\n",
    "for label, d in zip([\"_controls\", \"_cases_unique\"], [controls, cases_unique]):\n",
    "    d_temp = d.copy().drop(columns=overlap_cols + [\"cohort\"])\n",
    "    d_temp.columns = [c + label for c in d_temp.columns]\n",
    "    combined_binom_results[d_temp.columns] = d_temp"
   ]
  },
  {
   "cell_type": "code",
   "execution_count": 98,
   "id": "48a5c653-7e5f-48d6-9380-6ba0086ecd2a",
   "metadata": {},
   "outputs": [],
   "source": [
    "combined_binom_results.to_csv(\n",
    "    \"data/cwas-results/cwas-category-gs-binomial-results.csv\", index=False\n",
    ")"
   ]
  },
  {
   "cell_type": "code",
   "execution_count": 99,
   "id": "c0d13d1d-693b-480d-9e01-d2f8525bb669",
   "metadata": {},
   "outputs": [],
   "source": [
    "ref_counts.to_csv('data/cwas-results/reference-counts.csv', index = False)"
   ]
  },
  {
   "cell_type": "markdown",
   "id": "9c7b9723-c5f7-4120-bcad-a43390d9129c",
   "metadata": {},
   "source": [
    "This notebook is getting much too large, so I'm going to analyze these results in a different notebook."
   ]
  }
 ],
 "metadata": {
  "kernelspec": {
   "display_name": "pediatric-germline-svs-3.7.13",
   "language": "python",
   "name": "pediatric-germline-svs-3.7.13"
  },
  "language_info": {
   "codemirror_mode": {
    "name": "ipython",
    "version": 3
   },
   "file_extension": ".py",
   "mimetype": "text/x-python",
   "name": "python",
   "nbconvert_exporter": "python",
   "pygments_lexer": "ipython3",
   "version": "3.7.13"
  }
 },
 "nbformat": 4,
 "nbformat_minor": 5
}
