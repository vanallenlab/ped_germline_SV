{
 "cells": [
  {
   "cell_type": "code",
   "execution_count": 353,
   "id": "7faf7828-a5a8-4a0c-bab2-1583e9b9bf26",
   "metadata": {},
   "outputs": [],
   "source": [
    "import gseapy as gp\n",
    "import pandas as pd\n",
    "import numpy as np\n",
    "import scipy\n",
    "\n",
    "import re\n",
    "from gseapy import Biomart\n",
    "\n",
    "import matplotlib.pyplot as plt\n",
    "from scripts import aesthetics\n",
    "\n",
    "aesthetics.activate_paper_rcParams()"
   ]
  },
  {
   "cell_type": "markdown",
   "id": "2ff50573-913c-4d4a-85d2-2adcf20872ae",
   "metadata": {},
   "source": [
    "# CWAS Gene Set Enrichment\n",
    "\n",
    "In this notebook, we explore whether categories significantly enriched for SVs in cases vs. controls reflect any higher level biological process. One way to do this is with gene set enrichment."
   ]
  },
  {
   "cell_type": "markdown",
   "id": "03d4797b-4907-4f7a-872c-4dc2aae28825",
   "metadata": {},
   "source": [
    "# What is gene set enrichment anyway?\n",
    "\n",
    "The idea of gene set enrichment is that in a list of genes (i.e. upregulated genes, or genes targeted by a \"category\"), if it were random, would have a certain degree of overlap with a gene set by pure chance. The idea of gene set enrichment is that we determine overlap with a gene set, and compare this to the background.\n",
    "\n",
    "This is a bit weirder with these data, since we have actual _SV counts_. The underlying test for gene set enrichment is a fisher's exact test, which works perfectly fine with counts in that way, but I'm not entirely sure it's right to do?\n",
    "\n",
    "We'll do it anyway I guess."
   ]
  },
  {
   "cell_type": "markdown",
   "id": "13dd9c2d-e951-42c6-9e3f-0f769f4ec9dc",
   "metadata": {},
   "source": [
    "# Load in the data\n",
    "\n",
    "We load in the SVs and dosages, which we'll need."
   ]
  },
  {
   "cell_type": "markdown",
   "id": "9f5ac656-9484-4cb2-b493-3dbae9c63129",
   "metadata": {
    "tags": []
   },
   "source": [
    "## Read in SVs"
   ]
  },
  {
   "cell_type": "code",
   "execution_count": 103,
   "id": "3fbde6e9-7298-45c9-a6b8-7596f5d4c033",
   "metadata": {},
   "outputs": [],
   "source": [
    "# define the folder name for all our results\n",
    "folder_name = \"processed-data-v2.5.2\"\n",
    "\n",
    "# define SVs and dosages for discovery and validation\n",
    "sv_path = \"gs://vanallen-pedsv-analysis/beds/PedSV.v2.5.2.full_cohort.analysis_samples.sites.bed.gz\"\n",
    "dosages_path = \"gs://vanallen-pedsv-analysis/beds/PedSV.v2.5.2.full_cohort.analysis_samples.allele_dosages.bed.gz\"\n",
    "\n",
    "# define metadata\n",
    "metadata_path = \"gs://vanallen-pedsv-analysis/sample_info/PedSV.v2.5.2.cohort_metadata.w_control_assignments.tsv.gz\"\n",
    "samples_path = \"gs://vanallen-pedsv-analysis/sample_info/PedSV.v2.5.2.final_analysis_cohort.samples.list\"\n",
    "\n",
    "# list of genes that are annotated - drop ensembl IDs\n",
    "gene_ref = pd.read_csv(\"ref/gencode_hg38_protein_coding_genes_for_annotation_7_31_23.txt\")\n",
    "gene_ref = gene_ref[~gene_ref['value'].str.startswith('ENSG00')]\n",
    "gene_ref = gene_ref['value'].tolist()"
   ]
  },
  {
   "cell_type": "markdown",
   "id": "8085c096-1ea6-4a62-ae31-87ea9afde972",
   "metadata": {},
   "source": [
    "Load metadata and SVs"
   ]
  },
  {
   "cell_type": "code",
   "execution_count": 3,
   "id": "258b57d3-0c78-46c7-801f-62ac188508af",
   "metadata": {},
   "outputs": [],
   "source": [
    "metadata = pd.read_csv(\n",
    "    metadata_path,\n",
    "    sep=\"\\t\",\n",
    ")\n",
    "\n",
    "# add a sex label to metadata\n",
    "metadata[\"sex\"] = (metadata[\"chrX_CopyNumber\"].round() < 2).astype(int)\n",
    "\n",
    "###############\n",
    "### Samples ###\n",
    "###############\n",
    "nbl_cases = metadata[\n",
    "    (metadata[\"neuroblastoma_case\"] == True)\n",
    "][\"entity:sample_id\"].tolist()\n",
    "\n",
    "nbl_controls = metadata[\n",
    "    (metadata[\"neuroblastoma_control\"] == True)\n",
    "][\"entity:sample_id\"].tolist()"
   ]
  },
  {
   "cell_type": "markdown",
   "id": "9f7209b0-7630-4502-a796-5eb7faac61c1",
   "metadata": {},
   "source": [
    "Now we load the SVs. We'll eventually combine discovery and validation data, but it's easiest to keep them separate for now, since the SVs and dosages are not fully overlapping."
   ]
  },
  {
   "cell_type": "code",
   "execution_count": 4,
   "id": "c3304748-d6f6-4e28-aea1-75fc7ddf24bc",
   "metadata": {},
   "outputs": [
    {
     "name": "stderr",
     "output_type": "stream",
     "text": [
      "/Users/jettcrowdis/opt/anaconda3/envs/pediatric-germline-svs-3.7.13/lib/python3.7/site-packages/IPython/core/interactiveshell.py:3457: DtypeWarning: Columns (10,34,35,37,39,41,45,46,47,48,72,73,87,88,106,107,121,122,136,137,155,156,170,171,185,186,204,205,219,220,234,235,253,254,268,269,283,284,302,303,366,367,381,382,400,401,415,416,430,431,449,450,464,465,479,480,498,499,513,514,528,529,547,548,562,563,577,578,596,597,645,646,647,648,649,650,690,691,692,693,694,695,713,714,728,729,743,744,758,759,773,774,788,789,803,804,818,819,833,834,848,849,863,864,878,879,893,894,908,909,923,924,931,937,943) have mixed types.Specify dtype option on import or set low_memory=False.\n",
      "  exec(code_obj, self.user_global_ns, self.user_ns)\n"
     ]
    }
   ],
   "source": [
    "###############\n",
    "##### SVs #####\n",
    "###############\n",
    "svs = pd.read_csv(\n",
    "    sv_path,\n",
    "    sep=\"\\t\",\n",
    ")\n",
    "\n",
    "###############\n",
    "### Dosages ###\n",
    "###############\n",
    "dosages = pd.read_csv(\n",
    "    dosages_path,\n",
    "    sep=\"\\t\",\n",
    "    index_col=False,\n",
    ")"
   ]
  },
  {
   "cell_type": "markdown",
   "id": "8bc80f52-735d-46f2-bb38-2032ea169030",
   "metadata": {},
   "source": [
    "## Read in the category results\n",
    "\n",
    "I'm going to concatenate all this data so that I'm only dealing with a few files. Focusing on neuroblastoma."
   ]
  },
  {
   "cell_type": "code",
   "execution_count": 5,
   "id": "8d5a4d3e-cde0-49ad-bbd9-f6d668a22cbd",
   "metadata": {},
   "outputs": [
    {
     "data": {
      "text/html": [
       "<div>\n",
       "<style scoped>\n",
       "    .dataframe tbody tr th:only-of-type {\n",
       "        vertical-align: middle;\n",
       "    }\n",
       "\n",
       "    .dataframe tbody tr th {\n",
       "        vertical-align: top;\n",
       "    }\n",
       "\n",
       "    .dataframe thead th {\n",
       "        text-align: right;\n",
       "    }\n",
       "</style>\n",
       "<table border=\"1\" class=\"dataframe\">\n",
       "  <thead>\n",
       "    <tr style=\"text-align: right;\">\n",
       "      <th></th>\n",
       "      <th>SV</th>\n",
       "      <th>chrom</th>\n",
       "      <th>start</th>\n",
       "      <th>end</th>\n",
       "      <th>category</th>\n",
       "      <th>sv_category</th>\n",
       "    </tr>\n",
       "  </thead>\n",
       "  <tbody>\n",
       "    <tr>\n",
       "      <th>0</th>\n",
       "      <td>PedSV.2.5.2_DUP_chr1_794</td>\n",
       "      <td>chr1</td>\n",
       "      <td>19221626</td>\n",
       "      <td>19301822</td>\n",
       "      <td>DUP.RARE.PREDICTED_COPY_GAIN.lof_constrained.e...</td>\n",
       "      <td>coding</td>\n",
       "    </tr>\n",
       "    <tr>\n",
       "      <th>1</th>\n",
       "      <td>PedSV.2.5.2_DUP_chr1_1379</td>\n",
       "      <td>chr1</td>\n",
       "      <td>44731601</td>\n",
       "      <td>44792024</td>\n",
       "      <td>DUP.RARE.PREDICTED_COPY_GAIN.lof_constrained.e...</td>\n",
       "      <td>coding</td>\n",
       "    </tr>\n",
       "  </tbody>\n",
       "</table>\n",
       "</div>"
      ],
      "text/plain": [
       "                          SV chrom     start       end  \\\n",
       "0   PedSV.2.5.2_DUP_chr1_794  chr1  19221626  19301822   \n",
       "1  PedSV.2.5.2_DUP_chr1_1379  chr1  44731601  44792024   \n",
       "\n",
       "                                            category sv_category  \n",
       "0  DUP.RARE.PREDICTED_COPY_GAIN.lof_constrained.e...      coding  \n",
       "1  DUP.RARE.PREDICTED_COPY_GAIN.lof_constrained.e...      coding  "
      ]
     },
     "execution_count": 5,
     "metadata": {},
     "output_type": "execute_result"
    }
   ],
   "source": [
    "###########\n",
    "### SVs ###\n",
    "###########\n",
    "nbl_coding_svs = pd.read_csv(\n",
    "    \"data/CWAS data for Jett/List of variants by category for each CWAS analysis/neuroblastoma_all_coding_SVs_in_each_category_list_combined_11_3_23.txt\",\n",
    "    sep=\"\\t\",\n",
    ")\n",
    "\n",
    "nbl_noncoding_svs = pd.read_csv('data/CWAS data for Jett/List of variants by category for each CWAS analysis/neuroblastoma_all_noncoding_SVs_in_each_category_list_combined_BURDEN_TESTING_with_col_names_11_3_23.txt', sep='\\t')\n",
    "nbl_noncoding_svs = nbl_noncoding_svs.rename(columns = {'emd': 'end'})\n",
    "\n",
    "# combine the SVs\n",
    "nbl_coding_svs['sv_category'] = 'coding'\n",
    "nbl_noncoding_svs['sv_category'] = 'non-coding'\n",
    "\n",
    "nbl_category_svs = pd.concat([nbl_coding_svs, nbl_noncoding_svs])\n",
    "nbl_category_svs.head(2)"
   ]
  },
  {
   "cell_type": "code",
   "execution_count": 6,
   "id": "401f854f-6749-4333-9acb-36da395e9d93",
   "metadata": {},
   "outputs": [],
   "source": [
    "#########################\n",
    "### FRAMEWORK RESULTS ###\n",
    "#########################\n",
    "nbl_singleton_coding_framework_results = pd.read_csv(\n",
    "    \"data/CWAS data for Jett/CWAS sum stats/neuroblastoma_all_coding_cwas_concatenated_glm_results_SINGLETON_11_3_23.txt\",\n",
    "    sep=\"\\t\",\n",
    ")\n",
    "nbl_singleton_coding_framework_results[['af_category', 'sv_category']] = ['singleton', 'coding']\n",
    "\n",
    "nbl_rare_coding_framework_results = pd.read_csv(\n",
    "    \"data/CWAS data for Jett/CWAS sum stats/neuroblastoma_all_coding_cwas_concatenated_glm_results_RARE_11_3_23.txt\",\n",
    "    sep=\"\\t\",\n",
    ")\n",
    "nbl_rare_coding_framework_results[['af_category', 'sv_category']] = ['rare', 'coding']\n",
    "\n",
    "nbl_singleton_noncoding_framework_results = pd.read_csv(\n",
    "    \"data/CWAS data for Jett/CWAS sum stats/neuroblastoma_all_noncoding_cwas_concatenated_glm_results_SINGLETON_11_3_23.txt\",\n",
    "    sep=\"\\t\",\n",
    ")\n",
    "nbl_singleton_noncoding_framework_results[['af_category', 'sv_category']] = ['singleton', 'non-coding']\n",
    "\n",
    "nbl_rare_noncoding_framework_results = pd.read_csv(\n",
    "    \"data/CWAS data for Jett/CWAS sum stats/neuroblastoma_all_noncoding_cwas_concatenated_glm_results_RARE_11_3_23.txt\",\n",
    "    sep=\"\\t\",\n",
    ")\n",
    "nbl_rare_noncoding_framework_results[['af_category', 'sv_category']] = ['rare', 'non-coding']\n",
    "\n",
    "nbl_framework_results = pd.concat([nbl_singleton_coding_framework_results, nbl_rare_coding_framework_results, \n",
    "                                   nbl_singleton_noncoding_framework_results, nbl_rare_noncoding_framework_results])"
   ]
  },
  {
   "cell_type": "code",
   "execution_count": 7,
   "id": "38dd1721-aadb-4b31-828e-0c2f088317ec",
   "metadata": {},
   "outputs": [
    {
     "data": {
      "text/html": [
       "<div>\n",
       "<style scoped>\n",
       "    .dataframe tbody tr th:only-of-type {\n",
       "        vertical-align: middle;\n",
       "    }\n",
       "\n",
       "    .dataframe tbody tr th {\n",
       "        vertical-align: top;\n",
       "    }\n",
       "\n",
       "    .dataframe thead th {\n",
       "        text-align: right;\n",
       "    }\n",
       "</style>\n",
       "<table border=\"1\" class=\"dataframe\">\n",
       "  <thead>\n",
       "    <tr style=\"text-align: right;\">\n",
       "      <th></th>\n",
       "      <th>point_estimate</th>\n",
       "      <th>std_error</th>\n",
       "      <th>z_score</th>\n",
       "      <th>p_value</th>\n",
       "      <th>SV_counts_cases</th>\n",
       "      <th>SV_counts_cases_max</th>\n",
       "      <th>number_of_cases_with_zero_SVs</th>\n",
       "      <th>total_cases</th>\n",
       "      <th>SV_counts_controls</th>\n",
       "      <th>SV_counts_controls_max</th>\n",
       "      <th>...</th>\n",
       "      <th>number_of_unique_SVs</th>\n",
       "      <th>category_name</th>\n",
       "      <th>sv_type</th>\n",
       "      <th>frequency</th>\n",
       "      <th>mean_SVs_per_case</th>\n",
       "      <th>mean_SVs_per_control</th>\n",
       "      <th>mean_SVs_total</th>\n",
       "      <th>negative_log10_p_value</th>\n",
       "      <th>af_category</th>\n",
       "      <th>sv_category</th>\n",
       "    </tr>\n",
       "  </thead>\n",
       "  <tbody>\n",
       "    <tr>\n",
       "      <th>0</th>\n",
       "      <td>0.271918</td>\n",
       "      <td>0.051227</td>\n",
       "      <td>5.308100</td>\n",
       "      <td>1.110000e-07</td>\n",
       "      <td>438</td>\n",
       "      <td>5</td>\n",
       "      <td>336</td>\n",
       "      <td>646</td>\n",
       "      <td>2441</td>\n",
       "      <td>4</td>\n",
       "      <td>...</td>\n",
       "      <td>459</td>\n",
       "      <td>ANY.SINGLETON.PREDICTED_LOF_or_PREDICTED_PARTI...</td>\n",
       "      <td>ANY</td>\n",
       "      <td>SINGLETON</td>\n",
       "      <td>0.678019</td>\n",
       "      <td>0.519362</td>\n",
       "      <td>0.538533</td>\n",
       "      <td>6.955563</td>\n",
       "      <td>singleton</td>\n",
       "      <td>coding</td>\n",
       "    </tr>\n",
       "    <tr>\n",
       "      <th>1</th>\n",
       "      <td>0.276065</td>\n",
       "      <td>0.054006</td>\n",
       "      <td>5.111756</td>\n",
       "      <td>3.190000e-07</td>\n",
       "      <td>393</td>\n",
       "      <td>5</td>\n",
       "      <td>356</td>\n",
       "      <td>646</td>\n",
       "      <td>2172</td>\n",
       "      <td>4</td>\n",
       "      <td>...</td>\n",
       "      <td>411</td>\n",
       "      <td>DEL.SINGLETON.ANY.ANY.ANY.protein_coding</td>\n",
       "      <td>DEL</td>\n",
       "      <td>SINGLETON</td>\n",
       "      <td>0.608359</td>\n",
       "      <td>0.462128</td>\n",
       "      <td>0.479798</td>\n",
       "      <td>6.495968</td>\n",
       "      <td>singleton</td>\n",
       "      <td>coding</td>\n",
       "    </tr>\n",
       "  </tbody>\n",
       "</table>\n",
       "<p>2 rows × 22 columns</p>\n",
       "</div>"
      ],
      "text/plain": [
       "   point_estimate  std_error   z_score       p_value  SV_counts_cases  \\\n",
       "0        0.271918   0.051227  5.308100  1.110000e-07              438   \n",
       "1        0.276065   0.054006  5.111756  3.190000e-07              393   \n",
       "\n",
       "   SV_counts_cases_max  number_of_cases_with_zero_SVs  total_cases  \\\n",
       "0                    5                            336          646   \n",
       "1                    5                            356          646   \n",
       "\n",
       "   SV_counts_controls  SV_counts_controls_max  ...  number_of_unique_SVs  \\\n",
       "0                2441                       4  ...                   459   \n",
       "1                2172                       4  ...                   411   \n",
       "\n",
       "                                       category_name  sv_type  frequency  \\\n",
       "0  ANY.SINGLETON.PREDICTED_LOF_or_PREDICTED_PARTI...      ANY  SINGLETON   \n",
       "1           DEL.SINGLETON.ANY.ANY.ANY.protein_coding      DEL  SINGLETON   \n",
       "\n",
       "  mean_SVs_per_case mean_SVs_per_control  mean_SVs_total  \\\n",
       "0          0.678019             0.519362        0.538533   \n",
       "1          0.608359             0.462128        0.479798   \n",
       "\n",
       "   negative_log10_p_value  af_category  sv_category  \n",
       "0                6.955563    singleton       coding  \n",
       "1                6.495968    singleton       coding  \n",
       "\n",
       "[2 rows x 22 columns]"
      ]
     },
     "execution_count": 7,
     "metadata": {},
     "output_type": "execute_result"
    }
   ],
   "source": [
    "nbl_framework_results.head(2)"
   ]
  },
  {
   "cell_type": "code",
   "execution_count": 8,
   "id": "5a710bc0-28af-4ab2-9f85-30be5988429c",
   "metadata": {},
   "outputs": [],
   "source": [
    "nbl_coding_framework = pd.read_csv(\n",
    "    \"data/CWAS data for Jett/CWAS frameworks/CWAS_categories_neuroblastoma_coding_8_17_23.txt\",\n",
    "    sep=\"\\t\",\n",
    ")\n",
    "\n",
    "nbl_noncoding_framework = pd.read_csv(\n",
    "    \"data/CWAS data for Jett/CWAS frameworks/CWAS_rare_categories_neuroblastoma_noncoding_10_2_23.txt\",\n",
    "    sep=\"\\t\",\n",
    ")"
   ]
  },
  {
   "cell_type": "markdown",
   "id": "5b7a6cf4-27ef-4964-b9be-2ea4779d6720",
   "metadata": {
    "tags": []
   },
   "source": [
    "# Walk through a coding example\n",
    "\n",
    "Let's extract out all the data that we need to examine the highest result for a single hallmark gene set."
   ]
  },
  {
   "cell_type": "code",
   "execution_count": 174,
   "id": "50a93ff6-dadc-4a11-b869-5e724f2614ea",
   "metadata": {},
   "outputs": [
    {
     "data": {
      "text/plain": [
       "('ANY.SINGLETON.PREDICTED_LOF_or_PREDICTED_PARTIAL_EXON_DUP.ANY.ANY.protein_coding',\n",
       " 'PREDICTED_LOF_or_PREDICTED_PARTIAL_EXON_DUP')"
      ]
     },
     "execution_count": 174,
     "metadata": {},
     "output_type": "execute_result"
    }
   ],
   "source": [
    "test_framework = nbl_framework_results.query('af_category == \"singleton\" & sv_category == \"coding\"').loc[0, [\"category_name\"]].item()\n",
    "framework_components = test_framework.split(\".\")\n",
    "genic_relationship = framework_components[2]\n",
    "test_framework, genic_relationship"
   ]
  },
  {
   "cell_type": "code",
   "execution_count": 175,
   "id": "f31ef722-d844-49bb-92be-75f6bccf609e",
   "metadata": {},
   "outputs": [
    {
     "data": {
      "text/html": [
       "<div>\n",
       "<style scoped>\n",
       "    .dataframe tbody tr th:only-of-type {\n",
       "        vertical-align: middle;\n",
       "    }\n",
       "\n",
       "    .dataframe tbody tr th {\n",
       "        vertical-align: top;\n",
       "    }\n",
       "\n",
       "    .dataframe thead th {\n",
       "        text-align: right;\n",
       "    }\n",
       "</style>\n",
       "<table border=\"1\" class=\"dataframe\">\n",
       "  <thead>\n",
       "    <tr style=\"text-align: right;\">\n",
       "      <th></th>\n",
       "      <th>sv_type</th>\n",
       "      <th>frequency</th>\n",
       "      <th>genic_relationship</th>\n",
       "      <th>constraint</th>\n",
       "      <th>expression</th>\n",
       "      <th>gene_group</th>\n",
       "    </tr>\n",
       "  </thead>\n",
       "  <tbody>\n",
       "    <tr>\n",
       "      <th>0</th>\n",
       "      <td>DUP</td>\n",
       "      <td>RARE</td>\n",
       "      <td>PREDICTED_COPY_GAIN</td>\n",
       "      <td>lof_constrained</td>\n",
       "      <td>expressed_in_adrenal_gland</td>\n",
       "      <td>protein_coding</td>\n",
       "    </tr>\n",
       "    <tr>\n",
       "      <th>1</th>\n",
       "      <td>DEL</td>\n",
       "      <td>SINGLETON</td>\n",
       "      <td>PREDICTED_INTRAGENIC_EXON_DUP</td>\n",
       "      <td>missense_constrained</td>\n",
       "      <td>ANY</td>\n",
       "      <td>cosmic_cancer_genes</td>\n",
       "    </tr>\n",
       "    <tr>\n",
       "      <th>2</th>\n",
       "      <td>CPX_or_INV</td>\n",
       "      <td>NaN</td>\n",
       "      <td>PREDICTED_LOF_or_PREDICTED_PARTIAL_EXON_DUP</td>\n",
       "      <td>unconstrained</td>\n",
       "      <td>NaN</td>\n",
       "      <td>germline_CPGs</td>\n",
       "    </tr>\n",
       "    <tr>\n",
       "      <th>3</th>\n",
       "      <td>INS_ALL</td>\n",
       "      <td>NaN</td>\n",
       "      <td>ANY</td>\n",
       "      <td>ANY</td>\n",
       "      <td>NaN</td>\n",
       "      <td>base_excision_repair_genes</td>\n",
       "    </tr>\n",
       "    <tr>\n",
       "      <th>4</th>\n",
       "      <td>ANY</td>\n",
       "      <td>NaN</td>\n",
       "      <td>NaN</td>\n",
       "      <td>NaN</td>\n",
       "      <td>NaN</td>\n",
       "      <td>chromatin_organization_genes</td>\n",
       "    </tr>\n",
       "  </tbody>\n",
       "</table>\n",
       "</div>"
      ],
      "text/plain": [
       "      sv_type  frequency                           genic_relationship  \\\n",
       "0         DUP       RARE                          PREDICTED_COPY_GAIN   \n",
       "1         DEL  SINGLETON                PREDICTED_INTRAGENIC_EXON_DUP   \n",
       "2  CPX_or_INV        NaN  PREDICTED_LOF_or_PREDICTED_PARTIAL_EXON_DUP   \n",
       "3     INS_ALL        NaN                                          ANY   \n",
       "4         ANY        NaN                                          NaN   \n",
       "\n",
       "             constraint                  expression  \\\n",
       "0       lof_constrained  expressed_in_adrenal_gland   \n",
       "1  missense_constrained                         ANY   \n",
       "2         unconstrained                         NaN   \n",
       "3                   ANY                         NaN   \n",
       "4                   NaN                         NaN   \n",
       "\n",
       "                     gene_group  \n",
       "0                protein_coding  \n",
       "1           cosmic_cancer_genes  \n",
       "2                 germline_CPGs  \n",
       "3    base_excision_repair_genes  \n",
       "4  chromatin_organization_genes  "
      ]
     },
     "execution_count": 175,
     "metadata": {},
     "output_type": "execute_result"
    }
   ],
   "source": [
    "nbl_coding_framework.head(5)"
   ]
  },
  {
   "cell_type": "markdown",
   "id": "c3c5a2c9-74bd-4a99-92fe-92f7ca1835cd",
   "metadata": {},
   "source": [
    "We identify the SVs that are part of that category."
   ]
  },
  {
   "cell_type": "code",
   "execution_count": 176,
   "id": "6d329232-5d40-428d-89a2-56fac470e615",
   "metadata": {},
   "outputs": [
    {
     "data": {
      "text/html": [
       "<div>\n",
       "<style scoped>\n",
       "    .dataframe tbody tr th:only-of-type {\n",
       "        vertical-align: middle;\n",
       "    }\n",
       "\n",
       "    .dataframe tbody tr th {\n",
       "        vertical-align: top;\n",
       "    }\n",
       "\n",
       "    .dataframe thead th {\n",
       "        text-align: right;\n",
       "    }\n",
       "</style>\n",
       "<table border=\"1\" class=\"dataframe\">\n",
       "  <thead>\n",
       "    <tr style=\"text-align: right;\">\n",
       "      <th></th>\n",
       "      <th>#chrom</th>\n",
       "      <th>start</th>\n",
       "      <th>end</th>\n",
       "      <th>name</th>\n",
       "      <th>svtype</th>\n",
       "      <th>AC</th>\n",
       "      <th>AF</th>\n",
       "      <th>ALGORITHMS</th>\n",
       "      <th>AN</th>\n",
       "      <th>BOTHSIDES_SUPPORT</th>\n",
       "      <th>...</th>\n",
       "      <th>trio_POPMAX_FREQ_HOMALT</th>\n",
       "      <th>trio_POPMAX_CN_FREQ</th>\n",
       "      <th>trio_POPMAX_CN_NONREF_FREQ</th>\n",
       "      <th>gnomad_v3.1_sv_POPMAX_AF</th>\n",
       "      <th>gnomad_v3.1_sv_POPMAX_FREQ_HOMREF</th>\n",
       "      <th>gnomad_v3.1_sv_POPMAX_FREQ_HET</th>\n",
       "      <th>gnomad_v3.1_sv_POPMAX_FREQ_HOMALT</th>\n",
       "      <th>gnomad_v3.1_sv_POPMAX_CN_FREQ</th>\n",
       "      <th>gnomad_v3.1_sv_POPMAX_CN_NONREF_FREQ</th>\n",
       "      <th>FILTER</th>\n",
       "    </tr>\n",
       "  </thead>\n",
       "  <tbody>\n",
       "    <tr>\n",
       "      <th>64</th>\n",
       "      <td>chr1</td>\n",
       "      <td>923800</td>\n",
       "      <td>943501</td>\n",
       "      <td>PedSV.2.5.2_DEL_chr1_80</td>\n",
       "      <td>DEL</td>\n",
       "      <td>1</td>\n",
       "      <td>0.000077</td>\n",
       "      <td>depth</td>\n",
       "      <td>13038</td>\n",
       "      <td>False</td>\n",
       "      <td>...</td>\n",
       "      <td>0.0</td>\n",
       "      <td>NaN</td>\n",
       "      <td>NaN</td>\n",
       "      <td>0.000107</td>\n",
       "      <td>NaN</td>\n",
       "      <td>NaN</td>\n",
       "      <td>NaN</td>\n",
       "      <td>NaN</td>\n",
       "      <td>NaN</td>\n",
       "      <td>PASS</td>\n",
       "    </tr>\n",
       "    <tr>\n",
       "      <th>152</th>\n",
       "      <td>chr1</td>\n",
       "      <td>1240217</td>\n",
       "      <td>1243609</td>\n",
       "      <td>PedSV.2.5.2_DEL_chr1_210</td>\n",
       "      <td>DEL</td>\n",
       "      <td>1</td>\n",
       "      <td>0.000074</td>\n",
       "      <td>manta</td>\n",
       "      <td>13462</td>\n",
       "      <td>True</td>\n",
       "      <td>...</td>\n",
       "      <td>0.0</td>\n",
       "      <td>NaN</td>\n",
       "      <td>NaN</td>\n",
       "      <td>0.000018</td>\n",
       "      <td>NaN</td>\n",
       "      <td>NaN</td>\n",
       "      <td>NaN</td>\n",
       "      <td>NaN</td>\n",
       "      <td>NaN</td>\n",
       "      <td>PASS</td>\n",
       "    </tr>\n",
       "  </tbody>\n",
       "</table>\n",
       "<p>2 rows × 952 columns</p>\n",
       "</div>"
      ],
      "text/plain": [
       "    #chrom    start      end                      name svtype  AC        AF  \\\n",
       "64    chr1   923800   943501   PedSV.2.5.2_DEL_chr1_80    DEL   1  0.000077   \n",
       "152   chr1  1240217  1243609  PedSV.2.5.2_DEL_chr1_210    DEL   1  0.000074   \n",
       "\n",
       "    ALGORITHMS     AN  BOTHSIDES_SUPPORT  ... trio_POPMAX_FREQ_HOMALT  \\\n",
       "64       depth  13038              False  ...                     0.0   \n",
       "152      manta  13462               True  ...                     0.0   \n",
       "\n",
       "     trio_POPMAX_CN_FREQ trio_POPMAX_CN_NONREF_FREQ gnomad_v3.1_sv_POPMAX_AF  \\\n",
       "64                   NaN                        NaN                 0.000107   \n",
       "152                  NaN                        NaN                 0.000018   \n",
       "\n",
       "     gnomad_v3.1_sv_POPMAX_FREQ_HOMREF  gnomad_v3.1_sv_POPMAX_FREQ_HET  \\\n",
       "64                                 NaN                             NaN   \n",
       "152                                NaN                             NaN   \n",
       "\n",
       "    gnomad_v3.1_sv_POPMAX_FREQ_HOMALT  gnomad_v3.1_sv_POPMAX_CN_FREQ  \\\n",
       "64                                NaN                            NaN   \n",
       "152                               NaN                            NaN   \n",
       "\n",
       "     gnomad_v3.1_sv_POPMAX_CN_NONREF_FREQ  FILTER  \n",
       "64                                    NaN    PASS  \n",
       "152                                   NaN    PASS  \n",
       "\n",
       "[2 rows x 952 columns]"
      ]
     },
     "execution_count": 176,
     "metadata": {},
     "output_type": "execute_result"
    }
   ],
   "source": [
    "svs_in_category = nbl_category_svs[(nbl_category_svs['sv_category'] == \"coding\") & \n",
    "                                   (nbl_category_svs[\"category\"] == test_framework)]\n",
    "\n",
    "# subset the actual SV matrix\n",
    "svs_in_category = svs[svs[\"name\"].isin(svs_in_category[\"SV\"].tolist())]\n",
    "\n",
    "svs_in_category.head(2)"
   ]
  },
  {
   "cell_type": "code",
   "execution_count": 177,
   "id": "28977433-c9a8-4bd1-810f-84d7f730515c",
   "metadata": {},
   "outputs": [
    {
     "data": {
      "text/plain": [
       "(3837, 952)"
      ]
     },
     "execution_count": 177,
     "metadata": {},
     "output_type": "execute_result"
    }
   ],
   "source": [
    "svs_in_category.shape"
   ]
  },
  {
   "cell_type": "markdown",
   "id": "edb3d206-915c-4c36-bc58-4064fbd3949c",
   "metadata": {},
   "source": [
    "Next, we determine the genes in question. We reference the column where the genes can be found, `genic_relationship`. We have to split this one in half."
   ]
  },
  {
   "cell_type": "code",
   "execution_count": 178,
   "id": "5438bc1b-680e-44b1-9906-8535f087ab33",
   "metadata": {},
   "outputs": [
    {
     "data": {
      "text/plain": [
       "['PREDICTED_LOF', 'PREDICTED_PARTIAL_EXON_DUP']"
      ]
     },
     "execution_count": 178,
     "metadata": {},
     "output_type": "execute_result"
    }
   ],
   "source": [
    "genic_relationships = genic_relationship.split(\"_or_\")\n",
    "genic_relationships"
   ]
  },
  {
   "cell_type": "code",
   "execution_count": 179,
   "id": "9589b8f1-8b42-4f39-9d96-ef24d89955ee",
   "metadata": {},
   "outputs": [
    {
     "data": {
      "text/html": [
       "<div>\n",
       "<style scoped>\n",
       "    .dataframe tbody tr th:only-of-type {\n",
       "        vertical-align: middle;\n",
       "    }\n",
       "\n",
       "    .dataframe tbody tr th {\n",
       "        vertical-align: top;\n",
       "    }\n",
       "\n",
       "    .dataframe thead th {\n",
       "        text-align: right;\n",
       "    }\n",
       "</style>\n",
       "<table border=\"1\" class=\"dataframe\">\n",
       "  <thead>\n",
       "    <tr style=\"text-align: right;\">\n",
       "      <th></th>\n",
       "      <th>PREDICTED_LOF</th>\n",
       "      <th>PREDICTED_PARTIAL_EXON_DUP</th>\n",
       "    </tr>\n",
       "  </thead>\n",
       "  <tbody>\n",
       "    <tr>\n",
       "      <th>64</th>\n",
       "      <td>SAMD11</td>\n",
       "      <td>NaN</td>\n",
       "    </tr>\n",
       "    <tr>\n",
       "      <th>152</th>\n",
       "      <td>C1QTNF12</td>\n",
       "      <td>NaN</td>\n",
       "    </tr>\n",
       "    <tr>\n",
       "      <th>162</th>\n",
       "      <td>ACAP3,INTS11,PUSL1,SCNN1D</td>\n",
       "      <td>NaN</td>\n",
       "    </tr>\n",
       "    <tr>\n",
       "      <th>173</th>\n",
       "      <td>CPTP</td>\n",
       "      <td>NaN</td>\n",
       "    </tr>\n",
       "    <tr>\n",
       "      <th>198</th>\n",
       "      <td>TMEM88B,VWA1</td>\n",
       "      <td>NaN</td>\n",
       "    </tr>\n",
       "  </tbody>\n",
       "</table>\n",
       "</div>"
      ],
      "text/plain": [
       "                 PREDICTED_LOF PREDICTED_PARTIAL_EXON_DUP\n",
       "64                      SAMD11                        NaN\n",
       "152                   C1QTNF12                        NaN\n",
       "162  ACAP3,INTS11,PUSL1,SCNN1D                        NaN\n",
       "173                       CPTP                        NaN\n",
       "198               TMEM88B,VWA1                        NaN"
      ]
     },
     "execution_count": 179,
     "metadata": {},
     "output_type": "execute_result"
    }
   ],
   "source": [
    "svs_in_category[genic_relationships].head()"
   ]
  },
  {
   "cell_type": "markdown",
   "id": "4b1864d6-c1f1-47d5-bdc4-fcc6fc5bc114",
   "metadata": {},
   "source": [
    "We should be a bit more careful if any results turn up positive, but for now we'll just register an SV as contributing to a count for that gene."
   ]
  },
  {
   "cell_type": "code",
   "execution_count": 181,
   "id": "f7dbd1f4-1934-40d7-91fd-e46bb0e07936",
   "metadata": {},
   "outputs": [
    {
     "data": {
      "text/html": [
       "<div>\n",
       "<style scoped>\n",
       "    .dataframe tbody tr th:only-of-type {\n",
       "        vertical-align: middle;\n",
       "    }\n",
       "\n",
       "    .dataframe tbody tr th {\n",
       "        vertical-align: top;\n",
       "    }\n",
       "\n",
       "    .dataframe thead th {\n",
       "        text-align: right;\n",
       "    }\n",
       "</style>\n",
       "<table border=\"1\" class=\"dataframe\">\n",
       "  <thead>\n",
       "    <tr style=\"text-align: right;\">\n",
       "      <th></th>\n",
       "      <th>PT_00QYKRAX</th>\n",
       "      <th>PT_00Y8C0XA</th>\n",
       "      <th>PT_025YMME2</th>\n",
       "      <th>PT_02AE4RSP</th>\n",
       "      <th>PT_02SNWVRF</th>\n",
       "      <th>PT_06Z51EN5</th>\n",
       "      <th>PT_0CKD259J</th>\n",
       "      <th>PT_0GMP9VVY</th>\n",
       "      <th>PT_0MVMPZKX</th>\n",
       "      <th>PT_11XN6CG5</th>\n",
       "      <th>...</th>\n",
       "      <th>ssi_26401</th>\n",
       "      <th>ssi_26409</th>\n",
       "      <th>ssi_26411</th>\n",
       "      <th>ssi_26422</th>\n",
       "      <th>ssi_26442</th>\n",
       "      <th>ssi_26452</th>\n",
       "      <th>ssi_26453</th>\n",
       "      <th>ssi_26458</th>\n",
       "      <th>ssi_26459</th>\n",
       "      <th>ssi_26463</th>\n",
       "    </tr>\n",
       "    <tr>\n",
       "      <th>ID</th>\n",
       "      <th></th>\n",
       "      <th></th>\n",
       "      <th></th>\n",
       "      <th></th>\n",
       "      <th></th>\n",
       "      <th></th>\n",
       "      <th></th>\n",
       "      <th></th>\n",
       "      <th></th>\n",
       "      <th></th>\n",
       "      <th></th>\n",
       "      <th></th>\n",
       "      <th></th>\n",
       "      <th></th>\n",
       "      <th></th>\n",
       "      <th></th>\n",
       "      <th></th>\n",
       "      <th></th>\n",
       "      <th></th>\n",
       "      <th></th>\n",
       "      <th></th>\n",
       "    </tr>\n",
       "  </thead>\n",
       "  <tbody>\n",
       "    <tr>\n",
       "      <th>PedSV.2.5.2_DEL_chr1_80</th>\n",
       "      <td>0.0</td>\n",
       "      <td>0.0</td>\n",
       "      <td>0.0</td>\n",
       "      <td>0.0</td>\n",
       "      <td>NaN</td>\n",
       "      <td>0.0</td>\n",
       "      <td>0.0</td>\n",
       "      <td>NaN</td>\n",
       "      <td>0.0</td>\n",
       "      <td>0.0</td>\n",
       "      <td>...</td>\n",
       "      <td>0.0</td>\n",
       "      <td>0.0</td>\n",
       "      <td>0.0</td>\n",
       "      <td>0.0</td>\n",
       "      <td>0.0</td>\n",
       "      <td>0.0</td>\n",
       "      <td>0.0</td>\n",
       "      <td>0.0</td>\n",
       "      <td>0.0</td>\n",
       "      <td>0.0</td>\n",
       "    </tr>\n",
       "    <tr>\n",
       "      <th>PedSV.2.5.2_DEL_chr1_210</th>\n",
       "      <td>0.0</td>\n",
       "      <td>0.0</td>\n",
       "      <td>0.0</td>\n",
       "      <td>0.0</td>\n",
       "      <td>0.0</td>\n",
       "      <td>0.0</td>\n",
       "      <td>0.0</td>\n",
       "      <td>0.0</td>\n",
       "      <td>0.0</td>\n",
       "      <td>0.0</td>\n",
       "      <td>...</td>\n",
       "      <td>0.0</td>\n",
       "      <td>0.0</td>\n",
       "      <td>0.0</td>\n",
       "      <td>0.0</td>\n",
       "      <td>0.0</td>\n",
       "      <td>0.0</td>\n",
       "      <td>0.0</td>\n",
       "      <td>0.0</td>\n",
       "      <td>0.0</td>\n",
       "      <td>0.0</td>\n",
       "    </tr>\n",
       "  </tbody>\n",
       "</table>\n",
       "<p>2 rows × 5519 columns</p>\n",
       "</div>"
      ],
      "text/plain": [
       "                          PT_00QYKRAX  PT_00Y8C0XA  PT_025YMME2  PT_02AE4RSP  \\\n",
       "ID                                                                             \n",
       "PedSV.2.5.2_DEL_chr1_80           0.0          0.0          0.0          0.0   \n",
       "PedSV.2.5.2_DEL_chr1_210          0.0          0.0          0.0          0.0   \n",
       "\n",
       "                          PT_02SNWVRF  PT_06Z51EN5  PT_0CKD259J  PT_0GMP9VVY  \\\n",
       "ID                                                                             \n",
       "PedSV.2.5.2_DEL_chr1_80           NaN          0.0          0.0          NaN   \n",
       "PedSV.2.5.2_DEL_chr1_210          0.0          0.0          0.0          0.0   \n",
       "\n",
       "                          PT_0MVMPZKX  PT_11XN6CG5  ...  ssi_26401  ssi_26409  \\\n",
       "ID                                                  ...                         \n",
       "PedSV.2.5.2_DEL_chr1_80           0.0          0.0  ...        0.0        0.0   \n",
       "PedSV.2.5.2_DEL_chr1_210          0.0          0.0  ...        0.0        0.0   \n",
       "\n",
       "                          ssi_26411  ssi_26422  ssi_26442  ssi_26452  \\\n",
       "ID                                                                     \n",
       "PedSV.2.5.2_DEL_chr1_80         0.0        0.0        0.0        0.0   \n",
       "PedSV.2.5.2_DEL_chr1_210        0.0        0.0        0.0        0.0   \n",
       "\n",
       "                          ssi_26453  ssi_26458  ssi_26459  ssi_26463  \n",
       "ID                                                                    \n",
       "PedSV.2.5.2_DEL_chr1_80         0.0        0.0        0.0        0.0  \n",
       "PedSV.2.5.2_DEL_chr1_210        0.0        0.0        0.0        0.0  \n",
       "\n",
       "[2 rows x 5519 columns]"
      ]
     },
     "execution_count": 181,
     "metadata": {},
     "output_type": "execute_result"
    }
   ],
   "source": [
    "nbl_sv_dosages = (\n",
    "    dosages\n",
    "    .set_index(\"ID\")\n",
    "    .loc[svs_in_category[\"name\"].tolist(), nbl_cases + nbl_controls]\n",
    ")\n",
    "nbl_sv_dosages.head(2)"
   ]
  },
  {
   "cell_type": "code",
   "execution_count": 182,
   "id": "ca134abd-8b0a-4009-8279-0ad42444b3d2",
   "metadata": {},
   "outputs": [
    {
     "data": {
      "text/plain": [
       "(3837, 5519)"
      ]
     },
     "execution_count": 182,
     "metadata": {},
     "output_type": "execute_result"
    }
   ],
   "source": [
    "nbl_sv_dosages.shape"
   ]
  },
  {
   "cell_type": "markdown",
   "id": "9b1af230-5794-4e59-9eb7-7a7ec29e0270",
   "metadata": {},
   "source": [
    "So we now have the dosages for both cases and controls. We analyze these two datasets separately, and will need to determine post-hoc if there is a unique enrichment in cases vs. control. Additionally, we need to drop samples that are poorly genotyped for these SVs. The strategy that Ryan and Riaz used is to drop samples with >5% `NaN` genotyping rate. We do that here."
   ]
  },
  {
   "cell_type": "code",
   "execution_count": 183,
   "id": "ca937400-91bc-4036-a067-d6a1ffec6909",
   "metadata": {},
   "outputs": [],
   "source": [
    "kept = pd.isnull(nbl_sv_dosages).sum(axis = 0) / len(nbl_sv_dosages) < 0.05\n",
    "\n",
    "nbl_kept_cases = list(set(nbl_cases) & set(kept[kept].index))\n",
    "nbl_kept_controls = list(set(nbl_controls) & set(kept[kept].index))"
   ]
  },
  {
   "cell_type": "code",
   "execution_count": 184,
   "id": "742697f4-9ff5-4b73-a526-509b0d6633d8",
   "metadata": {},
   "outputs": [],
   "source": [
    "nbl_sv_dosages = nbl_sv_dosages.loc[:, kept]"
   ]
  },
  {
   "cell_type": "code",
   "execution_count": 185,
   "id": "f06702bf-529d-41e5-8ae2-117a3ba50796",
   "metadata": {},
   "outputs": [
    {
     "data": {
      "text/plain": [
       "(3837, 5346)"
      ]
     },
     "execution_count": 185,
     "metadata": {},
     "output_type": "execute_result"
    }
   ],
   "source": [
    "nbl_sv_dosages.shape"
   ]
  },
  {
   "cell_type": "markdown",
   "id": "4390b82d-70ae-49ff-9c81-876dcf22a182",
   "metadata": {},
   "source": [
    "So now we can generate our counts, separately for cases and controls. We can ignore `NaNs`."
   ]
  },
  {
   "cell_type": "code",
   "execution_count": 186,
   "id": "c017f118-fde0-4995-881e-a3467f1a55a7",
   "metadata": {},
   "outputs": [
    {
     "data": {
      "text/plain": [
       "ID\n",
       "PedSV.2.5.2_DEL_chr1_80       0.0\n",
       "PedSV.2.5.2_DEL_chr12_7605    0.0\n",
       "PedSV.2.5.2_DEL_chr12_7621    0.0\n",
       "PedSV.2.5.2_DEL_chr12_7627    0.0\n",
       "PedSV.2.5.2_DEL_chr12_7653    0.0\n",
       "dtype: float64"
      ]
     },
     "execution_count": 186,
     "metadata": {},
     "output_type": "execute_result"
    }
   ],
   "source": [
    "sv_counts_cases = nbl_sv_dosages[nbl_kept_cases].fillna(0).sum(axis=1).sort_values()\n",
    "sv_counts_controls = nbl_sv_dosages[nbl_kept_controls].fillna(0).sum(axis=1).sort_values()\n",
    "sv_counts_cases.head()"
   ]
  },
  {
   "cell_type": "markdown",
   "id": "5fcedd4d-d2f1-4129-a007-4f291d133a43",
   "metadata": {},
   "source": [
    "Note that some SVs have 0 counts, presumably because those SVs are present in non-neuroblastoma samples? Let's just verify that."
   ]
  },
  {
   "cell_type": "code",
   "execution_count": 187,
   "id": "dbd80c7d-caf3-42f9-af39-813fdcd44fff",
   "metadata": {},
   "outputs": [
    {
     "data": {
      "text/plain": [
       "SJ042098    1.0\n",
       "Name: PedSV.2.5.2_DEL_chr1_80, dtype: object"
      ]
     },
     "execution_count": 187,
     "metadata": {},
     "output_type": "execute_result"
    }
   ],
   "source": [
    "test_sv = dosages.set_index(\"ID\").loc[\"PedSV.2.5.2_DEL_chr1_80\"].iloc[3:]\n",
    "test_sv[test_sv == 1]"
   ]
  },
  {
   "cell_type": "code",
   "execution_count": 188,
   "id": "51fa5de0-9e50-4f16-ae18-aa943a216727",
   "metadata": {},
   "outputs": [
    {
     "data": {
      "text/plain": [
       "ancestry_short_variant_inferred_or_reported                                       NaN\n",
       "batch                                          PedSV.v2-wgd_score_1-median_coverage_2\n",
       "study                                                                          StJude\n",
       "disease                                                                  osteosarcoma\n",
       "family_id                                                                         NaN\n",
       "                                                                ...                  \n",
       "pancan_control                                                                  False\n",
       "osteosarcoma_control                                                            False\n",
       "neuroblastoma_control                                                           False\n",
       "ewing_control                                                                   False\n",
       "sex                                                                                 0\n",
       "Name: SJ042098, Length: 73, dtype: object"
      ]
     },
     "execution_count": 188,
     "metadata": {},
     "output_type": "execute_result"
    }
   ],
   "source": [
    "metadata.set_index(\"entity:sample_id\").loc[\"SJ042098\"]"
   ]
  },
  {
   "cell_type": "markdown",
   "id": "d258c925-a24c-4b7b-a899-bd29bd26c8f3",
   "metadata": {},
   "source": [
    "Yep. Alright, we can move on and actually count things up. First, how many SVs are we actually dealing with here?"
   ]
  },
  {
   "cell_type": "code",
   "execution_count": 189,
   "id": "f6d9df07-addb-4eec-bf48-1a9f27fc56e6",
   "metadata": {},
   "outputs": [
    {
     "data": {
      "text/plain": [
       "(438.0, 2441.0)"
      ]
     },
     "execution_count": 189,
     "metadata": {},
     "output_type": "execute_result"
    }
   ],
   "source": [
    "sv_counts_cases.sum(), sv_counts_controls.sum()"
   ]
  },
  {
   "cell_type": "markdown",
   "id": "4def61df-394b-404d-93ae-f5ecce94e074",
   "metadata": {},
   "source": [
    "We can see that the cases have a higher proportion of counts relative to the proportion of samples, which is what we expect (this category is significant)."
   ]
  },
  {
   "cell_type": "markdown",
   "id": "170c713c-1a9e-4a47-ba1d-670b716952ec",
   "metadata": {},
   "source": [
    "Let's see what happens when we convert to gene counts."
   ]
  },
  {
   "cell_type": "code",
   "execution_count": 190,
   "id": "daed5211-7acc-45d9-8aa1-ce398e31da3c",
   "metadata": {},
   "outputs": [
    {
     "data": {
      "text/plain": [
       "3837"
      ]
     },
     "execution_count": 190,
     "metadata": {},
     "output_type": "execute_result"
    }
   ],
   "source": [
    "len(svs_in_category)"
   ]
  },
  {
   "cell_type": "code",
   "execution_count": 191,
   "id": "2a5ca4f2-8bda-43a2-85cb-447dba259a28",
   "metadata": {},
   "outputs": [],
   "source": [
    "genes_in_svs = svs_in_category[['name'] + genic_relationships].set_index('name')"
   ]
  },
  {
   "cell_type": "code",
   "execution_count": 192,
   "id": "fa80f057-ed8b-467c-8b2d-e727b6abb1c0",
   "metadata": {},
   "outputs": [],
   "source": [
    "gene_counts = {'cases': [], 'controls': []}\n",
    "for cohort, sv_counts in zip(['cases', 'controls'], [sv_counts_cases, sv_counts_controls]):\n",
    "\n",
    "    sample_genes_in_svs = genes_in_svs.copy()\n",
    "    sample_genes_in_svs.loc[sv_counts.index, 'count'] = sv_counts.astype(int)\n",
    "\n",
    "    # simple enough to go through\n",
    "    cohort_gene_counts = []\n",
    "    for index, row in sample_genes_in_svs.iterrows():\n",
    "        if not pd.isnull(row['PREDICTED_LOF']):\n",
    "            cohort_gene_counts += row['PREDICTED_LOF'].split(',') * row['count']\n",
    "        if not pd.isnull(row['PREDICTED_PARTIAL_EXON_DUP']):\n",
    "            cohort_gene_counts += row['PREDICTED_PARTIAL_EXON_DUP'].split(',') * row['count']\n",
    "\n",
    "    gene_counts[cohort] = pd.DataFrame(np.unique(cohort_gene_counts, return_counts = True), index = ['gene', 'count']).T"
   ]
  },
  {
   "cell_type": "code",
   "execution_count": 193,
   "id": "14b07123-9d04-4d07-961c-9a6dfbfcea4b",
   "metadata": {},
   "outputs": [
    {
     "data": {
      "text/plain": [
       "((511, 2), (2790, 2))"
      ]
     },
     "execution_count": 193,
     "metadata": {},
     "output_type": "execute_result"
    }
   ],
   "source": [
    "gene_counts['cases'].shape, gene_counts['controls'].shape"
   ]
  },
  {
   "cell_type": "markdown",
   "id": "1df12dc0-6af2-4e32-8261-eac0e30ed680",
   "metadata": {},
   "source": [
    "Great. Now we can try merging this with a gene set to test significance. We'll try it with a small, well characterized gene set first."
   ]
  },
  {
   "cell_type": "code",
   "execution_count": 194,
   "id": "f0e4e4f9-0fe1-4cc6-ba02-d6b8656ed6a8",
   "metadata": {},
   "outputs": [],
   "source": [
    "hallmark = gp.get_library(name='MSigDB_Hallmark_2020')"
   ]
  },
  {
   "cell_type": "code",
   "execution_count": 195,
   "id": "9fdedcf4-8f4a-482c-9639-7e6cae387587",
   "metadata": {},
   "outputs": [
    {
     "data": {
      "text/plain": [
       "199"
      ]
     },
     "execution_count": 195,
     "metadata": {},
     "output_type": "execute_result"
    }
   ],
   "source": [
    "g2m_checkpoint = hallmark['G2-M Checkpoint']\n",
    "g2m_checkpoint = [g for g in g2m_checkpoint if g in gene_ref]\n",
    "len(g2m_checkpoint)"
   ]
  },
  {
   "cell_type": "markdown",
   "id": "f729370a-a210-4d64-b7b7-c1f6fac3824e",
   "metadata": {},
   "source": [
    "We need to calculate 4 numbers for our Fisher's exact test:\n",
    "\n",
    "1. The counts of genes in the gene set and category\n",
    "2. The counts of genes in the category and not the gene set\n",
    "3. The counts of genes in the gene set and not the category\n",
    "4. The counts of genes in neither (~19k)\n",
    "\n",
    "We then do a fisher's exact test."
   ]
  },
  {
   "cell_type": "code",
   "execution_count": 196,
   "id": "a2645bc4-bde2-4f73-9490-27665fbe4b9a",
   "metadata": {},
   "outputs": [
    {
     "name": "stdout",
     "output_type": "stream",
     "text": [
      "(0.9038212804808461, 1.0)\n",
      "(0.9764931744388707, 1.0)\n"
     ]
    }
   ],
   "source": [
    "for cohort in ['cases', 'controls']:\n",
    "    \n",
    "    cohort_gene_counts = gene_counts[cohort]\n",
    "    \n",
    "    genes_in_category_and_gs = cohort_gene_counts[cohort_gene_counts['gene'].isin(g2m_checkpoint)]['count'].sum()\n",
    "    genes_in_category_and_not_gs = cohort_gene_counts[~cohort_gene_counts['gene'].isin(g2m_checkpoint)]['count'].sum()\n",
    "\n",
    "    genes_not_in_category_and_in_gs = len(set(g2m_checkpoint) - set(cohort_gene_counts['gene']))\n",
    "    genes_not_in_category_and_not_gs = len(gene_ref) - genes_not_in_category_and_in_gs\n",
    "    \n",
    "    cont_table = np.array([[genes_in_category_and_gs, genes_in_category_and_not_gs], \n",
    "                       [genes_not_in_category_and_in_gs, genes_not_in_category_and_not_gs]])\n",
    "    print(scipy.stats.fisher_exact(cont_table))"
   ]
  },
  {
   "cell_type": "markdown",
   "id": "01413847-6fd4-4343-8a88-c535558f2599",
   "metadata": {},
   "source": [
    "So neither cases nor controls are significantly enriched for G2-M checkpoint genes. But at least this process makes sense. Now we can generalize a bit."
   ]
  },
  {
   "cell_type": "code",
   "execution_count": 197,
   "id": "d22ae42b-b7e7-4832-85b3-9fd693060a8a",
   "metadata": {},
   "outputs": [],
   "source": [
    "hallmark_results = []\n",
    "for gs, genes in hallmark.items():\n",
    "    \n",
    "    genes = [g for g in genes if g in gene_ref]\n",
    "    \n",
    "    # store the expected frequency\n",
    "    expected = f'{len(genes)}/{len(gene_ref)}'\n",
    "    row = [gs, expected]\n",
    "    \n",
    "    for cohort in ['cases', 'controls']:\n",
    "        \n",
    "        cohort_gene_counts = gene_counts[cohort]\n",
    "        \n",
    "        upper_left = cohort_gene_counts[cohort_gene_counts['gene'].isin(genes)]['count'].sum()\n",
    "        upper_right = cohort_gene_counts[~cohort_gene_counts['gene'].isin(genes)]['count'].sum()\n",
    "\n",
    "        bottom_left = len(set(genes) - set(cohort_gene_counts['gene']))\n",
    "        botttom_right = len(gene_ref) - bottom_left\n",
    "\n",
    "        cont_table = np.array([[upper_left, upper_right], \n",
    "                               [bottom_left, botttom_right]])\n",
    "        res, p = scipy.stats.fisher_exact(cont_table)\n",
    "\n",
    "        # provide the expected and the data frequencies\n",
    "        data = f'{upper_left}/{upper_left + upper_right}'\n",
    "        row += [res, p, data]\n",
    "        \n",
    "    hallmark_results.append(row)\n",
    "    \n",
    "col_names = ['gene_set', 'expected', 'case_stat', 'case_p', 'case_data', 'control_stat', 'control_p', 'control_data']\n",
    "hallmark_results = pd.DataFrame(hallmark_results, columns = col_names)"
   ]
  },
  {
   "cell_type": "code",
   "execution_count": 198,
   "id": "18c25967-46fd-49a3-a556-6e7c5e7eba20",
   "metadata": {},
   "outputs": [
    {
     "data": {
      "text/html": [
       "<div>\n",
       "<style scoped>\n",
       "    .dataframe tbody tr th:only-of-type {\n",
       "        vertical-align: middle;\n",
       "    }\n",
       "\n",
       "    .dataframe tbody tr th {\n",
       "        vertical-align: top;\n",
       "    }\n",
       "\n",
       "    .dataframe thead th {\n",
       "        text-align: right;\n",
       "    }\n",
       "</style>\n",
       "<table border=\"1\" class=\"dataframe\">\n",
       "  <thead>\n",
       "    <tr style=\"text-align: right;\">\n",
       "      <th></th>\n",
       "      <th>gene_set</th>\n",
       "      <th>expected</th>\n",
       "      <th>case_stat</th>\n",
       "      <th>case_p</th>\n",
       "      <th>case_data</th>\n",
       "      <th>control_stat</th>\n",
       "      <th>control_p</th>\n",
       "      <th>control_data</th>\n",
       "    </tr>\n",
       "  </thead>\n",
       "  <tbody>\n",
       "    <tr>\n",
       "      <th>11</th>\n",
       "      <td>Adipogenesis</td>\n",
       "      <td>200/19201</td>\n",
       "      <td>2.670747</td>\n",
       "      <td>0.001485</td>\n",
       "      <td>14/547</td>\n",
       "      <td>0.783782</td>\n",
       "      <td>0.316489</td>\n",
       "      <td>24/3334</td>\n",
       "    </tr>\n",
       "    <tr>\n",
       "      <th>25</th>\n",
       "      <td>mTORC1 Signaling</td>\n",
       "      <td>199/19201</td>\n",
       "      <td>0.000000</td>\n",
       "      <td>0.007389</td>\n",
       "      <td>0/547</td>\n",
       "      <td>0.750897</td>\n",
       "      <td>0.228387</td>\n",
       "      <td>23/3334</td>\n",
       "    </tr>\n",
       "  </tbody>\n",
       "</table>\n",
       "</div>"
      ],
      "text/plain": [
       "            gene_set   expected  case_stat    case_p case_data  control_stat  \\\n",
       "11      Adipogenesis  200/19201   2.670747  0.001485    14/547      0.783782   \n",
       "25  mTORC1 Signaling  199/19201   0.000000  0.007389     0/547      0.750897   \n",
       "\n",
       "    control_p control_data  \n",
       "11   0.316489      24/3334  \n",
       "25   0.228387      23/3334  "
      ]
     },
     "execution_count": 198,
     "metadata": {},
     "output_type": "execute_result"
    }
   ],
   "source": [
    "hallmark_results.query('case_p < 0.05')"
   ]
  },
  {
   "cell_type": "markdown",
   "id": "a7bf33cd-852b-48ca-829d-eb5bcc0d97e3",
   "metadata": {},
   "source": [
    "Interesting... we'll follow up on that in a second."
   ]
  },
  {
   "cell_type": "markdown",
   "id": "6d2a7484-1a5d-4a36-a109-4a397d9d2f4e",
   "metadata": {
    "tags": []
   },
   "source": [
    "# Walk through a non-coding example\n",
    "\n",
    "Let's extract out all the data that we need to examine the highest result for a single hallmark gene set."
   ]
  },
  {
   "cell_type": "code",
   "execution_count": 199,
   "id": "5a5c6579-ce4e-4680-b0be-f5c3c3a92e9e",
   "metadata": {},
   "outputs": [
    {
     "data": {
      "text/plain": [
       "('ANY.SINGLETON.PREDICTED_LOF_or_PREDICTED_PARTIAL_EXON_DUP.ANY.ANY.protein_coding',\n",
       " 'ANY')"
      ]
     },
     "execution_count": 199,
     "metadata": {},
     "output_type": "execute_result"
    }
   ],
   "source": [
    "# we'll select a non-tad framework for testing\n",
    "nontad_test_framework = nbl_framework_results[(nbl_framework_results['af_category'] == \"singleton\") & \n",
    "                      (nbl_framework_results['sv_category'] == \"non-coding\") &\n",
    "                      (~nbl_framework_results['category_name'].str.contains('tad'))].iloc[0]['category_name']\n",
    "\n",
    "framework_components = nontad_test_framework.split(\".\")\n",
    "genic_relationship = framework_components[2]\n",
    "test_framework, genic_relationship"
   ]
  },
  {
   "cell_type": "markdown",
   "id": "fe1ee6f3-ff21-42db-af05-a54c8a89b8a8",
   "metadata": {},
   "source": [
    "This is good practice - we see that the genic relationship here is `ANY`. In the context of noncoding analysis, this has a specific meaning."
   ]
  },
  {
   "cell_type": "code",
   "execution_count": 200,
   "id": "d88b75df-068a-4a68-a755-9c938140df00",
   "metadata": {},
   "outputs": [
    {
     "data": {
      "text/html": [
       "<div>\n",
       "<style scoped>\n",
       "    .dataframe tbody tr th:only-of-type {\n",
       "        vertical-align: middle;\n",
       "    }\n",
       "\n",
       "    .dataframe tbody tr th {\n",
       "        vertical-align: top;\n",
       "    }\n",
       "\n",
       "    .dataframe thead th {\n",
       "        text-align: right;\n",
       "    }\n",
       "</style>\n",
       "<table border=\"1\" class=\"dataframe\">\n",
       "  <thead>\n",
       "    <tr style=\"text-align: right;\">\n",
       "      <th></th>\n",
       "      <th>sv_type</th>\n",
       "      <th>frequency</th>\n",
       "      <th>functional_intersection</th>\n",
       "      <th>functional_category</th>\n",
       "      <th>genic_relationship</th>\n",
       "      <th>constraint</th>\n",
       "      <th>expression</th>\n",
       "      <th>gene_group</th>\n",
       "    </tr>\n",
       "  </thead>\n",
       "  <tbody>\n",
       "    <tr>\n",
       "      <th>0</th>\n",
       "      <td>DUP</td>\n",
       "      <td>RARE</td>\n",
       "      <td>PREDICTED_NONCODING_BREAKPOINT</td>\n",
       "      <td>neuroblastoma_atac_peaks</td>\n",
       "      <td>PREDICTED_INTERGENIC</td>\n",
       "      <td>lof_constrained</td>\n",
       "      <td>expressed_in_adrenal_gland</td>\n",
       "      <td>protein_coding</td>\n",
       "    </tr>\n",
       "    <tr>\n",
       "      <th>1</th>\n",
       "      <td>DEL</td>\n",
       "      <td>SINGLETON</td>\n",
       "      <td>PREDICTED_NONCODING_SPAN</td>\n",
       "      <td>neuroblastoma_chromHMM15_Enh</td>\n",
       "      <td>PREDICTED_INTRONIC</td>\n",
       "      <td>ANY</td>\n",
       "      <td>ANY</td>\n",
       "      <td>cosmic_and_germline_CPGs</td>\n",
       "    </tr>\n",
       "    <tr>\n",
       "      <th>2</th>\n",
       "      <td>CPX_or_INV</td>\n",
       "      <td>NaN</td>\n",
       "      <td>ANY</td>\n",
       "      <td>neuroblastoma_chromHMM15_Enh_conserved</td>\n",
       "      <td>PREDICTED_PROMOTER</td>\n",
       "      <td>NaN</td>\n",
       "      <td>NaN</td>\n",
       "      <td>NaN</td>\n",
       "    </tr>\n",
       "    <tr>\n",
       "      <th>3</th>\n",
       "      <td>INS_ALL</td>\n",
       "      <td>NaN</td>\n",
       "      <td>NaN</td>\n",
       "      <td>neuroblastoma_chromHMM15_EnhG</td>\n",
       "      <td>PREDICTED_UTR</td>\n",
       "      <td>NaN</td>\n",
       "      <td>NaN</td>\n",
       "      <td>NaN</td>\n",
       "    </tr>\n",
       "    <tr>\n",
       "      <th>4</th>\n",
       "      <td>ANY</td>\n",
       "      <td>NaN</td>\n",
       "      <td>NaN</td>\n",
       "      <td>neuroblastoma_chromHMM15_EnhG_conserved</td>\n",
       "      <td>ANY</td>\n",
       "      <td>NaN</td>\n",
       "      <td>NaN</td>\n",
       "      <td>NaN</td>\n",
       "    </tr>\n",
       "    <tr>\n",
       "      <th>5</th>\n",
       "      <td>NaN</td>\n",
       "      <td>NaN</td>\n",
       "      <td>NaN</td>\n",
       "      <td>neuroblastoma_H3K27Ac_peak</td>\n",
       "      <td>NaN</td>\n",
       "      <td>NaN</td>\n",
       "      <td>NaN</td>\n",
       "      <td>NaN</td>\n",
       "    </tr>\n",
       "  </tbody>\n",
       "</table>\n",
       "</div>"
      ],
      "text/plain": [
       "      sv_type  frequency         functional_intersection  \\\n",
       "0         DUP       RARE  PREDICTED_NONCODING_BREAKPOINT   \n",
       "1         DEL  SINGLETON        PREDICTED_NONCODING_SPAN   \n",
       "2  CPX_or_INV        NaN                             ANY   \n",
       "3     INS_ALL        NaN                             NaN   \n",
       "4         ANY        NaN                             NaN   \n",
       "5         NaN        NaN                             NaN   \n",
       "\n",
       "                       functional_category    genic_relationship  \\\n",
       "0                 neuroblastoma_atac_peaks  PREDICTED_INTERGENIC   \n",
       "1             neuroblastoma_chromHMM15_Enh    PREDICTED_INTRONIC   \n",
       "2   neuroblastoma_chromHMM15_Enh_conserved    PREDICTED_PROMOTER   \n",
       "3            neuroblastoma_chromHMM15_EnhG         PREDICTED_UTR   \n",
       "4  neuroblastoma_chromHMM15_EnhG_conserved                   ANY   \n",
       "5               neuroblastoma_H3K27Ac_peak                   NaN   \n",
       "\n",
       "        constraint                  expression                gene_group  \n",
       "0  lof_constrained  expressed_in_adrenal_gland            protein_coding  \n",
       "1              ANY                         ANY  cosmic_and_germline_CPGs  \n",
       "2              NaN                         NaN                       NaN  \n",
       "3              NaN                         NaN                       NaN  \n",
       "4              NaN                         NaN                       NaN  \n",
       "5              NaN                         NaN                       NaN  "
      ]
     },
     "execution_count": 200,
     "metadata": {},
     "output_type": "execute_result"
    }
   ],
   "source": [
    "nbl_noncoding_framework.head(6)"
   ]
  },
  {
   "cell_type": "markdown",
   "id": "e12f62b3-6ad6-40d7-a1eb-99c626cd5f23",
   "metadata": {},
   "source": [
    "So `ANY` really means `PREDICTED_INTERGENIC | PREDICTED INTRONIC | PREDICTED PROMOTER | PREDICTED UTR`"
   ]
  },
  {
   "cell_type": "code",
   "execution_count": 201,
   "id": "c3f92afa-1637-4742-b8c6-3c898b511953",
   "metadata": {},
   "outputs": [],
   "source": [
    "genic_relationships = ['PREDICTED_INTERGENIC', 'PREDICTED_INTRONIC', 'PREDICTED_PROMOTER', 'PREDICTED_UTR']\n",
    "\n",
    "# a weird feature of these data is that PREDICTED_INTERGENIC is actually boolean, and refers to PREDICTED_NEAREST_TSS\n",
    "genic_relationships[genic_relationships.index('PREDICTED_INTERGENIC')] = 'PREDICTED_NEAREST_TSS'"
   ]
  },
  {
   "cell_type": "markdown",
   "id": "ed655ad0-9a3c-459e-acd9-6c2b7f6647a8",
   "metadata": {},
   "source": [
    "Subset down to those SVssvs"
   ]
  },
  {
   "cell_type": "code",
   "execution_count": 202,
   "id": "52ec1b72-6fa8-4486-9837-ba6ec9de4aed",
   "metadata": {},
   "outputs": [
    {
     "data": {
      "text/html": [
       "<div>\n",
       "<style scoped>\n",
       "    .dataframe tbody tr th:only-of-type {\n",
       "        vertical-align: middle;\n",
       "    }\n",
       "\n",
       "    .dataframe tbody tr th {\n",
       "        vertical-align: top;\n",
       "    }\n",
       "\n",
       "    .dataframe thead th {\n",
       "        text-align: right;\n",
       "    }\n",
       "</style>\n",
       "<table border=\"1\" class=\"dataframe\">\n",
       "  <thead>\n",
       "    <tr style=\"text-align: right;\">\n",
       "      <th></th>\n",
       "      <th>#chrom</th>\n",
       "      <th>start</th>\n",
       "      <th>end</th>\n",
       "      <th>name</th>\n",
       "      <th>svtype</th>\n",
       "      <th>AC</th>\n",
       "      <th>AF</th>\n",
       "      <th>ALGORITHMS</th>\n",
       "      <th>AN</th>\n",
       "      <th>BOTHSIDES_SUPPORT</th>\n",
       "      <th>...</th>\n",
       "      <th>trio_POPMAX_FREQ_HOMALT</th>\n",
       "      <th>trio_POPMAX_CN_FREQ</th>\n",
       "      <th>trio_POPMAX_CN_NONREF_FREQ</th>\n",
       "      <th>gnomad_v3.1_sv_POPMAX_AF</th>\n",
       "      <th>gnomad_v3.1_sv_POPMAX_FREQ_HOMREF</th>\n",
       "      <th>gnomad_v3.1_sv_POPMAX_FREQ_HET</th>\n",
       "      <th>gnomad_v3.1_sv_POPMAX_FREQ_HOMALT</th>\n",
       "      <th>gnomad_v3.1_sv_POPMAX_CN_FREQ</th>\n",
       "      <th>gnomad_v3.1_sv_POPMAX_CN_NONREF_FREQ</th>\n",
       "      <th>FILTER</th>\n",
       "    </tr>\n",
       "  </thead>\n",
       "  <tbody>\n",
       "    <tr>\n",
       "      <th>120</th>\n",
       "      <td>chr1</td>\n",
       "      <td>1116266</td>\n",
       "      <td>1116473</td>\n",
       "      <td>PedSV.2.5.2_DEL_chr1_165</td>\n",
       "      <td>DEL</td>\n",
       "      <td>1</td>\n",
       "      <td>0.000074</td>\n",
       "      <td>manta</td>\n",
       "      <td>13462</td>\n",
       "      <td>True</td>\n",
       "      <td>...</td>\n",
       "      <td>0.0</td>\n",
       "      <td>NaN</td>\n",
       "      <td>NaN</td>\n",
       "      <td>0.000000</td>\n",
       "      <td>NaN</td>\n",
       "      <td>NaN</td>\n",
       "      <td>NaN</td>\n",
       "      <td>NaN</td>\n",
       "      <td>NaN</td>\n",
       "      <td>PASS</td>\n",
       "    </tr>\n",
       "    <tr>\n",
       "      <th>137</th>\n",
       "      <td>chr1</td>\n",
       "      <td>1157302</td>\n",
       "      <td>1157390</td>\n",
       "      <td>PedSV.2.5.2_DEL_chr1_186</td>\n",
       "      <td>DEL</td>\n",
       "      <td>1</td>\n",
       "      <td>0.000074</td>\n",
       "      <td>wham</td>\n",
       "      <td>13462</td>\n",
       "      <td>False</td>\n",
       "      <td>...</td>\n",
       "      <td>0.0</td>\n",
       "      <td>NaN</td>\n",
       "      <td>NaN</td>\n",
       "      <td>0.000031</td>\n",
       "      <td>NaN</td>\n",
       "      <td>NaN</td>\n",
       "      <td>NaN</td>\n",
       "      <td>NaN</td>\n",
       "      <td>NaN</td>\n",
       "      <td>PASS</td>\n",
       "    </tr>\n",
       "  </tbody>\n",
       "</table>\n",
       "<p>2 rows × 952 columns</p>\n",
       "</div>"
      ],
      "text/plain": [
       "    #chrom    start      end                      name svtype  AC        AF  \\\n",
       "120   chr1  1116266  1116473  PedSV.2.5.2_DEL_chr1_165    DEL   1  0.000074   \n",
       "137   chr1  1157302  1157390  PedSV.2.5.2_DEL_chr1_186    DEL   1  0.000074   \n",
       "\n",
       "    ALGORITHMS     AN  BOTHSIDES_SUPPORT  ... trio_POPMAX_FREQ_HOMALT  \\\n",
       "120      manta  13462               True  ...                     0.0   \n",
       "137       wham  13462              False  ...                     0.0   \n",
       "\n",
       "     trio_POPMAX_CN_FREQ trio_POPMAX_CN_NONREF_FREQ gnomad_v3.1_sv_POPMAX_AF  \\\n",
       "120                  NaN                        NaN                 0.000000   \n",
       "137                  NaN                        NaN                 0.000031   \n",
       "\n",
       "     gnomad_v3.1_sv_POPMAX_FREQ_HOMREF  gnomad_v3.1_sv_POPMAX_FREQ_HET  \\\n",
       "120                                NaN                             NaN   \n",
       "137                                NaN                             NaN   \n",
       "\n",
       "    gnomad_v3.1_sv_POPMAX_FREQ_HOMALT  gnomad_v3.1_sv_POPMAX_CN_FREQ  \\\n",
       "120                               NaN                            NaN   \n",
       "137                               NaN                            NaN   \n",
       "\n",
       "     gnomad_v3.1_sv_POPMAX_CN_NONREF_FREQ  FILTER  \n",
       "120                                   NaN    PASS  \n",
       "137                                   NaN    PASS  \n",
       "\n",
       "[2 rows x 952 columns]"
      ]
     },
     "execution_count": 202,
     "metadata": {},
     "output_type": "execute_result"
    }
   ],
   "source": [
    "svs_in_category = nbl_category_svs[(nbl_category_svs['sv_category'] == \"non-coding\") & \n",
    "                                   (nbl_category_svs[\"category\"] == nontad_test_framework)]\n",
    "\n",
    "# subset the actual SV matrix\n",
    "svs_in_category = svs[svs[\"name\"].isin(svs_in_category[\"SV\"].tolist())]\n",
    "\n",
    "svs_in_category.head(2)"
   ]
  },
  {
   "cell_type": "code",
   "execution_count": 203,
   "id": "8483d11d-6e8d-47a2-bee0-d14889708ca0",
   "metadata": {},
   "outputs": [
    {
     "data": {
      "text/plain": [
       "(3021, 952)"
      ]
     },
     "execution_count": 203,
     "metadata": {},
     "output_type": "execute_result"
    }
   ],
   "source": [
    "svs_in_category.shape"
   ]
  },
  {
   "cell_type": "code",
   "execution_count": 204,
   "id": "18019d6b-7749-4e58-b1d2-44dd20a466cc",
   "metadata": {},
   "outputs": [
    {
     "data": {
      "text/html": [
       "<div>\n",
       "<style scoped>\n",
       "    .dataframe tbody tr th:only-of-type {\n",
       "        vertical-align: middle;\n",
       "    }\n",
       "\n",
       "    .dataframe tbody tr th {\n",
       "        vertical-align: top;\n",
       "    }\n",
       "\n",
       "    .dataframe thead th {\n",
       "        text-align: right;\n",
       "    }\n",
       "</style>\n",
       "<table border=\"1\" class=\"dataframe\">\n",
       "  <thead>\n",
       "    <tr style=\"text-align: right;\">\n",
       "      <th></th>\n",
       "      <th>PREDICTED_NEAREST_TSS</th>\n",
       "      <th>PREDICTED_INTRONIC</th>\n",
       "      <th>PREDICTED_PROMOTER</th>\n",
       "      <th>PREDICTED_UTR</th>\n",
       "    </tr>\n",
       "  </thead>\n",
       "  <tbody>\n",
       "    <tr>\n",
       "      <th>120</th>\n",
       "      <td>NaN</td>\n",
       "      <td>NaN</td>\n",
       "      <td>C1orf159</td>\n",
       "      <td>NaN</td>\n",
       "    </tr>\n",
       "    <tr>\n",
       "      <th>137</th>\n",
       "      <td>TTLL10</td>\n",
       "      <td>NaN</td>\n",
       "      <td>NaN</td>\n",
       "      <td>NaN</td>\n",
       "    </tr>\n",
       "    <tr>\n",
       "      <th>224</th>\n",
       "      <td>NaN</td>\n",
       "      <td>ATAD3B</td>\n",
       "      <td>NaN</td>\n",
       "      <td>NaN</td>\n",
       "    </tr>\n",
       "    <tr>\n",
       "      <th>584</th>\n",
       "      <td>NaN</td>\n",
       "      <td>NaN</td>\n",
       "      <td>C1orf174</td>\n",
       "      <td>NaN</td>\n",
       "    </tr>\n",
       "    <tr>\n",
       "      <th>836</th>\n",
       "      <td>HES3</td>\n",
       "      <td>NaN</td>\n",
       "      <td>NaN</td>\n",
       "      <td>NaN</td>\n",
       "    </tr>\n",
       "  </tbody>\n",
       "</table>\n",
       "</div>"
      ],
      "text/plain": [
       "    PREDICTED_NEAREST_TSS PREDICTED_INTRONIC PREDICTED_PROMOTER PREDICTED_UTR\n",
       "120                   NaN                NaN           C1orf159           NaN\n",
       "137                TTLL10                NaN                NaN           NaN\n",
       "224                   NaN             ATAD3B                NaN           NaN\n",
       "584                   NaN                NaN           C1orf174           NaN\n",
       "836                  HES3                NaN                NaN           NaN"
      ]
     },
     "execution_count": 204,
     "metadata": {},
     "output_type": "execute_result"
    }
   ],
   "source": [
    "svs_in_category[genic_relationships].head()"
   ]
  },
  {
   "cell_type": "markdown",
   "id": "5127751c-3eca-4804-bbb3-2509fa564c1b",
   "metadata": {},
   "source": [
    "We should be a bit more careful if any results turn up positive, but for now we'll just register an SV as contributing to a count for that gene."
   ]
  },
  {
   "cell_type": "code",
   "execution_count": 205,
   "id": "637a32ef-befb-464b-988b-2ce8e9977177",
   "metadata": {},
   "outputs": [
    {
     "data": {
      "text/html": [
       "<div>\n",
       "<style scoped>\n",
       "    .dataframe tbody tr th:only-of-type {\n",
       "        vertical-align: middle;\n",
       "    }\n",
       "\n",
       "    .dataframe tbody tr th {\n",
       "        vertical-align: top;\n",
       "    }\n",
       "\n",
       "    .dataframe thead th {\n",
       "        text-align: right;\n",
       "    }\n",
       "</style>\n",
       "<table border=\"1\" class=\"dataframe\">\n",
       "  <thead>\n",
       "    <tr style=\"text-align: right;\">\n",
       "      <th></th>\n",
       "      <th>PT_00QYKRAX</th>\n",
       "      <th>PT_00Y8C0XA</th>\n",
       "      <th>PT_025YMME2</th>\n",
       "      <th>PT_02AE4RSP</th>\n",
       "      <th>PT_02SNWVRF</th>\n",
       "      <th>PT_06Z51EN5</th>\n",
       "      <th>PT_0CKD259J</th>\n",
       "      <th>PT_0GMP9VVY</th>\n",
       "      <th>PT_0MVMPZKX</th>\n",
       "      <th>PT_11XN6CG5</th>\n",
       "      <th>...</th>\n",
       "      <th>ssi_26401</th>\n",
       "      <th>ssi_26409</th>\n",
       "      <th>ssi_26411</th>\n",
       "      <th>ssi_26422</th>\n",
       "      <th>ssi_26442</th>\n",
       "      <th>ssi_26452</th>\n",
       "      <th>ssi_26453</th>\n",
       "      <th>ssi_26458</th>\n",
       "      <th>ssi_26459</th>\n",
       "      <th>ssi_26463</th>\n",
       "    </tr>\n",
       "    <tr>\n",
       "      <th>ID</th>\n",
       "      <th></th>\n",
       "      <th></th>\n",
       "      <th></th>\n",
       "      <th></th>\n",
       "      <th></th>\n",
       "      <th></th>\n",
       "      <th></th>\n",
       "      <th></th>\n",
       "      <th></th>\n",
       "      <th></th>\n",
       "      <th></th>\n",
       "      <th></th>\n",
       "      <th></th>\n",
       "      <th></th>\n",
       "      <th></th>\n",
       "      <th></th>\n",
       "      <th></th>\n",
       "      <th></th>\n",
       "      <th></th>\n",
       "      <th></th>\n",
       "      <th></th>\n",
       "    </tr>\n",
       "  </thead>\n",
       "  <tbody>\n",
       "    <tr>\n",
       "      <th>PedSV.2.5.2_DEL_chr1_165</th>\n",
       "      <td>0.0</td>\n",
       "      <td>0.0</td>\n",
       "      <td>0.0</td>\n",
       "      <td>0.0</td>\n",
       "      <td>0.0</td>\n",
       "      <td>0.0</td>\n",
       "      <td>0.0</td>\n",
       "      <td>0.0</td>\n",
       "      <td>0.0</td>\n",
       "      <td>0.0</td>\n",
       "      <td>...</td>\n",
       "      <td>0.0</td>\n",
       "      <td>0.0</td>\n",
       "      <td>0.0</td>\n",
       "      <td>0.0</td>\n",
       "      <td>0.0</td>\n",
       "      <td>0.0</td>\n",
       "      <td>0.0</td>\n",
       "      <td>0.0</td>\n",
       "      <td>0.0</td>\n",
       "      <td>0.0</td>\n",
       "    </tr>\n",
       "    <tr>\n",
       "      <th>PedSV.2.5.2_DEL_chr1_186</th>\n",
       "      <td>0.0</td>\n",
       "      <td>0.0</td>\n",
       "      <td>0.0</td>\n",
       "      <td>0.0</td>\n",
       "      <td>0.0</td>\n",
       "      <td>0.0</td>\n",
       "      <td>0.0</td>\n",
       "      <td>0.0</td>\n",
       "      <td>0.0</td>\n",
       "      <td>0.0</td>\n",
       "      <td>...</td>\n",
       "      <td>0.0</td>\n",
       "      <td>0.0</td>\n",
       "      <td>0.0</td>\n",
       "      <td>0.0</td>\n",
       "      <td>0.0</td>\n",
       "      <td>0.0</td>\n",
       "      <td>0.0</td>\n",
       "      <td>0.0</td>\n",
       "      <td>0.0</td>\n",
       "      <td>0.0</td>\n",
       "    </tr>\n",
       "  </tbody>\n",
       "</table>\n",
       "<p>2 rows × 5519 columns</p>\n",
       "</div>"
      ],
      "text/plain": [
       "                          PT_00QYKRAX  PT_00Y8C0XA  PT_025YMME2  PT_02AE4RSP  \\\n",
       "ID                                                                             \n",
       "PedSV.2.5.2_DEL_chr1_165          0.0          0.0          0.0          0.0   \n",
       "PedSV.2.5.2_DEL_chr1_186          0.0          0.0          0.0          0.0   \n",
       "\n",
       "                          PT_02SNWVRF  PT_06Z51EN5  PT_0CKD259J  PT_0GMP9VVY  \\\n",
       "ID                                                                             \n",
       "PedSV.2.5.2_DEL_chr1_165          0.0          0.0          0.0          0.0   \n",
       "PedSV.2.5.2_DEL_chr1_186          0.0          0.0          0.0          0.0   \n",
       "\n",
       "                          PT_0MVMPZKX  PT_11XN6CG5  ...  ssi_26401  ssi_26409  \\\n",
       "ID                                                  ...                         \n",
       "PedSV.2.5.2_DEL_chr1_165          0.0          0.0  ...        0.0        0.0   \n",
       "PedSV.2.5.2_DEL_chr1_186          0.0          0.0  ...        0.0        0.0   \n",
       "\n",
       "                          ssi_26411  ssi_26422  ssi_26442  ssi_26452  \\\n",
       "ID                                                                     \n",
       "PedSV.2.5.2_DEL_chr1_165        0.0        0.0        0.0        0.0   \n",
       "PedSV.2.5.2_DEL_chr1_186        0.0        0.0        0.0        0.0   \n",
       "\n",
       "                          ssi_26453  ssi_26458  ssi_26459  ssi_26463  \n",
       "ID                                                                    \n",
       "PedSV.2.5.2_DEL_chr1_165        0.0        0.0        0.0        0.0  \n",
       "PedSV.2.5.2_DEL_chr1_186        0.0        0.0        0.0        0.0  \n",
       "\n",
       "[2 rows x 5519 columns]"
      ]
     },
     "execution_count": 205,
     "metadata": {},
     "output_type": "execute_result"
    }
   ],
   "source": [
    "nbl_sv_dosages = (\n",
    "    dosages\n",
    "    .set_index(\"ID\")\n",
    "    .loc[svs_in_category[\"name\"].tolist(), nbl_cases + nbl_controls]\n",
    ")\n",
    "nbl_sv_dosages.head(2)"
   ]
  },
  {
   "cell_type": "markdown",
   "id": "2bf2daa9-a00e-4f03-bbbf-cd130a4103fd",
   "metadata": {},
   "source": [
    "Again subset our dosage matrix, dropping samples with bad GT rates"
   ]
  },
  {
   "cell_type": "code",
   "execution_count": 206,
   "id": "ee09ae2a-1df6-4d37-b423-c8c44a8d4bca",
   "metadata": {},
   "outputs": [],
   "source": [
    "kept = pd.isnull(nbl_sv_dosages).sum(axis = 0) / len(nbl_sv_dosages) < 0.05\n",
    "\n",
    "nbl_kept_cases = list(set(nbl_cases) & set(kept[kept].index))\n",
    "nbl_kept_controls = list(set(nbl_controls) & set(kept[kept].index))"
   ]
  },
  {
   "cell_type": "code",
   "execution_count": 207,
   "id": "3822f620-d0e3-4a27-97d6-5a3f02bec4ff",
   "metadata": {},
   "outputs": [],
   "source": [
    "nbl_sv_dosages = nbl_sv_dosages.loc[:, kept]"
   ]
  },
  {
   "cell_type": "code",
   "execution_count": 208,
   "id": "49111247-4eea-4161-bd8f-623c2e4fa12c",
   "metadata": {},
   "outputs": [
    {
     "data": {
      "text/plain": [
       "(3021, 5346)"
      ]
     },
     "execution_count": 208,
     "metadata": {},
     "output_type": "execute_result"
    }
   ],
   "source": [
    "nbl_sv_dosages.shape"
   ]
  },
  {
   "cell_type": "code",
   "execution_count": 209,
   "id": "15da298c-8d62-49c1-a795-15b0b79f3cc3",
   "metadata": {},
   "outputs": [
    {
     "data": {
      "text/plain": [
       "ID\n",
       "PedSV.2.5.2_DEL_chr1_165     0.0\n",
       "PedSV.2.5.2_DEL_chr12_612    0.0\n",
       "PedSV.2.5.2_DEL_chr12_615    0.0\n",
       "PedSV.2.5.2_DEL_chr12_705    0.0\n",
       "PedSV.2.5.2_DEL_chr12_839    0.0\n",
       "dtype: float64"
      ]
     },
     "execution_count": 209,
     "metadata": {},
     "output_type": "execute_result"
    }
   ],
   "source": [
    "sv_counts_cases = nbl_sv_dosages[nbl_kept_cases].fillna(0).sum(axis=1).sort_values()\n",
    "sv_counts_controls = nbl_sv_dosages[nbl_kept_controls].fillna(0).sum(axis=1).sort_values()\n",
    "sv_counts_cases.head()"
   ]
  },
  {
   "cell_type": "markdown",
   "id": "e1d3933b-d74f-4c8f-8a7d-11f4c2c01f53",
   "metadata": {},
   "source": [
    "First, how many SVs are we actually dealing with here?"
   ]
  },
  {
   "cell_type": "code",
   "execution_count": 210,
   "id": "cf0f8697-0644-423d-b616-8683af9f512e",
   "metadata": {},
   "outputs": [
    {
     "data": {
      "text/plain": [
       "(339.0, 1962.0)"
      ]
     },
     "execution_count": 210,
     "metadata": {},
     "output_type": "execute_result"
    }
   ],
   "source": [
    "sv_counts_cases.sum(), sv_counts_controls.sum()"
   ]
  },
  {
   "cell_type": "markdown",
   "id": "5ca5931e-73a0-41e1-bb86-8438215c6a9a",
   "metadata": {},
   "source": [
    "So maybe that's not so bad? We'll see what happens."
   ]
  },
  {
   "cell_type": "code",
   "execution_count": 211,
   "id": "54122dae-1257-4e02-84e3-061c97a4f069",
   "metadata": {},
   "outputs": [],
   "source": [
    "genes_in_svs = svs_in_category[['name'] + genic_relationships].set_index('name')"
   ]
  },
  {
   "cell_type": "code",
   "execution_count": 212,
   "id": "5ee0f1c5-0ce3-43e2-9293-3ad59254763d",
   "metadata": {},
   "outputs": [],
   "source": [
    "gene_counts = {'cases': [], 'controls': []}\n",
    "for cohort, sv_counts in zip(['cases', 'controls'], [sv_counts_cases, sv_counts_controls]):\n",
    "\n",
    "    sample_genes_in_svs = genes_in_svs.copy()\n",
    "    sample_genes_in_svs.loc[sv_counts.index, 'count'] = sv_counts.astype(int)\n",
    "\n",
    "    # simple enough to go through\n",
    "    cohort_gene_counts = []\n",
    "    for index, row in sample_genes_in_svs.iterrows():\n",
    "        for col in genic_relationships:\n",
    "            if not pd.isnull(row[col]):\n",
    "                cohort_gene_counts += row[col].split(',') * row['count']\n",
    "\n",
    "    gene_counts[cohort] = pd.DataFrame(np.unique(cohort_gene_counts, return_counts = True), index = ['gene', 'count']).T"
   ]
  },
  {
   "cell_type": "code",
   "execution_count": 213,
   "id": "92f359a4-8a84-4984-8b65-259e63279921",
   "metadata": {},
   "outputs": [
    {
     "data": {
      "text/plain": [
       "((314, 2), (1565, 2))"
      ]
     },
     "execution_count": 213,
     "metadata": {},
     "output_type": "execute_result"
    }
   ],
   "source": [
    "gene_counts['cases'].shape, gene_counts['controls'].shape"
   ]
  },
  {
   "cell_type": "markdown",
   "id": "55525db8-49d0-42db-b423-24f3c8f16598",
   "metadata": {},
   "source": [
    "Calculate with Fisher's exact:"
   ]
  },
  {
   "cell_type": "code",
   "execution_count": 214,
   "id": "e5d536ec-a96f-470a-ba0d-fd31af685887",
   "metadata": {},
   "outputs": [
    {
     "name": "stdout",
     "output_type": "stream",
     "text": [
      "(0.8683368869936035, 1.0)\n",
      "(1.3816026445435954, 0.14262785040075765)\n"
     ]
    }
   ],
   "source": [
    "for cohort in ['cases', 'controls']:\n",
    "    \n",
    "    cohort_gene_counts = gene_counts[cohort]\n",
    "    \n",
    "    genes_in_category_and_gs = cohort_gene_counts[cohort_gene_counts['gene'].isin(g2m_checkpoint)]['count'].sum()\n",
    "    genes_in_category_and_not_gs = cohort_gene_counts[~cohort_gene_counts['gene'].isin(g2m_checkpoint)]['count'].sum()\n",
    "\n",
    "    genes_not_in_category_and_in_gs = len(set(g2m_checkpoint) - set(cohort_gene_counts['gene']))\n",
    "    genes_not_in_category_and_not_gs = len(gene_ref) - genes_not_in_category_and_in_gs\n",
    "    \n",
    "    cont_table = np.array([[genes_in_category_and_gs, genes_in_category_and_not_gs], \n",
    "                       [genes_not_in_category_and_in_gs, genes_not_in_category_and_not_gs]])\n",
    "    print(scipy.stats.fisher_exact(cont_table))"
   ]
  },
  {
   "cell_type": "code",
   "execution_count": 215,
   "id": "abf41000-7057-4ce0-95ef-855f4d62b93f",
   "metadata": {},
   "outputs": [],
   "source": [
    "hallmark_results = []\n",
    "for gs, genes in hallmark.items():\n",
    "    \n",
    "    # genes = [g for g in genes if g in gene_ref]\n",
    "    \n",
    "    # store the expected frequency\n",
    "    expected = f'{len(genes)}/{len(gene_ref)}'\n",
    "    row = [gs, expected]\n",
    "    \n",
    "    for cohort in ['cases', 'controls']:\n",
    "        \n",
    "        cohort_gene_counts = gene_counts[cohort]\n",
    "        \n",
    "        top_left = cohort_gene_counts[cohort_gene_counts['gene'].isin(genes)]['count'].sum()\n",
    "        top_right = cohort_gene_counts[~cohort_gene_counts['gene'].isin(genes)]['count'].sum()\n",
    "\n",
    "        bottom_left = len(set(genes) - set(cohort_gene_counts['gene']))\n",
    "        botttom_right = len(gene_ref) - bottom_left\n",
    "\n",
    "        cont_table = np.array([[top_left, top_right], \n",
    "                               [bottom_left, botttom_right]])\n",
    "        res, p = scipy.stats.fisher_exact(cont_table)\n",
    "\n",
    "        # provide the expected and the data frequencies\n",
    "        data = f'{top_left}/{top_left + top_right}'\n",
    "        row += [res, p, data]\n",
    "        \n",
    "    hallmark_results.append(row)\n",
    "    \n",
    "col_names = ['gene_set', 'expected', 'case_stat', 'case_p', 'case_data', 'control_stat', 'control_p', 'control_data']\n",
    "hallmark_results = pd.DataFrame(hallmark_results, columns = col_names)"
   ]
  },
  {
   "cell_type": "code",
   "execution_count": 216,
   "id": "46e767e2-9524-4157-b802-e984fa8192f1",
   "metadata": {},
   "outputs": [
    {
     "data": {
      "text/html": [
       "<div>\n",
       "<style scoped>\n",
       "    .dataframe tbody tr th:only-of-type {\n",
       "        vertical-align: middle;\n",
       "    }\n",
       "\n",
       "    .dataframe tbody tr th {\n",
       "        vertical-align: top;\n",
       "    }\n",
       "\n",
       "    .dataframe thead th {\n",
       "        text-align: right;\n",
       "    }\n",
       "</style>\n",
       "<table border=\"1\" class=\"dataframe\">\n",
       "  <thead>\n",
       "    <tr style=\"text-align: right;\">\n",
       "      <th></th>\n",
       "      <th>gene_set</th>\n",
       "      <th>expected</th>\n",
       "      <th>case_stat</th>\n",
       "      <th>case_p</th>\n",
       "      <th>case_data</th>\n",
       "      <th>control_stat</th>\n",
       "      <th>control_p</th>\n",
       "      <th>control_data</th>\n",
       "    </tr>\n",
       "  </thead>\n",
       "  <tbody>\n",
       "    <tr>\n",
       "      <th>0</th>\n",
       "      <td>TNF-alpha Signaling via NF-kB</td>\n",
       "      <td>200/19201</td>\n",
       "      <td>3.034415</td>\n",
       "      <td>0.002708</td>\n",
       "      <td>10/338</td>\n",
       "      <td>2.047719</td>\n",
       "      <td>2.785264e-04</td>\n",
       "      <td>36/1981</td>\n",
       "    </tr>\n",
       "    <tr>\n",
       "      <th>3</th>\n",
       "      <td>Mitotic Spindle</td>\n",
       "      <td>199/19201</td>\n",
       "      <td>2.412819</td>\n",
       "      <td>0.022825</td>\n",
       "      <td>8/338</td>\n",
       "      <td>1.863254</td>\n",
       "      <td>2.358557e-03</td>\n",
       "      <td>33/1981</td>\n",
       "    </tr>\n",
       "    <tr>\n",
       "      <th>11</th>\n",
       "      <td>Adipogenesis</td>\n",
       "      <td>200/19201</td>\n",
       "      <td>2.400126</td>\n",
       "      <td>0.023432</td>\n",
       "      <td>8/338</td>\n",
       "      <td>1.405359</td>\n",
       "      <td>1.166004e-01</td>\n",
       "      <td>26/1981</td>\n",
       "    </tr>\n",
       "    <tr>\n",
       "      <th>16</th>\n",
       "      <td>Protein Secretion</td>\n",
       "      <td>96/19201</td>\n",
       "      <td>3.118717</td>\n",
       "      <td>0.026645</td>\n",
       "      <td>5/338</td>\n",
       "      <td>1.226758</td>\n",
       "      <td>4.865993e-01</td>\n",
       "      <td>11/1981</td>\n",
       "    </tr>\n",
       "    <tr>\n",
       "      <th>23</th>\n",
       "      <td>Unfolded Protein Response</td>\n",
       "      <td>113/19201</td>\n",
       "      <td>2.629969</td>\n",
       "      <td>0.048101</td>\n",
       "      <td>5/338</td>\n",
       "      <td>0.737422</td>\n",
       "      <td>5.164636e-01</td>\n",
       "      <td>8/1981</td>\n",
       "    </tr>\n",
       "    <tr>\n",
       "      <th>38</th>\n",
       "      <td>UV Response Dn</td>\n",
       "      <td>144/19201</td>\n",
       "      <td>3.863425</td>\n",
       "      <td>0.000918</td>\n",
       "      <td>9/338</td>\n",
       "      <td>3.906664</td>\n",
       "      <td>1.042503e-11</td>\n",
       "      <td>44/1981</td>\n",
       "    </tr>\n",
       "    <tr>\n",
       "      <th>43</th>\n",
       "      <td>Bile Acid Metabolism</td>\n",
       "      <td>112/19201</td>\n",
       "      <td>2.654460</td>\n",
       "      <td>0.046622</td>\n",
       "      <td>5/338</td>\n",
       "      <td>1.025317</td>\n",
       "      <td>8.726269e-01</td>\n",
       "      <td>11/1981</td>\n",
       "    </tr>\n",
       "    <tr>\n",
       "      <th>45</th>\n",
       "      <td>Allograft Rejection</td>\n",
       "      <td>200/19201</td>\n",
       "      <td>2.722672</td>\n",
       "      <td>0.008239</td>\n",
       "      <td>9/338</td>\n",
       "      <td>0.775782</td>\n",
       "      <td>3.962079e-01</td>\n",
       "      <td>15/1981</td>\n",
       "    </tr>\n",
       "    <tr>\n",
       "      <th>49</th>\n",
       "      <td>Pancreas Beta Cells</td>\n",
       "      <td>40/19201</td>\n",
       "      <td>4.516025</td>\n",
       "      <td>0.033713</td>\n",
       "      <td>3/338</td>\n",
       "      <td>2.285799</td>\n",
       "      <td>5.459697e-02</td>\n",
       "      <td>8/1981</td>\n",
       "    </tr>\n",
       "  </tbody>\n",
       "</table>\n",
       "</div>"
      ],
      "text/plain": [
       "                         gene_set   expected  case_stat    case_p case_data  \\\n",
       "0   TNF-alpha Signaling via NF-kB  200/19201   3.034415  0.002708    10/338   \n",
       "3                 Mitotic Spindle  199/19201   2.412819  0.022825     8/338   \n",
       "11                   Adipogenesis  200/19201   2.400126  0.023432     8/338   \n",
       "16              Protein Secretion   96/19201   3.118717  0.026645     5/338   \n",
       "23      Unfolded Protein Response  113/19201   2.629969  0.048101     5/338   \n",
       "38                 UV Response Dn  144/19201   3.863425  0.000918     9/338   \n",
       "43           Bile Acid Metabolism  112/19201   2.654460  0.046622     5/338   \n",
       "45            Allograft Rejection  200/19201   2.722672  0.008239     9/338   \n",
       "49            Pancreas Beta Cells   40/19201   4.516025  0.033713     3/338   \n",
       "\n",
       "    control_stat     control_p control_data  \n",
       "0       2.047719  2.785264e-04      36/1981  \n",
       "3       1.863254  2.358557e-03      33/1981  \n",
       "11      1.405359  1.166004e-01      26/1981  \n",
       "16      1.226758  4.865993e-01      11/1981  \n",
       "23      0.737422  5.164636e-01       8/1981  \n",
       "38      3.906664  1.042503e-11      44/1981  \n",
       "43      1.025317  8.726269e-01      11/1981  \n",
       "45      0.775782  3.962079e-01      15/1981  \n",
       "49      2.285799  5.459697e-02       8/1981  "
      ]
     },
     "execution_count": 216,
     "metadata": {},
     "output_type": "execute_result"
    }
   ],
   "source": [
    "hallmark_results.query('case_p < 0.05')"
   ]
  },
  {
   "cell_type": "markdown",
   "id": "1a7ab9b1-a1fc-40b6-8b3a-17eb30ae3b36",
   "metadata": {},
   "source": [
    "# Generalized gene set enrichment\n",
    "\n",
    "Alright, we've been through two examples. Now let's try generalizing across two axes--categories and gene sets. For now, we'll only neuroblastoma significant categories.\n",
    "\n",
    "I don't know if these `p_values` are already corrected or not. I'll assume they're not."
   ]
  },
  {
   "cell_type": "markdown",
   "id": "5eb19bf8-d7b1-4313-a9a0-4659d6371b7c",
   "metadata": {},
   "source": [
    "## Define the categories for analysis\n",
    "\n",
    "Here, we'll select which categories we want to examine. We'll stick to neuroblastoma, but we'll examine `singleton` and `rare`, as well as `noncoding` and `coding`.\n",
    "\n",
    "Worth mentioning that the `noncoding` categories could be quite difficult to interpret."
   ]
  },
  {
   "cell_type": "code",
   "execution_count": 217,
   "id": "b9bb01ff-1406-4b73-82f7-45f98d00ce94",
   "metadata": {},
   "outputs": [
    {
     "data": {
      "text/plain": [
       "(77, 22)"
      ]
     },
     "execution_count": 217,
     "metadata": {},
     "output_type": "execute_result"
    }
   ],
   "source": [
    "nbl_analysis_categories = nbl_framework_results.query('negative_log10_p_value > 3.5')\n",
    "nbl_analysis_categories.shape"
   ]
  },
  {
   "cell_type": "markdown",
   "id": "1819aff5-ec24-42fe-8094-f6ccbe5494d9",
   "metadata": {},
   "source": [
    "Here, we'll also define a helpful lookup that maps from the \"collapsed\" genic relationships to all their component relationships."
   ]
  },
  {
   "cell_type": "code",
   "execution_count": 218,
   "id": "45870124-595d-4354-b9a4-bd9c4c0b7a3e",
   "metadata": {},
   "outputs": [],
   "source": [
    "gr_coding_mapping = {'PREDICTED_LOF_or_PREDICTED_PARTIAL_EXON_DUP': ['PREDICTED_LOF', 'PREDICTED_PARTIAL_EXON_DUP'],\n",
    "                     'ANY': ['PREDICTED_COPY_GAIN', 'PREDICTED_INTRAGENIC_EXON_DUP', 'PREDICTED_LOF', 'PREDICTED_PARTIAL_EXON_DUP']}\n",
    "\n",
    "gr_noncoding_mapping = {'ANY': ['PREDICTED_INTERGENIC', 'PREDICTED_INTRONIC', 'PREDICTED_PROMOTER', 'PREDICTED_UTR']}\n"
   ]
  },
  {
   "cell_type": "markdown",
   "id": "77a702d3-24c4-4949-a6a5-66c94f3c8cf8",
   "metadata": {},
   "source": [
    "## Define the gene sets for analysis\n",
    "\n",
    "Let's highlight some specific gene sets for analysis. We'll do the following:\n",
    "\n",
    "* `MSigDB_Hallmark_2020`\n",
    "* `GO_Biological_Process_2023` (this is the default for GO term analysis)\n",
    "* `Reactome_2022`\n",
    "\n",
    "We'll begin with these, and then we can add in other specific ones that might be relevant later:"
   ]
  },
  {
   "cell_type": "markdown",
   "id": "9faf32d3-d1c8-4afa-bd33-82c241cfac3c",
   "metadata": {},
   "source": [
    "### GO terms\n",
    "\n",
    "We're using `gseapy` to get our gene sets. Unfortunately, I've discovered that the gene sets procided by `gp.get_library` _do not_ match the GO gene sets fetched by `biomaRt`. The libraries defined here are from `enrichr`, and from digging around a bit, they do not match. Maybe they're some custom file or something?"
   ]
  },
  {
   "cell_type": "code",
   "execution_count": 252,
   "id": "9a54c165-c476-4740-b07e-9ade5c6ae796",
   "metadata": {},
   "outputs": [],
   "source": [
    "gene_sets = {}\n",
    "for db_name in ['MSigDB_Hallmark_2020', 'Reactome_2022']:\n",
    "    db = gp.get_library(name=db_name)\n",
    "    gene_sets[db_name] = db"
   ]
  },
  {
   "cell_type": "markdown",
   "id": "b77c7ce3-39d5-491e-ae89-e03b38e8b491",
   "metadata": {},
   "source": [
    "The GO terms from `gseapy` are not correct. We have pulled them directly from GO in `pull-go-terms`"
   ]
  },
  {
   "cell_type": "code",
   "execution_count": 253,
   "id": "8f7b0680-91f1-4e8d-be0d-0d24715a5cd2",
   "metadata": {},
   "outputs": [
    {
     "data": {
      "text/html": [
       "<div>\n",
       "<style scoped>\n",
       "    .dataframe tbody tr th:only-of-type {\n",
       "        vertical-align: middle;\n",
       "    }\n",
       "\n",
       "    .dataframe tbody tr th {\n",
       "        vertical-align: top;\n",
       "    }\n",
       "\n",
       "    .dataframe thead th {\n",
       "        text-align: right;\n",
       "    }\n",
       "</style>\n",
       "<table border=\"1\" class=\"dataframe\">\n",
       "  <thead>\n",
       "    <tr style=\"text-align: right;\">\n",
       "      <th></th>\n",
       "      <th>go</th>\n",
       "      <th>label</th>\n",
       "      <th>genes_specific</th>\n",
       "      <th>genes_full</th>\n",
       "      <th>num_genes_panther</th>\n",
       "      <th>level</th>\n",
       "      <th>depth</th>\n",
       "      <th>num_genes_goat</th>\n",
       "    </tr>\n",
       "  </thead>\n",
       "  <tbody>\n",
       "    <tr>\n",
       "      <th>0</th>\n",
       "      <td>GO:0043012</td>\n",
       "      <td>regulation of fusion of sperm to egg plasma me...</td>\n",
       "      <td>NOX5</td>\n",
       "      <td>NOX5</td>\n",
       "      <td>1.0</td>\n",
       "      <td>4.0</td>\n",
       "      <td>6.0</td>\n",
       "      <td>1.0</td>\n",
       "    </tr>\n",
       "    <tr>\n",
       "      <th>1</th>\n",
       "      <td>GO:0002728</td>\n",
       "      <td>negative regulation of natural killer cell cyt...</td>\n",
       "      <td>HLA-F,CD96</td>\n",
       "      <td>HLA-F,CD96</td>\n",
       "      <td>2.0</td>\n",
       "      <td>7.0</td>\n",
       "      <td>11.0</td>\n",
       "      <td>2.0</td>\n",
       "    </tr>\n",
       "  </tbody>\n",
       "</table>\n",
       "</div>"
      ],
      "text/plain": [
       "           go                                              label  \\\n",
       "0  GO:0043012  regulation of fusion of sperm to egg plasma me...   \n",
       "1  GO:0002728  negative regulation of natural killer cell cyt...   \n",
       "\n",
       "  genes_specific  genes_full  num_genes_panther  level  depth  num_genes_goat  \n",
       "0           NOX5        NOX5                1.0    4.0    6.0             1.0  \n",
       "1     HLA-F,CD96  HLA-F,CD96                2.0    7.0   11.0             2.0  "
      ]
     },
     "execution_count": 253,
     "metadata": {},
     "output_type": "execute_result"
    }
   ],
   "source": [
    "go_output = pd.read_csv('data/cwas-results/go-gene-sets/full-go-gene-set.txt', sep ='\\t')\n",
    "go_output.head(2)"
   ]
  },
  {
   "cell_type": "code",
   "execution_count": 254,
   "id": "2b2447af-9bec-4b2d-85c0-d567db85931c",
   "metadata": {},
   "outputs": [],
   "source": [
    "gene_sets['GO_Biological_Process_Specific'] = {}\n",
    "gene_sets['GO_Biological_Process_Full'] = {}\n",
    "\n",
    "for index, row in go_output.iterrows():\n",
    "    term = row['go']\n",
    "    label = row['label'].strip()\n",
    "    \n",
    "    if not pd.isnull(row['genes_specific']):\n",
    "        genes_specific = row['genes_specific'].split(',')\n",
    "    else:\n",
    "        genes_specific = []\n",
    "    \n",
    "    if not pd.isnull(row['genes_full']):\n",
    "        genes_full = row['genes_full'].split(',')\n",
    "    else:\n",
    "        genes_full = []\n",
    "        \n",
    "    gene_sets['GO_Biological_Process_Specific'][label + f' ({term})'] = genes_specific\n",
    "    gene_sets['GO_Biological_Process_Full'][label + f' ({term})'] = genes_full\n",
    "        \n",
    "    "
   ]
  },
  {
   "cell_type": "markdown",
   "id": "f99ebc4c-9a9e-49d9-81cb-9ec5853dcfde",
   "metadata": {},
   "source": [
    "Below is just some old code to get go terms from the broad (these are basically full)"
   ]
  },
  {
   "cell_type": "code",
   "execution_count": 255,
   "id": "d22511a6-64da-49e1-94ce-c88adcc6b9e8",
   "metadata": {},
   "outputs": [],
   "source": [
    "# link = 'https://data.broadinstitute.org/gsea-msigdb/msigdb/release/2023.2.Hs/c5.go.bp.v2023.2.Hs.symbols.gmt'\n",
    "\n",
    "# import requests\n",
    "# from io import StringIO\n",
    "\n",
    "# go_terms = {}\n",
    "\n",
    "# resp = requests.get(link).text\n",
    "# gmt_io = StringIO(resp)\n",
    "# for line in gmt_io:\n",
    "#     line = line.strip().split('\\t')\n",
    "#     name = line[0]\n",
    "#     genes = line[2:]\n",
    "#     go_terms[name] = genes\n"
   ]
  },
  {
   "cell_type": "markdown",
   "id": "4318b77d-3ae7-41b8-afd3-2afa3836c54d",
   "metadata": {},
   "source": [
    "And here's some old code to get it from Ensembl"
   ]
  },
  {
   "cell_type": "code",
   "execution_count": 256,
   "id": "584d66a7-8501-4ff1-8533-fe7e9626e093",
   "metadata": {},
   "outputs": [],
   "source": [
    "# # fetch the GO ids, and then make them into 50 length chunks\n",
    "# pattern = r'\\((.*?)\\)'\n",
    "# go_id_to_go_term = {re.findall(pattern, g)[0]: g for g in gs['GO_Biological_Process_2023']}\n",
    "# go_chunks = [list(go_id_to_go_term.keys())[i:i + 50] for i in range(0, len(go_id_to_go_term.keys()), 50)]\n",
    "\n",
    "# go_results = []\n",
    "# for i, go_ids in enumerate(go_chunks):\n",
    "#     print(i, end = ', ')\n",
    "#     queries ={'go': go_ids}\n",
    "    \n",
    "#     # look up the true GO ids from biomart\n",
    "#     results = bm.query(dataset='hsapiens_gene_ensembl',\n",
    "#                        attributes=['ensembl_gene_id', 'external_gene_name', 'entrezgene_id', 'go'],\n",
    "#                        filters=queries)\n",
    "#     go_results.append(results)\n",
    "    \n",
    "# go_results = pd.concat(go_results)\n",
    "# go_results['go_term'] = go_results['go'].replace(go_id_to_go_term)\n",
    "# go_results[['go_term', 'external_gene_name']].to_csv('ref/GO_Biological_Process_Gene_Mapping.csv', index=False)\n",
    "\n",
    "# go_terms = pd.read_csv('ref/GO_Biological_Process_Gene_Mapping.csv').set_index('go_term')\n",
    "# go_terms.head(2)\n",
    "\n",
    "# new_go = {}\n",
    "# for gs, genes in gene_sets['GO_Biological_Process_2023'].items():\n",
    "#     if gs in go_terms.index:\n",
    "#         correct_genes = go_terms.loc[gs]\n",
    "#         new_go[gs] = correct_genes\n",
    "        \n",
    "# gene_sets['GO_Biological_Process_2023'] = new_go"
   ]
  },
  {
   "cell_type": "code",
   "execution_count": 257,
   "id": "fc30eb17-9d0c-4438-8216-5b7e54530947",
   "metadata": {},
   "outputs": [],
   "source": [
    "adrenal_genes = pd.read_csv('ref/adrenal-specific-genes.txt', sep='\\t', comment = '#')['Gene Name'].tolist()\n",
    "adrenal_genes = [g for g in adrenal_genes if g in gene_ref]\n",
    "\n",
    "gene_sets['custom'] = {'adrenal-specific-exp': adrenal_genes}"
   ]
  },
  {
   "cell_type": "code",
   "execution_count": 259,
   "id": "a314f9bc-1c74-4033-b74a-2ce3a9b4f1c9",
   "metadata": {},
   "outputs": [
    {
     "data": {
      "text/plain": [
       "12558"
      ]
     },
     "execution_count": 259,
     "metadata": {},
     "output_type": "execute_result"
    }
   ],
   "source": [
    "len(gene_sets['GO_Biological_Process_Specific'])"
   ]
  },
  {
   "cell_type": "code",
   "execution_count": 263,
   "id": "4487fc8e-5f68-4ebc-955e-56675b4df633",
   "metadata": {},
   "outputs": [],
   "source": [
    "gene_ref_set = set(gene_ref)"
   ]
  },
  {
   "cell_type": "code",
   "execution_count": 264,
   "id": "33e38631-a4b7-44c4-a362-dd6c7390fe00",
   "metadata": {},
   "outputs": [
    {
     "name": "stdout",
     "output_type": "stream",
     "text": [
      "MSigDB_Hallmark_2020\n",
      "Reactome_2022\n",
      "GO_Biological_Process_Specific\n",
      "GO_Biological_Process_Full\n",
      "custom\n"
     ]
    },
    {
     "data": {
      "text/plain": [
       "26983"
      ]
     },
     "execution_count": 264,
     "metadata": {},
     "output_type": "execute_result"
    }
   ],
   "source": [
    "gs_count = 0\n",
    "for db_name, db in gene_sets.items():\n",
    "    print(db_name)\n",
    "    gs_count += len(db.values())\n",
    "    \n",
    "    # ensure that all genes are in our gene reference\n",
    "    for gs, genes in db.items():\n",
    "        gene_sets[db_name][gs] = list(set(genes) & gene_ref_set)\n",
    "\n",
    "gs_count"
   ]
  },
  {
   "cell_type": "code",
   "execution_count": 265,
   "id": "084f7391-b215-4744-950c-07b3cde7e7cf",
   "metadata": {},
   "outputs": [],
   "source": [
    "genes = ['BRCA1', 'BRCA1', 'BRCA2', 'TP53', 'RAD51', 'MSH1', 'MSH6']\n",
    "cohort_gene_counts = pd.DataFrame(np.unique(genes, return_counts = True), index = ['gene', 'count']).T"
   ]
  },
  {
   "cell_type": "code",
   "execution_count": 266,
   "id": "e5ca65d0-445d-463e-bdd6-cb1c8e0bc10f",
   "metadata": {},
   "outputs": [],
   "source": [
    "test = []\n",
    "for db_name, db in gene_sets.items():\n",
    "    for gs, genes in db.items():\n",
    "    \n",
    "        # store the expected frequency\n",
    "        expected = f'{len(genes)}/{len(gene_ref)}'\n",
    "        row = [db_name, gs, expected]\n",
    "\n",
    "        top_left = cohort_gene_counts[cohort_gene_counts['gene'].isin(genes)]['count'].sum()\n",
    "        top_right = cohort_gene_counts[~cohort_gene_counts['gene'].isin(genes)]['count'].sum()\n",
    "\n",
    "        bottom_left = len(set(genes) - set(cohort_gene_counts['gene']))\n",
    "        botttom_right = len(gene_ref) - bottom_left\n",
    "\n",
    "        cont_table = np.array([[top_left, top_right], \n",
    "                               [bottom_left, botttom_right]])\n",
    "        res, p = scipy.stats.fisher_exact(cont_table)\n",
    "\n",
    "        # provide the expected and the data frequencies\n",
    "        data = f'{top_left}/{top_left + top_right}'\n",
    "        row += [res, p, data]\n",
    "\n",
    "        test.append(row)\n",
    "        \n",
    "test = pd.DataFrame(test, columns = ['db', 'gs', 'expected', 'res', 'p', 'data'])"
   ]
  },
  {
   "cell_type": "code",
   "execution_count": 270,
   "id": "e1aa78eb-e011-451a-ae16-3731a0e95416",
   "metadata": {},
   "outputs": [
    {
     "data": {
      "text/html": [
       "<div>\n",
       "<style scoped>\n",
       "    .dataframe tbody tr th:only-of-type {\n",
       "        vertical-align: middle;\n",
       "    }\n",
       "\n",
       "    .dataframe tbody tr th {\n",
       "        vertical-align: top;\n",
       "    }\n",
       "\n",
       "    .dataframe thead th {\n",
       "        text-align: right;\n",
       "    }\n",
       "</style>\n",
       "<table border=\"1\" class=\"dataframe\">\n",
       "  <thead>\n",
       "    <tr style=\"text-align: right;\">\n",
       "      <th></th>\n",
       "      <th>db</th>\n",
       "      <th>gs</th>\n",
       "      <th>expected</th>\n",
       "      <th>res</th>\n",
       "      <th>p</th>\n",
       "      <th>data</th>\n",
       "    </tr>\n",
       "  </thead>\n",
       "  <tbody>\n",
       "    <tr>\n",
       "      <th>24908</th>\n",
       "      <td>GO_Biological_Process_Full</td>\n",
       "      <td>cellular response to ionizing radiation (GO:00...</td>\n",
       "      <td>68/19201</td>\n",
       "      <td>747.539062</td>\n",
       "      <td>1.077728e-11</td>\n",
       "      <td>5/7</td>\n",
       "    </tr>\n",
       "    <tr>\n",
       "      <th>26760</th>\n",
       "      <td>GO_Biological_Process_Full</td>\n",
       "      <td>intrinsic apoptotic signaling pathway in respo...</td>\n",
       "      <td>72/19201</td>\n",
       "      <td>703.419118</td>\n",
       "      <td>1.439888e-11</td>\n",
       "      <td>5/7</td>\n",
       "    </tr>\n",
       "    <tr>\n",
       "      <th>23882</th>\n",
       "      <td>GO_Biological_Process_Full</td>\n",
       "      <td>regulation of DNA damage checkpoint (GO:2000001)</td>\n",
       "      <td>24/19201</td>\n",
       "      <td>1217.777778</td>\n",
       "      <td>7.788191e-11</td>\n",
       "      <td>4/7</td>\n",
       "    </tr>\n",
       "    <tr>\n",
       "      <th>18045</th>\n",
       "      <td>GO_Biological_Process_Full</td>\n",
       "      <td>response to ionizing radiation (GO:0010212)</td>\n",
       "      <td>137/19201</td>\n",
       "      <td>358.421053</td>\n",
       "      <td>3.694744e-10</td>\n",
       "      <td>5/7</td>\n",
       "    </tr>\n",
       "    <tr>\n",
       "      <th>26869</th>\n",
       "      <td>GO_Biological_Process_Full</td>\n",
       "      <td>response to radiation (GO:0009314)</td>\n",
       "      <td>416/19201</td>\n",
       "      <td>274.306569</td>\n",
       "      <td>6.944288e-10</td>\n",
       "      <td>6/7</td>\n",
       "    </tr>\n",
       "    <tr>\n",
       "      <th>...</th>\n",
       "      <td>...</td>\n",
       "      <td>...</td>\n",
       "      <td>...</td>\n",
       "      <td>...</td>\n",
       "      <td>...</td>\n",
       "      <td>...</td>\n",
       "    </tr>\n",
       "    <tr>\n",
       "      <th>15587</th>\n",
       "      <td>GO_Biological_Process_Full</td>\n",
       "      <td>negative regulation of epithelial cell prolife...</td>\n",
       "      <td>134/19201</td>\n",
       "      <td>23.894737</td>\n",
       "      <td>4.783090e-02</td>\n",
       "      <td>1/7</td>\n",
       "    </tr>\n",
       "    <tr>\n",
       "      <th>19442</th>\n",
       "      <td>GO_Biological_Process_Full</td>\n",
       "      <td>regulation of generation of precursor metaboli...</td>\n",
       "      <td>135/19201</td>\n",
       "      <td>23.715174</td>\n",
       "      <td>4.818034e-02</td>\n",
       "      <td>1/7</td>\n",
       "    </tr>\n",
       "    <tr>\n",
       "      <th>20681</th>\n",
       "      <td>GO_Biological_Process_Full</td>\n",
       "      <td>circadian rhythm (GO:0007623)</td>\n",
       "      <td>135/19201</td>\n",
       "      <td>23.715174</td>\n",
       "      <td>4.818034e-02</td>\n",
       "      <td>1/7</td>\n",
       "    </tr>\n",
       "    <tr>\n",
       "      <th>21164</th>\n",
       "      <td>GO_Biological_Process_Full</td>\n",
       "      <td>positive regulation of apoptotic signaling pat...</td>\n",
       "      <td>135/19201</td>\n",
       "      <td>23.715174</td>\n",
       "      <td>4.818034e-02</td>\n",
       "      <td>1/7</td>\n",
       "    </tr>\n",
       "    <tr>\n",
       "      <th>23642</th>\n",
       "      <td>GO_Biological_Process_Full</td>\n",
       "      <td>regulation of transforming growth factor beta ...</td>\n",
       "      <td>140/19201</td>\n",
       "      <td>22.856115</td>\n",
       "      <td>4.992588e-02</td>\n",
       "      <td>1/7</td>\n",
       "    </tr>\n",
       "  </tbody>\n",
       "</table>\n",
       "<p>492 rows × 6 columns</p>\n",
       "</div>"
      ],
      "text/plain": [
       "                               db  \\\n",
       "24908  GO_Biological_Process_Full   \n",
       "26760  GO_Biological_Process_Full   \n",
       "23882  GO_Biological_Process_Full   \n",
       "18045  GO_Biological_Process_Full   \n",
       "26869  GO_Biological_Process_Full   \n",
       "...                           ...   \n",
       "15587  GO_Biological_Process_Full   \n",
       "19442  GO_Biological_Process_Full   \n",
       "20681  GO_Biological_Process_Full   \n",
       "21164  GO_Biological_Process_Full   \n",
       "23642  GO_Biological_Process_Full   \n",
       "\n",
       "                                                      gs   expected  \\\n",
       "24908  cellular response to ionizing radiation (GO:00...   68/19201   \n",
       "26760  intrinsic apoptotic signaling pathway in respo...   72/19201   \n",
       "23882   regulation of DNA damage checkpoint (GO:2000001)   24/19201   \n",
       "18045        response to ionizing radiation (GO:0010212)  137/19201   \n",
       "26869                 response to radiation (GO:0009314)  416/19201   \n",
       "...                                                  ...        ...   \n",
       "15587  negative regulation of epithelial cell prolife...  134/19201   \n",
       "19442  regulation of generation of precursor metaboli...  135/19201   \n",
       "20681                      circadian rhythm (GO:0007623)  135/19201   \n",
       "21164  positive regulation of apoptotic signaling pat...  135/19201   \n",
       "23642  regulation of transforming growth factor beta ...  140/19201   \n",
       "\n",
       "               res             p data  \n",
       "24908   747.539062  1.077728e-11  5/7  \n",
       "26760   703.419118  1.439888e-11  5/7  \n",
       "23882  1217.777778  7.788191e-11  4/7  \n",
       "18045   358.421053  3.694744e-10  5/7  \n",
       "26869   274.306569  6.944288e-10  6/7  \n",
       "...            ...           ...  ...  \n",
       "15587    23.894737  4.783090e-02  1/7  \n",
       "19442    23.715174  4.818034e-02  1/7  \n",
       "20681    23.715174  4.818034e-02  1/7  \n",
       "21164    23.715174  4.818034e-02  1/7  \n",
       "23642    22.856115  4.992588e-02  1/7  \n",
       "\n",
       "[492 rows x 6 columns]"
      ]
     },
     "execution_count": 270,
     "metadata": {},
     "output_type": "execute_result"
    }
   ],
   "source": [
    "test.query('p < 0.05').sort_values(by = 'p').query('db == \"GO_Biological_Process_Full\"')"
   ]
  },
  {
   "cell_type": "markdown",
   "id": "336e1259-fbf7-432b-b7e2-6dbbea8f8f0a",
   "metadata": {},
   "source": [
    "Clearly that's going to lead to some false positives, but it is what it is."
   ]
  },
  {
   "cell_type": "markdown",
   "id": "dd614678-31a9-4aa9-b478-03eaa2c0cdfa",
   "metadata": {},
   "source": [
    "## Run the thing\n",
    "\n",
    "This code will need to be decently adaptable, since it has to handle a few different unique components (noncoding categories, etc)."
   ]
  },
  {
   "cell_type": "code",
   "execution_count": 527,
   "id": "03cf8375-2bca-419b-8579-409d702090d9",
   "metadata": {},
   "outputs": [],
   "source": [
    "test_coding_results = gse_results.query('sv_category == \"coding\" & gs == \"Adipogenesis\" & p_cases < 0.05 & p_controls > 0.05')\n",
    "test_noncoding_results = gse_results.query('sv_category == \"non-coding\" & gs == \"mTORC1 Signaling\" & p_cases < 0.05 & p_controls > 0.05')\n",
    "\n",
    "combined = pd.concat([test_coding_results, test_noncoding_results])"
   ]
  },
  {
   "cell_type": "code",
   "execution_count": 531,
   "id": "678772ca-31d7-433f-8588-4a18ee0a3bd1",
   "metadata": {},
   "outputs": [
    {
     "name": "stdout",
     "output_type": "stream",
     "text": [
      "0, 1, 2, 3, 4, 5, 6, 7, 8, 9, 10, 11, 12, 13, 14, 15, 16, 17, 18, 19, 20, 21, 22, 23, 24, 25, 26, 27, 28, 29, 30, 31, 32, 33, 34, 35, 36, 37, 38, 39, 40, 41, 42, 43, 44, 45, 46, 47, 48, 49, 50, 51, 52, 53, 54, 55, 56, 57, 58, 59, 60, 61, 62, 63, 64, 65, 66, 67, 68, 69, 70, 71, 72, 73, 74, 75, 76, "
     ]
    }
   ],
   "source": [
    "gse_results = []\n",
    "\n",
    "for i, (index, row) in enumerate(nbl_analysis_categories.iterrows()):\n",
    "    print(i, end = ', ')\n",
    "    cat_name = row['category_name']\n",
    "    af_category = row['af_category']\n",
    "    sv_category = row['sv_category']\n",
    "    p_category = row['p_value']\n",
    "    \n",
    "    cat_components = cat_name.split('.')\n",
    "    \n",
    "    base_row = [cat_name, af_category, sv_category, p_category]\n",
    "    \n",
    "    # here, we define the necessary genic relationships\n",
    "    # we handle the collapsed categories as well\n",
    "    if sv_category == 'coding':\n",
    "        gr = cat_components[2]\n",
    "\n",
    "        # convert gr to components\n",
    "        genic_rel = gr_coding_mapping.get(gr, [gr])\n",
    "        \n",
    "    elif sv_category == 'non-coding':\n",
    "        gr = cat_components[4]\n",
    "\n",
    "        # convert gr to components\n",
    "        genic_rel = gr_noncoding_mapping.get(gr, [gr])\n",
    "        \n",
    "    # swap out intergenic for nearest_tss\n",
    "    if 'PREDICTED_INTERGENIC' in genic_rel:\n",
    "        genic_rel[genic_rel.index('PREDICTED_INTERGENIC')] = 'PREDICTED_NEAREST_TSS'\n",
    "        \n",
    "    # next, we pull out our SVs in this category\n",
    "    svs_in_category = nbl_category_svs[(nbl_category_svs['sv_category'] == sv_category) & \n",
    "                                       (nbl_category_svs[\"category\"] == cat_name)]\n",
    "    \n",
    "    # subset the actual SV matrix\n",
    "    svs_in_category = svs[svs[\"name\"].isin(svs_in_category[\"SV\"].tolist())]\n",
    "    \n",
    "    # extract the dosages for cases and controls\n",
    "    nbl_sv_dosages = (\n",
    "        dosages\n",
    "        .set_index(\"ID\")\n",
    "        .loc[svs_in_category[\"name\"].tolist(), nbl_cases + nbl_controls]\n",
    "        )\n",
    "    \n",
    "    # drop samples with bad GT rates\n",
    "    kept = pd.isnull(nbl_sv_dosages).sum(axis = 0) / len(nbl_sv_dosages) < 0.05\n",
    "    nbl_kept_cases = list(set(nbl_cases) & set(kept[kept].index))\n",
    "    nbl_kept_controls = list(set(nbl_controls) & set(kept[kept].index))\n",
    "    \n",
    "    nbl_sv_dosages = nbl_sv_dosages.loc[:, kept]\n",
    "    \n",
    "    # define the number of unique SVs\n",
    "    sv_counts_cases = nbl_sv_dosages[nbl_kept_cases].fillna(0).sum(axis=1).sort_values()\n",
    "    sv_counts_controls = nbl_sv_dosages[nbl_kept_controls].fillna(0).sum(axis=1).sort_values()\n",
    "    \n",
    "    # define our affected genes\n",
    "    genes_in_svs = svs_in_category[['name'] + genic_rel].set_index('name')\n",
    "    \n",
    "    # for each gene, count up the number of SVs in cases and controls, separately.\n",
    "    gene_counts = {'cases': [], 'controls': []}\n",
    "    for cohort, sv_counts in zip(['cases', 'controls'], [sv_counts_cases, sv_counts_controls]):\n",
    "\n",
    "        sample_genes_in_svs = genes_in_svs.copy()\n",
    "        sample_genes_in_svs.loc[sv_counts.index, 'count'] = sv_counts.astype(int)\n",
    "\n",
    "        # count for each genic relationship\n",
    "        cohort_gene_counts = []\n",
    "        for index, row in sample_genes_in_svs.iterrows():\n",
    "            for col in genic_rel:\n",
    "                if not pd.isnull(row[col]):\n",
    "                    cohort_gene_counts += row[col].split(',') * row['count']\n",
    "\n",
    "        gene_counts[cohort] = pd.DataFrame(np.unique(cohort_gene_counts, return_counts = True), index = ['gene', 'count']).T\n",
    "        \n",
    "        # store the number of unique SVs for cases and controls\n",
    "        base_row.append(len(gene_counts[cohort]))\n",
    "        base_row.append('|'.join(cohort_gene_counts))\n",
    "        \n",
    "    # for each gene set, create a contingency matrix and calculate our\n",
    "    # fisher's result\n",
    "    for db_name, db in gene_sets.items():\n",
    "        for gs_name, gs_genes in db.items():\n",
    "            \n",
    "            if gs_name not in ['Adipogenesis', 'mTORC1 Signaling']:\n",
    "                continue\n",
    "            \n",
    "            expected = f'{len(gs_genes)}/{len(gene_ref)}'\n",
    "            row = base_row + [db_name, gs_name, expected]\n",
    "            \n",
    "            for cohort in ['cases', 'controls']:\n",
    "                cohort_gene_counts = gene_counts[cohort]\n",
    "            \n",
    "                top_left = cohort_gene_counts[cohort_gene_counts['gene'].isin(gs_genes)]['count'].sum()\n",
    "                top_right = cohort_gene_counts[~cohort_gene_counts['gene'].isin(gs_genes)]['count'].sum()\n",
    "\n",
    "                bottom_left = len(set(gs_genes) - set(cohort_gene_counts['gene']))\n",
    "                bottom_right = len(gene_ref) - bottom_left\n",
    "            \n",
    "                cont_table = np.array([[top_left, top_right], \n",
    "                                       [bottom_left, bottom_right]])\n",
    "                res, p = scipy.stats.fisher_exact(cont_table)\n",
    "\n",
    "                # calculate the number of unique overlaps. Helps us determine\n",
    "                # if signal is being driven by a single/few gene(s)\n",
    "                unique_overlaps = len(set(gs_genes) & set(cohort_gene_counts['gene']))\n",
    "                data = f'{top_left}/{top_right + top_left}'\n",
    "\n",
    "                # store our data\n",
    "                row = row + [unique_overlaps, res, p, data]\n",
    "        \n",
    "            gse_results.append(row)\n",
    "            \n",
    "names = ['category', 'af_category', 'sv_category', 'category_p', 'num_svs_cases', 'genes_cases',\n",
    "         'num_svs_controls', 'genes_controls', 'db', 'gs', 'expected', \n",
    "         'gs_unique_overlap_cases', 'res_cases', 'p_cases', 'data_cases',\n",
    "         'gs_unique_overlap_controls', 'res_controls', 'p_controls', 'data_controls']\n",
    "\n",
    "gse_results = pd.DataFrame(gse_results, columns = names)"
   ]
  },
  {
   "cell_type": "code",
   "execution_count": 562,
   "id": "71134f9e-a5d7-4c92-956a-2633e97cbdc4",
   "metadata": {},
   "outputs": [],
   "source": [
    "cat = \"ANY.SINGLETON.PREDICTED_LOF_or_PREDICTED_PARTIAL_EXON_DUP.ANY.ANY.protein_coding\"\n",
    "cat_results = gse_results.query(f'gs == \"Adipogenesis\" & category == \"{cat}\"')\n",
    "cat_overlapping_genes = set(cat_results.iloc[0, 5].split('|')) & set(gene_sets['MSigDB_Hallmark_2020']['Adipogenesis'])"
   ]
  },
  {
   "cell_type": "code",
   "execution_count": 563,
   "id": "36a9423b-e010-46be-86b2-2acff63169c1",
   "metadata": {},
   "outputs": [
    {
     "data": {
      "text/plain": [
       "{'ACADM',\n",
       " 'CD36',\n",
       " 'GPAM',\n",
       " 'ITSN1',\n",
       " 'LAMA4',\n",
       " 'LPL',\n",
       " 'MTARC2',\n",
       " 'NDUFB7',\n",
       " 'PREB',\n",
       " 'RETN',\n",
       " 'SLC66A3',\n",
       " 'SQOR',\n",
       " 'SSPN'}"
      ]
     },
     "execution_count": 563,
     "metadata": {},
     "output_type": "execute_result"
    }
   ],
   "source": [
    "cat_overlapping_genes\n"
   ]
  },
  {
   "cell_type": "code",
   "execution_count": 559,
   "id": "319e4981-f961-49a3-8204-2cbb92017f2d",
   "metadata": {},
   "outputs": [
    {
     "data": {
      "text/plain": [
       "dict_keys(['MSigDB_Hallmark_2020', 'Reactome_2022', 'GO_Biological_Process_Specific', 'GO_Biological_Process_Full', 'custom'])"
      ]
     },
     "execution_count": 559,
     "metadata": {},
     "output_type": "execute_result"
    }
   ],
   "source": [
    "gene_sets.keys()"
   ]
  },
  {
   "cell_type": "code",
   "execution_count": 557,
   "id": "e90c1b2d-5b51-4c62-bc3a-44232a68afcf",
   "metadata": {},
   "outputs": [
    {
     "data": {
      "text/plain": [
       "['TMEM88B',\n",
       " 'VWA1',\n",
       " 'TPRG1L',\n",
       " 'NPHP4',\n",
       " 'CTNNBIP1',\n",
       " 'NMNAT1',\n",
       " 'NMNAT1',\n",
       " 'EMC1',\n",
       " 'MRTO4',\n",
       " 'RAB42',\n",
       " 'AIRIM',\n",
       " 'CDCA8',\n",
       " 'EPHA10',\n",
       " 'ATPAF1',\n",
       " 'CYB5RL',\n",
       " 'MRPL37',\n",
       " 'ATG4C',\n",
       " 'ACADM',\n",
       " 'CLCA1',\n",
       " 'SNX7',\n",
       " 'AKNAD1',\n",
       " 'NBPF12',\n",
       " 'NBPF11',\n",
       " 'ANXA9',\n",
       " 'MINDY1',\n",
       " 'PRUNE1',\n",
       " 'ANXA9',\n",
       " 'TIPRL',\n",
       " 'BLZF1',\n",
       " 'CCDC181',\n",
       " 'NME7',\n",
       " 'SELL',\n",
       " 'SEC16B',\n",
       " 'ODR4',\n",
       " 'PTPRC',\n",
       " 'ADIPOR1',\n",
       " 'NSL1',\n",
       " 'TATDN3',\n",
       " 'MTARC2',\n",
       " 'CDC42BPA',\n",
       " 'GUK1',\n",
       " 'GNPAT',\n",
       " 'DISC1',\n",
       " 'TARBP1',\n",
       " 'CHRM3',\n",
       " 'FMN2',\n",
       " 'GREM2',\n",
       " 'BECN2',\n",
       " 'SLC66A3',\n",
       " 'NBAS',\n",
       " 'NBAS',\n",
       " 'NBAS',\n",
       " 'FAM228A',\n",
       " 'DRC1',\n",
       " 'KHK',\n",
       " 'ABHD1',\n",
       " 'PREB',\n",
       " 'PRKCE',\n",
       " 'GTF2A1L',\n",
       " 'STON1',\n",
       " 'FSHR',\n",
       " 'NRXN1',\n",
       " 'SANBR',\n",
       " 'SANBR',\n",
       " 'M1AP',\n",
       " 'POLR1A',\n",
       " 'TSGA10',\n",
       " 'NCKAP5',\n",
       " 'TNFAIP6',\n",
       " 'NEB',\n",
       " 'CCDC148',\n",
       " 'ITGB6',\n",
       " 'RBMS1',\n",
       " 'PDE11A',\n",
       " 'RBM45',\n",
       " 'GTF3C3',\n",
       " 'COQ10B',\n",
       " 'RAPH1',\n",
       " 'SPAG16',\n",
       " 'BARD1',\n",
       " 'CFAP65',\n",
       " 'CRYBA2',\n",
       " 'DNAJB2',\n",
       " 'EPHA4',\n",
       " 'MROH2A',\n",
       " 'ESPNL',\n",
       " 'IL5RA',\n",
       " 'CPNE9',\n",
       " 'SYN2',\n",
       " 'TIMP4',\n",
       " 'TMEM40',\n",
       " 'VILL',\n",
       " 'XYLB',\n",
       " 'ZNF619',\n",
       " 'USP4',\n",
       " 'CCDC66',\n",
       " 'IMPG2',\n",
       " 'HHLA2',\n",
       " 'POLQ',\n",
       " 'SLC12A8',\n",
       " 'OSBPL11',\n",
       " 'PCOLCE2',\n",
       " 'PLSCR2',\n",
       " 'GFM1',\n",
       " 'LXN',\n",
       " 'MFSD1',\n",
       " 'RARRES1',\n",
       " 'MECOM',\n",
       " 'GPR160',\n",
       " 'APOD',\n",
       " 'IQCG',\n",
       " 'ZNF595',\n",
       " 'ZNF718',\n",
       " 'ZNF595',\n",
       " 'DOK7',\n",
       " 'PPBP',\n",
       " 'HERC6',\n",
       " 'RAP1GDS1',\n",
       " 'EMCN',\n",
       " 'CISD2',\n",
       " 'SLC9B1',\n",
       " 'SLC9B2',\n",
       " 'ARHGAP10',\n",
       " 'TMA16',\n",
       " 'MARCHF1',\n",
       " 'CLDN22',\n",
       " 'H3Y1',\n",
       " 'SPEF2',\n",
       " 'FYB1',\n",
       " 'ANKDD1B',\n",
       " 'CKMT2',\n",
       " 'MCTP1',\n",
       " 'SLCO6A1',\n",
       " 'MAN2A1',\n",
       " 'AP3S1',\n",
       " 'ATG12',\n",
       " 'SRFBP1',\n",
       " 'ENSG00000250803',\n",
       " 'PCDHA13',\n",
       " 'PCDHGA10',\n",
       " 'PCDHGB6',\n",
       " 'PCDHGB7',\n",
       " 'SPINK5',\n",
       " 'SPINK5',\n",
       " 'CSF1R',\n",
       " 'MYOZ3',\n",
       " 'SLC36A2',\n",
       " 'HAVCR1',\n",
       " 'HAVCR1',\n",
       " 'MRNIP',\n",
       " 'RASGEF1C',\n",
       " 'RNF130',\n",
       " 'GCNT2',\n",
       " 'GCNT2',\n",
       " 'H2AC11',\n",
       " 'H2BC11',\n",
       " 'H2BC12',\n",
       " 'H4C9',\n",
       " 'RRP36',\n",
       " 'TDRD6',\n",
       " 'CGAS',\n",
       " 'MTO1',\n",
       " 'CYB5R4',\n",
       " 'RNGTT',\n",
       " 'LAMA4',\n",
       " 'TRMT11',\n",
       " 'SYTL3',\n",
       " 'SLC22A3',\n",
       " 'PRKN',\n",
       " 'PRKN',\n",
       " 'RNASET2',\n",
       " 'AGMO',\n",
       " 'HYCC1',\n",
       " 'CPVL',\n",
       " 'SEPTIN7',\n",
       " 'TARP',\n",
       " 'SEPTIN14',\n",
       " 'ZNF92',\n",
       " 'KCTD7',\n",
       " 'GTF2IRD2',\n",
       " 'SPDYE12',\n",
       " 'CD36',\n",
       " 'STEAP4',\n",
       " 'POP7',\n",
       " 'MUC17',\n",
       " 'FAM185A',\n",
       " 'FAM185A',\n",
       " 'EFCAB10',\n",
       " 'RINT1',\n",
       " 'IMMP2L',\n",
       " 'IMMP2L',\n",
       " 'IMMP2L',\n",
       " 'IMMP2L',\n",
       " 'EXOC4',\n",
       " 'LRGUK',\n",
       " 'CALD1',\n",
       " 'BRAF',\n",
       " 'CNTNAP2',\n",
       " 'VIPR2',\n",
       " 'CSMD1',\n",
       " 'DEFA4',\n",
       " 'MFHAS1',\n",
       " 'DEFB130B',\n",
       " 'DEFB134',\n",
       " 'DEFB135',\n",
       " 'DEFB136',\n",
       " 'ZNF705D',\n",
       " 'TRMT9B',\n",
       " 'CSGALNACT1',\n",
       " 'LPL',\n",
       " 'PHYHIP',\n",
       " 'SLC25A37',\n",
       " 'DPYSL2',\n",
       " 'INTS9',\n",
       " 'RPS20',\n",
       " 'C8orf34',\n",
       " 'C8orf34',\n",
       " 'SBSPON',\n",
       " 'CA13',\n",
       " 'WWP1',\n",
       " 'CNBD1',\n",
       " 'RAD54B',\n",
       " 'TRHR',\n",
       " 'TRAPPC9',\n",
       " 'ZFP41',\n",
       " 'MROH1',\n",
       " 'GLDC',\n",
       " 'ANKS6',\n",
       " 'ADAMTSL1',\n",
       " 'SAXO1',\n",
       " 'FOCAD',\n",
       " 'CA9',\n",
       " 'CEP78',\n",
       " 'RMI1',\n",
       " 'NUTM2F',\n",
       " 'AOPEP',\n",
       " 'NUTM2G',\n",
       " 'CYLC2',\n",
       " 'FKTN',\n",
       " 'TAL2',\n",
       " 'TMEM38B',\n",
       " 'ELP1',\n",
       " 'PALM2AKAP2',\n",
       " 'ASTN2',\n",
       " 'ASTN2',\n",
       " 'TRIM32',\n",
       " 'ASTN2',\n",
       " 'CNTRL',\n",
       " 'ZDHHC12',\n",
       " 'TBC1D13',\n",
       " 'EXOSC2',\n",
       " 'FAM163B',\n",
       " 'C8G',\n",
       " 'FBXW5',\n",
       " 'EXD3',\n",
       " 'EXD3',\n",
       " 'PFKP',\n",
       " 'AKR1C2',\n",
       " 'PLXDC2',\n",
       " 'LYZL2',\n",
       " 'AGAP6',\n",
       " 'ARHGAP22',\n",
       " 'ASAH2',\n",
       " 'C10orf53',\n",
       " 'C10orf71',\n",
       " 'CHAT',\n",
       " 'DRGX',\n",
       " 'ERCC6',\n",
       " 'FAM170B',\n",
       " 'FAM25C',\n",
       " 'FRMPD2',\n",
       " 'LRRC18',\n",
       " 'MAPK8',\n",
       " 'NPY4R2',\n",
       " 'OGDHL',\n",
       " 'PARG',\n",
       " 'SGMS1',\n",
       " 'SLC18A3',\n",
       " 'SYT15B',\n",
       " 'TIMM23B',\n",
       " 'TMEM273',\n",
       " 'VSTM4',\n",
       " 'WASHC2A',\n",
       " 'WDFY4',\n",
       " 'FRMPD2',\n",
       " 'ZWINT',\n",
       " 'JMJD1C',\n",
       " 'CTNNA3',\n",
       " 'CTNNA3',\n",
       " 'CTNNA3',\n",
       " 'CTNNA3',\n",
       " 'ANXA7',\n",
       " 'AVPI1',\n",
       " 'MORN4',\n",
       " 'PI4K2A',\n",
       " 'GPAM',\n",
       " 'EIF3A',\n",
       " 'ATE1',\n",
       " 'TACC2',\n",
       " 'TH',\n",
       " 'OR10A2',\n",
       " 'RIC3',\n",
       " 'OTOG',\n",
       " 'KIF18A',\n",
       " 'METTL15',\n",
       " 'METTL15',\n",
       " 'DCDC1',\n",
       " 'ELP4',\n",
       " 'EXT2',\n",
       " 'AMBRA1',\n",
       " 'HARBI1',\n",
       " 'MADD',\n",
       " 'MYBPC3',\n",
       " 'TRIM51G',\n",
       " 'SLC22A24',\n",
       " 'LGALS12',\n",
       " 'PLAAT2',\n",
       " 'PLAAT3',\n",
       " 'PLAAT4',\n",
       " 'CCDC88B',\n",
       " 'SLC25A45',\n",
       " 'DEFB108B',\n",
       " 'XNDC1N',\n",
       " 'FCHSD2',\n",
       " 'PAAF1',\n",
       " 'GDPD4',\n",
       " 'TENM4',\n",
       " 'SLC36A4',\n",
       " 'FOXR1',\n",
       " 'JHY',\n",
       " 'OR8B4',\n",
       " 'OR8B8',\n",
       " 'OPCML',\n",
       " 'PARP11',\n",
       " 'ANO2',\n",
       " 'ACSM4',\n",
       " 'SLCO1B1',\n",
       " 'GYS2',\n",
       " 'SSPN',\n",
       " 'FAR2',\n",
       " 'PUS7L',\n",
       " 'MYL6',\n",
       " 'RAB3IP',\n",
       " 'CFAP54',\n",
       " 'CFAP54',\n",
       " 'ACACB',\n",
       " 'ANKRD13A',\n",
       " 'IFT81',\n",
       " 'RNF10',\n",
       " 'P2RX4',\n",
       " 'HIP1R',\n",
       " 'GLT1D1',\n",
       " 'ZNF605',\n",
       " 'CRYL1',\n",
       " 'CRYL1',\n",
       " 'SPATA13',\n",
       " 'PABPC3',\n",
       " 'FRY',\n",
       " 'LCP1',\n",
       " 'LRRC63',\n",
       " 'BORA',\n",
       " 'LMO7',\n",
       " 'DCT',\n",
       " 'DZIP1',\n",
       " 'UGGT2',\n",
       " 'UGGT2',\n",
       " 'PCCA',\n",
       " 'NALCN',\n",
       " 'DCUN1D2',\n",
       " 'HEATR5A',\n",
       " 'SNX6',\n",
       " 'PYGL',\n",
       " 'TXNDC16',\n",
       " 'SYNE2',\n",
       " 'IRF2BPL',\n",
       " 'COA8',\n",
       " 'PLD4',\n",
       " 'AHNAK2',\n",
       " 'AVEN',\n",
       " 'ACTC1',\n",
       " 'AQR',\n",
       " 'DPH6',\n",
       " 'GJD2',\n",
       " 'GOLGA8A',\n",
       " 'GOLGA8B',\n",
       " 'NANOGP8',\n",
       " 'ZNF770',\n",
       " 'CDIN1',\n",
       " 'RPAP1',\n",
       " 'SQOR',\n",
       " 'SQOR',\n",
       " 'CYP19A1',\n",
       " 'TMOD3',\n",
       " 'MYO5C',\n",
       " 'CCPG1',\n",
       " 'GCNT3',\n",
       " 'MYO9A',\n",
       " 'BBS4',\n",
       " 'PCSK6',\n",
       " 'OR4F15',\n",
       " 'OR4F6',\n",
       " 'TARS3',\n",
       " 'IFT140',\n",
       " 'PTX4',\n",
       " 'TELO2',\n",
       " 'ECI1',\n",
       " 'ZNF205',\n",
       " 'TIGD7',\n",
       " 'SRL',\n",
       " 'C16orf96',\n",
       " 'C16orf96',\n",
       " 'ABAT',\n",
       " 'CARHSP1',\n",
       " 'LITAFD',\n",
       " 'LYRM1',\n",
       " 'DNAH3',\n",
       " 'KATNIP',\n",
       " 'ZNF646',\n",
       " 'HEATR3',\n",
       " 'CNGB1',\n",
       " 'TANGO6',\n",
       " 'NFAT5',\n",
       " 'ATXN1L',\n",
       " 'ZNF821',\n",
       " 'ZFHX3',\n",
       " 'WDR59',\n",
       " 'CLEC3A',\n",
       " 'CLEC3A',\n",
       " 'ATMIN',\n",
       " 'HSD17B2',\n",
       " 'WFDC1',\n",
       " 'MTHFSD',\n",
       " 'SPG7',\n",
       " 'SHPK',\n",
       " 'TRPV1',\n",
       " 'USP6',\n",
       " 'ZBTB4',\n",
       " 'CFAP52',\n",
       " 'STX8',\n",
       " 'MYH13',\n",
       " 'MYH8',\n",
       " 'MYH4',\n",
       " 'DNAH9',\n",
       " 'FBXW10B',\n",
       " 'IFT20',\n",
       " 'TNFAIP1',\n",
       " 'WIPF2',\n",
       " 'TNS4',\n",
       " 'CDC27',\n",
       " 'SEPTIN4',\n",
       " 'TEX14',\n",
       " 'TEX14',\n",
       " 'IGBP1C',\n",
       " 'TEX14',\n",
       " 'TRIM37',\n",
       " 'TLK2',\n",
       " 'ABCA8',\n",
       " 'SLC39A11',\n",
       " 'TK1',\n",
       " 'CCDC40',\n",
       " 'NARF',\n",
       " 'L3MBTL4',\n",
       " 'AFG3L2',\n",
       " 'PRELID3A',\n",
       " 'RBBP8',\n",
       " 'SETBP1',\n",
       " 'SLC14A2',\n",
       " 'CDH19',\n",
       " 'CDH7',\n",
       " 'PRSS57',\n",
       " 'ADAMTSL5',\n",
       " 'CSNK1G2',\n",
       " 'LSM7',\n",
       " 'RETN',\n",
       " 'FBN3',\n",
       " 'ILF3',\n",
       " 'ZNF44',\n",
       " 'CLEC17A',\n",
       " 'NDUFB7',\n",
       " 'ADGRE2',\n",
       " 'TEKTL1',\n",
       " 'WIZ',\n",
       " 'WIZ',\n",
       " 'NWD1',\n",
       " 'PDE4C',\n",
       " 'ZNF737',\n",
       " 'DPY19L3',\n",
       " 'ZNF507',\n",
       " 'PDCD5',\n",
       " 'DMKN',\n",
       " 'APLP1',\n",
       " 'APLP1',\n",
       " 'TYROBP',\n",
       " 'ZFP82',\n",
       " 'ZFP82',\n",
       " 'ZNF793',\n",
       " 'LGALS4',\n",
       " 'BLVRB',\n",
       " 'NECTIN2',\n",
       " 'EML2',\n",
       " 'FUZ',\n",
       " 'NAPSA',\n",
       " 'POLD1',\n",
       " 'KLK7',\n",
       " 'ZNF677',\n",
       " 'SSC5D',\n",
       " 'ZNF582',\n",
       " 'ZNF582',\n",
       " 'DEFB126',\n",
       " 'DEFB127',\n",
       " 'DEFB128',\n",
       " 'BTBD3',\n",
       " 'SEL1L2',\n",
       " 'MACROD2',\n",
       " 'ID1',\n",
       " 'TTLL9',\n",
       " 'BPIFA3',\n",
       " 'BPIFA3',\n",
       " 'EDEM2',\n",
       " 'PROCR',\n",
       " 'DSN1',\n",
       " 'GDAP1L1',\n",
       " 'JPH2',\n",
       " 'OSER1',\n",
       " 'ZNF335',\n",
       " 'SYCP2',\n",
       " 'YTHDF1',\n",
       " 'CHODL',\n",
       " 'TMPRSS15',\n",
       " 'SYNJ1',\n",
       " 'ITSN1',\n",
       " 'PIGP',\n",
       " 'KRTAP10-4',\n",
       " 'KRTAP10-5',\n",
       " 'KRTAP10-6',\n",
       " 'KRTAP10-7',\n",
       " 'CLTCL1',\n",
       " 'TXNRD2',\n",
       " 'LARGE1',\n",
       " 'ISX',\n",
       " 'FOXRED2',\n",
       " 'MEI1',\n",
       " 'EFCAB6',\n",
       " 'WNT7B',\n",
       " 'IL17REL',\n",
       " 'ACR',\n",
       " 'RABL2B']"
      ]
     },
     "execution_count": 557,
     "metadata": {},
     "output_type": "execute_result"
    }
   ],
   "source": [
    "cat_overlapping_genes"
   ]
  },
  {
   "cell_type": "code",
   "execution_count": 547,
   "id": "62d050b1-c92b-48f9-ac69-99955050f917",
   "metadata": {},
   "outputs": [],
   "source": [
    "gene_cases = []\n",
    "adipo_results = gse_results.query('gs == \"Adipogenesis\" & p_cases < 0.05 & p_controls > 0.05')\n",
    "\n",
    "for index, row in adipo_results.iterrows():\n",
    "    gene_cases += row['genes_cases'].split('|')\n",
    "    \n",
    "gene_cases = set(gene_cases) & set(gene_sets['MSigDB_Hallmark_2020']['Adipogenesis'])"
   ]
  },
  {
   "cell_type": "code",
   "execution_count": 550,
   "id": "5d16f406-df93-48c5-a308-0c657220612a",
   "metadata": {},
   "outputs": [
    {
     "name": "stdout",
     "output_type": "stream",
     "text": [
      "['ACAA2', 'ACADM', 'APLP2', 'ARL4A', 'ATL2', 'BCL6', 'CD36', 'GADD45A', 'GHITM', 'GPAM', 'ITSN1', 'LAMA4', 'LPL', 'MIGA2', 'MTARC2', 'NDUFB7', 'PREB', 'RETN', 'SCARB1', 'SLC66A3', 'SQOR', 'SSPN', 'TALDO1', 'TANK', 'TKT']\n"
     ]
    }
   ],
   "source": [
    "print(sorted(gene_cases))"
   ]
  },
  {
   "cell_type": "code",
   "execution_count": 543,
   "id": "c409f95a-4dee-433a-a0d8-3e2b2b54c5b6",
   "metadata": {},
   "outputs": [],
   "source": [
    "gene_cases = []\n",
    "adipo_results = gse_results.query('gs == \"mTORC1 Signaling\" & p_cases < 0.05 & p_controls > 0.05')\n",
    "\n",
    "for index, row in adipo_results.iterrows():\n",
    "    gene_cases += row['genes_cases'].split('|')\n",
    "    \n",
    "gene_cases = set(gene_cases) & set(gene_sets['MSigDB_Hallmark_2020']['mTORC1 Signaling'])"
   ]
  },
  {
   "cell_type": "code",
   "execution_count": 545,
   "id": "9199d6be-978a-46b6-b793-82b84f0a1839",
   "metadata": {},
   "outputs": [
    {
     "data": {
      "text/plain": [
       "['ENO1', 'IDI1', 'PSMA4', 'RPA1', 'SERP1', 'SLC1A4', 'SSR1', 'TES', 'XBP1']"
      ]
     },
     "execution_count": 545,
     "metadata": {},
     "output_type": "execute_result"
    }
   ],
   "source": [
    "sorted(gene_cases)"
   ]
  },
  {
   "cell_type": "code",
   "execution_count": 426,
   "id": "628569ac-2186-4ab8-84c8-5b10a96efc36",
   "metadata": {},
   "outputs": [],
   "source": [
    "gse_results.to_csv('data/cwas-results/cwwas-gene-set-enrichment-results.csv', index=False)"
   ]
  },
  {
   "cell_type": "code",
   "execution_count": 305,
   "id": "22c9e1c6-cfd6-4470-9dcf-1213d2ff215d",
   "metadata": {},
   "outputs": [],
   "source": [
    "import statsmodels.stats.multitest as multi"
   ]
  },
  {
   "cell_type": "code",
   "execution_count": 309,
   "id": "1b332d10-fced-429a-8130-0835ad1d6117",
   "metadata": {},
   "outputs": [],
   "source": [
    "test = gse_results.query('category == \"ANY.SINGLETON.PREDICTED_LOF_or_PREDICTED_PARTIAL_EXON_DUP.ANY.ANY.protein_coding\"')\n",
    "test_sig = test.query('gs_unique_overlap_cases > 1 & db != \"GO_Biological_Process_Full\"')\n",
    "test_sig = test_sig[test_sig.apply(lambda row: int(row['expected'].split('/')[0]) >= 10, axis = 1)]\n",
    "test_sig['p_cases_fdr'] = multi.multipletests(test_sig['p_cases'], method = 'fdr_bh')[1]"
   ]
  },
  {
   "cell_type": "code",
   "execution_count": 314,
   "id": "15f20688-3c9a-43d5-acd9-6480dc9f26ac",
   "metadata": {},
   "outputs": [
    {
     "data": {
      "text/html": [
       "<div>\n",
       "<style scoped>\n",
       "    .dataframe tbody tr th:only-of-type {\n",
       "        vertical-align: middle;\n",
       "    }\n",
       "\n",
       "    .dataframe tbody tr th {\n",
       "        vertical-align: top;\n",
       "    }\n",
       "\n",
       "    .dataframe thead th {\n",
       "        text-align: right;\n",
       "    }\n",
       "</style>\n",
       "<table border=\"1\" class=\"dataframe\">\n",
       "  <thead>\n",
       "    <tr style=\"text-align: right;\">\n",
       "      <th></th>\n",
       "      <th>category</th>\n",
       "      <th>af_category</th>\n",
       "      <th>sv_category</th>\n",
       "      <th>category_p</th>\n",
       "      <th>num_svs_cases</th>\n",
       "      <th>num_svs_controls</th>\n",
       "      <th>db</th>\n",
       "      <th>gs</th>\n",
       "      <th>expected</th>\n",
       "      <th>gs_unique_overlap_cases</th>\n",
       "      <th>res_cases</th>\n",
       "      <th>p_cases</th>\n",
       "      <th>data_cases</th>\n",
       "      <th>gs_unique_overlap_controls</th>\n",
       "      <th>res_controls</th>\n",
       "      <th>p_controls</th>\n",
       "      <th>data_controls</th>\n",
       "      <th>p_cases_fdr</th>\n",
       "    </tr>\n",
       "  </thead>\n",
       "  <tbody>\n",
       "    <tr>\n",
       "      <th>6233</th>\n",
       "      <td>ANY.SINGLETON.PREDICTED_LOF_or_PREDICTED_PARTI...</td>\n",
       "      <td>singleton</td>\n",
       "      <td>coding</td>\n",
       "      <td>1.110000e-07</td>\n",
       "      <td>511</td>\n",
       "      <td>2790</td>\n",
       "      <td>GO_Biological_Process_Specific</td>\n",
       "      <td>nuclear-transcribed mRNA catabolic process (GO...</td>\n",
       "      <td>17/19201</td>\n",
       "      <td>3</td>\n",
       "      <td>12.642989</td>\n",
       "      <td>0.000135</td>\n",
       "      <td>5/547</td>\n",
       "      <td>2</td>\n",
       "      <td>0.767747</td>\n",
       "      <td>1.000000</td>\n",
       "      <td>2/3334</td>\n",
       "      <td>0.018055</td>\n",
       "    </tr>\n",
       "    <tr>\n",
       "      <th>11545</th>\n",
       "      <td>ANY.SINGLETON.PREDICTED_LOF_or_PREDICTED_PARTI...</td>\n",
       "      <td>singleton</td>\n",
       "      <td>coding</td>\n",
       "      <td>1.110000e-07</td>\n",
       "      <td>511</td>\n",
       "      <td>2790</td>\n",
       "      <td>GO_Biological_Process_Specific</td>\n",
       "      <td>attachment of spindle microtubules to kinetoch...</td>\n",
       "      <td>18/19201</td>\n",
       "      <td>3</td>\n",
       "      <td>11.799508</td>\n",
       "      <td>0.000176</td>\n",
       "      <td>5/547</td>\n",
       "      <td>3</td>\n",
       "      <td>1.536416</td>\n",
       "      <td>0.511564</td>\n",
       "      <td>4/3334</td>\n",
       "      <td>0.020587</td>\n",
       "    </tr>\n",
       "    <tr>\n",
       "      <th>9843</th>\n",
       "      <td>ANY.SINGLETON.PREDICTED_LOF_or_PREDICTED_PARTI...</td>\n",
       "      <td>singleton</td>\n",
       "      <td>coding</td>\n",
       "      <td>1.110000e-07</td>\n",
       "      <td>511</td>\n",
       "      <td>2790</td>\n",
       "      <td>GO_Biological_Process_Specific</td>\n",
       "      <td>mitophagy (GO:0000423)</td>\n",
       "      <td>23/19201</td>\n",
       "      <td>4</td>\n",
       "      <td>9.313459</td>\n",
       "      <td>0.000440</td>\n",
       "      <td>5/547</td>\n",
       "      <td>3</td>\n",
       "      <td>1.729056</td>\n",
       "      <td>0.262303</td>\n",
       "      <td>6/3334</td>\n",
       "      <td>0.031693</td>\n",
       "    </tr>\n",
       "    <tr>\n",
       "      <th>203</th>\n",
       "      <td>ANY.SINGLETON.PREDICTED_LOF_or_PREDICTED_PARTI...</td>\n",
       "      <td>singleton</td>\n",
       "      <td>coding</td>\n",
       "      <td>1.110000e-07</td>\n",
       "      <td>511</td>\n",
       "      <td>2790</td>\n",
       "      <td>Reactome_2022</td>\n",
       "      <td>Beta Defensins R-HSA-1461957</td>\n",
       "      <td>35/19201</td>\n",
       "      <td>7</td>\n",
       "      <td>8.876389</td>\n",
       "      <td>0.000041</td>\n",
       "      <td>7/547</td>\n",
       "      <td>3</td>\n",
       "      <td>0.539506</td>\n",
       "      <td>0.471677</td>\n",
       "      <td>3/3334</td>\n",
       "      <td>0.007731</td>\n",
       "    </tr>\n",
       "    <tr>\n",
       "      <th>430</th>\n",
       "      <td>ANY.SINGLETON.PREDICTED_LOF_or_PREDICTED_PARTI...</td>\n",
       "      <td>singleton</td>\n",
       "      <td>coding</td>\n",
       "      <td>1.110000e-07</td>\n",
       "      <td>511</td>\n",
       "      <td>2790</td>\n",
       "      <td>Reactome_2022</td>\n",
       "      <td>Defensins R-HSA-1461973</td>\n",
       "      <td>42/19201</td>\n",
       "      <td>8</td>\n",
       "      <td>8.367129</td>\n",
       "      <td>0.000017</td>\n",
       "      <td>8/547</td>\n",
       "      <td>5</td>\n",
       "      <td>0.777930</td>\n",
       "      <td>0.827164</td>\n",
       "      <td>5/3334</td>\n",
       "      <td>0.005352</td>\n",
       "    </tr>\n",
       "    <tr>\n",
       "      <th>8177</th>\n",
       "      <td>ANY.SINGLETON.PREDICTED_LOF_or_PREDICTED_PARTI...</td>\n",
       "      <td>singleton</td>\n",
       "      <td>coding</td>\n",
       "      <td>1.110000e-07</td>\n",
       "      <td>511</td>\n",
       "      <td>2790</td>\n",
       "      <td>GO_Biological_Process_Specific</td>\n",
       "      <td>learning (GO:0007612)</td>\n",
       "      <td>59/19201</td>\n",
       "      <td>7</td>\n",
       "      <td>5.465677</td>\n",
       "      <td>0.000237</td>\n",
       "      <td>8/547</td>\n",
       "      <td>4</td>\n",
       "      <td>0.942250</td>\n",
       "      <td>1.000000</td>\n",
       "      <td>9/3334</td>\n",
       "      <td>0.024703</td>\n",
       "    </tr>\n",
       "    <tr>\n",
       "      <th>367</th>\n",
       "      <td>ANY.SINGLETON.PREDICTED_LOF_or_PREDICTED_PARTI...</td>\n",
       "      <td>singleton</td>\n",
       "      <td>coding</td>\n",
       "      <td>1.110000e-07</td>\n",
       "      <td>511</td>\n",
       "      <td>2790</td>\n",
       "      <td>Reactome_2022</td>\n",
       "      <td>Cytokine Signaling In Immune System R-HSA-1280215</td>\n",
       "      <td>699/19201</td>\n",
       "      <td>4</td>\n",
       "      <td>0.196150</td>\n",
       "      <td>0.000032</td>\n",
       "      <td>4/547</td>\n",
       "      <td>78</td>\n",
       "      <td>0.801662</td>\n",
       "      <td>0.059611</td>\n",
       "      <td>87/3334</td>\n",
       "      <td>0.007458</td>\n",
       "    </tr>\n",
       "  </tbody>\n",
       "</table>\n",
       "</div>"
      ],
      "text/plain": [
       "                                                category af_category  \\\n",
       "6233   ANY.SINGLETON.PREDICTED_LOF_or_PREDICTED_PARTI...   singleton   \n",
       "11545  ANY.SINGLETON.PREDICTED_LOF_or_PREDICTED_PARTI...   singleton   \n",
       "9843   ANY.SINGLETON.PREDICTED_LOF_or_PREDICTED_PARTI...   singleton   \n",
       "203    ANY.SINGLETON.PREDICTED_LOF_or_PREDICTED_PARTI...   singleton   \n",
       "430    ANY.SINGLETON.PREDICTED_LOF_or_PREDICTED_PARTI...   singleton   \n",
       "8177   ANY.SINGLETON.PREDICTED_LOF_or_PREDICTED_PARTI...   singleton   \n",
       "367    ANY.SINGLETON.PREDICTED_LOF_or_PREDICTED_PARTI...   singleton   \n",
       "\n",
       "      sv_category    category_p  num_svs_cases  num_svs_controls  \\\n",
       "6233       coding  1.110000e-07            511              2790   \n",
       "11545      coding  1.110000e-07            511              2790   \n",
       "9843       coding  1.110000e-07            511              2790   \n",
       "203        coding  1.110000e-07            511              2790   \n",
       "430        coding  1.110000e-07            511              2790   \n",
       "8177       coding  1.110000e-07            511              2790   \n",
       "367        coding  1.110000e-07            511              2790   \n",
       "\n",
       "                                   db  \\\n",
       "6233   GO_Biological_Process_Specific   \n",
       "11545  GO_Biological_Process_Specific   \n",
       "9843   GO_Biological_Process_Specific   \n",
       "203                     Reactome_2022   \n",
       "430                     Reactome_2022   \n",
       "8177   GO_Biological_Process_Specific   \n",
       "367                     Reactome_2022   \n",
       "\n",
       "                                                      gs   expected  \\\n",
       "6233   nuclear-transcribed mRNA catabolic process (GO...   17/19201   \n",
       "11545  attachment of spindle microtubules to kinetoch...   18/19201   \n",
       "9843                              mitophagy (GO:0000423)   23/19201   \n",
       "203                         Beta Defensins R-HSA-1461957   35/19201   \n",
       "430                              Defensins R-HSA-1461973   42/19201   \n",
       "8177                               learning (GO:0007612)   59/19201   \n",
       "367    Cytokine Signaling In Immune System R-HSA-1280215  699/19201   \n",
       "\n",
       "       gs_unique_overlap_cases  res_cases   p_cases data_cases  \\\n",
       "6233                         3  12.642989  0.000135      5/547   \n",
       "11545                        3  11.799508  0.000176      5/547   \n",
       "9843                         4   9.313459  0.000440      5/547   \n",
       "203                          7   8.876389  0.000041      7/547   \n",
       "430                          8   8.367129  0.000017      8/547   \n",
       "8177                         7   5.465677  0.000237      8/547   \n",
       "367                          4   0.196150  0.000032      4/547   \n",
       "\n",
       "       gs_unique_overlap_controls  res_controls  p_controls data_controls  \\\n",
       "6233                            2      0.767747    1.000000        2/3334   \n",
       "11545                           3      1.536416    0.511564        4/3334   \n",
       "9843                            3      1.729056    0.262303        6/3334   \n",
       "203                             3      0.539506    0.471677        3/3334   \n",
       "430                             5      0.777930    0.827164        5/3334   \n",
       "8177                            4      0.942250    1.000000        9/3334   \n",
       "367                            78      0.801662    0.059611       87/3334   \n",
       "\n",
       "       p_cases_fdr  \n",
       "6233      0.018055  \n",
       "11545     0.020587  \n",
       "9843      0.031693  \n",
       "203       0.007731  \n",
       "430       0.005352  \n",
       "8177      0.024703  \n",
       "367       0.007458  "
      ]
     },
     "execution_count": 314,
     "metadata": {},
     "output_type": "execute_result"
    }
   ],
   "source": [
    "test_sig.query('p_cases_fdr < 0.05 & p_controls > 0.05').sort_values(by = 'res_cases', ascending = False)"
   ]
  },
  {
   "cell_type": "code",
   "execution_count": 511,
   "id": "964a2424-fb48-426a-a45b-81f8b1078d51",
   "metadata": {},
   "outputs": [
    {
     "data": {
      "text/html": [
       "<div>\n",
       "<style scoped>\n",
       "    .dataframe tbody tr th:only-of-type {\n",
       "        vertical-align: middle;\n",
       "    }\n",
       "\n",
       "    .dataframe tbody tr th {\n",
       "        vertical-align: top;\n",
       "    }\n",
       "\n",
       "    .dataframe thead th {\n",
       "        text-align: right;\n",
       "    }\n",
       "</style>\n",
       "<table border=\"1\" class=\"dataframe\">\n",
       "  <thead>\n",
       "    <tr style=\"text-align: right;\">\n",
       "      <th></th>\n",
       "      <th>category</th>\n",
       "      <th>af_category</th>\n",
       "      <th>sv_category</th>\n",
       "      <th>category_p</th>\n",
       "      <th>num_svs_cases</th>\n",
       "      <th>num_svs_controls</th>\n",
       "      <th>db</th>\n",
       "      <th>gs</th>\n",
       "      <th>expected</th>\n",
       "      <th>gs_unique_overlap_cases</th>\n",
       "      <th>res_cases</th>\n",
       "      <th>p_cases</th>\n",
       "      <th>data_cases</th>\n",
       "      <th>gs_unique_overlap_controls</th>\n",
       "      <th>res_controls</th>\n",
       "      <th>p_controls</th>\n",
       "      <th>data_controls</th>\n",
       "    </tr>\n",
       "  </thead>\n",
       "  <tbody>\n",
       "    <tr>\n",
       "      <th>11</th>\n",
       "      <td>ANY.SINGLETON.PREDICTED_LOF_or_PREDICTED_PARTI...</td>\n",
       "      <td>singleton</td>\n",
       "      <td>coding</td>\n",
       "      <td>1.110000e-07</td>\n",
       "      <td>511</td>\n",
       "      <td>2790</td>\n",
       "      <td>MSigDB_Hallmark_2020</td>\n",
       "      <td>Adipogenesis</td>\n",
       "      <td>200/19201</td>\n",
       "      <td>13</td>\n",
       "      <td>2.670747</td>\n",
       "      <td>0.001485</td>\n",
       "      <td>14/547</td>\n",
       "      <td>24</td>\n",
       "      <td>0.783782</td>\n",
       "      <td>0.316489</td>\n",
       "      <td>24/3334</td>\n",
       "    </tr>\n",
       "    <tr>\n",
       "      <th>26994</th>\n",
       "      <td>DEL.SINGLETON.ANY.ANY.ANY.protein_coding</td>\n",
       "      <td>singleton</td>\n",
       "      <td>coding</td>\n",
       "      <td>3.190000e-07</td>\n",
       "      <td>464</td>\n",
       "      <td>2560</td>\n",
       "      <td>MSigDB_Hallmark_2020</td>\n",
       "      <td>Adipogenesis</td>\n",
       "      <td>200/19201</td>\n",
       "      <td>11</td>\n",
       "      <td>2.509587</td>\n",
       "      <td>0.004858</td>\n",
       "      <td>12/493</td>\n",
       "      <td>21</td>\n",
       "      <td>0.744125</td>\n",
       "      <td>0.214867</td>\n",
       "      <td>21/3020</td>\n",
       "    </tr>\n",
       "    <tr>\n",
       "      <th>53977</th>\n",
       "      <td>DEL.SINGLETON.PREDICTED_LOF_or_PREDICTED_PARTI...</td>\n",
       "      <td>singleton</td>\n",
       "      <td>coding</td>\n",
       "      <td>3.190000e-07</td>\n",
       "      <td>464</td>\n",
       "      <td>2560</td>\n",
       "      <td>MSigDB_Hallmark_2020</td>\n",
       "      <td>Adipogenesis</td>\n",
       "      <td>200/19201</td>\n",
       "      <td>11</td>\n",
       "      <td>2.509587</td>\n",
       "      <td>0.004858</td>\n",
       "      <td>12/493</td>\n",
       "      <td>21</td>\n",
       "      <td>0.744125</td>\n",
       "      <td>0.214867</td>\n",
       "      <td>21/3020</td>\n",
       "    </tr>\n",
       "    <tr>\n",
       "      <th>80960</th>\n",
       "      <td>ANY.SINGLETON.ANY.ANY.ANY.protein_coding</td>\n",
       "      <td>singleton</td>\n",
       "      <td>coding</td>\n",
       "      <td>7.180000e-07</td>\n",
       "      <td>738</td>\n",
       "      <td>3739</td>\n",
       "      <td>MSigDB_Hallmark_2020</td>\n",
       "      <td>Adipogenesis</td>\n",
       "      <td>200/19201</td>\n",
       "      <td>14</td>\n",
       "      <td>1.991517</td>\n",
       "      <td>0.016097</td>\n",
       "      <td>15/785</td>\n",
       "      <td>37</td>\n",
       "      <td>1.016736</td>\n",
       "      <td>0.929039</td>\n",
       "      <td>40/4635</td>\n",
       "    </tr>\n",
       "    <tr>\n",
       "      <th>134926</th>\n",
       "      <td>ANY.SINGLETON.PREDICTED_LOF_or_PREDICTED_PARTI...</td>\n",
       "      <td>singleton</td>\n",
       "      <td>coding</td>\n",
       "      <td>4.860000e-05</td>\n",
       "      <td>262</td>\n",
       "      <td>1620</td>\n",
       "      <td>MSigDB_Hallmark_2020</td>\n",
       "      <td>Adipogenesis</td>\n",
       "      <td>200/19201</td>\n",
       "      <td>9</td>\n",
       "      <td>3.393027</td>\n",
       "      <td>0.002109</td>\n",
       "      <td>9/273</td>\n",
       "      <td>23</td>\n",
       "      <td>1.384899</td>\n",
       "      <td>0.161388</td>\n",
       "      <td>23/1808</td>\n",
       "    </tr>\n",
       "    <tr>\n",
       "      <th>161909</th>\n",
       "      <td>ANY.SINGLETON.PREDICTED_LOF_or_PREDICTED_PARTI...</td>\n",
       "      <td>singleton</td>\n",
       "      <td>coding</td>\n",
       "      <td>5.320000e-05</td>\n",
       "      <td>224</td>\n",
       "      <td>1416</td>\n",
       "      <td>MSigDB_Hallmark_2020</td>\n",
       "      <td>Adipogenesis</td>\n",
       "      <td>200/19201</td>\n",
       "      <td>6</td>\n",
       "      <td>2.544785</td>\n",
       "      <td>0.036238</td>\n",
       "      <td>6/237</td>\n",
       "      <td>15</td>\n",
       "      <td>0.954698</td>\n",
       "      <td>1.000000</td>\n",
       "      <td>15/1630</td>\n",
       "    </tr>\n",
       "    <tr>\n",
       "      <th>188892</th>\n",
       "      <td>ANY.SINGLETON.ANY.ANY.expressed_in_adrenal_gla...</td>\n",
       "      <td>singleton</td>\n",
       "      <td>coding</td>\n",
       "      <td>6.360000e-05</td>\n",
       "      <td>411</td>\n",
       "      <td>2375</td>\n",
       "      <td>MSigDB_Hallmark_2020</td>\n",
       "      <td>Adipogenesis</td>\n",
       "      <td>200/19201</td>\n",
       "      <td>10</td>\n",
       "      <td>2.405238</td>\n",
       "      <td>0.012266</td>\n",
       "      <td>10/426</td>\n",
       "      <td>34</td>\n",
       "      <td>1.581932</td>\n",
       "      <td>0.017906</td>\n",
       "      <td>37/2719</td>\n",
       "    </tr>\n",
       "    <tr>\n",
       "      <th>701569</th>\n",
       "      <td>ANY.SINGLETON.ANY.neuroblastoma_atac_peaks.ANY...</td>\n",
       "      <td>singleton</td>\n",
       "      <td>non-coding</td>\n",
       "      <td>6.730000e-06</td>\n",
       "      <td>314</td>\n",
       "      <td>1565</td>\n",
       "      <td>MSigDB_Hallmark_2020</td>\n",
       "      <td>Adipogenesis</td>\n",
       "      <td>200/19201</td>\n",
       "      <td>8</td>\n",
       "      <td>2.400126</td>\n",
       "      <td>0.023432</td>\n",
       "      <td>8/338</td>\n",
       "      <td>20</td>\n",
       "      <td>1.405359</td>\n",
       "      <td>0.116600</td>\n",
       "      <td>26/1981</td>\n",
       "    </tr>\n",
       "    <tr>\n",
       "      <th>1160280</th>\n",
       "      <td>ANY.SINGLETON.ANY.neuroblastoma_chromHMM15_Enh...</td>\n",
       "      <td>singleton</td>\n",
       "      <td>non-coding</td>\n",
       "      <td>2.840000e-04</td>\n",
       "      <td>57</td>\n",
       "      <td>217</td>\n",
       "      <td>MSigDB_Hallmark_2020</td>\n",
       "      <td>Adipogenesis</td>\n",
       "      <td>200/19201</td>\n",
       "      <td>3</td>\n",
       "      <td>5.359278</td>\n",
       "      <td>0.021418</td>\n",
       "      <td>3/57</td>\n",
       "      <td>3</td>\n",
       "      <td>1.166940</td>\n",
       "      <td>0.745953</td>\n",
       "      <td>3/251</td>\n",
       "    </tr>\n",
       "    <tr>\n",
       "      <th>1187263</th>\n",
       "      <td>DEL.SINGLETON.ANY.neuroblastoma_H3K27Ac_peak_c...</td>\n",
       "      <td>singleton</td>\n",
       "      <td>non-coding</td>\n",
       "      <td>3.050000e-04</td>\n",
       "      <td>106</td>\n",
       "      <td>490</td>\n",
       "      <td>MSigDB_Hallmark_2020</td>\n",
       "      <td>Adipogenesis</td>\n",
       "      <td>200/19201</td>\n",
       "      <td>4</td>\n",
       "      <td>3.693878</td>\n",
       "      <td>0.026775</td>\n",
       "      <td>4/109</td>\n",
       "      <td>5</td>\n",
       "      <td>0.889294</td>\n",
       "      <td>1.000000</td>\n",
       "      <td>5/553</td>\n",
       "    </tr>\n",
       "  </tbody>\n",
       "</table>\n",
       "</div>"
      ],
      "text/plain": [
       "                                                  category af_category  \\\n",
       "11       ANY.SINGLETON.PREDICTED_LOF_or_PREDICTED_PARTI...   singleton   \n",
       "26994             DEL.SINGLETON.ANY.ANY.ANY.protein_coding   singleton   \n",
       "53977    DEL.SINGLETON.PREDICTED_LOF_or_PREDICTED_PARTI...   singleton   \n",
       "80960             ANY.SINGLETON.ANY.ANY.ANY.protein_coding   singleton   \n",
       "134926   ANY.SINGLETON.PREDICTED_LOF_or_PREDICTED_PARTI...   singleton   \n",
       "161909   ANY.SINGLETON.PREDICTED_LOF_or_PREDICTED_PARTI...   singleton   \n",
       "188892   ANY.SINGLETON.ANY.ANY.expressed_in_adrenal_gla...   singleton   \n",
       "701569   ANY.SINGLETON.ANY.neuroblastoma_atac_peaks.ANY...   singleton   \n",
       "1160280  ANY.SINGLETON.ANY.neuroblastoma_chromHMM15_Enh...   singleton   \n",
       "1187263  DEL.SINGLETON.ANY.neuroblastoma_H3K27Ac_peak_c...   singleton   \n",
       "\n",
       "        sv_category    category_p  num_svs_cases  num_svs_controls  \\\n",
       "11           coding  1.110000e-07            511              2790   \n",
       "26994        coding  3.190000e-07            464              2560   \n",
       "53977        coding  3.190000e-07            464              2560   \n",
       "80960        coding  7.180000e-07            738              3739   \n",
       "134926       coding  4.860000e-05            262              1620   \n",
       "161909       coding  5.320000e-05            224              1416   \n",
       "188892       coding  6.360000e-05            411              2375   \n",
       "701569   non-coding  6.730000e-06            314              1565   \n",
       "1160280  non-coding  2.840000e-04             57               217   \n",
       "1187263  non-coding  3.050000e-04            106               490   \n",
       "\n",
       "                           db            gs   expected  \\\n",
       "11       MSigDB_Hallmark_2020  Adipogenesis  200/19201   \n",
       "26994    MSigDB_Hallmark_2020  Adipogenesis  200/19201   \n",
       "53977    MSigDB_Hallmark_2020  Adipogenesis  200/19201   \n",
       "80960    MSigDB_Hallmark_2020  Adipogenesis  200/19201   \n",
       "134926   MSigDB_Hallmark_2020  Adipogenesis  200/19201   \n",
       "161909   MSigDB_Hallmark_2020  Adipogenesis  200/19201   \n",
       "188892   MSigDB_Hallmark_2020  Adipogenesis  200/19201   \n",
       "701569   MSigDB_Hallmark_2020  Adipogenesis  200/19201   \n",
       "1160280  MSigDB_Hallmark_2020  Adipogenesis  200/19201   \n",
       "1187263  MSigDB_Hallmark_2020  Adipogenesis  200/19201   \n",
       "\n",
       "         gs_unique_overlap_cases  res_cases   p_cases data_cases  \\\n",
       "11                            13   2.670747  0.001485     14/547   \n",
       "26994                         11   2.509587  0.004858     12/493   \n",
       "53977                         11   2.509587  0.004858     12/493   \n",
       "80960                         14   1.991517  0.016097     15/785   \n",
       "134926                         9   3.393027  0.002109      9/273   \n",
       "161909                         6   2.544785  0.036238      6/237   \n",
       "188892                        10   2.405238  0.012266     10/426   \n",
       "701569                         8   2.400126  0.023432      8/338   \n",
       "1160280                        3   5.359278  0.021418       3/57   \n",
       "1187263                        4   3.693878  0.026775      4/109   \n",
       "\n",
       "         gs_unique_overlap_controls  res_controls  p_controls data_controls  \n",
       "11                               24      0.783782    0.316489       24/3334  \n",
       "26994                            21      0.744125    0.214867       21/3020  \n",
       "53977                            21      0.744125    0.214867       21/3020  \n",
       "80960                            37      1.016736    0.929039       40/4635  \n",
       "134926                           23      1.384899    0.161388       23/1808  \n",
       "161909                           15      0.954698    1.000000       15/1630  \n",
       "188892                           34      1.581932    0.017906       37/2719  \n",
       "701569                           20      1.405359    0.116600       26/1981  \n",
       "1160280                           3      1.166940    0.745953         3/251  \n",
       "1187263                           5      0.889294    1.000000         5/553  "
      ]
     },
     "execution_count": 511,
     "metadata": {},
     "output_type": "execute_result"
    }
   ],
   "source": [
    "gse_results[(gse_results['gs'] == 'Adipogenesis') & (gse_results['p_cases'] < 0.05)]"
   ]
  },
  {
   "cell_type": "code",
   "execution_count": 366,
   "id": "6b31ddfe-ac40-4152-8723-2499876d8219",
   "metadata": {},
   "outputs": [],
   "source": [
    "test_sig = gse_results.query('db != \"GO_Biological_Process_Full\"')\n",
    "test_sig = test_sig.query('gs_unique_overlap_cases > 1')\n",
    "test_sig = test_sig[test_sig.apply(lambda row: int(row['expected'].split('/')[0]) >= 5, axis = 1)]\n",
    "test_sig = test_sig.query('p_controls > 0.05')\n",
    "\n",
    "test_sig['-logp_cases'] = -np.log10(test_sig['p_cases'])\n",
    "test_sig['log_res'] = np.log10(test_sig['res_cases'])"
   ]
  },
  {
   "cell_type": "code",
   "execution_count": 367,
   "id": "66bf2d35-c1e8-4005-abbb-1c6bc64c59ce",
   "metadata": {},
   "outputs": [
    {
     "data": {
      "text/plain": [
       "<AxesSubplot:xlabel='log_res', ylabel='-logp_cases'>"
      ]
     },
     "execution_count": 367,
     "metadata": {},
     "output_type": "execute_result"
    },
    {
     "data": {
      "image/png": "[encoded data removed]",
      "text/plain": [
       "<Figure size 384x384 with 1 Axes>"
      ]
     },
     "metadata": {},
     "output_type": "display_data"
    }
   ],
   "source": [
    "import seaborn as sns\n",
    "fig, ax = plt.subplots(1, figsize = (4, 4))\n",
    "sns.scatterplot(x = 'log_res', y = '-logp_cases', data = test_sig, s = 2, ec = None)"
   ]
  },
  {
   "cell_type": "code",
   "execution_count": 393,
   "id": "e88f7ea3-b201-45cb-b0ef-76780ff2ec8f",
   "metadata": {},
   "outputs": [
    {
     "data": {
      "image/png": "[encoded data removed]",
      "text/plain": [
       "<Figure size 384x384 with 1 Axes>"
      ]
     },
     "metadata": {},
     "output_type": "display_data"
    }
   ],
   "source": [
    "hallmark_results = test_sig.query('db == \"MSigDB_Hallmark_2020\"')\n",
    "fig, ax = plt.subplots(1, figsize = (4, 4))\n",
    "sns.scatterplot(x = 'log_res', y = '-logp_cases', \n",
    "                data = hallmark_results, s = 4, ec = None, hue = 'sv_category')\n",
    "sns.despine(ax = ax)\n",
    "ax.set_xlabel(\"Fisher's effect size\")\n",
    "ax.legend(bbox_to_anchor = (0.95, 0.5))\n",
    "fig.savefig('images/cwas/gene-enrichment-hallmark-significance.png', bbox_inches = 'tight')"
   ]
  },
  {
   "cell_type": "code",
   "execution_count": 396,
   "id": "41875a69-dfa9-49bf-a597-fdd0a4cd5e07",
   "metadata": {},
   "outputs": [
    {
     "data": {
      "text/plain": [
       "sv_category  gs                       \n",
       "coding       Adipogenesis                  6\n",
       "             Myogenesis                    2\n",
       "             Angiogenesis                  1\n",
       "             Xenobiotic Metabolism         1\n",
       "             mTORC1 Signaling              1\n",
       "non-coding   mTORC1 Signaling             14\n",
       "             Estrogen Response Late        7\n",
       "             Unfolded Protein Response     7\n",
       "             Glycolysis                    5\n",
       "             Hedgehog Signaling            5\n",
       "             UV Response Dn                4\n",
       "             heme Metabolism               4\n",
       "             Adipogenesis                  3\n",
       "             Allograft Rejection           3\n",
       "             G2-M Checkpoint               3\n",
       "Name: gs, dtype: int64"
      ]
     },
     "execution_count": 396,
     "metadata": {},
     "output_type": "execute_result"
    }
   ],
   "source": [
    "hallmark_results.query('p_cases < 0.05').groupby(['sv_category'])['gs'].value_counts().head(15)"
   ]
  },
  {
   "cell_type": "code",
   "execution_count": 416,
   "id": "0c230cc3-04f7-4c6b-abf9-289e90c4a2ee",
   "metadata": {},
   "outputs": [
    {
     "data": {
      "image/png": "[encoded data removed]",
      "text/plain": [
       "<Figure size 384x384 with 1 Axes>"
      ]
     },
     "metadata": {},
     "output_type": "display_data"
    }
   ],
   "source": [
    "reactome_results = test_sig.query('db == \"Reactome_2022\"')\n",
    "fig, ax = plt.subplots(1, figsize = (4, 4))\n",
    "sns.scatterplot(x = 'log_res', y = '-logp_cases', \n",
    "                data = reactome_results, s = 4, ec = None, hue = 'sv_category')\n",
    "sns.despine(ax = ax)\n",
    "ax.set_xlabel(\"Fisher's effect size\")\n",
    "ax.legend(bbox_to_anchor = (0.95, 0.5))\n",
    "fig.savefig('images/cwas/gene-enrichment-reactome-significance.png', bbox_inches = 'tight')"
   ]
  },
  {
   "cell_type": "code",
   "execution_count": 411,
   "id": "b2dc0d1b-34b2-4d7c-9201-efff8a91f44a",
   "metadata": {},
   "outputs": [
    {
     "data": {
      "text/plain": [
       "sv_category  gs                                                                            \n",
       "coding       Mitochondrial Fatty Acid Beta-Oxidation Of Unsaturated Fatty Acids R-HSA-77288    10\n",
       "             Cytokine Signaling In Immune System R-HSA-1280215                                  9\n",
       "             Beta Defensins R-HSA-1461957                                                       8\n",
       "             Defensins R-HSA-1461973                                                            8\n",
       "             Formation Of Xylulose-5-Phosphate R-HSA-5661270                                    8\n",
       "                                                                                               ..\n",
       "non-coding   Uptake And Function Of Anthrax Toxins R-HSA-5210891                                1\n",
       "             VEGFA-VEGFR2 Pathway R-HSA-4420097                                                 1\n",
       "             WNT Ligand Biogenesis And Trafficking R-HSA-3238698                                1\n",
       "             tRNA Processing In Nucleus R-HSA-6784531                                           1\n",
       "             trans-Golgi Network Vesicle Budding R-HSA-199992                                   1\n",
       "Name: gs, Length: 531, dtype: int64"
      ]
     },
     "execution_count": 411,
     "metadata": {},
     "output_type": "execute_result"
    }
   ],
   "source": [
    "reactome_results.query('p_cases < 0.05').groupby(['sv_category'])['gs'].value_counts()"
   ]
  },
  {
   "cell_type": "code",
   "execution_count": 417,
   "id": "4d643d67-51ac-4c3c-ac81-cb11beaa7a57",
   "metadata": {},
   "outputs": [
    {
     "data": {
      "image/png": "[encoded data removed]",
      "text/plain": [
       "<Figure size 384x384 with 1 Axes>"
      ]
     },
     "metadata": {},
     "output_type": "display_data"
    }
   ],
   "source": [
    "go_results = test_sig.query('db == \"GO_Biological_Process_Specific\"')\n",
    "fig, ax = plt.subplots(1, figsize = (4, 4))\n",
    "sns.scatterplot(x = 'log_res', y = '-logp_cases', \n",
    "                data = go_results, s = 4, ec = None, hue = 'sv_category')\n",
    "sns.despine(ax = ax)\n",
    "ax.set_xlabel(\"Fisher's effect size\")\n",
    "ax.legend(bbox_to_anchor = (0.95, 0.5))\n",
    "fig.savefig('images/cwas/gene-enrichment-GO-significance.png', bbox_inches = 'tight')"
   ]
  },
  {
   "cell_type": "code",
   "execution_count": 421,
   "id": "9208de00-63f8-43b5-8903-2a96eaf8c7f7",
   "metadata": {},
   "outputs": [
    {
     "data": {
      "text/plain": [
       "sv_category  gs                                                  \n",
       "coding       brain development (GO:0007420)                          10\n",
       "             piecemeal microautophagy of the nucleus (GO:0034727)    10\n",
       "             retina homeostasis (GO:0001895)                         10\n",
       "             sphingomyelin biosynthetic process (GO:0006686)          9\n",
       "             behavioral response to pain (GO:0048266)                 8\n",
       "                                                                     ..\n",
       "non-coding   vesicle cargo loading (GO:0035459)                       1\n",
       "             viral protein processing (GO:0019082)                    1\n",
       "             wound healing (GO:0042060)                               1\n",
       "             xenobiotic metabolic process (GO:0006805)                1\n",
       "             xenobiotic transport (GO:0042908)                        1\n",
       "Name: gs, Length: 943, dtype: int64"
      ]
     },
     "execution_count": 421,
     "metadata": {},
     "output_type": "execute_result"
    }
   ],
   "source": [
    "go_results.query('p_cases < 0.05').groupby(['sv_category'])['gs'].value_counts()"
   ]
  },
  {
   "cell_type": "markdown",
   "id": "dc2624b0-a4a6-4e0d-ae6d-e9c631663919",
   "metadata": {},
   "source": [
    "# Overlap with expression"
   ]
  },
  {
   "cell_type": "code",
   "execution_count": 422,
   "id": "4fe6a319-b930-48d2-bd53-785b2f7ccfcf",
   "metadata": {},
   "outputs": [],
   "source": [
    "# read in expression data\n",
    "expression_results = pd.read_csv('data/cwas-results/expression-significance.csv')\n",
    "sv_gene_results = pd.read_csv('data/cwas-results/sv-gene-expression-results.csv')"
   ]
  },
  {
   "cell_type": "code",
   "execution_count": 505,
   "id": "079f08bb-7b89-4c62-8d10-05de79b10296",
   "metadata": {},
   "outputs": [
    {
     "data": {
      "text/plain": [
       "(10, 9)"
      ]
     },
     "execution_count": 505,
     "metadata": {},
     "output_type": "execute_result"
    }
   ],
   "source": [
    "expression_results.query('p_mean < 0.05').shape"
   ]
  },
  {
   "cell_type": "code",
   "execution_count": 493,
   "id": "1d5f8ec5-a301-4991-b014-4c79baaf697e",
   "metadata": {},
   "outputs": [],
   "source": [
    "sig_coding_categories = expression_results.query('p_mean < 0.05')['category'].tolist()\n",
    "sig_coding_results = gse_results[gse_results['category'].isin(sig_coding_categories)]\n",
    "sig_coding_results = sig_coding_results.query('gs_unique_overlap_cases > 1 & db != \"GO_Biological_Process_Full & p_controls < 0.05\"')\n",
    "sig_coding_results = sig_coding_results[sig_coding_results.apply(lambda row: int(row['expected'].split('/')[0]) >= 5, axis = 1)]\n"
   ]
  },
  {
   "cell_type": "code",
   "execution_count": 494,
   "id": "77dd386c-27af-41dc-bd3f-f9d9117999dd",
   "metadata": {},
   "outputs": [
    {
     "data": {
      "text/plain": [
       "ANY.SINGLETON.ANY.ANY.ANY.protein_coding                                                                   3571\n",
       "ANY.SINGLETON.PREDICTED_LOF_or_PREDICTED_PARTIAL_EXON_DUP.ANY.ANY.protein_coding                           2885\n",
       "ANY.SINGLETON.ANY.ANY.expressed_in_adrenal_gland.protein_coding                                            2584\n",
       "DEL.SINGLETON.ANY.ANY.ANY.protein_coding                                                                   2582\n",
       "DEL.SINGLETON.PREDICTED_LOF_or_PREDICTED_PARTIAL_EXON_DUP.ANY.ANY.protein_coding                           2582\n",
       "ANY.SINGLETON.PREDICTED_LOF_or_PREDICTED_PARTIAL_EXON_DUP.ANY.expressed_in_adrenal_gland.protein_coding    1865\n",
       "ANY.SINGLETON.ANY.unconstrained.ANY.protein_coding                                                         1819\n",
       "ANY.SINGLETON.PREDICTED_LOF_or_PREDICTED_PARTIAL_EXON_DUP.unconstrained.ANY.protein_coding                 1212\n",
       "DEL.SINGLETON.ANY.unconstrained.ANY.protein_coding                                                         1071\n",
       "DEL.SINGLETON.PREDICTED_LOF_or_PREDICTED_PARTIAL_EXON_DUP.unconstrained.ANY.protein_coding                 1071\n",
       "Name: category, dtype: int64"
      ]
     },
     "execution_count": 494,
     "metadata": {},
     "output_type": "execute_result"
    }
   ],
   "source": [
    "sig_coding_results['category'].value_counts()"
   ]
  },
  {
   "cell_type": "code",
   "execution_count": 495,
   "id": "2abb7777-c5ab-46af-899c-6976b53f6b34",
   "metadata": {},
   "outputs": [
    {
     "data": {
      "text/plain": [
       "db                          gs                                                                     \n",
       "GO_Biological_Process_Full  C-terminal protein lipidation (GO:0006501)                                 10\n",
       "                            actin-myosin filament sliding (GO:0033275)                                 10\n",
       "                            carbohydrate phosphorylation (GO:0046835)                                  10\n",
       "                            cell communication (GO:0007154)                                            10\n",
       "                            detection of temperature stimulus (GO:0016048)                             10\n",
       "                                                                                                       ..\n",
       "Reactome_2022               Synthesis Of PIPs At Golgi Membrane R-HSA-1660514                           1\n",
       "                            Telomere C-strand (Lagging Strand) Synthesis R-HSA-174417                   1\n",
       "                            Transcription-Coupled Nucleotide Excision Repair (TC-NER) R-HSA-6781827     1\n",
       "                            Ub-specific Processing Proteases R-HSA-5689880                              1\n",
       "                            trans-Golgi Network Vesicle Budding R-HSA-199992                            1\n",
       "Name: gs, Length: 1119, dtype: int64"
      ]
     },
     "execution_count": 495,
     "metadata": {},
     "output_type": "execute_result"
    }
   ],
   "source": [
    "sig_coding_results.query('p_cases < 0.05').groupby('db')['gs'].value_counts()"
   ]
  },
  {
   "cell_type": "code",
   "execution_count": 507,
   "id": "2220c00d-c70f-448b-8149-5c5289ec3aad",
   "metadata": {},
   "outputs": [
    {
     "data": {
      "text/plain": [
       "db                              gs                                                                                   \n",
       "GO_Biological_Process_Specific  brain development (GO:0007420)                                                           10\n",
       "                                medium-chain fatty acid catabolic process (GO:0051793)                                   10\n",
       "                                photoreceptor cell outer segment organization (GO:0035845)                               10\n",
       "                                piecemeal microautophagy of the nucleus (GO:0034727)                                     10\n",
       "                                retina homeostasis (GO:0001895)                                                          10\n",
       "                                serotonin uptake (GO:0051610)                                                            10\n",
       "                                positive regulation of transcription by RNA polymerase II (GO:0045944)                    9\n",
       "                                sphingomyelin biosynthetic process (GO:0006686)                                           9\n",
       "                                synaptic transmission, cholinergic (GO:0007271)                                           9\n",
       "                                L-alanine transport (GO:0015808)                                                          8\n",
       "                                N-acylphosphatidylethanolamine metabolic process (GO:0070292)                             8\n",
       "                                behavioral response to pain (GO:0048266)                                                  8\n",
       "                                detection of temperature stimulus involved in sensory perception of pain (GO:0050965)     8\n",
       "                                glucuronate catabolic process to xylulose 5-phosphate (GO:0019640)                        8\n",
       "                                metabolic process (GO:0008152)                                                            8\n",
       "Name: gs, dtype: int64"
      ]
     },
     "execution_count": 507,
     "metadata": {},
     "output_type": "execute_result"
    }
   ],
   "source": [
    "sig_coding_results.query('p_cases < 0.05 & db == \"GO_Biological_Process_Specific\"').groupby('db')['gs'].value_counts().head(15)"
   ]
  },
  {
   "cell_type": "code",
   "execution_count": 508,
   "id": "5dcc861f-cc01-4e9a-afe4-56a7e1b50187",
   "metadata": {},
   "outputs": [
    {
     "data": {
      "text/plain": [
       "db                    gs                   \n",
       "MSigDB_Hallmark_2020  Adipogenesis             7\n",
       "                      Myogenesis               2\n",
       "                      Angiogenesis             1\n",
       "                      Xenobiotic Metabolism    1\n",
       "                      mTORC1 Signaling         1\n",
       "Name: gs, dtype: int64"
      ]
     },
     "execution_count": 508,
     "metadata": {},
     "output_type": "execute_result"
    }
   ],
   "source": [
    "sig_coding_results.query('p_cases < 0.05 & db == \"MSigDB_Hallmark_2020\"').groupby('db')['gs'].value_counts().head(15)"
   ]
  },
  {
   "cell_type": "code",
   "execution_count": 509,
   "id": "1647b46b-3482-443c-9f64-ea1a70fa3019",
   "metadata": {},
   "outputs": [
    {
     "data": {
      "text/plain": [
       "db             gs                                                                                   \n",
       "Reactome_2022  Mitochondrial Fatty Acid Beta-Oxidation Of Unsaturated Fatty Acids R-HSA-77288           10\n",
       "               Abacavir ADME R-HSA-2161522                                                               9\n",
       "               Cytokine Signaling In Immune System R-HSA-1280215                                         9\n",
       "               Acyl Chain Remodelling Of PE R-HSA-1482839                                                8\n",
       "               Beta Defensins R-HSA-1461957                                                              8\n",
       "               Defensins R-HSA-1461973                                                                   8\n",
       "               Formation Of Xylulose-5-Phosphate R-HSA-5661270                                           8\n",
       "               Infectious Disease R-HSA-5663205                                                          8\n",
       "               Antimicrobial Peptides R-HSA-6803157                                                      7\n",
       "               Disease R-HSA-1643685                                                                     6\n",
       "               Impaired BRCA2 Binding To RAD51 R-HSA-9709570                                             6\n",
       "               Resolution Of AP Sites Via Multiple-Nucleotide Patch Replacement Pathway R-HSA-110373     6\n",
       "               Biotin Transport And Metabolism R-HSA-196780                                              5\n",
       "               COPI-dependent Golgi-to-ER Retrograde Traffic R-HSA-6811434                               5\n",
       "               Calnexin/calreticulin Cycle R-HSA-901042                                                  5\n",
       "Name: gs, dtype: int64"
      ]
     },
     "execution_count": 509,
     "metadata": {},
     "output_type": "execute_result"
    }
   ],
   "source": [
    "sig_coding_results.query('p_cases < 0.05 & db == \"Reactome_2022\"').groupby('db')['gs'].value_counts().head(15)"
   ]
  },
  {
   "cell_type": "code",
   "execution_count": 473,
   "id": "7fa235f0-cb61-4b60-b308-ab25d371e739",
   "metadata": {},
   "outputs": [
    {
     "data": {
      "image/png": "[encoded data removed]",
      "text/plain": [
       "<Figure size 480x480 with 4 Axes>"
      ]
     },
     "metadata": {},
     "output_type": "display_data"
    },
    {
     "data": {
      "image/png": "[encoded data removed]",
      "text/plain": [
       "<Figure size 480x480 with 4 Axes>"
      ]
     },
     "metadata": {},
     "output_type": "display_data"
    },
    {
     "data": {
      "image/png": "[encoded data removed]",
      "text/plain": [
       "<Figure size 480x480 with 4 Axes>"
      ]
     },
     "metadata": {},
     "output_type": "display_data"
    },
    {
     "data": {
      "image/png": "[encoded data removed]",
      "text/plain": [
       "<Figure size 480x480 with 4 Axes>"
      ]
     },
     "metadata": {},
     "output_type": "display_data"
    },
    {
     "data": {
      "image/png": "[encoded data removed]",
      "text/plain": [
       "<Figure size 480x480 with 4 Axes>"
      ]
     },
     "metadata": {},
     "output_type": "display_data"
    },
    {
     "data": {
      "image/png": "[encoded data removed]",
      "text/plain": [
       "<Figure size 480x480 with 4 Axes>"
      ]
     },
     "metadata": {},
     "output_type": "display_data"
    },
    {
     "data": {
      "image/png": "[encoded data removed]",
      "text/plain": [
       "<Figure size 480x480 with 4 Axes>"
      ]
     },
     "metadata": {},
     "output_type": "display_data"
    },
    {
     "data": {
      "image/png": "[encoded data removed]",
      "text/plain": [
       "<Figure size 480x480 with 4 Axes>"
      ]
     },
     "metadata": {},
     "output_type": "display_data"
    },
    {
     "data": {
      "image/png": "[encoded data removed]",
      "text/plain": [
       "<Figure size 480x480 with 4 Axes>"
      ]
     },
     "metadata": {},
     "output_type": "display_data"
    },
    {
     "data": {
      "image/png": "[encoded data removed]",
      "text/plain": [
       "<Figure size 480x480 with 4 Axes>"
      ]
     },
     "metadata": {},
     "output_type": "display_data"
    }
   ],
   "source": [
    "for cat in sig_coding_categories:\n",
    "    cat_results = sig_coding_results[sig_coding_results['category'] == cat].copy()\n",
    "    \n",
    "    cat_results['-logp_cases'] = -np.log10(cat_results['p_cases'])\n",
    "    cat_results['log_res'] = np.log10(cat_results['res_cases'])\n",
    "    \n",
    "    fig, axes = plt.subplots(2, 2, figsize = (5, 5), \n",
    "                             gridspec_kw = {'hspace': 0.6, 'wspace': 0.6})\n",
    "    for i, db in enumerate(['MSigDB_Hallmark_2020', 'GO_Biological_Process_Specific', 'Reactome_2022']):\n",
    "        db_results = cat_results[cat_results['db'] == db].copy()\n",
    "        \n",
    "        ax = axes.flat[i]\n",
    "        sns.scatterplot(x = 'log_res', y = '-logp_cases',\n",
    "                        data = db_results, s = 4, ec = None, ax = ax)\n",
    "\n",
    "        sns.despine(ax = ax)\n",
    "        ax.set_xlabel(\"Fisher's effect size\")\n",
    "        ax.axhline(y = -np.log10(0.5), linestyle = 'dashed', color = 'darkgrey')\n",
    "        \n",
    "        axes.flat[i].set_title(db, fontsize = 10)\n",
    "        \n",
    "    axes.flat[-1].axis('off')\n",
    "    fig.suptitle(cat, fontsize = 8)\n",
    "    \n",
    "    fig.savefig(f'data/cwas-results/gene-set-plots/{cat}.png', bbox_inches = 'tight')"
   ]
  },
  {
   "cell_type": "code",
   "execution_count": null,
   "id": "cb8bdb11-dd7a-4946-9012-fd88982ae9ee",
   "metadata": {},
   "outputs": [],
   "source": []
  }
 ],
 "metadata": {
  "kernelspec": {
   "display_name": "pediatric-germline-svs-3.7.13",
   "language": "python",
   "name": "pediatric-germline-svs-3.7.13"
  },
  "language_info": {
   "codemirror_mode": {
    "name": "ipython",
    "version": 3
   },
   "file_extension": ".py",
   "mimetype": "text/x-python",
   "name": "python",
   "nbconvert_exporter": "python",
   "pygments_lexer": "ipython3",
   "version": "3.7.13"
  }
 },
 "nbformat": 4,
 "nbformat_minor": 5
}
