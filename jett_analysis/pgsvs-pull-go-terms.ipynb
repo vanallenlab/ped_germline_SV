{
 "cells": [
  {
   "cell_type": "markdown",
   "id": "11c9957e-807c-4af4-affd-401a58889ebb",
   "metadata": {},
   "source": [
    "# GO Term Processing\n",
    "\n",
    "It's so frustrating that I even need this notebook. We use `goatools` and the PANTHER API to load info about the gene term and which gene sets which should be analyzing.\n",
    "\n",
    "We can't use PANTHER because it doesn't account for duplicate genes."
   ]
  },
  {
   "cell_type": "markdown",
   "id": "68911da9-59d6-40b3-bf04-7523cf1f8d85",
   "metadata": {},
   "source": [
    "# What GO terms should we be analyzing?\n",
    "\n",
    "We'll follow along with PANTHER to define what gene sets we should analyze, since that seems like a standard in the field (GO, after all, directly links to it.)"
   ]
  },
  {
   "cell_type": "code",
   "execution_count": 294,
   "id": "a5778e40-0e42-4ec5-a5c4-cb8209d24ddf",
   "metadata": {},
   "outputs": [],
   "source": [
    "# Use panther API to get an example run\n",
    "data = requests.get('https://pantherdb.org/services/oai/pantherdb/enrich/overrep?geneInputList=TP53,BRCA1,BRCA2,RAD51,MSH2,MSH6&organism=9606&annotDataSet=GO%3A0008150&enrichmentTestType=FISHER&correction=FDR')\n",
    "\n",
    "# convert response object to a dataframe\n",
    "go_terms = []\n",
    "for val in data_2.json()['results']['result']:\n",
    "    go_id = val['term'].get('id', 'unlabelled')\n",
    "    go_label = val['term'].get('label', 'unlabelled')\n",
    "    num_genes = val['number_in_reference']\n",
    "    go_terms.append([go_id, go_label, num_genes])\n",
    "\n",
    "go_terms = pd.DataFrame(go_terms, columns = ['go', 'label', 'num_genes_panther']).sort_values(by = 'go')\n",
    "go_terms = go_terms.query('go != \"unlabelled\" & label != \"unlabelled\"')\n",
    "\n",
    "# an example of how to run the panther analysis, in case that's helpful \n",
    "\n",
    "# formatted_data = []\n",
    "# for val in data_2.json()['results']['result']:\n",
    "#     number_in_list = val['number_in_list']\n",
    "#     fold_enrichment = val['fold_enrichment']\n",
    "#     fdr = val['fdr']\n",
    "#     expected = val['expected']\n",
    "#     number_in_ref = val['number_in_reference']\n",
    "#     p = val['pValue']\n",
    "#     term = val['term'].get('id', 'unlabelled') + \" (\" + val['term']['label'] + \")\"\n",
    "#     plus_minus = val['plus_minus']\n",
    "    \n",
    "#     row = [number_in_list, fold_enrichment, fdr, expected, number_in_ref, p, term, plus_minus]\n",
    "#     formatted_data.append(row)\n",
    "\n",
    "# formatted_data = pd.DataFrame(formatted_data, columns = ['number_in_list', 'fold_enrichment', 'fdr', 'expected', 'number_in_ref', 'p', 'term', 'plus_minus'])"
   ]
  },
  {
   "cell_type": "code",
   "execution_count": 295,
   "id": "05a3f399-591c-459e-9679-75221174870b",
   "metadata": {},
   "outputs": [
    {
     "data": {
      "text/html": [
       "<div>\n",
       "<style scoped>\n",
       "    .dataframe tbody tr th:only-of-type {\n",
       "        vertical-align: middle;\n",
       "    }\n",
       "\n",
       "    .dataframe tbody tr th {\n",
       "        vertical-align: top;\n",
       "    }\n",
       "\n",
       "    .dataframe thead th {\n",
       "        text-align: right;\n",
       "    }\n",
       "</style>\n",
       "<table border=\"1\" class=\"dataframe\">\n",
       "  <thead>\n",
       "    <tr style=\"text-align: right;\">\n",
       "      <th></th>\n",
       "      <th>go</th>\n",
       "      <th>label</th>\n",
       "      <th>num_genes_panther</th>\n",
       "    </tr>\n",
       "  </thead>\n",
       "  <tbody>\n",
       "    <tr>\n",
       "      <th>408</th>\n",
       "      <td>GO:0000002</td>\n",
       "      <td>mitochondrial genome maintenance</td>\n",
       "      <td>26</td>\n",
       "    </tr>\n",
       "    <tr>\n",
       "      <th>142</th>\n",
       "      <td>GO:0000003</td>\n",
       "      <td>reproduction</td>\n",
       "      <td>1457</td>\n",
       "    </tr>\n",
       "  </tbody>\n",
       "</table>\n",
       "</div>"
      ],
      "text/plain": [
       "             go                             label  num_genes_panther\n",
       "408  GO:0000002  mitochondrial genome maintenance                 26\n",
       "142  GO:0000003                      reproduction               1457"
      ]
     },
     "execution_count": 295,
     "metadata": {},
     "output_type": "execute_result"
    }
   ],
   "source": [
    "go_terms.head(2)"
   ]
  },
  {
   "cell_type": "markdown",
   "id": "c4afd510-cb1b-453b-9ca3-d78145eaf7e9",
   "metadata": {},
   "source": [
    "# Look up some info about the GO terms using goatools\n",
    "\n",
    "This is a pretty frustrating package to use at baseline, but it's quite comprehensive. This is just following along their tutorial: https://github.com/tanghaibao/goatools/blob/main/notebooks/report_depth_level.ipynb. We also look up some genes here."
   ]
  },
  {
   "cell_type": "code",
   "execution_count": 271,
   "id": "0300c206-d8aa-439e-bbb4-5fa2937c376b",
   "metadata": {},
   "outputs": [],
   "source": [
    "import goatools"
   ]
  },
  {
   "cell_type": "code",
   "execution_count": 274,
   "id": "3967843c-1a75-4447-a44d-7ed4b54750ad",
   "metadata": {},
   "outputs": [
    {
     "name": "stdout",
     "output_type": "stream",
     "text": [
      "  EXISTS: go-basic.obo\n",
      "  EXISTS: gene2go\n",
      "go-basic.obo: fmt(1.2) rel(2023-11-15) 46,228 Terms\n",
      "HMS:0:00:47.747039 345,232 annotations, 20,762 genes, 18,774 GOs, 1 taxids READ: gene2go \n",
      "MF 18,348 annotated human genes\n",
      "CC 19,783 annotated human genes\n",
      "BP 18,683 annotated human genes\n"
     ]
    }
   ],
   "source": [
    "# load the GO data base\n",
    "from goatools.base import download_go_basic_obo\n",
    "obo_fname = download_go_basic_obo()\n",
    "\n",
    "# Get ftp://ftp.ncbi.nlm.nih.gov/gene/DATA/gene2go.gz\n",
    "from goatools.base import download_ncbi_associations\n",
    "fin_gene2go = download_ncbi_associations()\n",
    "\n",
    "from goatools.obo_parser import GODag\n",
    "obodag = GODag(\"go-basic.obo\")\n",
    "\n",
    "from goatools.anno.genetogo_reader import Gene2GoReader\n",
    "\n",
    "# Read NCBI's gene2go. Store annotations in a list of namedtuples\n",
    "objanno = Gene2GoReader(fin_gene2go, taxids=[9606])\n",
    "ns2assoc = objanno.get_ns2assc()\n",
    "\n",
    "for nspc, id2gos in ns2assoc.items():\n",
    "    print(\"{NS} {N:,} annotated human genes\".format(NS=nspc, N=len(id2gos)))"
   ]
  },
  {
   "cell_type": "code",
   "execution_count": 275,
   "id": "4cc6676b-744b-42b3-9d6f-a616a26f8ee1",
   "metadata": {},
   "outputs": [],
   "source": [
    "symbol_to_id = {nt.Symbol: val for val, nt in GeneID2nt_hs.items()}\n",
    "id_to_symbol = {val: nt.Symbol for val, nt in GeneID2nt_hs.items()}"
   ]
  },
  {
   "cell_type": "markdown",
   "id": "fbed93ef-9ee7-4e29-93e9-1d819ee5d74d",
   "metadata": {},
   "source": [
    "## Get the depth and level\n",
    "\n",
    "Just a reminder - level is the shortest path to the top (Biological_Process), and depth is the longest"
   ]
  },
  {
   "cell_type": "code",
   "execution_count": 296,
   "id": "c684daa4-6c50-4f7d-8bbe-1e18c3e6acf6",
   "metadata": {},
   "outputs": [
    {
     "name": "stdout",
     "output_type": "stream",
     "text": [
      "All terms: 46228, Unique terms: 42769\n"
     ]
    }
   ],
   "source": [
    "from goatools.rpt.rpt_lev_depth import RptLevDepth\n",
    "\n",
    "rptobj = RptLevDepth(obodag)\n",
    "\n",
    "all_terms = obodag.values()\n",
    "all_terms_unique = set(all_terms)\n",
    "print(f\"All terms: {len(all_terms)}, Unique terms: {len(all_terms_unique)}\")\n",
    "\n",
    "go_level_depth = [(val.id, val.level, val.depth) for val in all_terms]\n",
    "go_level_depth = pd.DataFrame(go_level_depth, columns = ['go', 'level', 'depth'])"
   ]
  },
  {
   "cell_type": "code",
   "execution_count": 297,
   "id": "3ca9d23f-4913-41ac-beb1-2c61c76b9a65",
   "metadata": {},
   "outputs": [],
   "source": [
    "go_terms = go_terms.merge(go_level_depth, on = 'go', how = 'left').drop_duplicates(subset = 'go')"
   ]
  },
  {
   "cell_type": "code",
   "execution_count": 280,
   "id": "bfbfad4f-19cd-41b3-a616-40f83669f990",
   "metadata": {},
   "outputs": [
    {
     "data": {
      "text/html": [
       "<div>\n",
       "<style scoped>\n",
       "    .dataframe tbody tr th:only-of-type {\n",
       "        vertical-align: middle;\n",
       "    }\n",
       "\n",
       "    .dataframe tbody tr th {\n",
       "        vertical-align: top;\n",
       "    }\n",
       "\n",
       "    .dataframe thead th {\n",
       "        text-align: right;\n",
       "    }\n",
       "</style>\n",
       "<table border=\"1\" class=\"dataframe\">\n",
       "  <thead>\n",
       "    <tr style=\"text-align: right;\">\n",
       "      <th></th>\n",
       "      <th>go</th>\n",
       "      <th>label</th>\n",
       "      <th>num_genes_panther</th>\n",
       "      <th>level</th>\n",
       "      <th>depth</th>\n",
       "    </tr>\n",
       "  </thead>\n",
       "  <tbody>\n",
       "    <tr>\n",
       "      <th>0</th>\n",
       "      <td>GO:0000002</td>\n",
       "      <td>mitochondrial genome maintenance</td>\n",
       "      <td>26</td>\n",
       "      <td>6.0</td>\n",
       "      <td>6.0</td>\n",
       "    </tr>\n",
       "    <tr>\n",
       "      <th>1</th>\n",
       "      <td>GO:0000003</td>\n",
       "      <td>reproduction</td>\n",
       "      <td>1457</td>\n",
       "      <td>1.0</td>\n",
       "      <td>1.0</td>\n",
       "    </tr>\n",
       "  </tbody>\n",
       "</table>\n",
       "</div>"
      ],
      "text/plain": [
       "           go                             label  num_genes_panther  level  \\\n",
       "0  GO:0000002  mitochondrial genome maintenance                 26    6.0   \n",
       "1  GO:0000003                      reproduction               1457    1.0   \n",
       "\n",
       "   depth  \n",
       "0    6.0  \n",
       "1    1.0  "
      ]
     },
     "execution_count": 280,
     "metadata": {},
     "output_type": "execute_result"
    }
   ],
   "source": [
    "go_terms.head(2)"
   ]
  },
  {
   "cell_type": "markdown",
   "id": "908d9616-93c5-4662-bcad-1ac13923391d",
   "metadata": {},
   "source": [
    "## Look up what GOAT thinks is the gene list\n",
    "\n",
    "Most of the time this isn't even close to GO, but we'll include it for completeness."
   ]
  },
  {
   "cell_type": "code",
   "execution_count": 281,
   "id": "f1a45bba-3f33-47e8-a5e7-8106853e9165",
   "metadata": {},
   "outputs": [],
   "source": [
    "from collections import defaultdict"
   ]
  },
  {
   "cell_type": "code",
   "execution_count": 306,
   "id": "e81a47d4-d3d4-4f39-a7a9-daf49e32c58a",
   "metadata": {},
   "outputs": [],
   "source": [
    "go_to_gene = defaultdict(list)\n",
    "\n",
    "for gene, go in ns2assoc['BP'].items():\n",
    "    if gene in id_to_symbol:\n",
    "        gene_symbol = id_to_symbol[gene]\n",
    "    else:\n",
    "        continue\n",
    "    \n",
    "    for g in go:\n",
    "        go_to_gene[g].append(gene_symbol)\n",
    "        \n",
    "# write this to a file\n",
    "with open('data/cwas-results/go-gene-sets/goatools-gene-sets.txt', 'w') as out:\n",
    "    for key in sorted(go_to_gene):\n",
    "        val = go_to_gene[key]\n",
    "        out.write(key + '\\t' + '\\t'.join(val) + '\\n')"
   ]
  },
  {
   "cell_type": "code",
   "execution_count": 307,
   "id": "1480427d-b3ef-4dee-b1c3-2be3c54d6ddb",
   "metadata": {},
   "outputs": [],
   "source": [
    "go_terms['num_genes_goat'] = [len(go_to_gene[g]) for g in go_terms['go'].tolist()]"
   ]
  },
  {
   "cell_type": "code",
   "execution_count": 309,
   "id": "b65a5ca1-3fa0-45a5-a7ed-544aa76e2184",
   "metadata": {},
   "outputs": [
    {
     "data": {
      "text/html": [
       "<div>\n",
       "<style scoped>\n",
       "    .dataframe tbody tr th:only-of-type {\n",
       "        vertical-align: middle;\n",
       "    }\n",
       "\n",
       "    .dataframe tbody tr th {\n",
       "        vertical-align: top;\n",
       "    }\n",
       "\n",
       "    .dataframe thead th {\n",
       "        text-align: right;\n",
       "    }\n",
       "</style>\n",
       "<table border=\"1\" class=\"dataframe\">\n",
       "  <thead>\n",
       "    <tr style=\"text-align: right;\">\n",
       "      <th></th>\n",
       "      <th>go</th>\n",
       "      <th>label</th>\n",
       "      <th>num_genes_panther</th>\n",
       "      <th>level</th>\n",
       "      <th>depth</th>\n",
       "      <th>num_genes_goat</th>\n",
       "    </tr>\n",
       "  </thead>\n",
       "  <tbody>\n",
       "    <tr>\n",
       "      <th>0</th>\n",
       "      <td>GO:0000002</td>\n",
       "      <td>mitochondrial genome maintenance</td>\n",
       "      <td>26</td>\n",
       "      <td>6.0</td>\n",
       "      <td>6.0</td>\n",
       "      <td>11</td>\n",
       "    </tr>\n",
       "    <tr>\n",
       "      <th>1</th>\n",
       "      <td>GO:0000003</td>\n",
       "      <td>reproduction</td>\n",
       "      <td>1457</td>\n",
       "      <td>1.0</td>\n",
       "      <td>1.0</td>\n",
       "      <td>4</td>\n",
       "    </tr>\n",
       "  </tbody>\n",
       "</table>\n",
       "</div>"
      ],
      "text/plain": [
       "           go                             label  num_genes_panther  level  \\\n",
       "0  GO:0000002  mitochondrial genome maintenance                 26    6.0   \n",
       "1  GO:0000003                      reproduction               1457    1.0   \n",
       "\n",
       "   depth  num_genes_goat  \n",
       "0    6.0              11  \n",
       "1    1.0               4  "
      ]
     },
     "execution_count": 309,
     "metadata": {},
     "output_type": "execute_result"
    }
   ],
   "source": [
    "go_terms.head(2)"
   ]
  },
  {
   "cell_type": "markdown",
   "id": "f234f20a-73c6-4f3b-a816-57ba47f4fa34",
   "metadata": {},
   "source": [
    "## An example of goatools enrichment"
   ]
  },
  {
   "cell_type": "code",
   "execution_count": 310,
   "id": "534ed693-a20a-4e4d-aa01-9b2846ad56ee",
   "metadata": {},
   "outputs": [
    {
     "name": "stdout",
     "output_type": "stream",
     "text": [
      "\n",
      "Load BP Ontology Enrichment Analysis ...\n",
      " 81% 16,927 of 20,913 population items found in association\n",
      "\n",
      "Load CC Ontology Enrichment Analysis ...\n",
      " 86% 18,011 of 20,913 population items found in association\n",
      "\n",
      "Load MF Ontology Enrichment Analysis ...\n",
      " 84% 17,511 of 20,913 population items found in association\n"
     ]
    }
   ],
   "source": [
    "from goatools.goea.go_enrichment_ns import GOEnrichmentStudyNS\n",
    "\n",
    "goeaobj = GOEnrichmentStudyNS(\n",
    "        GeneID2nt_hs.keys(), # List of mouse protein-coding genes\n",
    "        ns2assoc, # geneid/GO associations\n",
    "        obodag, # Ontologies\n",
    "        propagate_counts = False,\n",
    "        alpha = 0.05, # default significance cut-off\n",
    "        methods = ['fdr_bh']) # defult multipletest correction method"
   ]
  },
  {
   "cell_type": "code",
   "execution_count": 319,
   "id": "54dd5aa7-2892-4c52-8084-df095ee6735d",
   "metadata": {},
   "outputs": [],
   "source": [
    "geneids_study = ['TP53', 'BRCA2', 'BRCA2', 'BRCA2', 'BRCA2', 'BRCA2', 'BRCA2', 'BRCA2', 'BRCA2', 'BRCA1', 'MSH6', 'MSH2', 'RAD51']\n",
    "geneids_study = [symbol_to_id[g] for g in geneids_study]"
   ]
  },
  {
   "cell_type": "code",
   "execution_count": 320,
   "id": "b8d2f7f4-4b7d-47aa-a812-c6ec97014bf9",
   "metadata": {},
   "outputs": [
    {
     "name": "stdout",
     "output_type": "stream",
     "text": [
      "\n",
      "Runing BP Ontology Analysis: current study set of 13 IDs.\n",
      "100%      6 of      6 study items found in association\n",
      " 46%      6 of     13 study items found in population(20913)\n",
      "Calculating 12,220 uncorrected p-values using fisher_scipy_stats\n",
      "  12,220 terms are associated with 16,927 of 20,913 population items\n",
      "     212 terms are associated with      6 of      6 study items\n",
      "  METHOD fdr_bh:\n",
      "      27 GO terms found significant (< 0.05=alpha) ( 27 enriched +   0 purified): statsmodels fdr_bh\n",
      "       6 study items associated with significant GO IDs (enriched)\n",
      "       0 study items associated with significant GO IDs (purified)\n",
      "\n",
      "Runing CC Ontology Analysis: current study set of 13 IDs.\n",
      "100%      6 of      6 study items found in association\n",
      " 46%      6 of     13 study items found in population(20913)\n",
      "Calculating 1,799 uncorrected p-values using fisher_scipy_stats\n",
      "   1,799 terms are associated with 18,011 of 20,913 population items\n",
      "      47 terms are associated with      6 of      6 study items\n",
      "  METHOD fdr_bh:\n",
      "       8 GO terms found significant (< 0.05=alpha) (  8 enriched +   0 purified): statsmodels fdr_bh\n",
      "       6 study items associated with significant GO IDs (enriched)\n",
      "       0 study items associated with significant GO IDs (purified)\n",
      "\n",
      "Runing MF Ontology Analysis: current study set of 13 IDs.\n",
      "100%      6 of      6 study items found in association\n",
      " 46%      6 of     13 study items found in population(20913)\n",
      "Calculating 4,600 uncorrected p-values using fisher_scipy_stats\n",
      "   4,600 terms are associated with 17,511 of 20,913 population items\n",
      "      68 terms are associated with      6 of      6 study items\n",
      "  METHOD fdr_bh:\n",
      "      15 GO terms found significant (< 0.05=alpha) ( 15 enriched +   0 purified): statsmodels fdr_bh\n",
      "       6 study items associated with significant GO IDs (enriched)\n",
      "       0 study items associated with significant GO IDs (purified)\n"
     ]
    }
   ],
   "source": [
    "# 'p_' means \"pvalue\". 'fdr_bh' is the multipletest method we are currently using.\n",
    "goea_results_all = goeaobj.run_study(geneids_study, prm)\n",
    "goea_results_sig = [r for r in goea_results_all if r.p_fdr_bh < 0.05]"
   ]
  },
  {
   "cell_type": "code",
   "execution_count": 321,
   "id": "d29a9580-a60e-4d6d-892f-6513a1340757",
   "metadata": {},
   "outputs": [],
   "source": [
    "results = []\n",
    "fields = goea_results_sig[0].get_prtflds_default()\n",
    "\n",
    "for res in goea_results_all:\n",
    "    values = res.get_field_values(fields)\n",
    "    results.append(values)\n",
    "    \n",
    "results = pd.DataFrame(results, columns = fields)"
   ]
  },
  {
   "cell_type": "code",
   "execution_count": 322,
   "id": "77dba6ef-7339-4e0f-a366-3e14e0e2ce97",
   "metadata": {},
   "outputs": [
    {
     "data": {
      "text/html": [
       "<div>\n",
       "<style scoped>\n",
       "    .dataframe tbody tr th:only-of-type {\n",
       "        vertical-align: middle;\n",
       "    }\n",
       "\n",
       "    .dataframe tbody tr th {\n",
       "        vertical-align: top;\n",
       "    }\n",
       "\n",
       "    .dataframe thead th {\n",
       "        text-align: right;\n",
       "    }\n",
       "</style>\n",
       "<table border=\"1\" class=\"dataframe\">\n",
       "  <thead>\n",
       "    <tr style=\"text-align: right;\">\n",
       "      <th></th>\n",
       "      <th>GO</th>\n",
       "      <th>NS</th>\n",
       "      <th>enrichment</th>\n",
       "      <th>name</th>\n",
       "      <th>ratio_in_study</th>\n",
       "      <th>ratio_in_pop</th>\n",
       "      <th>p_uncorrected</th>\n",
       "      <th>depth</th>\n",
       "      <th>study_count</th>\n",
       "      <th>p_fdr_bh</th>\n",
       "      <th>study_items</th>\n",
       "    </tr>\n",
       "  </thead>\n",
       "  <tbody>\n",
       "    <tr>\n",
       "      <th>0</th>\n",
       "      <td>GO:0071479</td>\n",
       "      <td>BP</td>\n",
       "      <td>e</td>\n",
       "      <td>cellular response to ionizing radiation</td>\n",
       "      <td>4/6</td>\n",
       "      <td>37/20913</td>\n",
       "      <td>1.240236e-10</td>\n",
       "      <td>6</td>\n",
       "      <td>4</td>\n",
       "      <td>0.000002</td>\n",
       "      <td>672, 675, 5888, 7157</td>\n",
       "    </tr>\n",
       "    <tr>\n",
       "      <th>1</th>\n",
       "      <td>GO:0006302</td>\n",
       "      <td>BP</td>\n",
       "      <td>e</td>\n",
       "      <td>double-strand break repair</td>\n",
       "      <td>4/6</td>\n",
       "      <td>74/20913</td>\n",
       "      <td>2.154600e-09</td>\n",
       "      <td>8</td>\n",
       "      <td>4</td>\n",
       "      <td>0.000013</td>\n",
       "      <td>672, 675, 4436, 7157</td>\n",
       "    </tr>\n",
       "  </tbody>\n",
       "</table>\n",
       "</div>"
      ],
      "text/plain": [
       "           GO  NS enrichment                                     name  \\\n",
       "0  GO:0071479  BP          e  cellular response to ionizing radiation   \n",
       "1  GO:0006302  BP          e               double-strand break repair   \n",
       "\n",
       "  ratio_in_study ratio_in_pop  p_uncorrected  depth  study_count  p_fdr_bh  \\\n",
       "0            4/6     37/20913   1.240236e-10      6            4  0.000002   \n",
       "1            4/6     74/20913   2.154600e-09      8            4  0.000013   \n",
       "\n",
       "            study_items  \n",
       "0  672, 675, 5888, 7157  \n",
       "1  672, 675, 4436, 7157  "
      ]
     },
     "execution_count": 322,
     "metadata": {},
     "output_type": "execute_result"
    }
   ],
   "source": [
    "results.query('p_fdr_bh < 0.05').head(2)"
   ]
  },
  {
   "cell_type": "markdown",
   "id": "80dc8be2-576d-4ab4-88c5-7e58cf95edca",
   "metadata": {},
   "source": [
    "# Directly interrogate GO"
   ]
  },
  {
   "cell_type": "code",
   "execution_count": 323,
   "id": "a5e382f4-a587-4404-b36a-564a50ac3f1e",
   "metadata": {},
   "outputs": [],
   "source": [
    "from io import StringIO"
   ]
  },
  {
   "cell_type": "code",
   "execution_count": 385,
   "id": "7dde0c25-6673-4bd9-8c13-eb2ef528fb89",
   "metadata": {},
   "outputs": [],
   "source": [
    "def format_go_url(go_term, label=None):\n",
    "    \n",
    "    if label:\n",
    "        class_label = quote(label)\n",
    "        url = f\"\"\"https://golr-aux.geneontology.io/solr/select?defType=edismax&qt=standard&indent=on&wt=csv&rows=100000&start=0&fl=bioentity_label&facet=true&facet.mincount=1&facet.sort=count&json.nl=arrarr&facet.limit=25&hl=true&hl.simple.pre=%3Cem%20class=%22hilite%22%3E&hl.snippets=1000&csv.encapsulator=&csv.separator=%09&csv.header=false&csv.mv.separator=%7C&fq=document_category:%22annotation%22&fq=isa_partof_closure:%22{go_term}%22&fq=taxon_subset_closure_label:%22Homo%20sapiens%22&fq=annotation_class_label:%22{class_label}%22&facet.field=aspect&facet.field=taxon_subset_closure_label&facet.field=type&facet.field=evidence_subset_closure_label&facet.field=regulates_closure_label&facet.field=isa_partof_closure_label&facet.field=annotation_class_label&facet.field=qualifier&facet.field=annotation_extension_class_closure_label&facet.field=assigned_by&facet.field=panther_family_label&q=*:*\"\"\"\n",
    "        \n",
    "    else:\n",
    "        url = f\"\"\"https://golr-aux.geneontology.io/solr/select?defType=edismax&qt=standard&indent=on&wt=csv&rows=100000&start=0&fl=bioentity_label&facet=true&facet.mincount=1&facet.sort=count&json.nl=arrarr&facet.limit=25&hl=true&hl.simple.pre=%3Cem%20class=%22hilite%22%3E&hl.snippets=1000&csv.encapsulator=&csv.separator=%09&csv.header=false&csv.mv.separator=%7C&fq=document_category:%22annotation%22&fq=isa_partof_closure:%22{go_term}%22&fq=taxon_subset_closure_label:%22Homo%20sapiens%22&facet.field=aspect&facet.field=taxon_subset_closure_label&facet.field=type&facet.field=evidence_subset_closure_label&facet.field=regulates_closure_label&facet.field=isa_partof_closure_label&facet.field=annotation_class_label&facet.field=qualifier&facet.field=annotation_extension_class_closure_label&facet.field=assigned_by&facet.field=panther_family_label&q=*:*\"\"\"\n",
    "        \n",
    "    return url"
   ]
  },
  {
   "cell_type": "markdown",
   "id": "41152b49-d957-4429-b0f8-85cab03413d8",
   "metadata": {},
   "source": [
    "We can see that providing a class label substantially decreases the number of genes provided, since it does not include child nodes."
   ]
  },
  {
   "cell_type": "code",
   "execution_count": 387,
   "id": "1ed1ff1a-e603-4220-9c79-1bf0d69ea3f8",
   "metadata": {},
   "outputs": [
    {
     "name": "stdout",
     "output_type": "stream",
     "text": [
      "['LEF1', 'ANXA2', 'HEY1', 'CX3CR1', 'HES6', 'BMAL1', 'ASCL1', 'DOCK7', 'ASCL2', 'YAP1', 'IL1B', 'CTNNB1', 'CTNNB1', 'HLTF', 'HES1', 'YTHDF2', 'YTHDF2', 'HES2', 'HEY2', 'HELT', 'BHLHE40', 'CHD7', 'FEZF2', 'S100A10', 'DLL1', 'CX3CL1', 'PRUNE1', 'HES3', 'HES5', 'HES5', 'HMGB2', 'HMGB2', 'FERD3L', 'HOXB3', 'HES7', 'WNT3', 'BHLHE41', 'FEZF1', 'DLL4', 'HEYL', 'PER2', 'FXR1', 'POU4F1']\n",
      "43\n"
     ]
    }
   ],
   "source": [
    "# an example\n",
    "url = format_go_url(\"GO:0050767\", 'regulation of neurogenesis')\n",
    "response = requests.get(url)\n",
    "\n",
    "genes = response.text.split('\\n')[:-1]\n",
    "print(genes)\n",
    "print(len(genes))"
   ]
  },
  {
   "cell_type": "code",
   "execution_count": 388,
   "id": "41155f50-1075-444f-8db9-a2ef99efa011",
   "metadata": {},
   "outputs": [
    {
     "name": "stdout",
     "output_type": "stream",
     "text": [
      "500\n"
     ]
    }
   ],
   "source": [
    "# an example\n",
    "url = format_go_url(\"GO:0050767\")\n",
    "response = requests.get(url)\n",
    "\n",
    "genes = response.text.split('\\n')[:-1]\n",
    "print(len(genes))"
   ]
  },
  {
   "cell_type": "code",
   "execution_count": 390,
   "id": "273ccc45-8456-41f3-87b6-6fbf732b5b04",
   "metadata": {},
   "outputs": [
    {
     "name": "stdout",
     "output_type": "stream",
     "text": [
      "0, 100, 200, 300, 400, 500, 600, 700, 800, 900, 1000, 1100, 1200, 1300, 1400, 1500, 1600, 1700, 1800, 1900, 2000, 2100, 2200, 2300, 2400, 2500, 2600, 2700, 2800, 2900, 3000, 3100, 3200, 3300, 3400, 3500, 3600, 3700, 3800, 3900, 4000, 4100, 4200, 4300, 4400, 4500, 4600, 4700, 4800, 4900, 5000, 5100, 5200, 5300, 5400, 5500, 5600, 5700, 5800, 5900, 6000, 6100, 6200, 6300, 6400, 6500, 6600, 6700, 6800, 6900, 7000, 7100, 7200, 7300, 7400, 7500, 7600, 7700, 7800, 7900, 8000, 8100, 8200, 8300, 8400, 8500, 8600, 8700, 8800, 8900, 9000, 9100, 9200, 9300, 9400, 9500, 9600, 9700, 9800, 9900, 10000, 10100, 10200, 10300, 10400, 10500, 10600, 10700, 10800, 10900, 11000, 11100, 11200, 11300, 11400, 11500, 11600, 11700, 11800, 11900, 12000, 12100, 12200, 12300, 12400, 12500, 12600, 12700, 12800, 12900, 13000, 13100, 13200, 13300, 13400, 13500, 13600, 13700, 13800, 13900, 14000, 14100, 14200, 14300, 14400, 14500, 14600, 14700, 14800, 14900, 15000, 15100, 15200, 15300, 15400, 15500, "
     ]
    }
   ],
   "source": [
    "# actually run the damn thing\n",
    "for index, row in go_terms.reset_index(drop = True).iterrows():\n",
    "\n",
    "    if index % 100 == 0:\n",
    "        print(index, end = ', ')\n",
    "\n",
    "    go = row['go']\n",
    "    go_id = go.split(':')[1]\n",
    "    label = row['label']\n",
    "    \n",
    "    url_class = format_go_url(go, label)\n",
    "    url_full = format_go_url(go)\n",
    "    \n",
    "    for url, data in zip([url_class, url_full], ['class', 'full']):\n",
    "        if data == 'class':\n",
    "            continue\n",
    "        try:\n",
    "            response = requests.get(url)\n",
    "            genes = response.text.split('\\n')[:-1]\n",
    "\n",
    "            out = '\\t'.join([go, label] + genes)\n",
    "\n",
    "        except:\n",
    "            print(f'failed {data} for {go}')\n",
    "            out = 'error'\n",
    "    \n",
    "        with open(f'data/cwas-results/go-gene-sets/go-api/{go_id}-{data}.txt', 'w') as outfile:\n",
    "            outfile.write(out)"
   ]
  },
  {
   "cell_type": "code",
   "execution_count": 391,
   "id": "2f17656d-7611-4498-8d4f-1aac3d985962",
   "metadata": {},
   "outputs": [],
   "source": [
    "import glob"
   ]
  },
  {
   "cell_type": "code",
   "execution_count": 392,
   "id": "2c1ad95e-d166-4460-a8a1-9d2bdd05908c",
   "metadata": {},
   "outputs": [],
   "source": [
    "lines = []\n",
    "for file in glob.glob('data/cwas-results/go-gene-sets/go-api/*-full.txt'):\n",
    "    gs = [line.split('\\t') for line in open(file).readlines()]\n",
    "    lines += gs\n",
    "\n",
    "with open('data/cwas-results/go-gene-sets/go-api-gene-sets-full.txt', 'w') as out:\n",
    "    for l in lines:\n",
    "        out.write('\\t'.join(l) + '\\n')"
   ]
  },
  {
   "cell_type": "code",
   "execution_count": 410,
   "id": "17c7c0fc-2f1d-4739-b05d-d68968630ea8",
   "metadata": {},
   "outputs": [],
   "source": [
    "short = pd.DataFrame([(l.split('\\t')[0], l.split('\\t')[1], l.strip().split('\\t')[2:]) for l in open('data/cwas-results/go-gene-sets/go-api-gene-sets.txt').readlines()],\n",
    "              columns = ['go', 'label', 'genes'])\n",
    "\n",
    "full = pd.DataFrame([(l.split('\\t')[0], l.split('\\t')[1], l.strip().split('\\t')[2:]) for l in open('data/cwas-results/go-gene-sets/go-api-gene-sets-full.txt').readlines()],\n",
    "              columns = ['go', 'label', 'genes'])"
   ]
  },
  {
   "cell_type": "code",
   "execution_count": 411,
   "id": "57b049d0-5327-4676-9fcc-9894671c4c8d",
   "metadata": {},
   "outputs": [],
   "source": [
    "go_output = short.merge(full, on = ['go', 'label'], suffixes = ['_specific', '_full'])\n",
    "go_output['genes_specific'] = go_output['genes_specific'].apply(lambda s: ','.join(s))\n",
    "go_output['genes_full'] = go_output['genes_full'].apply(lambda s: ','.join(s))\n",
    "\n",
    "go_output = go_output.merge(go_terms, on = ['go', 'label'], how = 'left')"
   ]
  },
  {
   "cell_type": "code",
   "execution_count": 412,
   "id": "fba62d1d-2261-4ad1-a85d-0a715f579ad6",
   "metadata": {},
   "outputs": [
    {
     "data": {
      "text/html": [
       "<div>\n",
       "<style scoped>\n",
       "    .dataframe tbody tr th:only-of-type {\n",
       "        vertical-align: middle;\n",
       "    }\n",
       "\n",
       "    .dataframe tbody tr th {\n",
       "        vertical-align: top;\n",
       "    }\n",
       "\n",
       "    .dataframe thead th {\n",
       "        text-align: right;\n",
       "    }\n",
       "</style>\n",
       "<table border=\"1\" class=\"dataframe\">\n",
       "  <thead>\n",
       "    <tr style=\"text-align: right;\">\n",
       "      <th></th>\n",
       "      <th>go</th>\n",
       "      <th>label</th>\n",
       "      <th>genes_specific</th>\n",
       "      <th>genes_full</th>\n",
       "      <th>num_genes_panther</th>\n",
       "      <th>level</th>\n",
       "      <th>depth</th>\n",
       "      <th>num_genes_goat</th>\n",
       "    </tr>\n",
       "  </thead>\n",
       "  <tbody>\n",
       "    <tr>\n",
       "      <th>0</th>\n",
       "      <td>GO:0043012</td>\n",
       "      <td>regulation of fusion of sperm to egg plasma me...</td>\n",
       "      <td>NOX5</td>\n",
       "      <td>NOX5</td>\n",
       "      <td>1.0</td>\n",
       "      <td>4.0</td>\n",
       "      <td>6.0</td>\n",
       "      <td>1.0</td>\n",
       "    </tr>\n",
       "    <tr>\n",
       "      <th>1</th>\n",
       "      <td>GO:0002728</td>\n",
       "      <td>negative regulation of natural killer cell cyt...</td>\n",
       "      <td>HLA-F,CD96</td>\n",
       "      <td>HLA-F,CD96</td>\n",
       "      <td>2.0</td>\n",
       "      <td>7.0</td>\n",
       "      <td>11.0</td>\n",
       "      <td>2.0</td>\n",
       "    </tr>\n",
       "  </tbody>\n",
       "</table>\n",
       "</div>"
      ],
      "text/plain": [
       "           go                                              label  \\\n",
       "0  GO:0043012  regulation of fusion of sperm to egg plasma me...   \n",
       "1  GO:0002728  negative regulation of natural killer cell cyt...   \n",
       "\n",
       "  genes_specific  genes_full  num_genes_panther  level  depth  num_genes_goat  \n",
       "0           NOX5        NOX5                1.0    4.0    6.0             1.0  \n",
       "1     HLA-F,CD96  HLA-F,CD96                2.0    7.0   11.0             2.0  "
      ]
     },
     "execution_count": 412,
     "metadata": {},
     "output_type": "execute_result"
    }
   ],
   "source": [
    "go_output.head(2)"
   ]
  },
  {
   "cell_type": "code",
   "execution_count": 413,
   "id": "3c1ff4ab-f8f7-44df-afc7-cf1fcc8253d4",
   "metadata": {},
   "outputs": [],
   "source": [
    "go_output.to_csv('data/cwas-results/go-gene-sets/full-go-gene-set.txt', sep ='\\t', index = False)"
   ]
  },
  {
   "cell_type": "code",
   "execution_count": 407,
   "id": "b0e483a2-de10-46d9-80e6-55f31fddbadd",
   "metadata": {},
   "outputs": [
    {
     "data": {
      "text/html": [
       "<div>\n",
       "<style scoped>\n",
       "    .dataframe tbody tr th:only-of-type {\n",
       "        vertical-align: middle;\n",
       "    }\n",
       "\n",
       "    .dataframe tbody tr th {\n",
       "        vertical-align: top;\n",
       "    }\n",
       "\n",
       "    .dataframe thead th {\n",
       "        text-align: right;\n",
       "    }\n",
       "</style>\n",
       "<table border=\"1\" class=\"dataframe\">\n",
       "  <thead>\n",
       "    <tr style=\"text-align: right;\">\n",
       "      <th></th>\n",
       "      <th>go</th>\n",
       "      <th>label</th>\n",
       "      <th>genes_specific</th>\n",
       "      <th>genes_full</th>\n",
       "    </tr>\n",
       "  </thead>\n",
       "  <tbody>\n",
       "    <tr>\n",
       "      <th>4004</th>\n",
       "      <td>GO:0050768</td>\n",
       "      <td>negative regulation of neurogenesis</td>\n",
       "      <td>CCL11,TNF,PCM1,IL1B,WNT7A,IL6,TRIM11,DNAJB11,A...</td>\n",
       "      <td>URS0000424278_9606,CDKN2B,SEMA6D,SEMA4F,SPP1,N...</td>\n",
       "    </tr>\n",
       "    <tr>\n",
       "      <th>4746</th>\n",
       "      <td>GO:0050769</td>\n",
       "      <td>positive regulation of neurogenesis</td>\n",
       "      <td>XRCC2,CX3CR1,RGS14,KHDC3L,NUMBL,NUMBL,NUMB,NUM...</td>\n",
       "      <td>ANAPC2,ANAPC2,XRCC2,MYRF,METRN,TRPV2,MTOR,IL33...</td>\n",
       "    </tr>\n",
       "    <tr>\n",
       "      <th>8676</th>\n",
       "      <td>GO:0050767</td>\n",
       "      <td>regulation of neurogenesis</td>\n",
       "      <td>LEF1,ANXA2,HEY1,CX3CR1,HES6,BMAL1,ASCL1,DOCK7,...</td>\n",
       "      <td>URS0000424278_9606,ANAPC2,ANAPC2,LEF1,ANXA2,XR...</td>\n",
       "    </tr>\n",
       "    <tr>\n",
       "      <th>10735</th>\n",
       "      <td>GO:0022008</td>\n",
       "      <td>neurogenesis</td>\n",
       "      <td>XRCC2,WDR62,PCSK1,RARB,EGFR,CLN5,NDUFS2,NUP133...</td>\n",
       "      <td>PTK2,SSNA1,SSNA1,SSNA1,SSNA1,CDH23,P2RY12,DAB2...</td>\n",
       "    </tr>\n",
       "  </tbody>\n",
       "</table>\n",
       "</div>"
      ],
      "text/plain": [
       "               go                                label  \\\n",
       "4004   GO:0050768  negative regulation of neurogenesis   \n",
       "4746   GO:0050769  positive regulation of neurogenesis   \n",
       "8676   GO:0050767           regulation of neurogenesis   \n",
       "10735  GO:0022008                         neurogenesis   \n",
       "\n",
       "                                          genes_specific  \\\n",
       "4004   CCL11,TNF,PCM1,IL1B,WNT7A,IL6,TRIM11,DNAJB11,A...   \n",
       "4746   XRCC2,CX3CR1,RGS14,KHDC3L,NUMBL,NUMBL,NUMB,NUM...   \n",
       "8676   LEF1,ANXA2,HEY1,CX3CR1,HES6,BMAL1,ASCL1,DOCK7,...   \n",
       "10735  XRCC2,WDR62,PCSK1,RARB,EGFR,CLN5,NDUFS2,NUP133...   \n",
       "\n",
       "                                              genes_full  \n",
       "4004   URS0000424278_9606,CDKN2B,SEMA6D,SEMA4F,SPP1,N...  \n",
       "4746   ANAPC2,ANAPC2,XRCC2,MYRF,METRN,TRPV2,MTOR,IL33...  \n",
       "8676   URS0000424278_9606,ANAPC2,ANAPC2,LEF1,ANXA2,XR...  \n",
       "10735  PTK2,SSNA1,SSNA1,SSNA1,SSNA1,CDH23,P2RY12,DAB2...  "
      ]
     },
     "execution_count": 407,
     "metadata": {},
     "output_type": "execute_result"
    }
   ],
   "source": [
    "go_output[go_output['label'].str.contains('neurogenesis')]"
   ]
  },
  {
   "cell_type": "code",
   "execution_count": null,
   "id": "7a7317cf-8ded-42b6-86ae-007820854c5b",
   "metadata": {},
   "outputs": [],
   "source": []
  }
 ],
 "metadata": {
  "kernelspec": {
   "display_name": "Python 3 (ipykernel)",
   "language": "python",
   "name": "python3"
  },
  "language_info": {
   "codemirror_mode": {
    "name": "ipython",
    "version": 3
   },
   "file_extension": ".py",
   "mimetype": "text/x-python",
   "name": "python",
   "nbconvert_exporter": "python",
   "pygments_lexer": "ipython3",
   "version": "3.9.12"
  }
 },
 "nbformat": 4,
 "nbformat_minor": 5
}
