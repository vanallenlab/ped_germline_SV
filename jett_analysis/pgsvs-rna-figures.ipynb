{
 "cells": [
  {
   "cell_type": "code",
   "execution_count": 1,
   "id": "4804254d-b6e3-4eaf-bd90-0d2a1951d547",
   "metadata": {},
   "outputs": [],
   "source": [
    "import gseapy as gp\n",
    "import pandas as pd\n",
    "import numpy as np\n",
    "import scipy.stats as stats\n",
    "import glob\n",
    "from biomart import BiomartServer\n",
    "import matplotlib.pyplot as plt\n",
    "import matplotlib\n",
    "import seaborn as sns\n",
    "import gseapy as gp\n",
    "import os\n",
    "from collections import defaultdict\n",
    "\n",
    "from sklearn import decomposition\n",
    "from sklearn import preprocessing\n",
    "\n",
    "from scripts import aesthetics\n",
    "\n",
    "aesthetics.activate_paper_rcParams('illustrator')\n",
    "\n",
    "from scripts import manuscript_colors as mc\n",
    "\n",
    "pd.set_option(\"display.max_columns\", 1000)"
   ]
  },
  {
   "cell_type": "markdown",
   "id": "00d907e6-14f3-428e-9bb1-1d5351bb7951",
   "metadata": {},
   "source": [
    "# RNA Figure Making \n",
    "\n",
    "Similar to other contexts, the RNA analysis workbook was getting far too complicated. I'm going to make the RNA figures here."
   ]
  },
  {
   "cell_type": "code",
   "execution_count": 2,
   "id": "13b1dad0-09e0-4170-9fd6-5ace4eaf1685",
   "metadata": {},
   "outputs": [],
   "source": [
    "rna_data = pd.read_csv('data/gmkf_neuroblastoma_tpms.csv', index_col = 0)\n",
    "dosages = pd.read_csv(f'data/gmkf_neuroblastoma_tpms-dosages-for-sv-rna-analysis.csv').iloc[:, 3:].set_index(\"ID\")"
   ]
  },
  {
   "cell_type": "code",
   "execution_count": 3,
   "id": "416aa9b2-820c-4092-836f-1b5479640c09",
   "metadata": {},
   "outputs": [
    {
     "name": "stderr",
     "output_type": "stream",
     "text": [
      "/Users/jettcrowdis/opt/anaconda3/envs/pediatric-germline-svs-3.7.13/lib/python3.7/site-packages/IPython/core/interactiveshell.py:3457: DtypeWarning: Columns (34,35,37,39,41,45,47,72,73,87,88,106,107,121,122,136,137,155,156,170,171,185,186,204,205,219,220,234,235,253,254,268,269,283,284,302,303,366,367,381,382,400,401,415,416,430,431,449,450,464,465,479,480,498,499,513,514,528,529,547,548,562,563,577,578,596,597,645,646,647,648,649,650,690,691,692,693,694,695,713,714,728,729,743,744,758,759,773,774,788,789,803,804,818,819,833,834,848,849,863,864,878,879,893,894,908,909,923,924,931,937,943) have mixed types.Specify dtype option on import or set low_memory=False.\n",
      "  exec(code_obj, self.user_global_ns, self.user_ns)\n"
     ]
    }
   ],
   "source": [
    "analysis_svs = pd.read_csv('data/svs-for-sv-rna-analysis.csv')\n",
    "\n",
    "# and our actual results\n",
    "sv_rna_results = pd.read_csv('data/sv-expression-results/sv-gene-rna-results-all-cohorts-all-analyses.csv')\n",
    "\n",
    "sv_rna_results = sv_rna_results.query('cohort == \"gmkf_neuroblastoma_tpms\"')"
   ]
  },
  {
   "cell_type": "code",
   "execution_count": 4,
   "id": "6ea41ae2-9375-445e-b9eb-323156fb0fb2",
   "metadata": {},
   "outputs": [
    {
     "data": {
      "text/html": [
       "<div>\n",
       "<style scoped>\n",
       "    .dataframe tbody tr th:only-of-type {\n",
       "        vertical-align: middle;\n",
       "    }\n",
       "\n",
       "    .dataframe tbody tr th {\n",
       "        vertical-align: top;\n",
       "    }\n",
       "\n",
       "    .dataframe thead th {\n",
       "        text-align: right;\n",
       "    }\n",
       "</style>\n",
       "<table border=\"1\" class=\"dataframe\">\n",
       "  <thead>\n",
       "    <tr style=\"text-align: right;\">\n",
       "      <th></th>\n",
       "      <th>name</th>\n",
       "      <th>sv_effect</th>\n",
       "      <th>genic_relationship</th>\n",
       "      <th>gene</th>\n",
       "      <th>sv_coding_counts</th>\n",
       "      <th>sv_noncoding_counts</th>\n",
       "      <th>sv_unimportant_coding_counts</th>\n",
       "      <th>#chrom</th>\n",
       "      <th>start</th>\n",
       "      <th>end</th>\n",
       "      <th>svtype</th>\n",
       "      <th>distance</th>\n",
       "      <th>cohort</th>\n",
       "      <th>cohort_af</th>\n",
       "      <th>average_cn</th>\n",
       "      <th>mean_exp</th>\n",
       "      <th>num_rna_genotyped</th>\n",
       "      <th>num_greater_0_dosage</th>\n",
       "      <th>mean_greater_0_dosage_rank</th>\n",
       "      <th>mean_greater_0_exp</th>\n",
       "      <th>mean_leq_0_exp</th>\n",
       "      <th>mwu_p</th>\n",
       "    </tr>\n",
       "  </thead>\n",
       "  <tbody>\n",
       "    <tr>\n",
       "      <th>23078</th>\n",
       "      <td>PedSV.2.5.2_CNV_chr1_6</td>\n",
       "      <td>noncoding</td>\n",
       "      <td>PREDICTED_NEAREST_TSS</td>\n",
       "      <td>OR4F29</td>\n",
       "      <td>0.0</td>\n",
       "      <td>1.0</td>\n",
       "      <td>0.0</td>\n",
       "      <td>chr1</td>\n",
       "      <td>257666</td>\n",
       "      <td>262901</td>\n",
       "      <td>CNV</td>\n",
       "      <td>187839.0</td>\n",
       "      <td>gmkf_neuroblastoma_tpms</td>\n",
       "      <td>NaN</td>\n",
       "      <td>0.224638</td>\n",
       "      <td>0.266629</td>\n",
       "      <td>89</td>\n",
       "      <td>15</td>\n",
       "      <td>0.492045</td>\n",
       "      <td>0.247333</td>\n",
       "      <td>0.270541</td>\n",
       "      <td>0.912668</td>\n",
       "    </tr>\n",
       "    <tr>\n",
       "      <th>23079</th>\n",
       "      <td>PedSV.2.5.2_CNV_chr1_7</td>\n",
       "      <td>noncoding</td>\n",
       "      <td>PREDICTED_NEAREST_TSS</td>\n",
       "      <td>OR4F29</td>\n",
       "      <td>0.0</td>\n",
       "      <td>1.0</td>\n",
       "      <td>0.0</td>\n",
       "      <td>chr1</td>\n",
       "      <td>262333</td>\n",
       "      <td>288667</td>\n",
       "      <td>CNV</td>\n",
       "      <td>162073.0</td>\n",
       "      <td>gmkf_neuroblastoma_tpms</td>\n",
       "      <td>NaN</td>\n",
       "      <td>0.862319</td>\n",
       "      <td>0.266629</td>\n",
       "      <td>89</td>\n",
       "      <td>62</td>\n",
       "      <td>0.489736</td>\n",
       "      <td>0.255484</td>\n",
       "      <td>0.292222</td>\n",
       "      <td>0.620135</td>\n",
       "    </tr>\n",
       "  </tbody>\n",
       "</table>\n",
       "</div>"
      ],
      "text/plain": [
       "                         name  sv_effect     genic_relationship    gene  \\\n",
       "23078  PedSV.2.5.2_CNV_chr1_6  noncoding  PREDICTED_NEAREST_TSS  OR4F29   \n",
       "23079  PedSV.2.5.2_CNV_chr1_7  noncoding  PREDICTED_NEAREST_TSS  OR4F29   \n",
       "\n",
       "       sv_coding_counts  sv_noncoding_counts  sv_unimportant_coding_counts  \\\n",
       "23078               0.0                  1.0                           0.0   \n",
       "23079               0.0                  1.0                           0.0   \n",
       "\n",
       "      #chrom   start     end svtype  distance                   cohort  \\\n",
       "23078   chr1  257666  262901    CNV  187839.0  gmkf_neuroblastoma_tpms   \n",
       "23079   chr1  262333  288667    CNV  162073.0  gmkf_neuroblastoma_tpms   \n",
       "\n",
       "       cohort_af  average_cn  mean_exp  num_rna_genotyped  \\\n",
       "23078        NaN    0.224638  0.266629                 89   \n",
       "23079        NaN    0.862319  0.266629                 89   \n",
       "\n",
       "       num_greater_0_dosage  mean_greater_0_dosage_rank  mean_greater_0_exp  \\\n",
       "23078                    15                    0.492045            0.247333   \n",
       "23079                    62                    0.489736            0.255484   \n",
       "\n",
       "       mean_leq_0_exp     mwu_p  \n",
       "23078        0.270541  0.912668  \n",
       "23079        0.292222  0.620135  "
      ]
     },
     "execution_count": 4,
     "metadata": {},
     "output_type": "execute_result"
    }
   ],
   "source": [
    "sv_rna_results.head(2)"
   ]
  },
  {
   "cell_type": "markdown",
   "id": "6dd1a4a4-bd28-4d62-826d-dec95383ec65",
   "metadata": {},
   "source": [
    "# Load categories"
   ]
  },
  {
   "cell_type": "code",
   "execution_count": 5,
   "id": "9c739e6c-1e25-46a5-9835-c4454c891de0",
   "metadata": {
    "tags": []
   },
   "outputs": [
    {
     "data": {
      "text/html": [
       "<div>\n",
       "<style scoped>\n",
       "    .dataframe tbody tr th:only-of-type {\n",
       "        vertical-align: middle;\n",
       "    }\n",
       "\n",
       "    .dataframe tbody tr th {\n",
       "        vertical-align: top;\n",
       "    }\n",
       "\n",
       "    .dataframe thead th {\n",
       "        text-align: right;\n",
       "    }\n",
       "</style>\n",
       "<table border=\"1\" class=\"dataframe\">\n",
       "  <thead>\n",
       "    <tr style=\"text-align: right;\">\n",
       "      <th></th>\n",
       "      <th>SV</th>\n",
       "      <th>chrom</th>\n",
       "      <th>start</th>\n",
       "      <th>end</th>\n",
       "      <th>category</th>\n",
       "      <th>disease</th>\n",
       "      <th>sv_category</th>\n",
       "    </tr>\n",
       "  </thead>\n",
       "  <tbody>\n",
       "    <tr>\n",
       "      <th>0</th>\n",
       "      <td>PedSV.2.5.2_DUP_chr1_455</td>\n",
       "      <td>chr1</td>\n",
       "      <td>6720524</td>\n",
       "      <td>6722070</td>\n",
       "      <td>DUP.RARE.PREDICTED_NONCODING_BREAKPOINT.ewing_...</td>\n",
       "      <td>ewing</td>\n",
       "      <td>noncoding</td>\n",
       "    </tr>\n",
       "    <tr>\n",
       "      <th>1</th>\n",
       "      <td>PedSV.2.5.2_DUP_chr1_898</td>\n",
       "      <td>chr1</td>\n",
       "      <td>23649481</td>\n",
       "      <td>23651544</td>\n",
       "      <td>DUP.RARE.PREDICTED_NONCODING_BREAKPOINT.ewing_...</td>\n",
       "      <td>ewing</td>\n",
       "      <td>noncoding</td>\n",
       "    </tr>\n",
       "  </tbody>\n",
       "</table>\n",
       "</div>"
      ],
      "text/plain": [
       "                         SV chrom     start       end  \\\n",
       "0  PedSV.2.5.2_DUP_chr1_455  chr1   6720524   6722070   \n",
       "1  PedSV.2.5.2_DUP_chr1_898  chr1  23649481  23651544   \n",
       "\n",
       "                                            category disease sv_category  \n",
       "0  DUP.RARE.PREDICTED_NONCODING_BREAKPOINT.ewing_...   ewing   noncoding  \n",
       "1  DUP.RARE.PREDICTED_NONCODING_BREAKPOINT.ewing_...   ewing   noncoding  "
      ]
     },
     "execution_count": 5,
     "metadata": {},
     "output_type": "execute_result"
    }
   ],
   "source": [
    "###########\n",
    "### SVs ###\n",
    "###########\n",
    "category_svs = []\n",
    "for file in glob.glob(\"data/CWAS data for Jett/List of variants by category/*.txt\"):\n",
    "    disease = file.split(\"/\")[-1].split(\"_\")[0]\n",
    "\n",
    "    if disease == \"osteosarcoma\":\n",
    "        continue\n",
    "\n",
    "    sv_category = \"noncoding\" if \"noncoding\" in file else \"coding\"\n",
    "\n",
    "    cat_svs = pd.read_csv(file, sep=\"\\t\").rename(columns={\"emd\": \"end\"})\n",
    "    cat_svs[[\"disease\", \"sv_category\"]] = [disease, sv_category]\n",
    "    category_svs.append(cat_svs)\n",
    "\n",
    "category_svs = pd.concat(category_svs)\n",
    "category_svs.head(2)"
   ]
  },
  {
   "cell_type": "code",
   "execution_count": 6,
   "id": "4e68c913-98e8-41f5-a33a-5540b551c2ca",
   "metadata": {},
   "outputs": [],
   "source": [
    "#########################\n",
    "### FRAMEWORK RESULTS ###\n",
    "#########################\n",
    "framework_results = []\n",
    "for file in glob.glob(\"data/CWAS data for Jett/CWAS sum stats/*.txt\"):\n",
    "    if \"12_26_23\" not in file:\n",
    "        continue\n",
    "\n",
    "    disease = file.split(\"/\")[-1].split(\"_\")[0]\n",
    "\n",
    "    if disease == \"osteosarcoma\":\n",
    "        continue\n",
    "\n",
    "    sv_category = \"noncoding\" if \"noncoding\" in file else \"coding\"\n",
    "    af_category = \"singleton\" if \"SINGLETON\" in file else \"rare\"\n",
    "\n",
    "    data = pd.read_csv(file, sep=\"\\t\")\n",
    "    data[[\"disease\", \"sv_category\", \"af_category\"]] = [\n",
    "        disease,\n",
    "        sv_category,\n",
    "        af_category,\n",
    "    ]\n",
    "    framework_results.append(data)\n",
    "\n",
    "framework_results = pd.concat(framework_results)"
   ]
  },
  {
   "cell_type": "code",
   "execution_count": 7,
   "id": "b791ae6e-2bb9-4e49-b978-6e774ddc0cb9",
   "metadata": {},
   "outputs": [],
   "source": [
    "num_tests = {\n",
    "    \"neuroblastoma-coding\": 279,\n",
    "    \"neuroblastoma-noncoding\": 940,\n",
    "    \"ewing-coding\": 267,\n",
    "    \"ewing-noncoding\": 916,\n",
    "}"
   ]
  },
  {
   "cell_type": "code",
   "execution_count": 8,
   "id": "cd2c6773-e974-432c-bc21-c10089b1802a",
   "metadata": {},
   "outputs": [],
   "source": [
    "framework_results[\"bonferroni_p\"] = framework_results.apply(\n",
    "    lambda row: row[\"p_value\"] * num_tests[row[\"disease\"] + \"-\" + row[\"sv_category\"]],\n",
    "    axis=1,\n",
    ")\n",
    "\n",
    "framework_results[\"bonferroni_significant\"] = framework_results[\"bonferroni_p\"] < 0.05"
   ]
  },
  {
   "cell_type": "code",
   "execution_count": 9,
   "id": "a5921e81-aa6f-4129-b43f-b5b085386702",
   "metadata": {},
   "outputs": [
    {
     "data": {
      "text/html": [
       "<div>\n",
       "<style scoped>\n",
       "    .dataframe tbody tr th:only-of-type {\n",
       "        vertical-align: middle;\n",
       "    }\n",
       "\n",
       "    .dataframe tbody tr th {\n",
       "        vertical-align: top;\n",
       "    }\n",
       "\n",
       "    .dataframe thead th {\n",
       "        text-align: right;\n",
       "    }\n",
       "</style>\n",
       "<table border=\"1\" class=\"dataframe\">\n",
       "  <thead>\n",
       "    <tr style=\"text-align: right;\">\n",
       "      <th></th>\n",
       "      <th>point_estimate</th>\n",
       "      <th>std_error</th>\n",
       "      <th>z_score</th>\n",
       "      <th>p_value</th>\n",
       "      <th>SV_counts_cases</th>\n",
       "      <th>SV_counts_cases_max</th>\n",
       "      <th>number_of_cases_with_zero_SVs</th>\n",
       "      <th>total_cases</th>\n",
       "      <th>SV_counts_controls</th>\n",
       "      <th>SV_counts_controls_max</th>\n",
       "      <th>number_of_controls_with_zero_SVs</th>\n",
       "      <th>total_controls</th>\n",
       "      <th>number_of_unique_SVs</th>\n",
       "      <th>category_name</th>\n",
       "      <th>sv_type</th>\n",
       "      <th>frequency</th>\n",
       "      <th>mean_SVs_per_case</th>\n",
       "      <th>mean_SVs_per_control</th>\n",
       "      <th>mean_SVs_total</th>\n",
       "      <th>negative_log10_p_value</th>\n",
       "      <th>disease</th>\n",
       "      <th>sv_category</th>\n",
       "      <th>af_category</th>\n",
       "      <th>bonferroni_p</th>\n",
       "      <th>bonferroni_significant</th>\n",
       "    </tr>\n",
       "  </thead>\n",
       "  <tbody>\n",
       "    <tr>\n",
       "      <th>0</th>\n",
       "      <td>0.175033</td>\n",
       "      <td>0.771178</td>\n",
       "      <td>0.226968</td>\n",
       "      <td>0.820448</td>\n",
       "      <td>2</td>\n",
       "      <td>1</td>\n",
       "      <td>644</td>\n",
       "      <td>646</td>\n",
       "      <td>12</td>\n",
       "      <td>1</td>\n",
       "      <td>4687</td>\n",
       "      <td>4699</td>\n",
       "      <td>20</td>\n",
       "      <td>DEL.SINGLETON.ANY.missense_constrained.ANY.sig...</td>\n",
       "      <td>DEL</td>\n",
       "      <td>SINGLETON</td>\n",
       "      <td>0.003096</td>\n",
       "      <td>0.002554</td>\n",
       "      <td>0.002619</td>\n",
       "      <td>0.085949</td>\n",
       "      <td>neuroblastoma</td>\n",
       "      <td>coding</td>\n",
       "      <td>singleton</td>\n",
       "      <td>228.905063</td>\n",
       "      <td>False</td>\n",
       "    </tr>\n",
       "    <tr>\n",
       "      <th>1</th>\n",
       "      <td>0.245302</td>\n",
       "      <td>0.150614</td>\n",
       "      <td>1.628679</td>\n",
       "      <td>0.103381</td>\n",
       "      <td>53</td>\n",
       "      <td>1</td>\n",
       "      <td>593</td>\n",
       "      <td>646</td>\n",
       "      <td>309</td>\n",
       "      <td>2</td>\n",
       "      <td>4403</td>\n",
       "      <td>4699</td>\n",
       "      <td>479</td>\n",
       "      <td>DEL.SINGLETON.ANY.unconstrained.expressed_in_a...</td>\n",
       "      <td>DEL</td>\n",
       "      <td>SINGLETON</td>\n",
       "      <td>0.082043</td>\n",
       "      <td>0.065759</td>\n",
       "      <td>0.067727</td>\n",
       "      <td>0.985559</td>\n",
       "      <td>neuroblastoma</td>\n",
       "      <td>coding</td>\n",
       "      <td>singleton</td>\n",
       "      <td>28.843295</td>\n",
       "      <td>False</td>\n",
       "    </tr>\n",
       "  </tbody>\n",
       "</table>\n",
       "</div>"
      ],
      "text/plain": [
       "   point_estimate  std_error   z_score   p_value  SV_counts_cases  \\\n",
       "0        0.175033   0.771178  0.226968  0.820448                2   \n",
       "1        0.245302   0.150614  1.628679  0.103381               53   \n",
       "\n",
       "   SV_counts_cases_max  number_of_cases_with_zero_SVs  total_cases  \\\n",
       "0                    1                            644          646   \n",
       "1                    1                            593          646   \n",
       "\n",
       "   SV_counts_controls  SV_counts_controls_max  \\\n",
       "0                  12                       1   \n",
       "1                 309                       2   \n",
       "\n",
       "   number_of_controls_with_zero_SVs  total_controls  number_of_unique_SVs  \\\n",
       "0                              4687            4699                    20   \n",
       "1                              4403            4699                   479   \n",
       "\n",
       "                                       category_name sv_type  frequency  \\\n",
       "0  DEL.SINGLETON.ANY.missense_constrained.ANY.sig...     DEL  SINGLETON   \n",
       "1  DEL.SINGLETON.ANY.unconstrained.expressed_in_a...     DEL  SINGLETON   \n",
       "\n",
       "   mean_SVs_per_case  mean_SVs_per_control  mean_SVs_total  \\\n",
       "0           0.003096              0.002554        0.002619   \n",
       "1           0.082043              0.065759        0.067727   \n",
       "\n",
       "   negative_log10_p_value        disease sv_category af_category  \\\n",
       "0                0.085949  neuroblastoma      coding   singleton   \n",
       "1                0.985559  neuroblastoma      coding   singleton   \n",
       "\n",
       "   bonferroni_p  bonferroni_significant  \n",
       "0    228.905063                   False  \n",
       "1     28.843295                   False  "
      ]
     },
     "execution_count": 9,
     "metadata": {},
     "output_type": "execute_result"
    }
   ],
   "source": [
    "framework_results.head(2)"
   ]
  },
  {
   "cell_type": "code",
   "execution_count": 10,
   "id": "3374ff59-51d8-460a-a20e-28f856a3738b",
   "metadata": {},
   "outputs": [
    {
     "data": {
      "text/plain": [
       "disease        sv_category\n",
       "ewing          coding          8\n",
       "neuroblastoma  coding          8\n",
       "               noncoding      28\n",
       "dtype: int64"
      ]
     },
     "execution_count": 10,
     "metadata": {},
     "output_type": "execute_result"
    }
   ],
   "source": [
    "framework_results.query('bonferroni_significant == True').groupby(['disease', 'sv_category']).size()"
   ]
  },
  {
   "cell_type": "code",
   "execution_count": 11,
   "id": "7bd85704-9082-4442-a0f4-4d8dbd4d234f",
   "metadata": {},
   "outputs": [],
   "source": [
    "framework_schema = defaultdict(dict)\n",
    "for file in glob.glob(\"data/CWAS data for Jett/CWAS frameworks/*.txt\"):\n",
    "    if \"osteosarcoma\" in file:\n",
    "        continue\n",
    "\n",
    "    disease = \"neuroblastoma\" if \"neuroblastoma\" in file else \"ewing\"\n",
    "    sv_category = \"noncoding\" if \"noncoding\" in file else \"coding\"\n",
    "\n",
    "    data = pd.read_csv(file, sep=\"\\t\")\n",
    "    framework_schema[disease][sv_category] = data"
   ]
  },
  {
   "cell_type": "markdown",
   "id": "591d7908-35ec-4cea-b034-352dbd986752",
   "metadata": {},
   "source": [
    "# Reproduce original findings"
   ]
  },
  {
   "cell_type": "code",
   "execution_count": 12,
   "id": "9c844b10-b5d1-419c-93e6-729ddbf7d239",
   "metadata": {},
   "outputs": [
    {
     "name": "stdout",
     "output_type": "stream",
     "text": [
      "cohort                   sv_effect         \n",
      "gmkf_neuroblastoma_tpms  noncoding             7940\n",
      "                         coding                 196\n",
      "                         unimportant_coding      37\n",
      "dtype: int64\n"
     ]
    }
   ],
   "source": [
    "# coding SVs can be important or unimportant\n",
    "noncoding_ss_sg_svs = sv_rna_results.query('sv_noncoding_counts == 1 & num_greater_0_dosage == 1 & sv_coding_counts == 0 & sv_unimportant_coding_counts == 0')\n",
    "coding_ss_sg_svs = sv_rna_results[((sv_rna_results['sv_coding_counts'] == 1) | (sv_rna_results['sv_unimportant_coding_counts'] == 1)) &\n",
    "                                  (sv_rna_results['sv_noncoding_counts'] == 0) &\n",
    "                                  (sv_rna_results['num_greater_0_dosage'] == 1)]\n",
    "\n",
    "# in cases where an SV has both an important and unimportant coding effect, keep the important\n",
    "coding_ss_sg_svs = coding_ss_sg_svs.sort_values(by = 'sv_effect').drop_duplicates(subset = ['name'])\n",
    "\n",
    "single_gene_sample_svs = pd.concat([coding_ss_sg_svs, noncoding_ss_sg_svs])\n",
    "\n",
    "\n",
    "print(single_gene_sample_svs[['cohort', 'sv_effect']].value_counts())"
   ]
  },
  {
   "cell_type": "code",
   "execution_count": 13,
   "id": "b216978e-13f6-440b-b026-33b87f00db4d",
   "metadata": {},
   "outputs": [
    {
     "name": "stdout",
     "output_type": "stream",
     "text": [
      "196 coding p = 0.02845786918254678 mean = 0.44837902972600807\n",
      "7940 noncoding p = 0.9998765039234522 mean = 0.502915461888094\n",
      "37 unimportant_coding p = 0.5558200082237269 mean = 0.5669891977877831\n"
     ]
    },
    {
     "data": {
      "image/png": "[encoded data removed]",
      "text/plain": [
       "<Figure size 300x100 with 2 Axes>"
      ]
     },
     "metadata": {},
     "output_type": "display_data"
    },
    {
     "data": {
      "image/png": "[encoded data removed]",
      "text/plain": [
       "<Figure size 300x100 with 2 Axes>"
      ]
     },
     "metadata": {},
     "output_type": "display_data"
    },
    {
     "data": {
      "image/png": "[encoded data removed]",
      "text/plain": [
       "<Figure size 300x100 with 2 Axes>"
      ]
     },
     "metadata": {},
     "output_type": "display_data"
    }
   ],
   "source": [
    "for sv_effect in ['coding', 'noncoding', 'unimportant_coding']:\n",
    "\n",
    "    ss_sg_svs = single_gene_sample_svs.query(f'sv_effect == \"{sv_effect}\"')\n",
    "    rank_deviation = np.abs(0.5 - ss_sg_svs['mean_greater_0_dosage_rank'])\n",
    "\n",
    "    fig, axes = plt.subplots(1, 2, figsize = (3, 1))\n",
    "    axes[0].hist(ss_sg_svs['mean_greater_0_dosage_rank'], \n",
    "                 bins = np.arange(0, 1.1, 0.1), density = True)\n",
    "    axes[0].axvline(x = ss_sg_svs['mean_greater_0_dosage_rank'].mean(), linestyle = 'dashed', color = 'black')\n",
    "    axes[1].hist(rank_deviation, bins = np.arange(0, 0.55, 0.05),\n",
    "                 density = True)\n",
    "\n",
    "    for ax in axes:\n",
    "        sns.despine(ax = ax, bottom = True)\n",
    "        ax.tick_params(axis = 'x', length = 0)\n",
    "\n",
    "    axes[0].set_xlim([-0.04, 1.04])\n",
    "    axes[1].set_xlim([-0.02, 0.52])\n",
    "    axes[1].set_xticks([0, 0.125, 0.25, 0.375, 0.5])\n",
    "\n",
    "    axes[0].set_xlabel('Normalized rank')\n",
    "    axes[1].set_xlabel('Normalized rank deviation')\n",
    "    axes[0].set_ylabel('Density')\n",
    "\n",
    "    # calculate a p value\n",
    "    num_genes = len(ss_sg_svs)\n",
    "    ref_dist = stats.norm(loc = 0.25, scale = np.sqrt(1/(48 * num_genes)))\n",
    "    p = 1 - ref_dist.cdf(rank_deviation.mean())\n",
    "    print(num_genes, sv_effect, 'p =', p, 'mean =', ss_sg_svs['mean_greater_0_dosage_rank'].mean())\n",
    "\n",
    "    fig.suptitle(f'All single-gene, single-sample {sv_effect} SVs', y = 1.1)\n",
    "\n",
    "    # fig.savefig(f'images/single-sample-single-gene-{sv_effect}-effect-on-expression.png', bbox_inches = 'tight')"
   ]
  },
  {
   "cell_type": "markdown",
   "id": "e11d797a-5422-42dd-adf8-44453fc3040a",
   "metadata": {},
   "source": [
    "# Calculate for all coding SVs and all noncoding SVs"
   ]
  },
  {
   "cell_type": "code",
   "execution_count": 14,
   "id": "57dfbd60-9e6b-423c-b114-bcc056c68ee8",
   "metadata": {},
   "outputs": [
    {
     "name": "stdout",
     "output_type": "stream",
     "text": [
      "all_coding 0.09096811007128158 0.4672141207916118 233\n",
      "noncoding 1 0.502915461888094 7940\n",
      "deletions 0.18228448515782913 0.4298061453556175 155\n"
     ]
    }
   ],
   "source": [
    "all_singleton_svs = {}\n",
    "all_results = []\n",
    "for sv_effect in ['all_coding', 'noncoding', 'deletions']:\n",
    "    \n",
    "    if sv_effect in ['coding', 'noncoding']:\n",
    "        all_svs = single_gene_sample_svs.query(f'sv_effect == \"{sv_effect}\"')\n",
    "    elif sv_effect == \"all_coding\":\n",
    "        all_svs = single_gene_sample_svs[single_gene_sample_svs['sv_effect'].isin(['coding', 'unimportant_coding'])]\n",
    "    elif sv_effect == \"deletions\":\n",
    "        all_svs = single_gene_sample_svs.query('genic_relationship == \"PREDICTED_LOF\"')\n",
    "    elif sv_effect == \"utr\":\n",
    "        all_svs = single_gene_sample_svs.query('genic_relationship == \"PREDICTED_UTR\"')\n",
    "\n",
    "    rank_deviation = np.mean(np.abs(0.5 - all_svs['mean_greater_0_dosage_rank']))\n",
    "\n",
    "    num_genes = len(all_svs)\n",
    "    ref_dist = stats.norm(loc = 0.25, scale = np.sqrt(1/(48 * num_genes)))\n",
    "    p_mean = 1 - ref_dist.cdf(rank_deviation)\n",
    "    p_mean = 2 * p_mean if p_mean < 0.5 else 1\n",
    "    rank_mean = np.mean(all_svs['mean_greater_0_dosage_rank'])\n",
    "\n",
    "    print(sv_effect, p_mean, rank_mean, num_genes)\n",
    "    \n",
    "    all_singleton_svs[sv_effect] = all_svs['mean_greater_0_dosage_rank'].values\n",
    "    \n",
    "    all_results.append([sv_effect, rank_deviation, num_genes, p_mean, rank_mean])\n",
    "    \n",
    "all_results = pd.DataFrame(all_results, columns = ['sv_effect', 'rank_deviation', 'num_genes', 'p_mean', 'rank_mean'])\n",
    "all_results['-log10(p_mean)'] = -np.log10(all_results['p_mean'])"
   ]
  },
  {
   "cell_type": "markdown",
   "id": "661df057-e9f2-4e8c-94b7-7515a9d6344c",
   "metadata": {},
   "source": [
    "# Examine categories"
   ]
  },
  {
   "cell_type": "code",
   "execution_count": 15,
   "id": "730883ec-199a-4e07-9492-4d605b4c405a",
   "metadata": {},
   "outputs": [],
   "source": [
    "nbl_categories = framework_results.query('disease == \"neuroblastoma\"')"
   ]
  },
  {
   "cell_type": "markdown",
   "id": "f52d0597-e415-40ca-82d6-51a1a67c0b5d",
   "metadata": {},
   "source": [
    "We now need to calculate significance for ALL these categories."
   ]
  },
  {
   "cell_type": "code",
   "execution_count": 16,
   "id": "8a8c6a1b-7096-43e0-b0ad-88b223504fca",
   "metadata": {},
   "outputs": [],
   "source": [
    "nbl_coding_category_svs = category_svs.query('disease == \"neuroblastoma\"')\n",
    "\n",
    "cat_to_svs = defaultdict(list)\n",
    "for cat, sv in zip(nbl_coding_category_svs['category'], nbl_coding_category_svs['SV']):\n",
    "    cat_to_svs[cat].append(sv)"
   ]
  },
  {
   "cell_type": "code",
   "execution_count": 17,
   "id": "2246453d-26b7-4299-9a17-5b706728354b",
   "metadata": {},
   "outputs": [],
   "source": [
    "p_vals = []\n",
    "for index, row in nbl_categories.iterrows():\n",
    "    cat = row['category_name']\n",
    "    sv_effect = row['sv_category']\n",
    "    \n",
    "    svs_in_category = cat_to_svs[cat]\n",
    "    \n",
    "    category_rna_results = single_gene_sample_svs[(single_gene_sample_svs['name'].isin(svs_in_category))]\n",
    "    \n",
    "    try:\n",
    "        rank_deviation = np.mean(np.abs(0.5 - category_rna_results['mean_greater_0_dosage_rank']))\n",
    "\n",
    "        num_genes = len(category_rna_results)\n",
    "        ref_dist = stats.norm(loc = 0.25, scale = np.sqrt(1/(48 * num_genes)))\n",
    "        p_mean = 1 - ref_dist.cdf(rank_deviation)\n",
    "        p_mean = 2 * p_mean if p_mean < 0.5 else 1\n",
    "        rank_mean = np.mean(category_rna_results['mean_greater_0_dosage_rank'])\n",
    "\n",
    "    except:\n",
    "        p_mean = np.nan\n",
    "        rank_mean = np.nan\n",
    "        num_genes = 0\n",
    "        \n",
    "    # if the category is significant, we bootstrap against the background of all SVs\n",
    "    if row['bonferroni_significant'] and sv_effect == 'coding':\n",
    "        \n",
    "        reference = all_singleton_svs['all_coding']\n",
    "        \n",
    "        bs = np.random.choice(reference, size = (num_genes, 1000000))\n",
    "        \n",
    "        bs_mean_ranks = np.mean(bs, axis = 0)\n",
    "        \n",
    "        p_bs = (bs_mean_ranks < rank_mean).mean()\n",
    "        \n",
    "    else:\n",
    "        p_bs = np.nan\n",
    "        \n",
    "    p_vals.append([sv_effect, cat, num_genes, p_mean, rank_mean, p_bs])\n",
    "    \n",
    "p_vals = pd.DataFrame(p_vals, columns = ['sv_category', 'category_name', 'num_genes_rna', 'p_mean', 'rank_mean', 'p_bs'])"
   ]
  },
  {
   "cell_type": "code",
   "execution_count": null,
   "id": "5e3a8ec9-de35-427e-8858-742c309d1715",
   "metadata": {},
   "outputs": [],
   "source": [
    "nbl_categories = nbl_categories.merge(p_vals, on = ['category_name', 'sv_category'])\n",
    "nbl_categories['-log10(p_mean)'] = -np.log10(nbl_categories['p_mean'])"
   ]
  },
  {
   "cell_type": "markdown",
   "id": "19465219-848f-4675-82f2-7e102345da20",
   "metadata": {},
   "source": [
    "Let's make this figure"
   ]
  },
  {
   "cell_type": "code",
   "execution_count": 19,
   "id": "e9bcb482-5454-4e6a-80dd-457d80689729",
   "metadata": {},
   "outputs": [],
   "source": [
    "palette = {'noncoding': mc.palette['neuroblastoma']['light2'],\n",
    "           'coding': mc.palette['neuroblastoma']['main'],\n",
    "           'all_coding': mc.palette['neuroblastoma']['main'],\n",
    "           'deletions': mc.palette['neuroblastoma']['main']}"
   ]
  },
  {
   "cell_type": "code",
   "execution_count": 20,
   "id": "1739a7ef-dca0-4abb-9cb6-364357842709",
   "metadata": {},
   "outputs": [
    {
     "data": {
      "text/html": [
       "<div>\n",
       "<style scoped>\n",
       "    .dataframe tbody tr th:only-of-type {\n",
       "        vertical-align: middle;\n",
       "    }\n",
       "\n",
       "    .dataframe tbody tr th {\n",
       "        vertical-align: top;\n",
       "    }\n",
       "\n",
       "    .dataframe thead th {\n",
       "        text-align: right;\n",
       "    }\n",
       "</style>\n",
       "<table border=\"1\" class=\"dataframe\">\n",
       "  <thead>\n",
       "    <tr style=\"text-align: right;\">\n",
       "      <th></th>\n",
       "      <th>sv_effect</th>\n",
       "      <th>rank_deviation</th>\n",
       "      <th>num_genes</th>\n",
       "      <th>p_mean</th>\n",
       "      <th>rank_mean</th>\n",
       "      <th>-log10(p_mean)</th>\n",
       "    </tr>\n",
       "  </thead>\n",
       "  <tbody>\n",
       "    <tr>\n",
       "      <th>0</th>\n",
       "      <td>all_coding</td>\n",
       "      <td>0.265983</td>\n",
       "      <td>233</td>\n",
       "      <td>0.090968</td>\n",
       "      <td>0.467214</td>\n",
       "      <td>1.041111</td>\n",
       "    </tr>\n",
       "    <tr>\n",
       "      <th>1</th>\n",
       "      <td>noncoding</td>\n",
       "      <td>0.244063</td>\n",
       "      <td>7940</td>\n",
       "      <td>1.000000</td>\n",
       "      <td>0.502915</td>\n",
       "      <td>-0.000000</td>\n",
       "    </tr>\n",
       "    <tr>\n",
       "      <th>2</th>\n",
       "      <td>deletions</td>\n",
       "      <td>0.265463</td>\n",
       "      <td>155</td>\n",
       "      <td>0.182284</td>\n",
       "      <td>0.429806</td>\n",
       "      <td>0.739250</td>\n",
       "    </tr>\n",
       "  </tbody>\n",
       "</table>\n",
       "</div>"
      ],
      "text/plain": [
       "    sv_effect  rank_deviation  num_genes    p_mean  rank_mean  -log10(p_mean)\n",
       "0  all_coding        0.265983        233  0.090968   0.467214        1.041111\n",
       "1   noncoding        0.244063       7940  1.000000   0.502915       -0.000000\n",
       "2   deletions        0.265463        155  0.182284   0.429806        0.739250"
      ]
     },
     "execution_count": 20,
     "metadata": {},
     "output_type": "execute_result"
    }
   ],
   "source": [
    "all_results"
   ]
  },
  {
   "cell_type": "code",
   "execution_count": 21,
   "id": "8dbcc5b9-f1fb-442e-9d2a-5e77cb0653f6",
   "metadata": {},
   "outputs": [
    {
     "data": {
      "image/png": "[encoded data removed]",
      "text/plain": [
       "<Figure size 100x140 with 1 Axes>"
      ]
     },
     "metadata": {},
     "output_type": "display_data"
    }
   ],
   "source": [
    "plotted_categories = nbl_categories.query('bonferroni_significant')\n",
    "\n",
    "fig, ax = plt.subplots(1, figsize = (1, 1.4))\n",
    "sns.scatterplot(x = 'rank_mean', y = '-log10(p_mean)', data = plotted_categories.query('sv_category == \"coding\"'), \n",
    "                hue = 'sv_category', ec = None, s = 8, palette = palette)\n",
    "ax.set_xlabel('Rank mean\\n(null = 0.50*)')\n",
    "ax.set_ylabel('-log10(expression-p)')\n",
    "sns.despine(ax = ax)\n",
    "ax.set_xlim([0, 1])\n",
    "# ax.axvline(x = 0.5, linewidth = 0.50, linestyle = 'dashed', color = 'darkgrey', zorder = -2)\n",
    "ax.axhline(y = -np.log10(0.05), linestyle = 'dashed', color = 'darkgrey', linewidth = 0.5)\n",
    "\n",
    "ax.set_xlim([0.25, 0.75])\n",
    "ax.set_xticks([0.25, 0.50, 0.75])\n",
    "ax.set_xticklabels(['0.25', '0.50*', '0.75'])\n",
    "ax.legend(bbox_to_anchor = (1, 0.5))\n",
    "ax.set_ylim([-0.1, 3])\n",
    "ax.spines['left'].set_bounds([0, 3])\n",
    "\n",
    "# plot the ALL \"categories\"\n",
    "sns.scatterplot(x = 'rank_mean', y = '-log10(p_mean)', data = all_results, \n",
    "                hue = 'sv_effect', ec = 'black', linewidths = 10, palette = palette)\n",
    "\n",
    "\n",
    "ax.set_yticks([0, 1, -np.log10(0.05), 2, 3])\n",
    "ax.set_yticklabels(['1', '0.1', '0.05', '0.01', '0.001'])\n",
    "\n",
    "# draw the grey line\n",
    "top = plotted_categories.query('category_name == \"DEL.SINGLETON.PREDICTED_LOF_or_PREDICTED_PARTIAL_EXON_DUP.ANY.ANY.protein_coding\"').iloc[0]\n",
    "end = all_results.query('sv_effect == \"all_coding\"').iloc[0]\n",
    "\n",
    "x_path = [top['rank_mean'], top['rank_mean'], end['rank_mean'], end['rank_mean']]\n",
    "y_path = [top['-log10(p_mean)'] + 0.10, top['-log10(p_mean)'] + 0.2, top['-log10(p_mean)'] + 0.2, end['-log10(p_mean)'] + 0.15]\n",
    "\n",
    "ax.plot(x_path, y_path, color = 'darkgrey', linewidth = 0.5)\n",
    "\n",
    "labels = ['Coding', 'Noncoding', 'Coding deletions']\n",
    "for index, row in all_results.iterrows():\n",
    "    x = row['rank_mean']\n",
    "    y = row['-log10(p_mean)']\n",
    "    if index == 1:\n",
    "        y += 0.15\n",
    "        x -= 0.02\n",
    "    ax.text(s = labels[index], x = x + 0.06, y = y, ha = 'left', va = 'center')\n",
    "\n",
    "ax.legend().remove()\n",
    "\n",
    "fig.savefig('images/cwas-categories-expression-significance.pdf', bbox_inches = 'tight')"
   ]
  },
  {
   "cell_type": "code",
   "execution_count": 22,
   "id": "14f4d316-3f6f-4f03-99e9-2f55958379da",
   "metadata": {},
   "outputs": [
    {
     "name": "stderr",
     "output_type": "stream",
     "text": [
      "/Users/jettcrowdis/opt/anaconda3/envs/pediatric-germline-svs-3.7.13/lib/python3.7/site-packages/ipykernel_launcher.py:10: UserWarning: FixedFormatter should only be used together with FixedLocator\n",
      "  # Remove the CWD from sys.path while we load stuff.\n"
     ]
    },
    {
     "data": {
      "image/png": "[encoded data removed]",
      "text/plain": [
       "<Figure size 150x240 with 1 Axes>"
      ]
     },
     "metadata": {},
     "output_type": "display_data"
    }
   ],
   "source": [
    "fig, ax = plt.subplots(1, figsize = (1.5, 2.4))\n",
    "sns.scatterplot(x = 'rank_mean', y = '-log10(p_mean)', data = nbl_categories.query('negative_log10_p_value > 1.3 & sv_category == \"coding\"'), \n",
    "                hue = 'sv_category', ec = None, s = 8, palette = palette)\n",
    "ax.set_xlabel('Normalized rank mean\\n(null = 0.50*)')\n",
    "ax.set_ylabel('-log10(expression-p)')\n",
    "sns.despine(ax = ax)\n",
    "ax.set_xlim([0, 1])\n",
    "ax.axhline(y = -np.log10(0.05), linestyle = 'dashed', color = 'darkgrey', linewidth = 0.5)\n",
    "\n",
    "ax.set_xticklabels(['0.0', '0.25', '0.50*', '0.75', '1.00'])\n",
    "ax.legend(bbox_to_anchor = (1, 0.5))\n",
    "ax.set_xlim([0, 1])\n",
    "\n",
    "ax.spines['left'].set_bounds([0, 3.5])\n",
    "\n",
    "fig.savefig('images/cwas-categories-expression-all-coding-significance.png', bbox_inches = 'tight')"
   ]
  },
  {
   "cell_type": "markdown",
   "id": "281ff26d-d48f-45b5-bf38-e287586acf27",
   "metadata": {},
   "source": [
    "# Try noncoding"
   ]
  },
  {
   "cell_type": "code",
   "execution_count": 23,
   "id": "fc07378f-52ba-4627-837c-9176c48ff06b",
   "metadata": {},
   "outputs": [],
   "source": [
    "noncoding = nbl_categories.query('sv_category == \"noncoding\" & disease == \"neuroblastoma\" & p_mean < 0.10')"
   ]
  },
  {
   "cell_type": "code",
   "execution_count": 24,
   "id": "065a60a1-d099-4905-802b-cc9f31ced029",
   "metadata": {},
   "outputs": [
    {
     "data": {
      "image/png": "[encoded data removed]",
      "text/plain": [
       "<Figure size 100x140 with 1 Axes>"
      ]
     },
     "metadata": {},
     "output_type": "display_data"
    }
   ],
   "source": [
    "plotted_categories = nbl_categories.query('bonferroni_significant')\n",
    "\n",
    "fig, ax = plt.subplots(1, figsize = (1, 1.4))\n",
    "sns.scatterplot(x = 'rank_mean', y = '-log10(p_mean)', data = plotted_categories.query('sv_category == \"noncoding\"'), \n",
    "                hue = 'sv_category', ec = None, s = 8, palette = palette)\n",
    "ax.set_xlabel('Rank mean\\n(null = 0.50*)')\n",
    "ax.set_ylabel('-log10(expression-p)')\n",
    "sns.despine(ax = ax)\n",
    "ax.set_xlim([0, 1])\n",
    "# ax.axvline(x = 0.5, linewidth = 0.50, linestyle = 'dashed', color = 'darkgrey', zorder = -2)\n",
    "ax.axhline(y = -np.log10(0.05), linestyle = 'dashed', color = 'darkgrey', linewidth = 0.5)\n",
    "\n",
    "ax.set_xlim([0.25, 0.75])\n",
    "ax.set_xticks([0.25, 0.50, 0.75])\n",
    "ax.set_xticklabels(['0.25', '0.50*', '0.75'])\n",
    "ax.legend(bbox_to_anchor = (1, 0.5))\n",
    "ax.set_ylim([-0.1, 2])\n",
    "ax.spines['left'].set_bounds([0, 2])\n",
    "\n",
    "# plot the ALL \"categories\"\n",
    "sns.scatterplot(x = 'rank_mean', y = '-log10(p_mean)', data = all_results, \n",
    "                hue = 'sv_effect', ec = 'black', linewidths = 10, palette = palette)\n",
    "\n",
    "\n",
    "ax.set_yticks([0, 1, -np.log10(0.05), 2])\n",
    "ax.set_yticklabels(['1', '0.1', '0.05', '0.01'])\n",
    "\n",
    "labels = ['Coding', 'Noncoding', 'Coding deletions']\n",
    "for index, row in all_results.iterrows():\n",
    "    x = row['rank_mean']\n",
    "    y = row['-log10(p_mean)']\n",
    "    if index == 1:\n",
    "        y += 0.15\n",
    "        x -= 0.02\n",
    "    ax.text(s = labels[index], x = x + 0.06, y = y, ha = 'left', va = 'center')\n",
    "\n",
    "ax.legend().remove()\n",
    "\n",
    "# fig.savefig('images/cwas-categories-expression-significance.pdf', bbox_inches = 'tight')"
   ]
  },
  {
   "cell_type": "markdown",
   "id": "98a4dd0f-a514-4bf5-bccc-0b599a438259",
   "metadata": {},
   "source": [
    "# Make a heatmap\n",
    "\n",
    "Alright, our last part of figure 4. We'll visualize one of the categories as a heatmap."
   ]
  },
  {
   "cell_type": "code",
   "execution_count": 28,
   "id": "c3de44d5-9647-41c0-ab5d-8cf6d59999da",
   "metadata": {},
   "outputs": [],
   "source": [
    "heatmap_cat = 'DEL.SINGLETON.PREDICTED_LOF_or_PREDICTED_PARTIAL_EXON_DUP.ANY.ANY.protein_coding'\n",
    "cat_svs = cat_to_svs[heatmap_cat]"
   ]
  },
  {
   "cell_type": "code",
   "execution_count": 29,
   "id": "c8117006-102c-486f-a234-6f91958eb9bc",
   "metadata": {},
   "outputs": [],
   "source": [
    "heatmap_rna_results = single_gene_sample_svs[single_gene_sample_svs['name'].isin(cat_svs)].sort_values(by = 'mean_greater_0_dosage_rank').reset_index()\n",
    "\n",
    "genes = heatmap_rna_results['gene'].tolist()\n",
    "samples = list(dosages.columns)"
   ]
  },
  {
   "cell_type": "code",
   "execution_count": 30,
   "id": "49af1ebf-1629-4aaf-9b44-5fc7b256c2b5",
   "metadata": {},
   "outputs": [],
   "source": [
    "# unfortunately, we actually need to reorder these results. We do this such that the RANK is controlled and monotonically increasing\n",
    "sample_ordering_results = []\n",
    "for i, row in heatmap_rna_results.iterrows():\n",
    "    sv = row['name']\n",
    "    gene = row['gene']\n",
    "    sv_dosages = dosages.loc[sv]\n",
    "    samples_with_sv = list(sv_dosages[sv_dosages > 0].index)\n",
    "\n",
    "    # only singleton SVs here\n",
    "    assert len(samples_with_sv) == 1\n",
    "    \n",
    "    samp_with_sv = samples_with_sv[0]\n",
    "    \n",
    "    expression = rna_data.loc[gene, samples].sort_values()\n",
    "    s_idx = expression.index.tolist().index(samp_with_sv)\n",
    "    \n",
    "    sample_ordering_results.append([samp_with_sv, gene, s_idx])\n",
    "\n",
    "sample_ordering_results = pd.DataFrame(sample_ordering_results, columns = ['sample', 'gene', 'rank']).sort_values(by = 'rank').reset_index(drop = True)\n",
    "gene_order = sample_ordering_results['gene'].tolist()"
   ]
  },
  {
   "cell_type": "markdown",
   "id": "d9f7b657-c5e5-4c07-8ff7-2d48619930ff",
   "metadata": {},
   "source": [
    "Let's do it."
   ]
  },
  {
   "cell_type": "code",
   "execution_count": 31,
   "id": "789033e6-ff28-4756-a2cf-a87806f57da5",
   "metadata": {},
   "outputs": [],
   "source": [
    "import matplotlib as mpl"
   ]
  },
  {
   "cell_type": "code",
   "execution_count": 32,
   "id": "bb82fbf4-eec3-4bfd-87b5-90f7f4fa4e49",
   "metadata": {},
   "outputs": [],
   "source": [
    "cmap = mpl.colors.LinearSegmentedColormap.from_list('neuroblastoma', ['white', mc.palette['neuroblastoma'][\"dark1\"]], N = 256)"
   ]
  },
  {
   "cell_type": "code",
   "execution_count": 33,
   "id": "ccaceae7-a1c7-47e1-9c76-42dd6b0fa891",
   "metadata": {},
   "outputs": [],
   "source": [
    "cmap = mpl.colors.LinearSegmentedColormap.from_list('custom', ['white', mc.palette['neuroblastoma']['light2'], mc.palette['neuroblastoma']['dark1']], N = 256)"
   ]
  },
  {
   "cell_type": "code",
   "execution_count": 34,
   "id": "2acc9401-3be5-4902-80e3-83712c899ec1",
   "metadata": {},
   "outputs": [
    {
     "data": {
      "image/png": "[encoded data removed]",
      "text/plain": [
       "<Figure size 200x250 with 2 Axes>"
      ]
     },
     "metadata": {},
     "output_type": "display_data"
    }
   ],
   "source": [
    "heatmap_exp = rna_data.loc[gene_order, samples]\n",
    "heatmap_cols = heatmap_exp.columns\n",
    "\n",
    "heatmap_exp_values = heatmap_exp.values\n",
    "\n",
    "# we now need to scramble the rows by sorting by expression\n",
    "ordered_indices = np.argsort(heatmap_exp_values, axis = 1)\n",
    "heatmap_exp_values = np.sort(heatmap_exp_values, axis = 1)\n",
    "\n",
    "# create a mask for 0 expression\n",
    "mask = (heatmap_exp_values == 0)\n",
    "masked_data = np.where(mask, heatmap_exp_values, np.nan)\n",
    "\n",
    "# convert heatmap data to zscore\n",
    "heatmap_exp_values = stats.zscore(heatmap_exp_values, axis = 1)\n",
    "\n",
    "fig = plt.figure(figsize=(2, 2.5))# 2.8))\n",
    "gs = fig.add_gridspec(1)\n",
    "\n",
    "# plot the heatmap\n",
    "heatmap_ax = fig.add_subplot(gs[0])\n",
    "\n",
    "norm = mpl.colors.Normalize(vmin=-1, vmax=2.5)\n",
    "sns.heatmap(heatmap_exp_values, cmap=cmap, norm = norm, \n",
    "            ax = heatmap_ax, cbar_kws={\"orientation\": \"horizontal\", \"pad\":0.02, 'shrink': 0.2})\n",
    "\n",
    "# label the colorbar\n",
    "cbar = heatmap_ax.collections[0].colorbar\n",
    "cbar.set_label('expression z-score')\n",
    "\n",
    "# sns.heatmap(masked_data, cmap=['darkgrey'], annot=False, cbar=False, mask=~mask, \n",
    "#                 ax = heatmap_ax, label = '0 expression')\n",
    "\n",
    "example_genes = [0, 3, 5, 7, 9, 13, 15, 20, 24, 26, 31, 35]\n",
    "heatmap_ax.set_yticks(np.array(example_genes) + 0.6)\n",
    "heatmap_ax.set_yticklabels(np.array(gene_order)[example_genes], rotation = 0, ha = 'right', va = 'center',\n",
    "                           fontstyle = 'italic', fontsize = 6);\n",
    "\n",
    "# actually going to ignore the y axis for now\n",
    "aesthetics.strip_axis(ax = heatmap_ax)\n",
    "heatmap_ax.tick_params(axis = 'y', length = 0)\n",
    "\n",
    "# label the samples with SVs\n",
    "sv_plot = []\n",
    "for i, row in sample_ordering_results.iterrows():\n",
    "    rank = row['rank']\n",
    "    # heatmap_ax.scatter(x = rank + 0.5, y = i + 0.5, color = 'black', s = 1, label = label_s)\n",
    "    sv_plot.append([rank + 0.5, i + 0.5])\n",
    "    \n",
    "    \n",
    "sv_plot = np.array(sv_plot)\n",
    "heatmap_ax.plot(sv_plot[:, 0], sv_plot[:, 1], color = mc.palette['neuroblastoma'][\"main\"], zorder = 2)\n",
    "\n",
    "heatmap_ax.plot([0.5, 88.5], [0.5, 35.5], \n",
    "                color = 'darkgrey', linewidth = 1, zorder = 1)\n",
    "\n",
    "fig.savefig('images/expression-heatmap.pdf', bbox_inches = 'tight')"
   ]
  },
  {
   "cell_type": "code",
   "execution_count": 427,
   "id": "5a920147-bd72-4ec1-81ea-bb2860adb7a0",
   "metadata": {},
   "outputs": [
    {
     "data": {
      "image/png": "[encoded data removed]",
      "text/plain": [
       "<Figure size 50x50 with 1 Axes>"
      ]
     },
     "metadata": {},
     "output_type": "display_data"
    }
   ],
   "source": [
    "# make a little legend\n",
    "fig, ax = plt.subplots(1, figsize = (0.5, 0.5))\n",
    "ax.set_ylim([0, 36])\n",
    "ax.set_xlim([0, 89])\n",
    "aesthetics.strip_axis(ax)\n",
    "\n",
    "ax.plot(sv_plot[:, 0], sv_plot[:, 1], color = mc.palette['neuroblastoma'][\"main\"], zorder = 2)\n",
    "\n",
    "ax.plot([0.5, 88.5], [0.5, 35.5], \n",
    "         color = 'darkgrey', linewidth = 1, zorder = 1)\n",
    "fig.savefig('images/expression-heatmap-legend.pdf', bbox_inches = 'tight')"
   ]
  },
  {
   "cell_type": "markdown",
   "id": "786f2df4-a331-42d3-9ed7-fefffd72c1d9",
   "metadata": {},
   "source": [
    "# Supplements"
   ]
  },
  {
   "cell_type": "code",
   "execution_count": 69,
   "id": "6ac74063-c421-4e4c-94c2-e7ad949eb805",
   "metadata": {},
   "outputs": [],
   "source": [
    "heatmap_rna_results = single_gene_sample_svs.query('sv_effect == \"coding\"').sort_values(by = 'mean_greater_0_dosage_rank').reset_index()\n",
    "\n",
    "genes = heatmap_rna_results['gene'].tolist()\n",
    "samples = list(dosages.columns)"
   ]
  },
  {
   "cell_type": "code",
   "execution_count": 70,
   "id": "0ea0d065-2b8f-4472-817b-1208a1170d37",
   "metadata": {},
   "outputs": [],
   "source": [
    "# unfortunately, we actually need to reorder these results. We do this such that the RANK is controlled and monotonically increasing\n",
    "sample_ordering_results = []\n",
    "for i, row in heatmap_rna_results.iterrows():\n",
    "    sv = row['name']\n",
    "    gene = row['gene']\n",
    "    sv_dosages = dosages.loc[sv]\n",
    "    samples_with_sv = list(sv_dosages[sv_dosages > 0].index)\n",
    "\n",
    "    # only singleton SVs here\n",
    "    assert len(samples_with_sv) == 1\n",
    "    \n",
    "    samp_with_sv = samples_with_sv[0]\n",
    "    \n",
    "    expression = rna_data.loc[gene, samples].sort_values()\n",
    "    s_idx = expression.index.tolist().index(samp_with_sv)\n",
    "    \n",
    "    sample_ordering_results.append([samp_with_sv, gene, s_idx])\n",
    "\n",
    "sample_ordering_results = pd.DataFrame(sample_ordering_results, columns = ['sample', 'gene', 'rank']).sort_values(by = 'rank').reset_index(drop = True)\n",
    "gene_order = sample_ordering_results['gene'].tolist()"
   ]
  },
  {
   "cell_type": "markdown",
   "id": "29188ce5-23d9-42a9-a5c1-37cbf47f5d95",
   "metadata": {},
   "source": [
    "Let's do it."
   ]
  },
  {
   "cell_type": "code",
   "execution_count": 71,
   "id": "5408fe60-ab81-4702-8547-ac71196e9b1c",
   "metadata": {},
   "outputs": [],
   "source": [
    "import matplotlib as mpl"
   ]
  },
  {
   "cell_type": "code",
   "execution_count": 72,
   "id": "47b1ea4b-5aa5-4153-a17b-f595994908c3",
   "metadata": {},
   "outputs": [],
   "source": [
    "cmap = mpl.colors.LinearSegmentedColormap.from_list('custom', ['white', mc.palette['neuroblastoma']['light2'], mc.palette['neuroblastoma']['dark1']], N = 256)"
   ]
  },
  {
   "cell_type": "code",
   "execution_count": 73,
   "id": "217bd517-e519-4d0f-b904-2af2639ba25b",
   "metadata": {},
   "outputs": [
    {
     "data": {
      "image/png": "[encoded data removed]",
      "text/plain": [
       "<Figure size 200x250 with 2 Axes>"
      ]
     },
     "metadata": {},
     "output_type": "display_data"
    }
   ],
   "source": [
    "heatmap_exp = rna_data.loc[gene_order, samples]\n",
    "heatmap_cols = heatmap_exp.columns\n",
    "\n",
    "heatmap_exp_values = heatmap_exp.values\n",
    "\n",
    "# we now need to scramble the rows by sorting by expression\n",
    "ordered_indices = np.argsort(heatmap_exp_values, axis = 1)\n",
    "heatmap_exp_values = np.sort(heatmap_exp_values, axis = 1)\n",
    "\n",
    "# create a mask for 0 expression\n",
    "mask = (heatmap_exp_values == 0)\n",
    "masked_data = np.where(mask, heatmap_exp_values, np.nan)\n",
    "\n",
    "# convert heatmap data to zscore\n",
    "heatmap_exp_values = stats.zscore(heatmap_exp_values, axis = 1)\n",
    "\n",
    "fig = plt.figure(figsize=(2, 2.5))# 2.8))\n",
    "gs = fig.add_gridspec(1)\n",
    "\n",
    "# plot the heatmap\n",
    "heatmap_ax = fig.add_subplot(gs[0])\n",
    "\n",
    "norm = mpl.colors.Normalize(vmin=-1, vmax=2.5)\n",
    "sns.heatmap(heatmap_exp_values, cmap=cmap, norm = norm, \n",
    "            ax = heatmap_ax, cbar_kws={\"orientation\": \"horizontal\", \"pad\":0.02, 'shrink': 0.2})\n",
    "\n",
    "# label the colorbar\n",
    "cbar = heatmap_ax.collections[0].colorbar\n",
    "cbar.set_label('expression z-score')\n",
    "\n",
    "example_genes = [0, 3, 5, 7, 9, 13, 15, 20, 24, 26, 31, 35]\n",
    "heatmap_ax.set_yticks(np.array(example_genes) + 0.6)\n",
    "heatmap_ax.set_yticklabels(np.array(gene_order)[example_genes], rotation = 0, ha = 'right', va = 'center',\n",
    "                           fontstyle = 'italic', fontsize = 6);\n",
    "\n",
    "# actually going to ignore the y axis for now\n",
    "aesthetics.strip_axis(ax = heatmap_ax)\n",
    "heatmap_ax.tick_params(axis = 'y', length = 0)\n",
    "\n",
    "# label the samples with SVs\n",
    "sv_plot = []\n",
    "for i, row in sample_ordering_results.iterrows():\n",
    "    rank = row['rank']\n",
    "    # heatmap_ax.scatter(x = rank + 0.5, y = i + 0.5, color = 'black', s = 1, label = label_s)\n",
    "    sv_plot.append([rank + 0.5, i + 0.5])\n",
    "    \n",
    "    \n",
    "sv_plot = np.array(sv_plot)\n",
    "heatmap_ax.plot(sv_plot[:, 0], sv_plot[:, 1], color = mc.palette['neuroblastoma'][\"main\"], zorder = 2)\n",
    "\n",
    "heatmap_ax.plot([0.5, 88.5], [0.5, len(heatmap_rna_results) - 0.5], \n",
    "                color = 'darkgrey', linewidth = 1, zorder = 1)\n",
    "\n",
    "fig.savefig('images/all-coding-SVs-expression-heatmap.pdf', bbox_inches = 'tight')"
   ]
  },
  {
   "cell_type": "code",
   "execution_count": 75,
   "id": "07ba83c2-c52b-48bb-bc34-33b21da36e67",
   "metadata": {},
   "outputs": [],
   "source": [
    "# for cohort in rna_dict.keys():\n",
    "#     for sv_effect in ['coding', 'noncoding']:\n",
    "\n",
    "#         fig, axes = plt.subplots(2, 2, figsize = (8, 4), gridspec_kw = {'hspace': 0.8, 'wspace': 0.2})\n",
    "        \n",
    "#         fig.suptitle(f'{cohort} {sv_effect}', y = 1.1)\n",
    "\n",
    "#         gr_cols = genic_rel_cols[sv_effect]\n",
    "#         ss_sg_svs = single_gene_sample_svs.query(f'sv_effect == \"{sv_effect}\"')\n",
    "#         ss_sg_svs = ss_sg_svs[ss_sg_svs['cohort'] == cohort]\n",
    "\n",
    "#         for i, svtype in enumerate(gr_cols):\n",
    "\n",
    "#             ax = axes.flat[i]\n",
    "#             sv_subset = ss_sg_svs[ss_sg_svs['genic_relationship'] == svtype]\n",
    "#             num_genes = len(sv_subset)\n",
    "\n",
    "#             ax.hist(sv_subset['mean_greater_0_dosage_rank'],\n",
    "#                     bins = np.arange(0, 1.1, 0.1), \n",
    "#                     label = svtype)\n",
    "\n",
    "#             sns.despine(ax = ax, bottom = True)\n",
    "#             ax.tick_params(axis = 'x', length = 0)\n",
    "#             ax.set_title(svtype + f' (n = {num_genes})', fontsize = 10, y = 1.1)\n",
    "\n",
    "#             num_genes = len(sv_subset)\n",
    "#             rank_deviation = np.abs(0.5 - sv_subset['mean_greater_0_dosage_rank'])\n",
    "#             ref_dist = stats.norm(loc = 0.25, scale = np.sqrt(1/(48 * num_genes)))\n",
    "#             p = 1 - ref_dist.cdf(rank_deviation.mean())\n",
    "#             ax.text(s = \" p = {:.2g}\".format(p), x = 0.5, y = 1.1, fontsize = 10,\n",
    "#                     ha = 'center', va = 'top', transform = ax.transAxes)\n",
    "#             ax.set_xlabel('Normalized rank')\n",
    "\n",
    "#             mean = np.mean(sv_subset['mean_greater_0_dosage_rank'])\n",
    "#             ax.axvline(x = mean, color = 'black', linestyle = 'dashed')"
   ]
  },
  {
   "cell_type": "code",
   "execution_count": 76,
   "id": "c0dbfe17-664d-4954-a5ab-0afd0a7664fc",
   "metadata": {},
   "outputs": [
    {
     "data": {
      "text/plain": [
       "PREDICTED_LOF                    155\n",
       "PREDICTED_COPY_GAIN               18\n",
       "PREDICTED_INTRAGENIC_EXON_DUP     14\n",
       "PREDICTED_PARTIAL_EXON_DUP         9\n",
       "Name: genic_relationship, dtype: int64"
      ]
     },
     "execution_count": 76,
     "metadata": {},
     "output_type": "execute_result"
    }
   ],
   "source": [
    "heatmap_rna_results['genic_relationship'].value_counts()"
   ]
  },
  {
   "cell_type": "code",
   "execution_count": 102,
   "id": "6f7c591b-27e1-4d10-a9b9-35605397225b",
   "metadata": {},
   "outputs": [
    {
     "data": {
      "image/png": "[encoded data removed]",
      "text/plain": [
       "<Figure size 400x200 with 4 Axes>"
      ]
     },
     "metadata": {},
     "output_type": "display_data"
    }
   ],
   "source": [
    "fig, axes = plt.subplots(2, 2, figsize = (4, 2), gridspec_kw = {'hspace': 1.2, 'wspace': 0.4})\n",
    "\n",
    "labels = ['Loss-of-function', 'Copy gain', 'Intragenic exon duplication', 'Partial exon duplication']\n",
    "for i, sv_effect in enumerate(['PREDICTED_LOF', 'PREDICTED_COPY_GAIN', 'PREDICTED_INTRAGENIC_EXON_DUP', 'PREDICTED_PARTIAL_EXON_DUP']):\n",
    "    \n",
    "    ax = axes.flat[i]\n",
    "    \n",
    "    sv_subset = heatmap_rna_results.query(f'genic_relationship == \"{sv_effect}\"')\n",
    "    num_genes = len(sv_subset)\n",
    "    \n",
    "    ax.hist(sv_subset['mean_greater_0_dosage_rank'],\n",
    "            bins = np.arange(0, 1.1, 0.1), color = mc.palette['neuroblastoma']['main'], density = True)\n",
    "    \n",
    "    sns.despine(ax = ax, bottom = True)\n",
    "    ax.tick_params(axis = 'x', length = 0)\n",
    "    ax.set_title(labels[i] + f' (n = {num_genes})', fontsize = 6, y = 1.05)\n",
    "    \n",
    "    rank_deviation = np.abs(0.5 - sv_subset['mean_greater_0_dosage_rank'])\n",
    "    ref_dist = stats.norm(loc = 0.25, scale = np.sqrt(1/(48 * num_genes)))\n",
    "    p = 1 - ref_dist.cdf(rank_deviation.mean())\n",
    "    ax.text(s = \" p = {:.2g}\".format(p), x = 0.5, y = 1.15, fontsize = 6,\n",
    "            ha = 'center', va = 'top', transform = ax.transAxes)\n",
    "    ax.set_xlabel('Normalized rank')\n",
    "\n",
    "    mean = np.mean(sv_subset['mean_greater_0_dosage_rank'])\n",
    "    ax.axvline(x = mean, color = 'black', linestyle = 'dashed', linewidth = 0.5)\n",
    "    ax.set_ylabel('Density')\n",
    "    \n",
    "fig.savefig('images/effect-on-expression-by-sv-effect.pdf', bbox_inches = 'tight')"
   ]
  },
  {
   "cell_type": "code",
   "execution_count": null,
   "id": "0b61dab9-b0b9-4115-83a2-032ec671952b",
   "metadata": {},
   "outputs": [],
   "source": []
  }
 ],
 "metadata": {
  "kernelspec": {
   "display_name": "pediatric-germline-svs-3.7.13",
   "language": "python",
   "name": "pediatric-germline-svs-3.7.13"
  },
  "language_info": {
   "codemirror_mode": {
    "name": "ipython",
    "version": 3
   },
   "file_extension": ".py",
   "mimetype": "text/x-python",
   "name": "python",
   "nbconvert_exporter": "python",
   "pygments_lexer": "ipython3",
   "version": "3.7.13"
  }
 },
 "nbformat": 4,
 "nbformat_minor": 5
}
